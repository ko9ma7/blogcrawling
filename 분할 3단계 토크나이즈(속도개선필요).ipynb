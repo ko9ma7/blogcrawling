{
 "cells": [
  {
   "cell_type": "markdown",
   "metadata": {},
   "source": [
    "# issue\n",
    "* tokenize 작업의 속도가 굉장히 느림 개선방법이 있다면 고민해봐야함 (작업내용 1차적으로 보존)\n",
    "* 2만개까지는 heap meomory 에러가 발생하지 않았음 따라서 2만개 이상일때는 분할작업진행"
   ]
  },
  {
   "cell_type": "code",
   "execution_count": 1,
   "metadata": {
    "ExecuteTime": {
     "end_time": "2020-06-08T17:46:29.900056Z",
     "start_time": "2020-06-08T17:46:27.192446Z"
    },
    "code_folding": [],
    "scrolled": false
   },
   "outputs": [
    {
     "name": "stderr",
     "output_type": "stream",
     "text": [
      "C:\\Users\\User\\Anaconda3\\lib\\site-packages\\jpype\\_core.py:217: UserWarning: \n",
      "-------------------------------------------------------------------------------\n",
      "Deprecated: convertStrings was not specified when starting the JVM. The default\n",
      "behavior in JPype will be False starting in JPype 0.8. The recommended setting\n",
      "for new code is convertStrings=False.  The legacy value of True was assumed for\n",
      "this session. If you are a user of an application that reported this warning,\n",
      "please file a ticket with the developer.\n",
      "-------------------------------------------------------------------------------\n",
      "\n",
      "  \"\"\")\n"
     ]
    },
    {
     "data": {
      "text/html": [
       "<style>.container {width:100% !important; }</style>"
      ],
      "text/plain": [
       "<IPython.core.display.HTML object>"
      ]
     },
     "metadata": {},
     "output_type": "display_data"
    }
   ],
   "source": [
    "# import\n",
    "import seaborn as sns\n",
    "import matplotlib.pyplot as plt\n",
    "\n",
    "from tqdm import tqdm,tqdm_notebook  # 진행과정 시각화\n",
    "tqdm.pandas() #apply사용\n",
    "from datetime import timedelta  # 시간날짜\n",
    "from apyori import apriori  # 연관분석\n",
    "\n",
    "import re\n",
    "import datetime\n",
    "from datetime import timedelta\n",
    "import pandas as pd\n",
    "import numpy as np\n",
    "import gc\n",
    "import os\n",
    "import math \n",
    "\n",
    "import requests\n",
    "import urllib.request\n",
    "import urllib.error\n",
    "import urllib.parse\n",
    "from bs4 import BeautifulSoup  # 크롤링\n",
    "\n",
    "import wordcloud\n",
    "from PIL import Image\n",
    "import random\n",
    "\n",
    "import konlpy\n",
    "from konlpy.tag import Komoran,Okt,Kkma,Twitter  # 자연어처리\n",
    "# from eunjeon import Mecab #은전한닢\n",
    "okt = Okt(max_heap_size=5120)\n",
    "# mecab = Mecab()\n",
    "komoran = Komoran(userdic='user_dictionary.txt')\n",
    "\n",
    "#한글깨짐방지\n",
    "plt.rc('font',family='Malgun Gothic')\n",
    "plt.rcParams['axes.unicode_minus'] = False\n",
    "\n",
    "from IPython.core.display import display, HTML\n",
    "display(HTML('<style>.container {width:100% !important; }</style>'))"
   ]
  },
  {
   "cell_type": "code",
   "execution_count": 2,
   "metadata": {
    "ExecuteTime": {
     "end_time": "2020-06-08T17:46:29.910059Z",
     "start_time": "2020-06-08T17:46:29.901057Z"
    },
    "code_folding": []
   },
   "outputs": [],
   "source": [
    "def tokenized(dataframe, keyword, stopword, batch_size = 15000):\n",
    "    '''\n",
    "    okt : 형태소분석기 무엇사용?\n",
    "    dataframe : 분석할 df\n",
    "    keyword : sw에 추가하기 위함\n",
    "    '''\n",
    "\n",
    "    # stopword에 검색어 추가\n",
    "    stopword.append(keyword.split(' ')[0])\n",
    "    \n",
    "    start = 0\n",
    "    end = len(dataframe)\n",
    "    \n",
    "    print(keyword)\n",
    "    if end<=batch_size:    \n",
    "        # tqdm.pandas(desc = '토큰화')\n",
    "        token_df = dataframe.iloc[start:end]['full_text'].progress_apply(lambda x: okt.pos(x, norm=True, stem=True))\n",
    "        token_df_e = token_df.explode()\n",
    "        # tqdm.pandas(desc = '단어추출')\n",
    "        token_noun = token_df_e.apply(lambda x: x[0] if x[1] == 'Noun' else np.nan).dropna()\n",
    "        token_adj = token_df_e.apply(lambda x: x[0] if x[1] == 'Adjective' else np.nan).dropna()\n",
    "\n",
    "        # 클리닝\n",
    "        # tqdm.pandas(desc = '클리닝')\n",
    "        token_noun = token_noun[token_noun.apply(lambda word: (len(word) > 1) & (word not in sw))]\n",
    "        token_adj = token_adj[token_adj.apply(lambda word: (len(word) > 1) & (word not in sw))]\n",
    "        \n",
    "        #저장\n",
    "        main_df = pd.merge(dataframe, token_noun.groupby(level=0).agg(list).rename(\n",
    "            'Noun'), how='left', left_index=True, right_index=True)\n",
    "        main_df = pd.merge(main_df, token_adj.groupby(level=0).agg(list).rename(\n",
    "            'Adjective'), how='left', left_index=True, right_index=True)\n",
    "        main_df.to_csv(f'./output/token/{keyword}_{start}~{end}.csv')\n",
    "        \n",
    "    else : #20000개 이상인경우 분할 작업\n",
    "        final_end = len(dataframe)\n",
    "        epoch = math.ceil(final_end/batch_size)\n",
    "        start = 0\n",
    "        end = batch_size\n",
    "        while epoch != 0:\n",
    "            # tqdm.pandas(desc = '토큰화')\n",
    "            token_df = dataframe.iloc[start:end]['full_text'].progress_apply(lambda x: okt.pos(x, norm=True, stem=True))\n",
    "            token_df_e = token_df.explode()\n",
    "            # tqdm.pandas(desc = '단어추출')\n",
    "            token_noun = token_df_e.apply(lambda x: x[0] if x[1] == 'Noun' else np.nan).dropna()\n",
    "            token_adj = token_df_e.apply(lambda x: x[0] if x[1] == 'Adjective' else np.nan).dropna()\n",
    "\n",
    "            # 클리닝\n",
    "            # tqdm.pandas(desc = '클리닝')\n",
    "            token_noun = token_noun[token_noun.apply(lambda word: (len(word) > 1) & (word not in sw))]\n",
    "            token_adj = token_adj[token_adj.apply(lambda word: (len(word) > 1) & (word not in sw))]\n",
    "\n",
    "            #저장\n",
    "            main_df = pd.merge(dataframe.iloc[start:end], token_noun.groupby(level=0).agg(list).rename(\n",
    "                'Noun'), how='left', left_index=True, right_index=True)\n",
    "            main_df = pd.merge(main_df, token_adj.groupby(level=0).agg(list).rename(\n",
    "                'Adjective'), how='left', left_index=True, right_index=True)\n",
    "            os.makedirs(f'./output/token/{keyword}',exist_ok=True)\n",
    "            main_df.to_csv(f'./output/token/{keyword}/{keyword}_{start}~{end}.csv')\n",
    "                   \n",
    "            #next turn\n",
    "            if epoch >2 :\n",
    "                start += batch_size\n",
    "                end += batch_size\n",
    "            else :      \n",
    "                start += batch_size\n",
    "                end = final_end\n",
    "            \n",
    "            epoch -= 1\n",
    "            gc.collect()"
   ]
  },
  {
   "cell_type": "markdown",
   "metadata": {},
   "source": [
    "### heap 메모리 부족 오류 발생\n",
    "* heap메모리를 4GB부여하고, 15000개 단위로 분할하여 작업진행 (2만은 가끔 메모리터짐)\n",
    "* 저장시 기본사항을 붙일수 있게 작업\n",
    "* 진행이 길어질수록 속도감소(메모리문제로 추정)하기 때문에 재실행필요"
   ]
  },
  {
   "cell_type": "code",
   "execution_count": 3,
   "metadata": {
    "ExecuteTime": {
     "end_time": "2020-06-08T19:47:08.581194Z",
     "start_time": "2020-06-08T17:46:29.911059Z"
    },
    "scrolled": false
   },
   "outputs": [
    {
     "name": "stderr",
     "output_type": "stream",
     "text": [
      "C:\\Users\\User\\Anaconda3\\lib\\site-packages\\ipykernel_launcher.py:5: TqdmDeprecationWarning: This function will be removed in tqdm==5.0.0\n",
      "Please use `tqdm.notebook.tqdm` instead of `tqdm.tqdm_notebook`\n",
      "  \"\"\"\n"
     ]
    },
    {
     "data": {
      "application/vnd.jupyter.widget-view+json": {
       "model_id": "4590df3b81eb4589ad9dbe0342c6707d",
       "version_major": 2,
       "version_minor": 0
      },
      "text/plain": [
       "HBox(children=(FloatProgress(value=0.0, max=14.0), HTML(value='')))"
      ]
     },
     "metadata": {},
     "output_type": "display_data"
    },
    {
     "name": "stderr",
     "output_type": "stream",
     "text": [
      "\r",
      "  0%|                                                                                        | 0/15000 [00:00<?, ?it/s]"
     ]
    },
    {
     "name": "stdout",
     "output_type": "stream",
     "text": [
      "양양 +강원도\n"
     ]
    },
    {
     "name": "stderr",
     "output_type": "stream",
     "text": [
      "100%|████████████████████████████████████████████████████████████████████████████| 15000/15000 [13:08<00:00, 19.03it/s]\n",
      "100%|████████████████████████████████████████████████████████████████████████████| 15000/15000 [11:49<00:00, 21.15it/s]\n",
      "100%|████████████████████████████████████████████████████████████████████████████| 15000/15000 [12:40<00:00, 19.72it/s]\n",
      "100%|██████████████████████████████████████████████████████████████████████████████| 2915/2915 [02:52<00:00, 16.92it/s]\n",
      "  0%|                                                                                 | 5/5222 [00:00<02:45, 31.46it/s]"
     ]
    },
    {
     "name": "stdout",
     "output_type": "stream",
     "text": [
      "오산 +강원도\n"
     ]
    },
    {
     "name": "stderr",
     "output_type": "stream",
     "text": [
      "100%|██████████████████████████████████████████████████████████████████████████████| 5222/5222 [07:25<00:00, 11.71it/s]\n",
      "  0%|▏                                                                                | 4/2115 [00:00<00:57, 36.69it/s]"
     ]
    },
    {
     "name": "stdout",
     "output_type": "stream",
     "text": [
      "오산 +양양\n"
     ]
    },
    {
     "name": "stderr",
     "output_type": "stream",
     "text": [
      "100%|██████████████████████████████████████████████████████████████████████████████| 2115/2115 [02:43<00:00, 12.95it/s]\n",
      "  0%|▎                                                                                 | 4/887 [00:00<00:26, 32.91it/s]"
     ]
    },
    {
     "name": "stdout",
     "output_type": "stream",
     "text": [
      "오산해수욕장 +양양\n"
     ]
    },
    {
     "name": "stderr",
     "output_type": "stream",
     "text": [
      "100%|████████████████████████████████████████████████████████████████████████████████| 887/887 [01:08<00:00, 12.92it/s]\n",
      "  0%|                                                                                | 4/12606 [00:00<06:52, 30.53it/s]"
     ]
    },
    {
     "name": "stdout",
     "output_type": "stream",
     "text": [
      "인구 +강원도\n"
     ]
    },
    {
     "name": "stderr",
     "output_type": "stream",
     "text": [
      "100%|████████████████████████████████████████████████████████████████████████████| 12606/12606 [17:44<00:00, 11.84it/s]\n",
      "  0%|                                                                                 | 4/5113 [00:00<03:16, 25.97it/s]"
     ]
    },
    {
     "name": "stdout",
     "output_type": "stream",
     "text": [
      "인구 +양양\n"
     ]
    },
    {
     "name": "stderr",
     "output_type": "stream",
     "text": [
      "100%|██████████████████████████████████████████████████████████████████████████████| 5113/5113 [06:22<00:00, 13.38it/s]\n",
      "  1%|▊                                                                                 | 5/490 [00:00<00:13, 35.20it/s]"
     ]
    },
    {
     "name": "stdout",
     "output_type": "stream",
     "text": [
      "인구리 +강원도\n"
     ]
    },
    {
     "name": "stderr",
     "output_type": "stream",
     "text": [
      "100%|████████████████████████████████████████████████████████████████████████████████| 490/490 [00:29<00:00, 16.85it/s]\n",
      "  0%|▎                                                                                 | 2/540 [00:00<00:48, 11.11it/s]"
     ]
    },
    {
     "name": "stdout",
     "output_type": "stream",
     "text": [
      "전진리 +강원도\n"
     ]
    },
    {
     "name": "stderr",
     "output_type": "stream",
     "text": [
      "100%|████████████████████████████████████████████████████████████████████████████████| 540/540 [00:33<00:00, 16.16it/s]\n",
      "  0%|                                                                                 | 2/8408 [00:00<12:03, 11.63it/s]"
     ]
    },
    {
     "name": "stdout",
     "output_type": "stream",
     "text": [
      "죽도 +양양\n"
     ]
    },
    {
     "name": "stderr",
     "output_type": "stream",
     "text": [
      "100%|██████████████████████████████████████████████████████████████████████████████| 8408/8408 [08:41<00:00, 16.11it/s]\n",
      "  1%|▌                                                                                 | 4/639 [00:00<00:17, 35.43it/s]"
     ]
    },
    {
     "name": "stdout",
     "output_type": "stream",
     "text": [
      "하광정리 +강원도\n"
     ]
    },
    {
     "name": "stderr",
     "output_type": "stream",
     "text": [
      "100%|████████████████████████████████████████████████████████████████████████████████| 639/639 [00:38<00:00, 16.49it/s]\n",
      "  0%|                                                                                | 6/11196 [00:00<03:08, 59.39it/s]"
     ]
    },
    {
     "name": "stdout",
     "output_type": "stream",
     "text": [
      "하조대 +강원도\n"
     ]
    },
    {
     "name": "stderr",
     "output_type": "stream",
     "text": [
      "100%|████████████████████████████████████████████████████████████████████████████| 11196/11196 [11:07<00:00, 16.77it/s]\n",
      "  0%|                                                                                | 4/14005 [00:00<07:15, 32.17it/s]"
     ]
    },
    {
     "name": "stdout",
     "output_type": "stream",
     "text": [
      "하조대 +양양\n"
     ]
    },
    {
     "name": "stderr",
     "output_type": "stream",
     "text": [
      "100%|████████████████████████████████████████████████████████████████████████████| 14005/14005 [13:38<00:00, 17.11it/s]\n",
      "  0%|                                                                                 | 3/5938 [00:00<05:56, 16.66it/s]"
     ]
    },
    {
     "name": "stdout",
     "output_type": "stream",
     "text": [
      "하조대해수욕장 +양양\n"
     ]
    },
    {
     "name": "stderr",
     "output_type": "stream",
     "text": [
      "100%|██████████████████████████████████████████████████████████████████████████████| 5938/5938 [07:01<00:00, 14.08it/s]\n",
      "  0%|                                                                                          | 0/574 [00:00<?, ?it/s]"
     ]
    },
    {
     "name": "stdout",
     "output_type": "stream",
     "text": [
      "후진항 +양양\n"
     ]
    },
    {
     "name": "stderr",
     "output_type": "stream",
     "text": [
      "100%|████████████████████████████████████████████████████████████████████████████████| 574/574 [00:37<00:00, 15.17it/s]\n"
     ]
    },
    {
     "name": "stdout",
     "output_type": "stream",
     "text": [
      "\n"
     ]
    }
   ],
   "source": [
    "#임시 속초/속초해수욕장\n",
    "sw = list(pd.read_excel(\"stopword(cp949).xlsx\",encoding = 'cp949')['불용어']) #불용어 불러오기\n",
    "path = 'D:/Python/블로그크롤링/output/크롤링/통합/'\n",
    "file_list = os.listdir(path)\n",
    "for file in tqdm_notebook(file_list):\n",
    "    file_name = file.split('.')[0]\n",
    "    main_df = pd.read_csv(path + file)\n",
    "    keyword = file.split('_')[0]\n",
    "    tokenized(main_df, keyword, sw)\n",
    "    gc.collect()"
   ]
  },
  {
   "cell_type": "code",
   "execution_count": 4,
   "metadata": {
    "ExecuteTime": {
     "end_time": "2020-06-08T19:47:08.586194Z",
     "start_time": "2020-06-08T19:47:08.583192Z"
    }
   },
   "outputs": [
    {
     "data": {
      "text/plain": [
       "['양양 +강원도_통합_47915.csv',\n",
       " '오산 +강원도_통합_5222.csv',\n",
       " '오산 +양양_통합_2115.csv',\n",
       " '오산해수욕장 +양양_통합_887.csv',\n",
       " '인구 +강원도_통합_12606.csv',\n",
       " '인구 +양양_통합_5113.csv',\n",
       " '인구리 +강원도_통합_490.csv',\n",
       " '전진리 +강원도_통합_540.csv',\n",
       " '죽도 +양양_통합_8408.csv',\n",
       " '하광정리 +강원도_통합_639.csv',\n",
       " '하조대 +강원도_통합_11196.csv',\n",
       " '하조대 +양양_통합_14005.csv',\n",
       " '하조대해수욕장 +양양_통합_5938.csv',\n",
       " '후진항 +양양_통합_574.csv']"
      ]
     },
     "execution_count": 4,
     "metadata": {},
     "output_type": "execute_result"
    }
   ],
   "source": [
    "file_list[33:]"
   ]
  },
  {
   "cell_type": "markdown",
   "metadata": {},
   "source": [
    "### check"
   ]
  },
  {
   "cell_type": "code",
   "execution_count": 5,
   "metadata": {
    "ExecuteTime": {
     "end_time": "2020-06-08T19:47:08.591242Z",
     "start_time": "2020-06-08T19:47:08.588193Z"
    }
   },
   "outputs": [],
   "source": [
    "# file = '광진 +양양_통합_5044.csv'\n",
    "# file_name = file.split('.')[0]\n",
    "# main_df = pd.read_csv(path + file)\n",
    "# keyword = file.split('_')[0]\n",
    "# tokenized(main_df,file_name,keyword,sw)"
   ]
  },
  {
   "cell_type": "code",
   "execution_count": 6,
   "metadata": {
    "ExecuteTime": {
     "end_time": "2020-06-08T19:47:08.607113Z",
     "start_time": "2020-06-08T19:47:08.591242Z"
    }
   },
   "outputs": [
    {
     "data": {
      "text/plain": [
       "['강릉 +강원도_통합_53832.csv',\n",
       " '강원도_통합_61330.csv',\n",
       " '경포해수욕장 +강원도_통합_5334.csv',\n",
       " '광진 +강원도_통합_740.csv',\n",
       " '광진 +양양_통합_472.csv',\n",
       " '광진리 +강원도_통합_401.csv',\n",
       " '기사문 +강원도_통합_998.csv',\n",
       " '기사문 +양양_통합_1773.csv',\n",
       " '기사문항 +양양_통합_888.csv',\n",
       " '낙산 +강원도_통합_12768.csv',\n",
       " '낙산 +양양_통합_15083.csv',\n",
       " '낙산항 +양양_통합_386.csv',\n",
       " '낙산해수욕장_통합_8187.csv',\n",
       " '남애 +강원도_통합_1903.csv',\n",
       " '남애 +양양_통합_2127.csv',\n",
       " '남애항 +양양_통합_3168.csv',\n",
       " '동산 +강원도_통합_7536.csv',\n",
       " '동산 +양양_통합_1921.csv',\n",
       " '동산항 +양양_통합_476.csv',\n",
       " '동호 +강원도_통합_2582.csv',\n",
       " '동호 +양양_통합_2548.csv',\n",
       " '동호해변 +양양_통합_1911.csv',\n",
       " '물치 +강원도_통합_1276.csv',\n",
       " '물치 +양양_통합_1909.csv',\n",
       " '물치리 +강원도_통합_259.csv',\n",
       " '물치항 +양양_통합_2701.csv',\n",
       " '설악해수욕장 +강원도_통합_955.csv',\n",
       " '설악해수욕장 +양양_통합_1255.csv',\n",
       " '속초 +강원도_통합_57240.csv',\n",
       " '속초해수욕장 +강원도_통합_22816.csv',\n",
       " '수산 +강원도_통합_21766.csv',\n",
       " '수산 +양양_통합_4956.csv',\n",
       " '수산항 +양양_통합_2638.csv',\n",
       " '양양 +강원도_통합_47915.csv',\n",
       " '오산 +강원도_통합_5222.csv',\n",
       " '오산 +양양_통합_2115.csv',\n",
       " '오산해수욕장 +양양_통합_887.csv',\n",
       " '인구 +강원도_통합_12606.csv',\n",
       " '인구 +양양_통합_5113.csv',\n",
       " '인구리 +강원도_통합_490.csv',\n",
       " '전진리 +강원도_통합_540.csv',\n",
       " '죽도 +양양_통합_8408.csv',\n",
       " '하광정리 +강원도_통합_639.csv',\n",
       " '하조대 +강원도_통합_11196.csv',\n",
       " '하조대 +양양_통합_14005.csv',\n",
       " '하조대해수욕장 +양양_통합_5938.csv',\n",
       " '후진항 +양양_통합_574.csv']"
      ]
     },
     "execution_count": 6,
     "metadata": {},
     "output_type": "execute_result"
    }
   ],
   "source": [
    "file_list"
   ]
  },
  {
   "cell_type": "code",
   "execution_count": null,
   "metadata": {},
   "outputs": [],
   "source": []
  }
 ],
 "metadata": {
  "kernelspec": {
   "display_name": "Python 3",
   "language": "python",
   "name": "python3"
  },
  "language_info": {
   "codemirror_mode": {
    "name": "ipython",
    "version": 3
   },
   "file_extension": ".py",
   "mimetype": "text/x-python",
   "name": "python",
   "nbconvert_exporter": "python",
   "pygments_lexer": "ipython3",
   "version": "3.6.5"
  },
  "varInspector": {
   "cols": {
    "lenName": 16,
    "lenType": 16,
    "lenVar": 40
   },
   "kernels_config": {
    "python": {
     "delete_cmd_postfix": "",
     "delete_cmd_prefix": "del ",
     "library": "var_list.py",
     "varRefreshCmd": "print(var_dic_list())"
    },
    "r": {
     "delete_cmd_postfix": ") ",
     "delete_cmd_prefix": "rm(",
     "library": "var_list.r",
     "varRefreshCmd": "cat(var_dic_list()) "
    }
   },
   "types_to_exclude": [
    "module",
    "function",
    "builtin_function_or_method",
    "instance",
    "_Feature"
   ],
   "window_display": false
  }
 },
 "nbformat": 4,
 "nbformat_minor": 2
}

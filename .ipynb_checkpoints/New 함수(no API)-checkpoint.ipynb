{
 "cells": [
  {
   "cell_type": "markdown",
   "metadata": {},
   "source": [
    "# 목적\n",
    "* 블로그 내용을 긁어와서 연관분석 진행\n",
    "1. keyword관련 블로그 크롤링 \n",
    "    정확도 기준으로 긁어오되 날짜도 같이 가져와서 나중 어떤 날짜에 집중되어 있는지 확인  \n",
    "    한 블로그당 단어빈도수 분석(필요할까)\n",
    "2. 블로그 내 단어 토크나이즈하고 \n",
    "3. 연관분석실시\n"
   ]
  },
  {
   "cell_type": "markdown",
   "metadata": {},
   "source": [
    "# 선행설치"
   ]
  },
  {
   "cell_type": "code",
   "execution_count": 19,
   "metadata": {
    "ExecuteTime": {
     "end_time": "2020-04-06T00:29:47.184460Z",
     "start_time": "2020-04-06T00:29:47.181413Z"
    },
    "code_folding": [
     0
    ]
   },
   "outputs": [],
   "source": [
    "# 선행설치\n",
    "# # 크롤링\n",
    "# !pip install beautifulsoup4\n",
    "# !pip install requests\n",
    "# !pip install lxm\n",
    "# # 연관분석\n",
    "# !pip install apyori\n",
    "# # 자연어처리\n",
    "# !pip install konlpy (JDK 설치가 되어있어야함 )\n",
    "# # 워드클라우드\n",
    "# !pip install wordcloud"
   ]
  },
  {
   "cell_type": "code",
   "execution_count": 20,
   "metadata": {
    "ExecuteTime": {
     "end_time": "2020-04-06T00:29:48.566350Z",
     "start_time": "2020-04-06T00:29:47.542013Z"
    },
    "code_folding": []
   },
   "outputs": [
    {
     "data": {
      "text/html": [
       "<style>.container {width:100% !important; }</style>"
      ],
      "text/plain": [
       "<IPython.core.display.HTML object>"
      ]
     },
     "metadata": {},
     "output_type": "display_data"
    }
   ],
   "source": [
    "# import\n",
    "import seaborn as sns\n",
    "import matplotlib.pyplot as plt\n",
    "\n",
    "from tqdm import tqdm_notebook  # 진행과정 시각화\n",
    "from datetime import timedelta  # 시간날짜\n",
    "from apyori import apriori  # 연관분석\n",
    "\n",
    "import re\n",
    "import json\n",
    "import math\n",
    "import datetime\n",
    "from datetime import timedelta\n",
    "import pandas as pd\n",
    "import numpy as np\n",
    "\n",
    "import requests\n",
    "import urllib.request\n",
    "import urllib.error\n",
    "import urllib.parse\n",
    "from bs4 import BeautifulSoup  # 크롤링\n",
    "\n",
    "import wordcloud\n",
    "import konlpy\n",
    "from konlpy.tag import Komoran,Kkma,Okt,Twitter  # 자연어처리\n",
    "from eunjeon import Mecab #은전한닢\n",
    "mecab = Mecab()\n",
    "komoran = Komoran(userdic='./user_dictionary.txt')\n",
    "\n",
    "#한글깨짐방지\n",
    "plt.rc('font',family='Malgun Gothic')\n",
    "plt.rcParams['axes.unicode_minus'] = False\n",
    "\n",
    "from IPython.core.display import display, HTML\n",
    "display(HTML('<style>.container {width:100% !important; }</style>'))"
   ]
  },
  {
   "cell_type": "markdown",
   "metadata": {},
   "source": [
    "# 네이버 검색 URl구조"
   ]
  },
  {
   "cell_type": "markdown",
   "metadata": {},
   "source": [
    "date_from - YYYYMMDD : 시작날짜 date_option 8일때   \n",
    "date_option - int : 0 : 전체, 2 : 1일, 3 : 1주, 4 : 1개월, 6 : 6개월, 7 : 1년, 8 : 기간지정  \n",
    "date_to - YYYYMMDD : 마지막날짜 date_option 8일때  \n",
    "dup_remove - int : 유사문서제거옵션 1 : 제거, 0 : 유지  \n",
    "nso - str : _상세검색으로 추정_   \n",
    "post_blogurl - ?  \n",
    "post_blogurl_without - ?   \n",
    "query - str : 검색어     \n",
    "sm=tab_pge -?    \n",
    "st - str : 정렬순서 sim : 유사도 date : 날짜    "
   ]
  },
  {
   "cell_type": "code",
   "execution_count": 21,
   "metadata": {
    "ExecuteTime": {
     "end_time": "2020-04-06T00:29:48.772083Z",
     "start_time": "2020-04-06T00:29:48.769084Z"
    }
   },
   "outputs": [],
   "source": [
    "# #네이버에서 검색했을때 url구조\n",
    "# https://search.naver.com/search.naver\n",
    "#     ?date_from=&\n",
    "#     date_option=0&\n",
    "#     date_to=&\n",
    "#     dup_remove=1&\n",
    "#     nso=&\n",
    "#     post_blogurl=\n",
    "#     &post_blogurl_without=\n",
    "#     &query=%EC%96%91%EC%96%91\n",
    "#     &sm=tab_pge\n",
    "#     &srchby=all\n",
    "#     &st=sim\n",
    "#     &where=post\n",
    "#     &start=11"
   ]
  },
  {
   "cell_type": "code",
   "execution_count": 22,
   "metadata": {
    "ExecuteTime": {
     "end_time": "2020-04-06T00:29:49.441693Z",
     "start_time": "2020-04-06T00:29:49.437693Z"
    },
    "code_folding": [
     0
    ]
   },
   "outputs": [],
   "source": [
    "def del_outword(string):\n",
    "    '''\n",
    "    이모티콘, \\u200b과 같은 문자가 아닌 것 제거\n",
    "    #이모티콘 제거 [출처](https://stackoverflow.com/questions/33404752/removing-emojis-from-a-string-in-python)\n",
    "    '''\n",
    "    #이모지제거\n",
    "    emoji_pattern = re.compile(\"[\"\n",
    "                u\"\\U0001F600-\\U0001F64F\"  # emoticons\n",
    "                u\"\\U0001F300-\\U0001F5FF\"  # symbols & pictographs\n",
    "                u\"\\U0001F680-\\U0001F6FF\"  # transport & map symbols\n",
    "                u\"\\U0001F1E0-\\U0001F1FF\"  # flags (iOS)\n",
    "                u\"\\U00002702-\\U000027B0\"\n",
    "                u\"\\U0001f926-\\U0001f937\"\n",
    "                u'\\U00010000-\\U0010ffff'\n",
    "                u\"\\u200d\"\n",
    "                u\"\\u2640-\\u2642\"\n",
    "                u\"\\u2600-\\u2B55\"\n",
    "                u\"\\u23cf\"\n",
    "                u\"\\u23e9\"\n",
    "                u\"\\u231a\"\n",
    "                u\"\\u3030\"\n",
    "                u\"\\ufe0f\"\n",
    "    \"]+\", flags=re.UNICODE)\n",
    "\n",
    "    #분석에 어긋나는 불용어구 제외 (특수문자, 의성어)\n",
    "    han = re.compile(r'[ㄱ-ㅎㅏ-ㅣ!?~\"^_\\n\\r#\\ufeff\\u200d\\u200b\\u7643\\ufffd\\u682e\\u62c4]+')\n",
    "    \n",
    "    string = emoji_pattern.sub(r'',string)\n",
    "    string = han.sub(r'',string)\n",
    "    \n",
    "    return string"
   ]
  },
  {
   "cell_type": "code",
   "execution_count": 23,
   "metadata": {
    "ExecuteTime": {
     "end_time": "2020-04-06T00:29:49.825785Z",
     "start_time": "2020-04-06T00:29:49.820794Z"
    },
    "code_folding": [
     0
    ]
   },
   "outputs": [],
   "source": [
    "def time_change(x):\n",
    "    '''\n",
    "    검색결과에 있는 문자를 날짜로 변경\n",
    "    '''\n",
    "    min_pattern = re.compile('[0-9]+'+\"분 전\")\n",
    "    hour_pattern = re.compile('[0-9]+'+\"시간 전\")\n",
    "    day_pattern = re.compile('[0-9]+'+\"일 전\")\n",
    "\n",
    "    today = datetime.datetime.today().date()\n",
    "    # 일자\n",
    "    try:\n",
    "        d = re.findall(day_pattern, x)[0][0]\n",
    "        x = today - timedelta(days=int(d))\n",
    "    except:\n",
    "        pass\n",
    "    # 시간\n",
    "    try:\n",
    "        d = re.findall(hour_pattern, x)[0]\n",
    "        x = today\n",
    "    except:\n",
    "        pass\n",
    "    # 분\n",
    "    try:\n",
    "        h = re.findall(min_pattern, x)[0]\n",
    "        x = today\n",
    "    except:\n",
    "        pass\n",
    "\n",
    "    if x == '어제':\n",
    "        x = today - timedelta(days=1)\n",
    "\n",
    "    elif type(x) == str:\n",
    "        x = datetime.datetime.strptime(x.replace('.', '-')[:-1], '%Y-%m-%d')\n",
    "    #모든일자를 1일로 통일\n",
    "    x = datetime.datetime.strptime(x.strftime('%Y-%m')+\"-01\",\"%Y-%m-%d\")\n",
    "    return x"
   ]
  },
  {
   "cell_type": "code",
   "execution_count": 30,
   "metadata": {
    "ExecuteTime": {
     "end_time": "2020-04-06T00:36:32.321423Z",
     "start_time": "2020-04-06T00:36:32.310429Z"
    },
    "code_folding": [
     0
    ]
   },
   "outputs": [],
   "source": [
    "def naver_blog_crawling(keyword, start_num=1, end_num=101, date_option=0, date_from='', date_to='', save=True):\n",
    "    '''\n",
    "    네이버 블로그 크롤링 함수\n",
    "    네이버 블로그 검색결과를 크롤링하며, 1페이지당 10개씩을 검색한다\n",
    "\n",
    "    keyword : string\n",
    "     검색하고 싶은 키워드를 넣는다\n",
    "     \"keyword +필수어\" 형태로 필수단어 추가 가능\n",
    "    start_num : int (default = 1) \n",
    "     시작할 위치 1로 끝나는 단위 추천\n",
    "    end_num : int (default = 101)\n",
    "     끝나는 위치 1로 끝나는 단위 추천\n",
    "    date_option : int (default = 0)\n",
    "     주어지는 숫자에 의해 검색방법이 변경됨\n",
    "     0 : 전체, 2 : 1일, 3 : 1주, 4 : 1개월, 6 : 6개월, 7 : 1년, 8 : 기간지정\n",
    "    date_from : YYYYMMDD (default = \"\")\n",
    "     date_option이 8일때 사용 검색 시작일자를 지정\n",
    "    date_to : YYYMMDD (default = \"\")\n",
    "     date_option이 8일때 사용 검색 마지막일자를 지정\n",
    "    save : bool (default = True)\n",
    "     csv로 저장 여부 결정\n",
    "    '''\n",
    "    # url 찾는 패턴\n",
    "    pattern = re.compile('href=\"'+'[A-z0-9\\:\\/\\&\\;\\.\\?\\=]+')\n",
    "\n",
    "    # 저장위치\n",
    "    postdates = []\n",
    "    strings = []\n",
    "    urls = []\n",
    "    titles = []\n",
    "    output_error = []\n",
    "    connection_error = []\n",
    "    count = 1\n",
    "    base_url_ls = []\n",
    "\n",
    "    # keyword와 시작넘버만 바꾸면서 진행하게끔\n",
    "    base_url = 'https://search.naver.com/search.naver?date_from={date_from}&date_option={date_option}&date_to={date_to}&dup_remove=1&nso=&post_blogurl=&post_blogurl_without=&query={keyword}&sm=tab_pge&srchby=all&st=sim&where=post&start={start}'\n",
    "\n",
    "    # for문 돌려야하는 부분(각 검색결과의 시작은 1이고, 10개씩 보여짐,)\n",
    "    for i in tqdm_notebook(range(start_num, end_num+1, 10), desc=\"page work\"):\n",
    "        search_list = base_url.format(keyword=keyword, start=i,\n",
    "                                      date_option=date_option, date_from=date_from, date_to=date_to)\n",
    "        response = requests.get(search_list)\n",
    "        base_url_ls.append(search_list)\n",
    "        if response.status_code is 200:\n",
    "            # 1번 검색시 10개의 결과가 출력 따라서 section은 총 10개\n",
    "            soup = BeautifulSoup(response.content, 'lxml')\n",
    "            sections = soup.findAll('li', attrs={'class': 'sh_blog_top'})\n",
    "\n",
    "            for section in sections:\n",
    "                try:\n",
    "                    # href부분만 가져오기 어려워서 정규표현식으로 검색\n",
    "                    url = re.findall(pattern, str(section))[0].replace(\n",
    "                        '?Redirect=Log&amp;logNo=', '/').replace('href=\"', '')\n",
    "                    title = section.select_one('a.txt84').text\n",
    "                    date = section.select_one('dd.txt_inline').text.strip()\n",
    "\n",
    "                    # 블로그 url안에 들어가기(아직 크롤링불가)\n",
    "                    get_blog_post_content_code = requests.get(url)\n",
    "                    get_blog_post_content_text = get_blog_post_content_code.text\n",
    "                    get_blog_post_content_soup = BeautifulSoup(\n",
    "                        get_blog_post_content_text, 'lxml')\n",
    "\n",
    "                    # 크롤링가능한 url에 접속\n",
    "                    real_blog_post_url = \"http://blog.naver.com\" + \\\n",
    "                        get_blog_post_content_soup.select('#mainFrame')[\n",
    "                            0].get('src')\n",
    "                    get_real_blog_post_content_code = requests.get(\n",
    "                        real_blog_post_url)\n",
    "                    get_real_blog_post_content_text = get_real_blog_post_content_code.text\n",
    "                    get_real_blog_post_content_soup = BeautifulSoup(\n",
    "                        get_real_blog_post_content_text, 'lxml')\n",
    "\n",
    "                    # url (에러나면 위에서부터 에러남)\n",
    "                    urls.append(real_blog_post_url)\n",
    "                    # 블로그명\n",
    "                    titles.append(title)\n",
    "                    # 날짜\n",
    "                    postdates.append(date)\n",
    "\n",
    "                    # 본문  (postviewarea 패턴과 se-main-container 2가지 유형이 있어 분리함)\n",
    "                    try:\n",
    "                        blog_post_content = get_real_blog_post_content_soup.select(\n",
    "                            'div#postViewArea')\n",
    "                        if len(blog_post_content) == 0:\n",
    "                            blog_post_content = get_real_blog_post_content_soup.select(\n",
    "                                'div.se-main-container')\n",
    "                            if len(blog_post_content) == 0:\n",
    "                                blog_post_content = get_real_blog_post_content_soup.select(\n",
    "                                    'div.se_component_wrap.sect_dsc.__se_component_area')\n",
    "\n",
    "                        string = \"\"\n",
    "                        for sentence in blog_post_content[0].stripped_strings:\n",
    "                            string += \" \"+sentence.replace('\\xa0', \" \")\n",
    "                        # 비언어 텍스트제거\n",
    "                        string = del_outword(string)\n",
    "                        strings.append([string])\n",
    "                        count += 1\n",
    "                    except:\n",
    "                        strings.append([\"X\"])\n",
    "                        count += 1\n",
    "\n",
    "                except Exception as ex:\n",
    "                    # print('가져오기에러 {num}번째'.format(num = count),ex)\n",
    "                    output_error.append(count)\n",
    "                    count += 1\n",
    "                    pass\n",
    "        else:\n",
    "            # print('연결오류 {num}번째'.format(num = count),response.status_code)\n",
    "            connection_error.append(count)\n",
    "            count += 1\n",
    "\n",
    "    out_length = len(output_error+connection_error)\n",
    "#     real_length = end_num-start_num+10-out_length\n",
    "    crawling_df = pd.DataFrame(\n",
    "        {\"post_dates\": postdates, \"title\": titles, \"full_text\": strings, \"url\": urls})\n",
    "    crawling_df['post_dates'] = crawling_df['post_dates'].apply(\n",
    "        lambda x: time_change(x))\n",
    "\n",
    "    # 중복제거\n",
    "    crawling_df.drop_duplicates(\"url\", inplace=True)\n",
    "    crawling_df.reset_index(drop=True, inplace=True)\n",
    "    real_length = crawling_df.shape[0]\n",
    "\n",
    "    # 결과출력\n",
    "    print(\"검색한 길이:\", end_num-start_num+10)\n",
    "    print(\"제외된 길이:\", out_length)\n",
    "    print(\"검색된 길이:\", real_length)\n",
    "    if save == True:\n",
    "        today = datetime.datetime.today().date()\n",
    "        str(today)\n",
    "        crawling_df.to_csv(str(today)+\"_\"+keyword+\"_\" +\n",
    "                           str(real_length)+'.csv', encoding='utf-8', index=False)\n",
    "    return crawling_df, output_error, real_length"
   ]
  },
  {
   "cell_type": "code",
   "execution_count": 383,
   "metadata": {
    "ExecuteTime": {
     "end_time": "2020-04-06T06:16:18.517505Z",
     "start_time": "2020-04-06T06:16:18.513514Z"
    }
   },
   "outputs": [],
   "source": [
    "# keyword검색시 \"검색어 +필수어\" 형태로 필수단어 삽입가능\n",
    "today = datetime.datetime.today().date()\n",
    "keyword = \"설악해수욕장 +양양\"\n",
    "start_num = 1\n",
    "end_num = 701\n",
    "date_option = 0\n",
    "date_from = \"20150101\"\n",
    "date_to = \"20190101\""
   ]
  },
  {
   "cell_type": "code",
   "execution_count": 384,
   "metadata": {
    "ExecuteTime": {
     "end_time": "2020-04-06T06:18:24.496712Z",
     "start_time": "2020-04-06T06:16:18.803570Z"
    },
    "scrolled": true
   },
   "outputs": [
    {
     "name": "stderr",
     "output_type": "stream",
     "text": [
      "C:\\Users\\User\\Anaconda3\\lib\\site-packages\\ipykernel_launcher.py:40: TqdmDeprecationWarning: This function will be removed in tqdm==5.0.0\n",
      "Please use `tqdm.notebook.tqdm` instead of `tqdm.tqdm_notebook`\n"
     ]
    },
    {
     "data": {
      "application/vnd.jupyter.widget-view+json": {
       "model_id": "6c60d775342f445782b2b4fa0e229ea1",
       "version_major": 2,
       "version_minor": 0
      },
      "text/plain": [
       "HBox(children=(FloatProgress(value=0.0, description='page work', max=71.0, style=ProgressStyle(description_wid…"
      ]
     },
     "metadata": {},
     "output_type": "display_data"
    },
    {
     "name": "stdout",
     "output_type": "stream",
     "text": [
      "\n",
      "검색한 길이: 710\n",
      "제외된 길이: 106\n",
      "검색된 길이: 604\n"
     ]
    }
   ],
   "source": [
    "crawling_df, output_error, real_length = naver_blog_crawling(keyword, start_num, end_num, date_option, date_from, date_to, save=False)"
   ]
  },
  {
   "cell_type": "markdown",
   "metadata": {},
   "source": [
    "### 추출된 데이터 일자별 집중도 확인"
   ]
  },
  {
   "cell_type": "code",
   "execution_count": 385,
   "metadata": {
    "ExecuteTime": {
     "end_time": "2020-04-06T06:18:24.636997Z",
     "start_time": "2020-04-06T06:18:24.544976Z"
    }
   },
   "outputs": [
    {
     "data": {
      "image/png": "[encoded data removed]",
      "text/plain": [
       "<Figure size 504x360 with 1 Axes>"
      ]
     },
     "metadata": {},
     "output_type": "display_data"
    }
   ],
   "source": [
    "plt.figure(figsize=(7,5))\n",
    "plt.plot(crawling_df['post_dates'].value_counts().sort_index())\n",
    "plt.xticks(rotation = 45)\n",
    "# plt.savefig(\"./output/\"+str(today)+\"_\"+keyword+\"_\"+str(real_length)+'_날짜빈도'+'.png')\n",
    "plt.show()"
   ]
  },
  {
   "cell_type": "markdown",
   "metadata": {},
   "source": [
    "### 토크나이즈"
   ]
  },
  {
   "cell_type": "markdown",
   "metadata": {},
   "source": [
    "### 형용사 - 연구중 2020-04-06 13:03:43 \n",
    "* 각 형태소 분석기 비교\n",
    "1. komoran/mecab 어간/어미를 분해해서 다소 카운팅하기 어려움\n",
    "2. okt adjective로 되어있어 다소 편리하면서 더 많은 형용사를 끌어옴"
   ]
  },
  {
   "cell_type": "code",
   "execution_count": 378,
   "metadata": {
    "ExecuteTime": {
     "end_time": "2020-04-06T06:07:39.377163Z",
     "start_time": "2020-04-06T06:07:12.971749Z"
    },
    "scrolled": true
   },
   "outputs": [
    {
     "name": "stderr",
     "output_type": "stream",
     "text": [
      "C:\\Users\\User\\Anaconda3\\lib\\site-packages\\ipykernel_launcher.py:8: TqdmDeprecationWarning: This function will be removed in tqdm==5.0.0\n",
      "Please use `tqdm.notebook.tqdm` instead of `tqdm.tqdm_notebook`\n",
      "  \n"
     ]
    },
    {
     "data": {
      "application/vnd.jupyter.widget-view+json": {
       "model_id": "c62c6f1c8fa44ac4b3ff8b51e266da96",
       "version_major": 2,
       "version_minor": 0
      },
      "text/plain": [
       "HBox(children=(FloatProgress(value=0.0, max=550.0), HTML(value='')))"
      ]
     },
     "metadata": {},
     "output_type": "display_data"
    },
    {
     "name": "stdout",
     "output_type": "stream",
     "text": [
      "\n"
     ]
    }
   ],
   "source": [
    "all_va = []\n",
    "VA_ls = []\n",
    "\n",
    "sw = list(set(['오늘', '시간', '최근', '지난', '관련', '이번', '이날', '현재', '10', '올해', '지난해', '있다', '이상', '기준', '때문',\n",
    "               \"메뉴\", \"주문\", \"강원도\", '정도', '도착', '생각', '양양군', '사진', '위치', '라고', '양양', \"아침\", \"저녁\", '다음', '우리', '시작', '여기', '이곳', '사람',\n",
    "              \"이다\", \"많다\",\"좋다\",\"같다\",\"없다\",\"그렇다\",\"이렇다\",\"아니다\",\"안녕하다\",\"가능하다\"]))\n",
    "\n",
    "for i in tqdm_notebook(range(0,len(crawling_df))):\n",
    "    VA_ls = []\n",
    "    #어근만 추출\n",
    "    pos_text = okt.pos(crawling_df['full_text'][i][0], norm=True, stem=True)\n",
    "    for j in range(0,len(pos_text)):\n",
    "        if pos_text[j][1] == 'Adjective':\n",
    "            text = pos_text[j][0]\n",
    "            VA_ls.append(text)\n",
    "    clean_va = list(filter(lambda word : (len(word)>1)&(word not in sw),VA_ls))\n",
    "    clean_va = list(set(clean_va))\n",
    "    all_va.append(clean_va)"
   ]
  },
  {
   "cell_type": "code",
   "execution_count": 379,
   "metadata": {
    "ExecuteTime": {
     "end_time": "2020-04-06T06:07:39.438174Z",
     "start_time": "2020-04-06T06:07:39.435173Z"
    }
   },
   "outputs": [],
   "source": [
    "all_va_flatten = [y for x in all_va for y in x]"
   ]
  },
  {
   "cell_type": "code",
   "execution_count": 380,
   "metadata": {
    "ExecuteTime": {
     "end_time": "2020-04-06T06:07:39.663224Z",
     "start_time": "2020-04-06T06:07:39.497187Z"
    }
   },
   "outputs": [
    {
     "data": {
      "text/plain": [
       "(array([ 0,  1,  2,  3,  4,  5,  6,  7,  8,  9, 10, 11, 12, 13, 14, 15, 16,\n",
       "        17, 18, 19]), <a list of 20 Text xticklabel objects>)"
      ]
     },
     "execution_count": 380,
     "metadata": {},
     "output_type": "execute_result"
    },
    {
     "data": {
      "image/png": "[encoded data removed]",
      "text/plain": [
       "<Figure size 504x360 with 1 Axes>"
      ]
     },
     "metadata": {},
     "output_type": "display_data"
    }
   ],
   "source": [
    "count_df = pd.Series(all_va_flatten).value_counts().reset_index()\n",
    "\n",
    "count_df.columns = ['word','counted']\n",
    "\n",
    "plt.figure(figsize=(7,5))\n",
    "sns.barplot(x= 'word', y = 'counted', data = count_df.head(20))\n",
    "plt.xticks(rotation = 45)"
   ]
  },
  {
   "cell_type": "code",
   "execution_count": 382,
   "metadata": {
    "ExecuteTime": {
     "end_time": "2020-04-06T06:09:17.384993Z",
     "start_time": "2020-04-06T06:09:17.378991Z"
    }
   },
   "outputs": [
    {
     "data": {
      "text/html": [
       "<div>\n",
       "<style scoped>\n",
       "    .dataframe tbody tr th:only-of-type {\n",
       "        vertical-align: middle;\n",
       "    }\n",
       "\n",
       "    .dataframe tbody tr th {\n",
       "        vertical-align: top;\n",
       "    }\n",
       "\n",
       "    .dataframe thead th {\n",
       "        text-align: right;\n",
       "    }\n",
       "</style>\n",
       "<table border=\"1\" class=\"dataframe\">\n",
       "  <thead>\n",
       "    <tr style=\"text-align: right;\">\n",
       "      <th></th>\n",
       "      <th>word</th>\n",
       "      <th>counted</th>\n",
       "    </tr>\n",
       "  </thead>\n",
       "  <tbody>\n",
       "    <tr>\n",
       "      <td>0</td>\n",
       "      <td>맛있다</td>\n",
       "      <td>179</td>\n",
       "    </tr>\n",
       "    <tr>\n",
       "      <td>1</td>\n",
       "      <td>좋아하다</td>\n",
       "      <td>98</td>\n",
       "    </tr>\n",
       "    <tr>\n",
       "      <td>2</td>\n",
       "      <td>예쁘다</td>\n",
       "      <td>85</td>\n",
       "    </tr>\n",
       "    <tr>\n",
       "      <td>3</td>\n",
       "      <td>작다</td>\n",
       "      <td>78</td>\n",
       "    </tr>\n",
       "    <tr>\n",
       "      <td>4</td>\n",
       "      <td>멋지다</td>\n",
       "      <td>76</td>\n",
       "    </tr>\n",
       "    <tr>\n",
       "      <td>5</td>\n",
       "      <td>유명하다</td>\n",
       "      <td>74</td>\n",
       "    </tr>\n",
       "    <tr>\n",
       "      <td>6</td>\n",
       "      <td>시원하다</td>\n",
       "      <td>70</td>\n",
       "    </tr>\n",
       "    <tr>\n",
       "      <td>7</td>\n",
       "      <td>즐겁다</td>\n",
       "      <td>68</td>\n",
       "    </tr>\n",
       "    <tr>\n",
       "      <td>8</td>\n",
       "      <td>가깝다</td>\n",
       "      <td>66</td>\n",
       "    </tr>\n",
       "    <tr>\n",
       "      <td>9</td>\n",
       "      <td>다양하다</td>\n",
       "      <td>66</td>\n",
       "    </tr>\n",
       "    <tr>\n",
       "      <td>10</td>\n",
       "      <td>아름답다</td>\n",
       "      <td>66</td>\n",
       "    </tr>\n",
       "    <tr>\n",
       "      <td>11</td>\n",
       "      <td>아쉽다</td>\n",
       "      <td>61</td>\n",
       "    </tr>\n",
       "    <tr>\n",
       "      <td>12</td>\n",
       "      <td>덥다</td>\n",
       "      <td>56</td>\n",
       "    </tr>\n",
       "    <tr>\n",
       "      <td>13</td>\n",
       "      <td>넓다</td>\n",
       "      <td>54</td>\n",
       "    </tr>\n",
       "    <tr>\n",
       "      <td>14</td>\n",
       "      <td>어떻다</td>\n",
       "      <td>54</td>\n",
       "    </tr>\n",
       "    <tr>\n",
       "      <td>15</td>\n",
       "      <td>새롭다</td>\n",
       "      <td>53</td>\n",
       "    </tr>\n",
       "    <tr>\n",
       "      <td>16</td>\n",
       "      <td>깔끔하다</td>\n",
       "      <td>52</td>\n",
       "    </tr>\n",
       "    <tr>\n",
       "      <td>17</td>\n",
       "      <td>계시다</td>\n",
       "      <td>49</td>\n",
       "    </tr>\n",
       "    <tr>\n",
       "      <td>18</td>\n",
       "      <td>깨끗하다</td>\n",
       "      <td>49</td>\n",
       "    </tr>\n",
       "    <tr>\n",
       "      <td>19</td>\n",
       "      <td>신나다</td>\n",
       "      <td>47</td>\n",
       "    </tr>\n",
       "    <tr>\n",
       "      <td>20</td>\n",
       "      <td>따뜻하다</td>\n",
       "      <td>45</td>\n",
       "    </tr>\n",
       "    <tr>\n",
       "      <td>21</td>\n",
       "      <td>편하다</td>\n",
       "      <td>43</td>\n",
       "    </tr>\n",
       "    <tr>\n",
       "      <td>22</td>\n",
       "      <td>간단하다</td>\n",
       "      <td>42</td>\n",
       "    </tr>\n",
       "    <tr>\n",
       "      <td>23</td>\n",
       "      <td>다르다</td>\n",
       "      <td>42</td>\n",
       "    </tr>\n",
       "    <tr>\n",
       "      <td>24</td>\n",
       "      <td>싱싱하다</td>\n",
       "      <td>41</td>\n",
       "    </tr>\n",
       "    <tr>\n",
       "      <td>25</td>\n",
       "      <td>힘들다</td>\n",
       "      <td>41</td>\n",
       "    </tr>\n",
       "    <tr>\n",
       "      <td>26</td>\n",
       "      <td>행복하다</td>\n",
       "      <td>40</td>\n",
       "    </tr>\n",
       "    <tr>\n",
       "      <td>27</td>\n",
       "      <td>괜찮다</td>\n",
       "      <td>39</td>\n",
       "    </tr>\n",
       "    <tr>\n",
       "      <td>28</td>\n",
       "      <td>조용하다</td>\n",
       "      <td>38</td>\n",
       "    </tr>\n",
       "    <tr>\n",
       "      <td>29</td>\n",
       "      <td>이쁘다</td>\n",
       "      <td>37</td>\n",
       "    </tr>\n",
       "  </tbody>\n",
       "</table>\n",
       "</div>"
      ],
      "text/plain": [
       "    word  counted\n",
       "0    맛있다      179\n",
       "1   좋아하다       98\n",
       "2    예쁘다       85\n",
       "3     작다       78\n",
       "4    멋지다       76\n",
       "5   유명하다       74\n",
       "6   시원하다       70\n",
       "7    즐겁다       68\n",
       "8    가깝다       66\n",
       "9   다양하다       66\n",
       "10  아름답다       66\n",
       "11   아쉽다       61\n",
       "12    덥다       56\n",
       "13    넓다       54\n",
       "14   어떻다       54\n",
       "15   새롭다       53\n",
       "16  깔끔하다       52\n",
       "17   계시다       49\n",
       "18  깨끗하다       49\n",
       "19   신나다       47\n",
       "20  따뜻하다       45\n",
       "21   편하다       43\n",
       "22  간단하다       42\n",
       "23   다르다       42\n",
       "24  싱싱하다       41\n",
       "25   힘들다       41\n",
       "26  행복하다       40\n",
       "27   괜찮다       39\n",
       "28  조용하다       38\n",
       "29   이쁘다       37"
      ]
     },
     "execution_count": 382,
     "metadata": {},
     "output_type": "execute_result"
    }
   ],
   "source": [
    "count_df.head(30)"
   ]
  },
  {
   "cell_type": "code",
   "execution_count": 381,
   "metadata": {
    "ExecuteTime": {
     "end_time": "2020-04-06T06:07:40.339780Z",
     "start_time": "2020-04-06T06:07:39.710235Z"
    }
   },
   "outputs": [
    {
     "data": {
      "image/png": "[encoded data removed]",
      "text/plain": [
       "<Figure size 720x720 with 1 Axes>"
      ]
     },
     "metadata": {},
     "output_type": "display_data"
    }
   ],
   "source": [
    "#워드클라우드\n",
    "\n",
    "#마스킹 준비\n",
    "from PIL import Image\n",
    "import numpy as np\n",
    "import wordcloud\n",
    "import random\n",
    "\n",
    "img_path = \"vector-cloud-png.png\"\n",
    "img = Image.open(img_path).convert('RGBA')\n",
    "mask = Image.new(\"RGB\", img.size, (255,255,255))\n",
    "mask.paste(img, img)\n",
    "mask = np.array(mask)\n",
    "\n",
    "text= ' '.join(all_va_flatten)\n",
    "\n",
    "wordc = wordcloud.WordCloud(background_color = 'White', max_words= 200,\n",
    "                           font_path = 'C:/Windows/Fonts/malgun.ttf',\n",
    "                           relative_scaling = 0.5,\n",
    "                           stopwords= sw,\n",
    "                           collocations = False,\n",
    "                        mask = mask)\n",
    "wordc.generate(text)\n",
    "\n",
    "def grey_color(word, font_size, position, orientation, random_state=None, **kwargs):\n",
    "    return 'hsl(%d,100%%,50%%)' % random.randint(200,300) #색상 채도 밝기\n",
    "wordc.recolor(color_func = grey_color, random_state =3)\n",
    "\n",
    "#그리기\n",
    "plt.figure(figsize = (10,10))\n",
    "plt.axis('off')\n",
    "plt.imshow(wordc, interpolation = 'bilinear')\n",
    "#저장\n",
    "plt.savefig(\"./output/\"+str(today)+\"_\"+keyword+\"_\"+str(real_length)+'_워드클라우드'+'.png')\n",
    "plt.show()"
   ]
  },
  {
   "cell_type": "markdown",
   "metadata": {},
   "source": [
    "### 결과에 대한 의문"
   ]
  },
  {
   "cell_type": "code",
   "execution_count": 367,
   "metadata": {
    "ExecuteTime": {
     "end_time": "2020-04-06T05:58:44.401112Z",
     "start_time": "2020-04-06T05:58:44.398111Z"
    }
   },
   "outputs": [],
   "source": [
    "word_check_ls = []\n",
    "for i in range(0, len(all_va)):\n",
    "    if \"가능하다\" in all_va[i]:\n",
    "        word_check_ls.append(i)"
   ]
  },
  {
   "cell_type": "code",
   "execution_count": 368,
   "metadata": {
    "ExecuteTime": {
     "end_time": "2020-04-06T05:58:44.831974Z",
     "start_time": "2020-04-06T05:58:44.828973Z"
    }
   },
   "outputs": [
    {
     "data": {
      "text/plain": [
       "[2, 7, 8, 13, 37]"
      ]
     },
     "execution_count": 368,
     "metadata": {},
     "output_type": "execute_result"
    }
   ],
   "source": [
    "word_check_ls[:5]"
   ]
  },
  {
   "cell_type": "code",
   "execution_count": 370,
   "metadata": {
    "ExecuteTime": {
     "end_time": "2020-04-06T05:58:55.822127Z",
     "start_time": "2020-04-06T05:58:55.819126Z"
    }
   },
   "outputs": [
    {
     "data": {
      "text/plain": [
       "\" 서핑 타는 법 처음 배움 양양 서핑스팟 인구해수욕장에서 서핑을 강원도 바닷가 여태까지 강릉 쪽 경포대 해수욕장만 좋은 줄 알았는데, 서핑으로 핫한 양양을 알게 된 지는 얼마 되지 않았답니다. 저는 서핑을 사실 친구들이 가자가 자 해서 갔던 케이스인데요 여름엔 바다보다는 시원한 계곡을 좋아하고 땡볕에서 운동하는 거 별로 좋아하지 않는 사람이라서요 그런데 요즘 서핑이 그렇게 재미나다며 친구들이 가자고 하길래 서핑을 알아보았습니다. 수많은 서핑샵이 즐비한 양양 쪽 해수욕장 블로거가 또 블로그를 보며 정보를 수집하는 와중에 게스트하우스에서 보통 서핑도 가르치더라고요 (게하에서하는 서핑샵이름이 양양 서핑스팟임) 서핑 강습과 숙박 그리고 바비큐 파티를 한꺼번에 가능한 인구 해수욕장 앞,  서핑스팟 에 다녀왔습니다. ◆양양 서핑하러 가는법◆ 서울에서 양양 가는 것도 양양 고속도로가 뚫렸다곤 하지만 꽤나 오랜 시간이 걸려요 사실 동서울 버스터미널 ->양양 3시간 걸리고요 양양에서 택시로는 20분 (택시비 2만 원) 시내버스로는 1시간 (약 4천 원)의 교통비가 듭니다. 갈 때 편도만 택시비 뿜빠이 한다고 치더라도 서울에서 시외버스+ 양양에서 서핑샵까지 2만원 중반대의 교통비가 들어요 그러나 저는 럭키하게도 공휴일에 방문해서 셔틀버스 타고 게스트하우스 앞에 바로 내렸기 때문에 편하게 갔답니다 셔틀비용 편도 18000원 왕복 3만 원 양양 가는 법은 나중에 따로 포스팅을 해야 할 것 같아요 서핑타는곳 인구해수욕장은  양양 시외버스터미널로 가도 되고 강릉 터미널 주문진 터미널 어디에서나 비슷한 거리에 있었거든요 보통 강릉 터미널에서도 많이 옵니다 ktx도 있어서요 가는 거조차 귀찮았던 양양 서핑 과연 즐거웠을까요 안 즐거웠으면 포스팅도 안 합니다  사실 너무 꿀 잼이었거든요 서핑 강습은 이론교육 30분 지상 교육 잘할때까지 (20분정도) 실전교육 약 1시간 자유시간으로 이뤄져 있답니다. 솔게하에서 교육을 받고 짐을 맡기고 서핑 연습할 준비를 합니다. 서핑 준비물은 저는 래시가드 안에 비키니 긴 바지 다 가져갔고요, 서핑용 신발도 있다고 해서 비슷한 우븐 슈즈 같은 거 바다에서 신을 신발 챙겨갔고, 또 슬리퍼 하나 선글라스 캡 달린 모자 챙겼습니다. 솔게 하에서는 서핑수트랑 래시가드를 빌려주기 때문에 혹시 래시가드가 없다면 서핑 강습하는 곳에서 빌리면 됩니다. 하지만 거의 개인 수영복 을 입고 오더라고요 서핑용 신발보다는 맨발 이 제일 좋답니다 맨발로 서핑해주시고 슬리퍼, 물에 젖어도 되는 슬리퍼 가 참 유용했어요 신고 벗기 편한 슬리퍼요 숙소 내에서도 가장 편하게 신을만한 것이 햇빛이 강해서 모자 쓰길 잘했어요, 방수팩 도 가져가실 분들은 챙겨주세요 그리고 목이랑 얼굴 손발 같은 드러나는 곳이 정말 많이 탑니다 선크림 챙겨주세요 사실 서핑용수트 입어보고 싶었는데.. 왜냐 간지가 나는 것 같아서요.. 그런데 요즘 같은 더운 여름에 입으면 엄청 덥다고, 그냥 래시가드 입으라고 하셨습니다. 서핑이 사계절 해도 되는 스포츠인진 몰랐는데, 거의 바다물이 너무 찬 겨울 정도만 빼고 슈트를 입고 탈 수 있대요 슈트가 체온 유지 역할과, 혹시 모를 보드에 몸을 다칠 일을 방지한다고 합니다. 헤라 선크림 spf50 + pa+++ 짜리 레포츠용 선크림 목과 손 발등, 다리 등 꼼꼼하게 발라줬답니다. 썬스틱도 가져가서 신나게 발라줬어요 목부분이 제일 잘 탈 것 같아서  꼼꼼하게 발라주기 짐만 되었던 우븐 슈즈 괜히 가져갔네요 양양 바다가 생각보다 모래가 거칠진 않아서 맨발로 바닥 딛기 불편하지 않았습니다. 제가 강사님께 이 우븐 슈즈 신고 타는 건가요 물어보니 맨발이 젤 좋다네요 이론교육받기 강습은 서핑의 재미보다 안전사고를 막기 위해 서핑의 위험성에 대해 30분 듣고 갔습니다... 오... 초보자들만 모아놓고 강습하다 보니 진짜 위험성을 가르치는 게 당연합니다. 처음에 뭣도 모르고 마음만 앞서 안전사고가 엄청 많이 발생한다고 합니다. 꼭꼭 모래사장 가까이에서는 파도가 강하게 치니 절대로 서핑을 판답시고 보드를 들지 않고 바로 누워버리면 파도 따문에 보드에 부딪혀 사고가 나고, 파도가 셀 경우 보드가 두 동강이 난다고 합니다.. 오... 정말 몰랐던 사실 꼬옥  물이 허리까지 갔을 때 보드 위에 올라가아합니다. 그리고, 서핑 위에서 서는 것보다 패들링 하는 시간이 90%는 차자할 거라고 했어요 이날 날씨가 너무좋아서 서핑하기 안 좋은 날씨.. 파도가 너무 잔잔한 호수 욕장이라고 알려주셨어요 이런 날은 초보들이 연습하기 안전하다고 합니다. 파도가 없어서 너무 아쉬운 날이었어요 참 이런 것도 날씨 운이 좋아야 합니다 (파도운) 그리고 오른손잡이는 레귤러 자세 왼쪽 잡이는 구피 자세, 그리고 초보자들은 부상 방지를 위한 소프트한 서프보드를 타는데 부력도 좋고 스펀지로 만들어서 안전하다고 했어요 그래도 서프보드 무게가 스펀지로 만들어져도 되게 무겁답니다. 서프보드의 명칭들을 알기 쉽게 설명 듣고 바로 실전으로 갑시다 실전으로 바로 가면 좋으나. 해수욕장 바닥 위에서 지상훈련을 진행합니다. 넘나 더운 것... 제발 바다로 뛰어들고 싶은 마음 오조오억 번 했어요. 그 마음을 강사님이 알아채셨는지 바로 바다부터 입수하고 진행했습니다. 테이크오프 자세 위주로 배웠고, 패들링 하는 것 배웠어요 벌써부터 엄청 많은 수강생들이 바다에 동동동 떠있답니다. 양양 서핑스팟에서 배운 것을 잘 실전에 적용할 일만 남았답니다. 이날 정말 파도 없는 호수욕장  파도가 좀 있어야 되는데............ 이래서 일박이일 서핑은 아쉽.. 2박 3일은 돼야 할 것 같아요 요즘 휴가철에 여름이라 강사 1명당 학생 수가 많아서 개인적으로 1:1교습을 받기는 무리가 있었지만, 강습 1시간 자유시간 1시간 넘게. 사실 오래 타도되는데 힘들어서 나왔습니다. 심지어 공복 상태로 바다에 뛰어들어서  거의 초보도 처음 서핑을 배울 때는 대여만 하는 게 아니고 꼭 배우셔야 해요. 안 그럼 위험해요이날은 잔잔해서 그렇지 파도 샌 날에는 혼자 뛰어들면 큰일 납니다. 저는, 강사님 지도하에 보드 위에 올라가고 테이크오프가 지 한 번에 성공했어요 3번 봐주셨는데 다 성공 이날 인원수가 많았지만 한 명 한 명 봐주시는 게 좋았답니다. 이건 제 사진은 아니지만, 자유시간 때 찍은 내 친구 테이크오프 성공 모습 꺄아 워낙 파도가 없어서 이렇게 한가롭게 바다 한가운데서 둥둥 떠다녔습니다 바로 이런 게 힐링  서프보드와 어느새 하나가 됨을 경험할 수 있습니다. 처음인데도 재미있게 할 수 있었건 건, 안전하게 하기도 했지만 날씨도 안 뜨겁고 너무 좋았어요 구름이 살짝 가린 날씨 서핑 타기 좋은 날씨 그리고 배고팠는데 7시 30에 있을 바베큐 파티를 기다리며 일부러 안 먹었어요  그리고 서핑 탈 때 많이 먹으면 울렁거려요 모래사장에 누군가가 사람 형상을 만들어놨는데 처음에 너무 놀랐어요 이분 최소 미대 나오신 분 그리고 대여료가 아깝지 않게 정말 바다에서 뽕을 뽑고 있는 내 친구들 체력 대단해 진짜 처음엔 일어서기도 힘들었는데 결국 해내더라고요 자유시간 때 엄청 연습하니깐 결국 일어납니다 불굴의 의지로 첫 서핑임에도 불구하고 잘했어요 다음에도 또 올 거라며 가을에도 서핑 탈 수 있으니깐 또 타러 와야겠어요 잠시 휴식시간, 사진도 많이 찍었어요 마지막으로 서핑 다 끝내고 인증샷 길고 긴 롱보드 서핑보드를 멋지게 들고 셋이서 한컷 멋지게 찍고 끝냈네요 서핑하면서 제일 하고싶었던거 이렇게 서프보드들고 사진찍기 어딜가나 인증샷 남기기 좋아합니다 ◆양양 서핑스팟 가격 정보 셔틀 / 장비 / 서핑 강습 네이버 예약으로 예약했던 양양 인구해수욕장 앞에 있는 서핑스팟 1인 서핑 강습+렌탈비 (서핑 장비, 옷 다 포함 ) +바베큐 파티 = 1인 8만 원 강습 없이 보드랑 슈트 렌탈은 4만 원 도미토리 숙박만 하면 1인 2만 원이지만 패키지로 묶으면 그냥 숙박은free제공이였어요  (이 부분은  변동적이므로 있으므로 꼭 들어가서 확인) 1박2일 서핑 기본 비용은 숙박까지  경비는8만원 정도 들었어요 시외버스 이용해도 되지만 솔게하 셔틀버스 편도 18000원, 올 때 시외버스 15000원+택시비 해서 교통비는 4만 원은 예상해야 합니다 뭐 더 싸게야 갈수 있깄지만 대여료에 4만 원 더 붙는 강습료 아깝지 않아요 여기 솔게하에서 하는 서핑 스팟 서핑 배우면 바베큐 파티도 할 수 있어서 좋았답니다. 바베큐 파티랑 제가 묵었던 도미토리 생각보다 너무 깔끔하고 깨끗해서 따로 포스팅도 하려고요 * 셔틀버스는 주말만 이용 가능한 경우가 많으니 들어가서 봐야 해요 왕복은 3만 원이래요 양양서핑스팟 강원도 양양군 현남면 인구길 28-25 1층 양양서핑스팟 저장 관심 장소를 MY플레이스 에 저장할 수 있어요. 팝업 닫기 '내 장소' 폴더에 저장했습니다. MY플레이스 가기 팝업 닫기 예약 전화 상세보기 <a onclick=return false; href=bSize style=display:none target=blank class=semaplink selink data-linktype=map data-linkdata={&quot;eventTarget&quot;:&quot;button&quot;,&quot;didSearch&quot;:&quot;true&quot;,&quot;searchEngine&quot;:&quot;NAVER&quot;,&quot;locationId&quot;:&quot;1667772251&quot;,&quot;latitude&quot;:&quot;37.9687469&quot;,&quot;markerLatitude&quot;:&quot;37.9687469&quot;,&quot;markerLongitude&quot;:&quot;128.7618559&quot;,&quot;title&quot;:&quot;양양서핑스팟&quot;,&quot;longitude&quot;:&quot;128.7618559&quot;}>지도보기</a>\""
      ]
     },
     "execution_count": 370,
     "metadata": {},
     "output_type": "execute_result"
    }
   ],
   "source": [
    "crawling_df['full_text'][7][0]"
   ]
  },
  {
   "cell_type": "code",
   "execution_count": 369,
   "metadata": {
    "ExecuteTime": {
     "end_time": "2020-04-06T05:58:50.036452Z",
     "start_time": "2020-04-06T05:58:49.844333Z"
    }
   },
   "outputs": [],
   "source": [
    "pos_text = okt.pos(crawling_df['full_text'][7][0], norm=True, stem=True)"
   ]
  },
  {
   "cell_type": "markdown",
   "metadata": {},
   "source": [
    "### 함수화전"
   ]
  },
  {
   "cell_type": "code",
   "execution_count": 392,
   "metadata": {
    "ExecuteTime": {
     "end_time": "2020-04-06T06:20:18.885412Z",
     "start_time": "2020-04-06T06:20:18.882411Z"
    }
   },
   "outputs": [
    {
     "data": {
      "text/plain": [
       "'http://blog.naver.com/PostView.nhn?blogId=wert11254e&logNo=221883656430&redirect=Dlog&widgetTypeCall=true&directAccess=false'"
      ]
     },
     "execution_count": 392,
     "metadata": {},
     "output_type": "execute_result"
    }
   ],
   "source": [
    "crawling_df['url'][440]"
   ]
  },
  {
   "cell_type": "code",
   "execution_count": 395,
   "metadata": {
    "ExecuteTime": {
     "end_time": "2020-04-06T06:23:24.844419Z",
     "start_time": "2020-04-06T06:23:24.826725Z"
    }
   },
   "outputs": [
    {
     "data": {
      "text/plain": [
       "' 양양여행 / 양양호텔 : 투와이 호텔 후기 난생첨 하이와 둘이 떠단 양양 여행 @.@ 학기 끝나자 마자 떠나버렸어요 2016.07.262016.07.27 설악해수욕장에서 걸어서 2분거리인 투와이 호텔  신축한 호텔이라 완전 깨끗해요  인근에는 낙산사와 후진항활어회센터가 있어요. 도착한 투와이 호텔  위사진은 옆문이에요  저희는 양양 터미널에서 버스 (9번과 9-1번 둘다감)를 타고 왔어요 . 설악해수욕장 정류장에서 내려서 길건너면 바로있습니다. 버스도 15분에서 30분에 한대씩옵니다   신축한 호텔답게 깔끔한 양양호텔 투와이의 1층에는 퍼스트플로어라는 브런치카페겸 펍이 있어요 .  가격은 요러하니 투와이호텔 이용하실때 알아두세요   양양호텔 투와이호텔 층별 안내  복도도 깨끗   그리고 투와이호텔에서는 너무 좋은 향기가 나요   방에 들어서자 , 왼쪽에는 화장대와 오른쪽에는 화장실 그리고 바다전망의 룸  깨끗한 침대와 티테이블과 티비가 있네요  디럭스룸이라 디럭스 침대로 넓직하게 이불말아서 자는 하이와도 이불싸움 없이 잘 잤습니다   완전 뽀송뽀송한 호텔 침구 >.< 침대옆에는 콘센트로 네개나 넉넉히 있었어요 .  곧 짐을 널어놓게 될 티테이블  바다가 완전 잘 보였습니다  화장실도 깨끗  샤워부스가 있었구요 , 온수 빨리 잘나왔습니다   완전 넉넉한 수건들 ...  호텔 비품으로 샴푸 컨디셔너 바디워시에 바디로션까지  비누또한 준비되어있었고 , 그 외의 어메니티에는 샤워캡 칫솔2 화장솜+면봉+머리끈 .  앗 모르고 로고로 가려버렸지만, 원두 커피티백도 있었어요 .  네슬레 물도 두병 무료   화장대 밑에 헤어드라이어와 가운 슬리퍼있어요  꼼꼼히 다 갖추어져있더라구요 .    양양호텔 투와이에서 쾌적하게 지내시면 될거 같아요  당연히 에어컨과 티비도 완비   굴다리로 건너서 나가면 설악해수욕장이 바로 코앞  저희도 물놀이 하다가 호텔와서 편하게 씻고 아주 편리하게 이용했어요 . 설악해수욕장에는 사람이 그렇게 많은 것도 아니였고 , 물도 깨끗했고 해변도 아담하니 가족단위로 와서 놀기 딱 좋은 것 같아요 .  양양호텔 투와이에서 너무 좋았던 점 하나더  7층에 있는 테라스바  해질 무렵이 막 지나 올라간 터라 설악산을 야경으로 볼 수 있었지요 산 능선이 정말 멋진데 , 투와이호텔 테라스바에서 바라보니 편하게 앉아서 바라보았네요 . 강원도 양양여행때 묵은 양양호텔 투와이 후기 끝 '"
      ]
     },
     "execution_count": 395,
     "metadata": {},
     "output_type": "execute_result"
    }
   ],
   "source": [
    "crawling_df['full_text'][441][0]"
   ]
  },
  {
   "cell_type": "code",
   "execution_count": 394,
   "metadata": {
    "ExecuteTime": {
     "end_time": "2020-04-06T06:23:19.501225Z",
     "start_time": "2020-04-06T06:23:19.482220Z"
    }
   },
   "outputs": [
    {
     "data": {
      "text/plain": [
       "['양양',\n",
       " '여행',\n",
       " '양양',\n",
       " '호텔',\n",
       " '투',\n",
       " '와이',\n",
       " '호텔',\n",
       " '후기',\n",
       " '난생',\n",
       " '첨',\n",
       " '하이',\n",
       " '양양',\n",
       " '여행',\n",
       " '학기',\n",
       " '설악',\n",
       " '해수욕장',\n",
       " '분',\n",
       " '거리',\n",
       " '투',\n",
       " '와이',\n",
       " '호텔',\n",
       " '신축',\n",
       " '호텔',\n",
       " '완전',\n",
       " '인근',\n",
       " '낙산사',\n",
       " '후진항',\n",
       " '활어',\n",
       " '회',\n",
       " '센터',\n",
       " '도착',\n",
       " '투',\n",
       " '와이',\n",
       " '호텔',\n",
       " '위',\n",
       " '사진',\n",
       " '옆',\n",
       " '문',\n",
       " '양양',\n",
       " '터미널',\n",
       " '버스',\n",
       " '번',\n",
       " '-1',\n",
       " '번',\n",
       " '다감',\n",
       " '설악',\n",
       " '해수욕장',\n",
       " '정류장',\n",
       " '길',\n",
       " '버스',\n",
       " '분',\n",
       " '분',\n",
       " '한대',\n",
       " '신축',\n",
       " '호텔',\n",
       " '양양',\n",
       " '호텔',\n",
       " '투',\n",
       " '와이',\n",
       " '퍼스트',\n",
       " '플로어',\n",
       " '브런치',\n",
       " '카페',\n",
       " '겸',\n",
       " '가격',\n",
       " '러',\n",
       " '하니',\n",
       " '투',\n",
       " '와이',\n",
       " '호텔',\n",
       " '이용하',\n",
       " '실',\n",
       " '때',\n",
       " '양양',\n",
       " '호텔',\n",
       " '투',\n",
       " '와이',\n",
       " '호텔',\n",
       " '층',\n",
       " '안내',\n",
       " '복도',\n",
       " '투',\n",
       " '와이',\n",
       " '호텔',\n",
       " '향기',\n",
       " '방',\n",
       " '왼쪽',\n",
       " '화장대',\n",
       " '오른쪽',\n",
       " '화장실',\n",
       " '바다',\n",
       " '전망',\n",
       " '룸',\n",
       " '침대',\n",
       " '티',\n",
       " '테이블',\n",
       " '티',\n",
       " '비',\n",
       " '디',\n",
       " '럭스',\n",
       " '룸',\n",
       " '디',\n",
       " '럭스',\n",
       " '침대',\n",
       " '이불',\n",
       " '자',\n",
       " '하이',\n",
       " '와도',\n",
       " '이불',\n",
       " '싸움',\n",
       " '완전',\n",
       " '호텔',\n",
       " '침구',\n",
       " '침대',\n",
       " '옆',\n",
       " '콘센트',\n",
       " '개',\n",
       " '짐',\n",
       " '티',\n",
       " '테이블',\n",
       " '바다',\n",
       " '완전',\n",
       " '화장실',\n",
       " '샤워',\n",
       " '부스',\n",
       " '온수',\n",
       " '완전',\n",
       " '수건',\n",
       " '호텔',\n",
       " '비품',\n",
       " '샴푸',\n",
       " '바',\n",
       " '디워',\n",
       " '시',\n",
       " '바',\n",
       " '디',\n",
       " '로션',\n",
       " '비누',\n",
       " '준비',\n",
       " '외',\n",
       " '어메니티',\n",
       " '샤워',\n",
       " '캡',\n",
       " '칫솔',\n",
       " '화장',\n",
       " '솜',\n",
       " '면봉',\n",
       " '머리',\n",
       " '끈',\n",
       " '로고',\n",
       " '원',\n",
       " '커피',\n",
       " '티백',\n",
       " '네슬레',\n",
       " '물',\n",
       " '병',\n",
       " '무료',\n",
       " '화장대',\n",
       " '밑',\n",
       " '헤어드라이어',\n",
       " '가운',\n",
       " '슬리퍼',\n",
       " '양양',\n",
       " '호텔',\n",
       " '투',\n",
       " '와이',\n",
       " '거',\n",
       " '에어컨',\n",
       " '티',\n",
       " '비도',\n",
       " '완비',\n",
       " '굴',\n",
       " '다리',\n",
       " '설악',\n",
       " '해수욕장',\n",
       " '코앞',\n",
       " '물놀이',\n",
       " '호텔',\n",
       " '와서',\n",
       " '편리',\n",
       " '이용',\n",
       " '설악',\n",
       " '해수욕장',\n",
       " '사람',\n",
       " '것',\n",
       " '아니',\n",
       " '물',\n",
       " '해변',\n",
       " '가족',\n",
       " '단위',\n",
       " '것',\n",
       " '양양',\n",
       " '호텔',\n",
       " '투',\n",
       " '와이',\n",
       " '점',\n",
       " '테라스',\n",
       " '바',\n",
       " '무렵',\n",
       " '터',\n",
       " '설악산',\n",
       " '야경',\n",
       " '수',\n",
       " '능선',\n",
       " '투',\n",
       " '와이',\n",
       " '호텔',\n",
       " '테라스',\n",
       " '바',\n",
       " '강원도',\n",
       " '양양',\n",
       " '여행',\n",
       " '때',\n",
       " '양양',\n",
       " '호텔',\n",
       " '투',\n",
       " '와이',\n",
       " '후기',\n",
       " '끝']"
      ]
     },
     "execution_count": 394,
     "metadata": {},
     "output_type": "execute_result"
    }
   ],
   "source": [
    "komoran.nouns(crawling_df['full_text'][441][0])"
   ]
  },
  {
   "cell_type": "code",
   "execution_count": 413,
   "metadata": {
    "ExecuteTime": {
     "end_time": "2020-04-06T06:33:57.750620Z",
     "start_time": "2020-04-06T06:33:57.746619Z"
    }
   },
   "outputs": [
    {
     "data": {
      "text/plain": [
       "'http://blog.naver.com/PostView.nhn?blogId=kjakfldh&logNo=221008785961&redirect=Dlog&widgetTypeCall=true&directAccess=false'"
      ]
     },
     "execution_count": 413,
     "metadata": {},
     "output_type": "execute_result"
    }
   ],
   "source": [
    "crawling_df['url'][439]"
   ]
  },
  {
   "cell_type": "code",
   "execution_count": 409,
   "metadata": {
    "ExecuteTime": {
     "end_time": "2020-04-06T06:32:56.974178Z",
     "start_time": "2020-04-06T06:32:56.506052Z"
    }
   },
   "outputs": [],
   "source": [
    "nouns = komoran.nouns(crawling_df['full_text'][438][0])"
   ]
  },
  {
   "cell_type": "code",
   "execution_count": 447,
   "metadata": {
    "ExecuteTime": {
     "end_time": "2020-04-06T06:45:36.189603Z",
     "start_time": "2020-04-06T06:45:36.186602Z"
    }
   },
   "outputs": [
    {
     "data": {
      "text/plain": [
       "<konlpy.tag._komoran.Komoran at 0x1752819a908>"
      ]
     },
     "execution_count": 447,
     "metadata": {},
     "output_type": "execute_result"
    }
   ],
   "source": [
    "komoran"
   ]
  },
  {
   "cell_type": "code",
   "execution_count": 448,
   "metadata": {
    "ExecuteTime": {
     "end_time": "2020-04-06T06:46:39.480494Z",
     "start_time": "2020-04-06T06:46:38.658517Z"
    }
   },
   "outputs": [],
   "source": [
    "komoran = Komoran()"
   ]
  },
  {
   "cell_type": "code",
   "execution_count": 461,
   "metadata": {
    "ExecuteTime": {
     "end_time": "2020-04-06T07:01:18.590165Z",
     "start_time": "2020-04-06T07:01:17.761979Z"
    },
    "scrolled": false
   },
   "outputs": [
    {
     "name": "stderr",
     "output_type": "stream",
     "text": [
      "C:\\Users\\User\\Anaconda3\\lib\\site-packages\\ipykernel_launcher.py:1: TqdmDeprecationWarning: This function will be removed in tqdm==5.0.0\n",
      "Please use `tqdm.notebook.tqdm` instead of `tqdm.tqdm_notebook`\n",
      "  \"\"\"Entry point for launching an IPython kernel.\n"
     ]
    },
    {
     "data": {
      "application/vnd.jupyter.widget-view+json": {
       "model_id": "c9139fbf718b40049dd3dafd024f241a",
       "version_major": 2,
       "version_minor": 0
      },
      "text/plain": [
       "HBox(children=(FloatProgress(value=0.0, max=20.0), HTML(value='')))"
      ]
     },
     "metadata": {},
     "output_type": "display_data"
    },
    {
     "ename": "java.lang.NullPointerException",
     "evalue": "java.lang.NullPointerException",
     "output_type": "error",
     "traceback": [
      "\u001b[1;31m---------------------------------------------------------------------------\u001b[0m",
      "\u001b[1;31mException\u001b[0m                                 Traceback (most recent call last)",
      "\u001b[1;31mException\u001b[0m: Java Exception",
      "\nThe above exception was the direct cause of the following exception:\n",
      "\u001b[1;31mjava.lang.NullPointerException\u001b[0m            Traceback (most recent call last)",
      "\u001b[1;32m<ipython-input-461-5505c714c534>\u001b[0m in \u001b[0;36m<module>\u001b[1;34m()\u001b[0m\n\u001b[0;32m      1\u001b[0m \u001b[1;32mfor\u001b[0m \u001b[0mi\u001b[0m \u001b[1;32min\u001b[0m \u001b[0mtqdm_notebook\u001b[0m\u001b[1;33m(\u001b[0m\u001b[0mrange\u001b[0m\u001b[1;33m(\u001b[0m\u001b[1;36m430\u001b[0m\u001b[1;33m,\u001b[0m\u001b[1;36m450\u001b[0m\u001b[1;33m)\u001b[0m\u001b[1;33m)\u001b[0m\u001b[1;33m:\u001b[0m\u001b[1;33m\u001b[0m\u001b[0m\n\u001b[0;32m      2\u001b[0m     \u001b[0mtt\u001b[0m \u001b[1;33m=\u001b[0m \u001b[0mcrawling_df\u001b[0m\u001b[1;33m[\u001b[0m\u001b[1;34m'full_text'\u001b[0m\u001b[1;33m]\u001b[0m\u001b[1;33m[\u001b[0m\u001b[0mi\u001b[0m\u001b[1;33m]\u001b[0m\u001b[1;33m[\u001b[0m\u001b[1;36m0\u001b[0m\u001b[1;33m]\u001b[0m\u001b[1;33m\u001b[0m\u001b[0m\n\u001b[1;32m----> 3\u001b[1;33m     \u001b[0mkomoran\u001b[0m\u001b[1;33m.\u001b[0m\u001b[0mpos\u001b[0m\u001b[1;33m(\u001b[0m\u001b[0mtt\u001b[0m\u001b[1;33m,\u001b[0m \u001b[0mflatten\u001b[0m\u001b[1;33m=\u001b[0m\u001b[1;32mTrue\u001b[0m\u001b[1;33m,\u001b[0m \u001b[0mjoin\u001b[0m\u001b[1;33m=\u001b[0m\u001b[1;32mTrue\u001b[0m\u001b[1;33m)\u001b[0m\u001b[1;33m\u001b[0m\u001b[0m\n\u001b[0m",
      "\u001b[1;32m~\\Anaconda3\\lib\\site-packages\\konlpy\\tag\\_komoran.py\u001b[0m in \u001b[0;36mpos\u001b[1;34m(self, phrase, flatten, join)\u001b[0m\n\u001b[0;32m     66\u001b[0m             \u001b[1;32mif\u001b[0m \u001b[1;32mnot\u001b[0m \u001b[0msentence\u001b[0m\u001b[1;33m:\u001b[0m\u001b[1;33m\u001b[0m\u001b[0m\n\u001b[0;32m     67\u001b[0m                 \u001b[1;32mcontinue\u001b[0m\u001b[1;33m\u001b[0m\u001b[0m\n\u001b[1;32m---> 68\u001b[1;33m             \u001b[0mresult\u001b[0m \u001b[1;33m=\u001b[0m \u001b[0mself\u001b[0m\u001b[1;33m.\u001b[0m\u001b[0mjki\u001b[0m\u001b[1;33m.\u001b[0m\u001b[0manalyze\u001b[0m\u001b[1;33m(\u001b[0m\u001b[0msentence\u001b[0m\u001b[1;33m)\u001b[0m\u001b[1;33m.\u001b[0m\u001b[0mgetTokenList\u001b[0m\u001b[1;33m(\u001b[0m\u001b[1;33m)\u001b[0m\u001b[1;33m\u001b[0m\u001b[0m\n\u001b[0m\u001b[0;32m     69\u001b[0m             \u001b[0mresult\u001b[0m \u001b[1;33m=\u001b[0m \u001b[1;33m[\u001b[0m\u001b[1;33m(\u001b[0m\u001b[0mtoken\u001b[0m\u001b[1;33m.\u001b[0m\u001b[0mgetMorph\u001b[0m\u001b[1;33m(\u001b[0m\u001b[1;33m)\u001b[0m\u001b[1;33m,\u001b[0m \u001b[0mtoken\u001b[0m\u001b[1;33m.\u001b[0m\u001b[0mgetPos\u001b[0m\u001b[1;33m(\u001b[0m\u001b[1;33m)\u001b[0m\u001b[1;33m)\u001b[0m \u001b[1;32mfor\u001b[0m \u001b[0mtoken\u001b[0m \u001b[1;32min\u001b[0m \u001b[0mresult\u001b[0m\u001b[1;33m]\u001b[0m\u001b[1;33m\u001b[0m\u001b[0m\n\u001b[0;32m     70\u001b[0m \u001b[1;33m\u001b[0m\u001b[0m\n",
      "\u001b[1;31mjava.lang.NullPointerException\u001b[0m: java.lang.NullPointerException"
     ]
    }
   ],
   "source": [
    "for i in tqdm_notebook(range(430,450)):\n",
    "    tt = crawling_df['full_text'][i][0]\n",
    "    komoran.pos(tt, flatten=True, join=True)"
   ]
  },
  {
   "cell_type": "code",
   "execution_count": null,
   "metadata": {},
   "outputs": [],
   "source": []
  },
  {
   "cell_type": "code",
   "execution_count": 452,
   "metadata": {
    "ExecuteTime": {
     "end_time": "2020-04-06T06:51:21.225697Z",
     "start_time": "2020-04-06T06:51:12.162677Z"
    }
   },
   "outputs": [
    {
     "name": "stderr",
     "output_type": "stream",
     "text": [
      "C:\\Users\\User\\Anaconda3\\lib\\site-packages\\ipykernel_launcher.py:8: TqdmDeprecationWarning: This function will be removed in tqdm==5.0.0\n",
      "Please use `tqdm.notebook.tqdm` instead of `tqdm.tqdm_notebook`\n",
      "  \n"
     ]
    },
    {
     "data": {
      "application/vnd.jupyter.widget-view+json": {
       "model_id": "e491fcbf049e4b9888668543f9d040b1",
       "version_major": 2,
       "version_minor": 0
      },
      "text/plain": [
       "HBox(children=(FloatProgress(value=0.0, max=604.0), HTML(value='')))"
      ]
     },
     "metadata": {},
     "output_type": "display_data"
    },
    {
     "ename": "java.lang.NullPointerException",
     "evalue": "java.lang.NullPointerException",
     "output_type": "error",
     "traceback": [
      "\u001b[1;31m---------------------------------------------------------------------------\u001b[0m",
      "\u001b[1;31mException\u001b[0m                                 Traceback (most recent call last)",
      "\u001b[1;31mException\u001b[0m: Java Exception",
      "\nThe above exception was the direct cause of the following exception:\n",
      "\u001b[1;31mjava.lang.NullPointerException\u001b[0m            Traceback (most recent call last)",
      "\u001b[1;32m<ipython-input-452-85cbb3728537>\u001b[0m in \u001b[0;36m<module>\u001b[1;34m()\u001b[0m\n\u001b[0;32m      7\u001b[0m \u001b[1;33m\u001b[0m\u001b[0m\n\u001b[0;32m      8\u001b[0m \u001b[1;32mfor\u001b[0m \u001b[0mi\u001b[0m \u001b[1;32min\u001b[0m \u001b[0mtqdm_notebook\u001b[0m\u001b[1;33m(\u001b[0m\u001b[0mrange\u001b[0m\u001b[1;33m(\u001b[0m\u001b[1;36m0\u001b[0m\u001b[1;33m,\u001b[0m\u001b[0mlen\u001b[0m\u001b[1;33m(\u001b[0m\u001b[0mcrawling_df\u001b[0m\u001b[1;33m)\u001b[0m\u001b[1;33m)\u001b[0m\u001b[1;33m)\u001b[0m\u001b[1;33m:\u001b[0m\u001b[1;33m\u001b[0m\u001b[0m\n\u001b[1;32m----> 9\u001b[1;33m     \u001b[0mnouns\u001b[0m \u001b[1;33m=\u001b[0m \u001b[0mkomoran\u001b[0m\u001b[1;33m.\u001b[0m\u001b[0mnouns\u001b[0m\u001b[1;33m(\u001b[0m\u001b[0mcrawling_df\u001b[0m\u001b[1;33m[\u001b[0m\u001b[1;34m'full_text'\u001b[0m\u001b[1;33m]\u001b[0m\u001b[1;33m[\u001b[0m\u001b[0mi\u001b[0m\u001b[1;33m]\u001b[0m\u001b[1;33m[\u001b[0m\u001b[1;36m0\u001b[0m\u001b[1;33m]\u001b[0m\u001b[1;33m)\u001b[0m\u001b[1;33m\u001b[0m\u001b[0m\n\u001b[0m\u001b[0;32m     10\u001b[0m     \u001b[0mclean_nouns\u001b[0m \u001b[1;33m=\u001b[0m \u001b[0mlist\u001b[0m\u001b[1;33m(\u001b[0m\u001b[0mfilter\u001b[0m\u001b[1;33m(\u001b[0m\u001b[1;32mlambda\u001b[0m \u001b[0mword\u001b[0m \u001b[1;33m:\u001b[0m \u001b[1;33m(\u001b[0m\u001b[0mlen\u001b[0m\u001b[1;33m(\u001b[0m\u001b[0mword\u001b[0m\u001b[1;33m)\u001b[0m\u001b[1;33m>\u001b[0m\u001b[1;36m1\u001b[0m\u001b[1;33m)\u001b[0m\u001b[1;33m&\u001b[0m\u001b[1;33m(\u001b[0m\u001b[0mword\u001b[0m \u001b[1;32mnot\u001b[0m \u001b[1;32min\u001b[0m \u001b[0msw\u001b[0m\u001b[1;33m)\u001b[0m\u001b[1;33m,\u001b[0m\u001b[0mnouns\u001b[0m\u001b[1;33m)\u001b[0m\u001b[1;33m)\u001b[0m\u001b[1;33m\u001b[0m\u001b[0m\n\u001b[0;32m     11\u001b[0m     \u001b[1;32mif\u001b[0m \u001b[0munique\u001b[0m \u001b[1;33m==\u001b[0m \u001b[1;32mTrue\u001b[0m\u001b[1;33m:\u001b[0m\u001b[1;33m\u001b[0m\u001b[0m\n",
      "\u001b[1;32m~\\Anaconda3\\lib\\site-packages\\konlpy\\tag\\_komoran.py\u001b[0m in \u001b[0;36mnouns\u001b[1;34m(self, phrase)\u001b[0m\n\u001b[0;32m     81\u001b[0m         \u001b[1;34m\"\"\"Noun extractor.\"\"\"\u001b[0m\u001b[1;33m\u001b[0m\u001b[0m\n\u001b[0;32m     82\u001b[0m \u001b[1;33m\u001b[0m\u001b[0m\n\u001b[1;32m---> 83\u001b[1;33m         \u001b[0mtagged\u001b[0m \u001b[1;33m=\u001b[0m \u001b[0mself\u001b[0m\u001b[1;33m.\u001b[0m\u001b[0mpos\u001b[0m\u001b[1;33m(\u001b[0m\u001b[0mphrase\u001b[0m\u001b[1;33m)\u001b[0m\u001b[1;33m\u001b[0m\u001b[0m\n\u001b[0m\u001b[0;32m     84\u001b[0m         \u001b[1;32mreturn\u001b[0m \u001b[1;33m[\u001b[0m\u001b[0ms\u001b[0m \u001b[1;32mfor\u001b[0m \u001b[0ms\u001b[0m\u001b[1;33m,\u001b[0m \u001b[0mt\u001b[0m \u001b[1;32min\u001b[0m \u001b[0mtagged\u001b[0m \u001b[1;32mif\u001b[0m \u001b[0mt\u001b[0m\u001b[1;33m.\u001b[0m\u001b[0mstartswith\u001b[0m\u001b[1;33m(\u001b[0m\u001b[1;34m'NN'\u001b[0m\u001b[1;33m)\u001b[0m\u001b[1;33m]\u001b[0m\u001b[1;33m\u001b[0m\u001b[0m\n\u001b[0;32m     85\u001b[0m \u001b[1;33m\u001b[0m\u001b[0m\n",
      "\u001b[1;32m~\\Anaconda3\\lib\\site-packages\\konlpy\\tag\\_komoran.py\u001b[0m in \u001b[0;36mpos\u001b[1;34m(self, phrase, flatten, join)\u001b[0m\n\u001b[0;32m     66\u001b[0m             \u001b[1;32mif\u001b[0m \u001b[1;32mnot\u001b[0m \u001b[0msentence\u001b[0m\u001b[1;33m:\u001b[0m\u001b[1;33m\u001b[0m\u001b[0m\n\u001b[0;32m     67\u001b[0m                 \u001b[1;32mcontinue\u001b[0m\u001b[1;33m\u001b[0m\u001b[0m\n\u001b[1;32m---> 68\u001b[1;33m             \u001b[0mresult\u001b[0m \u001b[1;33m=\u001b[0m \u001b[0mself\u001b[0m\u001b[1;33m.\u001b[0m\u001b[0mjki\u001b[0m\u001b[1;33m.\u001b[0m\u001b[0manalyze\u001b[0m\u001b[1;33m(\u001b[0m\u001b[0msentence\u001b[0m\u001b[1;33m)\u001b[0m\u001b[1;33m.\u001b[0m\u001b[0mgetTokenList\u001b[0m\u001b[1;33m(\u001b[0m\u001b[1;33m)\u001b[0m\u001b[1;33m\u001b[0m\u001b[0m\n\u001b[0m\u001b[0;32m     69\u001b[0m             \u001b[0mresult\u001b[0m \u001b[1;33m=\u001b[0m \u001b[1;33m[\u001b[0m\u001b[1;33m(\u001b[0m\u001b[0mtoken\u001b[0m\u001b[1;33m.\u001b[0m\u001b[0mgetMorph\u001b[0m\u001b[1;33m(\u001b[0m\u001b[1;33m)\u001b[0m\u001b[1;33m,\u001b[0m \u001b[0mtoken\u001b[0m\u001b[1;33m.\u001b[0m\u001b[0mgetPos\u001b[0m\u001b[1;33m(\u001b[0m\u001b[1;33m)\u001b[0m\u001b[1;33m)\u001b[0m \u001b[1;32mfor\u001b[0m \u001b[0mtoken\u001b[0m \u001b[1;32min\u001b[0m \u001b[0mresult\u001b[0m\u001b[1;33m]\u001b[0m\u001b[1;33m\u001b[0m\u001b[0m\n\u001b[0;32m     70\u001b[0m \u001b[1;33m\u001b[0m\u001b[0m\n",
      "\u001b[1;31mjava.lang.NullPointerException\u001b[0m: java.lang.NullPointerException"
     ]
    }
   ],
   "source": [
    "unique = True\n",
    "\n",
    "sw = list(set(['오늘','시간','최근','지난','관련','이번','이날','현재','10','올해','지난해','있다','이상','기준','때문',\n",
    "     \"메뉴\",\"주문\",\"강원도\",'정도','도착','생각','양양군','사진','위치','라고','양양',\"아침\",\"저녁\",'다음','우리','시작','여기','이곳','사람']))\n",
    "\n",
    "all_nouns =[]\n",
    "\n",
    "for i in tqdm_notebook(range(0,len(crawling_df))):\n",
    "    nouns = komoran.nouns(crawling_df['full_text'][i][0])\n",
    "    clean_nouns = list(filter(lambda word : (len(word)>1)&(word not in sw),nouns))\n",
    "    if unique == True:\n",
    "        clean_nouns = list(set(clean_nouns))\n",
    "    all_nouns.append(clean_nouns)"
   ]
  },
  {
   "cell_type": "code",
   "execution_count": null,
   "metadata": {
    "ExecuteTime": {
     "end_time": "2020-04-06T06:18:24.696010Z",
     "start_time": "2020-04-06T06:16:57.330Z"
    }
   },
   "outputs": [],
   "source": [
    "#단어빈도분석 \n",
    "#2중리스트 flatten\n",
    "all_noun_flatten = [y for x in all_nouns for y in x]\n",
    "\n",
    "count_df = pd.Series(all_noun_flatten).value_counts().reset_index()\n",
    "\n",
    "count_df.columns = ['word','counted']\n",
    "\n",
    "plt.figure(figsize=(7,5))\n",
    "sns.barplot(x= 'word', y = 'counted', data = count_df.head(20))\n",
    "plt.xticks(rotation = 45)\n",
    "#저장\n",
    "# count_df.to_csv(\"./output/\"+str(today)+\"_\"+keyword+\"_\"+str(real_length)+'_단어빈도'+'.csv',encoding ='cp949')\n",
    "# plt.savefig(\"./output/\"+str(today)+\"_\"+keyword+\"_\"+str(real_length)+'_단어빈도'+'.png')\n",
    "plt.show()"
   ]
  },
  {
   "cell_type": "code",
   "execution_count": null,
   "metadata": {
    "ExecuteTime": {
     "end_time": "2020-04-06T06:18:24.698011Z",
     "start_time": "2020-04-06T06:16:58.041Z"
    }
   },
   "outputs": [],
   "source": [
    "#워드클라우드\n",
    "\n",
    "#마스킹 준비\n",
    "from PIL import Image\n",
    "import numpy as np\n",
    "import wordcloud\n",
    "import random\n",
    "\n",
    "img_path = \"vector-cloud-png.png\"\n",
    "img = Image.open(img_path).convert('RGBA')\n",
    "mask = Image.new(\"RGB\", img.size, (255,255,255))\n",
    "mask.paste(img, img)\n",
    "mask = np.array(mask)\n",
    "\n",
    "text= ' '.join(all_noun_flatten)\n",
    "\n",
    "wordc = wordcloud.WordCloud(background_color = 'White', max_words= 200,\n",
    "                           font_path = 'C:/Windows/Fonts/malgun.ttf',\n",
    "                           relative_scaling = 0.5,\n",
    "                           stopwords= sw,\n",
    "                           collocations = False,\n",
    "                        mask = mask)\n",
    "wordc.generate(text)\n",
    "\n",
    "def grey_color(word, font_size, position, orientation, random_state=None, **kwargs):\n",
    "    return 'hsl(%d,100%%,50%%)' % random.randint(200,300) #색상 채도 밝기\n",
    "wordc.recolor(color_func = grey_color, random_state =3)\n",
    "\n",
    "#그리기\n",
    "plt.figure(figsize = (10,10))\n",
    "plt.axis('off')\n",
    "plt.imshow(wordc, interpolation = 'bilinear')\n",
    "#저장\n",
    "plt.savefig(\"./output/\"+str(today)+\"_\"+keyword+\"_\"+str(real_length)+'_워드클라우드'+'.png')\n",
    "plt.show()"
   ]
  },
  {
   "cell_type": "markdown",
   "metadata": {},
   "source": [
    "### 함수화"
   ]
  },
  {
   "cell_type": "code",
   "execution_count": 259,
   "metadata": {
    "ExecuteTime": {
     "end_time": "2020-04-02T08:30:38.829900Z",
     "start_time": "2020-04-02T08:30:37.090224Z"
    }
   },
   "outputs": [
    {
     "name": "stderr",
     "output_type": "stream",
     "text": [
      "C:\\Users\\User\\Anaconda3\\lib\\site-packages\\konlpy\\tag\\_okt.py:16: UserWarning: \"Twitter\" has changed to \"Okt\" since KoNLPy v0.4.5.\n",
      "  warn('\"Twitter\" has changed to \"Okt\" since KoNLPy v0.4.5.')\n"
     ]
    }
   ],
   "source": [
    "#형태소분석기 종류비교\n",
    "mecab = Mecab()\n",
    "komoran = Komoran(userdic='user_dictionary.txt')\n",
    "kkma = Kkma()\n",
    "okt = Okt()\n",
    "twitter = Twitter()"
   ]
  },
  {
   "cell_type": "code",
   "execution_count": null,
   "metadata": {},
   "outputs": [],
   "source": [
    "Mecab()"
   ]
  },
  {
   "cell_type": "code",
   "execution_count": 251,
   "metadata": {
    "ExecuteTime": {
     "end_time": "2020-04-02T07:31:34.188482Z",
     "start_time": "2020-04-02T07:31:34.183481Z"
    }
   },
   "outputs": [],
   "source": [
    "def tokenaize(tagger, target, unique = False, save = True):\n",
    "    sw = ['오늘','시간','최근','지난','관련','이번','이날','현재','10','올해','지난해','있다','이상','기준','때문',\n",
    "     \"메뉴\",\"주문\",\"강원도\",'정도','도착','생각','양양군','사진','위치','라고']\n",
    "    all_nouns =[]\n",
    "\n",
    "    for i in tqdm_notebook(range(0,len(crawling_df))):\n",
    "        nouns = tagger.nouns(target[i][0])\n",
    "        clean_nouns = list(filter(lambda word : (len(word)>1)&(word not in sw),nouns))\n",
    "        if unique == True:\n",
    "            clean_nouns = list(set(clean_nouns))\n",
    "        all_nouns.append(clean_nouns)\n",
    "        \n",
    "    #2중리스트 flatten\n",
    "    all_noun_flatten = [y for x in all_nouns for y in x]\n",
    "\n",
    "    count_df = pd.Series(all_noun_flatten).value_counts().reset_index()\n",
    "\n",
    "    count_df.columns = ['word','counted']\n",
    "\n",
    "    plt.figure(figsize=(7,5))\n",
    "    sns.barplot(x= 'word', y = 'counted', data = count_df.head(20))\n",
    "    plt.xticks(rotation = 45)\n",
    "    if save == True:\n",
    "        count_df.to_csv(\"./output/\"+str(today)+\"_\"+keyword+\"_\"+str(real_length)+'_단어빈도'+'.csv',encoding ='cp949')\n",
    "        plt.savefig(\"./output/\"+str(today)+\"_\"+keyword+\"_\"+str(real_length)+'_단어빈도'+'.png')\n",
    "    plt.show()\n",
    "    \n",
    "    return all_nouns"
   ]
  },
  {
   "cell_type": "code",
   "execution_count": 252,
   "metadata": {
    "ExecuteTime": {
     "end_time": "2020-04-02T07:31:35.230716Z",
     "start_time": "2020-04-02T07:31:34.285504Z"
    },
    "scrolled": false
   },
   "outputs": [
    {
     "name": "stderr",
     "output_type": "stream",
     "text": [
      "C:\\Users\\User\\Anaconda3\\lib\\site-packages\\ipykernel_launcher.py:6: TqdmDeprecationWarning: This function will be removed in tqdm==5.0.0\n",
      "Please use `tqdm.notebook.tqdm` instead of `tqdm.tqdm_notebook`\n",
      "  \n"
     ]
    },
    {
     "data": {
      "application/vnd.jupyter.widget-view+json": {
       "model_id": "328ef199ec5d43b499429b1d79cdc058",
       "version_major": 2,
       "version_minor": 0
      },
      "text/plain": [
       "HBox(children=(FloatProgress(value=0.0, max=442.0), HTML(value='')))"
      ]
     },
     "metadata": {},
     "output_type": "display_data"
    },
    {
     "name": "stdout",
     "output_type": "stream",
     "text": [
      "\n"
     ]
    },
    {
     "data": {
      "image/png": "[encoded data removed]",
      "text/plain": [
       "<Figure size 504x360 with 1 Axes>"
      ]
     },
     "metadata": {},
     "output_type": "display_data"
    }
   ],
   "source": [
    "all_nouns = tokenaize(mecab,crawling_df['full_text'])"
   ]
  },
  {
   "cell_type": "code",
   "execution_count": 260,
   "metadata": {
    "ExecuteTime": {
     "end_time": "2020-04-02T08:30:53.844420Z",
     "start_time": "2020-04-02T08:30:43.132014Z"
    }
   },
   "outputs": [
    {
     "name": "stderr",
     "output_type": "stream",
     "text": [
      "C:\\Users\\User\\Anaconda3\\lib\\site-packages\\ipykernel_launcher.py:6: TqdmDeprecationWarning: This function will be removed in tqdm==5.0.0\n",
      "Please use `tqdm.notebook.tqdm` instead of `tqdm.tqdm_notebook`\n",
      "  \n"
     ]
    },
    {
     "data": {
      "application/vnd.jupyter.widget-view+json": {
       "model_id": "ee6d26a374f74b0e8b764b9d4132443e",
       "version_major": 2,
       "version_minor": 0
      },
      "text/plain": [
       "HBox(children=(FloatProgress(value=0.0, max=442.0), HTML(value='')))"
      ]
     },
     "metadata": {},
     "output_type": "display_data"
    },
    {
     "name": "stdout",
     "output_type": "stream",
     "text": [
      "\n"
     ]
    },
    {
     "data": {
      "image/png": "[encoded data removed]",
      "text/plain": [
       "<Figure size 504x360 with 1 Axes>"
      ]
     },
     "metadata": {},
     "output_type": "display_data"
    }
   ],
   "source": [
    "all_nouns = tokenaize(komoran,crawling_df['full_text'])"
   ]
  },
  {
   "cell_type": "markdown",
   "metadata": {},
   "source": [
    "### 연관분석"
   ]
  },
  {
   "cell_type": "code",
   "execution_count": 75,
   "metadata": {
    "ExecuteTime": {
     "end_time": "2020-04-02T01:59:26.179943Z",
     "start_time": "2020-04-02T01:59:26.056681Z"
    }
   },
   "outputs": [],
   "source": [
    "noun_df = pd.DataFrame({'nouns':all_nouns})\n",
    "rules = apriori(all_nouns, min_support=0.2, min_condience =0.3)\n",
    "results  = list(rules)"
   ]
  },
  {
   "cell_type": "code",
   "execution_count": 81,
   "metadata": {
    "ExecuteTime": {
     "end_time": "2020-04-02T02:01:34.336571Z",
     "start_time": "2020-04-02T02:01:34.101495Z"
    }
   },
   "outputs": [],
   "source": [
    "results_df = pd.DataFrame(columns =[\"lhs\",'rhs','support','confidence','lift'])\n",
    "index =0\n",
    "for row in results:   \n",
    "    support = row[1]\n",
    "    ordered_stat = row[2]\n",
    "    for ordered_item in ordered_stat:\n",
    "        lhs = \" \".join(x for x in ordered_item[0])\n",
    "        rhs = \" \".join(x for x in ordered_item[1])\n",
    "        confidence = ordered_item[2]\n",
    "        lift = ordered_item[3]\n",
    "        results_df.loc[index] = [lhs,rhs,support,confidence,lift]\n",
    "        index = index +1\n",
    "\n",
    "results_df = results_df.sort_values(by=\"lift\",ascending=False)"
   ]
  },
  {
   "cell_type": "code",
   "execution_count": 82,
   "metadata": {
    "ExecuteTime": {
     "end_time": "2020-04-02T02:01:34.886697Z",
     "start_time": "2020-04-02T02:01:34.878704Z"
    },
    "scrolled": true
   },
   "outputs": [
    {
     "data": {
      "text/html": [
       "<div>\n",
       "<style scoped>\n",
       "    .dataframe tbody tr th:only-of-type {\n",
       "        vertical-align: middle;\n",
       "    }\n",
       "\n",
       "    .dataframe tbody tr th {\n",
       "        vertical-align: top;\n",
       "    }\n",
       "\n",
       "    .dataframe thead th {\n",
       "        text-align: right;\n",
       "    }\n",
       "</style>\n",
       "<table border=\"1\" class=\"dataframe\">\n",
       "  <thead>\n",
       "    <tr style=\"text-align: right;\">\n",
       "      <th></th>\n",
       "      <th>lhs</th>\n",
       "      <th>rhs</th>\n",
       "      <th>support</th>\n",
       "      <th>confidence</th>\n",
       "      <th>lift</th>\n",
       "    </tr>\n",
       "  </thead>\n",
       "  <tbody>\n",
       "    <tr>\n",
       "      <td>78</td>\n",
       "      <td>바다</td>\n",
       "      <td>해변</td>\n",
       "      <td>0.212379</td>\n",
       "      <td>0.413712</td>\n",
       "      <td>1.495168</td>\n",
       "    </tr>\n",
       "    <tr>\n",
       "      <td>79</td>\n",
       "      <td>해변</td>\n",
       "      <td>바다</td>\n",
       "      <td>0.212379</td>\n",
       "      <td>0.767544</td>\n",
       "      <td>1.495168</td>\n",
       "    </tr>\n",
       "    <tr>\n",
       "      <td>155</td>\n",
       "      <td>해변 양양</td>\n",
       "      <td>바다</td>\n",
       "      <td>0.211165</td>\n",
       "      <td>0.766520</td>\n",
       "      <td>1.493173</td>\n",
       "    </tr>\n",
       "    <tr>\n",
       "      <td>150</td>\n",
       "      <td>바다</td>\n",
       "      <td>양양 해변</td>\n",
       "      <td>0.211165</td>\n",
       "      <td>0.411348</td>\n",
       "      <td>1.493173</td>\n",
       "    </tr>\n",
       "    <tr>\n",
       "      <td>153</td>\n",
       "      <td>바다 양양</td>\n",
       "      <td>해변</td>\n",
       "      <td>0.211165</td>\n",
       "      <td>0.412322</td>\n",
       "      <td>1.490147</td>\n",
       "    </tr>\n",
       "    <tr>\n",
       "      <td>152</td>\n",
       "      <td>해변</td>\n",
       "      <td>바다 양양</td>\n",
       "      <td>0.211165</td>\n",
       "      <td>0.763158</td>\n",
       "      <td>1.490147</td>\n",
       "    </tr>\n",
       "    <tr>\n",
       "      <td>129</td>\n",
       "      <td>느낌</td>\n",
       "      <td>여행 양양</td>\n",
       "      <td>0.206311</td>\n",
       "      <td>0.669291</td>\n",
       "      <td>1.332116</td>\n",
       "    </tr>\n",
       "    <tr>\n",
       "      <td>134</td>\n",
       "      <td>여행 양양</td>\n",
       "      <td>느낌</td>\n",
       "      <td>0.206311</td>\n",
       "      <td>0.410628</td>\n",
       "      <td>1.332116</td>\n",
       "    </tr>\n",
       "    <tr>\n",
       "      <td>52</td>\n",
       "      <td>여행</td>\n",
       "      <td>느낌</td>\n",
       "      <td>0.206311</td>\n",
       "      <td>0.410628</td>\n",
       "      <td>1.332116</td>\n",
       "    </tr>\n",
       "    <tr>\n",
       "      <td>131</td>\n",
       "      <td>여행</td>\n",
       "      <td>느낌 양양</td>\n",
       "      <td>0.206311</td>\n",
       "      <td>0.410628</td>\n",
       "      <td>1.332116</td>\n",
       "    </tr>\n",
       "    <tr>\n",
       "      <td>132</td>\n",
       "      <td>느낌 양양</td>\n",
       "      <td>여행</td>\n",
       "      <td>0.206311</td>\n",
       "      <td>0.669291</td>\n",
       "      <td>1.332116</td>\n",
       "    </tr>\n",
       "    <tr>\n",
       "      <td>51</td>\n",
       "      <td>느낌</td>\n",
       "      <td>여행</td>\n",
       "      <td>0.206311</td>\n",
       "      <td>0.669291</td>\n",
       "      <td>1.332116</td>\n",
       "    </tr>\n",
       "    <tr>\n",
       "      <td>69</td>\n",
       "      <td>바다</td>\n",
       "      <td>사람</td>\n",
       "      <td>0.252427</td>\n",
       "      <td>0.491726</td>\n",
       "      <td>1.239089</td>\n",
       "    </tr>\n",
       "    <tr>\n",
       "      <td>70</td>\n",
       "      <td>사람</td>\n",
       "      <td>바다</td>\n",
       "      <td>0.252427</td>\n",
       "      <td>0.636086</td>\n",
       "      <td>1.239089</td>\n",
       "    </tr>\n",
       "    <tr>\n",
       "      <td>141</td>\n",
       "      <td>양양 사람</td>\n",
       "      <td>바다</td>\n",
       "      <td>0.251214</td>\n",
       "      <td>0.634969</td>\n",
       "      <td>1.236914</td>\n",
       "    </tr>\n",
       "    <tr>\n",
       "      <td>136</td>\n",
       "      <td>바다</td>\n",
       "      <td>양양 사람</td>\n",
       "      <td>0.251214</td>\n",
       "      <td>0.489362</td>\n",
       "      <td>1.236914</td>\n",
       "    </tr>\n",
       "    <tr>\n",
       "      <td>140</td>\n",
       "      <td>바다 양양</td>\n",
       "      <td>사람</td>\n",
       "      <td>0.251214</td>\n",
       "      <td>0.490521</td>\n",
       "      <td>1.236054</td>\n",
       "    </tr>\n",
       "    <tr>\n",
       "      <td>137</td>\n",
       "      <td>사람</td>\n",
       "      <td>바다 양양</td>\n",
       "      <td>0.251214</td>\n",
       "      <td>0.633028</td>\n",
       "      <td>1.236054</td>\n",
       "    </tr>\n",
       "    <tr>\n",
       "      <td>145</td>\n",
       "      <td>여행</td>\n",
       "      <td>바다 양양</td>\n",
       "      <td>0.317961</td>\n",
       "      <td>0.632850</td>\n",
       "      <td>1.235708</td>\n",
       "    </tr>\n",
       "    <tr>\n",
       "      <td>146</td>\n",
       "      <td>바다 양양</td>\n",
       "      <td>여행</td>\n",
       "      <td>0.317961</td>\n",
       "      <td>0.620853</td>\n",
       "      <td>1.235708</td>\n",
       "    </tr>\n",
       "  </tbody>\n",
       "</table>\n",
       "</div>"
      ],
      "text/plain": [
       "       lhs    rhs   support  confidence      lift\n",
       "78      바다     해변  0.212379    0.413712  1.495168\n",
       "79      해변     바다  0.212379    0.767544  1.495168\n",
       "155  해변 양양     바다  0.211165    0.766520  1.493173\n",
       "150     바다  양양 해변  0.211165    0.411348  1.493173\n",
       "153  바다 양양     해변  0.211165    0.412322  1.490147\n",
       "152     해변  바다 양양  0.211165    0.763158  1.490147\n",
       "129     느낌  여행 양양  0.206311    0.669291  1.332116\n",
       "134  여행 양양     느낌  0.206311    0.410628  1.332116\n",
       "52      여행     느낌  0.206311    0.410628  1.332116\n",
       "131     여행  느낌 양양  0.206311    0.410628  1.332116\n",
       "132  느낌 양양     여행  0.206311    0.669291  1.332116\n",
       "51      느낌     여행  0.206311    0.669291  1.332116\n",
       "69      바다     사람  0.252427    0.491726  1.239089\n",
       "70      사람     바다  0.252427    0.636086  1.239089\n",
       "141  양양 사람     바다  0.251214    0.634969  1.236914\n",
       "136     바다  양양 사람  0.251214    0.489362  1.236914\n",
       "140  바다 양양     사람  0.251214    0.490521  1.236054\n",
       "137     사람  바다 양양  0.251214    0.633028  1.236054\n",
       "145     여행  바다 양양  0.317961    0.632850  1.235708\n",
       "146  바다 양양     여행  0.317961    0.620853  1.235708"
      ]
     },
     "execution_count": 82,
     "metadata": {},
     "output_type": "execute_result"
    }
   ],
   "source": [
    "results_df.head(20)"
   ]
  },
  {
   "cell_type": "code",
   "execution_count": 83,
   "metadata": {
    "ExecuteTime": {
     "end_time": "2020-04-02T02:01:55.367383Z",
     "start_time": "2020-04-02T02:01:55.358389Z"
    }
   },
   "outputs": [
    {
     "data": {
      "text/html": [
       "<div>\n",
       "<style scoped>\n",
       "    .dataframe tbody tr th:only-of-type {\n",
       "        vertical-align: middle;\n",
       "    }\n",
       "\n",
       "    .dataframe tbody tr th {\n",
       "        vertical-align: top;\n",
       "    }\n",
       "\n",
       "    .dataframe thead th {\n",
       "        text-align: right;\n",
       "    }\n",
       "</style>\n",
       "<table border=\"1\" class=\"dataframe\">\n",
       "  <thead>\n",
       "    <tr style=\"text-align: right;\">\n",
       "      <th></th>\n",
       "      <th>lhs</th>\n",
       "      <th>rhs</th>\n",
       "      <th>support</th>\n",
       "      <th>confidence</th>\n",
       "      <th>lift</th>\n",
       "    </tr>\n",
       "  </thead>\n",
       "  <tbody>\n",
       "    <tr>\n",
       "      <td>89</td>\n",
       "      <td></td>\n",
       "      <td>여행 사람</td>\n",
       "      <td>0.228155</td>\n",
       "      <td>0.228155</td>\n",
       "      <td>1.000000</td>\n",
       "    </tr>\n",
       "    <tr>\n",
       "      <td>119</td>\n",
       "      <td></td>\n",
       "      <td>처음 양양</td>\n",
       "      <td>0.259709</td>\n",
       "      <td>0.259709</td>\n",
       "      <td>1.000000</td>\n",
       "    </tr>\n",
       "    <tr>\n",
       "      <td>50</td>\n",
       "      <td></td>\n",
       "      <td>느낌 여행</td>\n",
       "      <td>0.206311</td>\n",
       "      <td>0.206311</td>\n",
       "      <td>1.000000</td>\n",
       "    </tr>\n",
       "    <tr>\n",
       "      <td>116</td>\n",
       "      <td></td>\n",
       "      <td>준비 양양</td>\n",
       "      <td>0.211165</td>\n",
       "      <td>0.211165</td>\n",
       "      <td>1.000000</td>\n",
       "    </tr>\n",
       "    <tr>\n",
       "      <td>25</td>\n",
       "      <td></td>\n",
       "      <td>준비</td>\n",
       "      <td>0.212379</td>\n",
       "      <td>0.212379</td>\n",
       "      <td>1.000000</td>\n",
       "    </tr>\n",
       "    <tr>\n",
       "      <td>26</td>\n",
       "      <td></td>\n",
       "      <td>처음</td>\n",
       "      <td>0.260922</td>\n",
       "      <td>0.260922</td>\n",
       "      <td>1.000000</td>\n",
       "    </tr>\n",
       "    <tr>\n",
       "      <td>113</td>\n",
       "      <td></td>\n",
       "      <td>양양 저녁</td>\n",
       "      <td>0.201456</td>\n",
       "      <td>0.201456</td>\n",
       "      <td>1.000000</td>\n",
       "    </tr>\n",
       "    <tr>\n",
       "      <td>110</td>\n",
       "      <td></td>\n",
       "      <td>자리 양양</td>\n",
       "      <td>0.264563</td>\n",
       "      <td>0.264563</td>\n",
       "      <td>1.000000</td>\n",
       "    </tr>\n",
       "    <tr>\n",
       "      <td>27</td>\n",
       "      <td></td>\n",
       "      <td>카페</td>\n",
       "      <td>0.248786</td>\n",
       "      <td>0.248786</td>\n",
       "      <td>1.000000</td>\n",
       "    </tr>\n",
       "    <tr>\n",
       "      <td>107</td>\n",
       "      <td></td>\n",
       "      <td>이용 양양</td>\n",
       "      <td>0.200243</td>\n",
       "      <td>0.200243</td>\n",
       "      <td>1.000000</td>\n",
       "    </tr>\n",
       "    <tr>\n",
       "      <td>104</td>\n",
       "      <td></td>\n",
       "      <td>음식 양양</td>\n",
       "      <td>0.200243</td>\n",
       "      <td>0.200243</td>\n",
       "      <td>1.000000</td>\n",
       "    </tr>\n",
       "    <tr>\n",
       "      <td>92</td>\n",
       "      <td></td>\n",
       "      <td>양양 속초</td>\n",
       "      <td>0.290049</td>\n",
       "      <td>0.290049</td>\n",
       "      <td>1.000000</td>\n",
       "    </tr>\n",
       "    <tr>\n",
       "      <td>29</td>\n",
       "      <td></td>\n",
       "      <td>가격 양양</td>\n",
       "      <td>0.225728</td>\n",
       "      <td>0.225728</td>\n",
       "      <td>1.000000</td>\n",
       "    </tr>\n",
       "    <tr>\n",
       "      <td>101</td>\n",
       "      <td></td>\n",
       "      <td>여행 양양</td>\n",
       "      <td>0.502427</td>\n",
       "      <td>0.502427</td>\n",
       "      <td>1.000000</td>\n",
       "    </tr>\n",
       "    <tr>\n",
       "      <td>98</td>\n",
       "      <td></td>\n",
       "      <td>아침 양양</td>\n",
       "      <td>0.258495</td>\n",
       "      <td>0.258495</td>\n",
       "      <td>1.000000</td>\n",
       "    </tr>\n",
       "    <tr>\n",
       "      <td>95</td>\n",
       "      <td></td>\n",
       "      <td>시작 양양</td>\n",
       "      <td>0.248786</td>\n",
       "      <td>0.248786</td>\n",
       "      <td>1.000000</td>\n",
       "    </tr>\n",
       "    <tr>\n",
       "      <td>32</td>\n",
       "      <td></td>\n",
       "      <td>가족 양양</td>\n",
       "      <td>0.223301</td>\n",
       "      <td>0.223301</td>\n",
       "      <td>1.000000</td>\n",
       "    </tr>\n",
       "    <tr>\n",
       "      <td>0</td>\n",
       "      <td></td>\n",
       "      <td>가격</td>\n",
       "      <td>0.225728</td>\n",
       "      <td>0.225728</td>\n",
       "      <td>1.000000</td>\n",
       "    </tr>\n",
       "    <tr>\n",
       "      <td>96</td>\n",
       "      <td>시작</td>\n",
       "      <td>양양</td>\n",
       "      <td>0.248786</td>\n",
       "      <td>0.985577</td>\n",
       "      <td>0.996461</td>\n",
       "    </tr>\n",
       "    <tr>\n",
       "      <td>97</td>\n",
       "      <td>양양</td>\n",
       "      <td>시작</td>\n",
       "      <td>0.248786</td>\n",
       "      <td>0.251534</td>\n",
       "      <td>0.996461</td>\n",
       "    </tr>\n",
       "  </tbody>\n",
       "</table>\n",
       "</div>"
      ],
      "text/plain": [
       "    lhs    rhs   support  confidence      lift\n",
       "89       여행 사람  0.228155    0.228155  1.000000\n",
       "119      처음 양양  0.259709    0.259709  1.000000\n",
       "50       느낌 여행  0.206311    0.206311  1.000000\n",
       "116      준비 양양  0.211165    0.211165  1.000000\n",
       "25          준비  0.212379    0.212379  1.000000\n",
       "26          처음  0.260922    0.260922  1.000000\n",
       "113      양양 저녁  0.201456    0.201456  1.000000\n",
       "110      자리 양양  0.264563    0.264563  1.000000\n",
       "27          카페  0.248786    0.248786  1.000000\n",
       "107      이용 양양  0.200243    0.200243  1.000000\n",
       "104      음식 양양  0.200243    0.200243  1.000000\n",
       "92       양양 속초  0.290049    0.290049  1.000000\n",
       "29       가격 양양  0.225728    0.225728  1.000000\n",
       "101      여행 양양  0.502427    0.502427  1.000000\n",
       "98       아침 양양  0.258495    0.258495  1.000000\n",
       "95       시작 양양  0.248786    0.248786  1.000000\n",
       "32       가족 양양  0.223301    0.223301  1.000000\n",
       "0           가격  0.225728    0.225728  1.000000\n",
       "96   시작     양양  0.248786    0.985577  0.996461\n",
       "97   양양     시작  0.248786    0.251534  0.996461"
      ]
     },
     "execution_count": 83,
     "metadata": {},
     "output_type": "execute_result"
    }
   ],
   "source": [
    "results_df.tail(20)"
   ]
  },
  {
   "cell_type": "markdown",
   "metadata": {},
   "source": [
    "# 검수용코드"
   ]
  },
  {
   "cell_type": "code",
   "execution_count": 414,
   "metadata": {
    "ExecuteTime": {
     "end_time": "2020-04-06T06:34:35.692325Z",
     "start_time": "2020-04-06T06:34:35.690324Z"
    }
   },
   "outputs": [],
   "source": [
    "real_blog_post_url = 'http://blog.naver.com/PostView.nhn?blogId=kjakfldh&logNo=221008785961&redirect=Dlog&widgetTypeCall=true&directAccess=false'"
   ]
  },
  {
   "cell_type": "code",
   "execution_count": 415,
   "metadata": {
    "ExecuteTime": {
     "end_time": "2020-04-06T06:34:36.275549Z",
     "start_time": "2020-04-06T06:34:36.185528Z"
    }
   },
   "outputs": [],
   "source": [
    "get_real_blog_post_content_code = requests.get(real_blog_post_url)\n",
    "get_real_blog_post_content_text = get_real_blog_post_content_code.text\n",
    "get_real_blog_post_content_soup = BeautifulSoup(get_real_blog_post_content_text, 'lxml')"
   ]
  },
  {
   "cell_type": "code",
   "execution_count": 421,
   "metadata": {
    "ExecuteTime": {
     "end_time": "2020-04-06T06:36:20.224075Z",
     "start_time": "2020-04-06T06:36:20.218073Z"
    }
   },
   "outputs": [],
   "source": [
    "blog_post_content = get_real_blog_post_content_soup.select('div#postViewArea')\n",
    "if len(blog_post_content) == 0:\n",
    "    blog_post_content = get_real_blog_post_content_soup.select('div.se-main-container')\n",
    "    if len(blog_post_content) == 0:\n",
    "        blog_post_content = get_real_blog_post_content_soup.select('div.se_component_wrap.sect_dsc.__se_component_area')"
   ]
  },
  {
   "cell_type": "code",
   "execution_count": 423,
   "metadata": {
    "ExecuteTime": {
     "end_time": "2020-04-06T06:36:56.964551Z",
     "start_time": "2020-04-06T06:36:56.962550Z"
    }
   },
   "outputs": [],
   "source": [
    "string = \"\"\n",
    "for sentence in blog_post_content[0].stripped_strings:\n",
    "    string += \" \"+sentence.replace('\\xa0', \" \")"
   ]
  },
  {
   "cell_type": "code",
   "execution_count": 426,
   "metadata": {
    "ExecuteTime": {
     "end_time": "2020-04-06T06:37:31.197456Z",
     "start_time": "2020-04-06T06:37:31.194456Z"
    }
   },
   "outputs": [
    {
     "data": {
      "text/plain": [
       "' 양양 투와이 호텔 이번에 속초여행때 숙박했던 투와이 호텔입니다. 속초에서도 그리 멀지 않은 곳에 있는 ㅎㅎ 투와이 호텔 위치는! 투와이호텔 강원도 양양군 강현면 동해대로 3277-3 투와이호텔 예약 전화 상세보기 <a onclick=\"return false;\" href=\"#bSize\" style=\"display:none\" target=\"_blank\" class=\"se_map_link __se_link\" data-linktype=\"map\" data-linkdata=\"{&quot;eventTarget&quot;:&quot;button&quot;,&quot;didSearch&quot;:&quot;true&quot;,&quot;searchEngine&quot;:&quot;NAVER&quot;,&quot;locationId&quot;:&quot;37815743&quot;,&quot;latitude&quot;:&quot;38.1317882&quot;,&quot;markerLatitude&quot;:&quot;38.1317882&quot;,&quot;markerLongitude&quot;:&quot;128.6207231&quot;,&quot;title&quot;:&quot;투와이호텔&quot;,&quot;longitude&quot;:&quot;128.6207231&quot;}\">지도보기</a> 701호 코너 스위트로 예약을하고 체크인하고 들어가 봅니다 티브이도 있고 개인용품 키트도 준비되어 있습니다 침대가 두개~ 더블침대인듯?? 청소상태도 깔끔하고 좋았습니다 코너 스위트의 좋은 점은 바로 이렇게 바다가 바로 보인다는~~ 양야 앞바다가 보이네요~~ 저곳이 바로 설악해수욕장 깔끔한 화장실 비데도 있고~ 한쪽에는 샤워기도 있습니다 전반적으로 깔금한 투와이 호텔이네요 7층은 룸과 옆에 테라스바가 있는데 준비중인듯합니다 그런데 분위기는 정말 좋은~ 여기서 맥주 마시면 느낌있겠죠?? 여기서 전 일출을 봤습니다 바다에 나가지 않고 정말 편하게~~ HEAVEN IS HERE 건물 외관을 못 찍어서 밤에 편의점 가는길에 찍은 투와이 호텔 외관 양양 투와이 호텔에서 정말 잘 보내고 왔습니다 *제 돈주고 지내고 왔습니다~ 양양 투와이 호텔'"
      ]
     },
     "execution_count": 426,
     "metadata": {},
     "output_type": "execute_result"
    }
   ],
   "source": [
    "string"
   ]
  },
  {
   "cell_type": "code",
   "execution_count": 133,
   "metadata": {
    "ExecuteTime": {
     "end_time": "2020-04-02T04:56:49.397372Z",
     "start_time": "2020-04-02T04:56:48.997715Z"
    },
    "code_folding": []
   },
   "outputs": [],
   "source": [
    "# 1개코드\n",
    "# 저장위치\n",
    "postdates = []\n",
    "strings = []\n",
    "urls = []\n",
    "titles = []\n",
    "output_error = []\n",
    "connection_error = []\n",
    "count = 1\n",
    "\n",
    "pattern = re.compile('href=\"'+'[A-z0-9\\:\\/\\&\\;\\.\\?\\=]+')\n",
    "# keyword와 시작넘버만 바꾸면서 진행하게끔\n",
    "base_url = 'https://search.naver.com/search.naver?date_from=&date_option=0&date_to=&dup_remove=1&nso=&post_blogurl=&post_blogurl_without=&query={keyword}&sm=tab_pge&srchby=all&st=sim&where=post&start={start_num}'\n",
    "\n",
    "# for문 돌려야하는 부분(각 검색결과의 시작은 1이고, 10개씩 보여짐,)\n",
    "search_list = base_url.format(keyword=\"전진리 +양양\", start_num=13)\n",
    "response = requests.get(search_list)\n",
    "\n",
    "if response.status_code is 200:\n",
    "    # 1번 검색시 10개의 결과가 출력 따라서 section은 총 10개\n",
    "    soup = BeautifulSoup(response.content, 'lxml')\n",
    "    sections = soup.findAll('li', attrs={'class': 'sh_blog_top'})\n",
    "    section = sections[0]\n",
    "\n",
    "    # href부분만 가져오기 어려워서 정규표현식으로 검색\n",
    "    url = re.findall(pattern, str(section))[0].replace(\n",
    "        '?Redirect=Log&amp;logNo=', '/').replace('href=\"', '')\n",
    "    title = section.select_one('a.txt84').text\n",
    "    date = section.select_one('dd.txt_inline').text.strip()\n",
    "\n",
    "    # 블로그 url안에 들어가기(아직 크롤링불가)\n",
    "    get_blog_post_content_code = requests.get(url)\n",
    "    get_blog_post_content_text = get_blog_post_content_code.text\n",
    "    get_blog_post_content_soup = BeautifulSoup(get_blog_post_content_text, 'lxml')\n",
    "\n",
    "    # 크롤링가능한 url에 접속\n",
    "    try:\n",
    "        real_blog_post_url = \"http://blog.naver.com\" + \\\n",
    "        get_blog_post_content_soup.select('#mainFrame')[0].get('src')\n",
    "        get_real_blog_post_content_code = requests.get(real_blog_post_url)\n",
    "        get_real_blog_post_content_text = get_real_blog_post_content_code.text\n",
    "        get_real_blog_post_content_soup = BeautifulSoup(\n",
    "        get_real_blog_post_content_text, 'lxml')\n",
    "    except:\n",
    "        real_blog_post_url = url\n",
    "        get_real_blog_post_content_code = requests.get(real_blog_post_url)\n",
    "        get_real_blog_post_content_text = get_real_blog_post_content_code.text\n",
    "        get_real_blog_post_content_soup = BeautifulSoup(\n",
    "        get_real_blog_post_content_text, 'lxml')\n",
    "        pass\n",
    "\n",
    "    # url (에러나면 위에서부터 에러남)\n",
    "    try:\n",
    "        urls.append(real_blog_post_url)\n",
    "    except:\n",
    "        urls.append(url)\n",
    "    # 블로그명\n",
    "    titles.append(title)\n",
    "    # 날짜\n",
    "    postdates.append(date)\n",
    "\n",
    "    # 본문  (postviewarea 패턴과 se-main-container 2가지 유형이 있어 분리함)\n",
    "    try:\n",
    "        blog_post_content = get_real_blog_post_content_soup.select('div#postViewArea')\n",
    "        if len(blog_post_content) == 0:\n",
    "            blog_post_content = get_real_blog_post_content_soup.select('div.se-main-container')\n",
    "            if len(blog_post_content) == 0:\n",
    "                blog_post_content = get_real_blog_post_content_soup.select('div.se_component_wrap.sect_dsc.__se_component_area')\n",
    "\n",
    "        string = \"\"\n",
    "        for sentence in blog_post_content[0].stripped_strings:\n",
    "            string += \" \"+sentence.replace('\\xa0', \" \")\n",
    "\n",
    "        strings.append([string])\n",
    "        count += 1\n",
    "    except:\n",
    "        strings.append([np.NaN])\n",
    "        count += 1\n",
    "\n",
    "\n",
    "crawling_df = pd.DataFrame(\n",
    "    {\"post_dates\": postdates, \"title\": titles, \"full_text\": strings, \"url\": urls})"
   ]
  },
  {
   "cell_type": "code",
   "execution_count": 138,
   "metadata": {
    "ExecuteTime": {
     "end_time": "2020-04-02T04:57:26.077397Z",
     "start_time": "2020-04-02T04:57:26.069395Z"
    }
   },
   "outputs": [
    {
     "ename": "IndexError",
     "evalue": "list index out of range",
     "output_type": "error",
     "traceback": [
      "\u001b[1;31m---------------------------------------------------------------------------\u001b[0m",
      "\u001b[1;31mIndexError\u001b[0m                                Traceback (most recent call last)",
      "\u001b[1;32m<ipython-input-138-965133f9a77b>\u001b[0m in \u001b[0;36m<module>\u001b[1;34m()\u001b[0m\n\u001b[0;32m      6\u001b[0m \u001b[1;33m\u001b[0m\u001b[0m\n\u001b[0;32m      7\u001b[0m \u001b[0mstring\u001b[0m \u001b[1;33m=\u001b[0m \u001b[1;34m\"\"\u001b[0m\u001b[1;33m\u001b[0m\u001b[0m\n\u001b[1;32m----> 8\u001b[1;33m \u001b[1;32mfor\u001b[0m \u001b[0msentence\u001b[0m \u001b[1;32min\u001b[0m \u001b[0mblog_post_content\u001b[0m\u001b[1;33m[\u001b[0m\u001b[1;36m0\u001b[0m\u001b[1;33m]\u001b[0m\u001b[1;33m.\u001b[0m\u001b[0mstripped_strings\u001b[0m\u001b[1;33m:\u001b[0m\u001b[1;33m\u001b[0m\u001b[0m\n\u001b[0m\u001b[0;32m      9\u001b[0m     \u001b[0mstring\u001b[0m \u001b[1;33m+=\u001b[0m \u001b[1;34m\" \"\u001b[0m\u001b[1;33m+\u001b[0m\u001b[0msentence\u001b[0m\u001b[1;33m.\u001b[0m\u001b[0mreplace\u001b[0m\u001b[1;33m(\u001b[0m\u001b[1;34m'\\xa0'\u001b[0m\u001b[1;33m,\u001b[0m\u001b[1;34m\" \"\u001b[0m\u001b[1;33m)\u001b[0m\u001b[1;33m\u001b[0m\u001b[0m\n\u001b[0;32m     10\u001b[0m \u001b[1;33m\u001b[0m\u001b[0m\n",
      "\u001b[1;31mIndexError\u001b[0m: list index out of range"
     ]
    }
   ],
   "source": [
    "blog_post_content = get_real_blog_post_content_soup.select('div#postViewArea')\n",
    "if len(blog_post_content) == 0:\n",
    "    blog_post_content = get_real_blog_post_content_soup.select('div.se-main-container')\n",
    "    if len(blog_post_content) == 0:\n",
    "        blog_post_content = get_real_blog_post_content_soup.select('div.se_component_wrap.sect_dsc.__se_component_area')\n",
    "\n",
    "string = \"\"\n",
    "for sentence in blog_post_content[0].stripped_strings:\n",
    "    string += \" \"+sentence.replace('\\xa0',\" \")\n",
    "\n",
    "strings.append([string])\n",
    "count += 1"
   ]
  },
  {
   "cell_type": "markdown",
   "metadata": {},
   "source": [
    "# 발생한 오류"
   ]
  },
  {
   "cell_type": "markdown",
   "metadata": {},
   "source": [
    "### 2020-04-06 09:23:51 크롤링중복오류 -> 1000개는 힘들다\n",
    "* 약 600번대 이상부터 중복이 발생하는 것으로 보임\n",
    "* 기사문 +양양 약 178개 중복\n",
    "* 광진 +양양 약 215개 중복  \n",
    "\n",
    "-> 원인은 네이버 검색의 특성상 관련검색어가 부족하면 중복되어서 나오는듯함\n",
    "211번대와 161번대의 검색된 값이 유사함 \n",
    "\n",
    "https://search.naver.com/search.naver?date_from=20190304&date_option=8&date_to=20200406&dup_remove=1&nso=p%3Afrom20190304to20200406&post_blogurl=&post_blogurl_without=&query=%EA%B4%91%EC%A7%84%20%2B%EC%96%91%EC%96%91&sm=tab_pge&srchby=all&st=sim&where=post&start=161\n",
    "\n",
    "https://search.naver.com/search.naver?date_from=20190304&date_option=8&date_to=20200406&dup_remove=1&nso=p%3Afrom20190304to20200406&post_blogurl=&post_blogurl_without=&query=%EA%B4%91%EC%A7%84%20%2B%EC%96%91%EC%96%91&sm=tab_pge&srchby=all&st=sim&where=post&start=211"
   ]
  },
  {
   "cell_type": "code",
   "execution_count": null,
   "metadata": {},
   "outputs": [],
   "source": []
  },
  {
   "cell_type": "markdown",
   "metadata": {},
   "source": [
    "### 형용사 -개발단위\n",
    "* 각 형태소 분석기 비교\n",
    "1. komoran/mecab 어간/어미를 분해해서 다소 카운팅하기 어려움\n",
    "2. okt adjective로 되어있어 다소 편리하면서 더 많은 형용사를 끌어옴"
   ]
  },
  {
   "cell_type": "code",
   "execution_count": 178,
   "metadata": {
    "ExecuteTime": {
     "end_time": "2020-04-06T02:36:36.516377Z",
     "start_time": "2020-04-06T02:36:36.513384Z"
    }
   },
   "outputs": [],
   "source": [
    "pos_df = pd.DataFrame()\n",
    "va_df = pd.DataFrame()"
   ]
  },
  {
   "cell_type": "code",
   "execution_count": 179,
   "metadata": {
    "ExecuteTime": {
     "end_time": "2020-04-06T02:36:36.924413Z",
     "start_time": "2020-04-06T02:36:36.920405Z"
    }
   },
   "outputs": [],
   "source": [
    "okt = Okt()"
   ]
  },
  {
   "cell_type": "code",
   "execution_count": 187,
   "metadata": {
    "ExecuteTime": {
     "end_time": "2020-04-06T02:37:00.222787Z",
     "start_time": "2020-04-06T02:37:00.105762Z"
    }
   },
   "outputs": [],
   "source": [
    "#단하나 \n",
    "VA_ls = []\n",
    "pattern = re.compile(\"VA[+A-z]*\")\n",
    "\n",
    "pos_text = okt.pos(crawling_df['full_text'][1][0])\n",
    "for i in range(0,len(pos_text)):\n",
    "    try:\n",
    "        re.search(pattern,pos_text[i][1]).group()\n",
    "        text = pos_text[i][0]\n",
    "        VA_ls.append(text)\n",
    "    except: \n",
    "        pass"
   ]
  },
  {
   "cell_type": "code",
   "execution_count": 190,
   "metadata": {
    "ExecuteTime": {
     "end_time": "2020-04-06T02:38:18.820778Z",
     "start_time": "2020-04-06T02:38:18.817778Z"
    }
   },
   "outputs": [],
   "source": [
    "#okt 별도 \n",
    "VA_ls = []\n",
    "for i in range(0,len(pos_text)):\n",
    "    if pos_text[i][1] == 'Adjective':\n",
    "        text = pos_text[i][0]\n",
    "        VA_ls.append(text)"
   ]
  },
  {
   "cell_type": "code",
   "execution_count": 192,
   "metadata": {
    "ExecuteTime": {
     "end_time": "2020-04-06T02:38:31.324966Z",
     "start_time": "2020-04-06T02:38:31.320966Z"
    }
   },
   "outputs": [],
   "source": [
    "va_df = pd.concat([va_df,pd.Series(list(set(VA_ls)))],axis = 1)"
   ]
  },
  {
   "cell_type": "code",
   "execution_count": 194,
   "metadata": {
    "ExecuteTime": {
     "end_time": "2020-04-06T02:38:51.424791Z",
     "start_time": "2020-04-06T02:38:51.419790Z"
    }
   },
   "outputs": [],
   "source": [
    "va_df.to_csv('va_df.csv',encoding='cp949')"
   ]
  },
  {
   "cell_type": "code",
   "execution_count": 154,
   "metadata": {
    "ExecuteTime": {
     "end_time": "2020-04-06T02:32:17.318643Z",
     "start_time": "2020-04-06T02:32:17.313651Z"
    }
   },
   "outputs": [],
   "source": [
    "pos_df = pd.concat([pos_df,pd.DataFrame(pos_text)],axis =1)"
   ]
  },
  {
   "cell_type": "code",
   "execution_count": 155,
   "metadata": {
    "ExecuteTime": {
     "end_time": "2020-04-06T02:32:17.936110Z",
     "start_time": "2020-04-06T02:32:17.926108Z"
    }
   },
   "outputs": [
    {
     "data": {
      "text/html": [
       "<div>\n",
       "<style scoped>\n",
       "    .dataframe tbody tr th:only-of-type {\n",
       "        vertical-align: middle;\n",
       "    }\n",
       "\n",
       "    .dataframe tbody tr th {\n",
       "        vertical-align: top;\n",
       "    }\n",
       "\n",
       "    .dataframe thead th {\n",
       "        text-align: right;\n",
       "    }\n",
       "</style>\n",
       "<table border=\"1\" class=\"dataframe\">\n",
       "  <thead>\n",
       "    <tr style=\"text-align: right;\">\n",
       "      <th></th>\n",
       "      <th>0</th>\n",
       "      <th>1</th>\n",
       "      <th>0</th>\n",
       "      <th>1</th>\n",
       "      <th>0</th>\n",
       "      <th>1</th>\n",
       "    </tr>\n",
       "  </thead>\n",
       "  <tbody>\n",
       "    <tr>\n",
       "      <td>0</td>\n",
       "      <td>홍</td>\n",
       "      <td>NNP</td>\n",
       "      <td>홍천</td>\n",
       "      <td>NNG</td>\n",
       "      <td>홍천</td>\n",
       "      <td>Noun</td>\n",
       "    </tr>\n",
       "    <tr>\n",
       "      <td>1</td>\n",
       "      <td>천</td>\n",
       "      <td>NNP</td>\n",
       "      <td>에서</td>\n",
       "      <td>JKB</td>\n",
       "      <td>에서</td>\n",
       "      <td>Josa</td>\n",
       "    </tr>\n",
       "    <tr>\n",
       "      <td>2</td>\n",
       "      <td>에서</td>\n",
       "      <td>JKB</td>\n",
       "      <td>양양</td>\n",
       "      <td>NNP</td>\n",
       "      <td>양양</td>\n",
       "      <td>Noun</td>\n",
       "    </tr>\n",
       "    <tr>\n",
       "      <td>3</td>\n",
       "      <td>양양</td>\n",
       "      <td>NNP</td>\n",
       "      <td>으로</td>\n",
       "      <td>JKB</td>\n",
       "      <td>으로</td>\n",
       "      <td>Josa</td>\n",
       "    </tr>\n",
       "    <tr>\n",
       "      <td>4</td>\n",
       "      <td>으로</td>\n",
       "      <td>JKB</td>\n",
       "      <td>출발</td>\n",
       "      <td>NNG</td>\n",
       "      <td>출발</td>\n",
       "      <td>Noun</td>\n",
       "    </tr>\n",
       "    <tr>\n",
       "      <td>...</td>\n",
       "      <td>...</td>\n",
       "      <td>...</td>\n",
       "      <td>...</td>\n",
       "      <td>...</td>\n",
       "      <td>...</td>\n",
       "      <td>...</td>\n",
       "    </tr>\n",
       "    <tr>\n",
       "      <td>996</td>\n",
       "      <td>치</td>\n",
       "      <td>XSN</td>\n",
       "      <td>NaN</td>\n",
       "      <td>NaN</td>\n",
       "      <td>NaN</td>\n",
       "      <td>NaN</td>\n",
       "    </tr>\n",
       "    <tr>\n",
       "      <td>997</td>\n",
       "      <td>리</td>\n",
       "      <td>NNB</td>\n",
       "      <td>NaN</td>\n",
       "      <td>NaN</td>\n",
       "      <td>NaN</td>\n",
       "      <td>NaN</td>\n",
       "    </tr>\n",
       "    <tr>\n",
       "      <td>998</td>\n",
       "      <td>7</td>\n",
       "      <td>SN</td>\n",
       "      <td>NaN</td>\n",
       "      <td>NaN</td>\n",
       "      <td>NaN</td>\n",
       "      <td>NaN</td>\n",
       "    </tr>\n",
       "    <tr>\n",
       "      <td>999</td>\n",
       "      <td>-</td>\n",
       "      <td>SW</td>\n",
       "      <td>NaN</td>\n",
       "      <td>NaN</td>\n",
       "      <td>NaN</td>\n",
       "      <td>NaN</td>\n",
       "    </tr>\n",
       "    <tr>\n",
       "      <td>1000</td>\n",
       "      <td>6</td>\n",
       "      <td>SN</td>\n",
       "      <td>NaN</td>\n",
       "      <td>NaN</td>\n",
       "      <td>NaN</td>\n",
       "      <td>NaN</td>\n",
       "    </tr>\n",
       "  </tbody>\n",
       "</table>\n",
       "<p>1001 rows × 6 columns</p>\n",
       "</div>"
      ],
      "text/plain": [
       "       0    1    0    1    0     1\n",
       "0      홍  NNP   홍천  NNG   홍천  Noun\n",
       "1      천  NNP   에서  JKB   에서  Josa\n",
       "2     에서  JKB   양양  NNP   양양  Noun\n",
       "3     양양  NNP   으로  JKB   으로  Josa\n",
       "4     으로  JKB   출발  NNG   출발  Noun\n",
       "...   ..  ...  ...  ...  ...   ...\n",
       "996    치  XSN  NaN  NaN  NaN   NaN\n",
       "997    리  NNB  NaN  NaN  NaN   NaN\n",
       "998    7   SN  NaN  NaN  NaN   NaN\n",
       "999    -   SW  NaN  NaN  NaN   NaN\n",
       "1000   6   SN  NaN  NaN  NaN   NaN\n",
       "\n",
       "[1001 rows x 6 columns]"
      ]
     },
     "execution_count": 155,
     "metadata": {},
     "output_type": "execute_result"
    }
   ],
   "source": [
    "pos_df"
   ]
  },
  {
   "cell_type": "code",
   "execution_count": 156,
   "metadata": {
    "ExecuteTime": {
     "end_time": "2020-04-06T02:32:30.275484Z",
     "start_time": "2020-04-06T02:32:30.264392Z"
    }
   },
   "outputs": [],
   "source": [
    "pos_df.to_csv('pos_df.csv',encoding = 'cp949')"
   ]
  },
  {
   "cell_type": "code",
   "execution_count": 129,
   "metadata": {
    "ExecuteTime": {
     "end_time": "2020-04-06T02:21:27.630360Z",
     "start_time": "2020-04-06T02:21:27.618579Z"
    }
   },
   "outputs": [],
   "source": [
    "#단하나 mecab\n",
    "VA_ls = []\n",
    "pattern = re.compile(\"VA[+A-z]*\")\n",
    "\n",
    "pos_text = mecab.pos(crawling_df['full_text'][1][0])\n",
    "for i in range(0,len(pos_text)):\n",
    "    try:\n",
    "        re.search(pattern,pos_text[i][1]).group()\n",
    "        text = pos_text[i][0]\n",
    "        VA_ls.append(text)\n",
    "    except: \n",
    "        pass"
   ]
  }
 ],
 "metadata": {
  "kernelspec": {
   "display_name": "Python 3",
   "language": "python",
   "name": "python3"
  },
  "language_info": {
   "codemirror_mode": {
    "name": "ipython",
    "version": 3
   },
   "file_extension": ".py",
   "mimetype": "text/x-python",
   "name": "python",
   "nbconvert_exporter": "python",
   "pygments_lexer": "ipython3",
   "version": "3.6.5"
  },
  "varInspector": {
   "cols": {
    "lenName": 16,
    "lenType": 16,
    "lenVar": 40
   },
   "kernels_config": {
    "python": {
     "delete_cmd_postfix": "",
     "delete_cmd_prefix": "del ",
     "library": "var_list.py",
     "varRefreshCmd": "print(var_dic_list())"
    },
    "r": {
     "delete_cmd_postfix": ") ",
     "delete_cmd_prefix": "rm(",
     "library": "var_list.r",
     "varRefreshCmd": "cat(var_dic_list()) "
    }
   },
   "types_to_exclude": [
    "module",
    "function",
    "builtin_function_or_method",
    "instance",
    "_Feature"
   ],
   "window_display": false
  }
 },
 "nbformat": 4,
 "nbformat_minor": 2
}

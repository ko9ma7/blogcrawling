{
 "cells": [
  {
   "cell_type": "markdown",
   "metadata": {},
   "source": [
    "# 목적\n",
    "* 블로그 내용을 긁어와서 연관분석 진행\n",
    "1. keyword관련 블로그 크롤링 \n",
    "    정확도 기준으로 긁어오되 날짜도 같이 가져와서 나중 어떤 날짜에 집중되어 있는지 확인  \n",
    "    한 블로그당 단어빈도수 분석(필요할까)\n",
    "2. 블로그 내 단어 토크나이즈하고 \n",
    "3. 연관분석실시\n"
   ]
  },
  {
   "cell_type": "markdown",
   "metadata": {},
   "source": [
    "# 선행설치"
   ]
  },
  {
   "cell_type": "code",
   "execution_count": 19,
   "metadata": {
    "ExecuteTime": {
     "end_time": "2020-04-06T00:29:47.184460Z",
     "start_time": "2020-04-06T00:29:47.181413Z"
    },
    "code_folding": [
     0
    ]
   },
   "outputs": [],
   "source": [
    "# 선행설치\n",
    "# # 크롤링\n",
    "# !pip install beautifulsoup4\n",
    "# !pip install requests\n",
    "# !pip install lxm\n",
    "# # 연관분석\n",
    "# !pip install apyori\n",
    "# # 자연어처리\n",
    "# !pip install konlpy (JDK 설치가 되어있어야함 )\n",
    "# # 워드클라우드\n",
    "# !pip install wordcloud"
   ]
  },
  {
   "cell_type": "code",
   "execution_count": 3,
   "metadata": {
    "ExecuteTime": {
     "end_time": "2020-04-07T01:18:46.358370Z",
     "start_time": "2020-04-07T01:18:43.759707Z"
    },
    "code_folding": []
   },
   "outputs": [
    {
     "name": "stderr",
     "output_type": "stream",
     "text": [
      "C:\\Users\\User\\Anaconda3\\lib\\site-packages\\jpype\\_core.py:217: UserWarning: \n",
      "-------------------------------------------------------------------------------\n",
      "Deprecated: convertStrings was not specified when starting the JVM. The default\n",
      "behavior in JPype will be False starting in JPype 0.8. The recommended setting\n",
      "for new code is convertStrings=False.  The legacy value of True was assumed for\n",
      "this session. If you are a user of an application that reported this warning,\n",
      "please file a ticket with the developer.\n",
      "-------------------------------------------------------------------------------\n",
      "\n",
      "  \"\"\")\n"
     ]
    },
    {
     "data": {
      "text/html": [
       "<style>.container {width:100% !important; }</style>"
      ],
      "text/plain": [
       "<IPython.core.display.HTML object>"
      ]
     },
     "metadata": {},
     "output_type": "display_data"
    }
   ],
   "source": [
    "# import\n",
    "import seaborn as sns\n",
    "import matplotlib.pyplot as plt\n",
    "\n",
    "from tqdm import tqdm_notebook  # 진행과정 시각화\n",
    "from datetime import timedelta  # 시간날짜\n",
    "from apyori import apriori  # 연관분석\n",
    "\n",
    "import re\n",
    "import json\n",
    "import math\n",
    "import datetime\n",
    "from datetime import timedelta\n",
    "import pandas as pd\n",
    "import numpy as np\n",
    "\n",
    "import requests\n",
    "import urllib.request\n",
    "import urllib.error\n",
    "import urllib.parse\n",
    "from bs4 import BeautifulSoup  # 크롤링\n",
    "\n",
    "import wordcloud\n",
    "import konlpy\n",
    "from konlpy.tag import Komoran,Kkma,Okt,Twitter  # 자연어처리\n",
    "from eunjeon import Mecab #은전한닢\n",
    "mecab = Mecab()\n",
    "okt = Okt()\n",
    "komoran = Komoran(userdic='./user_dictionary.txt')\n",
    "\n",
    "#한글깨짐방지\n",
    "plt.rc('font',family='Malgun Gothic')\n",
    "plt.rcParams['axes.unicode_minus'] = False\n",
    "\n",
    "from IPython.core.display import display, HTML\n",
    "display(HTML('<style>.container {width:100% !important; }</style>'))"
   ]
  },
  {
   "cell_type": "markdown",
   "metadata": {},
   "source": [
    "# 네이버 검색 URl구조"
   ]
  },
  {
   "cell_type": "markdown",
   "metadata": {},
   "source": [
    "date_from - YYYYMMDD : 시작날짜 date_option 8일때   \n",
    "date_option - int : 0 : 전체, 2 : 1일, 3 : 1주, 4 : 1개월, 6 : 6개월, 7 : 1년, 8 : 기간지정  \n",
    "date_to - YYYYMMDD : 마지막날짜 date_option 8일때  \n",
    "dup_remove - int : 유사문서제거옵션 1 : 제거, 0 : 유지  \n",
    "nso - str : _상세검색으로 추정_   \n",
    "post_blogurl - ?  \n",
    "post_blogurl_without - ?   \n",
    "query - str : 검색어     \n",
    "sm=tab_pge -?    \n",
    "st - str : 정렬순서 sim : 유사도 date : 날짜    "
   ]
  },
  {
   "cell_type": "code",
   "execution_count": 4,
   "metadata": {
    "ExecuteTime": {
     "end_time": "2020-04-07T01:18:46.383838Z",
     "start_time": "2020-04-07T01:18:46.381838Z"
    }
   },
   "outputs": [],
   "source": [
    "# #네이버에서 검색했을때 url구조\n",
    "# https://search.naver.com/search.naver\n",
    "#     ?date_from=&\n",
    "#     date_option=0&\n",
    "#     date_to=&\n",
    "#     dup_remove=1&\n",
    "#     nso=&\n",
    "#     post_blogurl=\n",
    "#     &post_blogurl_without=\n",
    "#     &query=%EC%96%91%EC%96%91\n",
    "#     &sm=tab_pge\n",
    "#     &srchby=all\n",
    "#     &st=sim\n",
    "#     &where=post\n",
    "#     &start=11"
   ]
  },
  {
   "cell_type": "code",
   "execution_count": 5,
   "metadata": {
    "ExecuteTime": {
     "end_time": "2020-04-07T01:18:46.399842Z",
     "start_time": "2020-04-07T01:18:46.395841Z"
    },
    "code_folding": [
     0
    ]
   },
   "outputs": [],
   "source": [
    "def del_outword(string):\n",
    "    '''\n",
    "    이모티콘, \\u200b과 같은 문자가 아닌 것 제거\n",
    "    #이모티콘 제거 [출처](https://stackoverflow.com/questions/33404752/removing-emojis-from-a-string-in-python)\n",
    "    '''\n",
    "    #이모지제거\n",
    "    emoji_pattern = re.compile(\"[\"\n",
    "                u\"\\U0001F600-\\U0001F64F\"  # emoticons\n",
    "                u\"\\U0001F300-\\U0001F5FF\"  # symbols & pictographs\n",
    "                u\"\\U0001F680-\\U0001F6FF\"  # transport & map symbols\n",
    "                u\"\\U0001F1E0-\\U0001F1FF\"  # flags (iOS)\n",
    "                u\"\\U00002702-\\U000027B0\"\n",
    "                u\"\\U0001f926-\\U0001f937\"\n",
    "                u'\\U00010000-\\U0010ffff'\n",
    "                u\"\\u200d\"\n",
    "                u\"\\u2640-\\u2642\"\n",
    "                u\"\\u2600-\\u2B55\"\n",
    "                u\"\\u23cf\"\n",
    "                u\"\\u23e9\"\n",
    "                u\"\\u231a\"\n",
    "                u\"\\u3030\"\n",
    "                u\"\\ufe0f\"\n",
    "    \"]+\", flags=re.UNICODE)\n",
    "\n",
    "    #분석에 어긋나는 불용어구 제외 (특수문자, 의성어)\n",
    "    han = re.compile(r'[ㄱ-ㅎㅏ-ㅣ!?~\"^_\\n\\r#\\ufeff\\u200d\\u200b\\u7643\\ufffd\\u682e\\u62c4]+')\n",
    "    \n",
    "    string = emoji_pattern.sub(r'',string)\n",
    "    string = han.sub(r'',string)\n",
    "    \n",
    "    return string"
   ]
  },
  {
   "cell_type": "code",
   "execution_count": 6,
   "metadata": {
    "ExecuteTime": {
     "end_time": "2020-04-07T01:18:46.417846Z",
     "start_time": "2020-04-07T01:18:46.413845Z"
    },
    "code_folding": [
     0
    ]
   },
   "outputs": [],
   "source": [
    "def time_change(x):\n",
    "    '''\n",
    "    검색결과에 있는 문자를 날짜로 변경\n",
    "    '''\n",
    "    min_pattern = re.compile('[0-9]+'+\"분 전\")\n",
    "    hour_pattern = re.compile('[0-9]+'+\"시간 전\")\n",
    "    day_pattern = re.compile('[0-9]+'+\"일 전\")\n",
    "\n",
    "    today = datetime.datetime.today().date()\n",
    "    # 일자\n",
    "    try:\n",
    "        d = re.findall(day_pattern, x)[0][0]\n",
    "        x = today - timedelta(days=int(d))\n",
    "    except:\n",
    "        pass\n",
    "    # 시간\n",
    "    try:\n",
    "        d = re.findall(hour_pattern, x)[0]\n",
    "        x = today\n",
    "    except:\n",
    "        pass\n",
    "    # 분\n",
    "    try:\n",
    "        h = re.findall(min_pattern, x)[0]\n",
    "        x = today\n",
    "    except:\n",
    "        pass\n",
    "\n",
    "    if x == '어제':\n",
    "        x = today - timedelta(days=1)\n",
    "\n",
    "    elif type(x) == str:\n",
    "        x = datetime.datetime.strptime(x.replace('.', '-')[:-1], '%Y-%m-%d')\n",
    "    #모든일자를 1일로 통일\n",
    "    x = datetime.datetime.strptime(x.strftime('%Y-%m')+\"-01\",\"%Y-%m-%d\")\n",
    "    return x"
   ]
  },
  {
   "cell_type": "code",
   "execution_count": 7,
   "metadata": {
    "ExecuteTime": {
     "end_time": "2020-04-07T01:18:46.440852Z",
     "start_time": "2020-04-07T01:18:46.430848Z"
    },
    "code_folding": []
   },
   "outputs": [],
   "source": [
    "def naver_blog_crawling(keyword, start_num=1, end_num=101, date_option=0, date_from='', date_to='', save=True):\n",
    "    '''\n",
    "    네이버 블로그 크롤링 함수\n",
    "    네이버 블로그 검색결과를 크롤링하며, 1페이지당 10개씩을 검색한다\n",
    "\n",
    "    keyword : string\n",
    "     검색하고 싶은 키워드를 넣는다\n",
    "     \"keyword +필수어\" 형태로 필수단어 추가 가능\n",
    "    start_num : int (default = 1) \n",
    "     시작할 위치 1로 끝나는 단위 추천\n",
    "    end_num : int (default = 101)\n",
    "     끝나는 위치 1로 끝나는 단위 추천\n",
    "    date_option : int (default = 0)\n",
    "     주어지는 숫자에 의해 검색방법이 변경됨\n",
    "     0 : 전체, 2 : 1일, 3 : 1주, 4 : 1개월, 6 : 6개월, 7 : 1년, 8 : 기간지정\n",
    "    date_from : YYYYMMDD (default = \"\")\n",
    "     date_option이 8일때 사용 검색 시작일자를 지정\n",
    "    date_to : YYYMMDD (default = \"\")\n",
    "     date_option이 8일때 사용 검색 마지막일자를 지정\n",
    "    save : bool (default = True)\n",
    "     csv로 저장 여부 결정\n",
    "    '''\n",
    "    # url 찾는 패턴\n",
    "    pattern = re.compile('href=\"'+'[A-z0-9\\:\\/\\&\\;\\.\\?\\=]+')\n",
    "\n",
    "    # 저장위치\n",
    "    postdates = []\n",
    "    strings = []\n",
    "    urls = []\n",
    "    titles = []\n",
    "    output_error = []\n",
    "    connection_error = []\n",
    "    count = 1\n",
    "    base_url_ls = []\n",
    "\n",
    "    # keyword와 시작넘버만 바꾸면서 진행하게끔\n",
    "    base_url = 'https://search.naver.com/search.naver?date_from={date_from}&date_option={date_option}&date_to={date_to}&dup_remove=1&nso=&post_blogurl=&post_blogurl_without=&query={keyword}&sm=tab_pge&srchby=all&st=sim&where=post&start={start}'\n",
    "\n",
    "    # for문 돌려야하는 부분(각 검색결과의 시작은 1이고, 10개씩 보여짐,)\n",
    "    for i in tqdm_notebook(range(start_num, end_num+1, 10), desc=\"page work\"):\n",
    "        search_list = base_url.format(keyword=keyword, start=i,\n",
    "                                      date_option=date_option, date_from=date_from, date_to=date_to)\n",
    "        response = requests.get(search_list)\n",
    "        base_url_ls.append(search_list)\n",
    "        if response.status_code is 200:\n",
    "            # 1번 검색시 10개의 결과가 출력 따라서 section은 총 10개\n",
    "            soup = BeautifulSoup(response.content, 'lxml')\n",
    "            sections = soup.findAll('li', attrs={'class': 'sh_blog_top'})\n",
    "\n",
    "            for section in sections:\n",
    "                try:\n",
    "                    # href부분만 가져오기 어려워서 정규표현식으로 검색\n",
    "                    url = re.findall(pattern, str(section))[0].replace(\n",
    "                        '?Redirect=Log&amp;logNo=', '/').replace('href=\"', '')\n",
    "                    title = section.select_one('a.txt84').text\n",
    "                    date = section.select_one('dd.txt_inline').text.strip()\n",
    "\n",
    "                    # 블로그 url안에 들어가기(아직 크롤링불가)\n",
    "                    get_blog_post_content_code = requests.get(url)\n",
    "                    get_blog_post_content_text = get_blog_post_content_code.text\n",
    "                    get_blog_post_content_soup = BeautifulSoup(\n",
    "                        get_blog_post_content_text, 'lxml')\n",
    "\n",
    "                    # 크롤링가능한 url에 접속\n",
    "                    real_blog_post_url = \"http://blog.naver.com\" + \\\n",
    "                        get_blog_post_content_soup.select('#mainFrame')[\n",
    "                            0].get('src')\n",
    "                    get_real_blog_post_content_code = requests.get(\n",
    "                        real_blog_post_url)\n",
    "                    get_real_blog_post_content_text = get_real_blog_post_content_code.text\n",
    "                    get_real_blog_post_content_soup = BeautifulSoup(\n",
    "                        get_real_blog_post_content_text, 'lxml')\n",
    "\n",
    "                    # url (에러나면 위에서부터 에러남)\n",
    "                    urls.append(real_blog_post_url)\n",
    "                    # 블로그명\n",
    "                    titles.append(title)\n",
    "                    # 날짜\n",
    "                    postdates.append(date)\n",
    "\n",
    "                    # 본문  (postviewarea 패턴과 se-main-container 2가지 유형이 있어 분리함)\n",
    "                    try:\n",
    "                        blog_post_content = get_real_blog_post_content_soup.select(\n",
    "                            'div#postViewArea')\n",
    "                        if len(blog_post_content) == 0:\n",
    "                            blog_post_content = get_real_blog_post_content_soup.select(\n",
    "                                'div.se-main-container')\n",
    "                            if len(blog_post_content) == 0:\n",
    "                                blog_post_content = get_real_blog_post_content_soup.select(\n",
    "                                    'div.se_component_wrap.sect_dsc.__se_component_area')\n",
    "\n",
    "                        string = \"\"\n",
    "                        for sentence in blog_post_content[0].stripped_strings:\n",
    "                            string += \" \"+sentence.replace('\\xa0', \" \")\n",
    "                            # 비언어 텍스트제거\n",
    "                            string = del_outword(string)\n",
    "                        #공백에러대처\n",
    "                        blank_check = string.replace(\" \",\"\")\n",
    "                        if len(blank_check) == 0:\n",
    "                            strings.append([\"X\"])\n",
    "                        else : \n",
    "                            strings.append([string])\n",
    "                        count += 1\n",
    "                    except:\n",
    "                        strings.append([\"X\"])\n",
    "                        count += 1\n",
    "\n",
    "                except Exception as ex:\n",
    "                    # print('가져오기에러 {num}번째'.format(num = count),ex)\n",
    "                    output_error.append(count)\n",
    "                    count += 1\n",
    "                    pass\n",
    "        else:\n",
    "            # print('연결오류 {num}번째'.format(num = count),response.status_code)\n",
    "            connection_error.append(count)\n",
    "            count += 1\n",
    "\n",
    "    out_length = len(output_error+connection_error)\n",
    "    real_length = end_num-start_num+10-out_length\n",
    "    crawling_df = pd.DataFrame(\n",
    "        {\"post_dates\": postdates, \"title\": titles, \"full_text\": strings, \"url\": urls})\n",
    "    crawling_df['post_dates'] = crawling_df['post_dates'].apply(\n",
    "        lambda x: time_change(x))\n",
    "\n",
    "    # 중복제거\n",
    "    crawling_df.drop_duplicates(\"url\", inplace=True)\n",
    "    crawling_df.reset_index(drop=True, inplace=True)\n",
    "    real_length = crawling_df.shape[0]\n",
    "\n",
    "    # 결과출력\n",
    "    print(\"검색한 길이:\", end_num-start_num+10)\n",
    "    print(\"제외된 길이:\", out_length)\n",
    "    print(\"검색된 길이:\", real_length)\n",
    "    if save == True:\n",
    "        today = datetime.datetime.today().date()\n",
    "        str(today)\n",
    "        crawling_df.to_csv(str(today)+\"_\"+keyword+\"_\" +\n",
    "                           str(real_length)+'.csv', encoding='utf-8', index=False)\n",
    "#     return strings, urls, postdates\n",
    "    return crawling_df, output_error, real_length"
   ]
  },
  {
   "cell_type": "code",
   "execution_count": 8,
   "metadata": {
    "ExecuteTime": {
     "end_time": "2020-04-07T01:18:46.957913Z",
     "start_time": "2020-04-07T01:18:46.955854Z"
    }
   },
   "outputs": [],
   "source": [
    "# keyword검색시 \"검색어 +필수어\" 형태로 필수단어 삽입가능\n",
    "today = datetime.datetime.today().date()\n",
    "keyword = \"물치 +양양\"\n",
    "start_num = 1\n",
    "end_num = 701\n",
    "date_option = 0\n",
    "date_from = \"20150101\"\n",
    "date_to = \"20190101\""
   ]
  },
  {
   "cell_type": "code",
   "execution_count": 9,
   "metadata": {
    "ExecuteTime": {
     "end_time": "2020-04-07T01:20:29.341988Z",
     "start_time": "2020-04-07T01:18:47.393904Z"
    },
    "scrolled": true
   },
   "outputs": [
    {
     "name": "stderr",
     "output_type": "stream",
     "text": [
      "C:\\Users\\User\\Anaconda3\\lib\\site-packages\\ipykernel_launcher.py:40: TqdmDeprecationWarning: This function will be removed in tqdm==5.0.0\n",
      "Please use `tqdm.notebook.tqdm` instead of `tqdm.tqdm_notebook`\n"
     ]
    },
    {
     "data": {
      "application/vnd.jupyter.widget-view+json": {
       "model_id": "584c34aef0fb4695a802e28b67701988",
       "version_major": 2,
       "version_minor": 0
      },
      "text/plain": [
       "HBox(children=(FloatProgress(value=0.0, description='page work', max=71.0, style=ProgressStyle(description_wid…"
      ]
     },
     "metadata": {},
     "output_type": "display_data"
    },
    {
     "name": "stdout",
     "output_type": "stream",
     "text": [
      "\n",
      "검색한 길이: 710\n",
      "제외된 길이: 160\n",
      "검색된 길이: 549\n"
     ]
    }
   ],
   "source": [
    "crawling_df, output_error, real_length = naver_blog_crawling(keyword, start_num, end_num, date_option, date_from, date_to, save=False)"
   ]
  },
  {
   "cell_type": "markdown",
   "metadata": {},
   "source": [
    "### 추출된 데이터 일자별 집중도 확인"
   ]
  },
  {
   "cell_type": "code",
   "execution_count": 8,
   "metadata": {
    "ExecuteTime": {
     "end_time": "2020-04-07T00:32:22.062718Z",
     "start_time": "2020-04-07T00:32:21.976723Z"
    }
   },
   "outputs": [
    {
     "name": "stderr",
     "output_type": "stream",
     "text": [
      "C:\\Users\\User\\AppData\\Roaming\\Python\\Python36\\site-packages\\pandas\\plotting\\_matplotlib\\converter.py:103: FutureWarning: Using an implicitly registered datetime converter for a matplotlib plotting method. The converter was registered by pandas on import. Future versions of pandas will require you to explicitly register matplotlib converters.\n",
      "\n",
      "To register the converters:\n",
      "\t>>> from pandas.plotting import register_matplotlib_converters\n",
      "\t>>> register_matplotlib_converters()\n",
      "  warnings.warn(msg, FutureWarning)\n"
     ]
    },
    {
     "data": {
      "image/png": "[encoded data removed]",
      "text/plain": [
       "<Figure size 504x360 with 1 Axes>"
      ]
     },
     "metadata": {},
     "output_type": "display_data"
    }
   ],
   "source": [
    "plt.figure(figsize=(7,5))\n",
    "plt.plot(crawling_df['post_dates'].value_counts().sort_index())\n",
    "plt.xticks(rotation = 45)\n",
    "# plt.savefig(\"./output/\"+str(today)+\"_\"+keyword+\"_\"+str(real_length)+'_날짜빈도'+'.png')\n",
    "plt.show()"
   ]
  },
  {
   "cell_type": "markdown",
   "metadata": {},
   "source": [
    "### 토크나이즈"
   ]
  },
  {
   "cell_type": "markdown",
   "metadata": {},
   "source": [
    "### 형용사 - 연구중 2020-04-06 13:03:43 \n",
    "* 각 형태소 분석기 비교\n",
    "1. komoran/mecab 어간/어미를 분해해서 다소 카운팅하기 어려움\n",
    "2. okt adjective로 되어있어 다소 편리하면서 더 많은 형용사를 끌어옴"
   ]
  },
  {
   "cell_type": "code",
   "execution_count": 11,
   "metadata": {
    "ExecuteTime": {
     "end_time": "2020-04-07T01:30:16.082684Z",
     "start_time": "2020-04-07T01:29:51.525617Z"
    },
    "scrolled": true
   },
   "outputs": [
    {
     "name": "stderr",
     "output_type": "stream",
     "text": [
      "C:\\Users\\User\\Anaconda3\\lib\\site-packages\\ipykernel_launcher.py:8: TqdmDeprecationWarning: This function will be removed in tqdm==5.0.0\n",
      "Please use `tqdm.notebook.tqdm` instead of `tqdm.tqdm_notebook`\n",
      "  \n"
     ]
    },
    {
     "data": {
      "application/vnd.jupyter.widget-view+json": {
       "model_id": "104563b099ae473ca2ee2411dfac617e",
       "version_major": 2,
       "version_minor": 0
      },
      "text/plain": [
       "HBox(children=(FloatProgress(value=0.0, max=549.0), HTML(value='')))"
      ]
     },
     "metadata": {},
     "output_type": "display_data"
    },
    {
     "name": "stdout",
     "output_type": "stream",
     "text": [
      "\n"
     ]
    }
   ],
   "source": [
    "all_va = []\n",
    "VA_ls = []\n",
    "\n",
    "sw = list(set(['오늘', '시간', '최근', '지난', '관련', '이번', '이날', '현재', '10', '올해', '지난해', '있다', '이상', '기준', '때문',\n",
    "               \"메뉴\", \"주문\", \"강원도\", '정도', '도착', '생각', '양양군', '사진', '위치', '라고', '양양', \"아침\", \"저녁\", '다음', '우리', '시작', '여기', '이곳', '사람',\n",
    "              \"이다\", \"많다\",\"좋다\",\"같다\",\"없다\",\"그렇다\",\"이렇다\",\"아니다\",\"안녕하다\",\"가능하다\"]))\n",
    "\n",
    "for i in tqdm_notebook(range(0,len(crawling_df))):\n",
    "    VA_ls = []\n",
    "    #어근만 추출\n",
    "    pos_text = okt.pos(crawling_df['full_text'][i][0], norm=True, stem=True)\n",
    "    for j in range(0,len(pos_text)):\n",
    "        if pos_text[j][1] == 'Adjective':\n",
    "            text = pos_text[j][0]\n",
    "            VA_ls.append(text)\n",
    "    clean_va = list(filter(lambda word : (len(word)>1)&(word not in sw),VA_ls))\n",
    "    clean_va = list(set(clean_va))\n",
    "    all_va.append(clean_va)"
   ]
  },
  {
   "cell_type": "code",
   "execution_count": 12,
   "metadata": {
    "ExecuteTime": {
     "end_time": "2020-04-07T01:30:16.140688Z",
     "start_time": "2020-04-07T01:30:16.138688Z"
    }
   },
   "outputs": [],
   "source": [
    "all_va_flatten = [y for x in all_va for y in x]"
   ]
  },
  {
   "cell_type": "code",
   "execution_count": 13,
   "metadata": {
    "ExecuteTime": {
     "end_time": "2020-04-07T01:30:16.369740Z",
     "start_time": "2020-04-07T01:30:16.205703Z"
    }
   },
   "outputs": [
    {
     "data": {
      "text/plain": [
       "(array([ 0,  1,  2,  3,  4,  5,  6,  7,  8,  9, 10, 11, 12, 13, 14, 15, 16,\n",
       "        17, 18, 19]), <a list of 20 Text xticklabel objects>)"
      ]
     },
     "execution_count": 13,
     "metadata": {},
     "output_type": "execute_result"
    },
    {
     "data": {
      "image/png": "[encoded data removed]",
      "text/plain": [
       "<Figure size 504x360 with 1 Axes>"
      ]
     },
     "metadata": {},
     "output_type": "display_data"
    }
   ],
   "source": [
    "count_df = pd.Series(all_va_flatten).value_counts().reset_index()\n",
    "\n",
    "count_df.columns = ['word','counted']\n",
    "\n",
    "plt.figure(figsize=(7,5))\n",
    "sns.barplot(x= 'word', y = 'counted', data = count_df.head(20))\n",
    "plt.xticks(rotation = 45)"
   ]
  },
  {
   "cell_type": "code",
   "execution_count": 14,
   "metadata": {
    "ExecuteTime": {
     "end_time": "2020-04-07T01:30:19.862448Z",
     "start_time": "2020-04-07T01:30:19.854411Z"
    }
   },
   "outputs": [
    {
     "data": {
      "text/html": [
       "<div>\n",
       "<style scoped>\n",
       "    .dataframe tbody tr th:only-of-type {\n",
       "        vertical-align: middle;\n",
       "    }\n",
       "\n",
       "    .dataframe tbody tr th {\n",
       "        vertical-align: top;\n",
       "    }\n",
       "\n",
       "    .dataframe thead th {\n",
       "        text-align: right;\n",
       "    }\n",
       "</style>\n",
       "<table border=\"1\" class=\"dataframe\">\n",
       "  <thead>\n",
       "    <tr style=\"text-align: right;\">\n",
       "      <th></th>\n",
       "      <th>word</th>\n",
       "      <th>counted</th>\n",
       "    </tr>\n",
       "  </thead>\n",
       "  <tbody>\n",
       "    <tr>\n",
       "      <td>0</td>\n",
       "      <td>맛있다</td>\n",
       "      <td>179</td>\n",
       "    </tr>\n",
       "    <tr>\n",
       "      <td>1</td>\n",
       "      <td>좋아하다</td>\n",
       "      <td>98</td>\n",
       "    </tr>\n",
       "    <tr>\n",
       "      <td>2</td>\n",
       "      <td>예쁘다</td>\n",
       "      <td>85</td>\n",
       "    </tr>\n",
       "    <tr>\n",
       "      <td>3</td>\n",
       "      <td>작다</td>\n",
       "      <td>78</td>\n",
       "    </tr>\n",
       "    <tr>\n",
       "      <td>4</td>\n",
       "      <td>멋지다</td>\n",
       "      <td>76</td>\n",
       "    </tr>\n",
       "    <tr>\n",
       "      <td>5</td>\n",
       "      <td>유명하다</td>\n",
       "      <td>74</td>\n",
       "    </tr>\n",
       "    <tr>\n",
       "      <td>6</td>\n",
       "      <td>시원하다</td>\n",
       "      <td>70</td>\n",
       "    </tr>\n",
       "    <tr>\n",
       "      <td>7</td>\n",
       "      <td>즐겁다</td>\n",
       "      <td>68</td>\n",
       "    </tr>\n",
       "    <tr>\n",
       "      <td>8</td>\n",
       "      <td>다양하다</td>\n",
       "      <td>66</td>\n",
       "    </tr>\n",
       "    <tr>\n",
       "      <td>9</td>\n",
       "      <td>아름답다</td>\n",
       "      <td>66</td>\n",
       "    </tr>\n",
       "    <tr>\n",
       "      <td>10</td>\n",
       "      <td>가깝다</td>\n",
       "      <td>66</td>\n",
       "    </tr>\n",
       "    <tr>\n",
       "      <td>11</td>\n",
       "      <td>아쉽다</td>\n",
       "      <td>61</td>\n",
       "    </tr>\n",
       "    <tr>\n",
       "      <td>12</td>\n",
       "      <td>덥다</td>\n",
       "      <td>56</td>\n",
       "    </tr>\n",
       "    <tr>\n",
       "      <td>13</td>\n",
       "      <td>어떻다</td>\n",
       "      <td>54</td>\n",
       "    </tr>\n",
       "    <tr>\n",
       "      <td>14</td>\n",
       "      <td>넓다</td>\n",
       "      <td>54</td>\n",
       "    </tr>\n",
       "    <tr>\n",
       "      <td>15</td>\n",
       "      <td>새롭다</td>\n",
       "      <td>53</td>\n",
       "    </tr>\n",
       "    <tr>\n",
       "      <td>16</td>\n",
       "      <td>깔끔하다</td>\n",
       "      <td>52</td>\n",
       "    </tr>\n",
       "    <tr>\n",
       "      <td>17</td>\n",
       "      <td>깨끗하다</td>\n",
       "      <td>49</td>\n",
       "    </tr>\n",
       "    <tr>\n",
       "      <td>18</td>\n",
       "      <td>계시다</td>\n",
       "      <td>49</td>\n",
       "    </tr>\n",
       "    <tr>\n",
       "      <td>19</td>\n",
       "      <td>신나다</td>\n",
       "      <td>47</td>\n",
       "    </tr>\n",
       "    <tr>\n",
       "      <td>20</td>\n",
       "      <td>따뜻하다</td>\n",
       "      <td>45</td>\n",
       "    </tr>\n",
       "    <tr>\n",
       "      <td>21</td>\n",
       "      <td>편하다</td>\n",
       "      <td>43</td>\n",
       "    </tr>\n",
       "    <tr>\n",
       "      <td>22</td>\n",
       "      <td>간단하다</td>\n",
       "      <td>42</td>\n",
       "    </tr>\n",
       "    <tr>\n",
       "      <td>23</td>\n",
       "      <td>다르다</td>\n",
       "      <td>42</td>\n",
       "    </tr>\n",
       "    <tr>\n",
       "      <td>24</td>\n",
       "      <td>힘들다</td>\n",
       "      <td>41</td>\n",
       "    </tr>\n",
       "    <tr>\n",
       "      <td>25</td>\n",
       "      <td>싱싱하다</td>\n",
       "      <td>41</td>\n",
       "    </tr>\n",
       "    <tr>\n",
       "      <td>26</td>\n",
       "      <td>행복하다</td>\n",
       "      <td>40</td>\n",
       "    </tr>\n",
       "    <tr>\n",
       "      <td>27</td>\n",
       "      <td>괜찮다</td>\n",
       "      <td>39</td>\n",
       "    </tr>\n",
       "    <tr>\n",
       "      <td>28</td>\n",
       "      <td>조용하다</td>\n",
       "      <td>38</td>\n",
       "    </tr>\n",
       "    <tr>\n",
       "      <td>29</td>\n",
       "      <td>이쁘다</td>\n",
       "      <td>37</td>\n",
       "    </tr>\n",
       "  </tbody>\n",
       "</table>\n",
       "</div>"
      ],
      "text/plain": [
       "    word  counted\n",
       "0    맛있다      179\n",
       "1   좋아하다       98\n",
       "2    예쁘다       85\n",
       "3     작다       78\n",
       "4    멋지다       76\n",
       "5   유명하다       74\n",
       "6   시원하다       70\n",
       "7    즐겁다       68\n",
       "8   다양하다       66\n",
       "9   아름답다       66\n",
       "10   가깝다       66\n",
       "11   아쉽다       61\n",
       "12    덥다       56\n",
       "13   어떻다       54\n",
       "14    넓다       54\n",
       "15   새롭다       53\n",
       "16  깔끔하다       52\n",
       "17  깨끗하다       49\n",
       "18   계시다       49\n",
       "19   신나다       47\n",
       "20  따뜻하다       45\n",
       "21   편하다       43\n",
       "22  간단하다       42\n",
       "23   다르다       42\n",
       "24   힘들다       41\n",
       "25  싱싱하다       41\n",
       "26  행복하다       40\n",
       "27   괜찮다       39\n",
       "28  조용하다       38\n",
       "29   이쁘다       37"
      ]
     },
     "execution_count": 14,
     "metadata": {},
     "output_type": "execute_result"
    }
   ],
   "source": [
    "count_df.head(30)"
   ]
  },
  {
   "cell_type": "code",
   "execution_count": 15,
   "metadata": {
    "ExecuteTime": {
     "end_time": "2020-04-07T01:30:21.256539Z",
     "start_time": "2020-04-07T01:30:20.596961Z"
    }
   },
   "outputs": [
    {
     "data": {
      "image/png": "[encoded data removed]",
      "text/plain": [
       "<Figure size 720x720 with 1 Axes>"
      ]
     },
     "metadata": {},
     "output_type": "display_data"
    }
   ],
   "source": [
    "#워드클라우드\n",
    "\n",
    "#마스킹 준비\n",
    "from PIL import Image\n",
    "import numpy as np\n",
    "import wordcloud\n",
    "import random\n",
    "\n",
    "img_path = \"vector-cloud-png.png\"\n",
    "img = Image.open(img_path).convert('RGBA')\n",
    "mask = Image.new(\"RGB\", img.size, (255,255,255))\n",
    "mask.paste(img, img)\n",
    "mask = np.array(mask)\n",
    "\n",
    "text= ' '.join(all_va_flatten)\n",
    "\n",
    "wordc = wordcloud.WordCloud(background_color = 'White', max_words= 200,\n",
    "                           font_path = 'C:/Windows/Fonts/malgun.ttf',\n",
    "                           relative_scaling = 0.5,\n",
    "                           stopwords= sw,\n",
    "                           collocations = False,\n",
    "                        mask = mask)\n",
    "wordc.generate(text)\n",
    "\n",
    "def grey_color(word, font_size, position, orientation, random_state=None, **kwargs):\n",
    "    return 'hsl(%d,100%%,50%%)' % random.randint(200,300) #색상 채도 밝기\n",
    "wordc.recolor(color_func = grey_color, random_state =3)\n",
    "\n",
    "#그리기\n",
    "plt.figure(figsize = (10,10))\n",
    "plt.axis('off')\n",
    "plt.imshow(wordc, interpolation = 'bilinear')\n",
    "#저장\n",
    "plt.savefig(\"./output/\"+str(today)+\"_\"+keyword+\"_\"+str(real_length)+'_워드클라우드'+'.png')\n",
    "plt.show()"
   ]
  },
  {
   "cell_type": "markdown",
   "metadata": {},
   "source": [
    "### 결과에 대한 의문"
   ]
  },
  {
   "cell_type": "code",
   "execution_count": 29,
   "metadata": {
    "ExecuteTime": {
     "end_time": "2020-04-07T02:34:11.558461Z",
     "start_time": "2020-04-07T02:34:10.502933Z"
    }
   },
   "outputs": [],
   "source": [
    "d_komoran = Komoran()\n",
    "u_komoran = Komoran(userdic= 'user_dictionary')"
   ]
  },
  {
   "cell_type": "code",
   "execution_count": 16,
   "metadata": {
    "ExecuteTime": {
     "end_time": "2020-04-07T01:30:32.383926Z",
     "start_time": "2020-04-07T01:30:32.372649Z"
    }
   },
   "outputs": [],
   "source": [
    "word_check_ls = []\n",
    "for i in range(0, len(all_va)):\n",
    "    if \"맛있다\" in all_va[i]:\n",
    "        word_check_ls.append(i)"
   ]
  },
  {
   "cell_type": "code",
   "execution_count": 17,
   "metadata": {
    "ExecuteTime": {
     "end_time": "2020-04-07T01:30:33.521256Z",
     "start_time": "2020-04-07T01:30:33.517254Z"
    }
   },
   "outputs": [
    {
     "data": {
      "text/plain": [
       "[0, 1, 5, 10, 11]"
      ]
     },
     "execution_count": 17,
     "metadata": {},
     "output_type": "execute_result"
    }
   ],
   "source": [
    "word_check_ls[:5]"
   ]
  },
  {
   "cell_type": "code",
   "execution_count": 20,
   "metadata": {
    "ExecuteTime": {
     "end_time": "2020-04-07T01:31:06.477785Z",
     "start_time": "2020-04-07T01:31:06.364759Z"
    }
   },
   "outputs": [
    {
     "data": {
      "text/plain": [
       "['장날',\n",
       " '양양',\n",
       " '양양 여행간',\n",
       " '양양 여행간 날',\n",
       " '번 리버마켓',\n",
       " '마켓',\n",
       " '현지',\n",
       " '친구',\n",
       " '정보',\n",
       " '우린',\n",
       " '우린 속초시장',\n",
       " '양양쏠비치',\n",
       " '방문',\n",
       " '햇볕',\n",
       " '한 바다변',\n",
       " '리버마켓',\n",
       " '이런 플리마켓',\n",
       " '이런 플리마켓 오랜만이',\n",
       " '주차장',\n",
       " '가득',\n",
       " '파란하늘',\n",
       " '파란바다',\n",
       " '이 바다변',\n",
       " '따라서',\n",
       " '따라서 천막',\n",
       " '따라서 천막 안',\n",
       " '여러',\n",
       " '여러 소규모',\n",
       " '여러 소규모 셀러들',\n",
       " '이쁜 소품',\n",
       " '구경',\n",
       " '한 소소한 제품',\n",
       " '비치마켓',\n",
       " '수제',\n",
       " '수제 쿠키',\n",
       " '약과',\n",
       " '마구',\n",
       " '어쩜',\n",
       " '어쩜 야채',\n",
       " '흡사',\n",
       " '흡사 해외',\n",
       " '느낌',\n",
       " '이 아이',\n",
       " '잠시',\n",
       " '잠시 휴식',\n",
       " '취했',\n",
       " '구경구경',\n",
       " '친환경',\n",
       " '친환경 유정란',\n",
       " '판매',\n",
       " '판매 중',\n",
       " '그냥',\n",
       " '계란',\n",
       " '조오기',\n",
       " '조오기 닭',\n",
       " '조오기 닭과 병아리',\n",
       " '조오기 닭과 병아리 장식',\n",
       " '지유',\n",
       " '저 꼬꼬닭들',\n",
       " '주기도',\n",
       " '믈치비치마켓',\n",
       " '믈치비치마켓의 장점',\n",
       " '시식코너',\n",
       " '판매하는 제품들',\n",
       " '준비',\n",
       " '준 셀러들',\n",
       " '요 아가',\n",
       " '역시',\n",
       " '접시',\n",
       " '베베',\n",
       " '한과',\n",
       " '한과 시식',\n",
       " '장독대',\n",
       " '장독대 구경',\n",
       " '비치마켓 중간쯤',\n",
       " '만난',\n",
       " '만난 카카오페이',\n",
       " '안녕',\n",
       " '안녕 라이언',\n",
       " '인증샷',\n",
       " '인스타',\n",
       " '부채',\n",
       " '1원',\n",
       " '1원 송금',\n",
       " '1원 송금하면 시원한 물',\n",
       " '난 물이',\n",
       " '이 쯤 되면 카카오페이',\n",
       " '이 쯤 되면 카카오페이 모델급',\n",
       " '얜 라이언',\n",
       " '얜 라이언 고를 것',\n",
       " '얜 라이언 고를 것 처럼',\n",
       " '피치',\n",
       " '또 모델',\n",
       " '또 모델 포즈',\n",
       " '사진',\n",
       " '지유 덕분',\n",
       " '세식구',\n",
       " '세식구 모두',\n",
       " '자리',\n",
       " '원샷',\n",
       " '원샷  부채들',\n",
       " '먹거리',\n",
       " '무스비도',\n",
       " '이런 나물들',\n",
       " '옥수수',\n",
       " '감자',\n",
       " '식혜',\n",
       " '하나',\n",
       " '라며',\n",
       " '잠시 더위',\n",
       " '무농약',\n",
       " '무농약 팝콘',\n",
       " '무농약 팝콘과 유기농쌀',\n",
       " '무농약 팝콘과 유기농쌀 코너',\n",
       " '핫도그',\n",
       " '핫도그 코너',\n",
       " '진짜',\n",
       " '먹기',\n",
       " '마음',\n",
       " '요기',\n",
       " '아기자기',\n",
       " '아기자기 소품들',\n",
       " '수저받침',\n",
       " '수저받침 어쩔거',\n",
       " '통통한 복어',\n",
       " '물고기들',\n",
       " '물고기들 주어',\n",
       " '4개',\n",
       " '4개 구입',\n",
       " '이 아가',\n",
       " '종도',\n",
       " '종도 딩딩',\n",
       " '보고',\n",
       " '물고기',\n",
       " '점점',\n",
       " '있는 지유',\n",
       " '이번',\n",
       " '이번 여행',\n",
       " '온 가족',\n",
       " '썬크림',\n",
       " '피부',\n",
       " '엉엉',\n",
       " '예쁜 실팔찌',\n",
       " '여자아이',\n",
       " '요기 요거트',\n",
       " '시식',\n",
       " '시식 해',\n",
       " '시식 해 보고',\n",
       " '병 구매',\n",
       " '여름',\n",
       " '구매',\n",
       " '구매 못',\n",
       " '작은 병',\n",
       " '오미자',\n",
       " '오미자 시식',\n",
       " '저 스무디',\n",
       " '우린 식혜',\n",
       " '패스',\n",
       " '곤약젤리',\n",
       " '곤약젤리와 쪼꼬',\n",
       " '곤약젤리와 쪼꼬 시식',\n",
       " '복숭아',\n",
       " '복숭아 속초시장',\n",
       " '상태',\n",
       " '1만원',\n",
       " '길이',\n",
       " '저어',\n",
       " '저어 안',\n",
       " '저어 안 쪽',\n",
       " '계속',\n",
       " '배 구경',\n",
       " '지유 사진',\n",
       " '주기',\n",
       " '해외여행',\n",
       " '이 비쥬얼',\n",
       " '이 비쥬얼  내',\n",
       " '이 비쥬얼  내 복숭아',\n",
       " '난리',\n",
       " '이제',\n",
       " '이제 힘',\n",
       " '세진',\n",
       " '세진 지유',\n",
       " '꽤 많은 셀러들',\n",
       " '자리잡고',\n",
       " '맛깔',\n",
       " '맛깔스러웠던 표고전',\n",
       " '고기잡이',\n",
       " '틈틈이',\n",
       " '틈틈이 구경',\n",
       " '예쁜 소품들',\n",
       " '바다',\n",
       " '바다 바다',\n",
       " '바다 바다 바다',\n",
       " '저어기',\n",
       " '저어기 보이는 등대',\n",
       " '모아두',\n",
       " '이쁜 소품들',\n",
       " '그릇',\n",
       " '그릇 구경',\n",
       " '아이',\n",
       " '아이와 쇼핑',\n",
       " '둘러보기',\n",
       " '문어대신',\n",
       " '문어대신 표고',\n",
       " '문어대신 표고넣은 타코야끼',\n",
       " '문어대신 표고넣은 타코야끼 이것',\n",
       " '여기',\n",
       " '여기 가실 분들',\n",
       " '정말',\n",
       " '때 부터',\n",
       " '때 부터 노래',\n",
       " '때 부터 노래 불렀던 아이스크림',\n",
       " '아빠',\n",
       " '정말 사주는 건가',\n",
       " '정말 사주는 건가 감시',\n",
       " '정말 사주는 건가 감시 중',\n",
       " '정말 사주는 건가 감시 중  사진',\n",
       " '또 포오즈',\n",
       " '요기 아이스크림',\n",
       " '종이박스',\n",
       " '특징',\n",
       " '양도',\n",
       " '하나 시키면 세가족',\n",
       " '하나 시키면 세가족 그냥',\n",
       " '하나 시키면 세가족 그냥 맛',\n",
       " '하나 시키면 세가족 그냥 맛 보고',\n",
       " '하나 시키면 세가족 그냥 맛 보고 먹을 수',\n",
       " '은근',\n",
       " '은근 양',\n",
       " '은근 양 한 가득',\n",
       " '곳 반대편',\n",
       " '햇살',\n",
       " '분위기',\n",
       " '어른옷',\n",
       " '어른옷과 아이옷들',\n",
       " '그냥 가면',\n",
       " '그냥 가면 지름신',\n",
       " '마주',\n",
       " '마주할 수도',\n",
       " '요즘',\n",
       " '가방',\n",
       " '쇼핑',\n",
       " '좋았던 양양',\n",
       " '좋았던 양양 리버마켓',\n",
       " '이 아이 사진',\n",
       " '이 날의 사진',\n",
       " '다리',\n",
       " '다리 긴 것',\n",
       " '포인트',\n",
       " '포인트  나오는 길',\n",
       " '핸드드립',\n",
       " '핸드드립 커피',\n",
       " '치아바타',\n",
       " '치아바타와 빵들',\n",
       " '요것',\n",
       " '날씨',\n",
       " '도저히',\n",
       " '도저히 살',\n",
       " '도저히 살 수가',\n",
       " '이쁜 그릇들',\n",
       " '엄마',\n",
       " '엄마 눈',\n",
       " '이쁜건 이',\n",
       " '이쁜건 이 아이',\n",
       " '정리',\n",
       " '해 주어',\n",
       " '은근 볼거리',\n",
       " '시간',\n",
       " '구경하는 재미',\n",
       " '비치',\n",
       " '비치 마켓',\n",
       " '매월',\n",
       " '하니',\n",
       " '하니 양양',\n",
       " '하니 양양 가실 분들',\n",
       " '날짜',\n",
       " '날짜 맞으면 꼭',\n",
       " '날짜 맞으면 꼭 한 번',\n",
       " '물치항',\n",
       " '물치항 강원도',\n",
       " '물치항 강원도 양양군',\n",
       " '물치항 강원도 양양군 강현면',\n",
       " '물치항 강원도 양양군 강현면 동해',\n",
       " '3584',\n",
       " '3584 물치항회센터',\n",
       " '3584 물치항회센터 저장',\n",
       " '3584 물치항회센터 저장 관심',\n",
       " '3584 물치항회센터 저장 관심 장소',\n",
       " 'MY',\n",
       " '레이스',\n",
       " '저장',\n",
       " '저장할 수',\n",
       " '팝업',\n",
       " '내 장소',\n",
       " '폴더',\n",
       " '레이스 가기',\n",
       " '레이스 가기 팝업',\n",
       " '전화',\n",
       " '전화 상세보기',\n",
       " 'a onclick',\n",
       " 'return',\n",
       " 'return false',\n",
       " 'href',\n",
       " 'bSize',\n",
       " 'bSize style',\n",
       " 'display',\n",
       " 'none',\n",
       " 'none target',\n",
       " 'blank',\n",
       " 'blank class',\n",
       " 'semaplink',\n",
       " 'semaplink selink',\n",
       " 'semaplink selink data',\n",
       " 'linktype',\n",
       " 'map',\n",
       " 'map data',\n",
       " 'linkdata',\n",
       " 'quot',\n",
       " 'eventTarget',\n",
       " 'button',\n",
       " 'didSearch',\n",
       " 'true',\n",
       " 'searchEngine',\n",
       " 'NAVER',\n",
       " 'locationId',\n",
       " '15164524',\n",
       " 'latitude',\n",
       " '38.1558654',\n",
       " 'markerLatitude',\n",
       " 'markerLongitude',\n",
       " '128.6101625',\n",
       " 'title',\n",
       " 'longitude',\n",
       " '지도보기',\n",
       " '여행간',\n",
       " '리버',\n",
       " '속초시장',\n",
       " '양양쏠',\n",
       " '플리',\n",
       " '오랜만이',\n",
       " '파란',\n",
       " '천막',\n",
       " '소규모',\n",
       " '셀러들',\n",
       " '소품',\n",
       " '제품',\n",
       " '쿠키',\n",
       " '야채',\n",
       " '해외',\n",
       " '휴식',\n",
       " '유정',\n",
       " '병아리',\n",
       " '장식',\n",
       " '꼬꼬',\n",
       " '닭들',\n",
       " '치비',\n",
       " '장점',\n",
       " '코너',\n",
       " '제품들',\n",
       " '아가',\n",
       " '중간쯤',\n",
       " '카카오',\n",
       " '페이',\n",
       " '라이언',\n",
       " '송금',\n",
       " '물이',\n",
       " '모델급',\n",
       " '처럼',\n",
       " '모델',\n",
       " '포즈',\n",
       " '덕분',\n",
       " '모두',\n",
       " '부채들',\n",
       " '무스',\n",
       " '비도',\n",
       " '나물들',\n",
       " '더위',\n",
       " '농약',\n",
       " '팝콘',\n",
       " '유기농',\n",
       " '소품들',\n",
       " '수저',\n",
       " '받침',\n",
       " '어쩔거',\n",
       " '복어',\n",
       " '주어',\n",
       " '구입',\n",
       " '딩딩',\n",
       " '여행',\n",
       " '가족',\n",
       " '팔찌',\n",
       " '요거트',\n",
       " '스무디',\n",
       " '곤약',\n",
       " '젤리',\n",
       " '쪼꼬',\n",
       " '비쥬',\n",
       " '잡고',\n",
       " '고전',\n",
       " '등대',\n",
       " '문어',\n",
       " '대신',\n",
       " '표고',\n",
       " '타코야끼',\n",
       " '이것',\n",
       " '분들',\n",
       " '부터',\n",
       " '노래',\n",
       " '아이스크림',\n",
       " '건가',\n",
       " '감시',\n",
       " '오즈',\n",
       " '종이',\n",
       " '박스',\n",
       " '세가족',\n",
       " '반대편',\n",
       " '어른',\n",
       " '옷들',\n",
       " '가면',\n",
       " '지름신',\n",
       " '수도',\n",
       " '핸드',\n",
       " '드립',\n",
       " '커피',\n",
       " '빵들',\n",
       " '수가',\n",
       " '그릇들',\n",
       " '볼거리',\n",
       " '재미',\n",
       " '강원도',\n",
       " '양양군',\n",
       " '강현면',\n",
       " '동해',\n",
       " '센터',\n",
       " '관심',\n",
       " '장소',\n",
       " '가기',\n",
       " '상세',\n",
       " '보기',\n",
       " 'onclick',\n",
       " 'false',\n",
       " 'style',\n",
       " 'target',\n",
       " 'class',\n",
       " 'selink',\n",
       " 'data',\n",
       " '지도']"
      ]
     },
     "execution_count": 20,
     "metadata": {},
     "output_type": "execute_result"
    }
   ],
   "source": [
    "okt.phrases(crawling_df['full_text'][0][0])"
   ]
  },
  {
   "cell_type": "code",
   "execution_count": 369,
   "metadata": {
    "ExecuteTime": {
     "end_time": "2020-04-06T05:58:50.036452Z",
     "start_time": "2020-04-06T05:58:49.844333Z"
    }
   },
   "outputs": [],
   "source": [
    "pos_text = okt.pos(crawling_df['full_text'][7][0], norm=True, stem=True)"
   ]
  },
  {
   "cell_type": "markdown",
   "metadata": {},
   "source": [
    "### 함수화전"
   ]
  },
  {
   "cell_type": "markdown",
   "metadata": {},
   "source": [
    "### komoran에러 확인중 2020-04-07 09:33:33 \n",
    "* 사진만있는 블로그 긁어오다 공백만 가져오는 경우 발생"
   ]
  },
  {
   "cell_type": "code",
   "execution_count": 9,
   "metadata": {
    "ExecuteTime": {
     "end_time": "2020-04-07T00:33:44.802868Z",
     "start_time": "2020-04-07T00:33:43.716544Z"
    }
   },
   "outputs": [],
   "source": [
    "komoran = Komoran()"
   ]
  },
  {
   "cell_type": "code",
   "execution_count": 119,
   "metadata": {
    "ExecuteTime": {
     "end_time": "2020-04-07T01:11:47.126095Z",
     "start_time": "2020-04-07T01:11:47.123080Z"
    }
   },
   "outputs": [
    {
     "data": {
      "text/plain": [
       "334"
      ]
     },
     "execution_count": 119,
     "metadata": {},
     "output_type": "execute_result"
    }
   ],
   "source": [
    "i"
   ]
  },
  {
   "cell_type": "code",
   "execution_count": 124,
   "metadata": {
    "ExecuteTime": {
     "end_time": "2020-04-07T01:12:50.558956Z",
     "start_time": "2020-04-07T01:12:50.555955Z"
    }
   },
   "outputs": [
    {
     "data": {
      "text/plain": [
       "''"
      ]
     },
     "execution_count": 124,
     "metadata": {},
     "output_type": "execute_result"
    }
   ],
   "source": [
    "crawling_df['full_text'][i][0]"
   ]
  },
  {
   "cell_type": "code",
   "execution_count": 125,
   "metadata": {
    "ExecuteTime": {
     "end_time": "2020-04-07T01:12:59.951358Z",
     "start_time": "2020-04-07T01:12:59.948357Z"
    }
   },
   "outputs": [
    {
     "data": {
      "text/plain": [
       "''"
      ]
     },
     "execution_count": 125,
     "metadata": {},
     "output_type": "execute_result"
    }
   ],
   "source": [
    "crawling_df['full_text'][i][0].replace(\" \",\"\")"
   ]
  },
  {
   "cell_type": "code",
   "execution_count": 126,
   "metadata": {
    "ExecuteTime": {
     "end_time": "2020-04-07T01:13:00.875535Z",
     "start_time": "2020-04-07T01:13:00.867559Z"
    }
   },
   "outputs": [
    {
     "ename": "java.lang.NullPointerException",
     "evalue": "java.lang.NullPointerException",
     "output_type": "error",
     "traceback": [
      "\u001b[1;31m---------------------------------------------------------------------------\u001b[0m",
      "\u001b[1;31mException\u001b[0m                                 Traceback (most recent call last)",
      "\u001b[1;31mException\u001b[0m: Java Exception",
      "\nThe above exception was the direct cause of the following exception:\n",
      "\u001b[1;31mjava.lang.NullPointerException\u001b[0m            Traceback (most recent call last)",
      "\u001b[1;32m<ipython-input-126-5f860f2ff268>\u001b[0m in \u001b[0;36m<module>\u001b[1;34m()\u001b[0m\n\u001b[1;32m----> 1\u001b[1;33m \u001b[0mkomoran\u001b[0m\u001b[1;33m.\u001b[0m\u001b[0mpos\u001b[0m\u001b[1;33m(\u001b[0m\u001b[0mcrawling_df\u001b[0m\u001b[1;33m[\u001b[0m\u001b[1;34m'full_text'\u001b[0m\u001b[1;33m]\u001b[0m\u001b[1;33m[\u001b[0m\u001b[0mi\u001b[0m\u001b[1;33m]\u001b[0m\u001b[1;33m[\u001b[0m\u001b[1;36m0\u001b[0m\u001b[1;33m]\u001b[0m\u001b[1;33m.\u001b[0m\u001b[0mreplace\u001b[0m\u001b[1;33m(\u001b[0m\u001b[1;34m\" \"\u001b[0m\u001b[1;33m,\u001b[0m\u001b[1;34m\"\"\u001b[0m\u001b[1;33m)\u001b[0m\u001b[1;33m)\u001b[0m\u001b[1;33m\u001b[0m\u001b[0m\n\u001b[0m",
      "\u001b[1;32m~\\AppData\\Roaming\\Python\\Python36\\site-packages\\konlpy\\tag\\_komoran.py\u001b[0m in \u001b[0;36mpos\u001b[1;34m(self, phrase, flatten, join)\u001b[0m\n\u001b[0;32m     64\u001b[0m \u001b[1;33m\u001b[0m\u001b[0m\n\u001b[0;32m     65\u001b[0m         \u001b[1;32mfor\u001b[0m \u001b[0msentence\u001b[0m \u001b[1;32min\u001b[0m \u001b[0msentences\u001b[0m\u001b[1;33m:\u001b[0m\u001b[1;33m\u001b[0m\u001b[0m\n\u001b[1;32m---> 66\u001b[1;33m             \u001b[0mresult\u001b[0m \u001b[1;33m=\u001b[0m \u001b[0mself\u001b[0m\u001b[1;33m.\u001b[0m\u001b[0mjki\u001b[0m\u001b[1;33m.\u001b[0m\u001b[0manalyze\u001b[0m\u001b[1;33m(\u001b[0m\u001b[0msentence\u001b[0m\u001b[1;33m)\u001b[0m\u001b[1;33m.\u001b[0m\u001b[0mgetTokenList\u001b[0m\u001b[1;33m(\u001b[0m\u001b[1;33m)\u001b[0m\u001b[1;33m\u001b[0m\u001b[0m\n\u001b[0m\u001b[0;32m     67\u001b[0m             \u001b[0mresult\u001b[0m \u001b[1;33m=\u001b[0m \u001b[1;33m[\u001b[0m\u001b[1;33m(\u001b[0m\u001b[0mtoken\u001b[0m\u001b[1;33m.\u001b[0m\u001b[0mgetMorph\u001b[0m\u001b[1;33m(\u001b[0m\u001b[1;33m)\u001b[0m\u001b[1;33m,\u001b[0m \u001b[0mtoken\u001b[0m\u001b[1;33m.\u001b[0m\u001b[0mgetPos\u001b[0m\u001b[1;33m(\u001b[0m\u001b[1;33m)\u001b[0m\u001b[1;33m)\u001b[0m \u001b[1;32mfor\u001b[0m \u001b[0mtoken\u001b[0m \u001b[1;32min\u001b[0m \u001b[0mresult\u001b[0m\u001b[1;33m]\u001b[0m\u001b[1;33m\u001b[0m\u001b[0m\n\u001b[0;32m     68\u001b[0m \u001b[1;33m\u001b[0m\u001b[0m\n",
      "\u001b[1;31mjava.lang.NullPointerException\u001b[0m: java.lang.NullPointerException"
     ]
    }
   ],
   "source": [
    "komoran.pos(crawling_df['full_text'][i][0])"
   ]
  },
  {
   "cell_type": "code",
   "execution_count": 127,
   "metadata": {
    "ExecuteTime": {
     "end_time": "2020-04-07T01:13:17.191669Z",
     "start_time": "2020-04-07T01:13:17.187535Z"
    }
   },
   "outputs": [
    {
     "data": {
      "text/plain": [
       "'http://blog.naver.com/PostView.nhn?blogId=skygirleunji&logNo=221620476332&redirect=Dlog&widgetTypeCall=true&directAccess=false'"
      ]
     },
     "execution_count": 127,
     "metadata": {},
     "output_type": "execute_result"
    }
   ],
   "source": [
    "crawling_df.iloc[i]['url']"
   ]
  },
  {
   "cell_type": "code",
   "execution_count": 115,
   "metadata": {
    "ExecuteTime": {
     "end_time": "2020-04-07T01:09:29.642178Z",
     "start_time": "2020-04-07T01:09:28.676042Z"
    },
    "scrolled": false
   },
   "outputs": [
    {
     "name": "stderr",
     "output_type": "stream",
     "text": [
      "C:\\Users\\User\\Anaconda3\\lib\\site-packages\\ipykernel_launcher.py:1: TqdmDeprecationWarning: This function will be removed in tqdm==5.0.0\n",
      "Please use `tqdm.notebook.tqdm` instead of `tqdm.tqdm_notebook`\n",
      "  \"\"\"Entry point for launching an IPython kernel.\n"
     ]
    },
    {
     "data": {
      "application/vnd.jupyter.widget-view+json": {
       "model_id": "be923353fdfc4d7a9ebb1500100d317b",
       "version_major": 2,
       "version_minor": 0
      },
      "text/plain": [
       "HBox(children=(FloatProgress(value=0.0, max=20.0), HTML(value='')))"
      ]
     },
     "metadata": {},
     "output_type": "display_data"
    },
    {
     "name": "stdout",
     "output_type": "stream",
     "text": [
      "\n"
     ]
    }
   ],
   "source": [
    "for i in tqdm_notebook(range(430,450)):\n",
    "    tt = crawling_df['full_text'][i][0]\n",
    "    komoran.pos(tt)"
   ]
  },
  {
   "cell_type": "code",
   "execution_count": 10,
   "metadata": {
    "ExecuteTime": {
     "end_time": "2020-04-07T01:20:37.487734Z",
     "start_time": "2020-04-07T01:20:29.383299Z"
    }
   },
   "outputs": [
    {
     "name": "stderr",
     "output_type": "stream",
     "text": [
      "C:\\Users\\User\\Anaconda3\\lib\\site-packages\\ipykernel_launcher.py:8: TqdmDeprecationWarning: This function will be removed in tqdm==5.0.0\n",
      "Please use `tqdm.notebook.tqdm` instead of `tqdm.tqdm_notebook`\n",
      "  \n"
     ]
    },
    {
     "data": {
      "application/vnd.jupyter.widget-view+json": {
       "model_id": "3f58138b199545b88d189f17f5790585",
       "version_major": 2,
       "version_minor": 0
      },
      "text/plain": [
       "HBox(children=(FloatProgress(value=0.0, max=549.0), HTML(value='')))"
      ]
     },
     "metadata": {},
     "output_type": "display_data"
    },
    {
     "name": "stdout",
     "output_type": "stream",
     "text": [
      "\n"
     ]
    }
   ],
   "source": [
    "unique = True\n",
    "\n",
    "sw = list(set(['오늘','시간','최근','지난','관련','이번','이날','현재','10','올해','지난해','있다','이상','기준','때문',\n",
    "     \"메뉴\",\"주문\",\"강원도\",'정도','도착','생각','양양군','사진','위치','라고','양양',\"아침\",\"저녁\",'다음','우리','시작','여기','이곳','사람']))\n",
    "\n",
    "all_nouns =[]\n",
    "\n",
    "for i in tqdm_notebook(range(0,len(crawling_df))):\n",
    "    nouns = komoran.nouns(crawling_df['full_text'][i][0])\n",
    "    clean_nouns = list(filter(lambda word : (len(word)>1)&(word not in sw),nouns))\n",
    "    if unique == True:\n",
    "        clean_nouns = list(set(clean_nouns))\n",
    "    all_nouns.append(clean_nouns)"
   ]
  },
  {
   "cell_type": "code",
   "execution_count": null,
   "metadata": {
    "ExecuteTime": {
     "end_time": "2020-04-06T06:18:24.696010Z",
     "start_time": "2020-04-06T06:16:57.330Z"
    }
   },
   "outputs": [],
   "source": [
    "#단어빈도분석 \n",
    "#2중리스트 flatten\n",
    "all_noun_flatten = [y for x in all_nouns for y in x]\n",
    "\n",
    "count_df = pd.Series(all_noun_flatten).value_counts().reset_index()\n",
    "\n",
    "count_df.columns = ['word','counted']\n",
    "\n",
    "plt.figure(figsize=(7,5))\n",
    "sns.barplot(x= 'word', y = 'counted', data = count_df.head(20))\n",
    "plt.xticks(rotation = 45)\n",
    "#저장\n",
    "# count_df.to_csv(\"./output/\"+str(today)+\"_\"+keyword+\"_\"+str(real_length)+'_단어빈도'+'.csv',encoding ='cp949')\n",
    "# plt.savefig(\"./output/\"+str(today)+\"_\"+keyword+\"_\"+str(real_length)+'_단어빈도'+'.png')\n",
    "plt.show()"
   ]
  },
  {
   "cell_type": "code",
   "execution_count": null,
   "metadata": {
    "ExecuteTime": {
     "end_time": "2020-04-06T06:18:24.698011Z",
     "start_time": "2020-04-06T06:16:58.041Z"
    }
   },
   "outputs": [],
   "source": [
    "#워드클라우드\n",
    "\n",
    "#마스킹 준비\n",
    "from PIL import Image\n",
    "import numpy as np\n",
    "import wordcloud\n",
    "import random\n",
    "\n",
    "img_path = \"vector-cloud-png.png\"\n",
    "img = Image.open(img_path).convert('RGBA')\n",
    "mask = Image.new(\"RGB\", img.size, (255,255,255))\n",
    "mask.paste(img, img)\n",
    "mask = np.array(mask)\n",
    "\n",
    "text= ' '.join(all_noun_flatten)\n",
    "\n",
    "wordc = wordcloud.WordCloud(background_color = 'White', max_words= 200,\n",
    "                           font_path = 'C:/Windows/Fonts/malgun.ttf',\n",
    "                           relative_scaling = 0.5,\n",
    "                           stopwords= sw,\n",
    "                           collocations = False,\n",
    "                        mask = mask)\n",
    "wordc.generate(text)\n",
    "\n",
    "def grey_color(word, font_size, position, orientation, random_state=None, **kwargs):\n",
    "    return 'hsl(%d,100%%,50%%)' % random.randint(200,300) #색상 채도 밝기\n",
    "wordc.recolor(color_func = grey_color, random_state =3)\n",
    "\n",
    "#그리기\n",
    "plt.figure(figsize = (10,10))\n",
    "plt.axis('off')\n",
    "plt.imshow(wordc, interpolation = 'bilinear')\n",
    "#저장\n",
    "plt.savefig(\"./output/\"+str(today)+\"_\"+keyword+\"_\"+str(real_length)+'_워드클라우드'+'.png')\n",
    "plt.show()"
   ]
  },
  {
   "cell_type": "markdown",
   "metadata": {},
   "source": [
    "### 함수화"
   ]
  },
  {
   "cell_type": "code",
   "execution_count": 259,
   "metadata": {
    "ExecuteTime": {
     "end_time": "2020-04-02T08:30:38.829900Z",
     "start_time": "2020-04-02T08:30:37.090224Z"
    }
   },
   "outputs": [
    {
     "name": "stderr",
     "output_type": "stream",
     "text": [
      "C:\\Users\\User\\Anaconda3\\lib\\site-packages\\konlpy\\tag\\_okt.py:16: UserWarning: \"Twitter\" has changed to \"Okt\" since KoNLPy v0.4.5.\n",
      "  warn('\"Twitter\" has changed to \"Okt\" since KoNLPy v0.4.5.')\n"
     ]
    }
   ],
   "source": [
    "#형태소분석기 종류비교\n",
    "mecab = Mecab()\n",
    "komoran = Komoran(userdic='user_dictionary.txt')\n",
    "kkma = Kkma()\n",
    "okt = Okt()\n",
    "twitter = Twitter()"
   ]
  },
  {
   "cell_type": "code",
   "execution_count": null,
   "metadata": {},
   "outputs": [],
   "source": [
    "Mecab()"
   ]
  },
  {
   "cell_type": "code",
   "execution_count": 251,
   "metadata": {
    "ExecuteTime": {
     "end_time": "2020-04-02T07:31:34.188482Z",
     "start_time": "2020-04-02T07:31:34.183481Z"
    }
   },
   "outputs": [],
   "source": [
    "def tokenaize(tagger, target, unique = False, save = True):\n",
    "    sw = ['오늘','시간','최근','지난','관련','이번','이날','현재','10','올해','지난해','있다','이상','기준','때문',\n",
    "     \"메뉴\",\"주문\",\"강원도\",'정도','도착','생각','양양군','사진','위치','라고']\n",
    "    all_nouns =[]\n",
    "\n",
    "    for i in tqdm_notebook(range(0,len(crawling_df))):\n",
    "        nouns = tagger.nouns(target[i][0])\n",
    "        clean_nouns = list(filter(lambda word : (len(word)>1)&(word not in sw),nouns))\n",
    "        if unique == True:\n",
    "            clean_nouns = list(set(clean_nouns))\n",
    "        all_nouns.append(clean_nouns)\n",
    "        \n",
    "    #2중리스트 flatten\n",
    "    all_noun_flatten = [y for x in all_nouns for y in x]\n",
    "\n",
    "    count_df = pd.Series(all_noun_flatten).value_counts().reset_index()\n",
    "\n",
    "    count_df.columns = ['word','counted']\n",
    "\n",
    "    plt.figure(figsize=(7,5))\n",
    "    sns.barplot(x= 'word', y = 'counted', data = count_df.head(20))\n",
    "    plt.xticks(rotation = 45)\n",
    "    if save == True:\n",
    "        count_df.to_csv(\"./output/\"+str(today)+\"_\"+keyword+\"_\"+str(real_length)+'_단어빈도'+'.csv',encoding ='cp949')\n",
    "        plt.savefig(\"./output/\"+str(today)+\"_\"+keyword+\"_\"+str(real_length)+'_단어빈도'+'.png')\n",
    "    plt.show()\n",
    "    \n",
    "    return all_nouns"
   ]
  },
  {
   "cell_type": "code",
   "execution_count": 252,
   "metadata": {
    "ExecuteTime": {
     "end_time": "2020-04-02T07:31:35.230716Z",
     "start_time": "2020-04-02T07:31:34.285504Z"
    },
    "scrolled": false
   },
   "outputs": [
    {
     "name": "stderr",
     "output_type": "stream",
     "text": [
      "C:\\Users\\User\\Anaconda3\\lib\\site-packages\\ipykernel_launcher.py:6: TqdmDeprecationWarning: This function will be removed in tqdm==5.0.0\n",
      "Please use `tqdm.notebook.tqdm` instead of `tqdm.tqdm_notebook`\n",
      "  \n"
     ]
    },
    {
     "data": {
      "application/vnd.jupyter.widget-view+json": {
       "model_id": "328ef199ec5d43b499429b1d79cdc058",
       "version_major": 2,
       "version_minor": 0
      },
      "text/plain": [
       "HBox(children=(FloatProgress(value=0.0, max=442.0), HTML(value='')))"
      ]
     },
     "metadata": {},
     "output_type": "display_data"
    },
    {
     "name": "stdout",
     "output_type": "stream",
     "text": [
      "\n"
     ]
    },
    {
     "data": {
      "image/png": "[encoded data removed]",
      "text/plain": [
       "<Figure size 504x360 with 1 Axes>"
      ]
     },
     "metadata": {},
     "output_type": "display_data"
    }
   ],
   "source": [
    "all_nouns = tokenaize(mecab,crawling_df['full_text'])"
   ]
  },
  {
   "cell_type": "code",
   "execution_count": 260,
   "metadata": {
    "ExecuteTime": {
     "end_time": "2020-04-02T08:30:53.844420Z",
     "start_time": "2020-04-02T08:30:43.132014Z"
    }
   },
   "outputs": [
    {
     "name": "stderr",
     "output_type": "stream",
     "text": [
      "C:\\Users\\User\\Anaconda3\\lib\\site-packages\\ipykernel_launcher.py:6: TqdmDeprecationWarning: This function will be removed in tqdm==5.0.0\n",
      "Please use `tqdm.notebook.tqdm` instead of `tqdm.tqdm_notebook`\n",
      "  \n"
     ]
    },
    {
     "data": {
      "application/vnd.jupyter.widget-view+json": {
       "model_id": "ee6d26a374f74b0e8b764b9d4132443e",
       "version_major": 2,
       "version_minor": 0
      },
      "text/plain": [
       "HBox(children=(FloatProgress(value=0.0, max=442.0), HTML(value='')))"
      ]
     },
     "metadata": {},
     "output_type": "display_data"
    },
    {
     "name": "stdout",
     "output_type": "stream",
     "text": [
      "\n"
     ]
    },
    {
     "data": {
      "image/png": "[encoded data removed]",
      "text/plain": [
       "<Figure size 504x360 with 1 Axes>"
      ]
     },
     "metadata": {},
     "output_type": "display_data"
    }
   ],
   "source": [
    "all_nouns = tokenaize(komoran,crawling_df['full_text'])"
   ]
  },
  {
   "cell_type": "markdown",
   "metadata": {},
   "source": [
    "### 연관분석"
   ]
  },
  {
   "cell_type": "code",
   "execution_count": 75,
   "metadata": {
    "ExecuteTime": {
     "end_time": "2020-04-02T01:59:26.179943Z",
     "start_time": "2020-04-02T01:59:26.056681Z"
    }
   },
   "outputs": [],
   "source": [
    "noun_df = pd.DataFrame({'nouns':all_nouns})\n",
    "rules = apriori(all_nouns, min_support=0.2, min_condience =0.3)\n",
    "results  = list(rules)"
   ]
  },
  {
   "cell_type": "code",
   "execution_count": 81,
   "metadata": {
    "ExecuteTime": {
     "end_time": "2020-04-02T02:01:34.336571Z",
     "start_time": "2020-04-02T02:01:34.101495Z"
    }
   },
   "outputs": [],
   "source": [
    "results_df = pd.DataFrame(columns =[\"lhs\",'rhs','support','confidence','lift'])\n",
    "index =0\n",
    "for row in results:   \n",
    "    support = row[1]\n",
    "    ordered_stat = row[2]\n",
    "    for ordered_item in ordered_stat:\n",
    "        lhs = \" \".join(x for x in ordered_item[0])\n",
    "        rhs = \" \".join(x for x in ordered_item[1])\n",
    "        confidence = ordered_item[2]\n",
    "        lift = ordered_item[3]\n",
    "        results_df.loc[index] = [lhs,rhs,support,confidence,lift]\n",
    "        index = index +1\n",
    "\n",
    "results_df = results_df.sort_values(by=\"lift\",ascending=False)"
   ]
  },
  {
   "cell_type": "code",
   "execution_count": 82,
   "metadata": {
    "ExecuteTime": {
     "end_time": "2020-04-02T02:01:34.886697Z",
     "start_time": "2020-04-02T02:01:34.878704Z"
    },
    "scrolled": true
   },
   "outputs": [
    {
     "data": {
      "text/html": [
       "<div>\n",
       "<style scoped>\n",
       "    .dataframe tbody tr th:only-of-type {\n",
       "        vertical-align: middle;\n",
       "    }\n",
       "\n",
       "    .dataframe tbody tr th {\n",
       "        vertical-align: top;\n",
       "    }\n",
       "\n",
       "    .dataframe thead th {\n",
       "        text-align: right;\n",
       "    }\n",
       "</style>\n",
       "<table border=\"1\" class=\"dataframe\">\n",
       "  <thead>\n",
       "    <tr style=\"text-align: right;\">\n",
       "      <th></th>\n",
       "      <th>lhs</th>\n",
       "      <th>rhs</th>\n",
       "      <th>support</th>\n",
       "      <th>confidence</th>\n",
       "      <th>lift</th>\n",
       "    </tr>\n",
       "  </thead>\n",
       "  <tbody>\n",
       "    <tr>\n",
       "      <td>78</td>\n",
       "      <td>바다</td>\n",
       "      <td>해변</td>\n",
       "      <td>0.212379</td>\n",
       "      <td>0.413712</td>\n",
       "      <td>1.495168</td>\n",
       "    </tr>\n",
       "    <tr>\n",
       "      <td>79</td>\n",
       "      <td>해변</td>\n",
       "      <td>바다</td>\n",
       "      <td>0.212379</td>\n",
       "      <td>0.767544</td>\n",
       "      <td>1.495168</td>\n",
       "    </tr>\n",
       "    <tr>\n",
       "      <td>155</td>\n",
       "      <td>해변 양양</td>\n",
       "      <td>바다</td>\n",
       "      <td>0.211165</td>\n",
       "      <td>0.766520</td>\n",
       "      <td>1.493173</td>\n",
       "    </tr>\n",
       "    <tr>\n",
       "      <td>150</td>\n",
       "      <td>바다</td>\n",
       "      <td>양양 해변</td>\n",
       "      <td>0.211165</td>\n",
       "      <td>0.411348</td>\n",
       "      <td>1.493173</td>\n",
       "    </tr>\n",
       "    <tr>\n",
       "      <td>153</td>\n",
       "      <td>바다 양양</td>\n",
       "      <td>해변</td>\n",
       "      <td>0.211165</td>\n",
       "      <td>0.412322</td>\n",
       "      <td>1.490147</td>\n",
       "    </tr>\n",
       "    <tr>\n",
       "      <td>152</td>\n",
       "      <td>해변</td>\n",
       "      <td>바다 양양</td>\n",
       "      <td>0.211165</td>\n",
       "      <td>0.763158</td>\n",
       "      <td>1.490147</td>\n",
       "    </tr>\n",
       "    <tr>\n",
       "      <td>129</td>\n",
       "      <td>느낌</td>\n",
       "      <td>여행 양양</td>\n",
       "      <td>0.206311</td>\n",
       "      <td>0.669291</td>\n",
       "      <td>1.332116</td>\n",
       "    </tr>\n",
       "    <tr>\n",
       "      <td>134</td>\n",
       "      <td>여행 양양</td>\n",
       "      <td>느낌</td>\n",
       "      <td>0.206311</td>\n",
       "      <td>0.410628</td>\n",
       "      <td>1.332116</td>\n",
       "    </tr>\n",
       "    <tr>\n",
       "      <td>52</td>\n",
       "      <td>여행</td>\n",
       "      <td>느낌</td>\n",
       "      <td>0.206311</td>\n",
       "      <td>0.410628</td>\n",
       "      <td>1.332116</td>\n",
       "    </tr>\n",
       "    <tr>\n",
       "      <td>131</td>\n",
       "      <td>여행</td>\n",
       "      <td>느낌 양양</td>\n",
       "      <td>0.206311</td>\n",
       "      <td>0.410628</td>\n",
       "      <td>1.332116</td>\n",
       "    </tr>\n",
       "    <tr>\n",
       "      <td>132</td>\n",
       "      <td>느낌 양양</td>\n",
       "      <td>여행</td>\n",
       "      <td>0.206311</td>\n",
       "      <td>0.669291</td>\n",
       "      <td>1.332116</td>\n",
       "    </tr>\n",
       "    <tr>\n",
       "      <td>51</td>\n",
       "      <td>느낌</td>\n",
       "      <td>여행</td>\n",
       "      <td>0.206311</td>\n",
       "      <td>0.669291</td>\n",
       "      <td>1.332116</td>\n",
       "    </tr>\n",
       "    <tr>\n",
       "      <td>69</td>\n",
       "      <td>바다</td>\n",
       "      <td>사람</td>\n",
       "      <td>0.252427</td>\n",
       "      <td>0.491726</td>\n",
       "      <td>1.239089</td>\n",
       "    </tr>\n",
       "    <tr>\n",
       "      <td>70</td>\n",
       "      <td>사람</td>\n",
       "      <td>바다</td>\n",
       "      <td>0.252427</td>\n",
       "      <td>0.636086</td>\n",
       "      <td>1.239089</td>\n",
       "    </tr>\n",
       "    <tr>\n",
       "      <td>141</td>\n",
       "      <td>양양 사람</td>\n",
       "      <td>바다</td>\n",
       "      <td>0.251214</td>\n",
       "      <td>0.634969</td>\n",
       "      <td>1.236914</td>\n",
       "    </tr>\n",
       "    <tr>\n",
       "      <td>136</td>\n",
       "      <td>바다</td>\n",
       "      <td>양양 사람</td>\n",
       "      <td>0.251214</td>\n",
       "      <td>0.489362</td>\n",
       "      <td>1.236914</td>\n",
       "    </tr>\n",
       "    <tr>\n",
       "      <td>140</td>\n",
       "      <td>바다 양양</td>\n",
       "      <td>사람</td>\n",
       "      <td>0.251214</td>\n",
       "      <td>0.490521</td>\n",
       "      <td>1.236054</td>\n",
       "    </tr>\n",
       "    <tr>\n",
       "      <td>137</td>\n",
       "      <td>사람</td>\n",
       "      <td>바다 양양</td>\n",
       "      <td>0.251214</td>\n",
       "      <td>0.633028</td>\n",
       "      <td>1.236054</td>\n",
       "    </tr>\n",
       "    <tr>\n",
       "      <td>145</td>\n",
       "      <td>여행</td>\n",
       "      <td>바다 양양</td>\n",
       "      <td>0.317961</td>\n",
       "      <td>0.632850</td>\n",
       "      <td>1.235708</td>\n",
       "    </tr>\n",
       "    <tr>\n",
       "      <td>146</td>\n",
       "      <td>바다 양양</td>\n",
       "      <td>여행</td>\n",
       "      <td>0.317961</td>\n",
       "      <td>0.620853</td>\n",
       "      <td>1.235708</td>\n",
       "    </tr>\n",
       "  </tbody>\n",
       "</table>\n",
       "</div>"
      ],
      "text/plain": [
       "       lhs    rhs   support  confidence      lift\n",
       "78      바다     해변  0.212379    0.413712  1.495168\n",
       "79      해변     바다  0.212379    0.767544  1.495168\n",
       "155  해변 양양     바다  0.211165    0.766520  1.493173\n",
       "150     바다  양양 해변  0.211165    0.411348  1.493173\n",
       "153  바다 양양     해변  0.211165    0.412322  1.490147\n",
       "152     해변  바다 양양  0.211165    0.763158  1.490147\n",
       "129     느낌  여행 양양  0.206311    0.669291  1.332116\n",
       "134  여행 양양     느낌  0.206311    0.410628  1.332116\n",
       "52      여행     느낌  0.206311    0.410628  1.332116\n",
       "131     여행  느낌 양양  0.206311    0.410628  1.332116\n",
       "132  느낌 양양     여행  0.206311    0.669291  1.332116\n",
       "51      느낌     여행  0.206311    0.669291  1.332116\n",
       "69      바다     사람  0.252427    0.491726  1.239089\n",
       "70      사람     바다  0.252427    0.636086  1.239089\n",
       "141  양양 사람     바다  0.251214    0.634969  1.236914\n",
       "136     바다  양양 사람  0.251214    0.489362  1.236914\n",
       "140  바다 양양     사람  0.251214    0.490521  1.236054\n",
       "137     사람  바다 양양  0.251214    0.633028  1.236054\n",
       "145     여행  바다 양양  0.317961    0.632850  1.235708\n",
       "146  바다 양양     여행  0.317961    0.620853  1.235708"
      ]
     },
     "execution_count": 82,
     "metadata": {},
     "output_type": "execute_result"
    }
   ],
   "source": [
    "results_df.head(20)"
   ]
  },
  {
   "cell_type": "code",
   "execution_count": 83,
   "metadata": {
    "ExecuteTime": {
     "end_time": "2020-04-02T02:01:55.367383Z",
     "start_time": "2020-04-02T02:01:55.358389Z"
    }
   },
   "outputs": [
    {
     "data": {
      "text/html": [
       "<div>\n",
       "<style scoped>\n",
       "    .dataframe tbody tr th:only-of-type {\n",
       "        vertical-align: middle;\n",
       "    }\n",
       "\n",
       "    .dataframe tbody tr th {\n",
       "        vertical-align: top;\n",
       "    }\n",
       "\n",
       "    .dataframe thead th {\n",
       "        text-align: right;\n",
       "    }\n",
       "</style>\n",
       "<table border=\"1\" class=\"dataframe\">\n",
       "  <thead>\n",
       "    <tr style=\"text-align: right;\">\n",
       "      <th></th>\n",
       "      <th>lhs</th>\n",
       "      <th>rhs</th>\n",
       "      <th>support</th>\n",
       "      <th>confidence</th>\n",
       "      <th>lift</th>\n",
       "    </tr>\n",
       "  </thead>\n",
       "  <tbody>\n",
       "    <tr>\n",
       "      <td>89</td>\n",
       "      <td></td>\n",
       "      <td>여행 사람</td>\n",
       "      <td>0.228155</td>\n",
       "      <td>0.228155</td>\n",
       "      <td>1.000000</td>\n",
       "    </tr>\n",
       "    <tr>\n",
       "      <td>119</td>\n",
       "      <td></td>\n",
       "      <td>처음 양양</td>\n",
       "      <td>0.259709</td>\n",
       "      <td>0.259709</td>\n",
       "      <td>1.000000</td>\n",
       "    </tr>\n",
       "    <tr>\n",
       "      <td>50</td>\n",
       "      <td></td>\n",
       "      <td>느낌 여행</td>\n",
       "      <td>0.206311</td>\n",
       "      <td>0.206311</td>\n",
       "      <td>1.000000</td>\n",
       "    </tr>\n",
       "    <tr>\n",
       "      <td>116</td>\n",
       "      <td></td>\n",
       "      <td>준비 양양</td>\n",
       "      <td>0.211165</td>\n",
       "      <td>0.211165</td>\n",
       "      <td>1.000000</td>\n",
       "    </tr>\n",
       "    <tr>\n",
       "      <td>25</td>\n",
       "      <td></td>\n",
       "      <td>준비</td>\n",
       "      <td>0.212379</td>\n",
       "      <td>0.212379</td>\n",
       "      <td>1.000000</td>\n",
       "    </tr>\n",
       "    <tr>\n",
       "      <td>26</td>\n",
       "      <td></td>\n",
       "      <td>처음</td>\n",
       "      <td>0.260922</td>\n",
       "      <td>0.260922</td>\n",
       "      <td>1.000000</td>\n",
       "    </tr>\n",
       "    <tr>\n",
       "      <td>113</td>\n",
       "      <td></td>\n",
       "      <td>양양 저녁</td>\n",
       "      <td>0.201456</td>\n",
       "      <td>0.201456</td>\n",
       "      <td>1.000000</td>\n",
       "    </tr>\n",
       "    <tr>\n",
       "      <td>110</td>\n",
       "      <td></td>\n",
       "      <td>자리 양양</td>\n",
       "      <td>0.264563</td>\n",
       "      <td>0.264563</td>\n",
       "      <td>1.000000</td>\n",
       "    </tr>\n",
       "    <tr>\n",
       "      <td>27</td>\n",
       "      <td></td>\n",
       "      <td>카페</td>\n",
       "      <td>0.248786</td>\n",
       "      <td>0.248786</td>\n",
       "      <td>1.000000</td>\n",
       "    </tr>\n",
       "    <tr>\n",
       "      <td>107</td>\n",
       "      <td></td>\n",
       "      <td>이용 양양</td>\n",
       "      <td>0.200243</td>\n",
       "      <td>0.200243</td>\n",
       "      <td>1.000000</td>\n",
       "    </tr>\n",
       "    <tr>\n",
       "      <td>104</td>\n",
       "      <td></td>\n",
       "      <td>음식 양양</td>\n",
       "      <td>0.200243</td>\n",
       "      <td>0.200243</td>\n",
       "      <td>1.000000</td>\n",
       "    </tr>\n",
       "    <tr>\n",
       "      <td>92</td>\n",
       "      <td></td>\n",
       "      <td>양양 속초</td>\n",
       "      <td>0.290049</td>\n",
       "      <td>0.290049</td>\n",
       "      <td>1.000000</td>\n",
       "    </tr>\n",
       "    <tr>\n",
       "      <td>29</td>\n",
       "      <td></td>\n",
       "      <td>가격 양양</td>\n",
       "      <td>0.225728</td>\n",
       "      <td>0.225728</td>\n",
       "      <td>1.000000</td>\n",
       "    </tr>\n",
       "    <tr>\n",
       "      <td>101</td>\n",
       "      <td></td>\n",
       "      <td>여행 양양</td>\n",
       "      <td>0.502427</td>\n",
       "      <td>0.502427</td>\n",
       "      <td>1.000000</td>\n",
       "    </tr>\n",
       "    <tr>\n",
       "      <td>98</td>\n",
       "      <td></td>\n",
       "      <td>아침 양양</td>\n",
       "      <td>0.258495</td>\n",
       "      <td>0.258495</td>\n",
       "      <td>1.000000</td>\n",
       "    </tr>\n",
       "    <tr>\n",
       "      <td>95</td>\n",
       "      <td></td>\n",
       "      <td>시작 양양</td>\n",
       "      <td>0.248786</td>\n",
       "      <td>0.248786</td>\n",
       "      <td>1.000000</td>\n",
       "    </tr>\n",
       "    <tr>\n",
       "      <td>32</td>\n",
       "      <td></td>\n",
       "      <td>가족 양양</td>\n",
       "      <td>0.223301</td>\n",
       "      <td>0.223301</td>\n",
       "      <td>1.000000</td>\n",
       "    </tr>\n",
       "    <tr>\n",
       "      <td>0</td>\n",
       "      <td></td>\n",
       "      <td>가격</td>\n",
       "      <td>0.225728</td>\n",
       "      <td>0.225728</td>\n",
       "      <td>1.000000</td>\n",
       "    </tr>\n",
       "    <tr>\n",
       "      <td>96</td>\n",
       "      <td>시작</td>\n",
       "      <td>양양</td>\n",
       "      <td>0.248786</td>\n",
       "      <td>0.985577</td>\n",
       "      <td>0.996461</td>\n",
       "    </tr>\n",
       "    <tr>\n",
       "      <td>97</td>\n",
       "      <td>양양</td>\n",
       "      <td>시작</td>\n",
       "      <td>0.248786</td>\n",
       "      <td>0.251534</td>\n",
       "      <td>0.996461</td>\n",
       "    </tr>\n",
       "  </tbody>\n",
       "</table>\n",
       "</div>"
      ],
      "text/plain": [
       "    lhs    rhs   support  confidence      lift\n",
       "89       여행 사람  0.228155    0.228155  1.000000\n",
       "119      처음 양양  0.259709    0.259709  1.000000\n",
       "50       느낌 여행  0.206311    0.206311  1.000000\n",
       "116      준비 양양  0.211165    0.211165  1.000000\n",
       "25          준비  0.212379    0.212379  1.000000\n",
       "26          처음  0.260922    0.260922  1.000000\n",
       "113      양양 저녁  0.201456    0.201456  1.000000\n",
       "110      자리 양양  0.264563    0.264563  1.000000\n",
       "27          카페  0.248786    0.248786  1.000000\n",
       "107      이용 양양  0.200243    0.200243  1.000000\n",
       "104      음식 양양  0.200243    0.200243  1.000000\n",
       "92       양양 속초  0.290049    0.290049  1.000000\n",
       "29       가격 양양  0.225728    0.225728  1.000000\n",
       "101      여행 양양  0.502427    0.502427  1.000000\n",
       "98       아침 양양  0.258495    0.258495  1.000000\n",
       "95       시작 양양  0.248786    0.248786  1.000000\n",
       "32       가족 양양  0.223301    0.223301  1.000000\n",
       "0           가격  0.225728    0.225728  1.000000\n",
       "96   시작     양양  0.248786    0.985577  0.996461\n",
       "97   양양     시작  0.248786    0.251534  0.996461"
      ]
     },
     "execution_count": 83,
     "metadata": {},
     "output_type": "execute_result"
    }
   ],
   "source": [
    "results_df.tail(20)"
   ]
  },
  {
   "cell_type": "markdown",
   "metadata": {},
   "source": [
    "# 검수용코드"
   ]
  },
  {
   "cell_type": "code",
   "execution_count": 128,
   "metadata": {
    "ExecuteTime": {
     "end_time": "2020-04-07T01:13:48.758523Z",
     "start_time": "2020-04-07T01:13:48.755499Z"
    }
   },
   "outputs": [],
   "source": [
    "# real_blog_post_url = 'http://blog.naver.com/PostView.nhn?blogId=kjakfldh&logNo=221008785961&redirect=Dlog&widgetTypeCall=true&directAccess=false'\n",
    "# real_blog_post_url = 'http://blog.naver.com/PostView.nhn?blogId=ghskal&logNo=220806425747&redirect=Dlog&widgetTypeCall=true&directAccess=false'\n",
    "real_blog_post_url = 'http://blog.naver.com/PostView.nhn?blogId=skygirleunji&logNo=221620476332&redirect=Dlog&widgetTypeCall=true&directAccess=false'"
   ]
  },
  {
   "cell_type": "code",
   "execution_count": 129,
   "metadata": {
    "ExecuteTime": {
     "end_time": "2020-04-07T01:13:49.683273Z",
     "start_time": "2020-04-07T01:13:49.540245Z"
    }
   },
   "outputs": [],
   "source": [
    "get_real_blog_post_content_code = requests.get(real_blog_post_url)\n",
    "get_real_blog_post_content_text = get_real_blog_post_content_code.text\n",
    "get_real_blog_post_content_soup = BeautifulSoup(get_real_blog_post_content_text, 'lxml')"
   ]
  },
  {
   "cell_type": "code",
   "execution_count": 130,
   "metadata": {
    "ExecuteTime": {
     "end_time": "2020-04-07T01:13:50.334034Z",
     "start_time": "2020-04-07T01:13:50.331034Z"
    }
   },
   "outputs": [],
   "source": [
    "blog_post_content = get_real_blog_post_content_soup.select('div#postViewArea')\n",
    "if len(blog_post_content) == 0:\n",
    "    blog_post_content = get_real_blog_post_content_soup.select('div.se-main-container')\n",
    "    if len(blog_post_content) == 0:\n",
    "        blog_post_content = get_real_blog_post_content_soup.select('div.se_component_wrap.sect_dsc.__se_component_area')"
   ]
  },
  {
   "cell_type": "code",
   "execution_count": 137,
   "metadata": {
    "ExecuteTime": {
     "end_time": "2020-04-07T01:17:07.526559Z",
     "start_time": "2020-04-07T01:17:07.523559Z"
    }
   },
   "outputs": [],
   "source": [
    "string = crawling_df['full_text'][i][0]"
   ]
  },
  {
   "cell_type": "code",
   "execution_count": 132,
   "metadata": {
    "ExecuteTime": {
     "end_time": "2020-04-07T01:13:51.814092Z",
     "start_time": "2020-04-07T01:13:51.811008Z"
    }
   },
   "outputs": [],
   "source": [
    "strings = []\n",
    "string = \"\"\n",
    "for sentence in blog_post_content[0].stripped_strings:\n",
    "    string += \" \"+sentence.replace('\\xa0', \" \")\n",
    "    # 비언어 텍스트제거\n",
    "    string = del_outword(string)\n",
    "blank_check = string.replace(\" \",\"\")\n",
    "if len(blank_check) == 0:\n",
    "    strings.append([\"X\"])\n",
    "else : \n",
    "    strings.append([string])\n"
   ]
  },
  {
   "cell_type": "code",
   "execution_count": 133,
   "metadata": {
    "ExecuteTime": {
     "end_time": "2020-04-02T04:56:49.397372Z",
     "start_time": "2020-04-02T04:56:48.997715Z"
    },
    "code_folding": []
   },
   "outputs": [],
   "source": [
    "# 1개코드\n",
    "# 저장위치\n",
    "postdates = []\n",
    "strings = []\n",
    "urls = []\n",
    "titles = []\n",
    "output_error = []\n",
    "connection_error = []\n",
    "count = 1\n",
    "\n",
    "pattern = re.compile('href=\"'+'[A-z0-9\\:\\/\\&\\;\\.\\?\\=]+')\n",
    "# keyword와 시작넘버만 바꾸면서 진행하게끔\n",
    "base_url = 'https://search.naver.com/search.naver?date_from=&date_option=0&date_to=&dup_remove=1&nso=&post_blogurl=&post_blogurl_without=&query={keyword}&sm=tab_pge&srchby=all&st=sim&where=post&start={start_num}'\n",
    "\n",
    "# for문 돌려야하는 부분(각 검색결과의 시작은 1이고, 10개씩 보여짐,)\n",
    "search_list = base_url.format(keyword=\"전진리 +양양\", start_num=13)\n",
    "response = requests.get(search_list)\n",
    "\n",
    "if response.status_code is 200:\n",
    "    # 1번 검색시 10개의 결과가 출력 따라서 section은 총 10개\n",
    "    soup = BeautifulSoup(response.content, 'lxml')\n",
    "    sections = soup.findAll('li', attrs={'class': 'sh_blog_top'})\n",
    "    section = sections[0]\n",
    "\n",
    "    # href부분만 가져오기 어려워서 정규표현식으로 검색\n",
    "    url = re.findall(pattern, str(section))[0].replace(\n",
    "        '?Redirect=Log&amp;logNo=', '/').replace('href=\"', '')\n",
    "    title = section.select_one('a.txt84').text\n",
    "    date = section.select_one('dd.txt_inline').text.strip()\n",
    "\n",
    "    # 블로그 url안에 들어가기(아직 크롤링불가)\n",
    "    get_blog_post_content_code = requests.get(url)\n",
    "    get_blog_post_content_text = get_blog_post_content_code.text\n",
    "    get_blog_post_content_soup = BeautifulSoup(get_blog_post_content_text, 'lxml')\n",
    "\n",
    "    # 크롤링가능한 url에 접속\n",
    "    try:\n",
    "        real_blog_post_url = \"http://blog.naver.com\" + \\\n",
    "        get_blog_post_content_soup.select('#mainFrame')[0].get('src')\n",
    "        get_real_blog_post_content_code = requests.get(real_blog_post_url)\n",
    "        get_real_blog_post_content_text = get_real_blog_post_content_code.text\n",
    "        get_real_blog_post_content_soup = BeautifulSoup(\n",
    "        get_real_blog_post_content_text, 'lxml')\n",
    "    except:\n",
    "        real_blog_post_url = url\n",
    "        get_real_blog_post_content_code = requests.get(real_blog_post_url)\n",
    "        get_real_blog_post_content_text = get_real_blog_post_content_code.text\n",
    "        get_real_blog_post_content_soup = BeautifulSoup(\n",
    "        get_real_blog_post_content_text, 'lxml')\n",
    "        pass\n",
    "\n",
    "    # url (에러나면 위에서부터 에러남)\n",
    "    try:\n",
    "        urls.append(real_blog_post_url)\n",
    "    except:\n",
    "        urls.append(url)\n",
    "    # 블로그명\n",
    "    titles.append(title)\n",
    "    # 날짜\n",
    "    postdates.append(date)\n",
    "\n",
    "    # 본문  (postviewarea 패턴과 se-main-container 2가지 유형이 있어 분리함)\n",
    "    try:\n",
    "        blog_post_content = get_real_blog_post_content_soup.select('div#postViewArea')\n",
    "        if len(blog_post_content) == 0:\n",
    "            blog_post_content = get_real_blog_post_content_soup.select('div.se-main-container')\n",
    "            if len(blog_post_content) == 0:\n",
    "                blog_post_content = get_real_blog_post_content_soup.select('div.se_component_wrap.sect_dsc.__se_component_area')\n",
    "            \n",
    "        string = \"\"\n",
    "        for sentence in blog_post_content[0].stripped_strings:\n",
    "            string += \" \"+sentence.replace('\\xa0', \" \")\n",
    "            # 비언어 텍스트제거\n",
    "            string = del_outword(string)\n",
    "        #공백에러대처\n",
    "        blank_check = string.replace(\" \",\"\")\n",
    "        if len(blank_check) == 0:\n",
    "            strings.append([\"X\"])\n",
    "        else : \n",
    "            strings.append([string])\n",
    "        count += 1\n",
    "            \n",
    "    except:\n",
    "        strings.append([np.NaN])\n",
    "        count += 1\n",
    "\n",
    "\n",
    "crawling_df = pd.DataFrame(\n",
    "    {\"post_dates\": postdates, \"title\": titles, \"full_text\": strings, \"url\": urls})"
   ]
  },
  {
   "cell_type": "code",
   "execution_count": 138,
   "metadata": {
    "ExecuteTime": {
     "end_time": "2020-04-02T04:57:26.077397Z",
     "start_time": "2020-04-02T04:57:26.069395Z"
    }
   },
   "outputs": [
    {
     "ename": "IndexError",
     "evalue": "list index out of range",
     "output_type": "error",
     "traceback": [
      "\u001b[1;31m---------------------------------------------------------------------------\u001b[0m",
      "\u001b[1;31mIndexError\u001b[0m                                Traceback (most recent call last)",
      "\u001b[1;32m<ipython-input-138-965133f9a77b>\u001b[0m in \u001b[0;36m<module>\u001b[1;34m()\u001b[0m\n\u001b[0;32m      6\u001b[0m \u001b[1;33m\u001b[0m\u001b[0m\n\u001b[0;32m      7\u001b[0m \u001b[0mstring\u001b[0m \u001b[1;33m=\u001b[0m \u001b[1;34m\"\"\u001b[0m\u001b[1;33m\u001b[0m\u001b[0m\n\u001b[1;32m----> 8\u001b[1;33m \u001b[1;32mfor\u001b[0m \u001b[0msentence\u001b[0m \u001b[1;32min\u001b[0m \u001b[0mblog_post_content\u001b[0m\u001b[1;33m[\u001b[0m\u001b[1;36m0\u001b[0m\u001b[1;33m]\u001b[0m\u001b[1;33m.\u001b[0m\u001b[0mstripped_strings\u001b[0m\u001b[1;33m:\u001b[0m\u001b[1;33m\u001b[0m\u001b[0m\n\u001b[0m\u001b[0;32m      9\u001b[0m     \u001b[0mstring\u001b[0m \u001b[1;33m+=\u001b[0m \u001b[1;34m\" \"\u001b[0m\u001b[1;33m+\u001b[0m\u001b[0msentence\u001b[0m\u001b[1;33m.\u001b[0m\u001b[0mreplace\u001b[0m\u001b[1;33m(\u001b[0m\u001b[1;34m'\\xa0'\u001b[0m\u001b[1;33m,\u001b[0m\u001b[1;34m\" \"\u001b[0m\u001b[1;33m)\u001b[0m\u001b[1;33m\u001b[0m\u001b[0m\n\u001b[0;32m     10\u001b[0m \u001b[1;33m\u001b[0m\u001b[0m\n",
      "\u001b[1;31mIndexError\u001b[0m: list index out of range"
     ]
    }
   ],
   "source": [
    "blog_post_content = get_real_blog_post_content_soup.select('div#postViewArea')\n",
    "if len(blog_post_content) == 0:\n",
    "    blog_post_content = get_real_blog_post_content_soup.select('div.se-main-container')\n",
    "    if len(blog_post_content) == 0:\n",
    "        blog_post_content = get_real_blog_post_content_soup.select('div.se_component_wrap.sect_dsc.__se_component_area')\n",
    "\n",
    "string = \"\"\n",
    "for sentence in blog_post_content[0].stripped_strings:\n",
    "    string += \" \"+sentence.replace('\\xa0',\" \")\n",
    "\n",
    "strings.append([string])\n",
    "count += 1"
   ]
  },
  {
   "cell_type": "markdown",
   "metadata": {},
   "source": [
    "# 발생한 오류"
   ]
  },
  {
   "cell_type": "markdown",
   "metadata": {},
   "source": [
    "# 형용사 -개발단위\n",
    "* 각 형태소 분석기 비교\n",
    "1. komoran/mecab 어간/어미를 분해해서 다소 카운팅하기 어려움\n",
    "2. okt adjective로 되어있어 다소 편리하면서 더 많은 형용사를 끌어옴"
   ]
  },
  {
   "cell_type": "code",
   "execution_count": 178,
   "metadata": {
    "ExecuteTime": {
     "end_time": "2020-04-06T02:36:36.516377Z",
     "start_time": "2020-04-06T02:36:36.513384Z"
    }
   },
   "outputs": [],
   "source": [
    "pos_df = pd.DataFrame()\n",
    "va_df = pd.DataFrame()"
   ]
  },
  {
   "cell_type": "code",
   "execution_count": 179,
   "metadata": {
    "ExecuteTime": {
     "end_time": "2020-04-06T02:36:36.924413Z",
     "start_time": "2020-04-06T02:36:36.920405Z"
    }
   },
   "outputs": [],
   "source": [
    "okt = Okt()"
   ]
  },
  {
   "cell_type": "code",
   "execution_count": 187,
   "metadata": {
    "ExecuteTime": {
     "end_time": "2020-04-06T02:37:00.222787Z",
     "start_time": "2020-04-06T02:37:00.105762Z"
    }
   },
   "outputs": [],
   "source": [
    "#단하나 \n",
    "VA_ls = []\n",
    "pattern = re.compile(\"VA[+A-z]*\")\n",
    "\n",
    "pos_text = okt.pos(crawling_df['full_text'][1][0])\n",
    "for i in range(0,len(pos_text)):\n",
    "    try:\n",
    "        re.search(pattern,pos_text[i][1]).group()\n",
    "        text = pos_text[i][0]\n",
    "        VA_ls.append(text)\n",
    "    except: \n",
    "        pass"
   ]
  },
  {
   "cell_type": "code",
   "execution_count": 190,
   "metadata": {
    "ExecuteTime": {
     "end_time": "2020-04-06T02:38:18.820778Z",
     "start_time": "2020-04-06T02:38:18.817778Z"
    }
   },
   "outputs": [],
   "source": [
    "#okt 별도 \n",
    "VA_ls = []\n",
    "for i in range(0,len(pos_text)):\n",
    "    if pos_text[i][1] == 'Adjective':\n",
    "        text = pos_text[i][0]\n",
    "        VA_ls.append(text)"
   ]
  },
  {
   "cell_type": "code",
   "execution_count": 192,
   "metadata": {
    "ExecuteTime": {
     "end_time": "2020-04-06T02:38:31.324966Z",
     "start_time": "2020-04-06T02:38:31.320966Z"
    }
   },
   "outputs": [],
   "source": [
    "va_df = pd.concat([va_df,pd.Series(list(set(VA_ls)))],axis = 1)"
   ]
  },
  {
   "cell_type": "code",
   "execution_count": 194,
   "metadata": {
    "ExecuteTime": {
     "end_time": "2020-04-06T02:38:51.424791Z",
     "start_time": "2020-04-06T02:38:51.419790Z"
    }
   },
   "outputs": [],
   "source": [
    "va_df.to_csv('va_df.csv',encoding='cp949')"
   ]
  },
  {
   "cell_type": "code",
   "execution_count": 154,
   "metadata": {
    "ExecuteTime": {
     "end_time": "2020-04-06T02:32:17.318643Z",
     "start_time": "2020-04-06T02:32:17.313651Z"
    }
   },
   "outputs": [],
   "source": [
    "pos_df = pd.concat([pos_df,pd.DataFrame(pos_text)],axis =1)"
   ]
  },
  {
   "cell_type": "code",
   "execution_count": 155,
   "metadata": {
    "ExecuteTime": {
     "end_time": "2020-04-06T02:32:17.936110Z",
     "start_time": "2020-04-06T02:32:17.926108Z"
    }
   },
   "outputs": [
    {
     "data": {
      "text/html": [
       "<div>\n",
       "<style scoped>\n",
       "    .dataframe tbody tr th:only-of-type {\n",
       "        vertical-align: middle;\n",
       "    }\n",
       "\n",
       "    .dataframe tbody tr th {\n",
       "        vertical-align: top;\n",
       "    }\n",
       "\n",
       "    .dataframe thead th {\n",
       "        text-align: right;\n",
       "    }\n",
       "</style>\n",
       "<table border=\"1\" class=\"dataframe\">\n",
       "  <thead>\n",
       "    <tr style=\"text-align: right;\">\n",
       "      <th></th>\n",
       "      <th>0</th>\n",
       "      <th>1</th>\n",
       "      <th>0</th>\n",
       "      <th>1</th>\n",
       "      <th>0</th>\n",
       "      <th>1</th>\n",
       "    </tr>\n",
       "  </thead>\n",
       "  <tbody>\n",
       "    <tr>\n",
       "      <td>0</td>\n",
       "      <td>홍</td>\n",
       "      <td>NNP</td>\n",
       "      <td>홍천</td>\n",
       "      <td>NNG</td>\n",
       "      <td>홍천</td>\n",
       "      <td>Noun</td>\n",
       "    </tr>\n",
       "    <tr>\n",
       "      <td>1</td>\n",
       "      <td>천</td>\n",
       "      <td>NNP</td>\n",
       "      <td>에서</td>\n",
       "      <td>JKB</td>\n",
       "      <td>에서</td>\n",
       "      <td>Josa</td>\n",
       "    </tr>\n",
       "    <tr>\n",
       "      <td>2</td>\n",
       "      <td>에서</td>\n",
       "      <td>JKB</td>\n",
       "      <td>양양</td>\n",
       "      <td>NNP</td>\n",
       "      <td>양양</td>\n",
       "      <td>Noun</td>\n",
       "    </tr>\n",
       "    <tr>\n",
       "      <td>3</td>\n",
       "      <td>양양</td>\n",
       "      <td>NNP</td>\n",
       "      <td>으로</td>\n",
       "      <td>JKB</td>\n",
       "      <td>으로</td>\n",
       "      <td>Josa</td>\n",
       "    </tr>\n",
       "    <tr>\n",
       "      <td>4</td>\n",
       "      <td>으로</td>\n",
       "      <td>JKB</td>\n",
       "      <td>출발</td>\n",
       "      <td>NNG</td>\n",
       "      <td>출발</td>\n",
       "      <td>Noun</td>\n",
       "    </tr>\n",
       "    <tr>\n",
       "      <td>...</td>\n",
       "      <td>...</td>\n",
       "      <td>...</td>\n",
       "      <td>...</td>\n",
       "      <td>...</td>\n",
       "      <td>...</td>\n",
       "      <td>...</td>\n",
       "    </tr>\n",
       "    <tr>\n",
       "      <td>996</td>\n",
       "      <td>치</td>\n",
       "      <td>XSN</td>\n",
       "      <td>NaN</td>\n",
       "      <td>NaN</td>\n",
       "      <td>NaN</td>\n",
       "      <td>NaN</td>\n",
       "    </tr>\n",
       "    <tr>\n",
       "      <td>997</td>\n",
       "      <td>리</td>\n",
       "      <td>NNB</td>\n",
       "      <td>NaN</td>\n",
       "      <td>NaN</td>\n",
       "      <td>NaN</td>\n",
       "      <td>NaN</td>\n",
       "    </tr>\n",
       "    <tr>\n",
       "      <td>998</td>\n",
       "      <td>7</td>\n",
       "      <td>SN</td>\n",
       "      <td>NaN</td>\n",
       "      <td>NaN</td>\n",
       "      <td>NaN</td>\n",
       "      <td>NaN</td>\n",
       "    </tr>\n",
       "    <tr>\n",
       "      <td>999</td>\n",
       "      <td>-</td>\n",
       "      <td>SW</td>\n",
       "      <td>NaN</td>\n",
       "      <td>NaN</td>\n",
       "      <td>NaN</td>\n",
       "      <td>NaN</td>\n",
       "    </tr>\n",
       "    <tr>\n",
       "      <td>1000</td>\n",
       "      <td>6</td>\n",
       "      <td>SN</td>\n",
       "      <td>NaN</td>\n",
       "      <td>NaN</td>\n",
       "      <td>NaN</td>\n",
       "      <td>NaN</td>\n",
       "    </tr>\n",
       "  </tbody>\n",
       "</table>\n",
       "<p>1001 rows × 6 columns</p>\n",
       "</div>"
      ],
      "text/plain": [
       "       0    1    0    1    0     1\n",
       "0      홍  NNP   홍천  NNG   홍천  Noun\n",
       "1      천  NNP   에서  JKB   에서  Josa\n",
       "2     에서  JKB   양양  NNP   양양  Noun\n",
       "3     양양  NNP   으로  JKB   으로  Josa\n",
       "4     으로  JKB   출발  NNG   출발  Noun\n",
       "...   ..  ...  ...  ...  ...   ...\n",
       "996    치  XSN  NaN  NaN  NaN   NaN\n",
       "997    리  NNB  NaN  NaN  NaN   NaN\n",
       "998    7   SN  NaN  NaN  NaN   NaN\n",
       "999    -   SW  NaN  NaN  NaN   NaN\n",
       "1000   6   SN  NaN  NaN  NaN   NaN\n",
       "\n",
       "[1001 rows x 6 columns]"
      ]
     },
     "execution_count": 155,
     "metadata": {},
     "output_type": "execute_result"
    }
   ],
   "source": [
    "pos_df"
   ]
  },
  {
   "cell_type": "code",
   "execution_count": 156,
   "metadata": {
    "ExecuteTime": {
     "end_time": "2020-04-06T02:32:30.275484Z",
     "start_time": "2020-04-06T02:32:30.264392Z"
    }
   },
   "outputs": [],
   "source": [
    "pos_df.to_csv('pos_df.csv',encoding = 'cp949')"
   ]
  },
  {
   "cell_type": "code",
   "execution_count": 129,
   "metadata": {
    "ExecuteTime": {
     "end_time": "2020-04-06T02:21:27.630360Z",
     "start_time": "2020-04-06T02:21:27.618579Z"
    }
   },
   "outputs": [],
   "source": [
    "#단하나 mecab\n",
    "VA_ls = []\n",
    "pattern = re.compile(\"VA[+A-z]*\")\n",
    "\n",
    "pos_text = mecab.pos(crawling_df['full_text'][1][0])\n",
    "for i in range(0,len(pos_text)):\n",
    "    try:\n",
    "        re.search(pattern,pos_text[i][1]).group()\n",
    "        text = pos_text[i][0]\n",
    "        VA_ls.append(text)\n",
    "    except: \n",
    "        pass"
   ]
  },
  {
   "cell_type": "markdown",
   "metadata": {},
   "source": [
    "### 2020-04-06 09:23:51 크롤링중복오류 -> 1000개는 힘들다\n",
    "* 약 600번대 이상부터 중복이 발생하는 것으로 보임\n",
    "* 기사문 +양양 약 178개 중복\n",
    "* 광진 +양양 약 215개 중복  \n",
    "\n",
    "-> 원인은 네이버 검색의 특성상 관련검색어가 부족하면 중복되어서 나오는듯함\n",
    "211번대와 161번대의 검색된 값이 유사함 \n",
    "\n",
    "https://search.naver.com/search.naver?date_from=20190304&date_option=8&date_to=20200406&dup_remove=1&nso=p%3Afrom20190304to20200406&post_blogurl=&post_blogurl_without=&query=%EA%B4%91%EC%A7%84%20%2B%EC%96%91%EC%96%91&sm=tab_pge&srchby=all&st=sim&where=post&start=161\n",
    "\n",
    "https://search.naver.com/search.naver?date_from=20190304&date_option=8&date_to=20200406&dup_remove=1&nso=p%3Afrom20190304to20200406&post_blogurl=&post_blogurl_without=&query=%EA%B4%91%EC%A7%84%20%2B%EC%96%91%EC%96%91&sm=tab_pge&srchby=all&st=sim&where=post&start=211"
   ]
  },
  {
   "cell_type": "markdown",
   "metadata": {},
   "source": [
    "### 2020-04-07 09:31:08 komoran, java.lang.NullPointerException 오류\n",
    "* konlpy의 komoran 사용시 에러발생 현재 코모란방식으로 등록해둔 사용자정의 사전이 있어 확인필요 (Okt, mecab은 정상작동)\n",
    "-> 원인은 공백만 들어있는 문장이 있어서 발생 공백을 모두 제거한 길이가 0이면 X로 대체하도록 변경"
   ]
  }
 ],
 "metadata": {
  "kernelspec": {
   "display_name": "Python 3",
   "language": "python",
   "name": "python3"
  },
  "language_info": {
   "codemirror_mode": {
    "name": "ipython",
    "version": 3
   },
   "file_extension": ".py",
   "mimetype": "text/x-python",
   "name": "python",
   "nbconvert_exporter": "python",
   "pygments_lexer": "ipython3",
   "version": "3.6.5"
  },
  "varInspector": {
   "cols": {
    "lenName": 16,
    "lenType": 16,
    "lenVar": 40
   },
   "kernels_config": {
    "python": {
     "delete_cmd_postfix": "",
     "delete_cmd_prefix": "del ",
     "library": "var_list.py",
     "varRefreshCmd": "print(var_dic_list())"
    },
    "r": {
     "delete_cmd_postfix": ") ",
     "delete_cmd_prefix": "rm(",
     "library": "var_list.r",
     "varRefreshCmd": "cat(var_dic_list()) "
    }
   },
   "types_to_exclude": [
    "module",
    "function",
    "builtin_function_or_method",
    "instance",
    "_Feature"
   ],
   "window_display": false
  }
 },
 "nbformat": 4,
 "nbformat_minor": 2
}

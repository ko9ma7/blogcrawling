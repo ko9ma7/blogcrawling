{
 "cells": [
  {
   "cell_type": "code",
   "execution_count": 1,
   "metadata": {
    "ExecuteTime": {
     "end_time": "2020-04-22T07:17:57.995148Z",
     "start_time": "2020-04-22T07:17:57.505681Z"
    }
   },
   "outputs": [],
   "source": [
    "import pandas as pd\n",
    "import numpy as np\n",
    "import os\n",
    "from tqdm import tqdm_notebook"
   ]
  },
  {
   "cell_type": "code",
   "execution_count": 2,
   "metadata": {
    "ExecuteTime": {
     "end_time": "2020-04-22T07:17:58.130814Z",
     "start_time": "2020-04-22T07:17:58.128813Z"
    }
   },
   "outputs": [],
   "source": [
    "path = 'D:/Python/블로그크롤링/output/크롤링/강원도/'"
   ]
  },
  {
   "cell_type": "code",
   "execution_count": 20,
   "metadata": {
    "ExecuteTime": {
     "end_time": "2020-04-22T06:43:12.549514Z",
     "start_time": "2020-04-22T06:43:07.611016Z"
    }
   },
   "outputs": [
    {
     "name": "stderr",
     "output_type": "stream",
     "text": [
      "C:\\Users\\User\\Anaconda3\\lib\\site-packages\\ipykernel_launcher.py:3: TqdmDeprecationWarning: This function will be removed in tqdm==5.0.0\n",
      "Please use `tqdm.notebook.tqdm` instead of `tqdm.tqdm_notebook`\n",
      "  This is separate from the ipykernel package so we can avoid doing imports until\n"
     ]
    },
    {
     "data": {
      "application/vnd.jupyter.widget-view+json": {
       "model_id": "6b1588a842684ce889415d8e215bec14",
       "version_major": 2,
       "version_minor": 0
      },
      "text/plain": [
       "HBox(children=(FloatProgress(value=0.0, max=120.0), HTML(value='')))"
      ]
     },
     "metadata": {},
     "output_type": "display_data"
    },
    {
     "name": "stdout",
     "output_type": "stream",
     "text": [
      "\n",
      "중복제거전row: 87045\n",
      "중복제거후row: 85670\n"
     ]
    }
   ],
   "source": [
    "file_list = os.listdir(path)\n",
    "all_df = pd.DataFrame()\n",
    "for file in tqdm_notebook(file_list):\n",
    "    read_file = pd.read_csv(path + file)\n",
    "    all_df = pd.concat([all_df,read_file])\n",
    "#중복제거\n",
    "print('중복제거전row:',all_df.shape[0])\n",
    "all_df = all_df.drop_duplicates('url')\n",
    "print('중복제거후row:',all_df.shape[0])\n",
    "\n",
    "#연도 달 추가\n",
    "all_df['year'] = all_df.post_dates.apply(lambda dates : int(dates.split(\"-\")[0]))\n",
    "all_df['month'] = all_df.post_dates.apply(lambda dates : int(dates.split(\"-\")[1]))\n",
    "all_df = all_df[['post_dates','year', 'month', 'title', 'full_text', 'url']]\n",
    "#저장 \n",
    "all_df.to_csv('./output/크롤링/통합/강원도통합.csv',index = False)"
   ]
  },
  {
   "cell_type": "code",
   "execution_count": 26,
   "metadata": {
    "ExecuteTime": {
     "end_time": "2020-04-22T06:44:39.248105Z",
     "start_time": "2020-04-22T06:44:39.227805Z"
    }
   },
   "outputs": [
    {
     "data": {
      "text/plain": [
       "('2010-01-01', '2019-12-01')"
      ]
     },
     "execution_count": 26,
     "metadata": {},
     "output_type": "execute_result"
    }
   ],
   "source": [
    "all_df.post_dates.min(),all_df.post_dates.max()"
   ]
  },
  {
   "cell_type": "code",
   "execution_count": 3,
   "metadata": {
    "ExecuteTime": {
     "end_time": "2020-04-22T07:18:01.579945Z",
     "start_time": "2020-04-22T07:18:01.576952Z"
    }
   },
   "outputs": [],
   "source": [
    "#각 폴더별로 자동화 \n",
    "path = 'D:/Python/블로그크롤링/output/크롤링/'\n",
    "folder_list = os.listdir(path)\n",
    "for folder in folder_list:\n",
    "    file_list = os.listdir(path+sub_folder)"
   ]
  },
  {
   "cell_type": "code",
   "execution_count": null,
   "metadata": {},
   "outputs": [],
   "source": []
  }
 ],
 "metadata": {
  "kernelspec": {
   "display_name": "Python 3",
   "language": "python",
   "name": "python3"
  },
  "language_info": {
   "codemirror_mode": {
    "name": "ipython",
    "version": 3
   },
   "file_extension": ".py",
   "mimetype": "text/x-python",
   "name": "python",
   "nbconvert_exporter": "python",
   "pygments_lexer": "ipython3",
   "version": "3.6.5"
  },
  "varInspector": {
   "cols": {
    "lenName": 16,
    "lenType": 16,
    "lenVar": 40
   },
   "kernels_config": {
    "python": {
     "delete_cmd_postfix": "",
     "delete_cmd_prefix": "del ",
     "library": "var_list.py",
     "varRefreshCmd": "print(var_dic_list())"
    },
    "r": {
     "delete_cmd_postfix": ") ",
     "delete_cmd_prefix": "rm(",
     "library": "var_list.r",
     "varRefreshCmd": "cat(var_dic_list()) "
    }
   },
   "types_to_exclude": [
    "module",
    "function",
    "builtin_function_or_method",
    "instance",
    "_Feature"
   ],
   "window_display": false
  }
 },
 "nbformat": 4,
 "nbformat_minor": 2
}

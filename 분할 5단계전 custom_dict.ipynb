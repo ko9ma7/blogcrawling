{
 "cells": [
  {
   "cell_type": "code",
   "execution_count": 1,
   "metadata": {
    "ExecuteTime": {
     "end_time": "2020-06-08T07:32:07.251149Z",
     "start_time": "2020-06-08T07:32:07.248148Z"
    }
   },
   "outputs": [],
   "source": [
    "import json\n",
    "import os"
   ]
  },
  {
   "cell_type": "code",
   "execution_count": 15,
   "metadata": {
    "ExecuteTime": {
     "end_time": "2020-06-08T08:51:02.078193Z",
     "start_time": "2020-06-08T08:51:02.070191Z"
    }
   },
   "outputs": [],
   "source": [
    "custom_sw = dict()\n",
    "custom_sw['강릉'] = ['강릉','강릉시','강원','이다']\n",
    "custom_sw['경포해수욕장'] = ['경포','경포해수욕장','경포']\n",
    "custom_sw['양양'] = ['양양','양양군','강원']\n",
    "custom_sw['속초'] = ['속초','속초시','강원']\n",
    "custom_sw['강원도'] = ['강원','강원도']"
   ]
  },
  {
   "cell_type": "markdown",
   "metadata": {},
   "source": [
    "### json save"
   ]
  },
  {
   "cell_type": "code",
   "execution_count": 16,
   "metadata": {
    "ExecuteTime": {
     "end_time": "2020-06-08T08:51:02.766348Z",
     "start_time": "2020-06-08T08:51:02.762347Z"
    }
   },
   "outputs": [],
   "source": [
    "with open('custom_sw.json','w') as save_file:\n",
    "    json.dump(custom_sw,save_file)"
   ]
  },
  {
   "cell_type": "markdown",
   "metadata": {},
   "source": [
    "### json load"
   ]
  },
  {
   "cell_type": "code",
   "execution_count": 17,
   "metadata": {
    "ExecuteTime": {
     "end_time": "2020-06-08T08:51:03.307469Z",
     "start_time": "2020-06-08T08:51:03.299467Z"
    }
   },
   "outputs": [],
   "source": [
    "with open('custom_sw.json') as load_file:\n",
    "    custom_sw = json.load(load_file)"
   ]
  },
  {
   "cell_type": "code",
   "execution_count": 18,
   "metadata": {
    "ExecuteTime": {
     "end_time": "2020-06-08T08:51:03.623711Z",
     "start_time": "2020-06-08T08:51:03.618710Z"
    }
   },
   "outputs": [
    {
     "data": {
      "text/plain": [
       "{'강릉': ['강릉', '강릉시', '강원', '이다'],\n",
       " '경포해수욕장': ['경포', '경포해수욕장', '경포'],\n",
       " '양양': ['양양', '양양군', '강원'],\n",
       " '속초': ['속초', '속초시', '강원'],\n",
       " '강원도': ['강원', '강원도']}"
      ]
     },
     "execution_count": 18,
     "metadata": {},
     "output_type": "execute_result"
    }
   ],
   "source": [
    "custom_sw"
   ]
  },
  {
   "cell_type": "code",
   "execution_count": null,
   "metadata": {},
   "outputs": [],
   "source": []
  }
 ],
 "metadata": {
  "kernelspec": {
   "display_name": "Python 3",
   "language": "python",
   "name": "python3"
  },
  "language_info": {
   "codemirror_mode": {
    "name": "ipython",
    "version": 3
   },
   "file_extension": ".py",
   "mimetype": "text/x-python",
   "name": "python",
   "nbconvert_exporter": "python",
   "pygments_lexer": "ipython3",
   "version": "3.6.5"
  }
 },
 "nbformat": 4,
 "nbformat_minor": 2
}

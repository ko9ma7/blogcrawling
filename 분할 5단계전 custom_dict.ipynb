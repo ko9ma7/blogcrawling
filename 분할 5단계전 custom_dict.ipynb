{
 "cells": [
  {
   "cell_type": "code",
   "execution_count": 22,
   "metadata": {
    "ExecuteTime": {
     "end_time": "2020-06-11T05:11:29.482552Z",
     "start_time": "2020-06-11T05:11:29.476551Z"
    }
   },
   "outputs": [],
   "source": [
    "import json\n",
    "import os"
   ]
  },
  {
   "cell_type": "code",
   "execution_count": 23,
   "metadata": {
    "ExecuteTime": {
     "end_time": "2020-06-11T05:11:29.583575Z",
     "start_time": "2020-06-11T05:11:29.577573Z"
    }
   },
   "outputs": [],
   "source": [
    "custom_sw = dict()\n",
    "custom_sw['강원도'] = ['강원','강원도']\n",
    "custom_sw['강릉'] = ['강릉','강릉시','강원','이다']\n",
    "custom_sw['경포해수욕장'] = ['경포','경포해수욕장','경포']\n",
    "custom_sw['속초'] = ['속초','속초시','강원']\n",
    "custom_sw['양양'] = ['양양군','양양','강원']\n",
    "\n",
    "custom_sw['광진'] = ['양양군','양양','현남면'] \n",
    "custom_sw['기사문'] = ['양양군','양양','현북면'] \n",
    "custom_sw['낙산'] = ['양양군','양양','강현면'] \n",
    "custom_sw['남애'] = ['양양군','양양','선돌','선돌바위','현남면','영월'] #영월에 남애마을 있음 \n",
    "custom_sw['동호'] = ['양양군','양양','손양면','중국','손양면']\n",
    "custom_sw['동산'] = ['양양군','양양','현남면'] \n",
    "custom_sw['물치'] = ['양양군','양양','강현면']\n",
    "custom_sw['수산'] = ['양양군','양양','손양면'] \n",
    "custom_sw['오산'] = ['양양군','양양','손양면'] \n",
    "custom_sw['인구'] = ['양양군','양양','현남면'] \n",
    "custom_sw['전진'] = ['양양군','양양','강현면'] \n",
    "custom_sw['하광정'] = ['양양군','양양','현북면'] "
   ]
  },
  {
   "cell_type": "markdown",
   "metadata": {},
   "source": [
    "### json save"
   ]
  },
  {
   "cell_type": "code",
   "execution_count": 24,
   "metadata": {
    "ExecuteTime": {
     "end_time": "2020-06-11T05:11:29.995667Z",
     "start_time": "2020-06-11T05:11:29.992667Z"
    }
   },
   "outputs": [],
   "source": [
    "with open('custom_sw.json','w') as save_file:\n",
    "    json.dump(custom_sw,save_file)"
   ]
  },
  {
   "cell_type": "markdown",
   "metadata": {},
   "source": [
    "### json load"
   ]
  },
  {
   "cell_type": "code",
   "execution_count": 25,
   "metadata": {
    "ExecuteTime": {
     "end_time": "2020-06-11T05:11:30.438767Z",
     "start_time": "2020-06-11T05:11:30.431765Z"
    }
   },
   "outputs": [],
   "source": [
    "with open('custom_sw.json') as load_file:\n",
    "    custom_sw = json.load(load_file)"
   ]
  },
  {
   "cell_type": "code",
   "execution_count": 26,
   "metadata": {
    "ExecuteTime": {
     "end_time": "2020-06-11T05:11:30.789845Z",
     "start_time": "2020-06-11T05:11:30.784844Z"
    }
   },
   "outputs": [
    {
     "data": {
      "text/plain": [
       "{'강원도': ['강원', '강원도'],\n",
       " '강릉': ['강릉', '강릉시', '강원', '이다'],\n",
       " '경포해수욕장': ['경포', '경포해수욕장', '경포'],\n",
       " '속초': ['속초', '속초시', '강원'],\n",
       " '양양': ['양양군', '양양', '강원'],\n",
       " '광진': ['양양군', '양양', '현남면'],\n",
       " '기사문': ['양양군', '양양', '현북면'],\n",
       " '낙산': ['양양군', '양양', '강현면'],\n",
       " '남애': ['양양군', '양양', '선돌', '선돌바위', '현남면', '영월'],\n",
       " '동호': ['양양군', '양양', '손양면', '중국', '손양면'],\n",
       " '동산': ['양양군', '양양', '현남면'],\n",
       " '물치': ['양양군', '양양', '강현면'],\n",
       " '수산': ['양양군', '양양', '손양면'],\n",
       " '오산': ['양양군', '양양', '손양면'],\n",
       " '인구': ['양양군', '양양', '현남면'],\n",
       " '전진': ['양양군', '양양', '강현면'],\n",
       " '하광정': ['양양군', '양양', '현북면']}"
      ]
     },
     "execution_count": 26,
     "metadata": {},
     "output_type": "execute_result"
    }
   ],
   "source": [
    "custom_sw"
   ]
  }
 ],
 "metadata": {
  "kernelspec": {
   "display_name": "Python 3",
   "language": "python",
   "name": "python3"
  },
  "language_info": {
   "codemirror_mode": {
    "name": "ipython",
    "version": 3
   },
   "file_extension": ".py",
   "mimetype": "text/x-python",
   "name": "python",
   "nbconvert_exporter": "python",
   "pygments_lexer": "ipython3",
   "version": "3.6.5"
  }
 },
 "nbformat": 4,
 "nbformat_minor": 2
}

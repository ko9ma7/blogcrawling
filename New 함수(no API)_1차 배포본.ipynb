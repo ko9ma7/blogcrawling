{
 "cells": [
  {
   "cell_type": "markdown",
   "metadata": {},
   "source": [
    "# 목적\n",
    "* 블로그 내용을 긁어와서 연관분석 진행\n",
    "1. keyword관련 블로그 크롤링 \n",
    "    정확도 기준으로 긁어오되 날짜도 같이 가져와서 나중 어떤 날짜에 집중되어 있는지 확인  \n",
    "    한 블로그당 단어빈도수 분석(필요할까)\n",
    "2. 블로그 내 단어 토크나이즈하고 \n",
    "3. 연관분석실시\n"
   ]
  },
  {
   "cell_type": "code",
   "execution_count": 3,
   "metadata": {
    "ExecuteTime": {
     "end_time": "2020-03-31T13:07:06.903494Z",
     "start_time": "2020-03-31T13:07:02.287226Z"
    },
    "scrolled": true
   },
   "outputs": [
    {
     "name": "stdout",
     "output_type": "stream",
     "text": [
      "Collecting apyori\n",
      "  Downloading apyori-1.1.2.tar.gz (8.6 kB)\n",
      "Building wheels for collected packages: apyori\n",
      "  Building wheel for apyori (setup.py): started\n",
      "  Building wheel for apyori (setup.py): finished with status 'done'\n",
      "  Created wheel for apyori: filename=apyori-1.1.2-py3-none-any.whl size=5984 sha256=5235bb621f4450c8a0ed214694dd194b7f3b0f6a4cf1cb568b9531188bd48e80\n",
      "  Stored in directory: c:\\users\\try00\\appdata\\local\\pip\\cache\\wheels\\47\\6f\\0f\\21a86f3679f7ed6bbe4dc6694f86818c5d85c2044bfab0f1e8\n",
      "Successfully built apyori\n",
      "Installing collected packages: apyori\n",
      "Successfully installed apyori-1.1.2\n"
     ]
    }
   ],
   "source": [
    "# # 선행설치\n",
    "# !pip install beautifulsoup4\n",
    "# !pip install requests\n",
    "# !pip install lxm\n",
    "# # 연관분석\n",
    "# !pip install apyori\n",
    "# # 자연어처리\n",
    "# !pip install konlpy (JDK 설치가 되어있어야함 )"
   ]
  },
  {
   "cell_type": "code",
   "execution_count": 1,
   "metadata": {
    "ExecuteTime": {
     "end_time": "2020-04-02T02:17:12.396112Z",
     "start_time": "2020-04-02T02:17:10.196518Z"
    }
   },
   "outputs": [],
   "source": [
    "import seaborn as sns\n",
    "import matplotlib.pyplot as plt\n",
    "\n",
    "from tqdm import tqdm_notebook  # 진행과정 시각화\n",
    "from datetime import timedelta  # 시간날짜\n",
    "from apyori import apriori  # 연관분석\n",
    "\n",
    "import re\n",
    "import json\n",
    "import math\n",
    "import datetime\n",
    "from datetime import timedelta\n",
    "import pandas as pd\n",
    "\n",
    "import requests\n",
    "import urllib.request\n",
    "import urllib.error\n",
    "import urllib.parse\n",
    "from bs4 import BeautifulSoup  # 크롤링\n",
    "\n",
    "import konlpy\n",
    "from konlpy.tag import Komoran  # 자연어처리\n",
    "komoran = Komoran(userdic='./user_dictionary.txt')\n",
    "\n",
    "#한글깨짐방지\n",
    "plt.rc('font',family='Malgun Gothic')\n",
    "plt.rcParams['axes.unicode_minus'] = False"
   ]
  },
  {
   "cell_type": "code",
   "execution_count": 42,
   "metadata": {
    "ExecuteTime": {
     "end_time": "2020-04-02T02:52:28.166455Z",
     "start_time": "2020-04-02T02:52:28.157707Z"
    },
    "code_folding": []
   },
   "outputs": [],
   "source": [
    "def del_outword(string):\n",
    "    '''\n",
    "    이모티콘, \\u200b과 같은 문자가 아닌 것 제거\n",
    "    #이모티콘 제거 [출처](https://stackoverflow.com/questions/33404752/removing-emojis-from-a-string-in-python)\n",
    "    '''\n",
    "    #이모지제거\n",
    "    emoji_pattern = re.compile(\"[\"\n",
    "                u\"\\U0001F600-\\U0001F64F\"  # emoticons\n",
    "                u\"\\U0001F300-\\U0001F5FF\"  # symbols & pictographs\n",
    "                u\"\\U0001F680-\\U0001F6FF\"  # transport & map symbols\n",
    "                u\"\\U0001F1E0-\\U0001F1FF\"  # flags (iOS)\n",
    "                u\"\\U00002702-\\U000027B0\"\n",
    "                u\"\\U0001f926-\\U0001f937\"\n",
    "                u'\\U00010000-\\U0010ffff'\n",
    "                u\"\\u200d\"\n",
    "                u\"\\u2640-\\u2642\"\n",
    "                u\"\\u2600-\\u2B55\"\n",
    "                u\"\\u23cf\"\n",
    "                u\"\\u23e9\"\n",
    "                u\"\\u231a\"\n",
    "                u\"\\u3030\"\n",
    "                u\"\\ufe0f\"\n",
    "    \"]+\", flags=re.UNICODE)\n",
    "\n",
    "    #분석에 어긋나는 불용어구 제외 (특수문자, 의성어)\n",
    "    han = re.compile(r'[ㄱ-ㅎㅏ-ㅣ!?~,\".\\n\\r#\\ufeff\\u200d\\u200b\\u2014]')\n",
    "    add_pattern = re.compile(r'\\u200b')\n",
    "    string = emoji_pattern.sub(r'',string)\n",
    "    string = han.sub(r'',string)\n",
    "    string = add\n",
    "    \n",
    "    return string"
   ]
  },
  {
   "cell_type": "code",
   "execution_count": 43,
   "metadata": {
    "ExecuteTime": {
     "end_time": "2020-04-02T02:52:28.596717Z",
     "start_time": "2020-04-02T02:52:28.592717Z"
    },
    "code_folding": [
     0
    ]
   },
   "outputs": [],
   "source": [
    "def time_change(x):\n",
    "    '''\n",
    "    검색결과에 있는 문자를 날짜로 변경\n",
    "    '''\n",
    "    min_pattern = re.compile('[0-9]+'+\"분 전\")\n",
    "    hour_pattern = re.compile('[0-9]+'+\"시간 전\")\n",
    "    day_pattern = re.compile('[0-9]+'+\"일 전\")\n",
    "\n",
    "    today = datetime.datetime.today().date()\n",
    "    # 일자\n",
    "    try:\n",
    "        d = re.findall(day_pattern, x)[0][0]\n",
    "        x = today - timedelta(days=int(d))\n",
    "    except:\n",
    "        pass\n",
    "    # 시간\n",
    "    try:\n",
    "        d = re.findall(hour_pattern, x)[0]\n",
    "        x = today\n",
    "    except:\n",
    "        pass\n",
    "    # 분\n",
    "    try:\n",
    "        h = re.findall(min_pattern, x)[0]\n",
    "        x = today\n",
    "    except:\n",
    "        pass\n",
    "\n",
    "    if x == '어제':\n",
    "        x = today - timedelta(days=1)\n",
    "\n",
    "    elif type(x) == str:\n",
    "        x = datetime.datetime.strptime(x.replace('.', '-')[:-1], '%Y-%m-%d')\n",
    "    return x"
   ]
  },
  {
   "cell_type": "code",
   "execution_count": 44,
   "metadata": {
    "ExecuteTime": {
     "end_time": "2020-04-02T02:52:28.938928Z",
     "start_time": "2020-04-02T02:52:28.928925Z"
    },
    "code_folding": []
   },
   "outputs": [],
   "source": [
    "def naver_blog_crawling(keyword, start_num=1, end_num=101,date_option=0,date_from='',date_to='',save = True):\n",
    "    '''\n",
    "    네이버 블로그 크롤링 함수\n",
    "    네이버 블로그 검색결과를 크롤링하며, 1페이지당 10개씩을 검색한다\n",
    "    \n",
    "    keyword : string\n",
    "     검색하고 싶은 키워드를 넣는다\n",
    "     \"keyword +필수어\" 형태로 필수단어 추가 가능\n",
    "    start_num : int (default = 1) \n",
    "     시작할 위치 1로 끝나는 단위 추천\n",
    "    end_num : int (default = 101)\n",
    "     끝나는 위치 1로 끝나는 단위 추천\n",
    "    date_option : int (default = 0)\n",
    "     주어지는 숫자에 의해 검색방법이 변경됨\n",
    "     0 : 전체, 2 : 1일, 3 : 1주, 4 : 1개월, 6 : 6개월, 7 : 1년, 8 : 기간지정\n",
    "    date_from : YYYYMMDD (default = \"\")\n",
    "     date_option이 8일때 사용 검색 시작일자를 지정\n",
    "    date_to : YYYMMDD (default = \"\")\n",
    "     date_option이 8일때 사용 검색 마지막일자를 지정\n",
    "    save : bool (default = True)\n",
    "     csv로 저장 여부 결정\n",
    "    '''\n",
    "    #url 찾는 패턴\n",
    "    pattern =re.compile('href=\"'+'[A-z0-9\\:\\/\\&\\;\\.\\?\\=]+')\n",
    "\n",
    "    #저장위치\n",
    "    postdates = []\n",
    "    strings = []\n",
    "    urls = []\n",
    "    titles = []\n",
    "    output_error = []\n",
    "    connection_error = []\n",
    "    count = 1\n",
    "\n",
    "    #keyword와 시작넘버만 바꾸면서 진행하게끔\n",
    "    base_url = 'https://search.naver.com/search.naver?date_from={date_from}&date_option={date_option}&date_to={date_to}&dup_remove=1&nso=&post_blogurl=&post_blogurl_without=&query={keyword}&sm=tab_pge&srchby=all&st=sim&where=post&start={start}'\n",
    "\n",
    "    #for문 돌려야하는 부분(각 검색결과의 시작은 1이고, 10개씩 보여짐,)\n",
    "    for i in tqdm_notebook(range(start_num,end_num+1,10),desc = \"page work\"):\n",
    "        search_list = base_url.format(keyword = keyword,start = i,\n",
    "                                      date_option = date_option, date_from = date_from, date_to=date_to)\n",
    "        response = requests.get(search_list)\n",
    "\n",
    "        if response.status_code is 200:\n",
    "            #1번 검색시 10개의 결과가 출력 따라서 section은 총 10개\n",
    "            soup = BeautifulSoup(response.content,'lxml')\n",
    "            sections = soup.findAll('li', attrs={'class':'sh_blog_top'})\n",
    "\n",
    "            for section in sections:\n",
    "                try:\n",
    "                    #href부분만 가져오기 어려워서 정규표현식으로 검색\n",
    "                    url = re.findall(pattern, str(section))[0].replace('?Redirect=Log&amp;logNo=','/').replace('href=\"','')\n",
    "                    title = section.select_one('a.txt84').text\n",
    "                    date = section.select_one('dd.txt_inline').text.strip()\n",
    "\n",
    "                    #블로그 url안에 들어가기(아직 크롤링불가)\n",
    "                    get_blog_post_content_code = requests.get(url)\n",
    "                    get_blog_post_content_text = get_blog_post_content_code.text\n",
    "                    get_blog_post_content_soup = BeautifulSoup(get_blog_post_content_text, 'lxml')\n",
    "\n",
    "                    #크롤링가능한 url에 접속\n",
    "                    real_blog_post_url = \"http://blog.naver.com\" + get_blog_post_content_soup.select('#mainFrame')[0].get('src')\n",
    "                    get_real_blog_post_content_code = requests.get(real_blog_post_url)\n",
    "                    get_real_blog_post_content_text = get_real_blog_post_content_code.text\n",
    "                    get_real_blog_post_content_soup = BeautifulSoup(get_real_blog_post_content_text, 'lxml')\n",
    "\n",
    "                    # url (에러나면 위에서부터 에러남)\n",
    "                    urls.append(real_blog_post_url)\n",
    "                    #블로그명\n",
    "                    titles.append(title)\n",
    "                    #날짜\n",
    "                    postdates.append(date)\n",
    "\n",
    "                    #본문  (postviewarea 패턴과 se-main-container 2가지 유형이 있어 분리함) \n",
    "                    try:\n",
    "                        blog_post_content = get_real_blog_post_content_soup.select('div#postViewArea')\n",
    "                        if len(blog_post_content) == 0:\n",
    "                            blog_post_content = get_real_blog_post_content_soup.select('div.se-main-container')\n",
    "                            if len(blog_post_content) == 0:\n",
    "                                blog_post_content = get_real_blog_post_content_soup.select('div.se_component_wrap.sect_dsc.__se_component_area')\n",
    "                            \n",
    "                        string = \"\"\n",
    "                        for sentence in blog_post_content[0].stripped_strings:\n",
    "                            string += \" \"+sentence.replace('\\xa0',\" \")\n",
    "                        strings.append([string])\n",
    "                        count += 1\n",
    "                    except:\n",
    "                        strings.append([\"X\"])\n",
    "                        count += 1\n",
    "\n",
    "                except Exception as ex: \n",
    "#                     print('가져오기에러 {num}번째'.format(num = count),ex)\n",
    "                    output_error.append(count)\n",
    "                    count += 1\n",
    "                    pass\n",
    "        else:\n",
    "#           print('연결오류 {num}번째'.format(num = count),response.status_code)\n",
    "            connection_error.append(count)\n",
    "            count += 1\n",
    "                \n",
    "    out_length = len(output_error+connection_error)\n",
    "    print(\"검색한 길이:\", end_num-start_num+10)\n",
    "    print(\"제외된 길이:\", out_length)\n",
    "    print(\"검색된 길이:\", end_num-start_num+10-out_length)\n",
    "    crawling_df = pd.DataFrame(\n",
    "        {\"post_dates\": postdates, \"title\": titles, \"full_text\": strings, \"url\": urls})\n",
    "    crawling_df['post_dates'] = crawling_df['post_dates'].apply(lambda x : time_change(x))\n",
    "    if save == True:\n",
    "        crawling_df.to_csv(keyword+\"_\"+str(end_num)+'.csv',encoding = 'utf-8')\n",
    "    return crawling_df, output_error"
   ]
  },
  {
   "cell_type": "code",
   "execution_count": 92,
   "metadata": {
    "ExecuteTime": {
     "end_time": "2020-04-02T05:02:54.838278Z",
     "start_time": "2020-04-02T05:02:54.835277Z"
    }
   },
   "outputs": [],
   "source": [
    "# keyword검색시 \"검색어 +필수어\" 형태로 필수단어 삽입가능\n",
    "keyword = \"수산 +양양\"\n",
    "start_num = 1\n",
    "end_num = 1021\n",
    "date_option = 0\n",
    "date_from = \"\"\n",
    "date_to = \"\""
   ]
  },
  {
   "cell_type": "code",
   "execution_count": 93,
   "metadata": {
    "ExecuteTime": {
     "end_time": "2020-04-02T05:07:13.433080Z",
     "start_time": "2020-04-02T05:02:55.204536Z"
    },
    "scrolled": false
   },
   "outputs": [
    {
     "name": "stderr",
     "output_type": "stream",
     "text": [
      "C:\\Users\\User\\Anaconda3\\lib\\site-packages\\ipykernel_launcher.py:36: TqdmDeprecationWarning: This function will be removed in tqdm==5.0.0\n",
      "Please use `tqdm.notebook.tqdm` instead of `tqdm.tqdm_notebook`\n"
     ]
    },
    {
     "data": {
      "application/vnd.jupyter.widget-view+json": {
       "model_id": "70664e1dbe9f43ec90dea8bef740fa3e",
       "version_major": 2,
       "version_minor": 0
      },
      "text/plain": [
       "HBox(children=(FloatProgress(value=0.0, description='page work', max=103.0, style=ProgressStyle(description_wi…"
      ]
     },
     "metadata": {},
     "output_type": "display_data"
    },
    {
     "name": "stdout",
     "output_type": "stream",
     "text": [
      "\n",
      "검색한 길이: 1030\n",
      "제외된 길이: 250\n",
      "검색된 길이: 780\n"
     ]
    }
   ],
   "source": [
    "crawling_df, output_error = naver_blog_crawling(keyword, start_num, end_num, date_option, date_from, date_to)"
   ]
  },
  {
   "cell_type": "markdown",
   "metadata": {},
   "source": [
    "### 추출된 데이터 일자별 집중도 확인"
   ]
  },
  {
   "cell_type": "code",
   "execution_count": 94,
   "metadata": {
    "ExecuteTime": {
     "end_time": "2020-04-02T05:07:13.630117Z",
     "start_time": "2020-04-02T05:07:13.506088Z"
    }
   },
   "outputs": [
    {
     "data": {
      "image/png": "[encoded data removed]",
      "text/plain": [
       "<Figure size 504x360 with 1 Axes>"
      ]
     },
     "metadata": {},
     "output_type": "display_data"
    }
   ],
   "source": [
    "plt.figure(figsize=(7,5))\n",
    "plt.plot(crawling_df['post_dates'].value_counts().sort_index())\n",
    "plt.xticks(rotation = 45)\n",
    "plt.savefig(\"./output/\"+keyword+\"_\"+str(end_num)+'_날짜빈도'+'.png')\n",
    "plt.show()"
   ]
  },
  {
   "cell_type": "markdown",
   "metadata": {},
   "source": [
    "### 토크나이즈"
   ]
  },
  {
   "cell_type": "code",
   "execution_count": 95,
   "metadata": {
    "ExecuteTime": {
     "end_time": "2020-04-02T05:07:37.937302Z",
     "start_time": "2020-04-02T05:07:13.700133Z"
    }
   },
   "outputs": [
    {
     "name": "stderr",
     "output_type": "stream",
     "text": [
      "C:\\Users\\User\\Anaconda3\\lib\\site-packages\\ipykernel_launcher.py:9: TqdmDeprecationWarning: This function will be removed in tqdm==5.0.0\n",
      "Please use `tqdm.notebook.tqdm` instead of `tqdm.tqdm_notebook`\n",
      "  if __name__ == '__main__':\n"
     ]
    },
    {
     "data": {
      "application/vnd.jupyter.widget-view+json": {
       "model_id": "08a9f7b0d7ea4324a86b5147b52983e3",
       "version_major": 2,
       "version_minor": 0
      },
      "text/plain": [
       "HBox(children=(FloatProgress(value=0.0, max=780.0), HTML(value='')))"
      ]
     },
     "metadata": {},
     "output_type": "display_data"
    },
    {
     "name": "stdout",
     "output_type": "stream",
     "text": [
      "\n"
     ]
    }
   ],
   "source": [
    "#이후 함수화 해서 중복단어 없이 가져올지 말지 선택하면 될듯 \n",
    "unique = True\n",
    "\n",
    "komoran = Komoran(userdic='user_dictionary.txt')\n",
    "sw = ['오늘','시간','최근','지난','관련','이번','이날','현재','10','올해','지난해','있다','이상','기준','때문',\n",
    "     \"메뉴\",\"주문\",\"강원도\",'정도','도착','생각','양양군','사진','위치','양양']\n",
    "all_nouns =[]\n",
    "\n",
    "for i in tqdm_notebook(range(0,len(crawling_df))):\n",
    "    try :\n",
    "        nouns = komoran.nouns(crawling_df['full_text'][i][0])\n",
    "    except :\n",
    "        nouns = add_pattern.sub(\"\",crawling_df['full_text'][i][0])\n",
    "    clean_nouns = list(filter(lambda word : (len(word)>1)&(word not in sw),nouns))\n",
    "    if unique == True:\n",
    "        clean_nouns = list(set(clean_nouns))\n",
    "    all_nouns.append(clean_nouns)"
   ]
  },
  {
   "cell_type": "code",
   "execution_count": 96,
   "metadata": {
    "ExecuteTime": {
     "end_time": "2020-04-02T05:07:38.244370Z",
     "start_time": "2020-04-02T05:07:38.010317Z"
    }
   },
   "outputs": [
    {
     "data": {
      "image/png": "[encoded data removed]",
      "text/plain": [
       "<Figure size 504x360 with 1 Axes>"
      ]
     },
     "metadata": {},
     "output_type": "display_data"
    }
   ],
   "source": [
    "#2중리스트 flatten\n",
    "all_noun_flatten = [y for x in all_nouns for y in x]\n",
    "\n",
    "count_df = pd.Series(all_noun_flatten).value_counts().reset_index()\n",
    "\n",
    "count_df.columns = ['word','counted']\n",
    "\n",
    "plt.figure(figsize=(7,5))\n",
    "sns.barplot(x= 'word', y = 'counted', data = count_df.head(20))\n",
    "plt.xticks(rotation = 45)\n",
    "#저장\n",
    "count_df.to_csv(\"./output/\"+keyword+\"_\"+str(end_num)+'_단어빈도'+'.csv',encoding ='cp949')\n",
    "plt.savefig(\"./output/\"+keyword+\"_\"+str(end_num)+'_단어빈도'+'.png')\n",
    "plt.show()"
   ]
  },
  {
   "cell_type": "code",
   "execution_count": null,
   "metadata": {},
   "outputs": [],
   "source": []
  }
 ],
 "metadata": {
  "kernelspec": {
   "display_name": "Python 3",
   "language": "python",
   "name": "python3"
  },
  "language_info": {
   "codemirror_mode": {
    "name": "ipython",
    "version": 3
   },
   "file_extension": ".py",
   "mimetype": "text/x-python",
   "name": "python",
   "nbconvert_exporter": "python",
   "pygments_lexer": "ipython3",
   "version": "3.6.5"
  },
  "varInspector": {
   "cols": {
    "lenName": 16,
    "lenType": 16,
    "lenVar": 40
   },
   "kernels_config": {
    "python": {
     "delete_cmd_postfix": "",
     "delete_cmd_prefix": "del ",
     "library": "var_list.py",
     "varRefreshCmd": "print(var_dic_list())"
    },
    "r": {
     "delete_cmd_postfix": ") ",
     "delete_cmd_prefix": "rm(",
     "library": "var_list.r",
     "varRefreshCmd": "cat(var_dic_list()) "
    }
   },
   "types_to_exclude": [
    "module",
    "function",
    "builtin_function_or_method",
    "instance",
    "_Feature"
   ],
   "window_display": false
  }
 },
 "nbformat": 4,
 "nbformat_minor": 2
}

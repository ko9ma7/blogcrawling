{
 "cells": [
  {
   "cell_type": "markdown",
   "metadata": {},
   "source": [
    "# 목적\n",
    "* 크롤링 결과로 네트워크분석\n",
    "* [참고](https://foreverhappiness.me/38)\n"
   ]
  },
  {
   "cell_type": "markdown",
   "metadata": {},
   "source": [
    "# 선행설치"
   ]
  },
  {
   "cell_type": "code",
   "execution_count": 1,
   "metadata": {
    "ExecuteTime": {
     "end_time": "2020-04-21T00:09:54.791096Z",
     "start_time": "2020-04-21T00:09:54.788097Z"
    },
    "code_folding": [
     0
    ]
   },
   "outputs": [],
   "source": [
    "# 선행설치\n",
    "# # 크롤링\n",
    "# !pip install beautifulsoup4\n",
    "# !pip install requests\n",
    "# !pip install lxm\n",
    "# # 연관분석\n",
    "# !pip install apyori\n",
    "# # 자연어처리\n",
    "# !pip install konlpy (JDK 설치가 되어있어야함 )\n",
    "# # 워드클라우드\n",
    "# !pip install wordcloud"
   ]
  },
  {
   "cell_type": "code",
   "execution_count": 30,
   "metadata": {
    "ExecuteTime": {
     "end_time": "2020-04-21T00:16:39.633552Z",
     "start_time": "2020-04-21T00:16:38.559859Z"
    },
    "code_folding": []
   },
   "outputs": [
    {
     "data": {
      "text/html": [
       "<style>.container {width:100% !important; }</style>"
      ],
      "text/plain": [
       "<IPython.core.display.HTML object>"
      ]
     },
     "metadata": {},
     "output_type": "display_data"
    }
   ],
   "source": [
    "# import\n",
    "import seaborn as sns\n",
    "import matplotlib.pyplot as plt\n",
    "\n",
    "from tqdm import tqdm_notebook  # 진행과정 시각화\n",
    "from datetime import timedelta  # 시간날짜\n",
    "from apyori import apriori  # 연관분석\n",
    "\n",
    "import re\n",
    "import json\n",
    "import math\n",
    "import datetime\n",
    "from datetime import timedelta\n",
    "import pandas as pd\n",
    "import numpy as np\n",
    "\n",
    "import requests\n",
    "import urllib.request\n",
    "import urllib.error\n",
    "import urllib.parse\n",
    "from bs4 import BeautifulSoup  # 크롤링\n",
    "\n",
    "from PIL import Image\n",
    "import numpy as np\n",
    "import wordcloud\n",
    "import random\n",
    "\n",
    "import konlpy\n",
    "from konlpy.tag import Komoran,Kkma,Okt,Twitter  # 자연어처리\n",
    "# from eunjeon import Mecab #은전한닢 mecab을 설치하면 먹통이됨 2020-04-10 10:10:10 작동안됨\n",
    "# import MeCab # meacb 별도설치 2020-04-10 10:10:10 작동안됨\n",
    "import kss\n",
    "\n",
    "from sklearn.feature_extraction.text import CountVectorizer\n",
    "from sklearn.feature_extraction.text import TfidfVectorizer\n",
    "\n",
    "# mecab = Mecab()\n",
    "okt = Okt()\n",
    "komoran = Komoran(userdic='./user_dictionary.txt')\n",
    "\n",
    "#한글깨짐방지\n",
    "plt.rc('font',family='Malgun Gothic')\n",
    "plt.rcParams['axes.unicode_minus'] = False\n",
    "\n",
    "from IPython.core.display import display, HTML\n",
    "display(HTML('<style>.container {width:100% !important; }</style>'))"
   ]
  },
  {
   "cell_type": "markdown",
   "metadata": {},
   "source": [
    "# 네이버 검색 URl구조"
   ]
  },
  {
   "cell_type": "markdown",
   "metadata": {},
   "source": [
    "date_from - YYYYMMDD : 시작날짜 date_option 8일때   \n",
    "date_option - int : 0 : 전체, 2 : 1일, 3 : 1주, 4 : 1개월, 6 : 6개월, 7 : 1년, 8 : 기간지정  \n",
    "date_to - YYYYMMDD : 마지막날짜 date_option 8일때  \n",
    "dup_remove - int : 유사문서제거옵션 1 : 제거, 0 : 유지  \n",
    "nso - str : _상세검색으로 추정_   \n",
    "post_blogurl - ?  \n",
    "post_blogurl_without - ?   \n",
    "query - str : 검색어     \n",
    "sm=tab_pge -?    \n",
    "st - str : 정렬순서 sim : 유사도 date : 날짜    "
   ]
  },
  {
   "cell_type": "code",
   "execution_count": 3,
   "metadata": {
    "ExecuteTime": {
     "end_time": "2020-04-21T00:09:58.748497Z",
     "start_time": "2020-04-21T00:09:58.745499Z"
    },
    "code_folding": [
     0
    ]
   },
   "outputs": [],
   "source": [
    "# #네이버에서 검색했을때 url구조\n",
    "# https://search.naver.com/search.naver\n",
    "#     ?date_from=&\n",
    "#     date_option=0&\n",
    "#     date_to=&\n",
    "#     dup_remove=1&\n",
    "#     nso=&\n",
    "#     post_blogurl=\n",
    "#     &post_blogurl_without=\n",
    "#     &query=%EC%96%91%EC%96%91\n",
    "#     &sm=tab_pge\n",
    "#     &srchby=all\n",
    "#     &st=sim\n",
    "#     &where=post\n",
    "#     &start=11"
   ]
  },
  {
   "cell_type": "code",
   "execution_count": 4,
   "metadata": {
    "ExecuteTime": {
     "end_time": "2020-04-21T00:09:58.936744Z",
     "start_time": "2020-04-21T00:09:58.932743Z"
    },
    "code_folding": [
     0
    ]
   },
   "outputs": [],
   "source": [
    "def del_outword(string):\n",
    "    '''\n",
    "    이모티콘, \\u200b과 같은 문자가 아닌 것 제거\n",
    "    #이모티콘 제거 [출처](https://stackoverflow.com/questions/33404752/removing-emojis-from-a-string-in-python)\n",
    "    '''\n",
    "    #이모지제거\n",
    "    emoji_pattern = re.compile(\"[\"\n",
    "                u\"\\U0001F600-\\U0001F64F\"  # emoticons\n",
    "                u\"\\U0001F300-\\U0001F5FF\"  # symbols & pictographs\n",
    "                u\"\\U0001F680-\\U0001F6FF\"  # transport & map symbols\n",
    "                u\"\\U0001F1E0-\\U0001F1FF\"  # flags (iOS)\n",
    "                u\"\\U00002702-\\U000027B0\"\n",
    "                u\"\\U0001f926-\\U0001f937\"\n",
    "                u'\\U00010000-\\U0010ffff'\n",
    "                u\"\\u200d\"\n",
    "                u\"\\u2640-\\u2642\"\n",
    "                u\"\\u2600-\\u2B55\"\n",
    "                u\"\\u23cf\"\n",
    "                u\"\\u23e9\"\n",
    "                u\"\\u231a\"\n",
    "                u\"\\u3030\"\n",
    "                u\"\\ufe0f\"\n",
    "    \"]+\", flags=re.UNICODE)\n",
    "\n",
    "    #분석에 어긋나는 불용어구 제외 (특수문자, 의성어)\n",
    "    han = re.compile(r'[ㄱ-ㅎㅏ-ㅣ!?~\"^_\\n\\r#\\ufeff\\u200d\\u200b\\u7643\\ufffd\\u682e\\u62c4]+')\n",
    "    \n",
    "    string = emoji_pattern.sub(r'',string)\n",
    "    string = han.sub(r'',string)\n",
    "    \n",
    "    return string"
   ]
  },
  {
   "cell_type": "code",
   "execution_count": 5,
   "metadata": {
    "ExecuteTime": {
     "end_time": "2020-04-21T00:09:59.269482Z",
     "start_time": "2020-04-21T00:09:59.264480Z"
    },
    "code_folding": [
     0
    ]
   },
   "outputs": [],
   "source": [
    "def time_change(x):\n",
    "    '''\n",
    "    검색결과에 있는 문자를 날짜로 변경\n",
    "    '''\n",
    "    min_pattern = re.compile('[0-9]+'+\"분 전\")\n",
    "    hour_pattern = re.compile('[0-9]+'+\"시간 전\")\n",
    "    day_pattern = re.compile('[0-9]+'+\"일 전\")\n",
    "\n",
    "    today = datetime.datetime.today().date()\n",
    "    # 일자\n",
    "    try:\n",
    "        d = re.findall(day_pattern, x)[0][0]\n",
    "        x = today - timedelta(days=int(d))\n",
    "    except:\n",
    "        pass\n",
    "    # 시간\n",
    "    try:\n",
    "        d = re.findall(hour_pattern, x)[0]\n",
    "        x = today\n",
    "    except:\n",
    "        pass\n",
    "    # 분\n",
    "    try:\n",
    "        h = re.findall(min_pattern, x)[0]\n",
    "        x = today\n",
    "    except:\n",
    "        pass\n",
    "\n",
    "    if x == '어제':\n",
    "        x = today - timedelta(days=1)\n",
    "\n",
    "    elif type(x) == str:\n",
    "        x = datetime.datetime.strptime(x.replace('.', '-')[:-1], '%Y-%m-%d')\n",
    "    #모든일자를 1일로 통일\n",
    "    x = datetime.datetime.strptime(x.strftime('%Y-%m')+\"-01\",\"%Y-%m-%d\")\n",
    "    return x"
   ]
  },
  {
   "cell_type": "code",
   "execution_count": 6,
   "metadata": {
    "ExecuteTime": {
     "end_time": "2020-04-21T00:09:59.795301Z",
     "start_time": "2020-04-21T00:09:59.784300Z"
    },
    "code_folding": [
     0
    ]
   },
   "outputs": [],
   "source": [
    "def naver_blog_crawling(keyword, start_num=1, end_num=101, date_option=0, date_from='', date_to='', save=True):\n",
    "    '''\n",
    "    네이버 블로그 크롤링 함수\n",
    "    네이버 블로그 검색결과를 크롤링하며, 1페이지당 10개씩을 검색한다\n",
    "\n",
    "    keyword : string\n",
    "     검색하고 싶은 키워드를 넣는다\n",
    "     \"keyword +필수어\" 형태로 필수단어 추가 가능\n",
    "    start_num : int (default = 1) \n",
    "     시작할 위치 1로 끝나는 단위 추천\n",
    "    end_num : int (default = 101)\n",
    "     끝나는 위치 1로 끝나는 단위 추천\n",
    "    date_option : int (default = 0)\n",
    "     주어지는 숫자에 의해 검색방법이 변경됨\n",
    "     0 : 전체, 2 : 1일, 3 : 1주, 4 : 1개월, 6 : 6개월, 7 : 1년, 8 : 기간지정\n",
    "    date_from : YYYYMMDD (default = \"\")\n",
    "     date_option이 8일때 사용 검색 시작일자를 지정\n",
    "    date_to : YYYMMDD (default = \"\")\n",
    "     date_option이 8일때 사용 검색 마지막일자를 지정\n",
    "    save : bool (default = True)\n",
    "     csv로 저장 여부 결정\n",
    "    '''\n",
    "    # url 찾는 패턴\n",
    "    pattern = re.compile('href=\"'+'[A-z0-9\\:\\/\\&\\;\\.\\?\\=]+')\n",
    "\n",
    "    # 저장위치\n",
    "    postdates = []\n",
    "    strings = []\n",
    "    urls = []\n",
    "    titles = []\n",
    "    output_error = []\n",
    "    connection_error = []\n",
    "    count = 1\n",
    "    base_url_ls = []\n",
    "\n",
    "    # keyword와 시작넘버만 바꾸면서 진행하게끔\n",
    "    base_url = 'https://search.naver.com/search.naver?date_from={date_from}&date_option={date_option}&date_to={date_to}&dup_remove=1&nso=&post_blogurl=&post_blogurl_without=&query={keyword}&sm=tab_pge&srchby=all&st=sim&where=post&start={start}'\n",
    "\n",
    "    # for문 돌려야하는 부분(각 검색결과의 시작은 1이고, 10개씩 보여짐,)\n",
    "    for i in tqdm_notebook(range(start_num, end_num+1, 10), desc=\"page work\"):\n",
    "        search_list = base_url.format(keyword=keyword, start=i,\n",
    "                                      date_option=date_option, date_from=date_from, date_to=date_to)\n",
    "        response = requests.get(search_list)\n",
    "        base_url_ls.append(search_list)\n",
    "        if response.status_code is 200:\n",
    "            # 1번 검색시 10개의 결과가 출력 따라서 section은 총 10개\n",
    "            soup = BeautifulSoup(response.content, 'lxml')\n",
    "            sections = soup.findAll('li', attrs={'class': 'sh_blog_top'})\n",
    "\n",
    "            for section in sections:\n",
    "                try:\n",
    "                    # href부분만 가져오기 어려워서 정규표현식으로 검색\n",
    "                    url = re.findall(pattern, str(section))[0].replace(\n",
    "                        '?Redirect=Log&amp;logNo=', '/').replace('href=\"', '')\n",
    "                    title = section.select_one('a.txt84').text\n",
    "                    date = section.select_one('dd.txt_inline').text.strip()\n",
    "\n",
    "                    # 블로그 url안에 들어가기(아직 크롤링불가)\n",
    "                    get_blog_post_content_code = requests.get(url)\n",
    "                    get_blog_post_content_text = get_blog_post_content_code.text\n",
    "                    get_blog_post_content_soup = BeautifulSoup(\n",
    "                        get_blog_post_content_text, 'lxml')\n",
    "\n",
    "                    # 크롤링가능한 url에 접속\n",
    "                    real_blog_post_url = \"http://blog.naver.com\" + \\\n",
    "                        get_blog_post_content_soup.select('#mainFrame')[\n",
    "                            0].get('src')\n",
    "                    get_real_blog_post_content_code = requests.get(\n",
    "                        real_blog_post_url)\n",
    "                    get_real_blog_post_content_text = get_real_blog_post_content_code.text\n",
    "                    get_real_blog_post_content_soup = BeautifulSoup(\n",
    "                        get_real_blog_post_content_text, 'lxml')\n",
    "\n",
    "                    # url (에러나면 위에서부터 에러남)\n",
    "                    urls.append(real_blog_post_url)\n",
    "                    # 블로그명\n",
    "                    titles.append(title)\n",
    "                    # 날짜\n",
    "                    postdates.append(date)\n",
    "\n",
    "                    # 본문  (postviewarea 패턴과 se-main-container 2가지 유형이 있어 분리함)\n",
    "                    try:\n",
    "                        blog_post_content = get_real_blog_post_content_soup.select(\n",
    "                            'div#postViewArea')\n",
    "                        if len(blog_post_content) == 0:\n",
    "                            blog_post_content = get_real_blog_post_content_soup.select(\n",
    "                                'div.se-main-container')\n",
    "                            if len(blog_post_content) == 0:\n",
    "                                blog_post_content = get_real_blog_post_content_soup.select(\n",
    "                                    'div.se_component_wrap.sect_dsc.__se_component_area')\n",
    "\n",
    "                        string = \"\"\n",
    "                        for sentence in blog_post_content[0].stripped_strings:\n",
    "                            string += \" \"+sentence.replace('\\xa0', \" \")\n",
    "                            # 비언어 텍스트제거\n",
    "                            string = del_outword(string)\n",
    "                        #공백에러대처\n",
    "                        blank_check = string.replace(\" \",\"\")\n",
    "                        if len(blank_check) == 0:\n",
    "                            strings.append([\"X\"])\n",
    "                        else : \n",
    "                            strings.append([string])\n",
    "                        count += 1\n",
    "                    except:\n",
    "                        strings.append([\"X\"])\n",
    "                        count += 1\n",
    "\n",
    "                except Exception as ex:\n",
    "                    # print('가져오기에러 {num}번째'.format(num = count),ex)\n",
    "                    output_error.append(count)\n",
    "                    count += 1\n",
    "                    pass\n",
    "        else:\n",
    "            # print('연결오류 {num}번째'.format(num = count),response.status_code)\n",
    "            connection_error.append(count)\n",
    "            count += 1\n",
    "\n",
    "    out_length = len(output_error+connection_error)\n",
    "    real_length = end_num-start_num+10-out_length\n",
    "    crawling_df = pd.DataFrame(\n",
    "        {\"post_dates\": postdates, \"title\": titles, \"full_text\": strings, \"url\": urls})\n",
    "    crawling_df['post_dates'] = crawling_df['post_dates'].apply(\n",
    "        lambda x: time_change(x))\n",
    "\n",
    "    # 중복제거\n",
    "    crawling_df.drop_duplicates(\"url\", inplace=True)\n",
    "    crawling_df.reset_index(drop=True, inplace=True)\n",
    "    real_length = crawling_df.shape[0]\n",
    "\n",
    "    # 결과출력\n",
    "    print(\"검색한 길이:\", end_num-start_num+10)\n",
    "    print(\"제외된 길이:\", out_length)\n",
    "    print(\"검색된 길이:\", real_length)\n",
    "    if save == True:\n",
    "        today = datetime.datetime.today().date()\n",
    "        str(today)\n",
    "        crawling_df.to_csv(str(today)+\"_\"+keyword+\"_\" +\n",
    "                           str(real_length)+'.csv', encoding='utf-8', index=False)\n",
    "#     return strings, urls, postdates\n",
    "    return crawling_df, output_error, real_length"
   ]
  },
  {
   "cell_type": "markdown",
   "metadata": {},
   "source": [
    "### 크롤링된 데이터가지고 진행"
   ]
  },
  {
   "cell_type": "code",
   "execution_count": 21,
   "metadata": {
    "ExecuteTime": {
     "end_time": "2020-04-21T00:13:43.945042Z",
     "start_time": "2020-04-21T00:13:43.943041Z"
    }
   },
   "outputs": [],
   "source": [
    "# keyword검색시 \"검색어 +필수어\" 형태로 필수단어 삽입가능\n",
    "today = datetime.datetime.today().date()\n",
    "keyword = \"양양 +강원도\"\n",
    "start_num = 1\n",
    "end_num = 701\n",
    "date_option = 8\n",
    "date_from = \"20150101\"\n",
    "date_to = \"20151231\""
   ]
  },
  {
   "cell_type": "code",
   "execution_count": 257,
   "metadata": {
    "ExecuteTime": {
     "end_time": "2020-04-21T08:35:52.905253Z",
     "start_time": "2020-04-21T08:35:52.899252Z"
    }
   },
   "outputs": [],
   "source": [
    "#불용어\n",
    "sw = list(set(['오늘', '시간', '최근', '지난', '관련', '이번', '이날', '현재', '10', '올해', '지난해', '있다', '이상', '기준', '때문',\n",
    "               '메뉴', '강원도', '정도', '도착', '생각', '사진', '위치', '라고','아침', '저녁', '다음', '우리', '시작', '여기', '이곳', '사람',\n",
    "               '여행','바다','해변','다시','역시','하루','이용','하나','준비','정말','바로','저희','한번','모습','마음','보고','아주','그냥','처음',\n",
    "               '지도','보기','상세','전화','저장', '폴더', '가기','장소','팝업','레이스',\"진짜\",\"조금\",\"위해\",'모두',\"어떻다\",\"이제\",\"출발\",\n",
    "              '이다', '많다','좋다','같다','없다','그렇다','이렇다','아니다','안녕하다','가능하다',\n",
    "              \"모두\",\"가장\",\"소개\",\"추천\",\"다른\",\"방문\",\"주변\",\"자리\",\"지금\",\"포스팅\",\"느낌\",\n",
    "            \"지역\",\"가지\",\"직접\",\"사용\",\"입구\",\"어떻다\",\"날씨\",\"타고\",\"출발\",\"이제\",\"이다\",\"사실\",'가면','주문','근처',\n",
    "              \"양양군\",\"양양\"]))"
   ]
  },
  {
   "cell_type": "code",
   "execution_count": 341,
   "metadata": {
    "ExecuteTime": {
     "end_time": "2020-04-21T08:56:30.758618Z",
     "start_time": "2020-04-21T08:56:30.722610Z"
    },
    "scrolled": true
   },
   "outputs": [],
   "source": [
    "# crawling_df, output_error, real_length = naver_blog_crawling(keyword, start_num, end_num, date_option, date_from, date_to, save=False)\n",
    "\n",
    "# 데이터로드\n",
    "crawling_df = pd.read_csv('./output/20일 중복x 21일 중복o 비교/크롤링/2020-04-21_양양 +강원도_811_20150101~20151231.csv')"
   ]
  },
  {
   "cell_type": "code",
   "execution_count": 342,
   "metadata": {
    "ExecuteTime": {
     "end_time": "2020-04-21T08:56:30.765619Z",
     "start_time": "2020-04-21T08:56:30.759619Z"
    }
   },
   "outputs": [
    {
     "data": {
      "text/html": [
       "<div>\n",
       "<style scoped>\n",
       "    .dataframe tbody tr th:only-of-type {\n",
       "        vertical-align: middle;\n",
       "    }\n",
       "\n",
       "    .dataframe tbody tr th {\n",
       "        vertical-align: top;\n",
       "    }\n",
       "\n",
       "    .dataframe thead th {\n",
       "        text-align: right;\n",
       "    }\n",
       "</style>\n",
       "<table border=\"1\" class=\"dataframe\">\n",
       "  <thead>\n",
       "    <tr style=\"text-align: right;\">\n",
       "      <th></th>\n",
       "      <th>post_dates</th>\n",
       "      <th>title</th>\n",
       "      <th>full_text</th>\n",
       "      <th>url</th>\n",
       "    </tr>\n",
       "  </thead>\n",
       "  <tbody>\n",
       "    <tr>\n",
       "      <td>0</td>\n",
       "      <td>2015-06-01</td>\n",
       "      <td>쩡아네</td>\n",
       "      <td>[' 주말에 선우맘은 형님네랑 강원도 양양에 다녀왔어요 완전 맛있는 치킨 피자집을 ...</td>\n",
       "      <td>http://blog.naver.com/PostView.nhn?blogId=sin8...</td>\n",
       "    </tr>\n",
       "    <tr>\n",
       "      <td>1</td>\n",
       "      <td>2015-04-01</td>\n",
       "      <td>뭉가무자치의 캠핑여행</td>\n",
       "      <td>[' 뭉가무자치의 캠핑여행  자연휴양림 시설중에서 볼거리가 많은 모습이다. 산림문화...</td>\n",
       "      <td>http://blog.naver.com/PostView.nhn?blogId=sysz...</td>\n",
       "    </tr>\n",
       "    <tr>\n",
       "      <td>2</td>\n",
       "      <td>2015-01-01</td>\n",
       "      <td>지순이아범</td>\n",
       "      <td>[' [강원도 숙소]낙산 톡게스트하우스 속초/양양 강원도 양양 낙산 톡게스트하우스 ...</td>\n",
       "      <td>http://blog.naver.com/PostView.nhn?blogId=gv18...</td>\n",
       "    </tr>\n",
       "    <tr>\n",
       "      <td>3</td>\n",
       "      <td>2015-06-01</td>\n",
       "      <td>내가 행복한 이유</td>\n",
       "      <td>[' 강원도 양양 맛집 실로암 메밀국수에 또 다녀왔습니다. 너무 유명해서... 찾기...</td>\n",
       "      <td>http://blog.naver.com/PostView.nhn?blogId=neln...</td>\n",
       "    </tr>\n",
       "    <tr>\n",
       "      <td>4</td>\n",
       "      <td>2015-10-01</td>\n",
       "      <td>5479xodid님의블로그</td>\n",
       "      <td>[' 양양 강원도 기간 : 2015.10.03  2015.10.04 (1박 2일) ...</td>\n",
       "      <td>http://blog.naver.com/PostView.nhn?blogId=5479...</td>\n",
       "    </tr>\n",
       "  </tbody>\n",
       "</table>\n",
       "</div>"
      ],
      "text/plain": [
       "   post_dates           title  \\\n",
       "0  2015-06-01             쩡아네   \n",
       "1  2015-04-01     뭉가무자치의 캠핑여행   \n",
       "2  2015-01-01           지순이아범   \n",
       "3  2015-06-01       내가 행복한 이유   \n",
       "4  2015-10-01  5479xodid님의블로그   \n",
       "\n",
       "                                           full_text  \\\n",
       "0  [' 주말에 선우맘은 형님네랑 강원도 양양에 다녀왔어요 완전 맛있는 치킨 피자집을 ...   \n",
       "1  [' 뭉가무자치의 캠핑여행  자연휴양림 시설중에서 볼거리가 많은 모습이다. 산림문화...   \n",
       "2  [' [강원도 숙소]낙산 톡게스트하우스 속초/양양 강원도 양양 낙산 톡게스트하우스 ...   \n",
       "3  [' 강원도 양양 맛집 실로암 메밀국수에 또 다녀왔습니다. 너무 유명해서... 찾기...   \n",
       "4  [' 양양 강원도 기간 : 2015.10.03  2015.10.04 (1박 2일) ...   \n",
       "\n",
       "                                                 url  \n",
       "0  http://blog.naver.com/PostView.nhn?blogId=sin8...  \n",
       "1  http://blog.naver.com/PostView.nhn?blogId=sysz...  \n",
       "2  http://blog.naver.com/PostView.nhn?blogId=gv18...  \n",
       "3  http://blog.naver.com/PostView.nhn?blogId=neln...  \n",
       "4  http://blog.naver.com/PostView.nhn?blogId=5479...  "
      ]
     },
     "execution_count": 342,
     "metadata": {},
     "output_type": "execute_result"
    }
   ],
   "source": [
    "crawling_df.head()"
   ]
  },
  {
   "cell_type": "markdown",
   "metadata": {},
   "source": [
    "### 추출된 데이터 일자별 집중도 확인"
   ]
  },
  {
   "cell_type": "code",
   "execution_count": 343,
   "metadata": {
    "ExecuteTime": {
     "end_time": "2020-04-21T08:56:30.881646Z",
     "start_time": "2020-04-21T08:56:30.766620Z"
    },
    "scrolled": true
   },
   "outputs": [
    {
     "data": {
      "image/png": "[encoded data removed]",
      "text/plain": [
       "<Figure size 504x360 with 1 Axes>"
      ]
     },
     "metadata": {},
     "output_type": "display_data"
    }
   ],
   "source": [
    "plt.figure(figsize=(7,5))\n",
    "plt.plot(crawling_df['post_dates'].value_counts().sort_index())\n",
    "plt.xticks(rotation = 45)\n",
    "# plt.savefig(\"./output/\"+str(today)+\"_\"+keyword+\"_\"+str(real_length)+'_날짜빈도'+'.png')\n",
    "plt.show()"
   ]
  },
  {
   "cell_type": "code",
   "execution_count": 344,
   "metadata": {
    "ExecuteTime": {
     "end_time": "2020-04-21T08:56:30.884647Z",
     "start_time": "2020-04-21T08:56:30.882646Z"
    }
   },
   "outputs": [],
   "source": [
    "target = crawling_df['full_text']\n",
    "tagger = okt\n",
    "unique = False\n",
    "save = True"
   ]
  },
  {
   "cell_type": "code",
   "execution_count": 345,
   "metadata": {
    "ExecuteTime": {
     "end_time": "2020-04-21T08:57:10.896682Z",
     "start_time": "2020-04-21T08:56:30.885646Z"
    },
    "scrolled": false
   },
   "outputs": [
    {
     "name": "stderr",
     "output_type": "stream",
     "text": [
      "C:\\Users\\User\\Anaconda3\\lib\\site-packages\\ipykernel_launcher.py:3: TqdmDeprecationWarning: This function will be removed in tqdm==5.0.0\n",
      "Please use `tqdm.notebook.tqdm` instead of `tqdm.tqdm_notebook`\n",
      "  This is separate from the ipykernel package so we can avoid doing imports until\n"
     ]
    },
    {
     "data": {
      "application/vnd.jupyter.widget-view+json": {
       "model_id": "8fda494cac13468dbcfeea39d585da37",
       "version_major": 2,
       "version_minor": 0
      },
      "text/plain": [
       "HBox(children=(FloatProgress(value=0.0, max=811.0), HTML(value='')))"
      ]
     },
     "metadata": {},
     "output_type": "display_data"
    },
    {
     "name": "stdout",
     "output_type": "stream",
     "text": [
      "\n"
     ]
    },
    {
     "data": {
      "text/plain": [
       "(array([ 0,  1,  2,  3,  4,  5,  6,  7,  8,  9, 10, 11, 12, 13, 14, 15, 16,\n",
       "        17, 18, 19]), <a list of 20 Text xticklabel objects>)"
      ]
     },
     "execution_count": 345,
     "metadata": {},
     "output_type": "execute_result"
    },
    {
     "data": {
      "image/png": "[encoded data removed]",
      "text/plain": [
       "<Figure size 504x360 with 1 Axes>"
      ]
     },
     "metadata": {},
     "output_type": "display_data"
    }
   ],
   "source": [
    "all_words =[]\n",
    "\n",
    "for blog_num in tqdm_notebook(range(0,len(crawling_df))):\n",
    "    #블로그 품사태깅 (load한 경우 list가 아닌 text로 받아서 첫번째가 아닌 전체를 받는다)\n",
    "#     pos_text = okt.pos(target[blog_num][0], norm=True, stem=True)\n",
    "    pos_text = okt.pos(target[blog_num], norm=True, stem=True)\n",
    "    \n",
    "    pos_text_df = pd.DataFrame(pos_text)\n",
    "    words = pos_text_df[pos_text_df[1].apply(lambda x : (x in \"Noun\") | (x in \"Adjective\"))][0].values\n",
    "    clean_words = list(filter(lambda word : (len(word)>1)&(word not in sw),words))\n",
    "    \n",
    "    if unique == True:\n",
    "        clean_words = list(set(clean_words))\n",
    "    all_words.append(clean_words)\n",
    "\n",
    "#2중리스트 flatten\n",
    "all_word_flatten = [y for x in all_words for y in x]\n",
    "\n",
    "count_df = pd.Series(all_word_flatten).value_counts().reset_index()\n",
    "\n",
    "count_df.columns = ['word','counted']\n",
    "#그래프\n",
    "plt.figure(figsize=(7,5))\n",
    "sns.barplot(x= 'word', y = 'counted', data = count_df.head(20))\n",
    "plt.xticks(rotation = 45)"
   ]
  },
  {
   "cell_type": "markdown",
   "metadata": {},
   "source": [
    "### 예제"
   ]
  },
  {
   "cell_type": "code",
   "execution_count": 346,
   "metadata": {
    "ExecuteTime": {
     "end_time": "2020-04-21T08:57:10.902683Z",
     "start_time": "2020-04-21T08:57:10.897682Z"
    }
   },
   "outputs": [],
   "source": [
    "#DTM\n",
    "from sklearn.feature_extraction.text import CountVectorizer\n",
    "corpus = [\n",
    "    'you know I want your love',\n",
    "    'I like you',\n",
    "    'what should I do ',    \n",
    "]\n",
    "vector = CountVectorizer()\n",
    "values = vector.fit_transform(corpus).toarray() # 코퍼스로부터 각 단어의 빈도 수를 기록한다.\n",
    "cols = vector.vocabulary_.keys() # 각 단어의 인덱스가 어떻게 부여되었는지를 보여준다.\n",
    "DTM_df = pd.DataFrame(values,columns= cols)"
   ]
  },
  {
   "cell_type": "code",
   "execution_count": 347,
   "metadata": {
    "ExecuteTime": {
     "end_time": "2020-04-21T08:57:10.929689Z",
     "start_time": "2020-04-21T08:57:10.903684Z"
    }
   },
   "outputs": [],
   "source": [
    "#TF_IDF\n",
    "from sklearn.feature_extraction.text import TfidfVectorizer\n",
    "corpus = [\n",
    "    'you know I want your love',\n",
    "    'I like you',\n",
    "    'what should I do ',    \n",
    "]\n",
    "tfidfv = TfidfVectorizer().fit(corpus)\n",
    "values = tfidfv.transform(corpus).toarray()\n",
    "cols = tfidfv.vocabulary_.keys()\n",
    "\n",
    "TF_IDF_df = pd.DataFrame(values,columns= cols)"
   ]
  },
  {
   "cell_type": "code",
   "execution_count": 348,
   "metadata": {
    "ExecuteTime": {
     "end_time": "2020-04-21T08:57:10.933690Z",
     "start_time": "2020-04-21T08:57:10.930691Z"
    }
   },
   "outputs": [],
   "source": [
    "docs = [\n",
    "  '먹고 싶은 사과',\n",
    "  '먹고 싶은 바나나',\n",
    "  '길고 노란 바나나 바나나',\n",
    "  '저는 과일이 좋아요'\n",
    "] \n",
    "vocab = list(set(w for doc in docs for w in doc.split()))\n",
    "vocab.sort()"
   ]
  },
  {
   "cell_type": "code",
   "execution_count": 349,
   "metadata": {
    "ExecuteTime": {
     "end_time": "2020-04-21T08:57:10.938691Z",
     "start_time": "2020-04-21T08:57:10.934691Z"
    }
   },
   "outputs": [
    {
     "data": {
      "text/plain": [
       "['과일이', '길고', '노란', '먹고', '바나나', '사과', '싶은', '저는', '좋아요']"
      ]
     },
     "execution_count": 349,
     "metadata": {},
     "output_type": "execute_result"
    }
   ],
   "source": [
    "vocab"
   ]
  },
  {
   "cell_type": "code",
   "execution_count": 350,
   "metadata": {
    "ExecuteTime": {
     "end_time": "2020-04-21T08:57:10.943693Z",
     "start_time": "2020-04-21T08:57:10.939691Z"
    }
   },
   "outputs": [],
   "source": [
    "N = len(docs) # 총 문서의 수\n",
    "\n",
    "def tf(t, d):\n",
    "    return d.count(t)\n",
    "\n",
    "def idf(t):\n",
    "    df = 0\n",
    "    for doc in docs:\n",
    "        df += t in doc\n",
    "    return log(N/(df + 1))\n",
    "\n",
    "def tfidf(t, d):\n",
    "    return tf(t,d)* idf(t)"
   ]
  },
  {
   "cell_type": "code",
   "execution_count": 351,
   "metadata": {
    "ExecuteTime": {
     "end_time": "2020-04-21T08:57:10.953694Z",
     "start_time": "2020-04-21T08:57:10.944693Z"
    }
   },
   "outputs": [
    {
     "data": {
      "text/html": [
       "<div>\n",
       "<style scoped>\n",
       "    .dataframe tbody tr th:only-of-type {\n",
       "        vertical-align: middle;\n",
       "    }\n",
       "\n",
       "    .dataframe tbody tr th {\n",
       "        vertical-align: top;\n",
       "    }\n",
       "\n",
       "    .dataframe thead th {\n",
       "        text-align: right;\n",
       "    }\n",
       "</style>\n",
       "<table border=\"1\" class=\"dataframe\">\n",
       "  <thead>\n",
       "    <tr style=\"text-align: right;\">\n",
       "      <th></th>\n",
       "      <th>과일이</th>\n",
       "      <th>길고</th>\n",
       "      <th>노란</th>\n",
       "      <th>먹고</th>\n",
       "      <th>바나나</th>\n",
       "      <th>사과</th>\n",
       "      <th>싶은</th>\n",
       "      <th>저는</th>\n",
       "      <th>좋아요</th>\n",
       "    </tr>\n",
       "  </thead>\n",
       "  <tbody>\n",
       "    <tr>\n",
       "      <td>0</td>\n",
       "      <td>0</td>\n",
       "      <td>0</td>\n",
       "      <td>0</td>\n",
       "      <td>1</td>\n",
       "      <td>0</td>\n",
       "      <td>1</td>\n",
       "      <td>1</td>\n",
       "      <td>0</td>\n",
       "      <td>0</td>\n",
       "    </tr>\n",
       "    <tr>\n",
       "      <td>1</td>\n",
       "      <td>0</td>\n",
       "      <td>0</td>\n",
       "      <td>0</td>\n",
       "      <td>1</td>\n",
       "      <td>1</td>\n",
       "      <td>0</td>\n",
       "      <td>1</td>\n",
       "      <td>0</td>\n",
       "      <td>0</td>\n",
       "    </tr>\n",
       "    <tr>\n",
       "      <td>2</td>\n",
       "      <td>0</td>\n",
       "      <td>1</td>\n",
       "      <td>1</td>\n",
       "      <td>0</td>\n",
       "      <td>2</td>\n",
       "      <td>0</td>\n",
       "      <td>0</td>\n",
       "      <td>0</td>\n",
       "      <td>0</td>\n",
       "    </tr>\n",
       "    <tr>\n",
       "      <td>3</td>\n",
       "      <td>1</td>\n",
       "      <td>0</td>\n",
       "      <td>0</td>\n",
       "      <td>0</td>\n",
       "      <td>0</td>\n",
       "      <td>0</td>\n",
       "      <td>0</td>\n",
       "      <td>1</td>\n",
       "      <td>1</td>\n",
       "    </tr>\n",
       "  </tbody>\n",
       "</table>\n",
       "</div>"
      ],
      "text/plain": [
       "   과일이  길고  노란  먹고  바나나  사과  싶은  저는  좋아요\n",
       "0    0   0   0   1    0   1   1   0    0\n",
       "1    0   0   0   1    1   0   1   0    0\n",
       "2    0   1   1   0    2   0   0   0    0\n",
       "3    1   0   0   0    0   0   0   1    1"
      ]
     },
     "execution_count": 351,
     "metadata": {},
     "output_type": "execute_result"
    }
   ],
   "source": [
    "result = []\n",
    "for i in range(N): # 각 문서에 대해서 아래 명령을 수행\n",
    "    result.append([])\n",
    "    d = docs[i]\n",
    "    for j in range(len(vocab)):\n",
    "        t = vocab[j]        \n",
    "        result[-1].append(tf(t, d))\n",
    "\n",
    "tf_ = pd.DataFrame(result, columns = vocab)\n",
    "tf_"
   ]
  },
  {
   "cell_type": "markdown",
   "metadata": {},
   "source": [
    "### my"
   ]
  },
  {
   "cell_type": "code",
   "execution_count": 352,
   "metadata": {
    "ExecuteTime": {
     "end_time": "2020-04-21T08:57:10.960696Z",
     "start_time": "2020-04-21T08:57:10.954694Z"
    }
   },
   "outputs": [],
   "source": [
    "corpus = list(map(lambda words : \" \".join(words),all_words))"
   ]
  },
  {
   "cell_type": "code",
   "execution_count": 353,
   "metadata": {
    "ExecuteTime": {
     "end_time": "2020-04-21T08:57:11.145738Z",
     "start_time": "2020-04-21T08:57:10.961696Z"
    }
   },
   "outputs": [],
   "source": [
    "vector = CountVectorizer()\n",
    "vector.fit(corpus) #코퍼스로부터 각 단어의 빈도 수를 기록한다.\n",
    "values = vector.transform(corpus).toarray()\n",
    "cols = vector.get_feature_names() # 각 단어의 인덱스가 어떻게 부여되었는지를 보여준다.\n",
    "DTM_df = pd.DataFrame(values,columns= cols)"
   ]
  },
  {
   "cell_type": "code",
   "execution_count": 354,
   "metadata": {
    "ExecuteTime": {
     "end_time": "2020-04-21T08:57:11.316776Z",
     "start_time": "2020-04-21T08:57:11.146738Z"
    }
   },
   "outputs": [],
   "source": [
    "tfidfv = TfidfVectorizer().fit(corpus)\n",
    "values = tfidfv.transform(corpus).toarray()\n",
    "cols = tfidfv.vocabulary_.keys()\n",
    "\n",
    "TF_IDF_df = pd.DataFrame(values,columns= cols)"
   ]
  },
  {
   "cell_type": "code",
   "execution_count": 355,
   "metadata": {
    "ExecuteTime": {
     "end_time": "2020-04-21T08:57:11.351784Z",
     "start_time": "2020-04-21T08:57:11.317776Z"
    }
   },
   "outputs": [],
   "source": [
    "del_cols = DTM_df.sum()[DTM_df.sum()<100].index.values\n",
    "DTM_df = DTM_df.drop(del_cols,axis=1)\n",
    "cols = DTM_df.columns.values\n",
    "word_length = len(cols)\n",
    "count_dict = {}"
   ]
  },
  {
   "cell_type": "code",
   "execution_count": 356,
   "metadata": {
    "ExecuteTime": {
     "end_time": "2020-04-21T08:57:11.363787Z",
     "start_time": "2020-04-21T08:57:11.352785Z"
    }
   },
   "outputs": [
    {
     "data": {
      "text/html": [
       "<div>\n",
       "<style scoped>\n",
       "    .dataframe tbody tr th:only-of-type {\n",
       "        vertical-align: middle;\n",
       "    }\n",
       "\n",
       "    .dataframe tbody tr th {\n",
       "        vertical-align: top;\n",
       "    }\n",
       "\n",
       "    .dataframe thead th {\n",
       "        text-align: right;\n",
       "    }\n",
       "</style>\n",
       "<table border=\"1\" class=\"dataframe\">\n",
       "  <thead>\n",
       "    <tr style=\"text-align: right;\">\n",
       "      <th></th>\n",
       "      <th>가격</th>\n",
       "      <th>가깝다</th>\n",
       "      <th>가을</th>\n",
       "      <th>가족</th>\n",
       "      <th>간단하다</th>\n",
       "      <th>강릉</th>\n",
       "      <th>거리</th>\n",
       "      <th>건물</th>\n",
       "      <th>게스트하우스</th>\n",
       "      <th>겨울</th>\n",
       "      <th>...</th>\n",
       "      <th>행사</th>\n",
       "      <th>호텔</th>\n",
       "      <th>홍련암</th>\n",
       "      <th>화장실</th>\n",
       "      <th>횟집</th>\n",
       "      <th>휴가</th>\n",
       "      <th>휴게소</th>\n",
       "      <th>휴암</th>\n",
       "      <th>힐링</th>\n",
       "      <th>힘들다</th>\n",
       "    </tr>\n",
       "  </thead>\n",
       "  <tbody>\n",
       "    <tr>\n",
       "      <td>0</td>\n",
       "      <td>0</td>\n",
       "      <td>0</td>\n",
       "      <td>0</td>\n",
       "      <td>1</td>\n",
       "      <td>1</td>\n",
       "      <td>0</td>\n",
       "      <td>0</td>\n",
       "      <td>0</td>\n",
       "      <td>0</td>\n",
       "      <td>0</td>\n",
       "      <td>...</td>\n",
       "      <td>0</td>\n",
       "      <td>0</td>\n",
       "      <td>0</td>\n",
       "      <td>0</td>\n",
       "      <td>0</td>\n",
       "      <td>0</td>\n",
       "      <td>0</td>\n",
       "      <td>0</td>\n",
       "      <td>0</td>\n",
       "      <td>0</td>\n",
       "    </tr>\n",
       "    <tr>\n",
       "      <td>1</td>\n",
       "      <td>0</td>\n",
       "      <td>0</td>\n",
       "      <td>0</td>\n",
       "      <td>0</td>\n",
       "      <td>0</td>\n",
       "      <td>0</td>\n",
       "      <td>0</td>\n",
       "      <td>0</td>\n",
       "      <td>0</td>\n",
       "      <td>0</td>\n",
       "      <td>...</td>\n",
       "      <td>0</td>\n",
       "      <td>0</td>\n",
       "      <td>0</td>\n",
       "      <td>0</td>\n",
       "      <td>0</td>\n",
       "      <td>0</td>\n",
       "      <td>0</td>\n",
       "      <td>0</td>\n",
       "      <td>0</td>\n",
       "      <td>0</td>\n",
       "    </tr>\n",
       "    <tr>\n",
       "      <td>2</td>\n",
       "      <td>0</td>\n",
       "      <td>0</td>\n",
       "      <td>0</td>\n",
       "      <td>1</td>\n",
       "      <td>0</td>\n",
       "      <td>0</td>\n",
       "      <td>0</td>\n",
       "      <td>0</td>\n",
       "      <td>4</td>\n",
       "      <td>0</td>\n",
       "      <td>...</td>\n",
       "      <td>0</td>\n",
       "      <td>0</td>\n",
       "      <td>0</td>\n",
       "      <td>0</td>\n",
       "      <td>0</td>\n",
       "      <td>0</td>\n",
       "      <td>0</td>\n",
       "      <td>0</td>\n",
       "      <td>2</td>\n",
       "      <td>1</td>\n",
       "    </tr>\n",
       "    <tr>\n",
       "      <td>3</td>\n",
       "      <td>0</td>\n",
       "      <td>0</td>\n",
       "      <td>0</td>\n",
       "      <td>0</td>\n",
       "      <td>0</td>\n",
       "      <td>0</td>\n",
       "      <td>0</td>\n",
       "      <td>1</td>\n",
       "      <td>0</td>\n",
       "      <td>0</td>\n",
       "      <td>...</td>\n",
       "      <td>0</td>\n",
       "      <td>0</td>\n",
       "      <td>0</td>\n",
       "      <td>0</td>\n",
       "      <td>0</td>\n",
       "      <td>0</td>\n",
       "      <td>0</td>\n",
       "      <td>0</td>\n",
       "      <td>0</td>\n",
       "      <td>0</td>\n",
       "    </tr>\n",
       "    <tr>\n",
       "      <td>4</td>\n",
       "      <td>0</td>\n",
       "      <td>0</td>\n",
       "      <td>1</td>\n",
       "      <td>0</td>\n",
       "      <td>0</td>\n",
       "      <td>1</td>\n",
       "      <td>0</td>\n",
       "      <td>0</td>\n",
       "      <td>0</td>\n",
       "      <td>0</td>\n",
       "      <td>...</td>\n",
       "      <td>0</td>\n",
       "      <td>0</td>\n",
       "      <td>0</td>\n",
       "      <td>0</td>\n",
       "      <td>0</td>\n",
       "      <td>0</td>\n",
       "      <td>0</td>\n",
       "      <td>0</td>\n",
       "      <td>0</td>\n",
       "      <td>0</td>\n",
       "    </tr>\n",
       "  </tbody>\n",
       "</table>\n",
       "<p>5 rows × 160 columns</p>\n",
       "</div>"
      ],
      "text/plain": [
       "   가격  가깝다  가을  가족  간단하다  강릉  거리  건물  게스트하우스  겨울  ...  행사  호텔  홍련암  화장실  횟집  \\\n",
       "0   0    0   0   1     1   0   0   0       0   0  ...   0   0    0    0   0   \n",
       "1   0    0   0   0     0   0   0   0       0   0  ...   0   0    0    0   0   \n",
       "2   0    0   0   1     0   0   0   0       4   0  ...   0   0    0    0   0   \n",
       "3   0    0   0   0     0   0   0   1       0   0  ...   0   0    0    0   0   \n",
       "4   0    0   1   0     0   1   0   0       0   0  ...   0   0    0    0   0   \n",
       "\n",
       "   휴가  휴게소  휴암  힐링  힘들다  \n",
       "0   0    0   0   0    0  \n",
       "1   0    0   0   0    0  \n",
       "2   0    0   0   2    1  \n",
       "3   0    0   0   0    0  \n",
       "4   0    0   0   0    0  \n",
       "\n",
       "[5 rows x 160 columns]"
      ]
     },
     "execution_count": 356,
     "metadata": {},
     "output_type": "execute_result"
    }
   ],
   "source": [
    "DTM_df.head()"
   ]
  },
  {
   "cell_type": "markdown",
   "metadata": {},
   "source": [
    "### 단어쌍어떻게해야할지모르겠다 2020-04-20 18:52:33 \n",
    "* 머리속 아이디어는 각 조합에 따른 카운트 "
   ]
  },
  {
   "cell_type": "markdown",
   "metadata": {},
   "source": [
    "### 왜 개수가 크게 증가하는지 확인해보기\n",
    "* 고정시키면 잘나온다. 문제는 for문 추정\n",
    "* 진짜글에서도 제대로다\n",
    "* 원인 모르겟음 \n",
    "-> 대안 단어만 가져오고 개수세기  \n",
    "--> 결과가 구려서 그냥 follow"
   ]
  },
  {
   "cell_type": "code",
   "execution_count": 357,
   "metadata": {
    "ExecuteTime": {
     "end_time": "2020-04-21T08:57:11.366787Z",
     "start_time": "2020-04-21T08:57:11.364787Z"
    }
   },
   "outputs": [],
   "source": [
    "# #대안으로 DTM은 단어컷할때만 사용후 원래기본문장에서 진행\n",
    "# count_dict = {}\n",
    "# for doc_num in tqdm_notebook(range(0, len(all_words)),desc = '단어쌍'):\n",
    "#     tmp = all_words[doc_num] #현재문서의 단어 출현 빈도\n",
    "#     for i, word1 in enumerate(cols[:-1]):\n",
    "#         if word1 in tmp:\n",
    "#             for j,word2 in enumerate(cols[i+1:]):\n",
    "#                 if word2 in tmp:\n",
    "#                 #이전에 값이 있으면 받아오고 없으면 0을 리턴, 단어등장횟수를 배제하고 1씩만 카운트 \n",
    "#                     count_dict[word1, word2] = count_dict.get((word1,word2), 0) + 1"
   ]
  },
  {
   "cell_type": "code",
   "execution_count": 358,
   "metadata": {
    "ExecuteTime": {
     "end_time": "2020-04-21T08:57:11.370789Z",
     "start_time": "2020-04-21T08:57:11.367788Z"
    }
   },
   "outputs": [],
   "source": [
    "# #특정단어위치 확인\n",
    "# wordin_ls =[]\n",
    "# for i in range(0,len(all_words)):\n",
    "#     if '철재' in all_words[i]:\n",
    "#         wordin_ls.append(i)\n",
    "# wordin_ls"
   ]
  },
  {
   "cell_type": "code",
   "execution_count": 359,
   "metadata": {
    "ExecuteTime": {
     "end_time": "2020-04-21T08:57:11.381791Z",
     "start_time": "2020-04-21T08:57:11.371789Z"
    }
   },
   "outputs": [
    {
     "data": {
      "text/html": [
       "<div>\n",
       "<style scoped>\n",
       "    .dataframe tbody tr th:only-of-type {\n",
       "        vertical-align: middle;\n",
       "    }\n",
       "\n",
       "    .dataframe tbody tr th {\n",
       "        vertical-align: top;\n",
       "    }\n",
       "\n",
       "    .dataframe thead th {\n",
       "        text-align: right;\n",
       "    }\n",
       "</style>\n",
       "<table border=\"1\" class=\"dataframe\">\n",
       "  <thead>\n",
       "    <tr style=\"text-align: right;\">\n",
       "      <th></th>\n",
       "      <th>word1</th>\n",
       "      <th>word2</th>\n",
       "      <th>freq</th>\n",
       "    </tr>\n",
       "  </thead>\n",
       "  <tbody>\n",
       "  </tbody>\n",
       "</table>\n",
       "</div>"
      ],
      "text/plain": [
       "Empty DataFrame\n",
       "Columns: [word1, word2, freq]\n",
       "Index: []"
      ]
     },
     "execution_count": 359,
     "metadata": {},
     "output_type": "execute_result"
    }
   ],
   "source": [
    "count_list = []\n",
    "for words in count_dict:\n",
    "    count_list.append([words[0],words[1],count_dict[words]])\n",
    "df = pd.DataFrame(count_list, columns = ['word1','word2','freq'])\n",
    "df = df.sort_values(by='freq',ascending= False)\n",
    "df.reset_index(drop =True,inplace = True)\n",
    "\n",
    "df.head()"
   ]
  },
  {
   "cell_type": "code",
   "execution_count": 360,
   "metadata": {
    "ExecuteTime": {
     "end_time": "2020-04-21T08:57:20.739291Z",
     "start_time": "2020-04-21T08:57:11.382792Z"
    }
   },
   "outputs": [
    {
     "name": "stderr",
     "output_type": "stream",
     "text": [
      "C:\\Users\\User\\Anaconda3\\lib\\site-packages\\ipykernel_launcher.py:3: TqdmDeprecationWarning: This function will be removed in tqdm==5.0.0\n",
      "Please use `tqdm.notebook.tqdm` instead of `tqdm.tqdm_notebook`\n",
      "  This is separate from the ipykernel package so we can avoid doing imports until\n"
     ]
    },
    {
     "data": {
      "application/vnd.jupyter.widget-view+json": {
       "model_id": "2ff34b14ad8840318693f147565af83c",
       "version_major": 2,
       "version_minor": 0
      },
      "text/plain": [
       "HBox(children=(FloatProgress(value=0.0, description='단어쌍', max=811.0, style=ProgressStyle(description_width='i…"
      ]
     },
     "metadata": {},
     "output_type": "display_data"
    },
    {
     "name": "stdout",
     "output_type": "stream",
     "text": [
      "\n"
     ]
    },
    {
     "data": {
      "text/html": [
       "<div>\n",
       "<style scoped>\n",
       "    .dataframe tbody tr th:only-of-type {\n",
       "        vertical-align: middle;\n",
       "    }\n",
       "\n",
       "    .dataframe tbody tr th {\n",
       "        vertical-align: top;\n",
       "    }\n",
       "\n",
       "    .dataframe thead th {\n",
       "        text-align: right;\n",
       "    }\n",
       "</style>\n",
       "<table border=\"1\" class=\"dataframe\">\n",
       "  <thead>\n",
       "    <tr style=\"text-align: right;\">\n",
       "      <th></th>\n",
       "      <th>word1</th>\n",
       "      <th>word2</th>\n",
       "      <th>freq</th>\n",
       "    </tr>\n",
       "  </thead>\n",
       "  <tbody>\n",
       "    <tr>\n",
       "      <td>0</td>\n",
       "      <td>관음</td>\n",
       "      <td>낙산사</td>\n",
       "      <td>713</td>\n",
       "    </tr>\n",
       "    <tr>\n",
       "      <td>1</td>\n",
       "      <td>낙산사</td>\n",
       "      <td>해수</td>\n",
       "      <td>683</td>\n",
       "    </tr>\n",
       "    <tr>\n",
       "      <td>2</td>\n",
       "      <td>낙산사</td>\n",
       "      <td>의상대</td>\n",
       "      <td>586</td>\n",
       "    </tr>\n",
       "    <tr>\n",
       "      <td>3</td>\n",
       "      <td>낙산사</td>\n",
       "      <td>풍경</td>\n",
       "      <td>556</td>\n",
       "    </tr>\n",
       "    <tr>\n",
       "      <td>4</td>\n",
       "      <td>낙산사</td>\n",
       "      <td>홍련암</td>\n",
       "      <td>548</td>\n",
       "    </tr>\n",
       "  </tbody>\n",
       "</table>\n",
       "</div>"
      ],
      "text/plain": [
       "  word1 word2  freq\n",
       "0    관음   낙산사   713\n",
       "1   낙산사    해수   683\n",
       "2   낙산사   의상대   586\n",
       "3   낙산사    풍경   556\n",
       "4   낙산사   홍련암   548"
      ]
     },
     "execution_count": 360,
     "metadata": {},
     "output_type": "execute_result"
    }
   ],
   "source": [
    "#참고사이트에서 가져온것_ 동시등장한경우에 둘중 단어가 최대로 등장한 횟수를 사용 (일종의 가중치가 부여되어서 이게더 나은듯)\n",
    "count_dict = {}\n",
    "for doc_num in tqdm_notebook(range(len(DTM_df)),desc = '단어쌍'):\n",
    "    tmp = DTM_df.loc[doc_num] #현재문서의 단어 출현 빈도\n",
    "    for i, word1 in enumerate(cols):\n",
    "        if tmp[word1]: #현재문서에 첫번째 단어가 존재할 경우\n",
    "            for j in range(i+1, word_length):\n",
    "                if tmp[cols[j]]:\n",
    "                    count_dict[cols[i], cols[j]] = count_dict.get((cols[i],cols[j]), 0) + max(tmp[word1],tmp[cols[j]])\n",
    "\n",
    "count_list = []\n",
    "for words in count_dict:\n",
    "    count_list.append([words[0],words[1],count_dict[words]])\n",
    "df = pd.DataFrame(count_list, columns = ['word1','word2','freq'])\n",
    "df = df.sort_values(by='freq',ascending= False)\n",
    "df.reset_index(drop =True,inplace = True)\n",
    "\n",
    "df.head()"
   ]
  },
  {
   "cell_type": "markdown",
   "metadata": {},
   "source": [
    "### 네크워크그리기"
   ]
  },
  {
   "cell_type": "code",
   "execution_count": 391,
   "metadata": {
    "ExecuteTime": {
     "end_time": "2020-04-21T09:51:11.148528Z",
     "start_time": "2020-04-21T09:51:11.088514Z"
    },
    "scrolled": true
   },
   "outputs": [],
   "source": [
    "import networkx as nx\n",
    "import operator\n",
    "G_centrality = nx.Graph()\n",
    "for ind in range((len(np.where(df['freq'] >=200)[0]))):\n",
    "    G_centrality.add_edge(df['word1'][ind],df['word2'][ind], weight = int(df['freq'][ind]))\n",
    "#계산은 다하는데 실제로쓰는건 연결중심성임\n",
    "dgr = nx.degree_centrality(G_centrality) #연결중심성\n",
    "btw = nx.betweenness_centrality(G_centrality) #매개중심성\n",
    "cls = nx.closeness_centrality(G_centrality) # 근접중심성\n",
    "egv = nx.eigenvector_centrality(G_centrality) # 고유백터중심성\n",
    "pgr = nx.pagerank(G_centrality) # 페이지 랭크\n"
   ]
  },
  {
   "cell_type": "code",
   "execution_count": 392,
   "metadata": {
    "ExecuteTime": {
     "end_time": "2020-04-21T09:51:11.754674Z",
     "start_time": "2020-04-21T09:51:11.752673Z"
    }
   },
   "outputs": [],
   "source": [
    "sorted_dgr = sorted(dgr.items(),key=operator.itemgetter(1), reverse = True)\n",
    "sorted_btw = sorted(btw.items(),key=operator.itemgetter(1), reverse = True)\n",
    "sorted_cls = sorted(cls.items(),key=operator.itemgetter(1), reverse = True)\n",
    "sorted_egv = sorted(egv.items(),key=operator.itemgetter(1), reverse = True)\n",
    "sorted_pgr = sorted(pgr.items(),key=operator.itemgetter(1), reverse = True)"
   ]
  },
  {
   "cell_type": "code",
   "execution_count": 446,
   "metadata": {
    "ExecuteTime": {
     "end_time": "2020-04-21T10:03:00.072590Z",
     "start_time": "2020-04-21T10:03:00.066598Z"
    }
   },
   "outputs": [],
   "source": [
    "sorted_dgr_df = pd.DataFrame(sorted_dgr,columns = ['word','sorted_dgr'])\n",
    "sorted_btw_df = pd.DataFrame(sorted_btw,columns = ['word','sorted_btw'])\n",
    "sorted_cls_df = pd.DataFrame(sorted_cls,columns = ['word','sorted_cls'])\n",
    "sorted_egv_df = pd.DataFrame(sorted_egv,columns = ['word','sorted_egv'])\n",
    "sorted_pgr_df = pd.DataFrame(sorted_pgr,columns = ['word','sorted_pgr'])"
   ]
  },
  {
   "cell_type": "code",
   "execution_count": 448,
   "metadata": {
    "ExecuteTime": {
     "end_time": "2020-04-21T10:03:52.051294Z",
     "start_time": "2020-04-21T10:03:52.041292Z"
    }
   },
   "outputs": [],
   "source": [
    "all_df = pd.merge(sorted_dgr_df,sorted_btw_df, on = 'word')\n",
    "all_df = pd.merge(all_df,sorted_cls_df, on = 'word')\n",
    "all_df = pd.merge(all_df,sorted_egv_df, on = 'word')\n",
    "all_df = pd.merge(all_df,sorted_pgr_df, on = 'word')"
   ]
  },
  {
   "cell_type": "code",
   "execution_count": 450,
   "metadata": {
    "ExecuteTime": {
     "end_time": "2020-04-21T10:04:14.196281Z",
     "start_time": "2020-04-21T10:04:14.194289Z"
    }
   },
   "outputs": [],
   "source": [
    "pd.options.display.max_rows = 100"
   ]
  },
  {
   "cell_type": "code",
   "execution_count": 393,
   "metadata": {
    "ExecuteTime": {
     "end_time": "2020-04-21T09:51:12.357800Z",
     "start_time": "2020-04-21T09:51:12.355809Z"
    }
   },
   "outputs": [],
   "source": [
    "#네트워크 그릴 그래프 선언\n",
    "G = nx.Graph()"
   ]
  },
  {
   "cell_type": "code",
   "execution_count": 428,
   "metadata": {
    "ExecuteTime": {
     "end_time": "2020-04-21T09:58:04.426516Z",
     "start_time": "2020-04-21T09:58:04.023427Z"
    }
   },
   "outputs": [],
   "source": [
    "#한글조정\n",
    "import matplotlib.font_manager as fm\n",
    "fm._rebuild()\n",
    "font_fname = \"c:/Windows/Fonts/malgun.ttf\"\n",
    "fontprop = fm.FontProperties(fname=font_fname, size = 18).get_name()"
   ]
  },
  {
   "cell_type": "code",
   "execution_count": 452,
   "metadata": {
    "ExecuteTime": {
     "end_time": "2020-04-21T10:21:26.712473Z",
     "start_time": "2020-04-21T10:21:26.702472Z"
    }
   },
   "outputs": [],
   "source": [
    "#페이지 랭크에 따라 두 노드사이 연관성 결정\n",
    "for i in range(len(sorted_pgr)):\n",
    "    G.add_node(sorted_dgr[i][0], nodesize = sorted_dgr[i][1]) #연결중심성으로 노드의 크기 결정\n",
    "for ind in range((len(np.where(df['freq']>=200)[0]))):\n",
    "    G.add_weighted_edges_from([(df['word1'][ind],df['word2'][ind],int(df['freq'][ind]))])\n",
    "\n",
    "#노드크기조정(조정전엔 소수점단위기때문에)\n",
    "sizes = [G.nodes[node]['nodesize']*2000 for node in G]\n",
    "\n",
    "\n",
    "#컬러, 라벨다는 것 등 \n",
    "options = {\n",
    "    'edge_color' : '#FFDEA2',\n",
    "    'node_color' : 'lightpink',\n",
    "    'width':1,\n",
    "    'with_labels':True,\n",
    "    'font_weight':'regular'\n",
    "}"
   ]
  },
  {
   "cell_type": "code",
   "execution_count": 453,
   "metadata": {
    "ExecuteTime": {
     "end_time": "2020-04-21T10:21:37.372183Z",
     "start_time": "2020-04-21T10:21:37.337176Z"
    }
   },
   "outputs": [
    {
     "ename": "TypeError",
     "evalue": "draw() got multiple values for keyword argument 'node_color'",
     "output_type": "error",
     "traceback": [
      "\u001b[1;31m---------------------------------------------------------------------------\u001b[0m",
      "\u001b[1;31mTypeError\u001b[0m                                 Traceback (most recent call last)",
      "\u001b[1;32m<ipython-input-453-3843189b1fef>\u001b[0m in \u001b[0;36m<module>\u001b[1;34m()\u001b[0m\n\u001b[0;32m      2\u001b[0m \u001b[0mplt\u001b[0m\u001b[1;33m.\u001b[0m\u001b[0mfigure\u001b[0m\u001b[1;33m(\u001b[0m\u001b[0mfigsize\u001b[0m\u001b[1;33m=\u001b[0m \u001b[1;33m(\u001b[0m\u001b[1;36m15\u001b[0m\u001b[1;33m,\u001b[0m\u001b[1;36m15\u001b[0m\u001b[1;33m)\u001b[0m\u001b[1;33m)\u001b[0m\u001b[1;33m\u001b[0m\u001b[0m\n\u001b[0;32m      3\u001b[0m nx.draw(G,node_size=sizes, pos = nx.spring_layout(G, k=3.5, iterations= 100), **options, font_family=fontprop,\n\u001b[1;32m----> 4\u001b[1;33m        node_color=node_color)\n\u001b[0m\u001b[0;32m      5\u001b[0m \u001b[0max\u001b[0m \u001b[1;33m=\u001b[0m \u001b[0mplt\u001b[0m\u001b[1;33m.\u001b[0m\u001b[0mgca\u001b[0m\u001b[1;33m(\u001b[0m\u001b[1;33m)\u001b[0m\u001b[1;33m\u001b[0m\u001b[0m\n\u001b[0;32m      6\u001b[0m \u001b[0max\u001b[0m\u001b[1;33m.\u001b[0m\u001b[0mcollections\u001b[0m\u001b[1;33m[\u001b[0m\u001b[1;36m0\u001b[0m\u001b[1;33m]\u001b[0m\u001b[1;33m.\u001b[0m\u001b[0mset_edgecolor\u001b[0m\u001b[1;33m(\u001b[0m\u001b[1;34m\"#555555\"\u001b[0m\u001b[1;33m)\u001b[0m\u001b[1;33m\u001b[0m\u001b[0m\n",
      "\u001b[1;31mTypeError\u001b[0m: draw() got multiple values for keyword argument 'node_color'"
     ]
    },
    {
     "data": {
      "text/plain": [
       "<Figure size 1080x1080 with 0 Axes>"
      ]
     },
     "metadata": {},
     "output_type": "display_data"
    }
   ],
   "source": [
    "#연결중심성\n",
    "plt.figure(figsize= (15,15))\n",
    "nx.draw(G,node_size=sizes, pos = nx.spring_layout(G, k=3.5, iterations= 100), **options, font_family=fontprop)\n",
    "ax = plt.gca()\n",
    "ax.collections[0].set_edgecolor(\"#555555\")\n",
    "# plt.savefig('양양_networkx.png')"
   ]
  },
  {
   "cell_type": "code",
   "execution_count": 436,
   "metadata": {
    "ExecuteTime": {
     "end_time": "2020-04-21T10:00:00.768511Z",
     "start_time": "2020-04-21T10:00:00.760511Z"
    }
   },
   "outputs": [],
   "source": [
    "#페이지 랭크에 따라 두 노드사이 연관성 결정\n",
    "for i in range(len(sorted_pgr)):\n",
    "    G.add_node(sorted_pgr[i][0], nodesize = sorted_pgr[i][1]) #연결중심성으로 노드의 크기 결정\n",
    "for ind in range((len(np.where(df['freq']>=200)[0]))):\n",
    "    G.add_weighted_edges_from([(df['word1'][ind],df['word2'][ind],int(df['freq'][ind]))])"
   ]
  },
  {
   "cell_type": "code",
   "execution_count": 437,
   "metadata": {
    "ExecuteTime": {
     "end_time": "2020-04-21T10:00:01.388651Z",
     "start_time": "2020-04-21T10:00:01.385651Z"
    }
   },
   "outputs": [],
   "source": [
    "#노드크기조정(조정전엔 소수점단위기때문에)\n",
    "sizes = [G.nodes[node]['nodesize']*2000 for node in G]\n",
    "\n",
    "#컬러, 라벨다는 것 등 \n",
    "options = {\n",
    "    'edge_color' : '#FFDEA2',\n",
    "    'node_color' : 'lightpink',\n",
    "    'width':1,\n",
    "    'with_labels':True,\n",
    "    'font_weight':'regular'\n",
    "}"
   ]
  },
  {
   "cell_type": "code",
   "execution_count": 455,
   "metadata": {
    "ExecuteTime": {
     "end_time": "2020-04-21T10:37:35.684698Z",
     "start_time": "2020-04-21T10:28:44.394896Z"
    }
   },
   "outputs": [
    {
     "data": {
      "text/plain": [
       "(None, None)"
      ]
     },
     "execution_count": 455,
     "metadata": {},
     "output_type": "execute_result"
    }
   ],
   "source": [
    "#network시각화해주는 것 ! 대박 신기하다\n",
    "import netwulf as nw\n",
    "nw.visualize(G)"
   ]
  },
  {
   "cell_type": "code",
   "execution_count": 438,
   "metadata": {
    "ExecuteTime": {
     "end_time": "2020-04-21T10:00:02.326854Z",
     "start_time": "2020-04-21T10:00:01.987787Z"
    }
   },
   "outputs": [
    {
     "name": "stderr",
     "output_type": "stream",
     "text": [
      "C:\\Users\\User\\Anaconda3\\lib\\site-packages\\networkx\\drawing\\nx_pylab.py:563: MatplotlibDeprecationWarning: \n",
      "The iterable function was deprecated in Matplotlib 3.1 and will be removed in 3.3. Use np.iterable instead.\n",
      "  if not cb.iterable(width):\n",
      "C:\\Users\\User\\Anaconda3\\lib\\site-packages\\networkx\\drawing\\nx_pylab.py:611: MatplotlibDeprecationWarning: \n",
      "The is_numlike function was deprecated in Matplotlib 3.0 and will be removed in 3.2. Use isinstance(..., numbers.Number) instead.\n",
      "  if cb.is_numlike(alpha):\n"
     ]
    },
    {
     "data": {
      "image/png": "[encoded data removed]",
      "text/plain": [
       "<Figure size 1080x1080 with 1 Axes>"
      ]
     },
     "metadata": {},
     "output_type": "display_data"
    }
   ],
   "source": [
    "# 페이지 랭크\n",
    "plt.figure(figsize= (15,15))\n",
    "nx.draw(G,node_size=sizes, pos = nx.spring_layout(G, k=3.5, iterations= 100), **options, font_family=fontprop)\n",
    "ax = plt.gca()\n",
    "ax.collections[0].set_edgecolor(\"#555555\")\n",
    "# plt.savefig('양양_networkx.png')"
   ]
  },
  {
   "cell_type": "code",
   "execution_count": null,
   "metadata": {},
   "outputs": [],
   "source": []
  }
 ],
 "metadata": {
  "kernelspec": {
   "display_name": "Python 3",
   "language": "python",
   "name": "python3"
  },
  "language_info": {
   "codemirror_mode": {
    "name": "ipython",
    "version": 3
   },
   "file_extension": ".py",
   "mimetype": "text/x-python",
   "name": "python",
   "nbconvert_exporter": "python",
   "pygments_lexer": "ipython3",
   "version": "3.6.5"
  },
  "varInspector": {
   "cols": {
    "lenName": 16,
    "lenType": 16,
    "lenVar": 40
   },
   "kernels_config": {
    "python": {
     "delete_cmd_postfix": "",
     "delete_cmd_prefix": "del ",
     "library": "var_list.py",
     "varRefreshCmd": "print(var_dic_list())"
    },
    "r": {
     "delete_cmd_postfix": ") ",
     "delete_cmd_prefix": "rm(",
     "library": "var_list.r",
     "varRefreshCmd": "cat(var_dic_list()) "
    }
   },
   "oldHeight": 466,
   "position": {
    "height": "40px",
    "left": "1187px",
    "right": "20px",
    "top": "111px",
    "width": "350px"
   },
   "types_to_exclude": [
    "module",
    "function",
    "builtin_function_or_method",
    "instance",
    "_Feature"
   ],
   "varInspector_section_display": "none",
   "window_display": true
  }
 },
 "nbformat": 4,
 "nbformat_minor": 2
}

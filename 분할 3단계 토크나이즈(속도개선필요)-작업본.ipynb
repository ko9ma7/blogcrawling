{
 "cells": [
  {
   "cell_type": "markdown",
   "metadata": {},
   "source": [
    "# issue\n",
    "* tokenize 작업의 속도가 굉장히 느림 개선방법이 있다면 고민해봐야함 (작업내용 1차적으로 보존)"
   ]
  },
  {
   "cell_type": "code",
   "execution_count": 1,
   "metadata": {
    "ExecuteTime": {
     "end_time": "2020-06-08T05:21:17.797403Z",
     "start_time": "2020-06-08T05:21:15.017246Z"
    },
    "code_folding": [],
    "scrolled": false
   },
   "outputs": [
    {
     "name": "stderr",
     "output_type": "stream",
     "text": [
      "C:\\Users\\User\\Anaconda3\\lib\\site-packages\\jpype\\_core.py:217: UserWarning: \n",
      "-------------------------------------------------------------------------------\n",
      "Deprecated: convertStrings was not specified when starting the JVM. The default\n",
      "behavior in JPype will be False starting in JPype 0.8. The recommended setting\n",
      "for new code is convertStrings=False.  The legacy value of True was assumed for\n",
      "this session. If you are a user of an application that reported this warning,\n",
      "please file a ticket with the developer.\n",
      "-------------------------------------------------------------------------------\n",
      "\n",
      "  \"\"\")\n"
     ]
    },
    {
     "data": {
      "text/html": [
       "<style>.container {width:100% !important; }</style>"
      ],
      "text/plain": [
       "<IPython.core.display.HTML object>"
      ]
     },
     "metadata": {},
     "output_type": "display_data"
    }
   ],
   "source": [
    "# import\n",
    "import seaborn as sns\n",
    "import matplotlib.pyplot as plt\n",
    "\n",
    "from tqdm import tqdm,tqdm_notebook  # 진행과정 시각화\n",
    "tqdm.pandas() #apply사용\n",
    "from datetime import timedelta  # 시간날짜\n",
    "from apyori import apriori  # 연관분석\n",
    "\n",
    "import re\n",
    "import datetime\n",
    "from datetime import timedelta\n",
    "import pandas as pd\n",
    "import numpy as np\n",
    "import gc\n",
    "import os\n",
    "\n",
    "import requests\n",
    "import urllib.request\n",
    "import urllib.error\n",
    "import urllib.parse\n",
    "from bs4 import BeautifulSoup  # 크롤링\n",
    "\n",
    "import wordcloud\n",
    "from PIL import Image\n",
    "import random\n",
    "import math\n",
    "\n",
    "import konlpy\n",
    "from konlpy.tag import Komoran,Okt,Kkma,Twitter  # 자연어처리\n",
    "# from eunjeon import Mecab #은전한닢\n",
    "okt = Okt(max_heap_size=5120)\n",
    "# mecab = Mecab()\n",
    "komoran = Komoran(userdic='user_dictionary.txt')\n",
    "\n",
    "#한글깨짐방지\n",
    "plt.rc('font',family='Malgun Gothic')\n",
    "plt.rcParams['axes.unicode_minus'] = False\n",
    "\n",
    "from IPython.core.display import display, HTML\n",
    "display(HTML('<style>.container {width:100% !important; }</style>'))"
   ]
  },
  {
   "cell_type": "code",
   "execution_count": 10,
   "metadata": {
    "ExecuteTime": {
     "end_time": "2020-06-08T05:25:20.533359Z",
     "start_time": "2020-06-08T05:25:20.523356Z"
    },
    "code_folding": []
   },
   "outputs": [],
   "source": [
    "def tokenized(dataframe, keyword, stopword, batch_size = 15000):\n",
    "    '''\n",
    "    okt : 형태소분석기 무엇사용?\n",
    "    dataframe : 분석할 df\n",
    "    keyword : sw에 추가하기 위함\n",
    "    '''\n",
    "\n",
    "    # stopword에 검색어 추가\n",
    "    stopword.append(keyword.split(' ')[0])\n",
    "    \n",
    "    start = 0\n",
    "    end = len(dataframe)\n",
    "    \n",
    "    print(keyword)\n",
    "    if end<=batch_size:    \n",
    "        # tqdm.pandas(desc = '토큰화')\n",
    "        token_df = dataframe.iloc[start:end]['full_text'].progress_apply(lambda x: okt.pos(x, norm=True, stem=True))\n",
    "        token_df_e = token_df.explode()\n",
    "        # tqdm.pandas(desc = '단어추출')\n",
    "        token_noun = token_df_e.apply(lambda x: x[0] if x[1] == 'Noun' else np.nan).dropna()\n",
    "        token_adj = token_df_e.apply(lambda x: x[0] if x[1] == 'Adjective' else np.nan).dropna()\n",
    "\n",
    "        # 클리닝\n",
    "        # tqdm.pandas(desc = '클리닝')\n",
    "        token_noun = token_noun[token_noun.apply(lambda word: (len(word) > 1) & (word not in sw))]\n",
    "        token_adj = token_adj[token_adj.apply(lambda word: (len(word) > 1) & (word not in sw))]\n",
    "        \n",
    "        #저장\n",
    "        main_df = pd.merge(dataframe, token_noun.groupby(level=0).agg(list).rename(\n",
    "            'Noun'), how='left', left_index=True, right_index=True)\n",
    "        main_df = pd.merge(dataframe, token_adj.groupby(level=0).agg(list).rename(\n",
    "            'Adjective'), how='left', left_index=True, right_index=True)\n",
    "        main_df.to_csv(f'./output/token/{keyword}_{start}~{end}.csv')\n",
    "        \n",
    "    else : #20000개 이상인경우 분할 작업\n",
    "        final_end = len(dataframe)\n",
    "        epoch = math.ceil(final_end/batch_size)\n",
    "        start = 0\n",
    "        end = batch_size\n",
    "        while epoch != 0:\n",
    "            # tqdm.pandas(desc = '토큰화')\n",
    "            token_df = dataframe.iloc[start:end]['full_text'].progress_apply(lambda x: okt.pos(x, norm=True, stem=True))\n",
    "            token_df_e = token_df.explode()\n",
    "            # tqdm.pandas(desc = '단어추출')\n",
    "            token_noun = token_df_e.apply(lambda x: x[0] if x[1] == 'Noun' else np.nan).dropna()\n",
    "            token_adj = token_df_e.apply(lambda x: x[0] if x[1] == 'Adjective' else np.nan).dropna()\n",
    "\n",
    "            # 클리닝\n",
    "            # tqdm.pandas(desc = '클리닝')\n",
    "            token_noun = token_noun[token_noun.apply(lambda word: (len(word) > 1) & (word not in sw))]\n",
    "            token_adj = token_adj[token_adj.apply(lambda word: (len(word) > 1) & (word not in sw))]\n",
    "\n",
    "            #저장\n",
    "            main_df = pd.merge(dataframe.iloc[start:end], token_noun.groupby(level=0).agg(list).rename(\n",
    "                'Noun'), how='left', left_index=True, right_index=True)\n",
    "            main_df = pd.merge(main_df, token_adj.groupby(level=0).agg(list).rename(\n",
    "                'Adjective'), how='left', left_index=True, right_index=True)\n",
    "            os.makedirs(f'./output/token/{keyword}',exist_ok=True)\n",
    "            main_df.to_csv(f'./output/token/{keyword}/{keyword}_{start}~{end}.csv')\n",
    "                   \n",
    "            #next turn\n",
    "            if epoch >2 :\n",
    "                start += batch_size\n",
    "                end += batch_size\n",
    "            else :      \n",
    "                start += batch_size\n",
    "                end = final_end\n",
    "            \n",
    "            epoch -= 1\n",
    "            gc.collect()"
   ]
  },
  {
   "cell_type": "code",
   "execution_count": 65,
   "metadata": {
    "ExecuteTime": {
     "end_time": "2020-06-05T08:39:56.135167Z",
     "start_time": "2020-06-05T08:39:56.133166Z"
    },
    "scrolled": true
   },
   "outputs": [],
   "source": [
    "# sw = list(pd.read_excel(\"stopword(cp949).xlsx\",encoding = 'cp949')['불용어'])  #불용어 불러오기\n",
    "# path = 'D:/Python/블로그크롤링/output/크롤링/통합/'\n",
    "# file_list = os.listdir(path)\n",
    "# for file in file_list:\n",
    "#     main_df = pd.read_csv(path + file)\n",
    "#     keyword = file_list[0].split('_')[0]\n",
    "#     tokenized(okt,main_df,keyword,sw)\n",
    "    "
   ]
  },
  {
   "cell_type": "code",
   "execution_count": 5,
   "metadata": {
    "ExecuteTime": {
     "end_time": "2020-06-08T05:23:55.077215Z",
     "start_time": "2020-06-08T05:23:54.388091Z"
    }
   },
   "outputs": [],
   "source": [
    "sw = list(pd.read_excel(\"stopword(cp949).xlsx\",encoding = 'cp949')['불용어'])  #불용어 불러오기\n",
    "path = 'D:/Python/블로그크롤링/output/크롤링/통합/'\n",
    "file_list = os.listdir(path)\n",
    "file = '광진 +양양_통합_5002.csv'\n",
    "main_df = pd.read_csv(path + file)\n",
    "keyword = '양양'"
   ]
  },
  {
   "cell_type": "code",
   "execution_count": 6,
   "metadata": {
    "ExecuteTime": {
     "end_time": "2020-06-08T05:23:56.004932Z",
     "start_time": "2020-06-08T05:23:56.001931Z"
    }
   },
   "outputs": [],
   "source": [
    "main_df = main_df.iloc[:100,:]"
   ]
  },
  {
   "cell_type": "code",
   "execution_count": 11,
   "metadata": {
    "ExecuteTime": {
     "end_time": "2020-06-08T05:25:36.780376Z",
     "start_time": "2020-06-08T05:25:23.147571Z"
    }
   },
   "outputs": [
    {
     "name": "stderr",
     "output_type": "stream",
     "text": [
      "  4%|███▎                                                                               | 2/50 [00:00<00:03, 13.06it/s]"
     ]
    },
    {
     "name": "stdout",
     "output_type": "stream",
     "text": [
      "양양\n"
     ]
    },
    {
     "name": "stderr",
     "output_type": "stream",
     "text": [
      "100%|██████████████████████████████████████████████████████████████████████████████████| 50/50 [00:06<00:00,  7.79it/s]\n",
      "100%|██████████████████████████████████████████████████████████████████████████████████| 50/50 [00:06<00:00,  7.27it/s]\n"
     ]
    }
   ],
   "source": [
    "tokenized(main_df, keyword, sw,batch_size=50)"
   ]
  },
  {
   "cell_type": "code",
   "execution_count": 72,
   "metadata": {
    "ExecuteTime": {
     "end_time": "2020-06-05T08:44:00.118765Z",
     "start_time": "2020-06-05T08:43:56.009011Z"
    }
   },
   "outputs": [],
   "source": [
    "aa = pd.read_csv('D:/Python/블로그크롤링/output/크롤링/통합/양양 +강원도_통합_74830.csv')"
   ]
  },
  {
   "cell_type": "code",
   "execution_count": 76,
   "metadata": {
    "ExecuteTime": {
     "end_time": "2020-06-05T08:44:42.325018Z",
     "start_time": "2020-06-05T08:44:42.302012Z"
    }
   },
   "outputs": [
    {
     "data": {
      "text/plain": [
       "다래횟집 (영진호)                 507\n",
       "쏠비치 양양                     499\n",
       "보우하우징(010-491...           482\n",
       "생활용품 도/소매 납...             290\n",
       "아침나라/안영국                   274\n",
       "속초,양양여행이야기                 262\n",
       ".                          241\n",
       "강원타임즈 블로그                  218\n",
       "양양군청 공식블로그                 213\n",
       "자연산약초, 토종약...              184\n",
       "속초배낚시                      184\n",
       "컴퓨터랜드 노트북/...              177\n",
       "웰컴투 양양 新귀농...              172\n",
       "지순이아범                      167\n",
       "NA YOUN 다이어리               161\n",
       "GoGo씽~ 강원도來YO!             158\n",
       "법수치 통나무 산장                 153\n",
       "010-8649-4988 속초 가볼만...    151\n",
       "성보의 풍수여행                   148\n",
       "강릉솔향통신                     135\n",
       "Name: title, dtype: int64"
      ]
     },
     "execution_count": 76,
     "metadata": {},
     "output_type": "execute_result"
    }
   ],
   "source": [
    "aa.title.value_counts().head(20)[]"
   ]
  },
  {
   "cell_type": "code",
   "execution_count": 23,
   "metadata": {
    "ExecuteTime": {
     "end_time": "2020-06-05T08:10:29.638965Z",
     "start_time": "2020-06-05T08:10:29.600956Z"
    }
   },
   "outputs": [],
   "source": [
    "concated_df = pd.concat([token_noun.groupby(level=0).agg(list),token_adj.groupby(level=0).agg(list)],axis = 1)"
   ]
  },
  {
   "cell_type": "markdown",
   "metadata": {},
   "source": [
    "### 방법2\n",
    "tokenize을 일부부분을 apply로 진행, 10000개 10분, 메모리 에러문제로 그이상 확인불가  \n",
    "tqdm.pandas()로 apply 진행상황확인"
   ]
  },
  {
   "cell_type": "code",
   "execution_count": 25,
   "metadata": {
    "ExecuteTime": {
     "end_time": "2020-06-01T05:47:12.100491Z",
     "start_time": "2020-06-01T05:47:12.096491Z"
    }
   },
   "outputs": [
    {
     "data": {
      "text/plain": [
       "85670"
      ]
     },
     "execution_count": 25,
     "metadata": {},
     "output_type": "execute_result"
    }
   ],
   "source": [
    "main_df.shape[0]"
   ]
  },
  {
   "cell_type": "code",
   "execution_count": 30,
   "metadata": {
    "ExecuteTime": {
     "end_time": "2020-06-01T08:24:11.298491Z",
     "start_time": "2020-06-01T08:05:34.165743Z"
    }
   },
   "outputs": [
    {
     "name": "stderr",
     "output_type": "stream",
     "text": [
      "100%|████████████████████████████████████████████████████████████████████████████| 15670/15670 [18:21<00:00, 14.22it/s]\n"
     ]
    }
   ],
   "source": [
    "# 저장할 위치\n",
    "tokens_dict = dict()\n",
    "tokens_dict['Nouns'] = []\n",
    "tokens_dict['Adj'] = []\n",
    "\n",
    "start = 70000\n",
    "end = 85670\n",
    "# tqdm.pandas(desc = '토큰화')\n",
    "a = main_df.iloc[start:end]['full_text'].progress_apply(lambda x: okt.pos(x, norm=True, stem=True))\n",
    "a_e = a.explode()\n",
    "# tqdm.pandas(desc = '단어추출')\n",
    "a_e_n = a_e.apply(lambda x: x[0] if x[1] == 'Noun' else np.nan).dropna()\n",
    "a_e_ad = a_e.apply(lambda x: x[0] if x[1] == 'Adjective' else np.nan).dropna()\n",
    "\n",
    "# 클리닝\n",
    "# tqdm.pandas(desc = '클리닝')\n",
    "a_e_n = a_e_n[a_e_n.apply(lambda word: (len(word) > 1) & (word not in sw))]\n",
    "a_e_ad = a_e_ad[a_e_ad.apply(lambda word: (len(word) > 1) & (word not in sw))]\n",
    "\n",
    "\n",
    "# 저장\n",
    "defalut = pd.Series(index=range(start, end), data=range(start, end), name='index')\n",
    "defalut = pd.merge(defalut, a_e_n.groupby(level=0).agg(list).rename(\n",
    "    'Noun'), how='left', left_index=True, right_index=True)\n",
    "defalut = pd.merge(defalut, a_e_ad.groupby(level=0).agg(list).rename(\n",
    "    'Adjective'), how='left', left_index=True, right_index=True)\n",
    "pd.DataFrame(defalut).to_csv('D:/Python/블로그크롤링/output/token/강원도_{start}~{end}.csv'.format(start = start, end = end))"
   ]
  },
  {
   "cell_type": "markdown",
   "metadata": {},
   "source": [
    "### 속도가 느려서 튜닝"
   ]
  },
  {
   "cell_type": "code",
   "execution_count": 8,
   "metadata": {
    "ExecuteTime": {
     "end_time": "2020-06-05T01:23:37.327597Z",
     "start_time": "2020-06-05T01:21:15.188413Z"
    }
   },
   "outputs": [
    {
     "name": "stderr",
     "output_type": "stream",
     "text": [
      "C:\\Users\\User\\Anaconda3\\lib\\site-packages\\ipykernel_launcher.py:6: TqdmDeprecationWarning: This function will be removed in tqdm==5.0.0\n",
      "Please use `tqdm.notebook.tqdm` instead of `tqdm.tqdm_notebook`\n",
      "  \n"
     ]
    },
    {
     "data": {
      "application/vnd.jupyter.widget-view+json": {
       "model_id": "add0585cf44b4fa9b3c73e1df72eedba",
       "version_major": 2,
       "version_minor": 0
      },
      "text/plain": [
       "HBox(children=(FloatProgress(value=0.0, description='양양tokenize', max=500.0, style=ProgressStyle(description_w…"
      ]
     },
     "metadata": {},
     "output_type": "display_data"
    },
    {
     "name": "stdout",
     "output_type": "stream",
     "text": [
      "\n"
     ]
    }
   ],
   "source": [
    "#ori \n",
    "#저장할 위치\n",
    "tokens_dict = dict()\n",
    "tokens_dict['Nouns'] = []\n",
    "tokens_dict['Adj'] = []\n",
    "for blog_num in tqdm_notebook(range(0,len(main_df[:500])),desc = keyword+'tokenize'):\n",
    "    #블로그 품사태깅 (load한 경우 list가 아닌 text로 받아서 첫번째가 아닌 전체를 받는다)\n",
    "#     pos_text = okt.pos(target[blog_num][0], norm=True, stem=True)\n",
    "        pos_text = okt.pos(main_df['full_text'][blog_num], norm=True, stem=True)\n",
    "\n",
    "        pos_text_df = pd.DataFrame(pos_text)\n",
    "        noun_lists = pos_text_df[pos_text_df[1].apply(lambda x : (x in \"Noun\"))][0].values\n",
    "        adj_lists = pos_text_df[pos_text_df[1].apply(lambda x : (x in \"Adjective\"))][0].values\n",
    "        #클리닝\n",
    "        clean_nouns = list(filter(lambda word : (len(word)>1)&(word not in sw),noun_lists))\n",
    "        clean_adjs = list(filter(lambda word : (len(word)>1)&(word not in sw),adj_lists))\n",
    "        #dictionay 저장\n",
    "        tokens_dict.get('Nouns',0).append(clean_nouns)\n",
    "        tokens_dict.get('Adj',0).append(clean_adjs)"
   ]
  },
  {
   "cell_type": "code",
   "execution_count": null,
   "metadata": {
    "ExecuteTime": {
     "end_time": "2020-06-01T04:10:06.412632Z",
     "start_time": "2020-06-01T04:09:49.363Z"
    }
   },
   "outputs": [],
   "source": [
    "#tunning 1\n",
    "#저장할 위치\n",
    "tokens_dict = dict()\n",
    "tokens_dict['Nouns'] = []\n",
    "tokens_dict['Adj'] = []\n",
    "\n",
    "for txt in tqdm_notebook(main_df['full_text'].values[:500] ,desc = keyword+'tokenize'):\n",
    "    a = okt.pos(txt, norm=True, stem=True)\n",
    "    noun_lists = []\n",
    "    adj_lists = []\n",
    "    for word, dtype in a:\n",
    "        if dtype == 'Noun':\n",
    "            noun_lists.append(word)\n",
    "        elif dtype == 'Adjective':\n",
    "            adj_lists.append(word)\n",
    "    #클리닝\n",
    "    clean_nouns = list(filter(lambda word : (len(word)>1)&(word not in sw),noun_lists))\n",
    "    clean_adjs = list(filter(lambda word : (len(word)>1)&(word not in sw),adj_lists))\n",
    "    #dictionay 저장\n",
    "    tokens_dict.get('Nouns',0).append(clean_nouns)\n",
    "    tokens_dict.get('Adj',0).append(clean_adjs)"
   ]
  },
  {
   "cell_type": "code",
   "execution_count": null,
   "metadata": {
    "ExecuteTime": {
     "end_time": "2020-06-01T04:10:06.412632Z",
     "start_time": "2020-06-01T04:09:49.364Z"
    },
    "scrolled": true
   },
   "outputs": [],
   "source": [
    "#tunning 2 : DF.isin\n",
    "#저장할 위치\n",
    "tokens_dict = dict()\n",
    "tokens_dict['Nouns'] = []\n",
    "tokens_dict['Adj'] = []\n",
    "num = 1\n",
    "count = 1\n",
    "for txt in tqdm_notebook(main_df['full_text'].values[:500] ,desc = keyword+'tokenize'):\n",
    "    \n",
    "    a = okt.pos(txt, norm=True, stem=True)\n",
    "\n",
    "    a_df = pd.DataFrame(a)\n",
    "    noun_lists = a_df[a_df[1].isin(['Noun'])][0].values\n",
    "    adj_lists = a_df[a_df[1].isin(['Adjective'])][0].values\n",
    "    #클리닝\n",
    "    clean_nouns = list(filter(lambda word : (len(word)>1)&(word not in sw),noun_lists))\n",
    "    clean_adjs = list(filter(lambda word : (len(word)>1)&(word not in sw),adj_lists))\n",
    "    #dictionay 저장\n",
    "    tokens_dict.get('Nouns',0).append(clean_nouns)\n",
    "    tokens_dict.get('Adj',0).append(clean_adjs)\n",
    "    \n",
    "    gc.collect()\n",
    "    num += 1\n",
    "    \n",
    "    if num == 100:\n",
    "        #중간저장 \n",
    "        tokens_df = pd.DataFrame(tokens_dict)\n",
    "        tokens_df.to_csv('D:/Python/블로그크롤링/output/token/{keyword}_token_{count}.csv'.format(keyword = keyword,count = count)) #token을 원래문장과 비교하려면 동일한 인덱스로 추정하면됨\n",
    "        count += 1\n",
    "        num = 1"
   ]
  },
  {
   "cell_type": "code",
   "execution_count": null,
   "metadata": {
    "ExecuteTime": {
     "end_time": "2020-06-01T04:10:06.413632Z",
     "start_time": "2020-06-01T04:09:49.365Z"
    }
   },
   "outputs": [],
   "source": [
    "#tunning 3 : np.isin\n",
    "#저장할 위치\n",
    "tokens_dict = dict()\n",
    "tokens_dict['Nouns'] = []\n",
    "tokens_dict['Adj'] = []\n",
    "#append 미리선언\n",
    "add_noun = tokens_dict.get('Nouns',0).append\n",
    "add_adj = tokens_dict.get('Adj',0).append\n",
    "for txt in tqdm_notebook(main_df['full_text'].values[:500] ,desc = keyword+'tokenize'):\n",
    "    tagged = okt.pos(txt, norm=True, stem=True)\n",
    "    \n",
    "    #array로 변환후 작업\n",
    "    tagged_arr= np.array(tagged)\n",
    "\n",
    "#     n_mask = np.isin(tagged_arr[:,1],\"Noun\")\n",
    "#     a_mask = np.isin(tagged_arr[:,1],\"Adjective\")\n",
    "\n",
    "    noun_lists = tagged_arr[np.isin(tagged_arr[:,1],\"Noun\")][:,0]\n",
    "    adj_lists = tagged_arr[np.isin(tagged_arr[:,1],\"Adjective\")][:,0]\n",
    "    #클리닝\n",
    "    clean_nouns = list(filter(lambda word : (len(word)>1)&(word not in sw),noun_lists))\n",
    "    clean_adjs = list(filter(lambda word : (len(word)>1)&(word not in sw),adj_lists))\n",
    "    #dictionay 저장\n",
    "    add_noun(clean_nouns)\n",
    "    add_adj(clean_adjs)"
   ]
  },
  {
   "cell_type": "code",
   "execution_count": null,
   "metadata": {},
   "outputs": [],
   "source": []
  }
 ],
 "metadata": {
  "kernelspec": {
   "display_name": "Python 3",
   "language": "python",
   "name": "python3"
  },
  "language_info": {
   "codemirror_mode": {
    "name": "ipython",
    "version": 3
   },
   "file_extension": ".py",
   "mimetype": "text/x-python",
   "name": "python",
   "nbconvert_exporter": "python",
   "pygments_lexer": "ipython3",
   "version": "3.6.5"
  },
  "varInspector": {
   "cols": {
    "lenName": 16,
    "lenType": 16,
    "lenVar": 40
   },
   "kernels_config": {
    "python": {
     "delete_cmd_postfix": "",
     "delete_cmd_prefix": "del ",
     "library": "var_list.py",
     "varRefreshCmd": "print(var_dic_list())"
    },
    "r": {
     "delete_cmd_postfix": ") ",
     "delete_cmd_prefix": "rm(",
     "library": "var_list.r",
     "varRefreshCmd": "cat(var_dic_list()) "
    }
   },
   "types_to_exclude": [
    "module",
    "function",
    "builtin_function_or_method",
    "instance",
    "_Feature"
   ],
   "window_display": false
  }
 },
 "nbformat": 4,
 "nbformat_minor": 2
}

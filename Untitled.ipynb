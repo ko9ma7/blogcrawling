{
 "cells": [
  {
   "cell_type": "code",
   "execution_count": 4,
   "metadata": {
    "ExecuteTime": {
     "end_time": "2020-04-07T06:32:21.714128Z",
     "start_time": "2020-04-07T06:32:21.712127Z"
    }
   },
   "outputs": [],
   "source": [
    "from konlpy.tag import Komoran"
   ]
  },
  {
   "cell_type": "code",
   "execution_count": 5,
   "metadata": {
    "ExecuteTime": {
     "end_time": "2020-04-07T06:32:35.739338Z",
     "start_time": "2020-04-07T06:32:34.152443Z"
    }
   },
   "outputs": [
    {
     "name": "stderr",
     "output_type": "stream",
     "text": [
      "C:\\Users\\User\\Anaconda3\\lib\\site-packages\\jpype\\_core.py:217: UserWarning: \n",
      "-------------------------------------------------------------------------------\n",
      "Deprecated: convertStrings was not specified when starting the JVM. The default\n",
      "behavior in JPype will be False starting in JPype 0.8. The recommended setting\n",
      "for new code is convertStrings=False.  The legacy value of True was assumed for\n",
      "this session. If you are a user of an application that reported this warning,\n",
      "please file a ticket with the developer.\n",
      "-------------------------------------------------------------------------------\n",
      "\n",
      "  \"\"\")\n"
     ]
    }
   ],
   "source": [
    "komoran = Komoran()"
   ]
  },
  {
   "cell_type": "code",
   "execution_count": 2,
   "metadata": {
    "ExecuteTime": {
     "end_time": "2020-04-07T05:55:45.307313Z",
     "start_time": "2020-04-07T05:55:45.258302Z"
    }
   },
   "outputs": [
    {
     "ename": "RuntimeError",
     "evalue": "",
     "output_type": "error",
     "traceback": [
      "\u001b[1;31m---------------------------------------------------------------------------\u001b[0m",
      "\u001b[1;31mRuntimeError\u001b[0m                              Traceback (most recent call last)",
      "\u001b[1;32m<ipython-input-2-d85310262a9e>\u001b[0m in \u001b[0;36m<module>\u001b[1;34m()\u001b[0m\n\u001b[1;32m----> 1\u001b[1;33m \u001b[0mm\u001b[0m \u001b[1;33m=\u001b[0m \u001b[0mMeCab\u001b[0m\u001b[1;33m.\u001b[0m\u001b[0mTagger\u001b[0m\u001b[1;33m(\u001b[0m\u001b[1;34m'-d C:/mecab/mecab-ko-dic'\u001b[0m\u001b[1;33m)\u001b[0m\u001b[1;33m\u001b[0m\u001b[0m\n\u001b[0m\u001b[0;32m      2\u001b[0m \u001b[0mout\u001b[0m \u001b[1;33m=\u001b[0m \u001b[0mm\u001b[0m\u001b[1;33m.\u001b[0m\u001b[0mparse\u001b[0m\u001b[1;33m(\u001b[0m\u001b[1;34m\"휴휴암\"\u001b[0m\u001b[1;33m)\u001b[0m\u001b[1;33m\u001b[0m\u001b[0m\n",
      "\u001b[1;32m~\\Anaconda3\\lib\\site-packages\\MeCab.py\u001b[0m in \u001b[0;36m__init__\u001b[1;34m(self, *args)\u001b[0m\n\u001b[0;32m    307\u001b[0m     \u001b[1;32mif\u001b[0m \u001b[0m_newclass\u001b[0m\u001b[1;33m:\u001b[0m\u001b[0mversion\u001b[0m \u001b[1;33m=\u001b[0m \u001b[0mstaticmethod\u001b[0m\u001b[1;33m(\u001b[0m\u001b[0m_MeCab\u001b[0m\u001b[1;33m.\u001b[0m\u001b[0mTagger_version\u001b[0m\u001b[1;33m)\u001b[0m\u001b[1;33m\u001b[0m\u001b[0m\n\u001b[0;32m    308\u001b[0m     \u001b[1;32mdef\u001b[0m \u001b[0m__init__\u001b[0m\u001b[1;33m(\u001b[0m\u001b[0mself\u001b[0m\u001b[1;33m,\u001b[0m \u001b[1;33m*\u001b[0m\u001b[0margs\u001b[0m\u001b[1;33m)\u001b[0m\u001b[1;33m:\u001b[0m\u001b[1;33m\u001b[0m\u001b[0m\n\u001b[1;32m--> 309\u001b[1;33m         \u001b[0mthis\u001b[0m \u001b[1;33m=\u001b[0m \u001b[0m_MeCab\u001b[0m\u001b[1;33m.\u001b[0m\u001b[0mnew_Tagger\u001b[0m\u001b[1;33m(\u001b[0m\u001b[1;33m*\u001b[0m\u001b[0margs\u001b[0m\u001b[1;33m)\u001b[0m\u001b[1;33m\u001b[0m\u001b[0m\n\u001b[0m\u001b[0;32m    310\u001b[0m         \u001b[1;32mtry\u001b[0m\u001b[1;33m:\u001b[0m \u001b[0mself\u001b[0m\u001b[1;33m.\u001b[0m\u001b[0mthis\u001b[0m\u001b[1;33m.\u001b[0m\u001b[0mappend\u001b[0m\u001b[1;33m(\u001b[0m\u001b[0mthis\u001b[0m\u001b[1;33m)\u001b[0m\u001b[1;33m\u001b[0m\u001b[0m\n\u001b[0;32m    311\u001b[0m         \u001b[1;32mexcept\u001b[0m\u001b[1;33m:\u001b[0m \u001b[0mself\u001b[0m\u001b[1;33m.\u001b[0m\u001b[0mthis\u001b[0m \u001b[1;33m=\u001b[0m \u001b[0mthis\u001b[0m\u001b[1;33m\u001b[0m\u001b[0m\n",
      "\u001b[1;31mRuntimeError\u001b[0m: "
     ]
    }
   ],
   "source": [
    "m = MeCab.Tagger('-d C:/mecab/mecab-ko-dic')\n",
    "out = m.parse(\"휴휴암\")\n"
   ]
  },
  {
   "cell_type": "code",
   "execution_count": 48,
   "metadata": {
    "ExecuteTime": {
     "end_time": "2020-04-07T05:14:31.075747Z",
     "start_time": "2020-04-07T05:14:31.073734Z"
    }
   },
   "outputs": [
    {
     "name": "stdout",
     "output_type": "stream",
     "text": [
      "휴휴\tNNP,인명,F,휴휴,*,*,*,*\n",
      "암\tNNG,정적사태,T,암,*,*,*,*\n",
      "EOS\n",
      "\n"
     ]
    }
   ],
   "source": [
    "print(out)"
   ]
  },
  {
   "cell_type": "markdown",
   "metadata": {},
   "source": [
    "### 사용자지정..?"
   ]
  },
  {
   "cell_type": "code",
   "execution_count": 45,
   "metadata": {
    "ExecuteTime": {
     "end_time": "2020-04-07T04:50:01.876873Z",
     "start_time": "2020-04-07T04:50:01.871872Z"
    }
   },
   "outputs": [],
   "source": [
    "nnp = pd.read_csv('C:/mecab/user-dic/nnp.csv',header=None)"
   ]
  },
  {
   "cell_type": "code",
   "execution_count": 46,
   "metadata": {
    "ExecuteTime": {
     "end_time": "2020-04-07T04:50:02.341985Z",
     "start_time": "2020-04-07T04:50:02.334989Z"
    }
   },
   "outputs": [],
   "source": [
    "nnp.loc[2] = \"휴휴암,,,,NNP,지명,F,휴휴암,*,*,*,*,*\".split(\",\")"
   ]
  },
  {
   "cell_type": "code",
   "execution_count": 47,
   "metadata": {
    "ExecuteTime": {
     "end_time": "2020-04-07T04:50:02.720075Z",
     "start_time": "2020-04-07T04:50:02.712073Z"
    }
   },
   "outputs": [
    {
     "data": {
      "text/html": [
       "<div>\n",
       "<style scoped>\n",
       "    .dataframe tbody tr th:only-of-type {\n",
       "        vertical-align: middle;\n",
       "    }\n",
       "\n",
       "    .dataframe tbody tr th {\n",
       "        vertical-align: top;\n",
       "    }\n",
       "\n",
       "    .dataframe thead th {\n",
       "        text-align: right;\n",
       "    }\n",
       "</style>\n",
       "<table border=\"1\" class=\"dataframe\">\n",
       "  <thead>\n",
       "    <tr style=\"text-align: right;\">\n",
       "      <th></th>\n",
       "      <th>0</th>\n",
       "      <th>1</th>\n",
       "      <th>2</th>\n",
       "      <th>3</th>\n",
       "      <th>4</th>\n",
       "      <th>5</th>\n",
       "      <th>6</th>\n",
       "      <th>7</th>\n",
       "      <th>8</th>\n",
       "      <th>9</th>\n",
       "      <th>10</th>\n",
       "      <th>11</th>\n",
       "      <th>12</th>\n",
       "    </tr>\n",
       "  </thead>\n",
       "  <tbody>\n",
       "    <tr>\n",
       "      <td>0</td>\n",
       "      <td>대우</td>\n",
       "      <td>NaN</td>\n",
       "      <td>NaN</td>\n",
       "      <td>NaN</td>\n",
       "      <td>NNP</td>\n",
       "      <td>*</td>\n",
       "      <td>F</td>\n",
       "      <td>대우</td>\n",
       "      <td>*</td>\n",
       "      <td>*</td>\n",
       "      <td>*</td>\n",
       "      <td>*</td>\n",
       "      <td>*</td>\n",
       "    </tr>\n",
       "    <tr>\n",
       "      <td>1</td>\n",
       "      <td>구글</td>\n",
       "      <td>NaN</td>\n",
       "      <td>NaN</td>\n",
       "      <td>NaN</td>\n",
       "      <td>NNP</td>\n",
       "      <td>*</td>\n",
       "      <td>T</td>\n",
       "      <td>구글</td>\n",
       "      <td>*</td>\n",
       "      <td>*</td>\n",
       "      <td>*</td>\n",
       "      <td>*</td>\n",
       "      <td>*</td>\n",
       "    </tr>\n",
       "    <tr>\n",
       "      <td>2</td>\n",
       "      <td>휴휴암</td>\n",
       "      <td></td>\n",
       "      <td></td>\n",
       "      <td></td>\n",
       "      <td>NNP</td>\n",
       "      <td>지명</td>\n",
       "      <td>F</td>\n",
       "      <td>휴휴암</td>\n",
       "      <td>*</td>\n",
       "      <td>*</td>\n",
       "      <td>*</td>\n",
       "      <td>*</td>\n",
       "      <td>*</td>\n",
       "    </tr>\n",
       "  </tbody>\n",
       "</table>\n",
       "</div>"
      ],
      "text/plain": [
       "    0    1    2    3    4   5  6    7  8  9  10 11 12\n",
       "0   대우  NaN  NaN  NaN  NNP   *  F   대우  *  *  *  *  *\n",
       "1   구글  NaN  NaN  NaN  NNP   *  T   구글  *  *  *  *  *\n",
       "2  휴휴암                 NNP  지명  F  휴휴암  *  *  *  *  *"
      ]
     },
     "execution_count": 47,
     "metadata": {},
     "output_type": "execute_result"
    }
   ],
   "source": [
    "nnp"
   ]
  },
  {
   "cell_type": "code",
   "execution_count": 37,
   "metadata": {
    "ExecuteTime": {
     "end_time": "2020-04-07T04:48:49.347054Z",
     "start_time": "2020-04-07T04:48:49.343991Z"
    }
   },
   "outputs": [],
   "source": [
    "nnp.to_csv('C:/mecab/user-dic/user_nnp.csv', header = False, index= False)"
   ]
  },
  {
   "cell_type": "code",
   "execution_count": 38,
   "metadata": {
    "ExecuteTime": {
     "end_time": "2020-04-07T04:48:50.009164Z",
     "start_time": "2020-04-07T04:48:49.999137Z"
    }
   },
   "outputs": [],
   "source": [
    "nnp = pd.read_csv('C:/mecab/user-dic/user_nnp.csv',header=None)"
   ]
  },
  {
   "cell_type": "code",
   "execution_count": 39,
   "metadata": {
    "ExecuteTime": {
     "end_time": "2020-04-07T04:48:50.352223Z",
     "start_time": "2020-04-07T04:48:50.343213Z"
    }
   },
   "outputs": [
    {
     "data": {
      "text/html": [
       "<div>\n",
       "<style scoped>\n",
       "    .dataframe tbody tr th:only-of-type {\n",
       "        vertical-align: middle;\n",
       "    }\n",
       "\n",
       "    .dataframe tbody tr th {\n",
       "        vertical-align: top;\n",
       "    }\n",
       "\n",
       "    .dataframe thead th {\n",
       "        text-align: right;\n",
       "    }\n",
       "</style>\n",
       "<table border=\"1\" class=\"dataframe\">\n",
       "  <thead>\n",
       "    <tr style=\"text-align: right;\">\n",
       "      <th></th>\n",
       "      <th>0</th>\n",
       "      <th>1</th>\n",
       "      <th>2</th>\n",
       "      <th>3</th>\n",
       "      <th>4</th>\n",
       "      <th>5</th>\n",
       "      <th>6</th>\n",
       "      <th>7</th>\n",
       "      <th>8</th>\n",
       "      <th>9</th>\n",
       "      <th>10</th>\n",
       "      <th>11</th>\n",
       "      <th>12</th>\n",
       "    </tr>\n",
       "  </thead>\n",
       "  <tbody>\n",
       "    <tr>\n",
       "      <td>0</td>\n",
       "      <td>대우</td>\n",
       "      <td>NaN</td>\n",
       "      <td>NaN</td>\n",
       "      <td>NaN</td>\n",
       "      <td>NNP</td>\n",
       "      <td>*</td>\n",
       "      <td>F</td>\n",
       "      <td>대우</td>\n",
       "      <td>*</td>\n",
       "      <td>*</td>\n",
       "      <td>*</td>\n",
       "      <td>*</td>\n",
       "      <td>*</td>\n",
       "    </tr>\n",
       "    <tr>\n",
       "      <td>1</td>\n",
       "      <td>구글</td>\n",
       "      <td>NaN</td>\n",
       "      <td>NaN</td>\n",
       "      <td>NaN</td>\n",
       "      <td>NNP</td>\n",
       "      <td>*</td>\n",
       "      <td>T</td>\n",
       "      <td>구글</td>\n",
       "      <td>*</td>\n",
       "      <td>*</td>\n",
       "      <td>*</td>\n",
       "      <td>*</td>\n",
       "      <td>*</td>\n",
       "    </tr>\n",
       "    <tr>\n",
       "      <td>2</td>\n",
       "      <td>휴휴암</td>\n",
       "      <td>NaN</td>\n",
       "      <td>NaN</td>\n",
       "      <td>NaN</td>\n",
       "      <td>NNP</td>\n",
       "      <td>지명</td>\n",
       "      <td>F</td>\n",
       "      <td>휴휴암</td>\n",
       "      <td>*</td>\n",
       "      <td>*</td>\n",
       "      <td>*</td>\n",
       "      <td>*</td>\n",
       "      <td>*</td>\n",
       "    </tr>\n",
       "  </tbody>\n",
       "</table>\n",
       "</div>"
      ],
      "text/plain": [
       "    0   1   2   3    4   5  6    7  8  9  10 11 12\n",
       "0   대우 NaN NaN NaN  NNP   *  F   대우  *  *  *  *  *\n",
       "1   구글 NaN NaN NaN  NNP   *  T   구글  *  *  *  *  *\n",
       "2  휴휴암 NaN NaN NaN  NNP  지명  F  휴휴암  *  *  *  *  *"
      ]
     },
     "execution_count": 39,
     "metadata": {},
     "output_type": "execute_result"
    }
   ],
   "source": [
    "nnp"
   ]
  },
  {
   "cell_type": "code",
   "execution_count": 28,
   "metadata": {
    "ExecuteTime": {
     "end_time": "2020-04-07T05:10:44.342358Z",
     "start_time": "2020-04-07T05:10:44.328355Z"
    }
   },
   "outputs": [],
   "source": [
    "nnp_won = pd.read_csv('C:/mecab/mecab-ko-dic/NNP.csv',header=None)"
   ]
  },
  {
   "cell_type": "code",
   "execution_count": 29,
   "metadata": {
    "ExecuteTime": {
     "end_time": "2020-04-07T05:10:44.680435Z",
     "start_time": "2020-04-07T05:10:44.666432Z"
    }
   },
   "outputs": [
    {
     "data": {
      "text/html": [
       "<div>\n",
       "<style scoped>\n",
       "    .dataframe tbody tr th:only-of-type {\n",
       "        vertical-align: middle;\n",
       "    }\n",
       "\n",
       "    .dataframe tbody tr th {\n",
       "        vertical-align: top;\n",
       "    }\n",
       "\n",
       "    .dataframe thead th {\n",
       "        text-align: right;\n",
       "    }\n",
       "</style>\n",
       "<table border=\"1\" class=\"dataframe\">\n",
       "  <thead>\n",
       "    <tr style=\"text-align: right;\">\n",
       "      <th></th>\n",
       "      <th>0</th>\n",
       "      <th>1</th>\n",
       "      <th>2</th>\n",
       "      <th>3</th>\n",
       "      <th>4</th>\n",
       "      <th>5</th>\n",
       "      <th>6</th>\n",
       "      <th>7</th>\n",
       "      <th>8</th>\n",
       "      <th>9</th>\n",
       "      <th>10</th>\n",
       "      <th>11</th>\n",
       "    </tr>\n",
       "  </thead>\n",
       "  <tbody>\n",
       "    <tr>\n",
       "      <td>0</td>\n",
       "      <td>가곡선</td>\n",
       "      <td>1786.0</td>\n",
       "      <td>3546.0</td>\n",
       "      <td>2953.0</td>\n",
       "      <td>NNP</td>\n",
       "      <td>*</td>\n",
       "      <td>T</td>\n",
       "      <td>가곡선</td>\n",
       "      <td>Compound</td>\n",
       "      <td>*</td>\n",
       "      <td>*</td>\n",
       "      <td>가곡/NNG/*+선/NNG/*</td>\n",
       "    </tr>\n",
       "    <tr>\n",
       "      <td>1</td>\n",
       "      <td>가곡원류</td>\n",
       "      <td>1786.0</td>\n",
       "      <td>3545.0</td>\n",
       "      <td>2953.0</td>\n",
       "      <td>NNP</td>\n",
       "      <td>*</td>\n",
       "      <td>F</td>\n",
       "      <td>가곡원류</td>\n",
       "      <td>Compound</td>\n",
       "      <td>*</td>\n",
       "      <td>*</td>\n",
       "      <td>가곡/NNG/*+원류/NNG/*</td>\n",
       "    </tr>\n",
       "    <tr>\n",
       "      <td>2</td>\n",
       "      <td>가나안족</td>\n",
       "      <td>1786.0</td>\n",
       "      <td>3546.0</td>\n",
       "      <td>2953.0</td>\n",
       "      <td>NNP</td>\n",
       "      <td>*</td>\n",
       "      <td>T</td>\n",
       "      <td>가나안족</td>\n",
       "      <td>Compound</td>\n",
       "      <td>*</td>\n",
       "      <td>*</td>\n",
       "      <td>가나안/NNP/*+족/NNG/*</td>\n",
       "    </tr>\n",
       "    <tr>\n",
       "      <td>3</td>\n",
       "      <td>가락국기</td>\n",
       "      <td>1786.0</td>\n",
       "      <td>3545.0</td>\n",
       "      <td>2953.0</td>\n",
       "      <td>NNP</td>\n",
       "      <td>*</td>\n",
       "      <td>F</td>\n",
       "      <td>가락국기</td>\n",
       "      <td>Compound</td>\n",
       "      <td>*</td>\n",
       "      <td>*</td>\n",
       "      <td>가락/NNG/*+국/NNG/*+기/NNG/*</td>\n",
       "    </tr>\n",
       "    <tr>\n",
       "      <td>4</td>\n",
       "      <td>가락삼왕사적</td>\n",
       "      <td>1786.0</td>\n",
       "      <td>3546.0</td>\n",
       "      <td>2953.0</td>\n",
       "      <td>NNP</td>\n",
       "      <td>*</td>\n",
       "      <td>T</td>\n",
       "      <td>가락삼왕사적</td>\n",
       "      <td>Compound</td>\n",
       "      <td>*</td>\n",
       "      <td>*</td>\n",
       "      <td>가락삼왕/NNG/*+사적/NNG/*</td>\n",
       "    </tr>\n",
       "    <tr>\n",
       "      <td>...</td>\n",
       "      <td>...</td>\n",
       "      <td>...</td>\n",
       "      <td>...</td>\n",
       "      <td>...</td>\n",
       "      <td>...</td>\n",
       "      <td>...</td>\n",
       "      <td>...</td>\n",
       "      <td>...</td>\n",
       "      <td>...</td>\n",
       "      <td>...</td>\n",
       "      <td>...</td>\n",
       "      <td>...</td>\n",
       "    </tr>\n",
       "    <tr>\n",
       "      <td>2367</td>\n",
       "      <td>흥왕조승</td>\n",
       "      <td>1786.0</td>\n",
       "      <td>3546.0</td>\n",
       "      <td>2953.0</td>\n",
       "      <td>NNP</td>\n",
       "      <td>*</td>\n",
       "      <td>T</td>\n",
       "      <td>흥왕조승</td>\n",
       "      <td>Compound</td>\n",
       "      <td>*</td>\n",
       "      <td>*</td>\n",
       "      <td>흥왕/NNP/지명+조승/NNG/*</td>\n",
       "    </tr>\n",
       "    <tr>\n",
       "      <td>2368</td>\n",
       "      <td>희랍인</td>\n",
       "      <td>1786.0</td>\n",
       "      <td>3546.0</td>\n",
       "      <td>2953.0</td>\n",
       "      <td>NNP</td>\n",
       "      <td>*</td>\n",
       "      <td>T</td>\n",
       "      <td>희랍인</td>\n",
       "      <td>Compound</td>\n",
       "      <td>*</td>\n",
       "      <td>*</td>\n",
       "      <td>희랍/NNP/지명+인/NNG/*</td>\n",
       "    </tr>\n",
       "    <tr>\n",
       "      <td>2369</td>\n",
       "      <td>힌두스탄어</td>\n",
       "      <td>1786.0</td>\n",
       "      <td>3545.0</td>\n",
       "      <td>2953.0</td>\n",
       "      <td>NNP</td>\n",
       "      <td>*</td>\n",
       "      <td>F</td>\n",
       "      <td>힌두스탄어</td>\n",
       "      <td>Compound</td>\n",
       "      <td>*</td>\n",
       "      <td>*</td>\n",
       "      <td>힌두스탄/NNP/지명+어/NNG/*</td>\n",
       "    </tr>\n",
       "    <tr>\n",
       "      <td>2370</td>\n",
       "      <td>힌두족</td>\n",
       "      <td>1786.0</td>\n",
       "      <td>3546.0</td>\n",
       "      <td>2953.0</td>\n",
       "      <td>NNP</td>\n",
       "      <td>*</td>\n",
       "      <td>T</td>\n",
       "      <td>힌두족</td>\n",
       "      <td>Compound</td>\n",
       "      <td>*</td>\n",
       "      <td>*</td>\n",
       "      <td>힌두/NNP/*+족/NNG/*</td>\n",
       "    </tr>\n",
       "    <tr>\n",
       "      <td>2371</td>\n",
       "      <td>휴휴암</td>\n",
       "      <td>NaN</td>\n",
       "      <td>NaN</td>\n",
       "      <td>NaN</td>\n",
       "      <td>NNP</td>\n",
       "      <td>지명</td>\n",
       "      <td>F</td>\n",
       "      <td>휴휴암</td>\n",
       "      <td>*</td>\n",
       "      <td>*</td>\n",
       "      <td>*</td>\n",
       "      <td>*</td>\n",
       "    </tr>\n",
       "  </tbody>\n",
       "</table>\n",
       "<p>2372 rows × 12 columns</p>\n",
       "</div>"
      ],
      "text/plain": [
       "          0       1       2       3    4   5  6       7         8  9  10  \\\n",
       "0        가곡선  1786.0  3546.0  2953.0  NNP   *  T     가곡선  Compound  *  *   \n",
       "1       가곡원류  1786.0  3545.0  2953.0  NNP   *  F    가곡원류  Compound  *  *   \n",
       "2       가나안족  1786.0  3546.0  2953.0  NNP   *  T    가나안족  Compound  *  *   \n",
       "3       가락국기  1786.0  3545.0  2953.0  NNP   *  F    가락국기  Compound  *  *   \n",
       "4     가락삼왕사적  1786.0  3546.0  2953.0  NNP   *  T  가락삼왕사적  Compound  *  *   \n",
       "...      ...     ...     ...     ...  ...  .. ..     ...       ... .. ..   \n",
       "2367    흥왕조승  1786.0  3546.0  2953.0  NNP   *  T    흥왕조승  Compound  *  *   \n",
       "2368     희랍인  1786.0  3546.0  2953.0  NNP   *  T     희랍인  Compound  *  *   \n",
       "2369   힌두스탄어  1786.0  3545.0  2953.0  NNP   *  F   힌두스탄어  Compound  *  *   \n",
       "2370     힌두족  1786.0  3546.0  2953.0  NNP   *  T     힌두족  Compound  *  *   \n",
       "2371     휴휴암     NaN     NaN     NaN  NNP  지명  F     휴휴암         *  *  *   \n",
       "\n",
       "                            11  \n",
       "0             가곡/NNG/*+선/NNG/*  \n",
       "1            가곡/NNG/*+원류/NNG/*  \n",
       "2            가나안/NNP/*+족/NNG/*  \n",
       "3     가락/NNG/*+국/NNG/*+기/NNG/*  \n",
       "4          가락삼왕/NNG/*+사적/NNG/*  \n",
       "...                        ...  \n",
       "2367        흥왕/NNP/지명+조승/NNG/*  \n",
       "2368         희랍/NNP/지명+인/NNG/*  \n",
       "2369       힌두스탄/NNP/지명+어/NNG/*  \n",
       "2370          힌두/NNP/*+족/NNG/*  \n",
       "2371                         *  \n",
       "\n",
       "[2372 rows x 12 columns]"
      ]
     },
     "execution_count": 29,
     "metadata": {},
     "output_type": "execute_result"
    }
   ],
   "source": [
    "nnp_won"
   ]
  },
  {
   "cell_type": "code",
   "execution_count": 19,
   "metadata": {
    "ExecuteTime": {
     "end_time": "2020-04-07T05:09:28.609265Z",
     "start_time": "2020-04-07T05:09:28.602263Z"
    }
   },
   "outputs": [],
   "source": [
    "nnp_won.loc[2371] = \"휴휴암,,,,NNP,지명,F,휴휴암,*,*,*,*\".split(\",\")"
   ]
  },
  {
   "cell_type": "code",
   "execution_count": 20,
   "metadata": {
    "ExecuteTime": {
     "end_time": "2020-04-07T05:10:10.260900Z",
     "start_time": "2020-04-07T05:10:10.248897Z"
    }
   },
   "outputs": [],
   "source": [
    "nnp_won.to_csv('C:/mecab/mecab-ko-dic/NNP.csv',header = False, index= False)"
   ]
  },
  {
   "cell_type": "markdown",
   "metadata": {},
   "source": [
    "### 인명"
   ]
  },
  {
   "cell_type": "code",
   "execution_count": 31,
   "metadata": {
    "ExecuteTime": {
     "end_time": "2020-04-07T05:11:57.757487Z",
     "start_time": "2020-04-07T05:11:57.458763Z"
    }
   },
   "outputs": [],
   "source": [
    "person_won = pd.read_csv('C:/mecab/mecab-ko-dic/Person.csv',header=None)"
   ]
  },
  {
   "cell_type": "code",
   "execution_count": 34,
   "metadata": {
    "ExecuteTime": {
     "end_time": "2020-04-07T05:12:49.270699Z",
     "start_time": "2020-04-07T05:12:49.257696Z"
    },
    "scrolled": true
   },
   "outputs": [
    {
     "data": {
      "text/plain": [
       "Int64Index([195856], dtype='int64')"
      ]
     },
     "execution_count": 34,
     "metadata": {},
     "output_type": "execute_result"
    }
   ],
   "source": [
    "person_won[person_won[0] == '휴휴'].index"
   ]
  },
  {
   "cell_type": "code",
   "execution_count": 38,
   "metadata": {
    "ExecuteTime": {
     "end_time": "2020-04-07T05:13:32.520726Z",
     "start_time": "2020-04-07T05:13:32.491719Z"
    }
   },
   "outputs": [],
   "source": [
    "person_won = person_won.drop(195856)"
   ]
  },
  {
   "cell_type": "code",
   "execution_count": 39,
   "metadata": {
    "ExecuteTime": {
     "end_time": "2020-04-07T05:13:43.762262Z",
     "start_time": "2020-04-07T05:13:43.747278Z"
    }
   },
   "outputs": [],
   "source": [
    "nnp_won.to_csv('C:/mecab/mecab-ko-dic/Person.csv',header = False, index= False)"
   ]
  },
  {
   "cell_type": "code",
   "execution_count": null,
   "metadata": {},
   "outputs": [],
   "source": []
  }
 ],
 "metadata": {
  "kernelspec": {
   "display_name": "Python 3",
   "language": "python",
   "name": "python3"
  },
  "language_info": {
   "codemirror_mode": {
    "name": "ipython",
    "version": 3
   },
   "file_extension": ".py",
   "mimetype": "text/x-python",
   "name": "python",
   "nbconvert_exporter": "python",
   "pygments_lexer": "ipython3",
   "version": "3.6.5"
  },
  "varInspector": {
   "cols": {
    "lenName": 16,
    "lenType": 16,
    "lenVar": 40
   },
   "kernels_config": {
    "python": {
     "delete_cmd_postfix": "",
     "delete_cmd_prefix": "del ",
     "library": "var_list.py",
     "varRefreshCmd": "print(var_dic_list())"
    },
    "r": {
     "delete_cmd_postfix": ") ",
     "delete_cmd_prefix": "rm(",
     "library": "var_list.r",
     "varRefreshCmd": "cat(var_dic_list()) "
    }
   },
   "types_to_exclude": [
    "module",
    "function",
    "builtin_function_or_method",
    "instance",
    "_Feature"
   ],
   "window_display": false
  }
 },
 "nbformat": 4,
 "nbformat_minor": 2
}

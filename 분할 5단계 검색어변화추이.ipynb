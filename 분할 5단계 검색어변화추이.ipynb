{
 "cells": [
  {
   "cell_type": "code",
   "execution_count": 1,
   "metadata": {
    "ExecuteTime": {
     "end_time": "2020-06-17T06:08:26.652349Z",
     "start_time": "2020-06-17T06:08:26.034210Z"
    }
   },
   "outputs": [],
   "source": [
    "import pandas as pd\n",
    "import numpy as np\n",
    "import os\n",
    "from tqdm import tqdm, tqdm_notebook,tqdm_pandas\n",
    "import itertools\n",
    "import re\n",
    "import json"
   ]
  },
  {
   "cell_type": "code",
   "execution_count": 2,
   "metadata": {
    "ExecuteTime": {
     "end_time": "2020-06-17T06:08:26.679355Z",
     "start_time": "2020-06-17T06:08:26.653350Z"
    }
   },
   "outputs": [],
   "source": [
    "#stopword\n",
    "sw = list(pd.read_excel(\"stopword(cp949).xlsx\",encoding = 'cp949')['불용어']) #불용어 불러오기\n",
    "\n",
    "#개별 불용어 \n",
    "with open('custom_sw.json') as load_file:\n",
    "    custom_sw = json.load(load_file)"
   ]
  },
  {
   "cell_type": "code",
   "execution_count": 3,
   "metadata": {
    "ExecuteTime": {
     "end_time": "2020-06-17T06:08:26.689358Z",
     "start_time": "2020-06-17T06:08:26.680356Z"
    },
    "code_folding": [
     0
    ]
   },
   "outputs": [],
   "source": [
    "def count_word(df, tag, keyword, stopword, custom_sw, save_name=\"\", start_year=2010, end_year=2019, gap=1, month=False, months=\"\", save=True):\n",
    "    '''단어가 등장한 횟수를 카운팅하고, 각 연도별 순위변동을 표시\n",
    "    month변수를 사용하여 특정 월별로 데이터 한정 가능\n",
    "    엑셀로 바로 출력해서 사용하기 위해 multi_column으로 출력\n",
    "\n",
    "    Parameters\n",
    "    ----------\n",
    "        df (dataFrame): DataFrame\n",
    "        tag (string) : 품사지정\n",
    "        costom_sw (dict) : 카운팅에서 제외할 불용어사전\n",
    "        save_name : 저장파일이름\n",
    "        \n",
    "        start_year (int) : 순위변동 확인시 시작할 연도위치\n",
    "        end_year (int) : 순위변동 확인시 마지막 연도위치 \n",
    "        gap (int): 연도별 기간차이 지정\n",
    "        month (bool) : 특정월 추출여부\n",
    "        months (list) : 추출할 월list\n",
    "        save : 파일저장여부\n",
    "       \n",
    "    Returns\n",
    "    -------\n",
    "    vertical_df : DataFrame\n",
    "    save = True일때  './output/연도별카운트/' 에 저장\n",
    "\n",
    "    '''\n",
    "    \n",
    "    df = df.fillna(\"\")\n",
    "    df['Noun'] = df['Noun'].apply(lambda x : re.sub(\"[\\[\\]' ]\",\"\",x).split(','))\n",
    "    df['Adjective'] = df['Adjective'].apply(lambda x : re.sub(\"[\\[\\]' ]\",\"\",x).split(','))\n",
    "    \n",
    "    #stopword\n",
    "    stopword = stopword +[keyword]\n",
    "    try :\n",
    "        stopword = stopword +custom_sw[keyword]\n",
    "        stopword = list(set(stopword))\n",
    "    except:\n",
    "        pass\n",
    "    \n",
    "    main_df = pd.DataFrame()\n",
    "\n",
    "    if month == True:\n",
    "        df = df[df.month.isin(months)]\n",
    "    for s_year in range(2010, 2020):\n",
    "        word_year_df = df[df['year'] == s_year]\n",
    "\n",
    "        target_df = list(itertools.chain(*word_year_df[tag]))\n",
    "        counted = pd.DataFrame(\n",
    "            pd.Series(target_df).value_counts()).reset_index()\n",
    "        counted.columns = ['name', 'value']\n",
    "\n",
    "        drop_row = counted[counted['name'].isin(stopword)].index\n",
    "        counted.drop(drop_row, inplace=True)\n",
    "        counted = counted.head(15)\n",
    "\n",
    "        counted['year'] = s_year\n",
    "        counted['rank'] = counted.value.rank(ascending=False, method='dense')\n",
    "        main_df = pd.concat([main_df, counted])\n",
    "\n",
    "    # gap\n",
    "    main_df['gap'] = 0\n",
    "    years = []\n",
    "    for one_year in range(start_year, end_year+1, gap):\n",
    "        years.append(one_year)\n",
    "        names = main_df.loc[(main_df['year'] == one_year), \"name\"].values\n",
    "        for name in names:\n",
    "            try:\n",
    "                new_rank = main_df.loc[(main_df['year'] == one_year) & (\n",
    "                    main_df['name'] == name), 'rank'].values[0]\n",
    "                old_rank = main_df.loc[(\n",
    "                    main_df['year'] == one_year-gap) & (main_df['name'] == name), 'rank'].values[0]\n",
    "                main_df.loc[(main_df['year'] == one_year) & (\n",
    "                    main_df['name'] == name), 'gap'] = old_rank-new_rank\n",
    "            except:\n",
    "                main_df.loc[(main_df['year'] == one_year) & (\n",
    "                    main_df['name'] == name), 'gap'] = \"NEW\"\n",
    "    main_df = main_df[main_df['year'].isin(years)]\n",
    "    main_df.drop('rank', axis=1, inplace=True)\n",
    "    main_df.reset_index(drop = True, inplace = True)\n",
    "    #vertical\n",
    "    vertical_df = pd.DataFrame()\n",
    "    for year in main_df.year.unique():\n",
    "        sperated = main_df[main_df.year == year].reset_index(drop = True)\n",
    "        vertical_df = pd.concat([vertical_df,sperated],axis = 1)\n",
    "    \n",
    "    #col_name_change \n",
    "    iteration = len(vertical_df.columns)//4\n",
    "    col_names = [\"키워드\",\"검색량\",\"year\",\"순위\"] * iteration\n",
    "    vertical_df.columns = col_names\n",
    "    \n",
    "    #mult_cols\n",
    "    years = vertical_df.year.iloc[0].values\n",
    "    years_cols =[]\n",
    "    for year in years:\n",
    "        years_cols.extend([year]*3)\n",
    "        \n",
    "    vertical_df =vertical_df.drop('year',axis =1)\n",
    "    origin_col = vertical_df.columns.values\n",
    "\n",
    "    vertical_df.columns =[years_cols,origin_col]\n",
    "    \n",
    "    if save == True:\n",
    "        os.makedirs('./output/검색어변화추이/',exist_ok=True)\n",
    "        vertical_df.to_csv('./output/검색어변화추이/{save_name}.csv'.format(\n",
    "            save_name=save_name), encoding='cp949', index='False')\n",
    "\n",
    "    return vertical_df"
   ]
  },
  {
   "cell_type": "code",
   "execution_count": 4,
   "metadata": {
    "ExecuteTime": {
     "end_time": "2020-06-17T06:08:43.369787Z",
     "start_time": "2020-06-17T06:08:26.690358Z"
    }
   },
   "outputs": [
    {
     "name": "stderr",
     "output_type": "stream",
     "text": [
      "C:\\Users\\User\\Anaconda3\\lib\\site-packages\\ipykernel_launcher.py:4: TqdmDeprecationWarning: This function will be removed in tqdm==5.0.0\n",
      "Please use `tqdm.notebook.tqdm` instead of `tqdm.tqdm_notebook`\n",
      "  after removing the cwd from sys.path.\n"
     ]
    },
    {
     "data": {
      "application/vnd.jupyter.widget-view+json": {
       "model_id": "572ad727d4bb40b79b8a684358745e64",
       "version_major": 2,
       "version_minor": 0
      },
      "text/plain": [
       "HBox(children=(FloatProgress(value=0.0, max=12.0), HTML(value='')))"
      ]
     },
     "metadata": {},
     "output_type": "display_data"
    },
    {
     "name": "stdout",
     "output_type": "stream",
     "text": [
      "\n"
     ]
    }
   ],
   "source": [
    "path = './output/token_통합/'\n",
    "file_list = os.listdir(path)\n",
    "\n",
    "for file in tqdm_notebook(file_list):\n",
    "    all_df = pd.read_csv(path+file)\n",
    "    keyword = file.split('_')[0].split('+')[0].replace(' ','')\n",
    "    count_word(all_df, 'Noun', keyword, sw,custom_sw, start_year=2011, end_year=2019, gap = 2, save_name = f'{keyword}_2년_gap명사')"
   ]
  },
  {
   "cell_type": "code",
   "execution_count": null,
   "metadata": {},
   "outputs": [],
   "source": []
  }
 ],
 "metadata": {
  "kernelspec": {
   "display_name": "Python 3",
   "language": "python",
   "name": "python3"
  },
  "language_info": {
   "codemirror_mode": {
    "name": "ipython",
    "version": 3
   },
   "file_extension": ".py",
   "mimetype": "text/x-python",
   "name": "python",
   "nbconvert_exporter": "python",
   "pygments_lexer": "ipython3",
   "version": "3.6.5"
  }
 },
 "nbformat": 4,
 "nbformat_minor": 2
}

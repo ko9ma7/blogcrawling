{
 "cells": [
  {
   "cell_type": "code",
   "execution_count": 1,
   "metadata": {
    "ExecuteTime": {
     "end_time": "2021-01-12T05:51:42.875713Z",
     "start_time": "2021-01-12T05:51:42.872713Z"
    }
   },
   "outputs": [],
   "source": [
    "import pandas as pd\n",
    "import numpy as np\n",
    "import os\n",
    "from tqdm import tqdm, tqdm_notebook,tqdm_pandas\n",
    "import itertools\n",
    "import re\n",
    "import json"
   ]
  },
  {
   "cell_type": "code",
   "execution_count": 2,
   "metadata": {
    "ExecuteTime": {
     "end_time": "2021-01-12T05:51:46.159209Z",
     "start_time": "2021-01-12T05:51:46.114199Z"
    }
   },
   "outputs": [],
   "source": [
    "#stopword\n",
    "sw = list(pd.read_excel(\"stopword(cp949).xlsx\",encoding = 'cp949')['불용어']) #불용어 불러오기\n",
    "#개별 불용어 \n",
    "with open('custom_sw.json') as load_file:\n",
    "    custom_sw = json.load(load_file)"
   ]
  },
  {
   "cell_type": "code",
   "execution_count": 3,
   "metadata": {
    "ExecuteTime": {
     "end_time": "2021-01-12T05:52:01.300526Z",
     "start_time": "2021-01-12T05:52:01.290524Z"
    },
    "code_folding": []
   },
   "outputs": [],
   "source": [
    "def count_word(df, tag, keyword, stopword, custom_sw, save_name=\"\", start_year=2010, end_year=2019, gap=1, month=False, months=\"\", save=True):\n",
    "    '''단어가 등장한 횟수를 카운팅하고, 각 연도별 순위변동을 표시\n",
    "    month변수를 사용하여 특정 월별로 데이터 한정 가능\n",
    "    엑셀로 바로 출력해서 사용하기 위해 multi_column으로 출력\n",
    "\n",
    "    Parameters\n",
    "    ----------\n",
    "        df (dataFrame): DataFrame\n",
    "        tag (string) : 품사지정\n",
    "        costom_sw (dict) : 카운팅에서 제외할 불용어사전\n",
    "        save_name : 저장파일이름\n",
    "        \n",
    "        start_year (int) : 순위변동 확인시 시작할 연도위치\n",
    "        end_year (int) : 순위변동 확인시 마지막 연도위치 \n",
    "        gap (int): 연도별 기간차이 지정\n",
    "        month (bool) : 특정월 추출여부\n",
    "        months (list) : 추출할 월list\n",
    "        save : 파일저장여부\n",
    "       \n",
    "    Returns\n",
    "    -------\n",
    "    vertical_df : DataFrame\n",
    "    save = True일때  './new_output/연도별카운트/' 에 저장\n",
    "\n",
    "    '''\n",
    "    \n",
    "    df = df.fillna(\"\")\n",
    "    df['Noun'] = df['Noun'].apply(lambda x : re.sub(\"[\\[\\]' ]\",\"\",x).split(','))\n",
    "    df['Adjective'] = df['Adjective'].apply(lambda x : re.sub(\"[\\[\\]' ]\",\"\",x).split(','))\n",
    "    \n",
    "    #stopword\n",
    "    stopword = stopword +[keyword]\n",
    "    try :\n",
    "        stopword = stopword +custom_sw[keyword]\n",
    "        stopword = list(set(stopword))\n",
    "    except:\n",
    "        pass\n",
    "    \n",
    "    main_df = pd.DataFrame()\n",
    "\n",
    "    if month == True:\n",
    "        df = df[df.month.isin(months)]\n",
    "    for s_year in range(2010, 2020):\n",
    "        word_year_df = df[df['year'] == s_year]\n",
    "\n",
    "        target_df = list(itertools.chain(*word_year_df[tag]))\n",
    "        counted = pd.DataFrame(\n",
    "            pd.Series(target_df).value_counts()).reset_index()\n",
    "        counted.columns = ['name', 'value']\n",
    "\n",
    "        drop_row = counted[counted['name'].isin(stopword)].index\n",
    "        counted.drop(drop_row, inplace=True)\n",
    "        counted = counted.head(15)\n",
    "\n",
    "        counted['year'] = s_year\n",
    "        counted['rank'] = counted.value.rank(ascending=False, method='dense')\n",
    "        main_df = pd.concat([main_df, counted])\n",
    "\n",
    "    # gap\n",
    "    main_df['gap'] = 0\n",
    "    years = []\n",
    "    for one_year in range(start_year, end_year+1, gap):\n",
    "        years.append(one_year)\n",
    "        names = main_df.loc[(main_df['year'] == one_year), \"name\"].values\n",
    "        for name in names:\n",
    "            try:\n",
    "                new_rank = main_df.loc[(main_df['year'] == one_year) & (\n",
    "                    main_df['name'] == name), 'rank'].values[0]\n",
    "                old_rank = main_df.loc[(\n",
    "                    main_df['year'] == one_year-gap) & (main_df['name'] == name), 'rank'].values[0]\n",
    "                main_df.loc[(main_df['year'] == one_year) & (\n",
    "                    main_df['name'] == name), 'gap'] = old_rank-new_rank\n",
    "            except:\n",
    "                main_df.loc[(main_df['year'] == one_year) & (\n",
    "                    main_df['name'] == name), 'gap'] = \"NEW\"\n",
    "    main_df = main_df[main_df['year'].isin(years)]\n",
    "    main_df.drop('rank', axis=1, inplace=True)\n",
    "    main_df.reset_index(drop = True, inplace = True)\n",
    "    #vertical\n",
    "    vertical_df = pd.DataFrame()\n",
    "    for year in main_df.year.unique():\n",
    "        sperated = main_df[main_df.year == year].reset_index(drop = True)\n",
    "        vertical_df = pd.concat([vertical_df,sperated],axis = 1)\n",
    "    \n",
    "    #col_name_change \n",
    "    iteration = len(vertical_df.columns)//4\n",
    "    col_names = [\"키워드\",\"검색량\",\"year\",\"순위\"] * iteration\n",
    "    vertical_df.columns = col_names\n",
    "    \n",
    "    #mult_cols\n",
    "    years = vertical_df.year.iloc[0].values\n",
    "    years_cols =[]\n",
    "    for year in years:\n",
    "        years_cols.extend([year]*3)\n",
    "        \n",
    "    vertical_df =vertical_df.drop('year',axis =1)\n",
    "    origin_col = vertical_df.columns.values\n",
    "\n",
    "    vertical_df.columns =[years_cols,origin_col]\n",
    "    \n",
    "    if save == True:\n",
    "        os.makedirs('./new_output/검색어변화추이/',exist_ok=True)\n",
    "        vertical_df.to_csv('./new_output/검색어변화추이/{save_name}.csv'.format(\n",
    "            save_name=save_name), encoding='cp949', index='False')\n",
    "\n",
    "    return main_df, vertical_df"
   ]
  },
  {
   "cell_type": "code",
   "execution_count": 5,
   "metadata": {
    "ExecuteTime": {
     "end_time": "2021-01-12T05:54:25.576148Z",
     "start_time": "2021-01-12T05:54:25.376940Z"
    }
   },
   "outputs": [],
   "source": [
    "all_df = pd.read_csv(path+file)"
   ]
  },
  {
   "cell_type": "code",
   "execution_count": 4,
   "metadata": {
    "ExecuteTime": {
     "end_time": "2021-01-12T05:52:02.810791Z",
     "start_time": "2021-01-12T05:52:01.818644Z"
    }
   },
   "outputs": [
    {
     "name": "stderr",
     "output_type": "stream",
     "text": [
      "C:\\Users\\User\\Anaconda3\\lib\\site-packages\\ipykernel_launcher.py:4: TqdmDeprecationWarning: This function will be removed in tqdm==5.0.0\n",
      "Please use `tqdm.notebook.tqdm` instead of `tqdm.tqdm_notebook`\n",
      "  after removing the cwd from sys.path.\n"
     ]
    },
    {
     "data": {
      "application/vnd.jupyter.widget-view+json": {
       "model_id": "100598e67faa4ee1b985b7a7a783bf3d",
       "version_major": 2,
       "version_minor": 0
      },
      "text/plain": [
       "HBox(children=(FloatProgress(value=0.0, max=1.0), HTML(value='')))"
      ]
     },
     "metadata": {},
     "output_type": "display_data"
    },
    {
     "name": "stdout",
     "output_type": "stream",
     "text": [
      "\n"
     ]
    },
    {
     "name": "stderr",
     "output_type": "stream",
     "text": [
      "C:\\Users\\User\\Anaconda3\\lib\\site-packages\\ipykernel_launcher.py:48: DeprecationWarning: The default dtype for empty Series will be 'object' instead of 'float64' in a future version. Specify a dtype explicitly to silence this warning.\n"
     ]
    },
    {
     "ename": "AttributeError",
     "evalue": "'DataFrame' object has no attribute 'year'",
     "output_type": "error",
     "traceback": [
      "\u001b[1;31m---------------------------------------------------------------------------\u001b[0m",
      "\u001b[1;31mAttributeError\u001b[0m                            Traceback (most recent call last)",
      "\u001b[1;32m<ipython-input-4-f998aee7125e>\u001b[0m in \u001b[0;36m<module>\u001b[1;34m()\u001b[0m\n\u001b[0;32m      5\u001b[0m     \u001b[0mall_df\u001b[0m \u001b[1;33m=\u001b[0m \u001b[0mpd\u001b[0m\u001b[1;33m.\u001b[0m\u001b[0mread_csv\u001b[0m\u001b[1;33m(\u001b[0m\u001b[0mpath\u001b[0m\u001b[1;33m+\u001b[0m\u001b[0mfile\u001b[0m\u001b[1;33m)\u001b[0m\u001b[1;33m\u001b[0m\u001b[0m\n\u001b[0;32m      6\u001b[0m     \u001b[0mkeyword\u001b[0m \u001b[1;33m=\u001b[0m \u001b[0mfile\u001b[0m\u001b[1;33m.\u001b[0m\u001b[0msplit\u001b[0m\u001b[1;33m(\u001b[0m\u001b[1;34m'_'\u001b[0m\u001b[1;33m)\u001b[0m\u001b[1;33m[\u001b[0m\u001b[1;36m0\u001b[0m\u001b[1;33m]\u001b[0m\u001b[1;33m.\u001b[0m\u001b[0msplit\u001b[0m\u001b[1;33m(\u001b[0m\u001b[1;34m'+'\u001b[0m\u001b[1;33m)\u001b[0m\u001b[1;33m[\u001b[0m\u001b[1;36m0\u001b[0m\u001b[1;33m]\u001b[0m\u001b[1;33m.\u001b[0m\u001b[0mreplace\u001b[0m\u001b[1;33m(\u001b[0m\u001b[1;34m' '\u001b[0m\u001b[1;33m,\u001b[0m\u001b[1;34m''\u001b[0m\u001b[1;33m)\u001b[0m\u001b[1;33m\u001b[0m\u001b[0m\n\u001b[1;32m----> 7\u001b[1;33m     \u001b[0mcount_word\u001b[0m\u001b[1;33m(\u001b[0m\u001b[0mall_df\u001b[0m\u001b[1;33m,\u001b[0m \u001b[1;34m'Noun'\u001b[0m\u001b[1;33m,\u001b[0m \u001b[0mkeyword\u001b[0m\u001b[1;33m,\u001b[0m \u001b[0msw\u001b[0m\u001b[1;33m,\u001b[0m\u001b[0mcustom_sw\u001b[0m\u001b[1;33m,\u001b[0m \u001b[0mstart_year\u001b[0m\u001b[1;33m=\u001b[0m\u001b[1;36m2011\u001b[0m\u001b[1;33m,\u001b[0m \u001b[0mend_year\u001b[0m\u001b[1;33m=\u001b[0m\u001b[1;36m2019\u001b[0m\u001b[1;33m,\u001b[0m \u001b[0mgap\u001b[0m \u001b[1;33m=\u001b[0m \u001b[1;36m2\u001b[0m\u001b[1;33m,\u001b[0m \u001b[0msave_name\u001b[0m \u001b[1;33m=\u001b[0m \u001b[1;34mf'{keyword}_2년_gap명사'\u001b[0m\u001b[1;33m)\u001b[0m\u001b[1;33m\u001b[0m\u001b[0m\n\u001b[0m",
      "\u001b[1;32m<ipython-input-3-c6149c3292ce>\u001b[0m in \u001b[0;36mcount_word\u001b[1;34m(df, tag, keyword, stopword, custom_sw, save_name, start_year, end_year, gap, month, months, save)\u001b[0m\n\u001b[0;32m     89\u001b[0m \u001b[1;33m\u001b[0m\u001b[0m\n\u001b[0;32m     90\u001b[0m     \u001b[1;31m#mult_cols\u001b[0m\u001b[1;33m\u001b[0m\u001b[1;33m\u001b[0m\u001b[0m\n\u001b[1;32m---> 91\u001b[1;33m     \u001b[0myears\u001b[0m \u001b[1;33m=\u001b[0m \u001b[0mvertical_df\u001b[0m\u001b[1;33m.\u001b[0m\u001b[0myear\u001b[0m\u001b[1;33m.\u001b[0m\u001b[0miloc\u001b[0m\u001b[1;33m[\u001b[0m\u001b[1;36m0\u001b[0m\u001b[1;33m]\u001b[0m\u001b[1;33m.\u001b[0m\u001b[0mvalues\u001b[0m\u001b[1;33m\u001b[0m\u001b[0m\n\u001b[0m\u001b[0;32m     92\u001b[0m     \u001b[0myears_cols\u001b[0m \u001b[1;33m=\u001b[0m\u001b[1;33m[\u001b[0m\u001b[1;33m]\u001b[0m\u001b[1;33m\u001b[0m\u001b[0m\n\u001b[0;32m     93\u001b[0m     \u001b[1;32mfor\u001b[0m \u001b[0myear\u001b[0m \u001b[1;32min\u001b[0m \u001b[0myears\u001b[0m\u001b[1;33m:\u001b[0m\u001b[1;33m\u001b[0m\u001b[0m\n",
      "\u001b[1;32m~\\Anaconda3\\lib\\site-packages\\pandas\\core\\generic.py\u001b[0m in \u001b[0;36m__getattr__\u001b[1;34m(self, name)\u001b[0m\n\u001b[0;32m   5272\u001b[0m             \u001b[1;32mif\u001b[0m \u001b[0mself\u001b[0m\u001b[1;33m.\u001b[0m\u001b[0m_info_axis\u001b[0m\u001b[1;33m.\u001b[0m\u001b[0m_can_hold_identifiers_and_holds_name\u001b[0m\u001b[1;33m(\u001b[0m\u001b[0mname\u001b[0m\u001b[1;33m)\u001b[0m\u001b[1;33m:\u001b[0m\u001b[1;33m\u001b[0m\u001b[0m\n\u001b[0;32m   5273\u001b[0m                 \u001b[1;32mreturn\u001b[0m \u001b[0mself\u001b[0m\u001b[1;33m[\u001b[0m\u001b[0mname\u001b[0m\u001b[1;33m]\u001b[0m\u001b[1;33m\u001b[0m\u001b[0m\n\u001b[1;32m-> 5274\u001b[1;33m             \u001b[1;32mreturn\u001b[0m \u001b[0mobject\u001b[0m\u001b[1;33m.\u001b[0m\u001b[0m__getattribute__\u001b[0m\u001b[1;33m(\u001b[0m\u001b[0mself\u001b[0m\u001b[1;33m,\u001b[0m \u001b[0mname\u001b[0m\u001b[1;33m)\u001b[0m\u001b[1;33m\u001b[0m\u001b[0m\n\u001b[0m\u001b[0;32m   5275\u001b[0m \u001b[1;33m\u001b[0m\u001b[0m\n\u001b[0;32m   5276\u001b[0m     \u001b[1;32mdef\u001b[0m \u001b[0m__setattr__\u001b[0m\u001b[1;33m(\u001b[0m\u001b[0mself\u001b[0m\u001b[1;33m,\u001b[0m \u001b[0mname\u001b[0m\u001b[1;33m:\u001b[0m \u001b[0mstr\u001b[0m\u001b[1;33m,\u001b[0m \u001b[0mvalue\u001b[0m\u001b[1;33m)\u001b[0m \u001b[1;33m->\u001b[0m \u001b[1;32mNone\u001b[0m\u001b[1;33m:\u001b[0m\u001b[1;33m\u001b[0m\u001b[0m\n",
      "\u001b[1;31mAttributeError\u001b[0m: 'DataFrame' object has no attribute 'year'"
     ]
    }
   ],
   "source": [
    "path = './new_output/token_통합/'\n",
    "file_list = os.listdir(path)\n",
    "\n",
    "for file in tqdm_notebook(file_list):\n",
    "    all_df = pd.read_csv(path+file)\n",
    "    keyword = file.split('_')[0].split('+')[0].replace(' ','')\n",
    "    count_word(all_df, 'Noun', keyword, sw,custom_sw, start_year=2011, end_year=2019, gap = 2, save_name = f'{keyword}_2년_gap명사')"
   ]
  },
  {
   "cell_type": "code",
   "execution_count": 5,
   "metadata": {
    "ExecuteTime": {
     "end_time": "2021-01-07T04:04:01.076058Z",
     "start_time": "2021-01-07T04:04:01.068055Z"
    }
   },
   "outputs": [],
   "source": [
    "def count_word(df, tag, keyword, stopword, custom_sw, save_name=\"\", start_year=2010, end_year=2019, gap=1, month=False, months=\"\", save=True):\n",
    "    '''단어가 등장한 횟수를 카운팅하고, 각 연도별 순위변동을 표시\n",
    "    month변수를 사용하여 특정 월별로 데이터 한정 가능\n",
    "    엑셀로 바로 출력해서 사용하기 위해 multi_column으로 출력\n",
    "\n",
    "    Parameters\n",
    "    ----------\n",
    "        df (dataFrame): DataFrame\n",
    "        tag (string) : 품사지정\n",
    "        costom_sw (dict) : 카운팅에서 제외할 불용어사전\n",
    "        save_name : 저장파일이름\n",
    "        \n",
    "        start_year (int) : 순위변동 확인시 시작할 연도위치\n",
    "        end_year (int) : 순위변동 확인시 마지막 연도위치 \n",
    "        gap (int): 연도별 기간차이 지정\n",
    "        month (bool) : 특정월 추출여부\n",
    "        months (list) : 추출할 월list\n",
    "        save : 파일저장여부\n",
    "       \n",
    "    Returns\n",
    "    -------\n",
    "    vertical_df : DataFrame\n",
    "    save = True일때  './output/연도별카운트/' 에 저장\n",
    "\n",
    "    '''\n",
    "    \n",
    "    df = df.fillna(\"\")\n",
    "    df['Noun'] = df['Noun'].apply(lambda x : re.sub(\"[\\[\\]' ]\",\"\",x).split(','))\n",
    "    df['Adjective'] = df['Adjective'].apply(lambda x : re.sub(\"[\\[\\]' ]\",\"\",x).split(','))\n",
    "    \n",
    "    #stopword\n",
    "    stopword = stopword +[keyword]\n",
    "    try :\n",
    "        stopword = stopword +custom_sw[keyword]\n",
    "        stopword = list(set(stopword))\n",
    "    except:\n",
    "        pass\n",
    "    \n",
    "    main_df = pd.DataFrame()\n",
    "\n",
    "    if month == True:\n",
    "        df = df[df.month.isin(months)]\n",
    "    for s_year in range(2010, 2020):\n",
    "        word_year_df = df[df['year'] == s_year]\n",
    "\n",
    "        target_df = list(itertools.chain(*word_year_df[tag]))\n",
    "        counted = pd.DataFrame(\n",
    "            pd.Series(target_df).value_counts()).reset_index()\n",
    "        counted.columns = ['name', 'value']\n",
    "\n",
    "        drop_row = counted[counted['name'].isin(stopword)].index\n",
    "        counted.drop(drop_row, inplace=True)\n",
    "        counted = counted.head(40)\n",
    "\n",
    "        counted['year'] = s_year\n",
    "        counted['rank'] = counted.value.rank(ascending=False, method='dense')\n",
    "        main_df = pd.concat([main_df, counted])\n",
    "\n",
    "    # gap\n",
    "    main_df['gap'] = 0\n",
    "    years = []\n",
    "    for one_year in range(start_year, end_year+1, gap):\n",
    "        years.append(one_year)\n",
    "        names = main_df.loc[(main_df['year'] == one_year), \"name\"].values\n",
    "        for name in names:\n",
    "            try:\n",
    "                new_rank = main_df.loc[(main_df['year'] == one_year) & (\n",
    "                    main_df['name'] == name), 'rank'].values[0]\n",
    "                old_rank = main_df.loc[(\n",
    "                    main_df['year'] == one_year-gap) & (main_df['name'] == name), 'rank'].values[0]\n",
    "                main_df.loc[(main_df['year'] == one_year) & (\n",
    "                    main_df['name'] == name), 'gap'] = old_rank-new_rank\n",
    "            except:\n",
    "                main_df.loc[(main_df['year'] == one_year) & (\n",
    "                    main_df['name'] == name), 'gap'] = \"NEW\"\n",
    "    main_df = main_df[main_df['year'].isin(years)]\n",
    "#     main_df.drop('rank', axis=1, inplace=True)\n",
    "    main_df.reset_index(drop = True, inplace = True)\n",
    "#     #vertical\n",
    "#     vertical_df = pd.DataFrame()\n",
    "#     for year in main_df.year.unique():\n",
    "#         sperated = main_df[main_df.year == year].reset_index(drop = True)\n",
    "#         vertical_df = pd.concat([vertical_df,sperated],axis = 1)\n",
    "    \n",
    "#     #col_name_change \n",
    "#     iteration = len(vertical_df.columns)//4\n",
    "#     col_names = [\"키워드\",\"검색량\",\"year\",\"순위\"] * iteration\n",
    "#     vertical_df.columns = col_names\n",
    "    \n",
    "#     #mult_cols\n",
    "#     years = vertical_df.year.iloc[0].values\n",
    "#     years_cols =[]\n",
    "#     for year in years:\n",
    "#         years_cols.extend([year]*3)\n",
    "        \n",
    "#     vertical_df =vertical_df.drop('year',axis =1)\n",
    "#     origin_col = vertical_df.columns.values\n",
    "\n",
    "#     vertical_df.columns =[years_cols,origin_col]\n",
    "    \n",
    "#     if save == True:\n",
    "#         os.makedirs('./output/검색어변화추이/',exist_ok=True)\n",
    "#         vertical_df.to_csv('./output/검색어변화추이/{save_name}.csv'.format(\n",
    "#             save_name=save_name), encoding='cp949', index='False')\n",
    "\n",
    "    return main_df"
   ]
  },
  {
   "cell_type": "code",
   "execution_count": 6,
   "metadata": {
    "ExecuteTime": {
     "end_time": "2021-01-07T04:04:29.884497Z",
     "start_time": "2021-01-07T04:04:01.098063Z"
    }
   },
   "outputs": [
    {
     "name": "stderr",
     "output_type": "stream",
     "text": [
      "C:\\Users\\User\\Anaconda3\\lib\\site-packages\\ipykernel_launcher.py:5: TqdmDeprecationWarning: This function will be removed in tqdm==5.0.0\n",
      "Please use `tqdm.notebook.tqdm` instead of `tqdm.tqdm_notebook`\n",
      "  \"\"\"\n"
     ]
    },
    {
     "data": {
      "application/vnd.jupyter.widget-view+json": {
       "model_id": "ffba3235e0bd4756ab69c18f20fe01ed",
       "version_major": 2,
       "version_minor": 0
      },
      "text/plain": [
       "HBox(children=(FloatProgress(value=0.0, max=16.0), HTML(value='')))"
      ]
     },
     "metadata": {},
     "output_type": "display_data"
    },
    {
     "name": "stdout",
     "output_type": "stream",
     "text": [
      "\n"
     ]
    },
    {
     "ename": "KeyboardInterrupt",
     "evalue": "",
     "output_type": "error",
     "traceback": [
      "\u001b[1;31m---------------------------------------------------------------------------\u001b[0m",
      "\u001b[1;31mKeyboardInterrupt\u001b[0m                         Traceback (most recent call last)",
      "\u001b[1;32m<ipython-input-6-312e5ff7d6fc>\u001b[0m in \u001b[0;36m<module>\u001b[1;34m()\u001b[0m\n\u001b[0;32m      7\u001b[0m     \u001b[0mkeyword\u001b[0m \u001b[1;33m=\u001b[0m \u001b[0mfile\u001b[0m\u001b[1;33m.\u001b[0m\u001b[0msplit\u001b[0m\u001b[1;33m(\u001b[0m\u001b[1;34m'_'\u001b[0m\u001b[1;33m)\u001b[0m\u001b[1;33m[\u001b[0m\u001b[1;36m0\u001b[0m\u001b[1;33m]\u001b[0m\u001b[1;33m.\u001b[0m\u001b[0msplit\u001b[0m\u001b[1;33m(\u001b[0m\u001b[1;34m'+'\u001b[0m\u001b[1;33m)\u001b[0m\u001b[1;33m[\u001b[0m\u001b[1;36m0\u001b[0m\u001b[1;33m]\u001b[0m\u001b[1;33m.\u001b[0m\u001b[0mreplace\u001b[0m\u001b[1;33m(\u001b[0m\u001b[1;34m' '\u001b[0m\u001b[1;33m,\u001b[0m\u001b[1;34m''\u001b[0m\u001b[1;33m)\u001b[0m\u001b[1;33m\u001b[0m\u001b[0m\n\u001b[0;32m      8\u001b[0m     main_df= count_word(all_df, 'Noun', keyword,sw,custom_sw, start_year=2011, end_year=2019, gap = 1, save_name = f'{keyword}_2년_gap명사',\n\u001b[1;32m----> 9\u001b[1;33m                                      save=False)\n\u001b[0m\u001b[0;32m     10\u001b[0m     \u001b[1;31m#그래프\u001b[0m\u001b[1;33m\u001b[0m\u001b[1;33m\u001b[0m\u001b[0m\n\u001b[0;32m     11\u001b[0m     \u001b[0mmain_df\u001b[0m\u001b[1;33m.\u001b[0m\u001b[0myear\u001b[0m \u001b[1;33m=\u001b[0m \u001b[0mmain_df\u001b[0m\u001b[1;33m.\u001b[0m\u001b[0myear\u001b[0m\u001b[1;33m.\u001b[0m\u001b[0mastype\u001b[0m\u001b[1;33m(\u001b[0m\u001b[0mint\u001b[0m\u001b[1;33m)\u001b[0m\u001b[1;33m\u001b[0m\u001b[0m\n",
      "\u001b[1;32m<ipython-input-5-232ccefea61a>\u001b[0m in \u001b[0;36mcount_word\u001b[1;34m(df, tag, keyword, stopword, custom_sw, save_name, start_year, end_year, gap, month, months, save)\u001b[0m\n\u001b[0;32m     26\u001b[0m \u001b[1;33m\u001b[0m\u001b[0m\n\u001b[0;32m     27\u001b[0m     \u001b[0mdf\u001b[0m \u001b[1;33m=\u001b[0m \u001b[0mdf\u001b[0m\u001b[1;33m.\u001b[0m\u001b[0mfillna\u001b[0m\u001b[1;33m(\u001b[0m\u001b[1;34m\"\"\u001b[0m\u001b[1;33m)\u001b[0m\u001b[1;33m\u001b[0m\u001b[0m\n\u001b[1;32m---> 28\u001b[1;33m     \u001b[0mdf\u001b[0m\u001b[1;33m[\u001b[0m\u001b[1;34m'Noun'\u001b[0m\u001b[1;33m]\u001b[0m \u001b[1;33m=\u001b[0m \u001b[0mdf\u001b[0m\u001b[1;33m[\u001b[0m\u001b[1;34m'Noun'\u001b[0m\u001b[1;33m]\u001b[0m\u001b[1;33m.\u001b[0m\u001b[0mapply\u001b[0m\u001b[1;33m(\u001b[0m\u001b[1;32mlambda\u001b[0m \u001b[0mx\u001b[0m \u001b[1;33m:\u001b[0m \u001b[0mre\u001b[0m\u001b[1;33m.\u001b[0m\u001b[0msub\u001b[0m\u001b[1;33m(\u001b[0m\u001b[1;34m\"[\\[\\]' ]\"\u001b[0m\u001b[1;33m,\u001b[0m\u001b[1;34m\"\"\u001b[0m\u001b[1;33m,\u001b[0m\u001b[0mx\u001b[0m\u001b[1;33m)\u001b[0m\u001b[1;33m.\u001b[0m\u001b[0msplit\u001b[0m\u001b[1;33m(\u001b[0m\u001b[1;34m','\u001b[0m\u001b[1;33m)\u001b[0m\u001b[1;33m)\u001b[0m\u001b[1;33m\u001b[0m\u001b[0m\n\u001b[0m\u001b[0;32m     29\u001b[0m     \u001b[0mdf\u001b[0m\u001b[1;33m[\u001b[0m\u001b[1;34m'Adjective'\u001b[0m\u001b[1;33m]\u001b[0m \u001b[1;33m=\u001b[0m \u001b[0mdf\u001b[0m\u001b[1;33m[\u001b[0m\u001b[1;34m'Adjective'\u001b[0m\u001b[1;33m]\u001b[0m\u001b[1;33m.\u001b[0m\u001b[0mapply\u001b[0m\u001b[1;33m(\u001b[0m\u001b[1;32mlambda\u001b[0m \u001b[0mx\u001b[0m \u001b[1;33m:\u001b[0m \u001b[0mre\u001b[0m\u001b[1;33m.\u001b[0m\u001b[0msub\u001b[0m\u001b[1;33m(\u001b[0m\u001b[1;34m\"[\\[\\]' ]\"\u001b[0m\u001b[1;33m,\u001b[0m\u001b[1;34m\"\"\u001b[0m\u001b[1;33m,\u001b[0m\u001b[0mx\u001b[0m\u001b[1;33m)\u001b[0m\u001b[1;33m.\u001b[0m\u001b[0msplit\u001b[0m\u001b[1;33m(\u001b[0m\u001b[1;34m','\u001b[0m\u001b[1;33m)\u001b[0m\u001b[1;33m)\u001b[0m\u001b[1;33m\u001b[0m\u001b[0m\n\u001b[0;32m     30\u001b[0m \u001b[1;33m\u001b[0m\u001b[0m\n",
      "\u001b[1;32m~\\Anaconda3\\lib\\site-packages\\pandas\\core\\series.py\u001b[0m in \u001b[0;36mapply\u001b[1;34m(self, func, convert_dtype, args, **kwds)\u001b[0m\n\u001b[0;32m   3846\u001b[0m             \u001b[1;32melse\u001b[0m\u001b[1;33m:\u001b[0m\u001b[1;33m\u001b[0m\u001b[0m\n\u001b[0;32m   3847\u001b[0m                 \u001b[0mvalues\u001b[0m \u001b[1;33m=\u001b[0m \u001b[0mself\u001b[0m\u001b[1;33m.\u001b[0m\u001b[0mastype\u001b[0m\u001b[1;33m(\u001b[0m\u001b[0mobject\u001b[0m\u001b[1;33m)\u001b[0m\u001b[1;33m.\u001b[0m\u001b[0mvalues\u001b[0m\u001b[1;33m\u001b[0m\u001b[0m\n\u001b[1;32m-> 3848\u001b[1;33m                 \u001b[0mmapped\u001b[0m \u001b[1;33m=\u001b[0m \u001b[0mlib\u001b[0m\u001b[1;33m.\u001b[0m\u001b[0mmap_infer\u001b[0m\u001b[1;33m(\u001b[0m\u001b[0mvalues\u001b[0m\u001b[1;33m,\u001b[0m \u001b[0mf\u001b[0m\u001b[1;33m,\u001b[0m \u001b[0mconvert\u001b[0m\u001b[1;33m=\u001b[0m\u001b[0mconvert_dtype\u001b[0m\u001b[1;33m)\u001b[0m\u001b[1;33m\u001b[0m\u001b[0m\n\u001b[0m\u001b[0;32m   3849\u001b[0m \u001b[1;33m\u001b[0m\u001b[0m\n\u001b[0;32m   3850\u001b[0m         \u001b[1;32mif\u001b[0m \u001b[0mlen\u001b[0m\u001b[1;33m(\u001b[0m\u001b[0mmapped\u001b[0m\u001b[1;33m)\u001b[0m \u001b[1;32mand\u001b[0m \u001b[0misinstance\u001b[0m\u001b[1;33m(\u001b[0m\u001b[0mmapped\u001b[0m\u001b[1;33m[\u001b[0m\u001b[1;36m0\u001b[0m\u001b[1;33m]\u001b[0m\u001b[1;33m,\u001b[0m \u001b[0mSeries\u001b[0m\u001b[1;33m)\u001b[0m\u001b[1;33m:\u001b[0m\u001b[1;33m\u001b[0m\u001b[0m\n",
      "\u001b[1;32mpandas\\_libs\\lib.pyx\u001b[0m in \u001b[0;36mpandas._libs.lib.map_infer\u001b[1;34m()\u001b[0m\n",
      "\u001b[1;32m<ipython-input-5-232ccefea61a>\u001b[0m in \u001b[0;36m<lambda>\u001b[1;34m(x)\u001b[0m\n\u001b[0;32m     26\u001b[0m \u001b[1;33m\u001b[0m\u001b[0m\n\u001b[0;32m     27\u001b[0m     \u001b[0mdf\u001b[0m \u001b[1;33m=\u001b[0m \u001b[0mdf\u001b[0m\u001b[1;33m.\u001b[0m\u001b[0mfillna\u001b[0m\u001b[1;33m(\u001b[0m\u001b[1;34m\"\"\u001b[0m\u001b[1;33m)\u001b[0m\u001b[1;33m\u001b[0m\u001b[0m\n\u001b[1;32m---> 28\u001b[1;33m     \u001b[0mdf\u001b[0m\u001b[1;33m[\u001b[0m\u001b[1;34m'Noun'\u001b[0m\u001b[1;33m]\u001b[0m \u001b[1;33m=\u001b[0m \u001b[0mdf\u001b[0m\u001b[1;33m[\u001b[0m\u001b[1;34m'Noun'\u001b[0m\u001b[1;33m]\u001b[0m\u001b[1;33m.\u001b[0m\u001b[0mapply\u001b[0m\u001b[1;33m(\u001b[0m\u001b[1;32mlambda\u001b[0m \u001b[0mx\u001b[0m \u001b[1;33m:\u001b[0m \u001b[0mre\u001b[0m\u001b[1;33m.\u001b[0m\u001b[0msub\u001b[0m\u001b[1;33m(\u001b[0m\u001b[1;34m\"[\\[\\]' ]\"\u001b[0m\u001b[1;33m,\u001b[0m\u001b[1;34m\"\"\u001b[0m\u001b[1;33m,\u001b[0m\u001b[0mx\u001b[0m\u001b[1;33m)\u001b[0m\u001b[1;33m.\u001b[0m\u001b[0msplit\u001b[0m\u001b[1;33m(\u001b[0m\u001b[1;34m','\u001b[0m\u001b[1;33m)\u001b[0m\u001b[1;33m)\u001b[0m\u001b[1;33m\u001b[0m\u001b[0m\n\u001b[0m\u001b[0;32m     29\u001b[0m     \u001b[0mdf\u001b[0m\u001b[1;33m[\u001b[0m\u001b[1;34m'Adjective'\u001b[0m\u001b[1;33m]\u001b[0m \u001b[1;33m=\u001b[0m \u001b[0mdf\u001b[0m\u001b[1;33m[\u001b[0m\u001b[1;34m'Adjective'\u001b[0m\u001b[1;33m]\u001b[0m\u001b[1;33m.\u001b[0m\u001b[0mapply\u001b[0m\u001b[1;33m(\u001b[0m\u001b[1;32mlambda\u001b[0m \u001b[0mx\u001b[0m \u001b[1;33m:\u001b[0m \u001b[0mre\u001b[0m\u001b[1;33m.\u001b[0m\u001b[0msub\u001b[0m\u001b[1;33m(\u001b[0m\u001b[1;34m\"[\\[\\]' ]\"\u001b[0m\u001b[1;33m,\u001b[0m\u001b[1;34m\"\"\u001b[0m\u001b[1;33m,\u001b[0m\u001b[0mx\u001b[0m\u001b[1;33m)\u001b[0m\u001b[1;33m.\u001b[0m\u001b[0msplit\u001b[0m\u001b[1;33m(\u001b[0m\u001b[1;34m','\u001b[0m\u001b[1;33m)\u001b[0m\u001b[1;33m)\u001b[0m\u001b[1;33m\u001b[0m\u001b[0m\n\u001b[0;32m     30\u001b[0m \u001b[1;33m\u001b[0m\u001b[0m\n",
      "\u001b[1;31mKeyboardInterrupt\u001b[0m: "
     ]
    }
   ],
   "source": [
    "#잠시 rank용 \n",
    "path = './output/token_통합/'\n",
    "file_list = os.listdir(path)\n",
    "\n",
    "for file in tqdm_notebook(file_list):\n",
    "    all_df = pd.read_csv(path+file)\n",
    "    keyword = file.split('_')[0].split('+')[0].replace(' ','')\n",
    "    main_df= count_word(all_df, 'Noun', keyword,sw,custom_sw, start_year=2011, end_year=2019, gap = 1, save_name = f'{keyword}_2년_gap명사',\n",
    "                                     save=False)\n",
    "    #그래프\n",
    "    main_df.year = main_df.year.astype(int)\n",
    "    name_2019 = main_df[(main_df.year == 2019)&(main_df['rank'] <= 10)].name.values\n",
    "\n",
    "    plt.figure(figsize=(10,7))\n",
    "    sns.lineplot(x = 'year',y = 'rank', hue = 'name', data = main_df[main_df.name.isin(name_2019)],palette='tab20')\n",
    "    plt.ylim((15,0))\n",
    "    plt.legend(loc = 'center left', bbox_to_anchor = (1,0.5),fontsize= 12)\n",
    "    plt.savefig(f'./output/검색어변화추이/{keyword}_검색어추이.png', bbox_inches='tight')\n",
    "    plt.close()"
   ]
  },
  {
   "cell_type": "code",
   "execution_count": null,
   "metadata": {
    "ExecuteTime": {
     "end_time": "2021-01-07T04:04:29.887497Z",
     "start_time": "2021-01-07T04:03:10.098Z"
    }
   },
   "outputs": [],
   "source": [
    "target = main_df[main_df.name.isin(name_2019)]"
   ]
  },
  {
   "cell_type": "code",
   "execution_count": 7,
   "metadata": {
    "ExecuteTime": {
     "end_time": "2020-08-10T05:40:06.198391Z",
     "start_time": "2020-08-10T05:40:05.682275Z"
    }
   },
   "outputs": [
    {
     "data": {
      "image/png": "[encoded data removed]",
      "text/plain": [
       "<Figure size 720x504 with 1 Axes>"
      ]
     },
     "metadata": {},
     "output_type": "display_data"
    }
   ],
   "source": [
    "main_df.year = main_df.year.astype(int)\n",
    "name_2019 = main_df[(main_df.year == 2019)&(main_df['rank'] <= 10)].name.values\n",
    "\n",
    "plt.figure(figsize=(10,7))\n",
    "sns.lineplot(x = 'year',y = 'rank', hue = 'name', data = target,\n",
    "             palette='tab20')\n",
    "plt.ylim((15,0))\n",
    "plt.legend(loc = 'center left', bbox_to_anchor = (1,0.5),fontsize= 14)\n",
    "plt.savefig(f'./output/검색어변화추이/{keyword}_검색어추이.png', bbox_inches='tight')\n",
    "# plt.close()"
   ]
  },
  {
   "cell_type": "code",
   "execution_count": null,
   "metadata": {},
   "outputs": [],
   "source": []
  }
 ],
 "metadata": {
  "kernelspec": {
   "display_name": "Python 3",
   "language": "python",
   "name": "python3"
  },
  "language_info": {
   "codemirror_mode": {
    "name": "ipython",
    "version": 3
   },
   "file_extension": ".py",
   "mimetype": "text/x-python",
   "name": "python",
   "nbconvert_exporter": "python",
   "pygments_lexer": "ipython3",
   "version": "3.6.5"
  },
  "toc": {
   "base_numbering": 1,
   "nav_menu": {},
   "number_sections": true,
   "sideBar": true,
   "skip_h1_title": false,
   "title_cell": "Table of Contents",
   "title_sidebar": "Contents",
   "toc_cell": false,
   "toc_position": {},
   "toc_section_display": true,
   "toc_window_display": false
  },
  "varInspector": {
   "cols": {
    "lenName": 16,
    "lenType": 16,
    "lenVar": 40
   },
   "kernels_config": {
    "python": {
     "delete_cmd_postfix": "",
     "delete_cmd_prefix": "del ",
     "library": "var_list.py",
     "varRefreshCmd": "print(var_dic_list())"
    },
    "r": {
     "delete_cmd_postfix": ") ",
     "delete_cmd_prefix": "rm(",
     "library": "var_list.r",
     "varRefreshCmd": "cat(var_dic_list()) "
    }
   },
   "types_to_exclude": [
    "module",
    "function",
    "builtin_function_or_method",
    "instance",
    "_Feature"
   ],
   "window_display": false
  }
 },
 "nbformat": 4,
 "nbformat_minor": 2
}

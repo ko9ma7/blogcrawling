{
 "cells": [
  {
   "cell_type": "code",
   "execution_count": 1,
   "metadata": {
    "ExecuteTime": {
     "end_time": "2021-01-13T06:15:01.941189Z",
     "start_time": "2021-01-13T06:15:01.939189Z"
    }
   },
   "outputs": [],
   "source": [
    "import pandas as pd\n",
    "import numpy as np\n",
    "import os\n",
    "from tqdm import tqdm_notebook\n",
    "from glob import glob"
   ]
  },
  {
   "cell_type": "code",
   "execution_count": 2,
   "metadata": {
    "ExecuteTime": {
     "end_time": "2021-01-13T06:15:02.060216Z",
     "start_time": "2021-01-13T06:15:01.942190Z"
    }
   },
   "outputs": [],
   "source": [
    "filter_word = pd.read_excel('filter_word.xlsx')['filter_word'].values\n",
    "path = 'new_output'"
   ]
  },
  {
   "cell_type": "code",
   "execution_count": 5,
   "metadata": {
    "ExecuteTime": {
     "end_time": "2021-01-13T06:15:59.553565Z",
     "start_time": "2021-01-13T06:15:59.545564Z"
    },
    "scrolled": false
   },
   "outputs": [],
   "source": [
    "def crawling_merge(path, verbose=True, not_all=False):\n",
    "    '''크롤링된 keyword별 폴더가 위치한 경로를 입력하면, 각 폴더에 있는 csv파일을 통합하고 통합폴더에 저장한다.\n",
    "    \n",
    "    Parameters\n",
    "    ----------\n",
    "    path(string) : 통합결과를 넣을 결과폴더 경로\n",
    "    verbose(bool) : default = True, 각 폴더 통합진행과정 출력\n",
    "    not_all(bool) : default = False, 전체폴더가 아닌 일부 사용시\n",
    "    \n",
    "    Returns\n",
    "    --------\n",
    "    result_df : DataFrame\n",
    "        각 keyword별 전후차이 비교\n",
    "    통합폴더에 각 keyword별로 저장 ex) f\"{키워드}_통합_{전체 row수}.csv\"\n",
    "    \n",
    "    '''\n",
    "    #저장위치\n",
    "    os.makedirs(f'./{path}/크롤링_통합/',exist_ok=True)\n",
    "    \n",
    "    result_dict = dict()\n",
    "    result_dict['keyword'] = []\n",
    "    result_dict['before_len'] = []\n",
    "    result_dict['after_len'] = []\n",
    "    \n",
    "    \n",
    "    #크롤링 내 키워드 폴더명 리스트\n",
    "    folder_list = os.listdir(f'./{path}/크롤링')\n",
    "\n",
    "    for folder in tqdm_notebook(folder_list,desc = '전체'):\n",
    "        file_list = os.listdir(f'./{path}/크롤링/{folder}')\n",
    "        files = glob(f'./{path}/크롤링/{folder}/*.csv')\n",
    "        all_df = pd.DataFrame()\n",
    "        for file in files:\n",
    "            read_file = pd.read_csv(file)\n",
    "            all_df = pd.concat([all_df,read_file])\n",
    "        before_len = all_df.shape[0] # before\n",
    "\n",
    "        #필터링\n",
    "        all_df = all_df.fillna('')\n",
    "        all_df = all_df.drop_duplicates('full_text') #중복제거\n",
    "        text_filtered = all_df[~(all_df.full_text.apply(lambda x : any(ele in x for ele in filter_word)))] #text 필터링\n",
    "        clean_file = text_filtered[~(text_filtered.title.apply(lambda x : any(ele in x for ele in filter_word)))] #title 필터링\n",
    "        after_len = clean_file.shape[0] #after\n",
    "\n",
    "        #연도 달 추가\n",
    "        clean_file['year'] = clean_file.post_dates.apply(lambda dates : int(dates.split(\"-\")[0]))\n",
    "        clean_file['month'] = clean_file.post_dates.apply(lambda dates : int(dates.split(\"-\")[1]))\n",
    "        \n",
    "        #저장 \n",
    "        clean_file.to_csv(f'./{path}/크롤링_통합/{folder}_통합_{after_len}.csv',index = False)\n",
    "        \n",
    "        #결과저장\n",
    "        result_dict['keyword'].append(folder)\n",
    "        result_dict['before_len'].append(before_len)\n",
    "        result_dict['after_len'].append(after_len)        \n",
    "                                   \n",
    "        if verbose == True:                        \n",
    "            print('시작전row:',before_len)   \n",
    "            print('종료후row:',after_len)\n",
    "            print(folder,\"완료\")\n",
    "            print('---------------------')\n",
    "    #총결과 출력\n",
    "    result_df = pd.DataFrame(result_dict)\n",
    "    result_df['diff'] = result_df['before_len'] -result_df['after_len']\n",
    "    result_df['loss'] = round(result_df['diff']/result_df['before_len'],4) *100\n",
    "\n",
    "    return result_df"
   ]
  },
  {
   "cell_type": "code",
   "execution_count": 6,
   "metadata": {
    "ExecuteTime": {
     "end_time": "2021-01-13T06:16:25.966927Z",
     "start_time": "2021-01-13T06:15:59.923599Z"
    }
   },
   "outputs": [
    {
     "name": "stderr",
     "output_type": "stream",
     "text": [
      "C:\\Users\\User\\Anaconda3\\lib\\site-packages\\ipykernel_launcher.py:29: TqdmDeprecationWarning: This function will be removed in tqdm==5.0.0\n",
      "Please use `tqdm.notebook.tqdm` instead of `tqdm.tqdm_notebook`\n"
     ]
    },
    {
     "data": {
      "application/vnd.jupyter.widget-view+json": {
       "model_id": "67202d2cf0154affa99b57378ba85c24",
       "version_major": 2,
       "version_minor": 0
      },
      "text/plain": [
       "HBox(children=(FloatProgress(value=0.0, description='전체', max=1.0, style=ProgressStyle(description_width='init…"
      ]
     },
     "metadata": {},
     "output_type": "display_data"
    },
    {
     "name": "stderr",
     "output_type": "stream",
     "text": [
      "C:\\Users\\User\\Anaconda3\\lib\\site-packages\\ipykernel_launcher.py:46: SettingWithCopyWarning: \n",
      "A value is trying to be set on a copy of a slice from a DataFrame.\n",
      "Try using .loc[row_indexer,col_indexer] = value instead\n",
      "\n",
      "See the caveats in the documentation: https://pandas.pydata.org/pandas-docs/stable/user_guide/indexing.html#returning-a-view-versus-a-copy\n",
      "C:\\Users\\User\\Anaconda3\\lib\\site-packages\\ipykernel_launcher.py:47: SettingWithCopyWarning: \n",
      "A value is trying to be set on a copy of a slice from a DataFrame.\n",
      "Try using .loc[row_indexer,col_indexer] = value instead\n",
      "\n",
      "See the caveats in the documentation: https://pandas.pydata.org/pandas-docs/stable/user_guide/indexing.html#returning-a-view-versus-a-copy\n"
     ]
    },
    {
     "name": "stdout",
     "output_type": "stream",
     "text": [
      "시작전row: 102588\n",
      "종료후row: 74164\n",
      "강릉 완료\n",
      "---------------------\n",
      "\n"
     ]
    },
    {
     "data": {
      "text/html": [
       "<div>\n",
       "<style scoped>\n",
       "    .dataframe tbody tr th:only-of-type {\n",
       "        vertical-align: middle;\n",
       "    }\n",
       "\n",
       "    .dataframe tbody tr th {\n",
       "        vertical-align: top;\n",
       "    }\n",
       "\n",
       "    .dataframe thead th {\n",
       "        text-align: right;\n",
       "    }\n",
       "</style>\n",
       "<table border=\"1\" class=\"dataframe\">\n",
       "  <thead>\n",
       "    <tr style=\"text-align: right;\">\n",
       "      <th></th>\n",
       "      <th>keyword</th>\n",
       "      <th>before_len</th>\n",
       "      <th>after_len</th>\n",
       "      <th>diff</th>\n",
       "      <th>loss</th>\n",
       "    </tr>\n",
       "  </thead>\n",
       "  <tbody>\n",
       "    <tr>\n",
       "      <th>0</th>\n",
       "      <td>강릉</td>\n",
       "      <td>102588</td>\n",
       "      <td>74164</td>\n",
       "      <td>28424</td>\n",
       "      <td>27.71</td>\n",
       "    </tr>\n",
       "  </tbody>\n",
       "</table>\n",
       "</div>"
      ],
      "text/plain": [
       "  keyword  before_len  after_len   diff   loss\n",
       "0      강릉      102588      74164  28424  27.71"
      ]
     },
     "execution_count": 6,
     "metadata": {},
     "output_type": "execute_result"
    }
   ],
   "source": [
    "#전체\n",
    "result_df = crawling_merge(path, verbose=True)\n",
    "result_df"
   ]
  },
  {
   "cell_type": "code",
   "execution_count": null,
   "metadata": {},
   "outputs": [],
   "source": []
  }
 ],
 "metadata": {
  "kernelspec": {
   "display_name": "Python 3",
   "language": "python",
   "name": "python3"
  },
  "language_info": {
   "codemirror_mode": {
    "name": "ipython",
    "version": 3
   },
   "file_extension": ".py",
   "mimetype": "text/x-python",
   "name": "python",
   "nbconvert_exporter": "python",
   "pygments_lexer": "ipython3",
   "version": "3.6.5"
  },
  "toc": {
   "base_numbering": 1,
   "nav_menu": {},
   "number_sections": true,
   "sideBar": true,
   "skip_h1_title": false,
   "title_cell": "Table of Contents",
   "title_sidebar": "Contents",
   "toc_cell": false,
   "toc_position": {},
   "toc_section_display": true,
   "toc_window_display": false
  },
  "varInspector": {
   "cols": {
    "lenName": 16,
    "lenType": 16,
    "lenVar": 40
   },
   "kernels_config": {
    "python": {
     "delete_cmd_postfix": "",
     "delete_cmd_prefix": "del ",
     "library": "var_list.py",
     "varRefreshCmd": "print(var_dic_list())"
    },
    "r": {
     "delete_cmd_postfix": ") ",
     "delete_cmd_prefix": "rm(",
     "library": "var_list.r",
     "varRefreshCmd": "cat(var_dic_list()) "
    }
   },
   "types_to_exclude": [
    "module",
    "function",
    "builtin_function_or_method",
    "instance",
    "_Feature"
   ],
   "window_display": false
  }
 },
 "nbformat": 4,
 "nbformat_minor": 2
}

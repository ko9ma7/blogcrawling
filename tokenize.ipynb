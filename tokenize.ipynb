{
 "cells": [
  {
   "cell_type": "code",
   "execution_count": 1,
   "metadata": {
    "ExecuteTime": {
     "end_time": "2020-04-22T07:22:11.617619Z",
     "start_time": "2020-04-22T07:22:09.209466Z"
    }
   },
   "outputs": [
    {
     "name": "stderr",
     "output_type": "stream",
     "text": [
      "C:\\Users\\User\\Anaconda3\\lib\\site-packages\\jpype\\_core.py:217: UserWarning: \n",
      "-------------------------------------------------------------------------------\n",
      "Deprecated: convertStrings was not specified when starting the JVM. The default\n",
      "behavior in JPype will be False starting in JPype 0.8. The recommended setting\n",
      "for new code is convertStrings=False.  The legacy value of True was assumed for\n",
      "this session. If you are a user of an application that reported this warning,\n",
      "please file a ticket with the developer.\n",
      "-------------------------------------------------------------------------------\n",
      "\n",
      "  \"\"\")\n"
     ]
    },
    {
     "data": {
      "text/html": [
       "<style>.container {width:100% !important; }</style>"
      ],
      "text/plain": [
       "<IPython.core.display.HTML object>"
      ]
     },
     "metadata": {},
     "output_type": "display_data"
    }
   ],
   "source": [
    "# import\n",
    "import seaborn as sns\n",
    "import matplotlib.pyplot as plt\n",
    "\n",
    "from tqdm import tqdm_notebook  # 진행과정 시각화\n",
    "from datetime import timedelta  # 시간날짜\n",
    "from apyori import apriori  # 연관분석\n",
    "\n",
    "import re\n",
    "import json\n",
    "import math\n",
    "import datetime\n",
    "from datetime import timedelta\n",
    "import pandas as pd\n",
    "import numpy as np\n",
    "import gc\n",
    "\n",
    "import requests\n",
    "import urllib.request\n",
    "import urllib.error\n",
    "import urllib.parse\n",
    "from bs4 import BeautifulSoup  # 크롤링\n",
    "\n",
    "import wordcloud\n",
    "from PIL import Image\n",
    "import random\n",
    "\n",
    "import konlpy\n",
    "from konlpy.tag import Komoran,Okt,Kkma,Twitter  # 자연어처리\n",
    "# from eunjeon import Mecab #은전한닢\n",
    "okt = Okt()\n",
    "# mecab = Mecab()\n",
    "komoran = Komoran(userdic='user_dictionary.txt')\n",
    "\n",
    "#한글깨짐방지\n",
    "plt.rc('font',family='Malgun Gothic')\n",
    "plt.rcParams['axes.unicode_minus'] = False\n",
    "\n",
    "from IPython.core.display import display, HTML\n",
    "display(HTML('<style>.container {width:100% !important; }</style>'))"
   ]
  },
  {
   "cell_type": "code",
   "execution_count": 3,
   "metadata": {
    "ExecuteTime": {
     "end_time": "2020-04-22T07:23:50.927432Z",
     "start_time": "2020-04-22T07:23:48.274551Z"
    }
   },
   "outputs": [],
   "source": [
    "path = 'D:/Python/블로그크롤링/output/크롤링/통합/'\n",
    "main_df = pd.read_csv(path+'강원도통합.csv',)"
   ]
  },
  {
   "cell_type": "code",
   "execution_count": 15,
   "metadata": {
    "ExecuteTime": {
     "end_time": "2020-04-22T07:51:15.582860Z",
     "start_time": "2020-04-22T07:51:15.576867Z"
    }
   },
   "outputs": [
    {
     "data": {
      "text/html": [
       "<div>\n",
       "<style scoped>\n",
       "    .dataframe tbody tr th:only-of-type {\n",
       "        vertical-align: middle;\n",
       "    }\n",
       "\n",
       "    .dataframe tbody tr th {\n",
       "        vertical-align: top;\n",
       "    }\n",
       "\n",
       "    .dataframe thead th {\n",
       "        text-align: right;\n",
       "    }\n",
       "</style>\n",
       "<table border=\"1\" class=\"dataframe\">\n",
       "  <thead>\n",
       "    <tr style=\"text-align: right;\">\n",
       "      <th></th>\n",
       "      <th>post_dates</th>\n",
       "      <th>year</th>\n",
       "      <th>month</th>\n",
       "      <th>title</th>\n",
       "      <th>full_text</th>\n",
       "      <th>url</th>\n",
       "    </tr>\n",
       "  </thead>\n",
       "  <tbody>\n",
       "    <tr>\n",
       "      <td>0</td>\n",
       "      <td>2010-03-01</td>\n",
       "      <td>2010</td>\n",
       "      <td>3</td>\n",
       "      <td>사랑 TWO</td>\n",
       "      <td>[' 지난 주말에 강원도 인제 내림천에 있는 맑은물 리조트에 동생부부와 함께 다녀 ...</td>\n",
       "      <td>http://blog.naver.com/PostView.nhn?blogId=good...</td>\n",
       "    </tr>\n",
       "    <tr>\n",
       "      <td>1</td>\n",
       "      <td>2010-02-01</td>\n",
       "      <td>2010</td>\n",
       "      <td>2</td>\n",
       "      <td>Coffee &amp; Travel</td>\n",
       "      <td>[\" 블로그 이웃분들 중에는 아시는 분들이 계시겠지만, 오는 2월 23일에 아들 도...</td>\n",
       "      <td>http://blog.naver.com/PostView.nhn?blogId=tomt...</td>\n",
       "    </tr>\n",
       "    <tr>\n",
       "      <td>2</td>\n",
       "      <td>2010-03-01</td>\n",
       "      <td>2010</td>\n",
       "      <td>3</td>\n",
       "      <td>가까이 조금씩 쫀쫀...</td>\n",
       "      <td>[' 휘팍에 스키 타러가는걸 정하는 순간부터 저희 부부는 현대 막국수에 가서 국수를...</td>\n",
       "      <td>http://blog.naver.com/PostView.nhn?blogId=eric...</td>\n",
       "    </tr>\n",
       "  </tbody>\n",
       "</table>\n",
       "</div>"
      ],
      "text/plain": [
       "   post_dates  year  month            title  \\\n",
       "0  2010-03-01  2010      3           사랑 TWO   \n",
       "1  2010-02-01  2010      2  Coffee & Travel   \n",
       "2  2010-03-01  2010      3    가까이 조금씩 쫀쫀...   \n",
       "\n",
       "                                           full_text  \\\n",
       "0  [' 지난 주말에 강원도 인제 내림천에 있는 맑은물 리조트에 동생부부와 함께 다녀 ...   \n",
       "1  [\" 블로그 이웃분들 중에는 아시는 분들이 계시겠지만, 오는 2월 23일에 아들 도...   \n",
       "2  [' 휘팍에 스키 타러가는걸 정하는 순간부터 저희 부부는 현대 막국수에 가서 국수를...   \n",
       "\n",
       "                                                 url  \n",
       "0  http://blog.naver.com/PostView.nhn?blogId=good...  \n",
       "1  http://blog.naver.com/PostView.nhn?blogId=tomt...  \n",
       "2  http://blog.naver.com/PostView.nhn?blogId=eric...  "
      ]
     },
     "execution_count": 15,
     "metadata": {},
     "output_type": "execute_result"
    }
   ],
   "source": [
    "main_df.iloc[:3]"
   ]
  },
  {
   "cell_type": "code",
   "execution_count": null,
   "metadata": {},
   "outputs": [],
   "source": []
  }
 ],
 "metadata": {
  "kernelspec": {
   "display_name": "Python 3",
   "language": "python",
   "name": "python3"
  },
  "language_info": {
   "codemirror_mode": {
    "name": "ipython",
    "version": 3
   },
   "file_extension": ".py",
   "mimetype": "text/x-python",
   "name": "python",
   "nbconvert_exporter": "python",
   "pygments_lexer": "ipython3",
   "version": "3.6.5"
  },
  "varInspector": {
   "cols": {
    "lenName": 16,
    "lenType": 16,
    "lenVar": 40
   },
   "kernels_config": {
    "python": {
     "delete_cmd_postfix": "",
     "delete_cmd_prefix": "del ",
     "library": "var_list.py",
     "varRefreshCmd": "print(var_dic_list())"
    },
    "r": {
     "delete_cmd_postfix": ") ",
     "delete_cmd_prefix": "rm(",
     "library": "var_list.r",
     "varRefreshCmd": "cat(var_dic_list()) "
    }
   },
   "types_to_exclude": [
    "module",
    "function",
    "builtin_function_or_method",
    "instance",
    "_Feature"
   ],
   "window_display": false
  }
 },
 "nbformat": 4,
 "nbformat_minor": 2
}

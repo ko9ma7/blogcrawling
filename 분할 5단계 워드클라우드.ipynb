{
 "cells": [
  {
   "cell_type": "code",
   "execution_count": 1,
   "metadata": {
    "ExecuteTime": {
     "end_time": "2020-06-12T04:33:53.160744Z",
     "start_time": "2020-06-12T04:33:51.603982Z"
    }
   },
   "outputs": [
    {
     "data": {
      "text/html": [
       "<style>.container {width:100% !important; }</style>"
      ],
      "text/plain": [
       "<IPython.core.display.HTML object>"
      ]
     },
     "metadata": {},
     "output_type": "display_data"
    }
   ],
   "source": [
    "# import\n",
    "import seaborn as sns\n",
    "import matplotlib.pyplot as plt\n",
    "\n",
    "from tqdm import tqdm_notebook  # 진행과정 시각화\n",
    "from datetime import timedelta  # 시간날짜\n",
    "import pandas as pd\n",
    "import numpy as np\n",
    "import gc\n",
    "import re\n",
    "\n",
    "import wordcloud\n",
    "from PIL import Image\n",
    "import random\n",
    "import os\n",
    "\n",
    "import imageio\n",
    "\n",
    "#한글깨짐방지\n",
    "plt.rc('font',family='Malgun Gothic')\n",
    "plt.rcParams['axes.unicode_minus'] = False\n",
    "\n",
    "from IPython.core.display import display, HTML\n",
    "display(HTML('<style>.container {width:100% !important; }</style>'))"
   ]
  },
  {
   "cell_type": "markdown",
   "metadata": {},
   "source": [
    "### load"
   ]
  },
  {
   "cell_type": "code",
   "execution_count": 2,
   "metadata": {
    "ExecuteTime": {
     "end_time": "2020-06-12T04:33:53.186781Z",
     "start_time": "2020-06-12T04:33:53.161741Z"
    }
   },
   "outputs": [],
   "source": [
    "#stopword\n",
    "sw = list(pd.read_excel(\"stopword(cp949).xlsx\",encoding = 'cp949')['불용어']) #불용어 불러오기\n",
    "\n",
    "#개별 불용어 \n",
    "with open('custom_sw.json') as load_file:\n",
    "    custom_sw = json.load(load_file)"
   ]
  },
  {
   "cell_type": "code",
   "execution_count": 3,
   "metadata": {
    "ExecuteTime": {
     "end_time": "2020-06-12T04:33:53.202407Z",
     "start_time": "2020-06-12T04:33:53.186781Z"
    }
   },
   "outputs": [],
   "source": [
    "def draw_wordcloud(df, stopword,custom_sw, keyword, options = \"all\"):\n",
    "    \n",
    "    #stopword\n",
    "    stopword.append(keyword)\n",
    "    try :\n",
    "        stopword = stopword +custom_sw[keyword]\n",
    "        stopword = list(set(stopword))\n",
    "    except:\n",
    "        pass\n",
    "    \n",
    "    #flattern \n",
    "    df = df.fillna(\"\")\n",
    "    total_len = df.shape[0]\n",
    "    df['Noun'] = df['Noun'].apply(lambda x : re.sub(\"[\\[\\]' ]\",\"\",x).split(','))\n",
    "    df['Adjective'] = df['Adjective'].apply(lambda x : re.sub(\"[\\[\\]' ]\",\"\",x).split(','))\n",
    "    \n",
    "    all_noun_flatten = [y for x in df[\"Noun\"] for y in x]\n",
    "    all_adj_flatten = [y for x in df[\"Adjective\"] for y in x]\n",
    "    all_word_flatten = all_noun_flatten + all_adj_flatten\n",
    "    \n",
    "    if options == 'all':\n",
    "        all_word_flatten = all_noun_flatten + all_adj_flatten\n",
    "    elif options == 'noun':\n",
    "        all_word_flatten = [y for x in df[\"Noun\"] for y in x]\n",
    "    elif options == 'adjective':\n",
    "        all_adj_flatten = [y for x in df[\"Adjective\"] for y in x]\n",
    "    \n",
    "    years = df.year.unique()\n",
    "    if len(years) != 1:\n",
    "        last_year = years.max()\n",
    "        start_year = years.min()\n",
    "        time = '{s}~{l}'.format(s = start_year, l = last_year)\n",
    "    else :\n",
    "        time = years[0]\n",
    "    \n",
    "    # 워드클라우드\n",
    "    # 마스킹\n",
    "    img_path = \"vector-cloud-png.png\"\n",
    "    img = Image.open(img_path).convert('RGBA')\n",
    "    mask = Image.new(\"RGB\", img.size, (255, 255, 255))\n",
    "    mask.paste(img, img)\n",
    "    mask = np.array(mask)\n",
    "\n",
    "    text = ' '.join(all_word_flatten)\n",
    "\n",
    "    wordc = wordcloud.WordCloud(background_color='White', max_words=200,\n",
    "                                font_path='C:/Windows/Fonts/malgun.ttf',\n",
    "                                relative_scaling=0.5,\n",
    "                                stopwords=stopword,\n",
    "                                collocations=False,\n",
    "                                mask=mask)\n",
    "    wordc.generate(text)\n",
    "\n",
    "    def grey_color(word, font_size, position, orientation, random_state=None, **kwargs):\n",
    "        return 'hsl(%d,100%%,50%%)' % random.randint(200, 300)  # 색상 채도 밝기\n",
    "    wordc.recolor(color_func=grey_color, random_state=3)\n",
    "\n",
    "    # 그리기\n",
    "    plt.figure(figsize=(10, 10))\n",
    "    plt.axis('off')\n",
    "    plt.xticks([])\n",
    "    plt.yticks([])\n",
    "    plt.subplots_adjust(left = 0, bottom = 0, right = 1, top = 1)\n",
    "#     plt.title(f'{keyword}_{time}_{options}_{total_len}',fontsize = 20)\n",
    "    plt.title(f'{time}',fontsize = 20) # 인섭씨 요구사항\n",
    "    plt.imshow(wordc, interpolation='bilinear')\n",
    "    \n",
    "    #저장\n",
    "    os.makedirs(f'./output/워드클라우드/{keyword}_{options}/',exist_ok=True)\n",
    "    plt.savefig(f'./output/워드클라우드/{keyword}_{options}/{keyword}_{time}_{options}.png',bbox_inches='tight')\n",
    "    plt.close()"
   ]
  },
  {
   "cell_type": "code",
   "execution_count": 4,
   "metadata": {
    "ExecuteTime": {
     "end_time": "2020-06-12T04:33:53.218033Z",
     "start_time": "2020-06-12T04:33:53.202407Z"
    }
   },
   "outputs": [],
   "source": [
    "def make_gif(path):\n",
    "    '''\n",
    "    이미지 여러장이 들어있는 폴더를 input하면 gif를 만들어냄\n",
    "    jpg, png파일만 허용\n",
    "    '''\n",
    "    from PIL import Image\n",
    "    import os\n",
    "    import imageio\n",
    "    \n",
    "    file_list = os.listdir(path)\n",
    "    \n",
    "    #select png\n",
    "    png_ls =[]\n",
    "    for file in file_list:\n",
    "        try :\n",
    "            if file.split('.')[1] in (['png','jpg']):\n",
    "                png_ls.append(file)\n",
    "        except : \n",
    "            pass\n",
    "    \n",
    "    #naming\n",
    "    main = png_ls[0].split('_')[0]\n",
    "    tail = png_ls[0].split('_')[2]\n",
    "    start = png_ls[0].split('_')[1]\n",
    "    end = png_ls[-1].split('_')[1]\n",
    "                                      \n",
    "    images = [np.array(Image.open(path+file)) for file in png_ls]\n",
    "    imageio.mimsave(f'./output/워드클라우드/{main}_{start}~{end}_{tail}.gif', images, fps=0.5)"
   ]
  },
  {
   "cell_type": "code",
   "execution_count": 5,
   "metadata": {
    "ExecuteTime": {
     "end_time": "2020-06-12T04:39:05.591946Z",
     "start_time": "2020-06-12T04:33:53.218033Z"
    }
   },
   "outputs": [
    {
     "name": "stderr",
     "output_type": "stream",
     "text": [
      "C:\\Users\\User\\Anaconda3\\lib\\site-packages\\ipykernel_launcher.py:4: TqdmDeprecationWarning: This function will be removed in tqdm==5.0.0\n",
      "Please use `tqdm.notebook.tqdm` instead of `tqdm.tqdm_notebook`\n",
      "  after removing the cwd from sys.path.\n"
     ]
    },
    {
     "data": {
      "application/vnd.jupyter.widget-view+json": {
       "model_id": "3fb439bd51274396824a6c11d848504e",
       "version_major": 2,
       "version_minor": 0
      },
      "text/plain": [
       "HBox(children=(FloatProgress(value=0.0, max=16.0), HTML(value='')))"
      ]
     },
     "metadata": {},
     "output_type": "display_data"
    },
    {
     "name": "stdout",
     "output_type": "stream",
     "text": [
      "\n"
     ]
    }
   ],
   "source": [
    "path = './output/token_통합/'\n",
    "file_list = os.listdir(path)\n",
    "\n",
    "for file in tqdm_notebook(file_list):\n",
    "    file_df = pd.read_csv(path+file)\n",
    "    keyword = file.split('_')[0]\n",
    "    years = file_df.year.unique()\n",
    "    for year in years:\n",
    "        sample = file_df[file_df['year'] == year]\n",
    "        draw_wordcloud(sample,sw,custom_sw,keyword)"
   ]
  },
  {
   "cell_type": "markdown",
   "metadata": {},
   "source": [
    "### gif 만들기\n",
    "* 2010년부터 2019까지 추이변화를 볼수 있는 특징이 있다"
   ]
  },
  {
   "cell_type": "code",
   "execution_count": 6,
   "metadata": {
    "ExecuteTime": {
     "end_time": "2020-06-12T04:39:13.038393Z",
     "start_time": "2020-06-12T04:39:05.592947Z"
    }
   },
   "outputs": [],
   "source": [
    "path = './output/워드클라우드'\n",
    "\n",
    "for folder in os.listdir(path):\n",
    "    if os.path.splitext(folder)[1] == \"\":\n",
    "        make_gif(f'{path}/{folder}/')"
   ]
  }
 ],
 "metadata": {
  "kernelspec": {
   "display_name": "Python 3",
   "language": "python",
   "name": "python3"
  },
  "language_info": {
   "codemirror_mode": {
    "name": "ipython",
    "version": 3
   },
   "file_extension": ".py",
   "mimetype": "text/x-python",
   "name": "python",
   "nbconvert_exporter": "python",
   "pygments_lexer": "ipython3",
   "version": "3.6.5"
  }
 },
 "nbformat": 4,
 "nbformat_minor": 2
}

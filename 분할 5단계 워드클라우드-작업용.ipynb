{
 "cells": [
  {
   "cell_type": "code",
   "execution_count": 6,
   "metadata": {
    "ExecuteTime": {
     "end_time": "2020-06-11T05:43:13.793830Z",
     "start_time": "2020-06-11T05:43:13.758317Z"
    }
   },
   "outputs": [
    {
     "data": {
      "text/html": [
       "<style>.container {width:100% !important; }</style>"
      ],
      "text/plain": [
       "<IPython.core.display.HTML object>"
      ]
     },
     "metadata": {},
     "output_type": "display_data"
    }
   ],
   "source": [
    "# import\n",
    "import seaborn as sns\n",
    "import matplotlib.pyplot as plt\n",
    "\n",
    "from tqdm import tqdm_notebook  # 진행과정 시각화\n",
    "from datetime import timedelta  # 시간날짜\n",
    "import pandas as pd\n",
    "import numpy as np\n",
    "import gc\n",
    "import re\n",
    "\n",
    "import wordcloud\n",
    "from PIL import Image\n",
    "import random\n",
    "import os\n",
    "\n",
    "import imageio\n",
    "\n",
    "#한글깨짐방지\n",
    "plt.rc('font',family='Malgun Gothic')\n",
    "plt.rcParams['axes.unicode_minus'] = False\n",
    "\n",
    "from IPython.core.display import display, HTML\n",
    "display(HTML('<style>.container {width:100% !important; }</style>'))"
   ]
  },
  {
   "cell_type": "markdown",
   "metadata": {},
   "source": [
    "### load"
   ]
  },
  {
   "cell_type": "code",
   "execution_count": 7,
   "metadata": {
    "ExecuteTime": {
     "end_time": "2020-06-11T05:43:13.857053Z",
     "start_time": "2020-06-11T05:43:13.795831Z"
    }
   },
   "outputs": [],
   "source": [
    "#stopword\n",
    "sw = list(pd.read_excel(\"stopword(cp949).xlsx\",encoding = 'cp949')['불용어']) #불용어 불러오기\n",
    "\n",
    "#개별 불용어 \n",
    "with open('custom_sw.json') as load_file:\n",
    "    custom_sw = json.load(load_file)"
   ]
  },
  {
   "cell_type": "code",
   "execution_count": 8,
   "metadata": {
    "ExecuteTime": {
     "end_time": "2020-06-11T05:43:13.870877Z",
     "start_time": "2020-06-11T05:43:13.859053Z"
    }
   },
   "outputs": [],
   "source": [
    "def draw_wordcloud(df, stopword,custom_sw, keyword, options = \"all\"):\n",
    "    \n",
    "    #stopword\n",
    "    stopword.append(keyword)\n",
    "    try :\n",
    "        stopword = stopword +custom_sw[keyword]\n",
    "        stopword = list(set(stopword))\n",
    "    except:\n",
    "        pass\n",
    "    \n",
    "    #flattern \n",
    "    df = df.fillna(\"\")\n",
    "    total_len = df.shape[0]\n",
    "    df['Noun'] = df['Noun'].apply(lambda x : re.sub(\"[\\[\\]' ]\",\"\",x).split(','))\n",
    "    df['Adjective'] = df['Adjective'].apply(lambda x : re.sub(\"[\\[\\]' ]\",\"\",x).split(','))\n",
    "    \n",
    "    all_noun_flatten = [y for x in df[\"Noun\"] for y in x]\n",
    "    all_adj_flatten = [y for x in df[\"Adjective\"] for y in x]\n",
    "    all_word_flatten = all_noun_flatten + all_adj_flatten\n",
    "    \n",
    "    if options == 'all':\n",
    "        all_word_flatten = all_noun_flatten + all_adj_flatten\n",
    "    elif options == 'noun':\n",
    "        all_word_flatten = [y for x in df[\"Noun\"] for y in x]\n",
    "    elif options == 'adjective':\n",
    "        all_adj_flatten = [y for x in df[\"Adjective\"] for y in x]\n",
    "    \n",
    "    years = df.year.unique()\n",
    "    if len(years) != 1:\n",
    "        last_year = years.max()\n",
    "        start_year = years.min()\n",
    "        time = '{s}~{l}'.format(s = start_year, l = last_year)\n",
    "    else :\n",
    "        time = years[0]\n",
    "    \n",
    "    # 워드클라우드\n",
    "    # 마스킹\n",
    "    img_path = \"vector-cloud-png.png\"\n",
    "    img = Image.open(img_path).convert('RGBA')\n",
    "    mask = Image.new(\"RGB\", img.size, (255, 255, 255))\n",
    "    mask.paste(img, img)\n",
    "    mask = np.array(mask)\n",
    "\n",
    "    text = ' '.join(all_word_flatten)\n",
    "\n",
    "    wordc = wordcloud.WordCloud(background_color='White', max_words=200,\n",
    "                                font_path='C:/Windows/Fonts/malgun.ttf',\n",
    "                                relative_scaling=0.5,\n",
    "                                stopwords=stopword,\n",
    "                                collocations=False,\n",
    "                                mask=mask)\n",
    "    wordc.generate(text)\n",
    "\n",
    "    def grey_color(word, font_size, position, orientation, random_state=None, **kwargs):\n",
    "        return 'hsl(%d,100%%,50%%)' % random.randint(200, 300)  # 색상 채도 밝기\n",
    "    wordc.recolor(color_func=grey_color, random_state=3)\n",
    "\n",
    "    # 그리기\n",
    "    plt.figure(figsize=(10, 10))\n",
    "    plt.axis('off')\n",
    "    plt.xticks([])\n",
    "    plt.yticks([])\n",
    "    plt.subplots_adjust(left = 0, bottom = 0, right = 1, top = 1)\n",
    "#     plt.title(f'{keyword}_{time}_{options}_{total_len}',fontsize = 20)\n",
    "    plt.title(f'{time}',fontsize = 20) # 인섭씨 요구사항\n",
    "    plt.imshow(wordc, interpolation='bilinear')\n",
    "    \n",
    "    #저장\n",
    "    os.makedirs(f'./output/워드클라우드/{keyword}_{options}/',exist_ok=True)\n",
    "    plt.savefig(f'./output/워드클라우드/{keyword}_{options}/{keyword}_{time}_{options}.png',bbox_inches='tight')\n",
    "    plt.close()"
   ]
  },
  {
   "cell_type": "code",
   "execution_count": 9,
   "metadata": {
    "ExecuteTime": {
     "end_time": "2020-06-11T05:43:13.874878Z",
     "start_time": "2020-06-11T05:43:13.872877Z"
    }
   },
   "outputs": [],
   "source": [
    "path = './output/token_통합/'\n",
    "file_list = os.listdir(path)"
   ]
  },
  {
   "cell_type": "code",
   "execution_count": 10,
   "metadata": {
    "ExecuteTime": {
     "end_time": "2020-06-11T05:48:46.843570Z",
     "start_time": "2020-06-11T05:43:13.875879Z"
    },
    "scrolled": false
   },
   "outputs": [
    {
     "name": "stderr",
     "output_type": "stream",
     "text": [
      "C:\\Users\\User\\Anaconda3\\lib\\site-packages\\ipykernel_launcher.py:1: TqdmDeprecationWarning: This function will be removed in tqdm==5.0.0\n",
      "Please use `tqdm.notebook.tqdm` instead of `tqdm.tqdm_notebook`\n",
      "  \"\"\"Entry point for launching an IPython kernel.\n"
     ]
    },
    {
     "data": {
      "application/vnd.jupyter.widget-view+json": {
       "model_id": "c4d481cf2c064ad099954f4961f50afc",
       "version_major": 2,
       "version_minor": 0
      },
      "text/plain": [
       "HBox(children=(FloatProgress(value=0.0, max=16.0), HTML(value='')))"
      ]
     },
     "metadata": {},
     "output_type": "display_data"
    },
    {
     "name": "stdout",
     "output_type": "stream",
     "text": [
      "\n"
     ]
    }
   ],
   "source": [
    "for file in tqdm_notebook(file_list):\n",
    "    file_df = pd.read_csv(path+file)\n",
    "    keyword = file.split('_')[0]\n",
    "    years = file_df.year.unique()\n",
    "    for year in years:\n",
    "        sample = file_df[file_df['year'] == year]\n",
    "        draw_wordcloud(sample,sw,custom_sw,keyword)"
   ]
  },
  {
   "cell_type": "markdown",
   "metadata": {},
   "source": [
    "### gif 만들기\n",
    "* 2010년부터 2019까지 추이변화를 볼수 있는 특징이 있다"
   ]
  },
  {
   "cell_type": "code",
   "execution_count": 11,
   "metadata": {
    "ExecuteTime": {
     "end_time": "2020-06-11T05:48:46.849571Z",
     "start_time": "2020-06-11T05:48:46.844570Z"
    }
   },
   "outputs": [],
   "source": [
    "def make_gif(path):\n",
    "    '''\n",
    "    이미지 여러장이 들어있는 폴더를 input하면 gif를 만들어냄\n",
    "    jpg, png파일만 허용\n",
    "    '''\n",
    "    from PIL import Image\n",
    "    import os\n",
    "    import imageio\n",
    "    \n",
    "    file_list = os.listdir(path)\n",
    "    \n",
    "    #select png\n",
    "    png_ls =[]\n",
    "    for file in file_list:\n",
    "        try :\n",
    "            if file.split('.')[1] in (['png','jpg']):\n",
    "                png_ls.append(file)\n",
    "        except : \n",
    "            pass\n",
    "    \n",
    "    #naming\n",
    "    main = png_ls[0].split('_')[0]\n",
    "    tail = png_ls[0].split('_')[2]\n",
    "    start = png_ls[0].split('_')[1]\n",
    "    end = png_ls[-1].split('_')[1]\n",
    "                                      \n",
    "    images = [np.array(Image.open(path+file)) for file in png_ls]\n",
    "    imageio.mimsave(f'./output/워드클라우드/{main}_{start}~{end}_{tail}.gif', images, fps=0.5)"
   ]
  },
  {
   "cell_type": "code",
   "execution_count": 12,
   "metadata": {
    "ExecuteTime": {
     "end_time": "2020-06-11T05:48:57.046127Z",
     "start_time": "2020-06-11T05:48:46.850572Z"
    }
   },
   "outputs": [],
   "source": [
    "path = './output/워드클라우드'\n",
    "\n",
    "for folder in os.listdir(path):\n",
    "    if os.path.splitext(folder)[1] == \"\":\n",
    "        make_gif(f'{path}/{folder}/')"
   ]
  },
  {
   "cell_type": "markdown",
   "metadata": {},
   "source": [
    "### sample"
   ]
  },
  {
   "cell_type": "code",
   "execution_count": 8,
   "metadata": {
    "ExecuteTime": {
     "end_time": "2020-06-10T07:41:50.947297Z",
     "start_time": "2020-06-10T07:41:50.853276Z"
    }
   },
   "outputs": [
    {
     "ename": "FileNotFoundError",
     "evalue": "[Errno 2] File b'./output/\\xec\\x9b\\x8c\\xeb\\x93\\x9c\\xed\\x81\\xb4\\xeb\\x9d\\xbc\\xec\\x9a\\xb0\\xeb\\x93\\x9c\\xea\\xb0\\x95\\xeb\\xa6\\x89 +\\xea\\xb0\\x95\\xec\\x9b\\x90\\xeb\\x8f\\x84_0~53821.csv' does not exist: b'./output/\\xec\\x9b\\x8c\\xeb\\x93\\x9c\\xed\\x81\\xb4\\xeb\\x9d\\xbc\\xec\\x9a\\xb0\\xeb\\x93\\x9c\\xea\\xb0\\x95\\xeb\\xa6\\x89 +\\xea\\xb0\\x95\\xec\\x9b\\x90\\xeb\\x8f\\x84_0~53821.csv'",
     "output_type": "error",
     "traceback": [
      "\u001b[1;31m---------------------------------------------------------------------------\u001b[0m",
      "\u001b[1;31mFileNotFoundError\u001b[0m                         Traceback (most recent call last)",
      "\u001b[1;32m<ipython-input-8-dfb2bb9dff50>\u001b[0m in \u001b[0;36m<module>\u001b[1;34m()\u001b[0m\n\u001b[0;32m      1\u001b[0m \u001b[0mfile\u001b[0m \u001b[1;33m=\u001b[0m \u001b[0mfile_list\u001b[0m\u001b[1;33m[\u001b[0m\u001b[1;36m0\u001b[0m\u001b[1;33m]\u001b[0m\u001b[1;33m\u001b[0m\u001b[0m\n\u001b[1;32m----> 2\u001b[1;33m \u001b[0mfile_df\u001b[0m \u001b[1;33m=\u001b[0m \u001b[0mpd\u001b[0m\u001b[1;33m.\u001b[0m\u001b[0mread_csv\u001b[0m\u001b[1;33m(\u001b[0m\u001b[0mpath\u001b[0m\u001b[1;33m+\u001b[0m\u001b[0mfile\u001b[0m\u001b[1;33m)\u001b[0m\u001b[1;33m\u001b[0m\u001b[0m\n\u001b[0m\u001b[0;32m      3\u001b[0m \u001b[1;33m\u001b[0m\u001b[0m\n\u001b[0;32m      4\u001b[0m \u001b[0mkeyword\u001b[0m \u001b[1;33m=\u001b[0m \u001b[0mfile\u001b[0m\u001b[1;33m.\u001b[0m\u001b[0msplit\u001b[0m\u001b[1;33m(\u001b[0m\u001b[1;34m'_'\u001b[0m\u001b[1;33m)\u001b[0m\u001b[1;33m[\u001b[0m\u001b[1;36m0\u001b[0m\u001b[1;33m]\u001b[0m\u001b[1;33m\u001b[0m\u001b[0m\n",
      "\u001b[1;32m~\\AppData\\Roaming\\Python\\Python36\\site-packages\\pandas\\io\\parsers.py\u001b[0m in \u001b[0;36mparser_f\u001b[1;34m(filepath_or_buffer, sep, delimiter, header, names, index_col, usecols, squeeze, prefix, mangle_dupe_cols, dtype, engine, converters, true_values, false_values, skipinitialspace, skiprows, skipfooter, nrows, na_values, keep_default_na, na_filter, verbose, skip_blank_lines, parse_dates, infer_datetime_format, keep_date_col, date_parser, dayfirst, cache_dates, iterator, chunksize, compression, thousands, decimal, lineterminator, quotechar, quoting, doublequote, escapechar, comment, encoding, dialect, error_bad_lines, warn_bad_lines, delim_whitespace, low_memory, memory_map, float_precision)\u001b[0m\n\u001b[0;32m    683\u001b[0m         )\n\u001b[0;32m    684\u001b[0m \u001b[1;33m\u001b[0m\u001b[0m\n\u001b[1;32m--> 685\u001b[1;33m         \u001b[1;32mreturn\u001b[0m \u001b[0m_read\u001b[0m\u001b[1;33m(\u001b[0m\u001b[0mfilepath_or_buffer\u001b[0m\u001b[1;33m,\u001b[0m \u001b[0mkwds\u001b[0m\u001b[1;33m)\u001b[0m\u001b[1;33m\u001b[0m\u001b[0m\n\u001b[0m\u001b[0;32m    686\u001b[0m \u001b[1;33m\u001b[0m\u001b[0m\n\u001b[0;32m    687\u001b[0m     \u001b[0mparser_f\u001b[0m\u001b[1;33m.\u001b[0m\u001b[0m__name__\u001b[0m \u001b[1;33m=\u001b[0m \u001b[0mname\u001b[0m\u001b[1;33m\u001b[0m\u001b[0m\n",
      "\u001b[1;32m~\\AppData\\Roaming\\Python\\Python36\\site-packages\\pandas\\io\\parsers.py\u001b[0m in \u001b[0;36m_read\u001b[1;34m(filepath_or_buffer, kwds)\u001b[0m\n\u001b[0;32m    455\u001b[0m \u001b[1;33m\u001b[0m\u001b[0m\n\u001b[0;32m    456\u001b[0m     \u001b[1;31m# Create the parser.\u001b[0m\u001b[1;33m\u001b[0m\u001b[1;33m\u001b[0m\u001b[0m\n\u001b[1;32m--> 457\u001b[1;33m     \u001b[0mparser\u001b[0m \u001b[1;33m=\u001b[0m \u001b[0mTextFileReader\u001b[0m\u001b[1;33m(\u001b[0m\u001b[0mfp_or_buf\u001b[0m\u001b[1;33m,\u001b[0m \u001b[1;33m**\u001b[0m\u001b[0mkwds\u001b[0m\u001b[1;33m)\u001b[0m\u001b[1;33m\u001b[0m\u001b[0m\n\u001b[0m\u001b[0;32m    458\u001b[0m \u001b[1;33m\u001b[0m\u001b[0m\n\u001b[0;32m    459\u001b[0m     \u001b[1;32mif\u001b[0m \u001b[0mchunksize\u001b[0m \u001b[1;32mor\u001b[0m \u001b[0miterator\u001b[0m\u001b[1;33m:\u001b[0m\u001b[1;33m\u001b[0m\u001b[0m\n",
      "\u001b[1;32m~\\AppData\\Roaming\\Python\\Python36\\site-packages\\pandas\\io\\parsers.py\u001b[0m in \u001b[0;36m__init__\u001b[1;34m(self, f, engine, **kwds)\u001b[0m\n\u001b[0;32m    893\u001b[0m             \u001b[0mself\u001b[0m\u001b[1;33m.\u001b[0m\u001b[0moptions\u001b[0m\u001b[1;33m[\u001b[0m\u001b[1;34m\"has_index_names\"\u001b[0m\u001b[1;33m]\u001b[0m \u001b[1;33m=\u001b[0m \u001b[0mkwds\u001b[0m\u001b[1;33m[\u001b[0m\u001b[1;34m\"has_index_names\"\u001b[0m\u001b[1;33m]\u001b[0m\u001b[1;33m\u001b[0m\u001b[0m\n\u001b[0;32m    894\u001b[0m \u001b[1;33m\u001b[0m\u001b[0m\n\u001b[1;32m--> 895\u001b[1;33m         \u001b[0mself\u001b[0m\u001b[1;33m.\u001b[0m\u001b[0m_make_engine\u001b[0m\u001b[1;33m(\u001b[0m\u001b[0mself\u001b[0m\u001b[1;33m.\u001b[0m\u001b[0mengine\u001b[0m\u001b[1;33m)\u001b[0m\u001b[1;33m\u001b[0m\u001b[0m\n\u001b[0m\u001b[0;32m    896\u001b[0m \u001b[1;33m\u001b[0m\u001b[0m\n\u001b[0;32m    897\u001b[0m     \u001b[1;32mdef\u001b[0m \u001b[0mclose\u001b[0m\u001b[1;33m(\u001b[0m\u001b[0mself\u001b[0m\u001b[1;33m)\u001b[0m\u001b[1;33m:\u001b[0m\u001b[1;33m\u001b[0m\u001b[0m\n",
      "\u001b[1;32m~\\AppData\\Roaming\\Python\\Python36\\site-packages\\pandas\\io\\parsers.py\u001b[0m in \u001b[0;36m_make_engine\u001b[1;34m(self, engine)\u001b[0m\n\u001b[0;32m   1133\u001b[0m     \u001b[1;32mdef\u001b[0m \u001b[0m_make_engine\u001b[0m\u001b[1;33m(\u001b[0m\u001b[0mself\u001b[0m\u001b[1;33m,\u001b[0m \u001b[0mengine\u001b[0m\u001b[1;33m=\u001b[0m\u001b[1;34m\"c\"\u001b[0m\u001b[1;33m)\u001b[0m\u001b[1;33m:\u001b[0m\u001b[1;33m\u001b[0m\u001b[0m\n\u001b[0;32m   1134\u001b[0m         \u001b[1;32mif\u001b[0m \u001b[0mengine\u001b[0m \u001b[1;33m==\u001b[0m \u001b[1;34m\"c\"\u001b[0m\u001b[1;33m:\u001b[0m\u001b[1;33m\u001b[0m\u001b[0m\n\u001b[1;32m-> 1135\u001b[1;33m             \u001b[0mself\u001b[0m\u001b[1;33m.\u001b[0m\u001b[0m_engine\u001b[0m \u001b[1;33m=\u001b[0m \u001b[0mCParserWrapper\u001b[0m\u001b[1;33m(\u001b[0m\u001b[0mself\u001b[0m\u001b[1;33m.\u001b[0m\u001b[0mf\u001b[0m\u001b[1;33m,\u001b[0m \u001b[1;33m**\u001b[0m\u001b[0mself\u001b[0m\u001b[1;33m.\u001b[0m\u001b[0moptions\u001b[0m\u001b[1;33m)\u001b[0m\u001b[1;33m\u001b[0m\u001b[0m\n\u001b[0m\u001b[0;32m   1136\u001b[0m         \u001b[1;32melse\u001b[0m\u001b[1;33m:\u001b[0m\u001b[1;33m\u001b[0m\u001b[0m\n\u001b[0;32m   1137\u001b[0m             \u001b[1;32mif\u001b[0m \u001b[0mengine\u001b[0m \u001b[1;33m==\u001b[0m \u001b[1;34m\"python\"\u001b[0m\u001b[1;33m:\u001b[0m\u001b[1;33m\u001b[0m\u001b[0m\n",
      "\u001b[1;32m~\\AppData\\Roaming\\Python\\Python36\\site-packages\\pandas\\io\\parsers.py\u001b[0m in \u001b[0;36m__init__\u001b[1;34m(self, src, **kwds)\u001b[0m\n\u001b[0;32m   1915\u001b[0m         \u001b[0mkwds\u001b[0m\u001b[1;33m[\u001b[0m\u001b[1;34m\"usecols\"\u001b[0m\u001b[1;33m]\u001b[0m \u001b[1;33m=\u001b[0m \u001b[0mself\u001b[0m\u001b[1;33m.\u001b[0m\u001b[0musecols\u001b[0m\u001b[1;33m\u001b[0m\u001b[0m\n\u001b[0;32m   1916\u001b[0m \u001b[1;33m\u001b[0m\u001b[0m\n\u001b[1;32m-> 1917\u001b[1;33m         \u001b[0mself\u001b[0m\u001b[1;33m.\u001b[0m\u001b[0m_reader\u001b[0m \u001b[1;33m=\u001b[0m \u001b[0mparsers\u001b[0m\u001b[1;33m.\u001b[0m\u001b[0mTextReader\u001b[0m\u001b[1;33m(\u001b[0m\u001b[0msrc\u001b[0m\u001b[1;33m,\u001b[0m \u001b[1;33m**\u001b[0m\u001b[0mkwds\u001b[0m\u001b[1;33m)\u001b[0m\u001b[1;33m\u001b[0m\u001b[0m\n\u001b[0m\u001b[0;32m   1918\u001b[0m         \u001b[0mself\u001b[0m\u001b[1;33m.\u001b[0m\u001b[0munnamed_cols\u001b[0m \u001b[1;33m=\u001b[0m \u001b[0mself\u001b[0m\u001b[1;33m.\u001b[0m\u001b[0m_reader\u001b[0m\u001b[1;33m.\u001b[0m\u001b[0munnamed_cols\u001b[0m\u001b[1;33m\u001b[0m\u001b[0m\n\u001b[0;32m   1919\u001b[0m \u001b[1;33m\u001b[0m\u001b[0m\n",
      "\u001b[1;32mpandas\\_libs\\parsers.pyx\u001b[0m in \u001b[0;36mpandas._libs.parsers.TextReader.__cinit__\u001b[1;34m()\u001b[0m\n",
      "\u001b[1;32mpandas\\_libs\\parsers.pyx\u001b[0m in \u001b[0;36mpandas._libs.parsers.TextReader._setup_parser_source\u001b[1;34m()\u001b[0m\n",
      "\u001b[1;31mFileNotFoundError\u001b[0m: [Errno 2] File b'./output/\\xec\\x9b\\x8c\\xeb\\x93\\x9c\\xed\\x81\\xb4\\xeb\\x9d\\xbc\\xec\\x9a\\xb0\\xeb\\x93\\x9c\\xea\\xb0\\x95\\xeb\\xa6\\x89 +\\xea\\xb0\\x95\\xec\\x9b\\x90\\xeb\\x8f\\x84_0~53821.csv' does not exist: b'./output/\\xec\\x9b\\x8c\\xeb\\x93\\x9c\\xed\\x81\\xb4\\xeb\\x9d\\xbc\\xec\\x9a\\xb0\\xeb\\x93\\x9c\\xea\\xb0\\x95\\xeb\\xa6\\x89 +\\xea\\xb0\\x95\\xec\\x9b\\x90\\xeb\\x8f\\x84_0~53821.csv'"
     ]
    }
   ],
   "source": [
    "file = file_list[0]\n",
    "file_df = pd.read_csv(path+file)\n",
    "\n",
    "keyword = file.split('_')[0]"
   ]
  },
  {
   "cell_type": "code",
   "execution_count": null,
   "metadata": {
    "ExecuteTime": {
     "end_time": "2020-06-10T07:41:50.947297Z",
     "start_time": "2020-06-10T07:36:16.760Z"
    }
   },
   "outputs": [],
   "source": [
    "file"
   ]
  },
  {
   "cell_type": "code",
   "execution_count": null,
   "metadata": {
    "ExecuteTime": {
     "end_time": "2020-06-10T07:41:50.948297Z",
     "start_time": "2020-06-10T07:36:16.762Z"
    },
    "scrolled": true
   },
   "outputs": [],
   "source": [
    "#연차별 적용\n",
    "years = file_df.year.unique()\n",
    "for year in tqdm_notebook(years[:1],desc = \"year\"):\n",
    "    sample = file_df[file_df['year'] == year]\n",
    "    draw_wordcloud(sample,sw,custom_sw,keyword)"
   ]
  },
  {
   "cell_type": "code",
   "execution_count": null,
   "metadata": {
    "ExecuteTime": {
     "end_time": "2020-06-10T07:41:50.949297Z",
     "start_time": "2020-06-10T07:36:16.763Z"
    }
   },
   "outputs": [],
   "source": [
    "path = \"./output/워드클라우드/강릉_all/\"\n",
    "make_gif(path)"
   ]
  },
  {
   "cell_type": "markdown",
   "metadata": {},
   "source": [
    "### 작업용"
   ]
  },
  {
   "cell_type": "code",
   "execution_count": null,
   "metadata": {
    "ExecuteTime": {
     "end_time": "2020-06-10T07:41:50.950297Z",
     "start_time": "2020-06-10T07:36:16.764Z"
    }
   },
   "outputs": [],
   "source": [
    "df = file_df.fillna(\"\")\n",
    "df['Noun'] = df['Noun'].apply(lambda x : re.sub(\"[\\[\\]' ]\",\"\",x).split(','))\n",
    "df['Adjective'] = df['Adjective'].apply(lambda x : re.sub(\"[\\[\\]' ]\",\"\",x).split(','))"
   ]
  },
  {
   "cell_type": "code",
   "execution_count": null,
   "metadata": {
    "ExecuteTime": {
     "end_time": "2020-06-10T07:41:50.950297Z",
     "start_time": "2020-06-10T07:36:16.765Z"
    }
   },
   "outputs": [],
   "source": [
    "all_noun_flatten = [y for x in df[\"Noun\"] for y in x]\n",
    "all_adj_flatten = [y for x in df[\"Noun\"] for y in x]\n",
    "all_word_flatten = all_noun_flatten + all_adj_flatten"
   ]
  },
  {
   "cell_type": "code",
   "execution_count": null,
   "metadata": {
    "ExecuteTime": {
     "end_time": "2020-06-10T07:41:50.951297Z",
     "start_time": "2020-06-10T07:36:16.766Z"
    }
   },
   "outputs": [],
   "source": [
    "sw.append(keyword)\n",
    "sw = sw +custom_sw[keyword]\n",
    "sw = list(set(sw))"
   ]
  },
  {
   "cell_type": "code",
   "execution_count": null,
   "metadata": {
    "ExecuteTime": {
     "end_time": "2020-06-10T07:41:50.952297Z",
     "start_time": "2020-06-10T07:36:16.767Z"
    }
   },
   "outputs": [],
   "source": [
    "years = df.year.unique()\n",
    "if len(years) != 1:\n",
    "    last_year = years.max()\n",
    "    start_year = years.min()\n",
    "    time = '{s}~{l}'.format(s = start_year, l = last_year)\n",
    "else :\n",
    "    time = years[0]"
   ]
  },
  {
   "cell_type": "code",
   "execution_count": null,
   "metadata": {
    "ExecuteTime": {
     "end_time": "2020-06-10T07:41:50.952297Z",
     "start_time": "2020-06-10T07:36:16.768Z"
    }
   },
   "outputs": [],
   "source": [
    "# 워드클라우드\n",
    "# 마스킹\n",
    "img_path = \"vector-cloud-png.png\"\n",
    "img = Image.open(img_path).convert('RGBA')\n",
    "mask = Image.new(\"RGB\", img.size, (255, 255, 255))\n",
    "mask.paste(img, img)\n",
    "mask = np.array(mask)\n",
    "\n",
    "text = ' '.join(all_word_flatten)\n",
    "\n",
    "wordc = wordcloud.WordCloud(background_color='White', max_words=200,\n",
    "                            font_path='C:/Windows/Fonts/malgun.ttf',\n",
    "                            relative_scaling=0.5,\n",
    "                            stopwords=sw,\n",
    "                            collocations=False,\n",
    "                            mask=mask)\n",
    "wordc.generate(text)\n",
    "\n",
    "def grey_color(word, font_size, position, orientation, random_state=None, **kwargs):\n",
    "    return 'hsl(%d,100%%,50%%)' % random.randint(200, 300)  # 색상 채도 밝기\n",
    "wordc.recolor(color_func=grey_color, random_state=3)\n",
    "\n",
    "# 그리기\n",
    "plt.figure(figsize=(10, 10))\n",
    "plt.axis('off')\n",
    "plt.title('{keyword}_{time}'.format(keyword = keyword, time = time),fontsize = 15)\n",
    "plt.imshow(wordc, interpolation='bilinear')\n",
    "plt.savefig(f'./output/워드클라우드/{keyword}_{time}.png')\n",
    "plt.close()"
   ]
  },
  {
   "cell_type": "markdown",
   "metadata": {},
   "source": [
    "### 이하작업본 gif"
   ]
  },
  {
   "cell_type": "code",
   "execution_count": null,
   "metadata": {
    "ExecuteTime": {
     "end_time": "2020-06-10T07:41:50.953298Z",
     "start_time": "2020-06-10T07:36:16.769Z"
    }
   },
   "outputs": [],
   "source": [
    "path = \"./output/워드클라우드/\""
   ]
  },
  {
   "cell_type": "code",
   "execution_count": null,
   "metadata": {
    "ExecuteTime": {
     "end_time": "2020-06-10T07:41:50.954298Z",
     "start_time": "2020-06-10T07:36:16.769Z"
    }
   },
   "outputs": [],
   "source": [
    "make_gif(path)"
   ]
  },
  {
   "cell_type": "code",
   "execution_count": null,
   "metadata": {
    "ExecuteTime": {
     "end_time": "2020-06-10T07:41:50.954298Z",
     "start_time": "2020-06-10T07:36:16.770Z"
    }
   },
   "outputs": [],
   "source": [
    "png_ls[1]"
   ]
  },
  {
   "cell_type": "code",
   "execution_count": null,
   "metadata": {
    "ExecuteTime": {
     "end_time": "2020-06-10T07:41:50.955298Z",
     "start_time": "2020-06-10T07:36:16.771Z"
    }
   },
   "outputs": [],
   "source": [
    "png_ls[1].split('.')[1] in (['png','jpg'])"
   ]
  },
  {
   "cell_type": "code",
   "execution_count": null,
   "metadata": {
    "ExecuteTime": {
     "end_time": "2020-06-10T07:41:50.955298Z",
     "start_time": "2020-06-10T07:36:16.772Z"
    }
   },
   "outputs": [],
   "source": [
    "file_list = os.listdir(path)"
   ]
  },
  {
   "cell_type": "code",
   "execution_count": null,
   "metadata": {
    "ExecuteTime": {
     "end_time": "2020-06-10T07:41:50.956298Z",
     "start_time": "2020-06-10T07:36:16.773Z"
    }
   },
   "outputs": [],
   "source": [
    "png_ls =[]\n",
    "for file in file_list:\n",
    "    try :\n",
    "        if file.split('.')[1] == 'png':\n",
    "            png_ls.append(file)\n",
    "    except : \n",
    "        pass\n"
   ]
  },
  {
   "cell_type": "code",
   "execution_count": null,
   "metadata": {
    "ExecuteTime": {
     "end_time": "2020-06-10T07:41:50.956298Z",
     "start_time": "2020-06-10T07:36:16.774Z"
    }
   },
   "outputs": [],
   "source": [
    "main = png_ls[0].split('_')[0]\n",
    "tail = png_ls[0].split('_')[2]\n",
    "start = png_ls[0].split('_')[1]\n",
    "end = png_ls[-1].split('_')[1]"
   ]
  },
  {
   "cell_type": "code",
   "execution_count": null,
   "metadata": {
    "ExecuteTime": {
     "end_time": "2020-06-10T07:41:50.957298Z",
     "start_time": "2020-06-10T07:36:16.775Z"
    }
   },
   "outputs": [],
   "source": [
    "# path = [f\"./pngs/{i}\" for i in os.listdir(\"./pngs\")]\n",
    "paths = [ np.array(Image.open(path+file)) for file in png_ls]\n",
    "np.array(Image.open(path+file)) for file in png_ls\n",
    "imageio.mimsave(f'./output/워드클라우드/{keyword}.gif', paths, fps=0.5)"
   ]
  },
  {
   "cell_type": "code",
   "execution_count": null,
   "metadata": {
    "ExecuteTime": {
     "end_time": "2020-06-10T07:41:50.958299Z",
     "start_time": "2020-06-10T07:36:16.776Z"
    }
   },
   "outputs": [],
   "source": [
    "np.array(Image.(path+file)) for file in png_ls"
   ]
  }
 ],
 "metadata": {
  "kernelspec": {
   "display_name": "Python 3",
   "language": "python",
   "name": "python3"
  },
  "language_info": {
   "codemirror_mode": {
    "name": "ipython",
    "version": 3
   },
   "file_extension": ".py",
   "mimetype": "text/x-python",
   "name": "python",
   "nbconvert_exporter": "python",
   "pygments_lexer": "ipython3",
   "version": "3.6.5"
  }
 },
 "nbformat": 4,
 "nbformat_minor": 2
}

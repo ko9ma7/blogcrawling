{
 "cells": [
  {
   "cell_type": "markdown",
   "metadata": {},
   "source": [
    "# 목적\n",
    "* 블로그 내용을 긁어와서 연관분석 진행\n",
    "1. keyword관련 블로그 크롤링 \n",
    "    정확도 기준으로 긁어오되 날짜도 같이 가져와서 나중 어떤 날짜에 집중되어 있는지 확인  \n",
    "    한 블로그당 단어빈도수 분석(필요할까)\n",
    "2. 블로그 내 단어 토크나이즈하고 \n",
    "3. 연관분석실시\n"
   ]
  },
  {
   "cell_type": "markdown",
   "metadata": {},
   "source": [
    "# 선행설치"
   ]
  },
  {
   "cell_type": "code",
   "execution_count": 1,
   "metadata": {
    "ExecuteTime": {
     "end_time": "2020-04-03T01:52:27.139565Z",
     "start_time": "2020-04-03T01:52:27.137565Z"
    }
   },
   "outputs": [],
   "source": [
    "# # 크롤링\n",
    "# !pip install beautifulsoup4\n",
    "# !pip install requests\n",
    "# !pip install lxm\n",
    "# # 연관분석\n",
    "# !pip install apyori\n",
    "# # 자연어처리\n",
    "# !pip install konlpy (JDK 설치가 되어있어야함 )\n",
    "# # 워드클라우드\n",
    "# !pip install wordcloud"
   ]
  },
  {
   "cell_type": "code",
   "execution_count": 31,
   "metadata": {
    "ExecuteTime": {
     "end_time": "2020-04-03T02:12:19.466924Z",
     "start_time": "2020-04-03T02:12:18.364393Z"
    }
   },
   "outputs": [
    {
     "data": {
      "text/html": [
       "<style>.container {width:100% !important; }</style>"
      ],
      "text/plain": [
       "<IPython.core.display.HTML object>"
      ]
     },
     "metadata": {},
     "output_type": "display_data"
    }
   ],
   "source": [
    "import seaborn as sns\n",
    "import matplotlib.pyplot as plt\n",
    "\n",
    "from tqdm import tqdm_notebook  # 진행과정 시각화\n",
    "from datetime import timedelta  # 시간날짜\n",
    "from apyori import apriori  # 연관분석\n",
    "\n",
    "import re\n",
    "import json\n",
    "import math\n",
    "import datetime\n",
    "from datetime import timedelta\n",
    "import pandas as pd\n",
    "\n",
    "import requests\n",
    "import urllib.request\n",
    "import urllib.error\n",
    "import urllib.parse\n",
    "from bs4 import BeautifulSoup  # 크롤링\n",
    "\n",
    "import wordcloud\n",
    "import konlpy\n",
    "from konlpy.tag import Komoran,Kkma,Okt,Twitter  # 자연어처리\n",
    "from eunjeon import Mecab #은전한닢\n",
    "mecab = Mecab()\n",
    "komoran = Komoran(userdic='./user_dictionary.txt')\n",
    "\n",
    "#한글깨짐방지\n",
    "plt.rc('font',family='Malgun Gothic')\n",
    "plt.rcParams['axes.unicode_minus'] = False\n",
    "\n",
    "from IPython.core.display import display, HTML\n",
    "display(HTML('<style>.container {width:100% !important; }</style>'))"
   ]
  },
  {
   "cell_type": "markdown",
   "metadata": {},
   "source": [
    "# 네이버 검색 URl구조"
   ]
  },
  {
   "cell_type": "markdown",
   "metadata": {},
   "source": [
    "date_from - YYYYMMDD : 시작날짜 date_option 8일때   \n",
    "date_option - int : 0 : 전체, 2 : 1일, 3 : 1주, 4 : 1개월, 6 : 6개월, 7 : 1년, 8 : 기간지정  \n",
    "date_to - YYYYMMDD : 마지막날짜 date_option 8일때  \n",
    "dup_remove - int : 유사문서제거옵션 1 : 제거, 0 : 유지  \n",
    "nso - str : _상세검색으로 추정_   \n",
    "post_blogurl - ?  \n",
    "post_blogurl_without - ?   \n",
    "query - str : 검색어     \n",
    "sm=tab_pge -?    \n",
    "st - str : 정렬순서 sim : 유사도 date : 날짜    "
   ]
  },
  {
   "cell_type": "code",
   "execution_count": 10,
   "metadata": {
    "ExecuteTime": {
     "end_time": "2020-04-03T02:04:30.232815Z",
     "start_time": "2020-04-03T02:04:30.230815Z"
    }
   },
   "outputs": [],
   "source": [
    "# #네이버에서 검색했을때 url구조\n",
    "# https://search.naver.com/search.naver\n",
    "#     ?date_from=&\n",
    "#     date_option=0&\n",
    "#     date_to=&\n",
    "#     dup_remove=1&\n",
    "#     nso=&\n",
    "#     post_blogurl=\n",
    "#     &post_blogurl_without=\n",
    "#     &query=%EC%96%91%EC%96%91\n",
    "#     &sm=tab_pge\n",
    "#     &srchby=all\n",
    "#     &st=sim\n",
    "#     &where=post\n",
    "#     &start=11"
   ]
  },
  {
   "cell_type": "code",
   "execution_count": 108,
   "metadata": {
    "ExecuteTime": {
     "end_time": "2020-04-03T04:02:39.469020Z",
     "start_time": "2020-04-03T04:02:39.465019Z"
    },
    "code_folding": [
     0
    ]
   },
   "outputs": [],
   "source": [
    "def del_outword(string):\n",
    "    '''\n",
    "    이모티콘, \\u200b과 같은 문자가 아닌 것 제거\n",
    "    #이모티콘 제거 [출처](https://stackoverflow.com/questions/33404752/removing-emojis-from-a-string-in-python)\n",
    "    '''\n",
    "    #이모지제거\n",
    "    emoji_pattern = re.compile(\"[\"\n",
    "                u\"\\U0001F600-\\U0001F64F\"  # emoticons\n",
    "                u\"\\U0001F300-\\U0001F5FF\"  # symbols & pictographs\n",
    "                u\"\\U0001F680-\\U0001F6FF\"  # transport & map symbols\n",
    "                u\"\\U0001F1E0-\\U0001F1FF\"  # flags (iOS)\n",
    "                u\"\\U00002702-\\U000027B0\"\n",
    "                u\"\\U0001f926-\\U0001f937\"\n",
    "                u'\\U00010000-\\U0010ffff'\n",
    "                u\"\\u200d\"\n",
    "                u\"\\u2640-\\u2642\"\n",
    "                u\"\\u2600-\\u2B55\"\n",
    "                u\"\\u23cf\"\n",
    "                u\"\\u23e9\"\n",
    "                u\"\\u231a\"\n",
    "                u\"\\u3030\"\n",
    "                u\"\\ufe0f\"\n",
    "    \"]+\", flags=re.UNICODE)\n",
    "\n",
    "    #분석에 어긋나는 불용어구 제외 (특수문자, 의성어)\n",
    "    han = re.compile(r'[ㄱ-ㅎㅏ-ㅣ!?~\"^_\\n\\r#\\ufeff\\u200d\\u200b\\u7643]+')\n",
    "    \n",
    "    string = emoji_pattern.sub(r'',string)\n",
    "    string = han.sub(r'',string)\n",
    "    \n",
    "    return string"
   ]
  },
  {
   "cell_type": "code",
   "execution_count": 12,
   "metadata": {
    "ExecuteTime": {
     "end_time": "2020-04-03T02:04:31.210764Z",
     "start_time": "2020-04-03T02:04:31.206763Z"
    },
    "code_folding": [
     0
    ]
   },
   "outputs": [],
   "source": [
    "def time_change(x):\n",
    "    '''\n",
    "    검색결과에 있는 문자를 날짜로 변경\n",
    "    '''\n",
    "    min_pattern = re.compile('[0-9]+'+\"분 전\")\n",
    "    hour_pattern = re.compile('[0-9]+'+\"시간 전\")\n",
    "    day_pattern = re.compile('[0-9]+'+\"일 전\")\n",
    "\n",
    "    today = datetime.datetime.today().date()\n",
    "    # 일자\n",
    "    try:\n",
    "        d = re.findall(day_pattern, x)[0][0]\n",
    "        x = today - timedelta(days=int(d))\n",
    "    except:\n",
    "        pass\n",
    "    # 시간\n",
    "    try:\n",
    "        d = re.findall(hour_pattern, x)[0]\n",
    "        x = today\n",
    "    except:\n",
    "        pass\n",
    "    # 분\n",
    "    try:\n",
    "        h = re.findall(min_pattern, x)[0]\n",
    "        x = today\n",
    "    except:\n",
    "        pass\n",
    "\n",
    "    if x == '어제':\n",
    "        x = today - timedelta(days=1)\n",
    "\n",
    "    elif type(x) == str:\n",
    "        x = datetime.datetime.strptime(x.replace('.', '-')[:-1], '%Y-%m-%d')\n",
    "    #모든일자를 1일로 통일\n",
    "    x = datetime.datetime.strptime(x.strftime('%Y-%m')+\"-01\",\"%Y-%m-%d\")\n",
    "    return x"
   ]
  },
  {
   "cell_type": "code",
   "execution_count": 13,
   "metadata": {
    "ExecuteTime": {
     "end_time": "2020-04-03T02:04:32.009034Z",
     "start_time": "2020-04-03T02:04:31.999033Z"
    },
    "code_folding": []
   },
   "outputs": [],
   "source": [
    "def naver_blog_crawling(keyword, start_num=1, end_num=101, date_option=0, date_from='', date_to='', save=True):\n",
    "    '''\n",
    "    네이버 블로그 크롤링 함수\n",
    "    네이버 블로그 검색결과를 크롤링하며, 1페이지당 10개씩을 검색한다\n",
    "\n",
    "    keyword : string\n",
    "     검색하고 싶은 키워드를 넣는다\n",
    "     \"keyword +필수어\" 형태로 필수단어 추가 가능\n",
    "    start_num : int (default = 1) \n",
    "     시작할 위치 1로 끝나는 단위 추천\n",
    "    end_num : int (default = 101)\n",
    "     끝나는 위치 1로 끝나는 단위 추천\n",
    "    date_option : int (default = 0)\n",
    "     주어지는 숫자에 의해 검색방법이 변경됨\n",
    "     0 : 전체, 2 : 1일, 3 : 1주, 4 : 1개월, 6 : 6개월, 7 : 1년, 8 : 기간지정\n",
    "    date_from : YYYYMMDD (default = \"\")\n",
    "     date_option이 8일때 사용 검색 시작일자를 지정\n",
    "    date_to : YYYMMDD (default = \"\")\n",
    "     date_option이 8일때 사용 검색 마지막일자를 지정\n",
    "    save : bool (default = True)\n",
    "     csv로 저장 여부 결정\n",
    "    '''\n",
    "    # url 찾는 패턴\n",
    "    pattern = re.compile('href=\"'+'[A-z0-9\\:\\/\\&\\;\\.\\?\\=]+')\n",
    "\n",
    "    # 저장위치\n",
    "    postdates = []\n",
    "    strings = []\n",
    "    urls = []\n",
    "    titles = []\n",
    "    output_error = []\n",
    "    connection_error = []\n",
    "    count = 1\n",
    "\n",
    "    # keyword와 시작넘버만 바꾸면서 진행하게끔\n",
    "    base_url = 'https://search.naver.com/search.naver?date_from={date_from}&date_option={date_option}&date_to={date_to}&dup_remove=1&nso=&post_blogurl=&post_blogurl_without=&query={keyword}&sm=tab_pge&srchby=all&st=sim&where=post&start={start}'\n",
    "\n",
    "    # for문 돌려야하는 부분(각 검색결과의 시작은 1이고, 10개씩 보여짐,)\n",
    "    for i in tqdm_notebook(range(start_num, end_num+1, 10), desc=\"page work\"):\n",
    "        search_list = base_url.format(keyword=keyword, start=i,\n",
    "                                      date_option=date_option, date_from=date_from, date_to=date_to)\n",
    "        response = requests.get(search_list)\n",
    "\n",
    "        if response.status_code is 200:\n",
    "            # 1번 검색시 10개의 결과가 출력 따라서 section은 총 10개\n",
    "            soup = BeautifulSoup(response.content, 'lxml')\n",
    "            sections = soup.findAll('li', attrs={'class': 'sh_blog_top'})\n",
    "\n",
    "            for section in sections:\n",
    "                try:\n",
    "                    # href부분만 가져오기 어려워서 정규표현식으로 검색\n",
    "                    url = re.findall(pattern, str(section))[0].replace(\n",
    "                        '?Redirect=Log&amp;logNo=', '/').replace('href=\"', '')\n",
    "                    title = section.select_one('a.txt84').text\n",
    "                    date = section.select_one('dd.txt_inline').text.strip()\n",
    "\n",
    "                    # 블로그 url안에 들어가기(아직 크롤링불가)\n",
    "                    get_blog_post_content_code = requests.get(url)\n",
    "                    get_blog_post_content_text = get_blog_post_content_code.text\n",
    "                    get_blog_post_content_soup = BeautifulSoup(\n",
    "                        get_blog_post_content_text, 'lxml')\n",
    "\n",
    "                    # 크롤링가능한 url에 접속\n",
    "                    real_blog_post_url = \"http://blog.naver.com\" + \\\n",
    "                        get_blog_post_content_soup.select('#mainFrame')[\n",
    "                            0].get('src')\n",
    "                    get_real_blog_post_content_code = requests.get(\n",
    "                        real_blog_post_url)\n",
    "                    get_real_blog_post_content_text = get_real_blog_post_content_code.text\n",
    "                    get_real_blog_post_content_soup = BeautifulSoup(\n",
    "                        get_real_blog_post_content_text, 'lxml')\n",
    "\n",
    "                    # url (에러나면 위에서부터 에러남)\n",
    "                    urls.append(real_blog_post_url)\n",
    "                    # 블로그명\n",
    "                    titles.append(title)\n",
    "                    # 날짜\n",
    "                    postdates.append(date)\n",
    "\n",
    "                    # 본문  (postviewarea 패턴과 se-main-container 2가지 유형이 있어 분리함)\n",
    "                    try:\n",
    "                        blog_post_content = get_real_blog_post_content_soup.select(\n",
    "                            'div#postViewArea')\n",
    "                        if len(blog_post_content) == 0:\n",
    "                            blog_post_content = get_real_blog_post_content_soup.select(\n",
    "                                'div.se-main-container')\n",
    "                            if len(blog_post_content) == 0:\n",
    "                                blog_post_content = get_real_blog_post_content_soup.select(\n",
    "                                    'div.se_component_wrap.sect_dsc.__se_component_area')\n",
    "\n",
    "                        string = \"\"\n",
    "                        for sentence in blog_post_content[0].stripped_strings:\n",
    "                            string += \" \"+sentence.replace('\\xa0', \" \")\n",
    "                        # 비언어 텍스트제거\n",
    "                        string = del_outword(string)\n",
    "                        strings.append([string])\n",
    "                        count += 1\n",
    "                    except:\n",
    "                        strings.append([\"X\"])\n",
    "                        count += 1\n",
    "\n",
    "                except Exception as ex:\n",
    "                    # print('가져오기에러 {num}번째'.format(num = count),ex)\n",
    "                    output_error.append(count)\n",
    "                    count += 1\n",
    "                    pass\n",
    "        else:\n",
    "            # print('연결오류 {num}번째'.format(num = count),response.status_code)\n",
    "            connection_error.append(count)\n",
    "            count += 1\n",
    "\n",
    "    out_length = len(output_error+connection_error)\n",
    "    real_length = end_num-start_num+10-out_length\n",
    "    print(\"검색한 길이:\", end_num-start_num+10)\n",
    "    print(\"제외된 길이:\", out_length)\n",
    "    print(\"검색된 길이:\", real_length)\n",
    "    crawling_df = pd.DataFrame(\n",
    "        {\"post_dates\": postdates, \"title\": titles, \"full_text\": strings, \"url\": urls})\n",
    "    crawling_df['post_dates'] = crawling_df['post_dates'].apply(\n",
    "        lambda x: time_change(x))\n",
    "    if save == True:\n",
    "        today = datetime.datetime.today().date()\n",
    "        str(today)\n",
    "        crawling_df.to_csv(str(today)+\"_\"+keyword+\"_\" +\n",
    "                           str(real_length)+'.csv', encoding='utf-8')\n",
    "    return crawling_df, output_error, real_length"
   ]
  },
  {
   "cell_type": "code",
   "execution_count": 103,
   "metadata": {
    "ExecuteTime": {
     "end_time": "2020-04-03T03:12:08.541097Z",
     "start_time": "2020-04-03T03:12:08.537104Z"
    }
   },
   "outputs": [],
   "source": [
    "# keyword검색시 \"검색어 +필수어\" 형태로 필수단어 삽입가능\n",
    "today = datetime.datetime.today().date()\n",
    "keyword = \"동산+ 양양\"\n",
    "start_num = 1\n",
    "end_num = 1201\n",
    "date_option = 0\n",
    "date_from = \"20150101\"\n",
    "date_to = \"20190101\""
   ]
  },
  {
   "cell_type": "code",
   "execution_count": 104,
   "metadata": {
    "ExecuteTime": {
     "end_time": "2020-04-03T03:15:13.509349Z",
     "start_time": "2020-04-03T03:12:09.108796Z"
    },
    "scrolled": false
   },
   "outputs": [
    {
     "name": "stderr",
     "output_type": "stream",
     "text": [
      "C:\\Users\\User\\Anaconda3\\lib\\site-packages\\ipykernel_launcher.py:39: TqdmDeprecationWarning: This function will be removed in tqdm==5.0.0\n",
      "Please use `tqdm.notebook.tqdm` instead of `tqdm.tqdm_notebook`\n"
     ]
    },
    {
     "data": {
      "application/vnd.jupyter.widget-view+json": {
       "model_id": "30900ce145dd4aca9bd96b1ddcb320ee",
       "version_major": 2,
       "version_minor": 0
      },
      "text/plain": [
       "HBox(children=(FloatProgress(value=0.0, description='page work', max=103.0, style=ProgressStyle(description_wi…"
      ]
     },
     "metadata": {},
     "output_type": "display_data"
    },
    {
     "name": "stdout",
     "output_type": "stream",
     "text": [
      "\n",
      "검색한 길이: 1030\n",
      "제외된 길이: 199\n",
      "검색된 길이: 831\n"
     ]
    }
   ],
   "source": [
    "crawling_df, output_error, real_length = naver_blog_crawling(keyword, start_num, end_num, date_option, date_from, date_to, save=False)"
   ]
  },
  {
   "cell_type": "markdown",
   "metadata": {},
   "source": [
    "### 추출된 데이터 일자별 집중도 확인"
   ]
  },
  {
   "cell_type": "code",
   "execution_count": 105,
   "metadata": {
    "ExecuteTime": {
     "end_time": "2020-04-03T03:15:13.650382Z",
     "start_time": "2020-04-03T03:15:13.532355Z"
    }
   },
   "outputs": [
    {
     "data": {
      "image/png": "[encoded data removed]",
      "text/plain": [
       "<Figure size 504x360 with 1 Axes>"
      ]
     },
     "metadata": {},
     "output_type": "display_data"
    }
   ],
   "source": [
    "plt.figure(figsize=(7,5))\n",
    "plt.plot(crawling_df['post_dates'].value_counts().sort_index())\n",
    "plt.xticks(rotation = 45)\n",
    "# plt.savefig(\"./output/\"+str(today)+\"_\"+keyword+\"_\"+str(real_length)+'_날짜빈도'+'.png')\n",
    "plt.show()"
   ]
  },
  {
   "cell_type": "markdown",
   "metadata": {},
   "source": [
    "### 토크나이즈"
   ]
  },
  {
   "cell_type": "markdown",
   "metadata": {},
   "source": [
    "### 함수화전"
   ]
  },
  {
   "cell_type": "code",
   "execution_count": 141,
   "metadata": {
    "ExecuteTime": {
     "end_time": "2020-04-03T08:34:37.516773Z",
     "start_time": "2020-04-03T08:34:35.821991Z"
    }
   },
   "outputs": [
    {
     "name": "stderr",
     "output_type": "stream",
     "text": [
      "C:\\Users\\User\\Anaconda3\\lib\\site-packages\\ipykernel_launcher.py:10: TqdmDeprecationWarning: This function will be removed in tqdm==5.0.0\n",
      "Please use `tqdm.notebook.tqdm` instead of `tqdm.tqdm_notebook`\n",
      "  # Remove the CWD from sys.path while we load stuff.\n"
     ]
    },
    {
     "data": {
      "application/vnd.jupyter.widget-view+json": {
       "model_id": "d6dcc898c9384560843487a9f50fabb9",
       "version_major": 2,
       "version_minor": 0
      },
      "text/plain": [
       "HBox(children=(FloatProgress(value=0.0, max=831.0), HTML(value='')))"
      ]
     },
     "metadata": {},
     "output_type": "display_data"
    },
    {
     "name": "stdout",
     "output_type": "stream",
     "text": [
      "\n"
     ]
    }
   ],
   "source": [
    "#은전한닢\n",
    "unique = True\n",
    "mecab = Mecab() \n",
    "\n",
    "sw = list(set(['오늘','시간','최근','지난','관련','이번','이날','현재','10','올해','지난해','있다','이상','기준','때문',\n",
    "     \"메뉴\",\"주문\",\"강원도\",'정도','도착','생각','양양군','사진','위치','라고','양양',\"아침\",\"저녁\",'다음','우리','시작','여기','이곳','사람']))\n",
    "\n",
    "all_nouns =[]\n",
    "\n",
    "for i in tqdm_notebook(range(0,len(crawling_df))):\n",
    "    nouns = mecab.nouns(crawling_df['full_text'][i][0])\n",
    "    clean_nouns = list(filter(lambda word : (len(word)>1)&(word not in sw),nouns))\n",
    "    if unique == True:\n",
    "        clean_nouns = list(set(clean_nouns))\n",
    "    all_nouns.append(clean_nouns)"
   ]
  },
  {
   "cell_type": "code",
   "execution_count": 119,
   "metadata": {
    "ExecuteTime": {
     "end_time": "2020-04-03T07:42:21.734982Z",
     "start_time": "2020-04-03T07:42:19.764225Z"
    }
   },
   "outputs": [],
   "source": [
    "VA_list = []\n",
    "for i in range(0, len(mecab.pos(crawling_df['full_text'][2][0]))):\n",
    "    if mecab.pos(crawling_df['full_text'][1][0])[i][1] =='VA':\n",
    "        VA_list.append(mecab.pos(crawling_df['full_text'][1][0])[i][0])\n",
    "    "
   ]
  },
  {
   "cell_type": "code",
   "execution_count": 137,
   "metadata": {
    "ExecuteTime": {
     "end_time": "2020-04-03T07:54:08.264393Z",
     "start_time": "2020-04-03T07:54:08.260392Z"
    }
   },
   "outputs": [
    {
     "data": {
      "text/plain": [
       "'  안녕하세요 해피밍입니다 저 7월에 이어 2주 전에 또 양양서핑을 다녀왔어요 :)  양양서핑이 너무 재밌었던 기억 때문에 또 서핑강습을 받으러 양양에 갔었던건데, 인구해변쪽에는 사람이 많아서 이번엔 동산해수욕장쪽에 숙소를 잡았답니다   이번에 방문하게 된 곳은 힐비치서프리조트라는 곳인데, 서핑강습 + 서핑렌탈 + 숙박까지 한 번에 해결할 수 있는 서핑리조트예요  지난 양양서핑 포스팅에도 언급했지만, 서핑 올때는 이렇게 패키지로 모든 것을 제공해주는 서핑리조트가 좋아요  힐비치서프리조트 강원도 양양군 현남면 동산리 203-19  힐비치서프리조트는 이렇게 동산해수욕장 바로 앞에 위치하고 있어요  바다랑 조금만 떨어진 숙소를 가도 보통 서핑보드를 숙소부터 들고가야 하는 불편함이 있는데, 이곳은 바로 바다 앞에 위치해서 좋았어요   게다가 동산해수욕장을 독점하고 있어서 서핑강습 받을 때도 딱 저희 숙소에서 예약한 사람들밖에 없더라고요  개인적으로 즐기며 놀기에는 서피비치, 인구해변이 좋고 사람 없는데서 서핑을 재밌고 안전하게 하고 싶다 하면 동산해변이 훨씬 좋은 것 같아요   더군다나 힐비치서프리조트에는 마스코트인 토르가 있어요 :)  토르가 너무 귀여워서 이곳을 지나는 사람마다 멈춰서서 토르의 관심을 끌기 위해 노력하더라고요   8월 둘째주 주말에 간거라 동서울터미널부터 양양터미널까지 자그마치 4시간 반이 걸렸어요  지난 번에 왔을 때는 2시간밖에 안걸리길래 밀려도 3시간쯤 걸릴 줄 알고 도착하자마자 서핑 수업을 받는 일정으로 예약을 했거든요  근데 생각보다 시간이 너무 오버돼서 결국 수업 시간까지 도착하질 못했어요  다행히도 사장님께서 너그럽게 이해해주시고 다음날 아침 수업을 듣게 해주셨답니다  힐비치서프리조트의 1층 공간인데, 누구나 이곳을 자유롭게 사용할 수 있어요   주방도 마련이 되어 있는데, 모 회사의 서핑 동호회 분들은 저녁에 주방도 이용하시고 고기 사와서 바베큐도 해드시더라고요  숙소에서 바베큐 구울 수 있는 도구를 대여해주는듯 했습니다 여러모로 숙박객 편의를 많이 봐주는 것 같았어요   저는 도미토리 204호를 배정받았어요 :) 방 안에도 화장실이 있는데 방 밖에도 화장실이 별도로 있어서 편했어요   도미토리 베드인데, 침구에서 냄새도 안나고 깔끔해서 밤에 푹 잘 수 있었어요   8월 둘째주는 정말 무더웠는데 방마다 벽걸이 에어컨을 자유롭게 켤 수 있어서 다행이었어요   베드 넘버랑 맞춰서 이용할 수 있는 개인 사물함도 있어요 저는 이곳에 지갑이랑 카메라를 넣어놨었어요   도미토리지만 방안에 샤워실 겸 화장실이 있어서 불편하지 않게 지낼 수 있었던 것 같아요  혹시나 화장실에 누군가 있다면 숙소 1층에 있는 화장실을 써도 되기 때문에 부담이 없었답니다   그리고 방안에 아무도 없을 때는 1층 로비에 키를 반납하는 방식이라 키를 따로 안 들고 다녀도 돼서 좋았어요   숙소에 거의 4시가 넘어 도착한터라 숙소에서 잠깐 쉬고나니까 금방 날이 어둑어둑해졌어요   사실 제대로만 도착했다면 3시에 서핑 강습 받고 푹 쉬다가 밤에 해변가서 잠깐 놀고 들어올 예정이었는데, 강습에 늦어버려서 저녁에 뭘해야할지 모르겠더라고요   이러한 저희 얘기를 듣고 사장님께서 감사하게도 저녁을 같이 먹자고 제안해주셨어요  원래 힐비치서프리조트는 저녁을 제공하거나 파티를 여는 숙소가 아닌데도 저희를 챙겨주신거죠   서핑을 즐기시는 서퍼분들은 보통 양양을 매주 오시는데, 그렇기 때문에 양양의 서핑리조트들은 대부분 사장님과 숙박객 여럿이 모여 소모임이 형성되어 있는듯 했어요  힐비치서프리조트에도 주기적으로 서핑하러 오는 서퍼분들이 계셨는데, 양양에 식당이 마땅치 않다보니 그분들끼리 식사를 만들어서 드시더라고요  감사하게도 그 식사 자리에 저희를 초대해주신거예요   이날의 저녁 메뉴는 밀푀유나베와 모츠나베 :) 햄버거, 핫도그로 보통 끼니를 간단히 해결하는 양양에서 이런 맛있는 음식을 먹게 될 줄이야...   요리를 잘하시는 서퍼분이 계셔서 나베에 곁들여먹을 소스도 무려 4가지나 준비해주셨어요  밀푀유나베랑 모츠나베 둘 다 식당에서 파는 것처럼 맛있어서 엄청 만족스럽게 먹었어요  감사한 마음에 설거지라도 했어야 했는데 설거지 당번을 뽑는 게임에서 이겨서 설거지도 면제가 된거있죠()  사장님이 유쾌하셔서 그런지 힐비치서프리조트에 자주 오시는 서퍼분들도 다 친절하고 재밌으셨어요  너무 감사한 마음에 다음날 저희가 간식거리라도 사다드리려고 했는데 거절하시더라고요    저희가 식사하는 와중에도 토르는 옆에서 이렇게 얌전히 있더라고요 정말 너무 귀여웠어요   저녁 식사를 마치고 올려다 본 해지는 예쁜 하늘 :D   이 장면을 기록해두고 싶다는 생각이 들어서 같이 간 언니의 아이폰으로 타임랩스를 찍어두고 해변을 산책했어요   골든아워에 찍은 동산해수욕장은 그림같이 예뻤어요 :)  다른 숙박객분들과 이런저런 얘기를 나누다가, 언니와 인구해변쪽으로 자리를 옮겨서 놀았어요   이날 동산해수욕장에 행사가 있어서 분위기가 핫했어요 젊음을 만끽하고 싶으신 분들은 양양으로 오시면 돼요  우연히 어떤 펍을 지나게 됐는데 거기서는 버블파티도 하더라고요 스페인의 이비자 섬인줄 알았어요()   버블파티에는 관심이 없어서 언니와 맥주 한 캔으로 마무리한 양양여행의 첫째날  둘이서 바닷가에 설치되어 있는 해먹도 한시간동안 타고, 흘러나오는 음악에 맞춰 춤도 추고 참 재밌게 놀았어요   다음날 아침에 숙소 1층에서 찍은 동산해수욕장이에요  힐비치서프리조트는 동산해수욕장 바로 앞에 있기 때문에 전객실이 오션뷰예요  정말 저렴한 도미토리 숙소에서 오션뷰를 볼 수 있다는게 너무 좋았어요  맑게 갠 하늘 :)   다행히 이날의 파도 상태가 괜찮아서 오전 10시에 서핑강습을 진행할 수 있었어요  동해의 날씨는 변덕스럽기 때문에 갑자기 해수욕장 입욕 통제가 되기도 하고 풍랑주의보가 내려지기도 해요  그러면 서핑도 못하게 될 가능성이 높기 때문에, 미리 파도의 상태를 확인하고 양양을 오는게 좋아요   체형에 맞는 서핑슈트를 받고 탈의실에서 갈아입은 후 숙소 바로 앞 바다에서 이론 강습을 들었어요  뙤약볕에서 이론 강습을 들으면 굉장히 고통스러운데, 힐비치에서 세워놓은 천막이 있어서 그 아래에서 수업을 들으니 쾌적하고 좋았어요  보통 일괄적으로 육지에서 자세를 가르친 다음, 한 명 한 명 바다에서 밀어주는 방식으로 수업 진행이 되는데  선생님께서 개인별로 어떤 부분이 부족한지 어떻게 개선을 해야되는지 피드백을 잘해주셔서 서핑 실력이 좀 업그레이드 될 수 있었어요  이때가 인생 3번째 서핑이었는데 선생님께서 잘한다고 칭찬도 해주셨어요(신남)  친절하신 사장님, 서핑 독점해변, 깔끔한 시설, 귀여운 토르까지 모든게 다 만족스러웠던 숙소였어요  양양서핑 숙소 고민하시는 분들께 힐비치서프리조트 추천합니다   사이트 : www.healbeachsurf.com 인스타 : www.instagram.com/p/ByR70tmgXRm    '"
      ]
     },
     "execution_count": 137,
     "metadata": {},
     "output_type": "execute_result"
    }
   ],
   "source": [
    "crawling_df['full_text'][3][0]"
   ]
  },
  {
   "cell_type": "code",
   "execution_count": 147,
   "metadata": {
    "ExecuteTime": {
     "end_time": "2020-04-03T08:39:19.369130Z",
     "start_time": "2020-04-03T08:39:19.357938Z"
    }
   },
   "outputs": [
    {
     "data": {
      "text/plain": [
       "'동산+'"
      ]
     },
     "execution_count": 147,
     "metadata": {},
     "output_type": "execute_result"
    }
   ],
   "source": [
    "keyword.split(' ')[0]"
   ]
  },
  {
   "cell_type": "code",
   "execution_count": 136,
   "metadata": {
    "ExecuteTime": {
     "end_time": "2020-04-03T07:54:02.719566Z",
     "start_time": "2020-04-03T07:54:02.604410Z"
    }
   },
   "outputs": [],
   "source": [
    "ko_a = komoran.pos(crawling_df['full_text'][3][0])\n",
    "me_a = mecab.pos(crawling_df['full_text'][3][0])\n",
    "pd.concat([pd.DataFrame(ko_a),pd.DataFrame(me_a)],axis= 1).to_csv('ma_a.csv',encoding = 'cp949')"
   ]
  },
  {
   "cell_type": "code",
   "execution_count": 120,
   "metadata": {
    "ExecuteTime": {
     "end_time": "2020-04-03T07:42:21.767990Z",
     "start_time": "2020-04-03T07:42:21.764989Z"
    }
   },
   "outputs": [
    {
     "data": {
      "text/plain": [
       "['좋', '늦', '있', '있', '좋', '있', '많', '없', '있', '좋', '있', '좋', '좋', '맛있']"
      ]
     },
     "execution_count": 120,
     "metadata": {},
     "output_type": "execute_result"
    }
   ],
   "source": [
    "VA_list"
   ]
  },
  {
   "cell_type": "code",
   "execution_count": 107,
   "metadata": {
    "ExecuteTime": {
     "end_time": "2020-04-03T03:15:15.626250Z",
     "start_time": "2020-04-03T03:15:15.402554Z"
    }
   },
   "outputs": [
    {
     "ename": "UnicodeEncodeError",
     "evalue": "'cp949' codec can't encode character '\\u7643' in position 5: illegal multibyte sequence",
     "output_type": "error",
     "traceback": [
      "\u001b[1;31m---------------------------------------------------------------------------\u001b[0m",
      "\u001b[1;31mUnicodeEncodeError\u001b[0m                        Traceback (most recent call last)",
      "\u001b[1;32m<ipython-input-107-0fa3af20cee3>\u001b[0m in \u001b[0;36m<module>\u001b[1;34m()\u001b[0m\n\u001b[0;32m     11\u001b[0m \u001b[0mplt\u001b[0m\u001b[1;33m.\u001b[0m\u001b[0mxticks\u001b[0m\u001b[1;33m(\u001b[0m\u001b[0mrotation\u001b[0m \u001b[1;33m=\u001b[0m \u001b[1;36m45\u001b[0m\u001b[1;33m)\u001b[0m\u001b[1;33m\u001b[0m\u001b[0m\n\u001b[0;32m     12\u001b[0m \u001b[1;31m#저장\u001b[0m\u001b[1;33m\u001b[0m\u001b[1;33m\u001b[0m\u001b[0m\n\u001b[1;32m---> 13\u001b[1;33m \u001b[0mcount_df\u001b[0m\u001b[1;33m.\u001b[0m\u001b[0mto_csv\u001b[0m\u001b[1;33m(\u001b[0m\u001b[1;34m\"./output/\"\u001b[0m\u001b[1;33m+\u001b[0m\u001b[0mstr\u001b[0m\u001b[1;33m(\u001b[0m\u001b[0mtoday\u001b[0m\u001b[1;33m)\u001b[0m\u001b[1;33m+\u001b[0m\u001b[1;34m\"_\"\u001b[0m\u001b[1;33m+\u001b[0m\u001b[0mkeyword\u001b[0m\u001b[1;33m+\u001b[0m\u001b[1;34m\"_\"\u001b[0m\u001b[1;33m+\u001b[0m\u001b[0mstr\u001b[0m\u001b[1;33m(\u001b[0m\u001b[0mreal_length\u001b[0m\u001b[1;33m)\u001b[0m\u001b[1;33m+\u001b[0m\u001b[1;34m'_단어빈도'\u001b[0m\u001b[1;33m+\u001b[0m\u001b[1;34m'.csv'\u001b[0m\u001b[1;33m,\u001b[0m\u001b[0mencoding\u001b[0m \u001b[1;33m=\u001b[0m\u001b[1;34m'cp949'\u001b[0m\u001b[1;33m)\u001b[0m\u001b[1;33m\u001b[0m\u001b[0m\n\u001b[0m\u001b[0;32m     14\u001b[0m \u001b[0mplt\u001b[0m\u001b[1;33m.\u001b[0m\u001b[0msavefig\u001b[0m\u001b[1;33m(\u001b[0m\u001b[1;34m\"./output/\"\u001b[0m\u001b[1;33m+\u001b[0m\u001b[0mstr\u001b[0m\u001b[1;33m(\u001b[0m\u001b[0mtoday\u001b[0m\u001b[1;33m)\u001b[0m\u001b[1;33m+\u001b[0m\u001b[1;34m\"_\"\u001b[0m\u001b[1;33m+\u001b[0m\u001b[0mkeyword\u001b[0m\u001b[1;33m+\u001b[0m\u001b[1;34m\"_\"\u001b[0m\u001b[1;33m+\u001b[0m\u001b[0mstr\u001b[0m\u001b[1;33m(\u001b[0m\u001b[0mreal_length\u001b[0m\u001b[1;33m)\u001b[0m\u001b[1;33m+\u001b[0m\u001b[1;34m'_단어빈도'\u001b[0m\u001b[1;33m+\u001b[0m\u001b[1;34m'.png'\u001b[0m\u001b[1;33m)\u001b[0m\u001b[1;33m\u001b[0m\u001b[0m\n\u001b[0;32m     15\u001b[0m \u001b[0mplt\u001b[0m\u001b[1;33m.\u001b[0m\u001b[0mshow\u001b[0m\u001b[1;33m(\u001b[0m\u001b[1;33m)\u001b[0m\u001b[1;33m\u001b[0m\u001b[0m\n",
      "\u001b[1;32m~\\AppData\\Roaming\\Python\\Python36\\site-packages\\pandas\\core\\generic.py\u001b[0m in \u001b[0;36mto_csv\u001b[1;34m(self, path_or_buf, sep, na_rep, float_format, columns, header, index, index_label, mode, encoding, compression, quoting, quotechar, line_terminator, chunksize, date_format, doublequote, escapechar, decimal)\u001b[0m\n\u001b[0;32m   3226\u001b[0m             \u001b[0mdecimal\u001b[0m\u001b[1;33m=\u001b[0m\u001b[0mdecimal\u001b[0m\u001b[1;33m,\u001b[0m\u001b[1;33m\u001b[0m\u001b[0m\n\u001b[0;32m   3227\u001b[0m         )\n\u001b[1;32m-> 3228\u001b[1;33m         \u001b[0mformatter\u001b[0m\u001b[1;33m.\u001b[0m\u001b[0msave\u001b[0m\u001b[1;33m(\u001b[0m\u001b[1;33m)\u001b[0m\u001b[1;33m\u001b[0m\u001b[0m\n\u001b[0m\u001b[0;32m   3229\u001b[0m \u001b[1;33m\u001b[0m\u001b[0m\n\u001b[0;32m   3230\u001b[0m         \u001b[1;32mif\u001b[0m \u001b[0mpath_or_buf\u001b[0m \u001b[1;32mis\u001b[0m \u001b[1;32mNone\u001b[0m\u001b[1;33m:\u001b[0m\u001b[1;33m\u001b[0m\u001b[0m\n",
      "\u001b[1;32m~\\AppData\\Roaming\\Python\\Python36\\site-packages\\pandas\\io\\formats\\csvs.py\u001b[0m in \u001b[0;36msave\u001b[1;34m(self)\u001b[0m\n\u001b[0;32m    200\u001b[0m                 \u001b[0mself\u001b[0m\u001b[1;33m.\u001b[0m\u001b[0mwriter\u001b[0m \u001b[1;33m=\u001b[0m \u001b[0mUnicodeWriter\u001b[0m\u001b[1;33m(\u001b[0m\u001b[0mf\u001b[0m\u001b[1;33m,\u001b[0m \u001b[1;33m**\u001b[0m\u001b[0mwriter_kwargs\u001b[0m\u001b[1;33m)\u001b[0m\u001b[1;33m\u001b[0m\u001b[0m\n\u001b[0;32m    201\u001b[0m \u001b[1;33m\u001b[0m\u001b[0m\n\u001b[1;32m--> 202\u001b[1;33m             \u001b[0mself\u001b[0m\u001b[1;33m.\u001b[0m\u001b[0m_save\u001b[0m\u001b[1;33m(\u001b[0m\u001b[1;33m)\u001b[0m\u001b[1;33m\u001b[0m\u001b[0m\n\u001b[0m\u001b[0;32m    203\u001b[0m \u001b[1;33m\u001b[0m\u001b[0m\n\u001b[0;32m    204\u001b[0m         \u001b[1;32mfinally\u001b[0m\u001b[1;33m:\u001b[0m\u001b[1;33m\u001b[0m\u001b[0m\n",
      "\u001b[1;32m~\\AppData\\Roaming\\Python\\Python36\\site-packages\\pandas\\io\\formats\\csvs.py\u001b[0m in \u001b[0;36m_save\u001b[1;34m(self)\u001b[0m\n\u001b[0;32m    322\u001b[0m                 \u001b[1;32mbreak\u001b[0m\u001b[1;33m\u001b[0m\u001b[0m\n\u001b[0;32m    323\u001b[0m \u001b[1;33m\u001b[0m\u001b[0m\n\u001b[1;32m--> 324\u001b[1;33m             \u001b[0mself\u001b[0m\u001b[1;33m.\u001b[0m\u001b[0m_save_chunk\u001b[0m\u001b[1;33m(\u001b[0m\u001b[0mstart_i\u001b[0m\u001b[1;33m,\u001b[0m \u001b[0mend_i\u001b[0m\u001b[1;33m)\u001b[0m\u001b[1;33m\u001b[0m\u001b[0m\n\u001b[0m\u001b[0;32m    325\u001b[0m \u001b[1;33m\u001b[0m\u001b[0m\n\u001b[0;32m    326\u001b[0m     \u001b[1;32mdef\u001b[0m \u001b[0m_save_chunk\u001b[0m\u001b[1;33m(\u001b[0m\u001b[0mself\u001b[0m\u001b[1;33m,\u001b[0m \u001b[0mstart_i\u001b[0m\u001b[1;33m,\u001b[0m \u001b[0mend_i\u001b[0m\u001b[1;33m)\u001b[0m\u001b[1;33m:\u001b[0m\u001b[1;33m\u001b[0m\u001b[0m\n",
      "\u001b[1;32m~\\AppData\\Roaming\\Python\\Python36\\site-packages\\pandas\\io\\formats\\csvs.py\u001b[0m in \u001b[0;36m_save_chunk\u001b[1;34m(self, start_i, end_i)\u001b[0m\n\u001b[0;32m    354\u001b[0m         )\n\u001b[0;32m    355\u001b[0m \u001b[1;33m\u001b[0m\u001b[0m\n\u001b[1;32m--> 356\u001b[1;33m         \u001b[0mlibwriters\u001b[0m\u001b[1;33m.\u001b[0m\u001b[0mwrite_csv_rows\u001b[0m\u001b[1;33m(\u001b[0m\u001b[0mself\u001b[0m\u001b[1;33m.\u001b[0m\u001b[0mdata\u001b[0m\u001b[1;33m,\u001b[0m \u001b[0mix\u001b[0m\u001b[1;33m,\u001b[0m \u001b[0mself\u001b[0m\u001b[1;33m.\u001b[0m\u001b[0mnlevels\u001b[0m\u001b[1;33m,\u001b[0m \u001b[0mself\u001b[0m\u001b[1;33m.\u001b[0m\u001b[0mcols\u001b[0m\u001b[1;33m,\u001b[0m \u001b[0mself\u001b[0m\u001b[1;33m.\u001b[0m\u001b[0mwriter\u001b[0m\u001b[1;33m)\u001b[0m\u001b[1;33m\u001b[0m\u001b[0m\n\u001b[0m",
      "\u001b[1;32mpandas\\_libs\\writers.pyx\u001b[0m in \u001b[0;36mpandas._libs.writers.write_csv_rows\u001b[1;34m()\u001b[0m\n",
      "\u001b[1;31mUnicodeEncodeError\u001b[0m: 'cp949' codec can't encode character '\\u7643' in position 5: illegal multibyte sequence"
     ]
    },
    {
     "data": {
      "image/png": "[encoded data removed]",
      "text/plain": [
       "<Figure size 504x360 with 1 Axes>"
      ]
     },
     "metadata": {},
     "output_type": "display_data"
    }
   ],
   "source": [
    "#단어빈도분석 \n",
    "#2중리스트 flatten\n",
    "all_noun_flatten = [y for x in all_nouns for y in x]\n",
    "\n",
    "count_df = pd.Series(all_noun_flatten).value_counts().reset_index()\n",
    "\n",
    "count_df.columns = ['word','counted']\n",
    "\n",
    "plt.figure(figsize=(7,5))\n",
    "sns.barplot(x= 'word', y = 'counted', data = count_df.head(20))\n",
    "plt.xticks(rotation = 45)\n",
    "#저장\n",
    "# count_df.to_csv(\"./output/\"+str(today)+\"_\"+keyword+\"_\"+str(real_length)+'_단어빈도'+'.csv',encoding ='cp949')\n",
    "# plt.savefig(\"./output/\"+str(today)+\"_\"+keyword+\"_\"+str(real_length)+'_단어빈도'+'.png')\n",
    "plt.show()"
   ]
  },
  {
   "cell_type": "code",
   "execution_count": 142,
   "metadata": {
    "ExecuteTime": {
     "end_time": "2020-04-03T08:34:50.385274Z",
     "start_time": "2020-04-03T08:34:49.662915Z"
    }
   },
   "outputs": [
    {
     "data": {
      "image/png": "[encoded data removed]",
      "text/plain": [
       "<Figure size 720x720 with 1 Axes>"
      ]
     },
     "metadata": {},
     "output_type": "display_data"
    }
   ],
   "source": [
    "#워드클라우드\n",
    "\n",
    "#마스킹 준비\n",
    "from PIL import Image\n",
    "import numpy as np\n",
    "import wordcloud\n",
    "import random\n",
    "\n",
    "img_path = \"vector-cloud-png.png\"\n",
    "img = Image.open(img_path).convert('RGBA')\n",
    "mask = Image.new(\"RGB\", img.size, (255,255,255))\n",
    "mask.paste(img, img)\n",
    "mask = np.array(mask)\n",
    "\n",
    "text= ' '.join(all_noun_flatten)\n",
    "\n",
    "wordc = wordcloud.WordCloud(background_color = 'White', max_words= 200,\n",
    "                           font_path = 'C:/Windows/Fonts/malgun.ttf',\n",
    "                           relative_scaling = 0.5,\n",
    "                           stopwords= sw,\n",
    "                           collocations = False,\n",
    "                        mask = mask)\n",
    "wordc.generate(text)\n",
    "\n",
    "def grey_color(word, font_size, position, orientation, random_state=None, **kwargs):\n",
    "    return 'hsl(%d,100%%,50%%)' % random.randint(200,300) #색상 채도 밝기\n",
    "wordc.recolor(color_func = grey_color, random_state =3)\n",
    "\n",
    "#그리기\n",
    "plt.figure(figsize = (10,10))\n",
    "plt.axis('off')\n",
    "plt.imshow(wordc, interpolation = 'bilinear')\n",
    "#저장\n",
    "plt.savefig(\"./output/\"+str(today)+\"_\"+keyword+\"_\"+str(real_length)+'_워드클라우드'+'.png')\n",
    "plt.show()"
   ]
  },
  {
   "cell_type": "markdown",
   "metadata": {},
   "source": [
    "### 함수화"
   ]
  },
  {
   "cell_type": "code",
   "execution_count": 259,
   "metadata": {
    "ExecuteTime": {
     "end_time": "2020-04-02T08:30:38.829900Z",
     "start_time": "2020-04-02T08:30:37.090224Z"
    }
   },
   "outputs": [
    {
     "name": "stderr",
     "output_type": "stream",
     "text": [
      "C:\\Users\\User\\Anaconda3\\lib\\site-packages\\konlpy\\tag\\_okt.py:16: UserWarning: \"Twitter\" has changed to \"Okt\" since KoNLPy v0.4.5.\n",
      "  warn('\"Twitter\" has changed to \"Okt\" since KoNLPy v0.4.5.')\n"
     ]
    }
   ],
   "source": [
    "#형태소분석기 종류비교\n",
    "mecab = Mecab()\n",
    "komoran = Komoran(userdic='user_dictionary.txt')\n",
    "kkma = Kkma()\n",
    "okt = Okt()\n",
    "twitter = Twitter()"
   ]
  },
  {
   "cell_type": "code",
   "execution_count": null,
   "metadata": {},
   "outputs": [],
   "source": [
    "Mecab()"
   ]
  },
  {
   "cell_type": "code",
   "execution_count": 251,
   "metadata": {
    "ExecuteTime": {
     "end_time": "2020-04-02T07:31:34.188482Z",
     "start_time": "2020-04-02T07:31:34.183481Z"
    }
   },
   "outputs": [],
   "source": [
    "def tokenaize(tagger, target, unique = False, save = True):\n",
    "    sw = ['오늘','시간','최근','지난','관련','이번','이날','현재','10','올해','지난해','있다','이상','기준','때문',\n",
    "     \"메뉴\",\"주문\",\"강원도\",'정도','도착','생각','양양군','사진','위치','라고']\n",
    "    all_nouns =[]\n",
    "\n",
    "    for i in tqdm_notebook(range(0,len(crawling_df))):\n",
    "        nouns = tagger.nouns(target[i][0])\n",
    "        clean_nouns = list(filter(lambda word : (len(word)>1)&(word not in sw),nouns))\n",
    "        if unique == True:\n",
    "            clean_nouns = list(set(clean_nouns))\n",
    "        all_nouns.append(clean_nouns)\n",
    "        \n",
    "    #2중리스트 flatten\n",
    "    all_noun_flatten = [y for x in all_nouns for y in x]\n",
    "\n",
    "    count_df = pd.Series(all_noun_flatten).value_counts().reset_index()\n",
    "\n",
    "    count_df.columns = ['word','counted']\n",
    "\n",
    "    plt.figure(figsize=(7,5))\n",
    "    sns.barplot(x= 'word', y = 'counted', data = count_df.head(20))\n",
    "    plt.xticks(rotation = 45)\n",
    "    if save == True:\n",
    "        count_df.to_csv(\"./output/\"+str(today)+\"_\"+keyword+\"_\"+str(real_length)+'_단어빈도'+'.csv',encoding ='cp949')\n",
    "        plt.savefig(\"./output/\"+str(today)+\"_\"+keyword+\"_\"+str(real_length)+'_단어빈도'+'.png')\n",
    "    plt.show()\n",
    "    \n",
    "    return all_nouns"
   ]
  },
  {
   "cell_type": "code",
   "execution_count": 252,
   "metadata": {
    "ExecuteTime": {
     "end_time": "2020-04-02T07:31:35.230716Z",
     "start_time": "2020-04-02T07:31:34.285504Z"
    },
    "scrolled": false
   },
   "outputs": [
    {
     "name": "stderr",
     "output_type": "stream",
     "text": [
      "C:\\Users\\User\\Anaconda3\\lib\\site-packages\\ipykernel_launcher.py:6: TqdmDeprecationWarning: This function will be removed in tqdm==5.0.0\n",
      "Please use `tqdm.notebook.tqdm` instead of `tqdm.tqdm_notebook`\n",
      "  \n"
     ]
    },
    {
     "data": {
      "application/vnd.jupyter.widget-view+json": {
       "model_id": "328ef199ec5d43b499429b1d79cdc058",
       "version_major": 2,
       "version_minor": 0
      },
      "text/plain": [
       "HBox(children=(FloatProgress(value=0.0, max=442.0), HTML(value='')))"
      ]
     },
     "metadata": {},
     "output_type": "display_data"
    },
    {
     "name": "stdout",
     "output_type": "stream",
     "text": [
      "\n"
     ]
    },
    {
     "data": {
      "image/png": "[encoded data removed]",
      "text/plain": [
       "<Figure size 504x360 with 1 Axes>"
      ]
     },
     "metadata": {},
     "output_type": "display_data"
    }
   ],
   "source": [
    "all_nouns = tokenaize(mecab,crawling_df['full_text'])"
   ]
  },
  {
   "cell_type": "code",
   "execution_count": 260,
   "metadata": {
    "ExecuteTime": {
     "end_time": "2020-04-02T08:30:53.844420Z",
     "start_time": "2020-04-02T08:30:43.132014Z"
    }
   },
   "outputs": [
    {
     "name": "stderr",
     "output_type": "stream",
     "text": [
      "C:\\Users\\User\\Anaconda3\\lib\\site-packages\\ipykernel_launcher.py:6: TqdmDeprecationWarning: This function will be removed in tqdm==5.0.0\n",
      "Please use `tqdm.notebook.tqdm` instead of `tqdm.tqdm_notebook`\n",
      "  \n"
     ]
    },
    {
     "data": {
      "application/vnd.jupyter.widget-view+json": {
       "model_id": "ee6d26a374f74b0e8b764b9d4132443e",
       "version_major": 2,
       "version_minor": 0
      },
      "text/plain": [
       "HBox(children=(FloatProgress(value=0.0, max=442.0), HTML(value='')))"
      ]
     },
     "metadata": {},
     "output_type": "display_data"
    },
    {
     "name": "stdout",
     "output_type": "stream",
     "text": [
      "\n"
     ]
    },
    {
     "data": {
      "image/png": "[encoded data removed]",
      "text/plain": [
       "<Figure size 504x360 with 1 Axes>"
      ]
     },
     "metadata": {},
     "output_type": "display_data"
    }
   ],
   "source": [
    "all_nouns = tokenaize(komoran,crawling_df['full_text'])"
   ]
  },
  {
   "cell_type": "markdown",
   "metadata": {},
   "source": [
    "### 연관분석"
   ]
  },
  {
   "cell_type": "code",
   "execution_count": 75,
   "metadata": {
    "ExecuteTime": {
     "end_time": "2020-04-02T01:59:26.179943Z",
     "start_time": "2020-04-02T01:59:26.056681Z"
    }
   },
   "outputs": [],
   "source": [
    "noun_df = pd.DataFrame({'nouns':all_nouns})\n",
    "rules = apriori(all_nouns, min_support=0.2, min_condience =0.3)\n",
    "results  = list(rules)"
   ]
  },
  {
   "cell_type": "code",
   "execution_count": 81,
   "metadata": {
    "ExecuteTime": {
     "end_time": "2020-04-02T02:01:34.336571Z",
     "start_time": "2020-04-02T02:01:34.101495Z"
    }
   },
   "outputs": [],
   "source": [
    "results_df = pd.DataFrame(columns =[\"lhs\",'rhs','support','confidence','lift'])\n",
    "index =0\n",
    "for row in results:   \n",
    "    support = row[1]\n",
    "    ordered_stat = row[2]\n",
    "    for ordered_item in ordered_stat:\n",
    "        lhs = \" \".join(x for x in ordered_item[0])\n",
    "        rhs = \" \".join(x for x in ordered_item[1])\n",
    "        confidence = ordered_item[2]\n",
    "        lift = ordered_item[3]\n",
    "        results_df.loc[index] = [lhs,rhs,support,confidence,lift]\n",
    "        index = index +1\n",
    "\n",
    "results_df = results_df.sort_values(by=\"lift\",ascending=False)"
   ]
  },
  {
   "cell_type": "code",
   "execution_count": 82,
   "metadata": {
    "ExecuteTime": {
     "end_time": "2020-04-02T02:01:34.886697Z",
     "start_time": "2020-04-02T02:01:34.878704Z"
    },
    "scrolled": true
   },
   "outputs": [
    {
     "data": {
      "text/html": [
       "<div>\n",
       "<style scoped>\n",
       "    .dataframe tbody tr th:only-of-type {\n",
       "        vertical-align: middle;\n",
       "    }\n",
       "\n",
       "    .dataframe tbody tr th {\n",
       "        vertical-align: top;\n",
       "    }\n",
       "\n",
       "    .dataframe thead th {\n",
       "        text-align: right;\n",
       "    }\n",
       "</style>\n",
       "<table border=\"1\" class=\"dataframe\">\n",
       "  <thead>\n",
       "    <tr style=\"text-align: right;\">\n",
       "      <th></th>\n",
       "      <th>lhs</th>\n",
       "      <th>rhs</th>\n",
       "      <th>support</th>\n",
       "      <th>confidence</th>\n",
       "      <th>lift</th>\n",
       "    </tr>\n",
       "  </thead>\n",
       "  <tbody>\n",
       "    <tr>\n",
       "      <td>78</td>\n",
       "      <td>바다</td>\n",
       "      <td>해변</td>\n",
       "      <td>0.212379</td>\n",
       "      <td>0.413712</td>\n",
       "      <td>1.495168</td>\n",
       "    </tr>\n",
       "    <tr>\n",
       "      <td>79</td>\n",
       "      <td>해변</td>\n",
       "      <td>바다</td>\n",
       "      <td>0.212379</td>\n",
       "      <td>0.767544</td>\n",
       "      <td>1.495168</td>\n",
       "    </tr>\n",
       "    <tr>\n",
       "      <td>155</td>\n",
       "      <td>해변 양양</td>\n",
       "      <td>바다</td>\n",
       "      <td>0.211165</td>\n",
       "      <td>0.766520</td>\n",
       "      <td>1.493173</td>\n",
       "    </tr>\n",
       "    <tr>\n",
       "      <td>150</td>\n",
       "      <td>바다</td>\n",
       "      <td>양양 해변</td>\n",
       "      <td>0.211165</td>\n",
       "      <td>0.411348</td>\n",
       "      <td>1.493173</td>\n",
       "    </tr>\n",
       "    <tr>\n",
       "      <td>153</td>\n",
       "      <td>바다 양양</td>\n",
       "      <td>해변</td>\n",
       "      <td>0.211165</td>\n",
       "      <td>0.412322</td>\n",
       "      <td>1.490147</td>\n",
       "    </tr>\n",
       "    <tr>\n",
       "      <td>152</td>\n",
       "      <td>해변</td>\n",
       "      <td>바다 양양</td>\n",
       "      <td>0.211165</td>\n",
       "      <td>0.763158</td>\n",
       "      <td>1.490147</td>\n",
       "    </tr>\n",
       "    <tr>\n",
       "      <td>129</td>\n",
       "      <td>느낌</td>\n",
       "      <td>여행 양양</td>\n",
       "      <td>0.206311</td>\n",
       "      <td>0.669291</td>\n",
       "      <td>1.332116</td>\n",
       "    </tr>\n",
       "    <tr>\n",
       "      <td>134</td>\n",
       "      <td>여행 양양</td>\n",
       "      <td>느낌</td>\n",
       "      <td>0.206311</td>\n",
       "      <td>0.410628</td>\n",
       "      <td>1.332116</td>\n",
       "    </tr>\n",
       "    <tr>\n",
       "      <td>52</td>\n",
       "      <td>여행</td>\n",
       "      <td>느낌</td>\n",
       "      <td>0.206311</td>\n",
       "      <td>0.410628</td>\n",
       "      <td>1.332116</td>\n",
       "    </tr>\n",
       "    <tr>\n",
       "      <td>131</td>\n",
       "      <td>여행</td>\n",
       "      <td>느낌 양양</td>\n",
       "      <td>0.206311</td>\n",
       "      <td>0.410628</td>\n",
       "      <td>1.332116</td>\n",
       "    </tr>\n",
       "    <tr>\n",
       "      <td>132</td>\n",
       "      <td>느낌 양양</td>\n",
       "      <td>여행</td>\n",
       "      <td>0.206311</td>\n",
       "      <td>0.669291</td>\n",
       "      <td>1.332116</td>\n",
       "    </tr>\n",
       "    <tr>\n",
       "      <td>51</td>\n",
       "      <td>느낌</td>\n",
       "      <td>여행</td>\n",
       "      <td>0.206311</td>\n",
       "      <td>0.669291</td>\n",
       "      <td>1.332116</td>\n",
       "    </tr>\n",
       "    <tr>\n",
       "      <td>69</td>\n",
       "      <td>바다</td>\n",
       "      <td>사람</td>\n",
       "      <td>0.252427</td>\n",
       "      <td>0.491726</td>\n",
       "      <td>1.239089</td>\n",
       "    </tr>\n",
       "    <tr>\n",
       "      <td>70</td>\n",
       "      <td>사람</td>\n",
       "      <td>바다</td>\n",
       "      <td>0.252427</td>\n",
       "      <td>0.636086</td>\n",
       "      <td>1.239089</td>\n",
       "    </tr>\n",
       "    <tr>\n",
       "      <td>141</td>\n",
       "      <td>양양 사람</td>\n",
       "      <td>바다</td>\n",
       "      <td>0.251214</td>\n",
       "      <td>0.634969</td>\n",
       "      <td>1.236914</td>\n",
       "    </tr>\n",
       "    <tr>\n",
       "      <td>136</td>\n",
       "      <td>바다</td>\n",
       "      <td>양양 사람</td>\n",
       "      <td>0.251214</td>\n",
       "      <td>0.489362</td>\n",
       "      <td>1.236914</td>\n",
       "    </tr>\n",
       "    <tr>\n",
       "      <td>140</td>\n",
       "      <td>바다 양양</td>\n",
       "      <td>사람</td>\n",
       "      <td>0.251214</td>\n",
       "      <td>0.490521</td>\n",
       "      <td>1.236054</td>\n",
       "    </tr>\n",
       "    <tr>\n",
       "      <td>137</td>\n",
       "      <td>사람</td>\n",
       "      <td>바다 양양</td>\n",
       "      <td>0.251214</td>\n",
       "      <td>0.633028</td>\n",
       "      <td>1.236054</td>\n",
       "    </tr>\n",
       "    <tr>\n",
       "      <td>145</td>\n",
       "      <td>여행</td>\n",
       "      <td>바다 양양</td>\n",
       "      <td>0.317961</td>\n",
       "      <td>0.632850</td>\n",
       "      <td>1.235708</td>\n",
       "    </tr>\n",
       "    <tr>\n",
       "      <td>146</td>\n",
       "      <td>바다 양양</td>\n",
       "      <td>여행</td>\n",
       "      <td>0.317961</td>\n",
       "      <td>0.620853</td>\n",
       "      <td>1.235708</td>\n",
       "    </tr>\n",
       "  </tbody>\n",
       "</table>\n",
       "</div>"
      ],
      "text/plain": [
       "       lhs    rhs   support  confidence      lift\n",
       "78      바다     해변  0.212379    0.413712  1.495168\n",
       "79      해변     바다  0.212379    0.767544  1.495168\n",
       "155  해변 양양     바다  0.211165    0.766520  1.493173\n",
       "150     바다  양양 해변  0.211165    0.411348  1.493173\n",
       "153  바다 양양     해변  0.211165    0.412322  1.490147\n",
       "152     해변  바다 양양  0.211165    0.763158  1.490147\n",
       "129     느낌  여행 양양  0.206311    0.669291  1.332116\n",
       "134  여행 양양     느낌  0.206311    0.410628  1.332116\n",
       "52      여행     느낌  0.206311    0.410628  1.332116\n",
       "131     여행  느낌 양양  0.206311    0.410628  1.332116\n",
       "132  느낌 양양     여행  0.206311    0.669291  1.332116\n",
       "51      느낌     여행  0.206311    0.669291  1.332116\n",
       "69      바다     사람  0.252427    0.491726  1.239089\n",
       "70      사람     바다  0.252427    0.636086  1.239089\n",
       "141  양양 사람     바다  0.251214    0.634969  1.236914\n",
       "136     바다  양양 사람  0.251214    0.489362  1.236914\n",
       "140  바다 양양     사람  0.251214    0.490521  1.236054\n",
       "137     사람  바다 양양  0.251214    0.633028  1.236054\n",
       "145     여행  바다 양양  0.317961    0.632850  1.235708\n",
       "146  바다 양양     여행  0.317961    0.620853  1.235708"
      ]
     },
     "execution_count": 82,
     "metadata": {},
     "output_type": "execute_result"
    }
   ],
   "source": [
    "results_df.head(20)"
   ]
  },
  {
   "cell_type": "code",
   "execution_count": 83,
   "metadata": {
    "ExecuteTime": {
     "end_time": "2020-04-02T02:01:55.367383Z",
     "start_time": "2020-04-02T02:01:55.358389Z"
    }
   },
   "outputs": [
    {
     "data": {
      "text/html": [
       "<div>\n",
       "<style scoped>\n",
       "    .dataframe tbody tr th:only-of-type {\n",
       "        vertical-align: middle;\n",
       "    }\n",
       "\n",
       "    .dataframe tbody tr th {\n",
       "        vertical-align: top;\n",
       "    }\n",
       "\n",
       "    .dataframe thead th {\n",
       "        text-align: right;\n",
       "    }\n",
       "</style>\n",
       "<table border=\"1\" class=\"dataframe\">\n",
       "  <thead>\n",
       "    <tr style=\"text-align: right;\">\n",
       "      <th></th>\n",
       "      <th>lhs</th>\n",
       "      <th>rhs</th>\n",
       "      <th>support</th>\n",
       "      <th>confidence</th>\n",
       "      <th>lift</th>\n",
       "    </tr>\n",
       "  </thead>\n",
       "  <tbody>\n",
       "    <tr>\n",
       "      <td>89</td>\n",
       "      <td></td>\n",
       "      <td>여행 사람</td>\n",
       "      <td>0.228155</td>\n",
       "      <td>0.228155</td>\n",
       "      <td>1.000000</td>\n",
       "    </tr>\n",
       "    <tr>\n",
       "      <td>119</td>\n",
       "      <td></td>\n",
       "      <td>처음 양양</td>\n",
       "      <td>0.259709</td>\n",
       "      <td>0.259709</td>\n",
       "      <td>1.000000</td>\n",
       "    </tr>\n",
       "    <tr>\n",
       "      <td>50</td>\n",
       "      <td></td>\n",
       "      <td>느낌 여행</td>\n",
       "      <td>0.206311</td>\n",
       "      <td>0.206311</td>\n",
       "      <td>1.000000</td>\n",
       "    </tr>\n",
       "    <tr>\n",
       "      <td>116</td>\n",
       "      <td></td>\n",
       "      <td>준비 양양</td>\n",
       "      <td>0.211165</td>\n",
       "      <td>0.211165</td>\n",
       "      <td>1.000000</td>\n",
       "    </tr>\n",
       "    <tr>\n",
       "      <td>25</td>\n",
       "      <td></td>\n",
       "      <td>준비</td>\n",
       "      <td>0.212379</td>\n",
       "      <td>0.212379</td>\n",
       "      <td>1.000000</td>\n",
       "    </tr>\n",
       "    <tr>\n",
       "      <td>26</td>\n",
       "      <td></td>\n",
       "      <td>처음</td>\n",
       "      <td>0.260922</td>\n",
       "      <td>0.260922</td>\n",
       "      <td>1.000000</td>\n",
       "    </tr>\n",
       "    <tr>\n",
       "      <td>113</td>\n",
       "      <td></td>\n",
       "      <td>양양 저녁</td>\n",
       "      <td>0.201456</td>\n",
       "      <td>0.201456</td>\n",
       "      <td>1.000000</td>\n",
       "    </tr>\n",
       "    <tr>\n",
       "      <td>110</td>\n",
       "      <td></td>\n",
       "      <td>자리 양양</td>\n",
       "      <td>0.264563</td>\n",
       "      <td>0.264563</td>\n",
       "      <td>1.000000</td>\n",
       "    </tr>\n",
       "    <tr>\n",
       "      <td>27</td>\n",
       "      <td></td>\n",
       "      <td>카페</td>\n",
       "      <td>0.248786</td>\n",
       "      <td>0.248786</td>\n",
       "      <td>1.000000</td>\n",
       "    </tr>\n",
       "    <tr>\n",
       "      <td>107</td>\n",
       "      <td></td>\n",
       "      <td>이용 양양</td>\n",
       "      <td>0.200243</td>\n",
       "      <td>0.200243</td>\n",
       "      <td>1.000000</td>\n",
       "    </tr>\n",
       "    <tr>\n",
       "      <td>104</td>\n",
       "      <td></td>\n",
       "      <td>음식 양양</td>\n",
       "      <td>0.200243</td>\n",
       "      <td>0.200243</td>\n",
       "      <td>1.000000</td>\n",
       "    </tr>\n",
       "    <tr>\n",
       "      <td>92</td>\n",
       "      <td></td>\n",
       "      <td>양양 속초</td>\n",
       "      <td>0.290049</td>\n",
       "      <td>0.290049</td>\n",
       "      <td>1.000000</td>\n",
       "    </tr>\n",
       "    <tr>\n",
       "      <td>29</td>\n",
       "      <td></td>\n",
       "      <td>가격 양양</td>\n",
       "      <td>0.225728</td>\n",
       "      <td>0.225728</td>\n",
       "      <td>1.000000</td>\n",
       "    </tr>\n",
       "    <tr>\n",
       "      <td>101</td>\n",
       "      <td></td>\n",
       "      <td>여행 양양</td>\n",
       "      <td>0.502427</td>\n",
       "      <td>0.502427</td>\n",
       "      <td>1.000000</td>\n",
       "    </tr>\n",
       "    <tr>\n",
       "      <td>98</td>\n",
       "      <td></td>\n",
       "      <td>아침 양양</td>\n",
       "      <td>0.258495</td>\n",
       "      <td>0.258495</td>\n",
       "      <td>1.000000</td>\n",
       "    </tr>\n",
       "    <tr>\n",
       "      <td>95</td>\n",
       "      <td></td>\n",
       "      <td>시작 양양</td>\n",
       "      <td>0.248786</td>\n",
       "      <td>0.248786</td>\n",
       "      <td>1.000000</td>\n",
       "    </tr>\n",
       "    <tr>\n",
       "      <td>32</td>\n",
       "      <td></td>\n",
       "      <td>가족 양양</td>\n",
       "      <td>0.223301</td>\n",
       "      <td>0.223301</td>\n",
       "      <td>1.000000</td>\n",
       "    </tr>\n",
       "    <tr>\n",
       "      <td>0</td>\n",
       "      <td></td>\n",
       "      <td>가격</td>\n",
       "      <td>0.225728</td>\n",
       "      <td>0.225728</td>\n",
       "      <td>1.000000</td>\n",
       "    </tr>\n",
       "    <tr>\n",
       "      <td>96</td>\n",
       "      <td>시작</td>\n",
       "      <td>양양</td>\n",
       "      <td>0.248786</td>\n",
       "      <td>0.985577</td>\n",
       "      <td>0.996461</td>\n",
       "    </tr>\n",
       "    <tr>\n",
       "      <td>97</td>\n",
       "      <td>양양</td>\n",
       "      <td>시작</td>\n",
       "      <td>0.248786</td>\n",
       "      <td>0.251534</td>\n",
       "      <td>0.996461</td>\n",
       "    </tr>\n",
       "  </tbody>\n",
       "</table>\n",
       "</div>"
      ],
      "text/plain": [
       "    lhs    rhs   support  confidence      lift\n",
       "89       여행 사람  0.228155    0.228155  1.000000\n",
       "119      처음 양양  0.259709    0.259709  1.000000\n",
       "50       느낌 여행  0.206311    0.206311  1.000000\n",
       "116      준비 양양  0.211165    0.211165  1.000000\n",
       "25          준비  0.212379    0.212379  1.000000\n",
       "26          처음  0.260922    0.260922  1.000000\n",
       "113      양양 저녁  0.201456    0.201456  1.000000\n",
       "110      자리 양양  0.264563    0.264563  1.000000\n",
       "27          카페  0.248786    0.248786  1.000000\n",
       "107      이용 양양  0.200243    0.200243  1.000000\n",
       "104      음식 양양  0.200243    0.200243  1.000000\n",
       "92       양양 속초  0.290049    0.290049  1.000000\n",
       "29       가격 양양  0.225728    0.225728  1.000000\n",
       "101      여행 양양  0.502427    0.502427  1.000000\n",
       "98       아침 양양  0.258495    0.258495  1.000000\n",
       "95       시작 양양  0.248786    0.248786  1.000000\n",
       "32       가족 양양  0.223301    0.223301  1.000000\n",
       "0           가격  0.225728    0.225728  1.000000\n",
       "96   시작     양양  0.248786    0.985577  0.996461\n",
       "97   양양     시작  0.248786    0.251534  0.996461"
      ]
     },
     "execution_count": 83,
     "metadata": {},
     "output_type": "execute_result"
    }
   ],
   "source": [
    "results_df.tail(20)"
   ]
  },
  {
   "cell_type": "markdown",
   "metadata": {},
   "source": [
    "### 검수용코드"
   ]
  },
  {
   "cell_type": "code",
   "execution_count": 133,
   "metadata": {
    "ExecuteTime": {
     "end_time": "2020-04-02T04:56:49.397372Z",
     "start_time": "2020-04-02T04:56:48.997715Z"
    },
    "code_folding": []
   },
   "outputs": [],
   "source": [
    "#1개코드 \n",
    "#저장위치\n",
    "postdates = []\n",
    "strings = []\n",
    "urls = []\n",
    "titles = []\n",
    "output_error = []\n",
    "connection_error = []\n",
    "count = 1\n",
    "\n",
    "pattern =re.compile('href=\"'+'[A-z0-9\\:\\/\\&\\;\\.\\?\\=]+')\n",
    "#keyword와 시작넘버만 바꾸면서 진행하게끔\n",
    "base_url = 'https://search.naver.com/search.naver?date_from=&date_option=0&date_to=&dup_remove=1&nso=&post_blogurl=&post_blogurl_without=&query={keyword}&sm=tab_pge&srchby=all&st=sim&where=post&start={start_num}'\n",
    "\n",
    "#for문 돌려야하는 부분(각 검색결과의 시작은 1이고, 10개씩 보여짐,)\n",
    "search_list = base_url.format(keyword = \"전진리 +양양\",start_num = 13)\n",
    "response = requests.get(search_list)\n",
    "\n",
    "if response.status_code is 200:\n",
    "    #1번 검색시 10개의 결과가 출력 따라서 section은 총 10개\n",
    "    soup = BeautifulSoup(response.content,'lxml')\n",
    "    sections = soup.findAll('li', attrs={'class':'sh_blog_top'})\n",
    "    section = sections[0]\n",
    "    \n",
    "    #href부분만 가져오기 어려워서 정규표현식으로 검색\n",
    "    url = re.findall(pattern, str(section))[0].replace('?Redirect=Log&amp;logNo=','/').replace('href=\"','')\n",
    "    title = section.select_one('a.txt84').text\n",
    "    date = section.select_one('dd.txt_inline').text.strip()\n",
    "\n",
    "    #블로그 url안에 들어가기(아직 크롤링불가)\n",
    "    get_blog_post_content_code = requests.get(url)\n",
    "    get_blog_post_content_text = get_blog_post_content_code.text\n",
    "    get_blog_post_content_soup = BeautifulSoup(get_blog_post_content_text, 'lxml')\n",
    "\n",
    "    #크롤링가능한 url에 접속\n",
    "    try:\n",
    "        real_blog_post_url = \"http://blog.naver.com\" + get_blog_post_content_soup.select('#mainFrame')[0].get('src')\n",
    "        get_real_blog_post_content_code = requests.get(real_blog_post_url)\n",
    "        get_real_blog_post_content_text = get_real_blog_post_content_code.text\n",
    "        get_real_blog_post_content_soup = BeautifulSoup(get_real_blog_post_content_text, 'lxml')\n",
    "    except:\n",
    "        real_blog_post_url = url\n",
    "        get_real_blog_post_content_code = requests.get(real_blog_post_url)\n",
    "        get_real_blog_post_content_text = get_real_blog_post_content_code.text\n",
    "        get_real_blog_post_content_soup = BeautifulSoup(get_real_blog_post_content_text, 'lxml')\n",
    "        pass\n",
    "\n",
    "    # url (에러나면 위에서부터 에러남)\n",
    "    try:\n",
    "        urls.append(real_blog_post_url)\n",
    "    except :\n",
    "        urls.append(url)\n",
    "    #블로그명\n",
    "    titles.append(title)\n",
    "    #날짜\n",
    "    postdates.append(date)\n",
    "\n",
    "    #본문  (postviewarea 패턴과 se-main-container 2가지 유형이 있어 분리함) \n",
    "    try:\n",
    "        blog_post_content = get_real_blog_post_content_soup.select('div#postViewArea')\n",
    "        if len(blog_post_content) == 0:\n",
    "            blog_post_content = get_real_blog_post_content_soup.select('div.se-main-container')\n",
    "            if len(blog_post_content) == 0:\n",
    "                                blog_post_content = get_real_blog_post_content_soup.select('div.se_component_wrap.sect_dsc.__se_component_area')\n",
    "\n",
    "        string = \"\"\n",
    "        for sentence in blog_post_content[0].stripped_strings:\n",
    "            string += \" \"+sentence.replace('\\xa0',\" \")\n",
    "            \n",
    "        strings.append([string])\n",
    "        count += 1\n",
    "    except:\n",
    "        strings.append([np.NaN])\n",
    "        count += 1\n",
    "\n",
    "\n",
    "crawling_df = pd.DataFrame({\"post_dates\":postdates, \"title\":titles, \"full_text\":strings, \"url\":urls})\n"
   ]
  },
  {
   "cell_type": "code",
   "execution_count": 138,
   "metadata": {
    "ExecuteTime": {
     "end_time": "2020-04-02T04:57:26.077397Z",
     "start_time": "2020-04-02T04:57:26.069395Z"
    }
   },
   "outputs": [
    {
     "ename": "IndexError",
     "evalue": "list index out of range",
     "output_type": "error",
     "traceback": [
      "\u001b[1;31m---------------------------------------------------------------------------\u001b[0m",
      "\u001b[1;31mIndexError\u001b[0m                                Traceback (most recent call last)",
      "\u001b[1;32m<ipython-input-138-965133f9a77b>\u001b[0m in \u001b[0;36m<module>\u001b[1;34m()\u001b[0m\n\u001b[0;32m      6\u001b[0m \u001b[1;33m\u001b[0m\u001b[0m\n\u001b[0;32m      7\u001b[0m \u001b[0mstring\u001b[0m \u001b[1;33m=\u001b[0m \u001b[1;34m\"\"\u001b[0m\u001b[1;33m\u001b[0m\u001b[0m\n\u001b[1;32m----> 8\u001b[1;33m \u001b[1;32mfor\u001b[0m \u001b[0msentence\u001b[0m \u001b[1;32min\u001b[0m \u001b[0mblog_post_content\u001b[0m\u001b[1;33m[\u001b[0m\u001b[1;36m0\u001b[0m\u001b[1;33m]\u001b[0m\u001b[1;33m.\u001b[0m\u001b[0mstripped_strings\u001b[0m\u001b[1;33m:\u001b[0m\u001b[1;33m\u001b[0m\u001b[0m\n\u001b[0m\u001b[0;32m      9\u001b[0m     \u001b[0mstring\u001b[0m \u001b[1;33m+=\u001b[0m \u001b[1;34m\" \"\u001b[0m\u001b[1;33m+\u001b[0m\u001b[0msentence\u001b[0m\u001b[1;33m.\u001b[0m\u001b[0mreplace\u001b[0m\u001b[1;33m(\u001b[0m\u001b[1;34m'\\xa0'\u001b[0m\u001b[1;33m,\u001b[0m\u001b[1;34m\" \"\u001b[0m\u001b[1;33m)\u001b[0m\u001b[1;33m\u001b[0m\u001b[0m\n\u001b[0;32m     10\u001b[0m \u001b[1;33m\u001b[0m\u001b[0m\n",
      "\u001b[1;31mIndexError\u001b[0m: list index out of range"
     ]
    }
   ],
   "source": [
    "blog_post_content = get_real_blog_post_content_soup.select('div#postViewArea')\n",
    "if len(blog_post_content) == 0:\n",
    "    blog_post_content = get_real_blog_post_content_soup.select('div.se-main-container')\n",
    "    if len(blog_post_content) == 0:\n",
    "        blog_post_content = get_real_blog_post_content_soup.select('div.se_component_wrap.sect_dsc.__se_component_area')\n",
    "\n",
    "string = \"\"\n",
    "for sentence in blog_post_content[0].stripped_strings:\n",
    "    string += \" \"+sentence.replace('\\xa0',\" \")\n",
    "\n",
    "strings.append([string])\n",
    "count += 1"
   ]
  },
  {
   "cell_type": "code",
   "execution_count": 139,
   "metadata": {
    "ExecuteTime": {
     "end_time": "2020-04-02T04:57:31.057263Z",
     "start_time": "2020-04-02T04:57:31.054272Z"
    }
   },
   "outputs": [
    {
     "data": {
      "text/plain": [
       "[]"
      ]
     },
     "execution_count": 139,
     "metadata": {},
     "output_type": "execute_result"
    }
   ],
   "source": [
    "blog_post_content"
   ]
  },
  {
   "cell_type": "code",
   "execution_count": 126,
   "metadata": {
    "ExecuteTime": {
     "end_time": "2020-04-02T04:48:07.816320Z",
     "start_time": "2020-04-02T04:48:07.813325Z"
    }
   },
   "outputs": [
    {
     "data": {
      "text/plain": [
       "'http://blog.daum.net/jbh8466/8548063//t1.daumcdn.net/midas/rt/dk_bt/roosevelt_dk_bt.js'"
      ]
     },
     "execution_count": 126,
     "metadata": {},
     "output_type": "execute_result"
    }
   ],
   "source": [
    "url+ '//t1.daumcdn.net/midas/rt/dk_bt/roosevelt_dk_bt.js'"
   ]
  },
  {
   "cell_type": "code",
   "execution_count": 123,
   "metadata": {
    "ExecuteTime": {
     "end_time": "2020-04-02T04:47:22.452154Z",
     "start_time": "2020-04-02T04:47:22.445162Z"
    }
   },
   "outputs": [
    {
     "data": {
      "text/plain": [
       "<!DOCTYPE html PUBLIC \"-//W3C//DTD XHTML 1.0 Frameset//EN\" \"http://www.w3.org/TR/xhtml1/DTD/xhtml1-frameset.dtd\">\n",
       "<html xml:lang=\"ko\" xmlns=\"http://www.w3.org/1999/xhtml\">\n",
       "<head>\n",
       "<meta content=\"IE=IE7\" http-equiv=\"X-UA-Compatible\"/>\n",
       "<meta content=\"text/html; charset=utf-8\" http-equiv=\"Content-Type\"/>\n",
       "<meta content=\"http://blog.daum.net/jbh8466/xrds\" http-equiv=\"X-XRDS-Location\"/>\n",
       "<meta content=\" GOLF guide 골프가이드 \" name=\"title\"/>\n",
       "<link href=\"//blog.daum.net/favicon.png\" rel=\"icon\" type=\"image/ico\"/>\n",
       "<link href=\"http://blog.daum.net/xml/rss/jbh8466\" rel=\"alternate\" title=\"RSS\" type=\"application/rss+xml\"/>\n",
       "<link href=\"http://blog.daum.net/xml/atom/jbh8466\" rel=\"alternate\" title=\"ATOM\" type=\"application/atom+xml\"/>\n",
       "<link href=\"http://openid.daum.net/server\" rel=\"openid.server\"/>\n",
       "<title> GOLF guide 골프가이드 </title>\n",
       "<script type=\"text/javascript\">\n",
       "    \t\tdocument.domain = \"daum.net\";\n",
       "    \t</script>\n",
       "<script type=\"text/javascript\">\n",
       "            window.roosevelt_params_queue = window.roosevelt_params_queue || [];\n",
       "            window.roosevelt_params_queue.push({\n",
       "                channel_id: \"dk\", channel_label: \"blog\"\n",
       "            });\n",
       "        </script>\n",
       "<script async=\"\" src=\"//t1.daumcdn.net/midas/rt/dk_bt/roosevelt_dk_bt.js\" type=\"text/javascript\"></script>\n",
       "</head>\n",
       "<frameset frameborder=\"0\" framespacing=\"0\" rows=\"*,0\" title=\"개별 블로그 프레임셋\">\n",
       "<frame name=\"BlogMain\" src=\"/_blog/BlogTypeView.do?blogid=0N6ZK&amp;articleno=8548063&amp;admin=\" title=\"개별 블로그 게시글\"/>\n",
       "<frame id=\"BlogTop\" name=\"BlogTop\" noresize=\"noresize\" scrolling=\"no\" title=\"개별 블로그 배경음악\"/>\n",
       "<noframes>\n",
       "<body>\n",
       "<p>이 페이지를 보려면, 프레임을 볼 수 있는 브라우저가 필요합니다.</p>\n",
       "</body>\n",
       "</noframes>\n",
       "</frameset>\n",
       "</html>"
      ]
     },
     "execution_count": 123,
     "metadata": {},
     "output_type": "execute_result"
    }
   ],
   "source": [
    "get_blog_post_content_soup"
   ]
  }
 ],
 "metadata": {
  "kernelspec": {
   "display_name": "Python 3",
   "language": "python",
   "name": "python3"
  },
  "language_info": {
   "codemirror_mode": {
    "name": "ipython",
    "version": 3
   },
   "file_extension": ".py",
   "mimetype": "text/x-python",
   "name": "python",
   "nbconvert_exporter": "python",
   "pygments_lexer": "ipython3",
   "version": "3.6.5"
  },
  "varInspector": {
   "cols": {
    "lenName": 16,
    "lenType": 16,
    "lenVar": 40
   },
   "kernels_config": {
    "python": {
     "delete_cmd_postfix": "",
     "delete_cmd_prefix": "del ",
     "library": "var_list.py",
     "varRefreshCmd": "print(var_dic_list())"
    },
    "r": {
     "delete_cmd_postfix": ") ",
     "delete_cmd_prefix": "rm(",
     "library": "var_list.r",
     "varRefreshCmd": "cat(var_dic_list()) "
    }
   },
   "types_to_exclude": [
    "module",
    "function",
    "builtin_function_or_method",
    "instance",
    "_Feature"
   ],
   "window_display": false
  }
 },
 "nbformat": 4,
 "nbformat_minor": 2
}

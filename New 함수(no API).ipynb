{
 "cells": [
  {
   "cell_type": "markdown",
   "metadata": {},
   "source": [
    "# 목적\n",
    "* 블로그 내용을 긁어와서 연관분석 진행\n",
    "1. keyword관련 블로그 크롤링 \n",
    "    정확도 기준으로 긁어오되 날짜도 같이 가져와서 나중 어떤 날짜에 집중되어 있는지 확인  \n",
    "    한 블로그당 단어빈도수 분석(필요할까)\n",
    "2. 블로그 내 단어 토크나이즈하고 \n",
    "3. 연관분석실시\n"
   ]
  },
  {
   "cell_type": "markdown",
   "metadata": {},
   "source": [
    "# 선행설치"
   ]
  },
  {
   "cell_type": "code",
   "execution_count": 3,
   "metadata": {
    "ExecuteTime": {
     "end_time": "2020-03-31T13:07:06.903494Z",
     "start_time": "2020-03-31T13:07:02.287226Z"
    }
   },
   "outputs": [
    {
     "name": "stdout",
     "output_type": "stream",
     "text": [
      "Collecting apyori\n",
      "  Downloading apyori-1.1.2.tar.gz (8.6 kB)\n",
      "Building wheels for collected packages: apyori\n",
      "  Building wheel for apyori (setup.py): started\n",
      "  Building wheel for apyori (setup.py): finished with status 'done'\n",
      "  Created wheel for apyori: filename=apyori-1.1.2-py3-none-any.whl size=5984 sha256=5235bb621f4450c8a0ed214694dd194b7f3b0f6a4cf1cb568b9531188bd48e80\n",
      "  Stored in directory: c:\\users\\try00\\appdata\\local\\pip\\cache\\wheels\\47\\6f\\0f\\21a86f3679f7ed6bbe4dc6694f86818c5d85c2044bfab0f1e8\n",
      "Successfully built apyori\n",
      "Installing collected packages: apyori\n",
      "Successfully installed apyori-1.1.2\n"
     ]
    }
   ],
   "source": [
    "# # 크롤링\n",
    "# !pip install beautifulsoup4\n",
    "# !pip install requests\n",
    "# !pip install lxm\n",
    "# # 연관분석\n",
    "# !pip install apyori\n",
    "# # 자연어처리\n",
    "# !pip install konlpy (JDK 설치가 되어있어야함 )"
   ]
  },
  {
   "cell_type": "code",
   "execution_count": 254,
   "metadata": {
    "ExecuteTime": {
     "end_time": "2020-04-02T08:24:01.066382Z",
     "start_time": "2020-04-02T08:24:00.093172Z"
    }
   },
   "outputs": [
    {
     "data": {
      "text/html": [
       "<style>.container {width:100% !important; }</style>"
      ],
      "text/plain": [
       "<IPython.core.display.HTML object>"
      ]
     },
     "metadata": {},
     "output_type": "display_data"
    }
   ],
   "source": [
    "import seaborn as sns\n",
    "import matplotlib.pyplot as plt\n",
    "\n",
    "from tqdm import tqdm_notebook  # 진행과정 시각화\n",
    "from datetime import timedelta  # 시간날짜\n",
    "from apyori import apriori  # 연관분석\n",
    "\n",
    "import re\n",
    "import json\n",
    "import math\n",
    "import datetime\n",
    "from datetime import timedelta\n",
    "import pandas as pd\n",
    "\n",
    "import requests\n",
    "import urllib.request\n",
    "import urllib.error\n",
    "import urllib.parse\n",
    "from bs4 import BeautifulSoup  # 크롤링\n",
    "\n",
    "import konlpy\n",
    "from konlpy.tag import Komoran,Kkma,Okt,Twitter  # 자연어처리\n",
    "from eunjeon import Mecab #은전한닢\n",
    "komoran = Komoran(userdic='./user_dictionary.txt')\n",
    "\n",
    "#한글깨짐방지\n",
    "plt.rc('font',family='Malgun Gothic')\n",
    "plt.rcParams['axes.unicode_minus'] = False\n",
    "\n",
    "from IPython.core.display import display, HTML\n",
    "display(HTML('<style>.container {width:100% !important; }</style>'))"
   ]
  },
  {
   "cell_type": "markdown",
   "metadata": {},
   "source": [
    "# 네이버 검색 URl구조"
   ]
  },
  {
   "cell_type": "markdown",
   "metadata": {},
   "source": [
    "date_from - YYYYMMDD : 시작날짜 date_option 8일때   \n",
    "date_option - int : 0 : 전체, 2 : 1일, 3 : 1주, 4 : 1개월, 6 : 6개월, 7 : 1년, 8 : 기간지정  \n",
    "date_to - YYYYMMDD : 마지막날짜 date_option 8일때  \n",
    "dup_remove - int : 유사문서제거옵션 1 : 제거, 0 : 유지  \n",
    "nso - str : _상세검색으로 추정_   \n",
    "post_blogurl - ?  \n",
    "post_blogurl_without - ?   \n",
    "query - str : 검색어     \n",
    "sm=tab_pge -?    \n",
    "st - str : 정렬순서 sim : 유사도 date : 날짜    "
   ]
  },
  {
   "cell_type": "code",
   "execution_count": 2,
   "metadata": {
    "ExecuteTime": {
     "end_time": "2020-04-02T00:40:07.052640Z",
     "start_time": "2020-04-02T00:40:07.049640Z"
    }
   },
   "outputs": [],
   "source": [
    "# #네이버에서 검색했을때 url구조\n",
    "# https://search.naver.com/search.naver\n",
    "#     ?date_from=&\n",
    "#     date_option=0&\n",
    "#     date_to=&\n",
    "#     dup_remove=1&\n",
    "#     nso=&\n",
    "#     post_blogurl=\n",
    "#     &post_blogurl_without=\n",
    "#     &query=%EC%96%91%EC%96%91\n",
    "#     &sm=tab_pge\n",
    "#     &srchby=all\n",
    "#     &st=sim\n",
    "#     &where=post\n",
    "#     &start=11"
   ]
  },
  {
   "cell_type": "code",
   "execution_count": 174,
   "metadata": {
    "ExecuteTime": {
     "end_time": "2020-04-02T06:03:06.828087Z",
     "start_time": "2020-04-02T06:03:06.823096Z"
    },
    "code_folding": []
   },
   "outputs": [],
   "source": [
    "def del_outword(string):\n",
    "    '''\n",
    "    이모티콘, \\u200b과 같은 문자가 아닌 것 제거\n",
    "    #이모티콘 제거 [출처](https://stackoverflow.com/questions/33404752/removing-emojis-from-a-string-in-python)\n",
    "    '''\n",
    "    #이모지제거\n",
    "    emoji_pattern = re.compile(\"[\"\n",
    "                u\"\\U0001F600-\\U0001F64F\"  # emoticons\n",
    "                u\"\\U0001F300-\\U0001F5FF\"  # symbols & pictographs\n",
    "                u\"\\U0001F680-\\U0001F6FF\"  # transport & map symbols\n",
    "                u\"\\U0001F1E0-\\U0001F1FF\"  # flags (iOS)\n",
    "                u\"\\U00002702-\\U000027B0\"\n",
    "                u\"\\U0001f926-\\U0001f937\"\n",
    "                u'\\U00010000-\\U0010ffff'\n",
    "                u\"\\u200d\"\n",
    "                u\"\\u2640-\\u2642\"\n",
    "                u\"\\u2600-\\u2B55\"\n",
    "                u\"\\u23cf\"\n",
    "                u\"\\u23e9\"\n",
    "                u\"\\u231a\"\n",
    "                u\"\\u3030\"\n",
    "                u\"\\ufe0f\"\n",
    "    \"]+\", flags=re.UNICODE)\n",
    "\n",
    "    #분석에 어긋나는 불용어구 제외 (특수문자, 의성어)\n",
    "    han = re.compile(r'[ㄱ-ㅎㅏ-ㅣ!?~\"^_\\n\\r#\\ufeff\\u200d\\u200b]+')\n",
    "    \n",
    "    string = emoji_pattern.sub(r'',string)\n",
    "    string = han.sub(r'',string)\n",
    "    \n",
    "    return string"
   ]
  },
  {
   "cell_type": "code",
   "execution_count": 206,
   "metadata": {
    "ExecuteTime": {
     "end_time": "2020-04-02T06:39:07.049807Z",
     "start_time": "2020-04-02T06:39:07.043805Z"
    },
    "code_folding": [
     0
    ]
   },
   "outputs": [],
   "source": [
    "def time_change(x):\n",
    "    '''\n",
    "    검색결과에 있는 문자를 날짜로 변경\n",
    "    '''\n",
    "    min_pattern = re.compile('[0-9]+'+\"분 전\")\n",
    "    hour_pattern = re.compile('[0-9]+'+\"시간 전\")\n",
    "    day_pattern = re.compile('[0-9]+'+\"일 전\")\n",
    "\n",
    "    today = datetime.datetime.today().date()\n",
    "    # 일자\n",
    "    try:\n",
    "        d = re.findall(day_pattern, x)[0][0]\n",
    "        x = today - timedelta(days=int(d))\n",
    "    except:\n",
    "        pass\n",
    "    # 시간\n",
    "    try:\n",
    "        d = re.findall(hour_pattern, x)[0]\n",
    "        x = today\n",
    "    except:\n",
    "        pass\n",
    "    # 분\n",
    "    try:\n",
    "        h = re.findall(min_pattern, x)[0]\n",
    "        x = today\n",
    "    except:\n",
    "        pass\n",
    "\n",
    "    if x == '어제':\n",
    "        x = today - timedelta(days=1)\n",
    "\n",
    "    elif type(x) == str:\n",
    "        x = datetime.datetime.strptime(x.replace('.', '-')[:-1], '%Y-%m-%d')\n",
    "    #모든일자를 1일로 통일\n",
    "    x = datetime.datetime.strptime(x.strftime('%Y-%m')+\"-01\",\"%Y-%m-%d\")\n",
    "    return x"
   ]
  },
  {
   "cell_type": "code",
   "execution_count": 217,
   "metadata": {
    "ExecuteTime": {
     "end_time": "2020-04-02T06:43:40.187893Z",
     "start_time": "2020-04-02T06:43:40.176891Z"
    },
    "code_folding": []
   },
   "outputs": [],
   "source": [
    "def naver_blog_crawling(keyword, start_num=1, end_num=101, date_option=0, date_from='', date_to='', save=True):\n",
    "    '''\n",
    "    네이버 블로그 크롤링 함수\n",
    "    네이버 블로그 검색결과를 크롤링하며, 1페이지당 10개씩을 검색한다\n",
    "\n",
    "    keyword : string\n",
    "     검색하고 싶은 키워드를 넣는다\n",
    "     \"keyword +필수어\" 형태로 필수단어 추가 가능\n",
    "    start_num : int (default = 1) \n",
    "     시작할 위치 1로 끝나는 단위 추천\n",
    "    end_num : int (default = 101)\n",
    "     끝나는 위치 1로 끝나는 단위 추천\n",
    "    date_option : int (default = 0)\n",
    "     주어지는 숫자에 의해 검색방법이 변경됨\n",
    "     0 : 전체, 2 : 1일, 3 : 1주, 4 : 1개월, 6 : 6개월, 7 : 1년, 8 : 기간지정\n",
    "    date_from : YYYYMMDD (default = \"\")\n",
    "     date_option이 8일때 사용 검색 시작일자를 지정\n",
    "    date_to : YYYMMDD (default = \"\")\n",
    "     date_option이 8일때 사용 검색 마지막일자를 지정\n",
    "    save : bool (default = True)\n",
    "     csv로 저장 여부 결정\n",
    "    '''\n",
    "    # url 찾는 패턴\n",
    "    pattern = re.compile('href=\"'+'[A-z0-9\\:\\/\\&\\;\\.\\?\\=]+')\n",
    "\n",
    "    # 저장위치\n",
    "    postdates = []\n",
    "    strings = []\n",
    "    urls = []\n",
    "    titles = []\n",
    "    output_error = []\n",
    "    connection_error = []\n",
    "    count = 1\n",
    "\n",
    "    # keyword와 시작넘버만 바꾸면서 진행하게끔\n",
    "    base_url = 'https://search.naver.com/search.naver?date_from={date_from}&date_option={date_option}&date_to={date_to}&dup_remove=1&nso=&post_blogurl=&post_blogurl_without=&query={keyword}&sm=tab_pge&srchby=all&st=sim&where=post&start={start}'\n",
    "\n",
    "    # for문 돌려야하는 부분(각 검색결과의 시작은 1이고, 10개씩 보여짐,)\n",
    "    for i in tqdm_notebook(range(start_num, end_num+1, 10), desc=\"page work\"):\n",
    "        search_list = base_url.format(keyword=keyword, start=i,\n",
    "                                      date_option=date_option, date_from=date_from, date_to=date_to)\n",
    "        response = requests.get(search_list)\n",
    "\n",
    "        if response.status_code is 200:\n",
    "            # 1번 검색시 10개의 결과가 출력 따라서 section은 총 10개\n",
    "            soup = BeautifulSoup(response.content, 'lxml')\n",
    "            sections = soup.findAll('li', attrs={'class': 'sh_blog_top'})\n",
    "\n",
    "            for section in sections:\n",
    "                try:\n",
    "                    # href부분만 가져오기 어려워서 정규표현식으로 검색\n",
    "                    url = re.findall(pattern, str(section))[0].replace(\n",
    "                        '?Redirect=Log&amp;logNo=', '/').replace('href=\"', '')\n",
    "                    title = section.select_one('a.txt84').text\n",
    "                    date = section.select_one('dd.txt_inline').text.strip()\n",
    "\n",
    "                    # 블로그 url안에 들어가기(아직 크롤링불가)\n",
    "                    get_blog_post_content_code = requests.get(url)\n",
    "                    get_blog_post_content_text = get_blog_post_content_code.text\n",
    "                    get_blog_post_content_soup = BeautifulSoup(\n",
    "                        get_blog_post_content_text, 'lxml')\n",
    "\n",
    "                    # 크롤링가능한 url에 접속\n",
    "                    real_blog_post_url = \"http://blog.naver.com\" + \\\n",
    "                        get_blog_post_content_soup.select('#mainFrame')[\n",
    "                            0].get('src')\n",
    "                    get_real_blog_post_content_code = requests.get(\n",
    "                        real_blog_post_url)\n",
    "                    get_real_blog_post_content_text = get_real_blog_post_content_code.text\n",
    "                    get_real_blog_post_content_soup = BeautifulSoup(\n",
    "                        get_real_blog_post_content_text, 'lxml')\n",
    "\n",
    "                    # url (에러나면 위에서부터 에러남)\n",
    "                    urls.append(real_blog_post_url)\n",
    "                    # 블로그명\n",
    "                    titles.append(title)\n",
    "                    # 날짜\n",
    "                    postdates.append(date)\n",
    "\n",
    "                    # 본문  (postviewarea 패턴과 se-main-container 2가지 유형이 있어 분리함)\n",
    "                    try:\n",
    "                        blog_post_content = get_real_blog_post_content_soup.select(\n",
    "                            'div#postViewArea')\n",
    "                        if len(blog_post_content) == 0:\n",
    "                            blog_post_content = get_real_blog_post_content_soup.select(\n",
    "                                'div.se-main-container')\n",
    "                            if len(blog_post_content) == 0:\n",
    "                                blog_post_content = get_real_blog_post_content_soup.select(\n",
    "                                    'div.se_component_wrap.sect_dsc.__se_component_area')\n",
    "\n",
    "                        string = \"\"\n",
    "                        for sentence in blog_post_content[0].stripped_strings:\n",
    "                            string += \" \"+sentence.replace('\\xa0', \" \")\n",
    "                        # 비언어 텍스트제거\n",
    "                        string = del_outword(string)\n",
    "                        strings.append([string])\n",
    "                        count += 1\n",
    "                    except:\n",
    "                        strings.append([\"X\"])\n",
    "                        count += 1\n",
    "\n",
    "                except Exception as ex:\n",
    "                    # print('가져오기에러 {num}번째'.format(num = count),ex)\n",
    "                    output_error.append(count)\n",
    "                    count += 1\n",
    "                    pass\n",
    "        else:\n",
    "            # print('연결오류 {num}번째'.format(num = count),response.status_code)\n",
    "            connection_error.append(count)\n",
    "            count += 1\n",
    "\n",
    "    out_length = len(output_error+connection_error)\n",
    "    real_length = end_num-start_num+10-out_length\n",
    "    print(\"검색한 길이:\", end_num-start_num+10)\n",
    "    print(\"제외된 길이:\", out_length)\n",
    "    print(\"검색된 길이:\", real_length)\n",
    "    crawling_df = pd.DataFrame(\n",
    "        {\"post_dates\": postdates, \"title\": titles, \"full_text\": strings, \"url\": urls})\n",
    "    crawling_df['post_dates'] = crawling_df['post_dates'].apply(\n",
    "        lambda x: time_change(x))\n",
    "    if save == True:\n",
    "        today = datetime.datetime.today().date()\n",
    "        str(today)\n",
    "        crawling_df.to_csv(str(today)+\"_\"+keyword+\"_\" +\n",
    "                           str(real_length)+'.csv', encoding='utf-8')\n",
    "    return crawling_df, output_error, real_length"
   ]
  },
  {
   "cell_type": "code",
   "execution_count": 247,
   "metadata": {
    "ExecuteTime": {
     "end_time": "2020-04-02T07:29:41.578872Z",
     "start_time": "2020-04-02T07:29:41.575871Z"
    }
   },
   "outputs": [],
   "source": [
    "# keyword검색시 \"검색어 +필수어\" 형태로 필수단어 삽입가능\n",
    "keyword = \"동산+ 양양\"\n",
    "start_num = 1\n",
    "end_num = 501\n",
    "date_option = 0\n",
    "date_from = \"\"\n",
    "date_to = \"\""
   ]
  },
  {
   "cell_type": "code",
   "execution_count": 248,
   "metadata": {
    "ExecuteTime": {
     "end_time": "2020-04-02T07:31:32.946906Z",
     "start_time": "2020-04-02T07:29:42.310208Z"
    },
    "scrolled": false
   },
   "outputs": [
    {
     "name": "stderr",
     "output_type": "stream",
     "text": [
      "C:\\Users\\User\\Anaconda3\\lib\\site-packages\\ipykernel_launcher.py:39: TqdmDeprecationWarning: This function will be removed in tqdm==5.0.0\n",
      "Please use `tqdm.notebook.tqdm` instead of `tqdm.tqdm_notebook`\n"
     ]
    },
    {
     "data": {
      "application/vnd.jupyter.widget-view+json": {
       "model_id": "d01ee659fac0442ebc35b50fc47222bf",
       "version_major": 2,
       "version_minor": 0
      },
      "text/plain": [
       "HBox(children=(FloatProgress(value=0.0, description='page work', max=51.0, style=ProgressStyle(description_wid…"
      ]
     },
     "metadata": {},
     "output_type": "display_data"
    },
    {
     "name": "stdout",
     "output_type": "stream",
     "text": [
      "\n",
      "검색한 길이: 510\n",
      "제외된 길이: 68\n",
      "검색된 길이: 442\n"
     ]
    }
   ],
   "source": [
    "crawling_df, output_error, real_length = naver_blog_crawling(keyword, start_num, end_num, date_option, date_from, date_to)"
   ]
  },
  {
   "cell_type": "markdown",
   "metadata": {},
   "source": [
    "### 추출된 데이터 일자별 집중도 확인"
   ]
  },
  {
   "cell_type": "code",
   "execution_count": 249,
   "metadata": {
    "ExecuteTime": {
     "end_time": "2020-04-02T07:31:33.162654Z",
     "start_time": "2020-04-02T07:31:33.042928Z"
    }
   },
   "outputs": [
    {
     "data": {
      "image/png": "[encoded data removed]",
      "text/plain": [
       "<Figure size 504x360 with 1 Axes>"
      ]
     },
     "metadata": {},
     "output_type": "display_data"
    }
   ],
   "source": [
    "plt.figure(figsize=(7,5))\n",
    "plt.plot(crawling_df['post_dates'].value_counts().sort_index())\n",
    "plt.xticks(rotation = 45)\n",
    "plt.savefig(\"./output/\"+str(today)+\"_\"+keyword+\"_\"+str(real_length)+'_날짜빈도'+'.png')\n",
    "plt.show()"
   ]
  },
  {
   "cell_type": "markdown",
   "metadata": {},
   "source": [
    "### 토크나이즈"
   ]
  },
  {
   "cell_type": "markdown",
   "metadata": {},
   "source": [
    "### 함수화전"
   ]
  },
  {
   "cell_type": "code",
   "execution_count": 231,
   "metadata": {
    "ExecuteTime": {
     "end_time": "2020-04-02T07:12:48.568469Z",
     "start_time": "2020-04-02T07:12:48.317955Z"
    }
   },
   "outputs": [
    {
     "name": "stderr",
     "output_type": "stream",
     "text": [
      "C:\\Users\\User\\Anaconda3\\lib\\site-packages\\ipykernel_launcher.py:9: TqdmDeprecationWarning: This function will be removed in tqdm==5.0.0\n",
      "Please use `tqdm.notebook.tqdm` instead of `tqdm.tqdm_notebook`\n",
      "  if __name__ == '__main__':\n"
     ]
    },
    {
     "data": {
      "application/vnd.jupyter.widget-view+json": {
       "model_id": "c62ea647c858462eb5f5e81627adecc0",
       "version_major": 2,
       "version_minor": 0
      },
      "text/plain": [
       "HBox(children=(FloatProgress(value=0.0, max=169.0), HTML(value='')))"
      ]
     },
     "metadata": {},
     "output_type": "display_data"
    },
    {
     "name": "stdout",
     "output_type": "stream",
     "text": [
      "\n"
     ]
    }
   ],
   "source": [
    "#은전한닢\n",
    "\n",
    "mecab = Mecab() \n",
    "\n",
    "sw = ['오늘','시간','최근','지난','관련','이번','이날','현재','10','올해','지난해','있다','이상','기준','때문',\n",
    "     \"메뉴\",\"주문\",\"강원도\",'정도','도착','생각','양양군','사진','위치','라고']\n",
    "all_nouns =[]\n",
    "\n",
    "for i in tqdm_notebook(range(0,len(crawling_df))):\n",
    "    nouns = mecab.nouns(crawling_df['full_text'][i][0])\n",
    "    clean_nouns = list(filter(lambda word : (len(word)>1)&(word not in sw),nouns))\n",
    "    if unique == True:\n",
    "        clean_nouns = list(set(clean_nouns))\n",
    "    all_nouns.append(clean_nouns)"
   ]
  },
  {
   "cell_type": "code",
   "execution_count": 233,
   "metadata": {
    "ExecuteTime": {
     "end_time": "2020-04-02T07:13:08.666206Z",
     "start_time": "2020-04-02T07:13:08.472439Z"
    }
   },
   "outputs": [
    {
     "data": {
      "image/png": "[encoded data removed]",
      "text/plain": [
       "<Figure size 504x360 with 1 Axes>"
      ]
     },
     "metadata": {},
     "output_type": "display_data"
    }
   ],
   "source": [
    "#2중리스트 flatten\n",
    "all_noun_flatten = [y for x in all_nouns for y in x]\n",
    "\n",
    "count_df = pd.Series(all_noun_flatten).value_counts().reset_index()\n",
    "\n",
    "count_df.columns = ['word','counted']\n",
    "\n",
    "plt.figure(figsize=(7,5))\n",
    "sns.barplot(x= 'word', y = 'counted', data = count_df.head(20))\n",
    "plt.xticks(rotation = 45)\n",
    "#저장\n",
    "count_df.to_csv(\"./output/\"+str(today)+\"_\"+keyword+\"_\"+str(real_length)+'_단어빈도'+'.csv',encoding ='cp949')\n",
    "plt.savefig(\"./output/\"+str(today)+\"_\"+keyword+\"_\"+str(real_length)+'_단어빈도'+'.png')\n",
    "plt.show()"
   ]
  },
  {
   "cell_type": "markdown",
   "metadata": {},
   "source": [
    "### 함수화"
   ]
  },
  {
   "cell_type": "code",
   "execution_count": 259,
   "metadata": {
    "ExecuteTime": {
     "end_time": "2020-04-02T08:30:38.829900Z",
     "start_time": "2020-04-02T08:30:37.090224Z"
    }
   },
   "outputs": [
    {
     "name": "stderr",
     "output_type": "stream",
     "text": [
      "C:\\Users\\User\\Anaconda3\\lib\\site-packages\\konlpy\\tag\\_okt.py:16: UserWarning: \"Twitter\" has changed to \"Okt\" since KoNLPy v0.4.5.\n",
      "  warn('\"Twitter\" has changed to \"Okt\" since KoNLPy v0.4.5.')\n"
     ]
    }
   ],
   "source": [
    "#형태소분석기 종류비교\n",
    "mecab = Mecab()\n",
    "komoran = Komoran(userdic='user_dictionary.txt')\n",
    "kkma = Kkma()\n",
    "okt = Okt()\n",
    "twitter = Twitter()"
   ]
  },
  {
   "cell_type": "code",
   "execution_count": null,
   "metadata": {},
   "outputs": [],
   "source": [
    "Mecab()"
   ]
  },
  {
   "cell_type": "code",
   "execution_count": 251,
   "metadata": {
    "ExecuteTime": {
     "end_time": "2020-04-02T07:31:34.188482Z",
     "start_time": "2020-04-02T07:31:34.183481Z"
    }
   },
   "outputs": [],
   "source": [
    "def tokenaize(tagger, target, unique = False, save = True):\n",
    "    sw = ['오늘','시간','최근','지난','관련','이번','이날','현재','10','올해','지난해','있다','이상','기준','때문',\n",
    "     \"메뉴\",\"주문\",\"강원도\",'정도','도착','생각','양양군','사진','위치','라고']\n",
    "    all_nouns =[]\n",
    "\n",
    "    for i in tqdm_notebook(range(0,len(crawling_df))):\n",
    "        nouns = tagger.nouns(target[i][0])\n",
    "        clean_nouns = list(filter(lambda word : (len(word)>1)&(word not in sw),nouns))\n",
    "        if unique == True:\n",
    "            clean_nouns = list(set(clean_nouns))\n",
    "        all_nouns.append(clean_nouns)\n",
    "        \n",
    "    #2중리스트 flatten\n",
    "    all_noun_flatten = [y for x in all_nouns for y in x]\n",
    "\n",
    "    count_df = pd.Series(all_noun_flatten).value_counts().reset_index()\n",
    "\n",
    "    count_df.columns = ['word','counted']\n",
    "\n",
    "    plt.figure(figsize=(7,5))\n",
    "    sns.barplot(x= 'word', y = 'counted', data = count_df.head(20))\n",
    "    plt.xticks(rotation = 45)\n",
    "    if save == True:\n",
    "        count_df.to_csv(\"./output/\"+str(today)+\"_\"+keyword+\"_\"+str(real_length)+'_단어빈도'+'.csv',encoding ='cp949')\n",
    "        plt.savefig(\"./output/\"+str(today)+\"_\"+keyword+\"_\"+str(real_length)+'_단어빈도'+'.png')\n",
    "    plt.show()\n",
    "    \n",
    "    return all_nouns"
   ]
  },
  {
   "cell_type": "code",
   "execution_count": 252,
   "metadata": {
    "ExecuteTime": {
     "end_time": "2020-04-02T07:31:35.230716Z",
     "start_time": "2020-04-02T07:31:34.285504Z"
    },
    "scrolled": false
   },
   "outputs": [
    {
     "name": "stderr",
     "output_type": "stream",
     "text": [
      "C:\\Users\\User\\Anaconda3\\lib\\site-packages\\ipykernel_launcher.py:6: TqdmDeprecationWarning: This function will be removed in tqdm==5.0.0\n",
      "Please use `tqdm.notebook.tqdm` instead of `tqdm.tqdm_notebook`\n",
      "  \n"
     ]
    },
    {
     "data": {
      "application/vnd.jupyter.widget-view+json": {
       "model_id": "328ef199ec5d43b499429b1d79cdc058",
       "version_major": 2,
       "version_minor": 0
      },
      "text/plain": [
       "HBox(children=(FloatProgress(value=0.0, max=442.0), HTML(value='')))"
      ]
     },
     "metadata": {},
     "output_type": "display_data"
    },
    {
     "name": "stdout",
     "output_type": "stream",
     "text": [
      "\n"
     ]
    },
    {
     "data": {
      "image/png": "[encoded data removed]",
      "text/plain": [
       "<Figure size 504x360 with 1 Axes>"
      ]
     },
     "metadata": {},
     "output_type": "display_data"
    }
   ],
   "source": [
    "all_nouns = tokenaize(mecab,crawling_df['full_text'])"
   ]
  },
  {
   "cell_type": "code",
   "execution_count": 260,
   "metadata": {
    "ExecuteTime": {
     "end_time": "2020-04-02T08:30:53.844420Z",
     "start_time": "2020-04-02T08:30:43.132014Z"
    }
   },
   "outputs": [
    {
     "name": "stderr",
     "output_type": "stream",
     "text": [
      "C:\\Users\\User\\Anaconda3\\lib\\site-packages\\ipykernel_launcher.py:6: TqdmDeprecationWarning: This function will be removed in tqdm==5.0.0\n",
      "Please use `tqdm.notebook.tqdm` instead of `tqdm.tqdm_notebook`\n",
      "  \n"
     ]
    },
    {
     "data": {
      "application/vnd.jupyter.widget-view+json": {
       "model_id": "ee6d26a374f74b0e8b764b9d4132443e",
       "version_major": 2,
       "version_minor": 0
      },
      "text/plain": [
       "HBox(children=(FloatProgress(value=0.0, max=442.0), HTML(value='')))"
      ]
     },
     "metadata": {},
     "output_type": "display_data"
    },
    {
     "name": "stdout",
     "output_type": "stream",
     "text": [
      "\n"
     ]
    },
    {
     "data": {
      "image/png": "[encoded data removed]",
      "text/plain": [
       "<Figure size 504x360 with 1 Axes>"
      ]
     },
     "metadata": {},
     "output_type": "display_data"
    }
   ],
   "source": [
    "all_nouns = tokenaize(komoran,crawling_df['full_text'])"
   ]
  },
  {
   "cell_type": "markdown",
   "metadata": {},
   "source": [
    "### 연관분석"
   ]
  },
  {
   "cell_type": "code",
   "execution_count": 75,
   "metadata": {
    "ExecuteTime": {
     "end_time": "2020-04-02T01:59:26.179943Z",
     "start_time": "2020-04-02T01:59:26.056681Z"
    }
   },
   "outputs": [],
   "source": [
    "noun_df = pd.DataFrame({'nouns':all_nouns})\n",
    "rules = apriori(all_nouns, min_support=0.2, min_condience =0.3)\n",
    "results  = list(rules)"
   ]
  },
  {
   "cell_type": "code",
   "execution_count": 81,
   "metadata": {
    "ExecuteTime": {
     "end_time": "2020-04-02T02:01:34.336571Z",
     "start_time": "2020-04-02T02:01:34.101495Z"
    }
   },
   "outputs": [],
   "source": [
    "results_df = pd.DataFrame(columns =[\"lhs\",'rhs','support','confidence','lift'])\n",
    "index =0\n",
    "for row in results:   \n",
    "    support = row[1]\n",
    "    ordered_stat = row[2]\n",
    "    for ordered_item in ordered_stat:\n",
    "        lhs = \" \".join(x for x in ordered_item[0])\n",
    "        rhs = \" \".join(x for x in ordered_item[1])\n",
    "        confidence = ordered_item[2]\n",
    "        lift = ordered_item[3]\n",
    "        results_df.loc[index] = [lhs,rhs,support,confidence,lift]\n",
    "        index = index +1\n",
    "\n",
    "results_df = results_df.sort_values(by=\"lift\",ascending=False)"
   ]
  },
  {
   "cell_type": "code",
   "execution_count": 82,
   "metadata": {
    "ExecuteTime": {
     "end_time": "2020-04-02T02:01:34.886697Z",
     "start_time": "2020-04-02T02:01:34.878704Z"
    },
    "scrolled": true
   },
   "outputs": [
    {
     "data": {
      "text/html": [
       "<div>\n",
       "<style scoped>\n",
       "    .dataframe tbody tr th:only-of-type {\n",
       "        vertical-align: middle;\n",
       "    }\n",
       "\n",
       "    .dataframe tbody tr th {\n",
       "        vertical-align: top;\n",
       "    }\n",
       "\n",
       "    .dataframe thead th {\n",
       "        text-align: right;\n",
       "    }\n",
       "</style>\n",
       "<table border=\"1\" class=\"dataframe\">\n",
       "  <thead>\n",
       "    <tr style=\"text-align: right;\">\n",
       "      <th></th>\n",
       "      <th>lhs</th>\n",
       "      <th>rhs</th>\n",
       "      <th>support</th>\n",
       "      <th>confidence</th>\n",
       "      <th>lift</th>\n",
       "    </tr>\n",
       "  </thead>\n",
       "  <tbody>\n",
       "    <tr>\n",
       "      <td>78</td>\n",
       "      <td>바다</td>\n",
       "      <td>해변</td>\n",
       "      <td>0.212379</td>\n",
       "      <td>0.413712</td>\n",
       "      <td>1.495168</td>\n",
       "    </tr>\n",
       "    <tr>\n",
       "      <td>79</td>\n",
       "      <td>해변</td>\n",
       "      <td>바다</td>\n",
       "      <td>0.212379</td>\n",
       "      <td>0.767544</td>\n",
       "      <td>1.495168</td>\n",
       "    </tr>\n",
       "    <tr>\n",
       "      <td>155</td>\n",
       "      <td>해변 양양</td>\n",
       "      <td>바다</td>\n",
       "      <td>0.211165</td>\n",
       "      <td>0.766520</td>\n",
       "      <td>1.493173</td>\n",
       "    </tr>\n",
       "    <tr>\n",
       "      <td>150</td>\n",
       "      <td>바다</td>\n",
       "      <td>양양 해변</td>\n",
       "      <td>0.211165</td>\n",
       "      <td>0.411348</td>\n",
       "      <td>1.493173</td>\n",
       "    </tr>\n",
       "    <tr>\n",
       "      <td>153</td>\n",
       "      <td>바다 양양</td>\n",
       "      <td>해변</td>\n",
       "      <td>0.211165</td>\n",
       "      <td>0.412322</td>\n",
       "      <td>1.490147</td>\n",
       "    </tr>\n",
       "    <tr>\n",
       "      <td>152</td>\n",
       "      <td>해변</td>\n",
       "      <td>바다 양양</td>\n",
       "      <td>0.211165</td>\n",
       "      <td>0.763158</td>\n",
       "      <td>1.490147</td>\n",
       "    </tr>\n",
       "    <tr>\n",
       "      <td>129</td>\n",
       "      <td>느낌</td>\n",
       "      <td>여행 양양</td>\n",
       "      <td>0.206311</td>\n",
       "      <td>0.669291</td>\n",
       "      <td>1.332116</td>\n",
       "    </tr>\n",
       "    <tr>\n",
       "      <td>134</td>\n",
       "      <td>여행 양양</td>\n",
       "      <td>느낌</td>\n",
       "      <td>0.206311</td>\n",
       "      <td>0.410628</td>\n",
       "      <td>1.332116</td>\n",
       "    </tr>\n",
       "    <tr>\n",
       "      <td>52</td>\n",
       "      <td>여행</td>\n",
       "      <td>느낌</td>\n",
       "      <td>0.206311</td>\n",
       "      <td>0.410628</td>\n",
       "      <td>1.332116</td>\n",
       "    </tr>\n",
       "    <tr>\n",
       "      <td>131</td>\n",
       "      <td>여행</td>\n",
       "      <td>느낌 양양</td>\n",
       "      <td>0.206311</td>\n",
       "      <td>0.410628</td>\n",
       "      <td>1.332116</td>\n",
       "    </tr>\n",
       "    <tr>\n",
       "      <td>132</td>\n",
       "      <td>느낌 양양</td>\n",
       "      <td>여행</td>\n",
       "      <td>0.206311</td>\n",
       "      <td>0.669291</td>\n",
       "      <td>1.332116</td>\n",
       "    </tr>\n",
       "    <tr>\n",
       "      <td>51</td>\n",
       "      <td>느낌</td>\n",
       "      <td>여행</td>\n",
       "      <td>0.206311</td>\n",
       "      <td>0.669291</td>\n",
       "      <td>1.332116</td>\n",
       "    </tr>\n",
       "    <tr>\n",
       "      <td>69</td>\n",
       "      <td>바다</td>\n",
       "      <td>사람</td>\n",
       "      <td>0.252427</td>\n",
       "      <td>0.491726</td>\n",
       "      <td>1.239089</td>\n",
       "    </tr>\n",
       "    <tr>\n",
       "      <td>70</td>\n",
       "      <td>사람</td>\n",
       "      <td>바다</td>\n",
       "      <td>0.252427</td>\n",
       "      <td>0.636086</td>\n",
       "      <td>1.239089</td>\n",
       "    </tr>\n",
       "    <tr>\n",
       "      <td>141</td>\n",
       "      <td>양양 사람</td>\n",
       "      <td>바다</td>\n",
       "      <td>0.251214</td>\n",
       "      <td>0.634969</td>\n",
       "      <td>1.236914</td>\n",
       "    </tr>\n",
       "    <tr>\n",
       "      <td>136</td>\n",
       "      <td>바다</td>\n",
       "      <td>양양 사람</td>\n",
       "      <td>0.251214</td>\n",
       "      <td>0.489362</td>\n",
       "      <td>1.236914</td>\n",
       "    </tr>\n",
       "    <tr>\n",
       "      <td>140</td>\n",
       "      <td>바다 양양</td>\n",
       "      <td>사람</td>\n",
       "      <td>0.251214</td>\n",
       "      <td>0.490521</td>\n",
       "      <td>1.236054</td>\n",
       "    </tr>\n",
       "    <tr>\n",
       "      <td>137</td>\n",
       "      <td>사람</td>\n",
       "      <td>바다 양양</td>\n",
       "      <td>0.251214</td>\n",
       "      <td>0.633028</td>\n",
       "      <td>1.236054</td>\n",
       "    </tr>\n",
       "    <tr>\n",
       "      <td>145</td>\n",
       "      <td>여행</td>\n",
       "      <td>바다 양양</td>\n",
       "      <td>0.317961</td>\n",
       "      <td>0.632850</td>\n",
       "      <td>1.235708</td>\n",
       "    </tr>\n",
       "    <tr>\n",
       "      <td>146</td>\n",
       "      <td>바다 양양</td>\n",
       "      <td>여행</td>\n",
       "      <td>0.317961</td>\n",
       "      <td>0.620853</td>\n",
       "      <td>1.235708</td>\n",
       "    </tr>\n",
       "  </tbody>\n",
       "</table>\n",
       "</div>"
      ],
      "text/plain": [
       "       lhs    rhs   support  confidence      lift\n",
       "78      바다     해변  0.212379    0.413712  1.495168\n",
       "79      해변     바다  0.212379    0.767544  1.495168\n",
       "155  해변 양양     바다  0.211165    0.766520  1.493173\n",
       "150     바다  양양 해변  0.211165    0.411348  1.493173\n",
       "153  바다 양양     해변  0.211165    0.412322  1.490147\n",
       "152     해변  바다 양양  0.211165    0.763158  1.490147\n",
       "129     느낌  여행 양양  0.206311    0.669291  1.332116\n",
       "134  여행 양양     느낌  0.206311    0.410628  1.332116\n",
       "52      여행     느낌  0.206311    0.410628  1.332116\n",
       "131     여행  느낌 양양  0.206311    0.410628  1.332116\n",
       "132  느낌 양양     여행  0.206311    0.669291  1.332116\n",
       "51      느낌     여행  0.206311    0.669291  1.332116\n",
       "69      바다     사람  0.252427    0.491726  1.239089\n",
       "70      사람     바다  0.252427    0.636086  1.239089\n",
       "141  양양 사람     바다  0.251214    0.634969  1.236914\n",
       "136     바다  양양 사람  0.251214    0.489362  1.236914\n",
       "140  바다 양양     사람  0.251214    0.490521  1.236054\n",
       "137     사람  바다 양양  0.251214    0.633028  1.236054\n",
       "145     여행  바다 양양  0.317961    0.632850  1.235708\n",
       "146  바다 양양     여행  0.317961    0.620853  1.235708"
      ]
     },
     "execution_count": 82,
     "metadata": {},
     "output_type": "execute_result"
    }
   ],
   "source": [
    "results_df.head(20)"
   ]
  },
  {
   "cell_type": "code",
   "execution_count": 83,
   "metadata": {
    "ExecuteTime": {
     "end_time": "2020-04-02T02:01:55.367383Z",
     "start_time": "2020-04-02T02:01:55.358389Z"
    }
   },
   "outputs": [
    {
     "data": {
      "text/html": [
       "<div>\n",
       "<style scoped>\n",
       "    .dataframe tbody tr th:only-of-type {\n",
       "        vertical-align: middle;\n",
       "    }\n",
       "\n",
       "    .dataframe tbody tr th {\n",
       "        vertical-align: top;\n",
       "    }\n",
       "\n",
       "    .dataframe thead th {\n",
       "        text-align: right;\n",
       "    }\n",
       "</style>\n",
       "<table border=\"1\" class=\"dataframe\">\n",
       "  <thead>\n",
       "    <tr style=\"text-align: right;\">\n",
       "      <th></th>\n",
       "      <th>lhs</th>\n",
       "      <th>rhs</th>\n",
       "      <th>support</th>\n",
       "      <th>confidence</th>\n",
       "      <th>lift</th>\n",
       "    </tr>\n",
       "  </thead>\n",
       "  <tbody>\n",
       "    <tr>\n",
       "      <td>89</td>\n",
       "      <td></td>\n",
       "      <td>여행 사람</td>\n",
       "      <td>0.228155</td>\n",
       "      <td>0.228155</td>\n",
       "      <td>1.000000</td>\n",
       "    </tr>\n",
       "    <tr>\n",
       "      <td>119</td>\n",
       "      <td></td>\n",
       "      <td>처음 양양</td>\n",
       "      <td>0.259709</td>\n",
       "      <td>0.259709</td>\n",
       "      <td>1.000000</td>\n",
       "    </tr>\n",
       "    <tr>\n",
       "      <td>50</td>\n",
       "      <td></td>\n",
       "      <td>느낌 여행</td>\n",
       "      <td>0.206311</td>\n",
       "      <td>0.206311</td>\n",
       "      <td>1.000000</td>\n",
       "    </tr>\n",
       "    <tr>\n",
       "      <td>116</td>\n",
       "      <td></td>\n",
       "      <td>준비 양양</td>\n",
       "      <td>0.211165</td>\n",
       "      <td>0.211165</td>\n",
       "      <td>1.000000</td>\n",
       "    </tr>\n",
       "    <tr>\n",
       "      <td>25</td>\n",
       "      <td></td>\n",
       "      <td>준비</td>\n",
       "      <td>0.212379</td>\n",
       "      <td>0.212379</td>\n",
       "      <td>1.000000</td>\n",
       "    </tr>\n",
       "    <tr>\n",
       "      <td>26</td>\n",
       "      <td></td>\n",
       "      <td>처음</td>\n",
       "      <td>0.260922</td>\n",
       "      <td>0.260922</td>\n",
       "      <td>1.000000</td>\n",
       "    </tr>\n",
       "    <tr>\n",
       "      <td>113</td>\n",
       "      <td></td>\n",
       "      <td>양양 저녁</td>\n",
       "      <td>0.201456</td>\n",
       "      <td>0.201456</td>\n",
       "      <td>1.000000</td>\n",
       "    </tr>\n",
       "    <tr>\n",
       "      <td>110</td>\n",
       "      <td></td>\n",
       "      <td>자리 양양</td>\n",
       "      <td>0.264563</td>\n",
       "      <td>0.264563</td>\n",
       "      <td>1.000000</td>\n",
       "    </tr>\n",
       "    <tr>\n",
       "      <td>27</td>\n",
       "      <td></td>\n",
       "      <td>카페</td>\n",
       "      <td>0.248786</td>\n",
       "      <td>0.248786</td>\n",
       "      <td>1.000000</td>\n",
       "    </tr>\n",
       "    <tr>\n",
       "      <td>107</td>\n",
       "      <td></td>\n",
       "      <td>이용 양양</td>\n",
       "      <td>0.200243</td>\n",
       "      <td>0.200243</td>\n",
       "      <td>1.000000</td>\n",
       "    </tr>\n",
       "    <tr>\n",
       "      <td>104</td>\n",
       "      <td></td>\n",
       "      <td>음식 양양</td>\n",
       "      <td>0.200243</td>\n",
       "      <td>0.200243</td>\n",
       "      <td>1.000000</td>\n",
       "    </tr>\n",
       "    <tr>\n",
       "      <td>92</td>\n",
       "      <td></td>\n",
       "      <td>양양 속초</td>\n",
       "      <td>0.290049</td>\n",
       "      <td>0.290049</td>\n",
       "      <td>1.000000</td>\n",
       "    </tr>\n",
       "    <tr>\n",
       "      <td>29</td>\n",
       "      <td></td>\n",
       "      <td>가격 양양</td>\n",
       "      <td>0.225728</td>\n",
       "      <td>0.225728</td>\n",
       "      <td>1.000000</td>\n",
       "    </tr>\n",
       "    <tr>\n",
       "      <td>101</td>\n",
       "      <td></td>\n",
       "      <td>여행 양양</td>\n",
       "      <td>0.502427</td>\n",
       "      <td>0.502427</td>\n",
       "      <td>1.000000</td>\n",
       "    </tr>\n",
       "    <tr>\n",
       "      <td>98</td>\n",
       "      <td></td>\n",
       "      <td>아침 양양</td>\n",
       "      <td>0.258495</td>\n",
       "      <td>0.258495</td>\n",
       "      <td>1.000000</td>\n",
       "    </tr>\n",
       "    <tr>\n",
       "      <td>95</td>\n",
       "      <td></td>\n",
       "      <td>시작 양양</td>\n",
       "      <td>0.248786</td>\n",
       "      <td>0.248786</td>\n",
       "      <td>1.000000</td>\n",
       "    </tr>\n",
       "    <tr>\n",
       "      <td>32</td>\n",
       "      <td></td>\n",
       "      <td>가족 양양</td>\n",
       "      <td>0.223301</td>\n",
       "      <td>0.223301</td>\n",
       "      <td>1.000000</td>\n",
       "    </tr>\n",
       "    <tr>\n",
       "      <td>0</td>\n",
       "      <td></td>\n",
       "      <td>가격</td>\n",
       "      <td>0.225728</td>\n",
       "      <td>0.225728</td>\n",
       "      <td>1.000000</td>\n",
       "    </tr>\n",
       "    <tr>\n",
       "      <td>96</td>\n",
       "      <td>시작</td>\n",
       "      <td>양양</td>\n",
       "      <td>0.248786</td>\n",
       "      <td>0.985577</td>\n",
       "      <td>0.996461</td>\n",
       "    </tr>\n",
       "    <tr>\n",
       "      <td>97</td>\n",
       "      <td>양양</td>\n",
       "      <td>시작</td>\n",
       "      <td>0.248786</td>\n",
       "      <td>0.251534</td>\n",
       "      <td>0.996461</td>\n",
       "    </tr>\n",
       "  </tbody>\n",
       "</table>\n",
       "</div>"
      ],
      "text/plain": [
       "    lhs    rhs   support  confidence      lift\n",
       "89       여행 사람  0.228155    0.228155  1.000000\n",
       "119      처음 양양  0.259709    0.259709  1.000000\n",
       "50       느낌 여행  0.206311    0.206311  1.000000\n",
       "116      준비 양양  0.211165    0.211165  1.000000\n",
       "25          준비  0.212379    0.212379  1.000000\n",
       "26          처음  0.260922    0.260922  1.000000\n",
       "113      양양 저녁  0.201456    0.201456  1.000000\n",
       "110      자리 양양  0.264563    0.264563  1.000000\n",
       "27          카페  0.248786    0.248786  1.000000\n",
       "107      이용 양양  0.200243    0.200243  1.000000\n",
       "104      음식 양양  0.200243    0.200243  1.000000\n",
       "92       양양 속초  0.290049    0.290049  1.000000\n",
       "29       가격 양양  0.225728    0.225728  1.000000\n",
       "101      여행 양양  0.502427    0.502427  1.000000\n",
       "98       아침 양양  0.258495    0.258495  1.000000\n",
       "95       시작 양양  0.248786    0.248786  1.000000\n",
       "32       가족 양양  0.223301    0.223301  1.000000\n",
       "0           가격  0.225728    0.225728  1.000000\n",
       "96   시작     양양  0.248786    0.985577  0.996461\n",
       "97   양양     시작  0.248786    0.251534  0.996461"
      ]
     },
     "execution_count": 83,
     "metadata": {},
     "output_type": "execute_result"
    }
   ],
   "source": [
    "results_df.tail(20)"
   ]
  },
  {
   "cell_type": "markdown",
   "metadata": {},
   "source": [
    "### 검수용코드"
   ]
  },
  {
   "cell_type": "code",
   "execution_count": 133,
   "metadata": {
    "ExecuteTime": {
     "end_time": "2020-04-02T04:56:49.397372Z",
     "start_time": "2020-04-02T04:56:48.997715Z"
    },
    "code_folding": []
   },
   "outputs": [],
   "source": [
    "#1개코드 \n",
    "#저장위치\n",
    "postdates = []\n",
    "strings = []\n",
    "urls = []\n",
    "titles = []\n",
    "output_error = []\n",
    "connection_error = []\n",
    "count = 1\n",
    "\n",
    "pattern =re.compile('href=\"'+'[A-z0-9\\:\\/\\&\\;\\.\\?\\=]+')\n",
    "#keyword와 시작넘버만 바꾸면서 진행하게끔\n",
    "base_url = 'https://search.naver.com/search.naver?date_from=&date_option=0&date_to=&dup_remove=1&nso=&post_blogurl=&post_blogurl_without=&query={keyword}&sm=tab_pge&srchby=all&st=sim&where=post&start={start_num}'\n",
    "\n",
    "#for문 돌려야하는 부분(각 검색결과의 시작은 1이고, 10개씩 보여짐,)\n",
    "search_list = base_url.format(keyword = \"전진리 +양양\",start_num = 13)\n",
    "response = requests.get(search_list)\n",
    "\n",
    "if response.status_code is 200:\n",
    "    #1번 검색시 10개의 결과가 출력 따라서 section은 총 10개\n",
    "    soup = BeautifulSoup(response.content,'lxml')\n",
    "    sections = soup.findAll('li', attrs={'class':'sh_blog_top'})\n",
    "    section = sections[0]\n",
    "    \n",
    "    #href부분만 가져오기 어려워서 정규표현식으로 검색\n",
    "    url = re.findall(pattern, str(section))[0].replace('?Redirect=Log&amp;logNo=','/').replace('href=\"','')\n",
    "    title = section.select_one('a.txt84').text\n",
    "    date = section.select_one('dd.txt_inline').text.strip()\n",
    "\n",
    "    #블로그 url안에 들어가기(아직 크롤링불가)\n",
    "    get_blog_post_content_code = requests.get(url)\n",
    "    get_blog_post_content_text = get_blog_post_content_code.text\n",
    "    get_blog_post_content_soup = BeautifulSoup(get_blog_post_content_text, 'lxml')\n",
    "\n",
    "    #크롤링가능한 url에 접속\n",
    "    try:\n",
    "        real_blog_post_url = \"http://blog.naver.com\" + get_blog_post_content_soup.select('#mainFrame')[0].get('src')\n",
    "        get_real_blog_post_content_code = requests.get(real_blog_post_url)\n",
    "        get_real_blog_post_content_text = get_real_blog_post_content_code.text\n",
    "        get_real_blog_post_content_soup = BeautifulSoup(get_real_blog_post_content_text, 'lxml')\n",
    "    except:\n",
    "        real_blog_post_url = url\n",
    "        get_real_blog_post_content_code = requests.get(real_blog_post_url)\n",
    "        get_real_blog_post_content_text = get_real_blog_post_content_code.text\n",
    "        get_real_blog_post_content_soup = BeautifulSoup(get_real_blog_post_content_text, 'lxml')\n",
    "        pass\n",
    "\n",
    "    # url (에러나면 위에서부터 에러남)\n",
    "    try:\n",
    "        urls.append(real_blog_post_url)\n",
    "    except :\n",
    "        urls.append(url)\n",
    "    #블로그명\n",
    "    titles.append(title)\n",
    "    #날짜\n",
    "    postdates.append(date)\n",
    "\n",
    "    #본문  (postviewarea 패턴과 se-main-container 2가지 유형이 있어 분리함) \n",
    "    try:\n",
    "        blog_post_content = get_real_blog_post_content_soup.select('div#postViewArea')\n",
    "        if len(blog_post_content) == 0:\n",
    "            blog_post_content = get_real_blog_post_content_soup.select('div.se-main-container')\n",
    "            if len(blog_post_content) == 0:\n",
    "                                blog_post_content = get_real_blog_post_content_soup.select('div.se_component_wrap.sect_dsc.__se_component_area')\n",
    "\n",
    "        string = \"\"\n",
    "        for sentence in blog_post_content[0].stripped_strings:\n",
    "            string += \" \"+sentence.replace('\\xa0',\" \")\n",
    "            \n",
    "        strings.append([string])\n",
    "        count += 1\n",
    "    except:\n",
    "        strings.append([np.NaN])\n",
    "        count += 1\n",
    "\n",
    "\n",
    "crawling_df = pd.DataFrame({\"post_dates\":postdates, \"title\":titles, \"full_text\":strings, \"url\":urls})\n"
   ]
  },
  {
   "cell_type": "code",
   "execution_count": 138,
   "metadata": {
    "ExecuteTime": {
     "end_time": "2020-04-02T04:57:26.077397Z",
     "start_time": "2020-04-02T04:57:26.069395Z"
    }
   },
   "outputs": [
    {
     "ename": "IndexError",
     "evalue": "list index out of range",
     "output_type": "error",
     "traceback": [
      "\u001b[1;31m---------------------------------------------------------------------------\u001b[0m",
      "\u001b[1;31mIndexError\u001b[0m                                Traceback (most recent call last)",
      "\u001b[1;32m<ipython-input-138-965133f9a77b>\u001b[0m in \u001b[0;36m<module>\u001b[1;34m()\u001b[0m\n\u001b[0;32m      6\u001b[0m \u001b[1;33m\u001b[0m\u001b[0m\n\u001b[0;32m      7\u001b[0m \u001b[0mstring\u001b[0m \u001b[1;33m=\u001b[0m \u001b[1;34m\"\"\u001b[0m\u001b[1;33m\u001b[0m\u001b[0m\n\u001b[1;32m----> 8\u001b[1;33m \u001b[1;32mfor\u001b[0m \u001b[0msentence\u001b[0m \u001b[1;32min\u001b[0m \u001b[0mblog_post_content\u001b[0m\u001b[1;33m[\u001b[0m\u001b[1;36m0\u001b[0m\u001b[1;33m]\u001b[0m\u001b[1;33m.\u001b[0m\u001b[0mstripped_strings\u001b[0m\u001b[1;33m:\u001b[0m\u001b[1;33m\u001b[0m\u001b[0m\n\u001b[0m\u001b[0;32m      9\u001b[0m     \u001b[0mstring\u001b[0m \u001b[1;33m+=\u001b[0m \u001b[1;34m\" \"\u001b[0m\u001b[1;33m+\u001b[0m\u001b[0msentence\u001b[0m\u001b[1;33m.\u001b[0m\u001b[0mreplace\u001b[0m\u001b[1;33m(\u001b[0m\u001b[1;34m'\\xa0'\u001b[0m\u001b[1;33m,\u001b[0m\u001b[1;34m\" \"\u001b[0m\u001b[1;33m)\u001b[0m\u001b[1;33m\u001b[0m\u001b[0m\n\u001b[0;32m     10\u001b[0m \u001b[1;33m\u001b[0m\u001b[0m\n",
      "\u001b[1;31mIndexError\u001b[0m: list index out of range"
     ]
    }
   ],
   "source": [
    "blog_post_content = get_real_blog_post_content_soup.select('div#postViewArea')\n",
    "if len(blog_post_content) == 0:\n",
    "    blog_post_content = get_real_blog_post_content_soup.select('div.se-main-container')\n",
    "    if len(blog_post_content) == 0:\n",
    "        blog_post_content = get_real_blog_post_content_soup.select('div.se_component_wrap.sect_dsc.__se_component_area')\n",
    "\n",
    "string = \"\"\n",
    "for sentence in blog_post_content[0].stripped_strings:\n",
    "    string += \" \"+sentence.replace('\\xa0',\" \")\n",
    "\n",
    "strings.append([string])\n",
    "count += 1"
   ]
  },
  {
   "cell_type": "code",
   "execution_count": 139,
   "metadata": {
    "ExecuteTime": {
     "end_time": "2020-04-02T04:57:31.057263Z",
     "start_time": "2020-04-02T04:57:31.054272Z"
    }
   },
   "outputs": [
    {
     "data": {
      "text/plain": [
       "[]"
      ]
     },
     "execution_count": 139,
     "metadata": {},
     "output_type": "execute_result"
    }
   ],
   "source": [
    "blog_post_content"
   ]
  },
  {
   "cell_type": "code",
   "execution_count": 126,
   "metadata": {
    "ExecuteTime": {
     "end_time": "2020-04-02T04:48:07.816320Z",
     "start_time": "2020-04-02T04:48:07.813325Z"
    }
   },
   "outputs": [
    {
     "data": {
      "text/plain": [
       "'http://blog.daum.net/jbh8466/8548063//t1.daumcdn.net/midas/rt/dk_bt/roosevelt_dk_bt.js'"
      ]
     },
     "execution_count": 126,
     "metadata": {},
     "output_type": "execute_result"
    }
   ],
   "source": [
    "url+ '//t1.daumcdn.net/midas/rt/dk_bt/roosevelt_dk_bt.js'"
   ]
  },
  {
   "cell_type": "code",
   "execution_count": 123,
   "metadata": {
    "ExecuteTime": {
     "end_time": "2020-04-02T04:47:22.452154Z",
     "start_time": "2020-04-02T04:47:22.445162Z"
    }
   },
   "outputs": [
    {
     "data": {
      "text/plain": [
       "<!DOCTYPE html PUBLIC \"-//W3C//DTD XHTML 1.0 Frameset//EN\" \"http://www.w3.org/TR/xhtml1/DTD/xhtml1-frameset.dtd\">\n",
       "<html xml:lang=\"ko\" xmlns=\"http://www.w3.org/1999/xhtml\">\n",
       "<head>\n",
       "<meta content=\"IE=IE7\" http-equiv=\"X-UA-Compatible\"/>\n",
       "<meta content=\"text/html; charset=utf-8\" http-equiv=\"Content-Type\"/>\n",
       "<meta content=\"http://blog.daum.net/jbh8466/xrds\" http-equiv=\"X-XRDS-Location\"/>\n",
       "<meta content=\" GOLF guide 골프가이드 \" name=\"title\"/>\n",
       "<link href=\"//blog.daum.net/favicon.png\" rel=\"icon\" type=\"image/ico\"/>\n",
       "<link href=\"http://blog.daum.net/xml/rss/jbh8466\" rel=\"alternate\" title=\"RSS\" type=\"application/rss+xml\"/>\n",
       "<link href=\"http://blog.daum.net/xml/atom/jbh8466\" rel=\"alternate\" title=\"ATOM\" type=\"application/atom+xml\"/>\n",
       "<link href=\"http://openid.daum.net/server\" rel=\"openid.server\"/>\n",
       "<title> GOLF guide 골프가이드 </title>\n",
       "<script type=\"text/javascript\">\n",
       "    \t\tdocument.domain = \"daum.net\";\n",
       "    \t</script>\n",
       "<script type=\"text/javascript\">\n",
       "            window.roosevelt_params_queue = window.roosevelt_params_queue || [];\n",
       "            window.roosevelt_params_queue.push({\n",
       "                channel_id: \"dk\", channel_label: \"blog\"\n",
       "            });\n",
       "        </script>\n",
       "<script async=\"\" src=\"//t1.daumcdn.net/midas/rt/dk_bt/roosevelt_dk_bt.js\" type=\"text/javascript\"></script>\n",
       "</head>\n",
       "<frameset frameborder=\"0\" framespacing=\"0\" rows=\"*,0\" title=\"개별 블로그 프레임셋\">\n",
       "<frame name=\"BlogMain\" src=\"/_blog/BlogTypeView.do?blogid=0N6ZK&amp;articleno=8548063&amp;admin=\" title=\"개별 블로그 게시글\"/>\n",
       "<frame id=\"BlogTop\" name=\"BlogTop\" noresize=\"noresize\" scrolling=\"no\" title=\"개별 블로그 배경음악\"/>\n",
       "<noframes>\n",
       "<body>\n",
       "<p>이 페이지를 보려면, 프레임을 볼 수 있는 브라우저가 필요합니다.</p>\n",
       "</body>\n",
       "</noframes>\n",
       "</frameset>\n",
       "</html>"
      ]
     },
     "execution_count": 123,
     "metadata": {},
     "output_type": "execute_result"
    }
   ],
   "source": [
    "get_blog_post_content_soup"
   ]
  }
 ],
 "metadata": {
  "kernelspec": {
   "display_name": "Python 3",
   "language": "python",
   "name": "python3"
  },
  "language_info": {
   "codemirror_mode": {
    "name": "ipython",
    "version": 3
   },
   "file_extension": ".py",
   "mimetype": "text/x-python",
   "name": "python",
   "nbconvert_exporter": "python",
   "pygments_lexer": "ipython3",
   "version": "3.6.5"
  },
  "varInspector": {
   "cols": {
    "lenName": 16,
    "lenType": 16,
    "lenVar": 40
   },
   "kernels_config": {
    "python": {
     "delete_cmd_postfix": "",
     "delete_cmd_prefix": "del ",
     "library": "var_list.py",
     "varRefreshCmd": "print(var_dic_list())"
    },
    "r": {
     "delete_cmd_postfix": ") ",
     "delete_cmd_prefix": "rm(",
     "library": "var_list.r",
     "varRefreshCmd": "cat(var_dic_list()) "
    }
   },
   "types_to_exclude": [
    "module",
    "function",
    "builtin_function_or_method",
    "instance",
    "_Feature"
   ],
   "window_display": false
  }
 },
 "nbformat": 4,
 "nbformat_minor": 2
}

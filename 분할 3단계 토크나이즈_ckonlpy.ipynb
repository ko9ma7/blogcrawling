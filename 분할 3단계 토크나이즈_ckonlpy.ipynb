{
 "cells": [
  {
   "cell_type": "markdown",
   "metadata": {},
   "source": [
    "# issue\n",
    "* 사용자사전을 위해 ckonlpy 사용"
   ]
  },
  {
   "cell_type": "code",
   "execution_count": 1,
   "metadata": {
    "ExecuteTime": {
     "end_time": "2020-06-15T01:23:04.096931Z",
     "start_time": "2020-06-15T01:23:01.898433Z"
    },
    "code_folding": [],
    "scrolled": false
   },
   "outputs": [
    {
     "name": "stderr",
     "output_type": "stream",
     "text": [
      "C:\\Users\\User\\Anaconda3\\lib\\site-packages\\jpype\\_core.py:217: UserWarning: \n",
      "-------------------------------------------------------------------------------\n",
      "Deprecated: convertStrings was not specified when starting the JVM. The default\n",
      "behavior in JPype will be False starting in JPype 0.8. The recommended setting\n",
      "for new code is convertStrings=False.  The legacy value of True was assumed for\n",
      "this session. If you are a user of an application that reported this warning,\n",
      "please file a ticket with the developer.\n",
      "-------------------------------------------------------------------------------\n",
      "\n",
      "  \"\"\")\n",
      "C:\\Users\\User\\AppData\\Roaming\\Python\\Python36\\site-packages\\konlpy\\tag\\_okt.py:16: UserWarning: \"Twitter\" has changed to \"Okt\" since KoNLPy v0.4.5.\n",
      "  warn('\"Twitter\" has changed to \"Okt\" since KoNLPy v0.4.5.')\n"
     ]
    },
    {
     "data": {
      "text/html": [
       "<style>.container {width:100% !important; }</style>"
      ],
      "text/plain": [
       "<IPython.core.display.HTML object>"
      ]
     },
     "metadata": {},
     "output_type": "display_data"
    }
   ],
   "source": [
    "# import\n",
    "import seaborn as sns\n",
    "import matplotlib.pyplot as plt\n",
    "\n",
    "from tqdm import tqdm,tqdm_notebook  # 진행과정 시각화\n",
    "tqdm.pandas() #apply사용\n",
    "from datetime import timedelta  # 시간날짜\n",
    "\n",
    "import re\n",
    "import datetime\n",
    "import pandas as pd\n",
    "import numpy as np\n",
    "import gc\n",
    "import os\n",
    "import math \n",
    "\n",
    "import konlpy\n",
    "from konlpy.tag import Komoran,Okt,Kkma,Twitter  # 자연어처리\n",
    "okt = Okt(max_heap_size=5120)\n",
    "\n",
    "import ckonlpy\n",
    "tw = ckonlpy.tag.Twitter()\n",
    "new_noun = pd.read_excel('단어사전.xlsx')['단어'].to_list()\n",
    "tw.add_dictionary(new_noun,'Noun')\n",
    "\n",
    "#한글깨짐방지\n",
    "plt.rc('font',family='Malgun Gothic')\n",
    "plt.rcParams['axes.unicode_minus'] = False\n",
    "\n",
    "from IPython.core.display import display, HTML\n",
    "display(HTML('<style>.container {width:100% !important; }</style>'))"
   ]
  },
  {
   "cell_type": "code",
   "execution_count": 2,
   "metadata": {
    "ExecuteTime": {
     "end_time": "2020-06-15T01:23:04.106933Z",
     "start_time": "2020-06-15T01:23:04.097932Z"
    },
    "code_folding": []
   },
   "outputs": [],
   "source": [
    "def tokenized(dataframe, keyword, stopword, batch_size = 10000):\n",
    "    '''크롤링된 데이터를 불러와 ckonlpy로 토크나이즈 진행\n",
    "    사용자정의사전을 쉽게 등록할 수 있어 ckonlpy를 사용하여 진행\n",
    "    \n",
    "    Parameters\n",
    "    ---------\n",
    "    dataframe(DataFrame) : 분석할 df\n",
    "    keyword(string) : sw에 추가하기 위함\n",
    "    stopword(list) : 불용어 리스트\n",
    "    batch_size : 한번에 진행할 row수 (과도하게 늘리면 Java heap memory오류 발생)\n",
    "    \n",
    "    Return\n",
    "    ------\n",
    "    DataFrame 형태로 './output/token/{keyword}_{start}~{end}.csv' 형태로 저장\n",
    "    post_dates   year   month  title  full_text     url    Noun        Adjective\n",
    "    2011-02-31   2011   02     제목   [전체내용]    url    [명사군]    [형용사군]\n",
    "\n",
    "    '''\n",
    "\n",
    "    # stopword에 검색어 추가\n",
    "    stopword.append(keyword.split(' ')[0])\n",
    "    \n",
    "    start = 0\n",
    "    end = len(dataframe)\n",
    "    \n",
    "    print(keyword)\n",
    "    if end<=batch_size:    \n",
    "        # tqdm.pandas(desc = '토큰화')\n",
    "        token_df = dataframe.iloc[start:end]['full_text'].progress_apply(lambda x: tw.pos(x, norm=True, stem=True))\n",
    "        token_df_e = token_df.explode()\n",
    "        # tqdm.pandas(desc = '단어추출')\n",
    "        token_noun = token_df_e.apply(lambda x: x[0] if x[1] == 'Noun' else np.nan).dropna()\n",
    "        token_adj = token_df_e.apply(lambda x: x[0] if x[1] == 'Adjective' else np.nan).dropna()\n",
    "\n",
    "        # 클리닝\n",
    "        # tqdm.pandas(desc = '클리닝')\n",
    "        token_noun = token_noun[token_noun.apply(lambda word: (len(word) > 1) & (word not in sw))]\n",
    "        token_adj = token_adj[token_adj.apply(lambda word: (len(word) > 1) & (word not in sw))]\n",
    "        \n",
    "        #저장\n",
    "        main_df = pd.merge(dataframe, token_noun.groupby(level=0).agg(list).rename(\n",
    "            'Noun'), how='left', left_index=True, right_index=True)\n",
    "        main_df = pd.merge(main_df, token_adj.groupby(level=0).agg(list).rename(\n",
    "            'Adjective'), how='left', left_index=True, right_index=True)\n",
    "        main_df.to_csv(f'./output/token/{keyword}_{start}~{end}.csv')\n",
    "        \n",
    "    else : #20000개 이상인경우 분할 작업\n",
    "        final_end = len(dataframe)\n",
    "        epoch = math.ceil(final_end/batch_size)\n",
    "        start = 0\n",
    "        end = batch_size\n",
    "        while epoch != 0:\n",
    "            # tqdm.pandas(desc = '토큰화')\n",
    "            token_df = dataframe.iloc[start:end]['full_text'].progress_apply(lambda x: tw.pos(x, norm=True, stem=True))\n",
    "            token_df_e = token_df.explode()\n",
    "            # tqdm.pandas(desc = '단어추출')\n",
    "            token_noun = token_df_e.apply(lambda x: x[0] if x[1] == 'Noun' else np.nan).dropna()\n",
    "            token_adj = token_df_e.apply(lambda x: x[0] if x[1] == 'Adjective' else np.nan).dropna()\n",
    "\n",
    "            # 클리닝\n",
    "            # tqdm.pandas(desc = '클리닝')\n",
    "            token_noun = token_noun[token_noun.apply(lambda word: (len(word) > 1) & (word not in sw))]\n",
    "            token_adj = token_adj[token_adj.apply(lambda word: (len(word) > 1) & (word not in sw))]\n",
    "\n",
    "            #저장\n",
    "            main_df = pd.merge(dataframe.iloc[start:end], token_noun.groupby(level=0).agg(list).rename(\n",
    "                'Noun'), how='left', left_index=True, right_index=True)\n",
    "            main_df = pd.merge(main_df, token_adj.groupby(level=0).agg(list).rename(\n",
    "                'Adjective'), how='left', left_index=True, right_index=True)\n",
    "            os.makedirs(f'./output/token/{keyword}',exist_ok=True)\n",
    "            main_df.to_csv(f'./output/token/{keyword}/{keyword}_{start}~{end}.csv')\n",
    "                   \n",
    "            #next turn\n",
    "            if epoch >2 :\n",
    "                start += batch_size\n",
    "                end += batch_size\n",
    "            else :      \n",
    "                start += batch_size\n",
    "                end = final_end\n",
    "            \n",
    "            epoch -= 1\n",
    "            gc.collect()"
   ]
  },
  {
   "cell_type": "markdown",
   "metadata": {},
   "source": [
    "### heap 메모리 부족 오류 발생\n",
    "* heap메모리를 4GB부여하고, 15000개 단위로 분할하여 작업진행 (2만은 가끔 메모리터짐)\n",
    "* 저장시 기본사항을 붙일수 있게 작업\n",
    "* 진행이 길어질수록 속도감소(메모리문제로 추정)하기 때문에 재실행필요"
   ]
  },
  {
   "cell_type": "code",
   "execution_count": 3,
   "metadata": {
    "ExecuteTime": {
     "end_time": "2020-06-15T04:27:09.869713Z",
     "start_time": "2020-06-15T01:23:04.107933Z"
    },
    "scrolled": true
   },
   "outputs": [
    {
     "name": "stderr",
     "output_type": "stream",
     "text": [
      "C:\\Users\\User\\Anaconda3\\lib\\site-packages\\ipykernel_launcher.py:5: TqdmDeprecationWarning: This function will be removed in tqdm==5.0.0\n",
      "Please use `tqdm.notebook.tqdm` instead of `tqdm.tqdm_notebook`\n",
      "  \"\"\"\n"
     ]
    },
    {
     "data": {
      "application/vnd.jupyter.widget-view+json": {
       "model_id": "44ef207f69d9488db07a710aa9667766",
       "version_major": 2,
       "version_minor": 0
      },
      "text/plain": [
       "HBox(children=(FloatProgress(value=0.0, max=31.0), HTML(value='')))"
      ]
     },
     "metadata": {},
     "output_type": "display_data"
    },
    {
     "name": "stderr",
     "output_type": "stream",
     "text": [
      "\r",
      "  0%|                                                                                        | 0/10000 [00:00<?, ?it/s]"
     ]
    },
    {
     "name": "stdout",
     "output_type": "stream",
     "text": [
      "강릉 +강원도\n"
     ]
    },
    {
     "name": "stderr",
     "output_type": "stream",
     "text": [
      "100%|████████████████████████████████████████████████████████████████████████████| 10000/10000 [05:58<00:00, 27.91it/s]\n",
      "100%|████████████████████████████████████████████████████████████████████████████| 10000/10000 [05:32<00:00, 30.09it/s]\n",
      "100%|████████████████████████████████████████████████████████████████████████████| 10000/10000 [05:49<00:00, 28.59it/s]\n",
      "100%|████████████████████████████████████████████████████████████████████████████| 10000/10000 [06:29<00:00, 25.66it/s]\n",
      "100%|████████████████████████████████████████████████████████████████████████████| 10000/10000 [08:13<00:00, 20.28it/s]\n",
      "100%|██████████████████████████████████████████████████████████████████████████████| 3544/3544 [02:50<00:00, 20.79it/s]\n",
      "  0%|                                                                                | 5/10000 [00:00<03:41, 45.04it/s]"
     ]
    },
    {
     "name": "stdout",
     "output_type": "stream",
     "text": [
      "강원도\n"
     ]
    },
    {
     "name": "stderr",
     "output_type": "stream",
     "text": [
      "100%|████████████████████████████████████████████████████████████████████████████| 10000/10000 [04:33<00:00, 36.63it/s]\n",
      "100%|████████████████████████████████████████████████████████████████████████████| 10000/10000 [04:47<00:00, 34.77it/s]\n",
      "100%|████████████████████████████████████████████████████████████████████████████| 10000/10000 [05:55<00:00, 28.17it/s]\n",
      "100%|████████████████████████████████████████████████████████████████████████████| 10000/10000 [06:41<00:00, 24.90it/s]\n",
      "100%|████████████████████████████████████████████████████████████████████████████| 10000/10000 [07:10<00:00, 23.25it/s]\n",
      "100%|████████████████████████████████████████████████████████████████████████████| 10000/10000 [07:05<00:00, 23.50it/s]\n",
      "100%|██████████████████████████████████████████████████████████████████████████████| 1075/1075 [00:53<00:00, 20.07it/s]\n",
      "  1%|▉                                                                                 | 5/460 [00:00<00:13, 33.78it/s]"
     ]
    },
    {
     "name": "stdout",
     "output_type": "stream",
     "text": [
      "광진 +양양\n"
     ]
    },
    {
     "name": "stderr",
     "output_type": "stream",
     "text": [
      "100%|████████████████████████████████████████████████████████████████████████████████| 460/460 [00:21<00:00, 20.92it/s]\n",
      "  1%|█                                                                                 | 5/398 [00:00<00:11, 35.55it/s]"
     ]
    },
    {
     "name": "stdout",
     "output_type": "stream",
     "text": [
      "광진리 +강원도\n"
     ]
    },
    {
     "name": "stderr",
     "output_type": "stream",
     "text": [
      "100%|████████████████████████████████████████████████████████████████████████████████| 398/398 [00:15<00:00, 25.62it/s]\n",
      "  1%|█                                                                                 | 4/292 [00:00<00:08, 35.86it/s]"
     ]
    },
    {
     "name": "stdout",
     "output_type": "stream",
     "text": [
      "광진해변 +양양\n"
     ]
    },
    {
     "name": "stderr",
     "output_type": "stream",
     "text": [
      "100%|████████████████████████████████████████████████████████████████████████████████| 292/292 [00:15<00:00, 19.44it/s]\n",
      "  3%|██                                                                                | 5/194 [00:00<00:04, 45.71it/s]"
     ]
    },
    {
     "name": "stdout",
     "output_type": "stream",
     "text": [
      "광진해수욕장 +양양\n"
     ]
    },
    {
     "name": "stderr",
     "output_type": "stream",
     "text": [
      "100%|████████████████████████████████████████████████████████████████████████████████| 194/194 [00:10<00:00, 18.08it/s]\n",
      "  1%|▋                                                                                 | 8/990 [00:00<00:13, 71.13it/s]"
     ]
    },
    {
     "name": "stdout",
     "output_type": "stream",
     "text": [
      "기사문 +강원도\n"
     ]
    },
    {
     "name": "stderr",
     "output_type": "stream",
     "text": [
      "100%|████████████████████████████████████████████████████████████████████████████████| 990/990 [00:46<00:00, 21.32it/s]\n",
      "  0%|▏                                                                                | 4/1760 [00:00<00:48, 35.92it/s]"
     ]
    },
    {
     "name": "stdout",
     "output_type": "stream",
     "text": [
      "기사문 +양양\n"
     ]
    },
    {
     "name": "stderr",
     "output_type": "stream",
     "text": [
      "100%|██████████████████████████████████████████████████████████████████████████████| 1760/1760 [01:08<00:00, 25.74it/s]\n",
      "  1%|▍                                                                                 | 5/876 [00:00<00:22, 39.05it/s]"
     ]
    },
    {
     "name": "stdout",
     "output_type": "stream",
     "text": [
      "기사문항 +양양\n"
     ]
    },
    {
     "name": "stderr",
     "output_type": "stream",
     "text": [
      "100%|████████████████████████████████████████████████████████████████████████████████| 876/876 [00:35<00:00, 24.36it/s]\n",
      "  0%|▎                                                                                | 4/1044 [00:00<00:29, 34.78it/s]"
     ]
    },
    {
     "name": "stdout",
     "output_type": "stream",
     "text": [
      "기사문해변 +양양\n"
     ]
    },
    {
     "name": "stderr",
     "output_type": "stream",
     "text": [
      "100%|██████████████████████████████████████████████████████████████████████████████| 1044/1044 [00:47<00:00, 22.16it/s]\n",
      "  0%|                                                                                | 4/10000 [00:00<06:07, 27.21it/s]"
     ]
    },
    {
     "name": "stdout",
     "output_type": "stream",
     "text": [
      "낙산 +강원도\n"
     ]
    },
    {
     "name": "stderr",
     "output_type": "stream",
     "text": [
      "100%|████████████████████████████████████████████████████████████████████████████| 10000/10000 [07:28<00:00, 22.28it/s]\n",
      "100%|██████████████████████████████████████████████████████████████████████████████| 2616/2616 [01:58<00:00, 21.99it/s]\n",
      "  0%|                                                                                | 5/10000 [00:00<04:53, 34.01it/s]"
     ]
    },
    {
     "name": "stdout",
     "output_type": "stream",
     "text": [
      "낙산 +양양\n"
     ]
    },
    {
     "name": "stderr",
     "output_type": "stream",
     "text": [
      "100%|████████████████████████████████████████████████████████████████████████████| 10000/10000 [06:41<00:00, 24.88it/s]\n",
      "100%|██████████████████████████████████████████████████████████████████████████████| 4908/4908 [03:38<00:00, 22.50it/s]\n",
      "  2%|█▍                                                                                | 6/336 [00:00<00:06, 53.64it/s]"
     ]
    },
    {
     "name": "stdout",
     "output_type": "stream",
     "text": [
      "낙산항 +양양\n"
     ]
    },
    {
     "name": "stderr",
     "output_type": "stream",
     "text": [
      "100%|████████████████████████████████████████████████████████████████████████████████| 336/336 [00:14<00:00, 22.77it/s]\n",
      "  0%|                                                                                 | 3/8083 [00:00<04:54, 27.46it/s]"
     ]
    },
    {
     "name": "stdout",
     "output_type": "stream",
     "text": [
      "낙산해수욕장\n"
     ]
    },
    {
     "name": "stderr",
     "output_type": "stream",
     "text": [
      "100%|██████████████████████████████████████████████████████████████████████████████| 8083/8083 [06:09<00:00, 21.87it/s]\n",
      "  0%|                                                                                 | 2/2079 [00:00<01:55, 17.99it/s]"
     ]
    },
    {
     "name": "stdout",
     "output_type": "stream",
     "text": [
      "남애 +양양\n"
     ]
    },
    {
     "name": "stderr",
     "output_type": "stream",
     "text": [
      "100%|██████████████████████████████████████████████████████████████████████████████| 2079/2079 [01:26<00:00, 23.96it/s]\n",
      "  0%|                                                                                 | 3/3130 [00:00<01:53, 27.58it/s]"
     ]
    },
    {
     "name": "stdout",
     "output_type": "stream",
     "text": [
      "남애항 +양양\n"
     ]
    },
    {
     "name": "stderr",
     "output_type": "stream",
     "text": [
      "100%|██████████████████████████████████████████████████████████████████████████████| 3130/3130 [02:18<00:00, 22.59it/s]\n",
      "  0%|                                                                                 | 2/1888 [00:00<01:43, 18.19it/s]"
     ]
    },
    {
     "name": "stdout",
     "output_type": "stream",
     "text": [
      "동산 +양양\n"
     ]
    },
    {
     "name": "stderr",
     "output_type": "stream",
     "text": [
      "100%|██████████████████████████████████████████████████████████████████████████████| 1888/1888 [02:11<00:00, 14.37it/s]\n",
      "  1%|▉                                                                                 | 5/464 [00:00<00:10, 45.46it/s]"
     ]
    },
    {
     "name": "stdout",
     "output_type": "stream",
     "text": [
      "동산항 +양양\n"
     ]
    },
    {
     "name": "stderr",
     "output_type": "stream",
     "text": [
      "100%|████████████████████████████████████████████████████████████████████████████████| 464/464 [00:21<00:00, 21.65it/s]\n",
      "  1%|▍                                                                                 | 3/567 [00:00<00:20, 27.42it/s]"
     ]
    },
    {
     "name": "stdout",
     "output_type": "stream",
     "text": [
      "동산해수욕장 +양양\n"
     ]
    },
    {
     "name": "stderr",
     "output_type": "stream",
     "text": [
      "100%|████████████████████████████████████████████████████████████████████████████████| 567/567 [00:31<00:00, 17.80it/s]\n",
      "  0%|▏                                                                                | 4/2523 [00:00<01:45, 23.79it/s]"
     ]
    },
    {
     "name": "stdout",
     "output_type": "stream",
     "text": [
      "동호 +강원도\n"
     ]
    },
    {
     "name": "stderr",
     "output_type": "stream",
     "text": [
      "100%|██████████████████████████████████████████████████████████████████████████████| 2523/2523 [02:17<00:00, 18.30it/s]\n",
      "  0%|                                                                                 | 3/2486 [00:00<01:56, 21.23it/s]"
     ]
    },
    {
     "name": "stdout",
     "output_type": "stream",
     "text": [
      "동호 +양양\n"
     ]
    },
    {
     "name": "stderr",
     "output_type": "stream",
     "text": [
      "100%|██████████████████████████████████████████████████████████████████████████████| 2486/2486 [02:09<00:00, 19.16it/s]\n",
      "  0%|                                                                                 | 2/1881 [00:00<02:26, 12.80it/s]"
     ]
    },
    {
     "name": "stdout",
     "output_type": "stream",
     "text": [
      "동호해변 +양양\n"
     ]
    },
    {
     "name": "stderr",
     "output_type": "stream",
     "text": [
      "100%|██████████████████████████████████████████████████████████████████████████████| 1881/1881 [01:40<00:00, 18.68it/s]\n",
      "  0%|▎                                                                                 | 3/725 [00:00<00:33, 21.64it/s]"
     ]
    },
    {
     "name": "stdout",
     "output_type": "stream",
     "text": [
      "동호해수욕장 +양양\n"
     ]
    },
    {
     "name": "stderr",
     "output_type": "stream",
     "text": [
      "100%|████████████████████████████████████████████████████████████████████████████████| 725/725 [00:37<00:00, 19.44it/s]\n",
      "  0%|▏                                                                                | 3/1250 [00:00<00:51, 24.00it/s]"
     ]
    },
    {
     "name": "stdout",
     "output_type": "stream",
     "text": [
      "물치 +강원도\n"
     ]
    },
    {
     "name": "stderr",
     "output_type": "stream",
     "text": [
      "100%|██████████████████████████████████████████████████████████████████████████████| 1250/1250 [01:10<00:00, 17.80it/s]\n",
      "  0%|▏                                                                                | 4/1852 [00:00<01:16, 24.00it/s]"
     ]
    },
    {
     "name": "stdout",
     "output_type": "stream",
     "text": [
      "물치 +양양\n"
     ]
    },
    {
     "name": "stderr",
     "output_type": "stream",
     "text": [
      "100%|██████████████████████████████████████████████████████████████████████████████| 1852/1852 [01:31<00:00, 20.28it/s]\n",
      "  2%|█▌                                                                                | 5/255 [00:00<00:05, 41.73it/s]"
     ]
    },
    {
     "name": "stdout",
     "output_type": "stream",
     "text": [
      "물치리 +강원도\n"
     ]
    },
    {
     "name": "stderr",
     "output_type": "stream",
     "text": [
      "100%|████████████████████████████████████████████████████████████████████████████████| 255/255 [00:10<00:00, 23.63it/s]\n",
      "  0%|                                                                                 | 4/2660 [00:00<01:12, 36.81it/s]"
     ]
    },
    {
     "name": "stdout",
     "output_type": "stream",
     "text": [
      "물치항 +양양\n"
     ]
    },
    {
     "name": "stderr",
     "output_type": "stream",
     "text": [
      "100%|██████████████████████████████████████████████████████████████████████████████| 2660/2660 [02:04<00:00, 21.37it/s]\n",
      "  0%|▎                                                                                 | 3/939 [00:00<00:38, 24.14it/s]"
     ]
    },
    {
     "name": "stdout",
     "output_type": "stream",
     "text": [
      "설악해수욕장 +강원도\n"
     ]
    },
    {
     "name": "stderr",
     "output_type": "stream",
     "text": [
      "100%|████████████████████████████████████████████████████████████████████████████████| 939/939 [00:45<00:00, 20.82it/s]\n",
      "  0%|                                                                                         | 0/1235 [00:00<?, ?it/s]"
     ]
    },
    {
     "name": "stdout",
     "output_type": "stream",
     "text": [
      "설악해수욕장 +양양\n"
     ]
    },
    {
     "name": "stderr",
     "output_type": "stream",
     "text": [
      "100%|██████████████████████████████████████████████████████████████████████████████| 1235/1235 [00:56<00:00, 21.82it/s]\n",
      "  0%|                                                                                        | 0/10000 [00:00<?, ?it/s]"
     ]
    },
    {
     "name": "stdout",
     "output_type": "stream",
     "text": [
      "속초 +강원도\n"
     ]
    },
    {
     "name": "stderr",
     "output_type": "stream",
     "text": [
      "100%|████████████████████████████████████████████████████████████████████████████| 10000/10000 [06:53<00:00, 24.21it/s]\n",
      "100%|████████████████████████████████████████████████████████████████████████████| 10000/10000 [07:02<00:00, 23.68it/s]\n",
      "100%|████████████████████████████████████████████████████████████████████████████| 10000/10000 [08:11<00:00, 20.35it/s]\n",
      "100%|████████████████████████████████████████████████████████████████████████████| 10000/10000 [10:09<00:00, 16.42it/s]\n",
      "100%|████████████████████████████████████████████████████████████████████████████| 10000/10000 [12:31<00:00, 13.31it/s]\n",
      "100%|██████████████████████████████████████████████████████████████████████████████| 7030/7030 [09:06<00:00, 12.87it/s]\n",
      "  0%|                                                                                         | 0/2599 [00:00<?, ?it/s]"
     ]
    },
    {
     "name": "stdout",
     "output_type": "stream",
     "text": [
      "수산항 +양양\n"
     ]
    },
    {
     "name": "stderr",
     "output_type": "stream",
     "text": [
      "100%|██████████████████████████████████████████████████████████████████████████████| 2599/2599 [02:54<00:00, 14.93it/s]\n"
     ]
    },
    {
     "name": "stdout",
     "output_type": "stream",
     "text": [
      "\n"
     ]
    }
   ],
   "source": [
    "#임시 속초/속초해수욕장\n",
    "sw = list(pd.read_excel(\"stopword(cp949).xlsx\",encoding = 'cp949')['불용어']) #불용어 불러오기\n",
    "path = 'D:/Python/블로그크롤링/output/크롤링/통합/'\n",
    "file_list = os.listdir(path)\n",
    "for file in tqdm_notebook(file_list[:31]):\n",
    "    file_name = file.split('.')[0]\n",
    "    main_df = pd.read_csv(path + file)\n",
    "    keyword = file.split('_')[0]\n",
    "    tokenized(main_df, keyword, sw)\n",
    "    gc.collect()"
   ]
  },
  {
   "cell_type": "code",
   "execution_count": 4,
   "metadata": {
    "ExecuteTime": {
     "end_time": "2020-06-15T04:27:09.875713Z",
     "start_time": "2020-06-15T04:27:09.871713Z"
    }
   },
   "outputs": [
    {
     "data": {
      "text/plain": [
       "['강릉 +강원도_통합_53544.csv',\n",
       " '강원도_통합_61075.csv',\n",
       " '광진 +양양_통합_460.csv',\n",
       " '광진리 +강원도_통합_398.csv',\n",
       " '광진해변 +양양_통합_292.csv',\n",
       " '광진해수욕장 +양양_통합_194.csv',\n",
       " '기사문 +강원도_통합_990.csv',\n",
       " '기사문 +양양_통합_1760.csv',\n",
       " '기사문항 +양양_통합_876.csv',\n",
       " '기사문해변 +양양_통합_1044.csv',\n",
       " '낙산 +강원도_통합_12616.csv',\n",
       " '낙산 +양양_통합_14908.csv',\n",
       " '낙산항 +양양_통합_336.csv',\n",
       " '낙산해수욕장_통합_8083.csv',\n",
       " '남애 +양양_통합_2079.csv',\n",
       " '남애항 +양양_통합_3130.csv',\n",
       " '동산 +양양_통합_1888.csv',\n",
       " '동산항 +양양_통합_464.csv',\n",
       " '동산해수욕장 +양양_통합_567.csv',\n",
       " '동호 +강원도_통합_2523.csv',\n",
       " '동호 +양양_통합_2486.csv',\n",
       " '동호해변 +양양_통합_1881.csv',\n",
       " '동호해수욕장 +양양_통합_725.csv',\n",
       " '물치 +강원도_통합_1250.csv',\n",
       " '물치 +양양_통합_1852.csv',\n",
       " '물치리 +강원도_통합_255.csv',\n",
       " '물치항 +양양_통합_2660.csv',\n",
       " '설악해수욕장 +강원도_통합_939.csv',\n",
       " '설악해수욕장 +양양_통합_1235.csv',\n",
       " '속초 +강원도_통합_57030.csv',\n",
       " '수산항 +양양_통합_2599.csv']"
      ]
     },
     "execution_count": 4,
     "metadata": {},
     "output_type": "execute_result"
    }
   ],
   "source": [
    "file_list[:31]"
   ]
  },
  {
   "cell_type": "markdown",
   "metadata": {},
   "source": [
    "### check"
   ]
  },
  {
   "cell_type": "code",
   "execution_count": 5,
   "metadata": {
    "ExecuteTime": {
     "end_time": "2020-06-15T04:27:09.880714Z",
     "start_time": "2020-06-15T04:27:09.876714Z"
    }
   },
   "outputs": [],
   "source": [
    "# file = '광진 +양양_통합_5044.csv'\n",
    "# file_name = file.split('.')[0]\n",
    "# main_df = pd.read_csv(path + file)\n",
    "# keyword = file.split('_')[0]\n",
    "# tokenized(main_df,file_name,keyword,sw)"
   ]
  },
  {
   "cell_type": "code",
   "execution_count": 6,
   "metadata": {
    "ExecuteTime": {
     "end_time": "2020-06-15T04:27:09.885716Z",
     "start_time": "2020-06-15T04:27:09.881715Z"
    }
   },
   "outputs": [
    {
     "data": {
      "text/plain": [
       "['강릉 +강원도_통합_53544.csv',\n",
       " '강원도_통합_61075.csv',\n",
       " '광진 +양양_통합_460.csv',\n",
       " '광진리 +강원도_통합_398.csv',\n",
       " '광진해변 +양양_통합_292.csv',\n",
       " '광진해수욕장 +양양_통합_194.csv',\n",
       " '기사문 +강원도_통합_990.csv',\n",
       " '기사문 +양양_통합_1760.csv',\n",
       " '기사문항 +양양_통합_876.csv',\n",
       " '기사문해변 +양양_통합_1044.csv',\n",
       " '낙산 +강원도_통합_12616.csv',\n",
       " '낙산 +양양_통합_14908.csv',\n",
       " '낙산항 +양양_통합_336.csv',\n",
       " '낙산해수욕장_통합_8083.csv',\n",
       " '남애 +양양_통합_2079.csv',\n",
       " '남애항 +양양_통합_3130.csv',\n",
       " '동산 +양양_통합_1888.csv',\n",
       " '동산항 +양양_통합_464.csv',\n",
       " '동산해수욕장 +양양_통합_567.csv',\n",
       " '동호 +강원도_통합_2523.csv',\n",
       " '동호 +양양_통합_2486.csv',\n",
       " '동호해변 +양양_통합_1881.csv',\n",
       " '동호해수욕장 +양양_통합_725.csv',\n",
       " '물치 +강원도_통합_1250.csv',\n",
       " '물치 +양양_통합_1852.csv',\n",
       " '물치리 +강원도_통합_255.csv',\n",
       " '물치항 +양양_통합_2660.csv',\n",
       " '설악해수욕장 +강원도_통합_939.csv',\n",
       " '설악해수욕장 +양양_통합_1235.csv',\n",
       " '속초 +강원도_통합_57030.csv',\n",
       " '수산항 +양양_통합_2599.csv',\n",
       " '양양 +강원도_통합_47651.csv',\n",
       " '오산 +양양_통합_2028.csv',\n",
       " '오산리 +양양_통합_1585.csv',\n",
       " '오산해수욕장 +양양_통합_842.csv',\n",
       " '인구리 +강원도_통합_488.csv',\n",
       " '전진리 +강원도_통합_539.csv',\n",
       " '죽도 +양양_통합_8355.csv',\n",
       " '하광정리 +강원도_통합_634.csv',\n",
       " '하조대 +강원도_통합_11099.csv',\n",
       " '하조대 +양양_통합_13866.csv',\n",
       " '하조대해수욕장 +양양_통합_5836.csv',\n",
       " '후진항 +양양_통합_572.csv',\n",
       " '휴휴암 +양양_통합_5511.csv']"
      ]
     },
     "execution_count": 6,
     "metadata": {},
     "output_type": "execute_result"
    }
   ],
   "source": [
    "file_list"
   ]
  },
  {
   "cell_type": "code",
   "execution_count": null,
   "metadata": {},
   "outputs": [],
   "source": []
  }
 ],
 "metadata": {
  "kernelspec": {
   "display_name": "Python 3",
   "language": "python",
   "name": "python3"
  },
  "language_info": {
   "codemirror_mode": {
    "name": "ipython",
    "version": 3
   },
   "file_extension": ".py",
   "mimetype": "text/x-python",
   "name": "python",
   "nbconvert_exporter": "python",
   "pygments_lexer": "ipython3",
   "version": "3.6.5"
  },
  "varInspector": {
   "cols": {
    "lenName": 16,
    "lenType": 16,
    "lenVar": 40
   },
   "kernels_config": {
    "python": {
     "delete_cmd_postfix": "",
     "delete_cmd_prefix": "del ",
     "library": "var_list.py",
     "varRefreshCmd": "print(var_dic_list())"
    },
    "r": {
     "delete_cmd_postfix": ") ",
     "delete_cmd_prefix": "rm(",
     "library": "var_list.r",
     "varRefreshCmd": "cat(var_dic_list()) "
    }
   },
   "types_to_exclude": [
    "module",
    "function",
    "builtin_function_or_method",
    "instance",
    "_Feature"
   ],
   "window_display": false
  }
 },
 "nbformat": 4,
 "nbformat_minor": 2
}

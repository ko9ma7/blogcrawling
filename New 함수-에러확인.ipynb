{
 "cells": [
  {
   "cell_type": "markdown",
   "metadata": {},
   "source": [
    "### 2020-04-01 09:25:17  같은거 중복으로 들어오는 오류발생\n",
    "* 추정 page넘버 돌아가는거 미작동"
   ]
  },
  {
   "cell_type": "code",
   "execution_count": 1,
   "metadata": {
    "ExecuteTime": {
     "end_time": "2020-04-01T00:32:15.495836Z",
     "start_time": "2020-04-01T00:32:15.492844Z"
    }
   },
   "outputs": [],
   "source": [
    "# # 선행설치\n",
    "# !pip install beautifulsoup4\n",
    "# !pip install requests\n",
    "# !pip install lxm\n",
    "# # 연관분석\n",
    "# !pip install apyori\n",
    "# # 자연어처리\n",
    "# !pip install konlpy (JDK 설치가 되어있어야함 )"
   ]
  },
  {
   "cell_type": "code",
   "execution_count": 1,
   "metadata": {
    "ExecuteTime": {
     "end_time": "2020-04-01T04:41:37.500489Z",
     "start_time": "2020-04-01T04:41:35.581239Z"
    }
   },
   "outputs": [],
   "source": [
    "import re\n",
    "import json\n",
    "import math\n",
    "import datetime\n",
    "import pandas as pd\n",
    "\n",
    "import requests\n",
    "import urllib.request\n",
    "import urllib.error\n",
    "import urllib.parse\n",
    "from bs4 import BeautifulSoup #크롤링\n",
    "\n",
    "import konlpy\n",
    "from konlpy.tag import Komoran #자연어처리\n",
    "komoran = Komoran(userdic='./user_dictionary.txt')\n",
    "\n",
    "from apyori import apriori #연관분석\n",
    "from tqdm import tqdm_notebook #진행과정 시각화 "
   ]
  },
  {
   "cell_type": "code",
   "execution_count": 2,
   "metadata": {
    "ExecuteTime": {
     "end_time": "2020-04-01T04:41:37.518483Z",
     "start_time": "2020-04-01T04:41:37.516484Z"
    }
   },
   "outputs": [],
   "source": [
    "#페이지 카운트 수로 api호출된다\n",
    "#1,000개일때 3분 \n",
    "#100*100개 만개의 경우 \"비정상적인 트래픽을 감지\"해서 오류걸림 \n",
    "naver_client_id = \"jXD6KJvReVAPrEVOluPD\"\n",
    "naver_client_secret = \"xDUhz1vSpU\"\n",
    "keyword = '양양'\n",
    "display_count = 1\n",
    "page_count = 1000\n",
    "sort_type = 'sim'"
   ]
  },
  {
   "cell_type": "code",
   "execution_count": 3,
   "metadata": {
    "ExecuteTime": {
     "end_time": "2020-04-01T04:41:37.536487Z",
     "start_time": "2020-04-01T04:41:37.533487Z"
    },
    "code_folding": [
     0
    ]
   },
   "outputs": [],
   "source": [
    "def del_outword(string):\n",
    "    #이모지제거\n",
    "    emoji_pattern = re.compile(\"[\"\n",
    "                u\"\\U0001F600-\\U0001F64F\"  # emoticons\n",
    "                u\"\\U0001F300-\\U0001F5FF\"  # symbols & pictographs\n",
    "                u\"\\U0001F680-\\U0001F6FF\"  # transport & map symbols\n",
    "                u\"\\U0001F1E0-\\U0001F1FF\"  # flags (iOS)\n",
    "                u\"\\U00002702-\\U000027B0\"\n",
    "                u\"\\U0001f926-\\U0001f937\"\n",
    "                u'\\U00010000-\\U0010ffff'\n",
    "                u\"\\u200d\"\n",
    "                u\"\\u2640-\\u2642\"\n",
    "                u\"\\u2600-\\u2B55\"\n",
    "                u\"\\u23cf\"\n",
    "                u\"\\u23e9\"\n",
    "                u\"\\u231a\"\n",
    "                u\"\\u3030\"\n",
    "                u\"\\ufe0f\"\n",
    "    \"]+\", flags=re.UNICODE)\n",
    "\n",
    "    #분석에 어긋나는 불용어구 제외 (특수문자, 의성어)\n",
    "    han = re.compile(r'[ㄱ-ㅎㅏ-ㅣ!?~,\".\\n\\r#\\ufeff\\u200d]')\n",
    "    \n",
    "    string = emoji_pattern.sub(r'',string)\n",
    "    string = han.sub(r'',string)\n",
    "    \n",
    "    return string"
   ]
  },
  {
   "cell_type": "code",
   "execution_count": 4,
   "metadata": {
    "ExecuteTime": {
     "end_time": "2020-04-01T04:41:38.174158Z",
     "start_time": "2020-04-01T04:41:38.166157Z"
    },
    "code_folding": [
     0
    ]
   },
   "outputs": [],
   "source": [
    "def get_blog_post(keyword, display_count, page_count, sort_type,save = True):\n",
    "    '''\n",
    "    keyword : 검색하고 싶은 키워드\n",
    "    display_count : 한 페이지당 표출할 개수 min = 10, max = 100\n",
    "    page_count : 총 진행할 페이지의 수 min = 1, max = 1000\n",
    "    sort_type : 정렬옵션 \"sim\" (유사도순), \"date\" (날짜순)\n",
    "    ''' \n",
    "    #날짜와 본문내용 저장\n",
    "    postdates = []\n",
    "    strings = []\n",
    "    urls = []\n",
    "    titles = []\n",
    "    blogger_names = []\n",
    "    \n",
    "    encode_keyword = urllib.parse.quote(keyword)\n",
    "    # get_blog_search_result_pagination_count로 처리할 수있는 페이지수를 1부터 페이지수까지 까지 각각 하나씩 긁어옴 \n",
    "    for i in tqdm_notebook(range(1, page_count + 1),desc = \"page work\"):\n",
    "        url = \"https://openapi.naver.com/v1/search/blog?query=\" + encode_keyword + \"&display=\" + str(\n",
    "            display_count) + \"&start=\" + str(i) + \"&sort=\" + sort_type\n",
    "\n",
    "        request = urllib.request.Request(url)\n",
    "\n",
    "        request.add_header(\"X-Naver-Client-Id\", naver_client_id)\n",
    "        request.add_header(\"X-Naver-Client-Secret\", naver_client_secret)\n",
    "\n",
    "        response = urllib.request.urlopen(request)\n",
    "        response_code = response.getcode()\n",
    "         \n",
    "        if response_code is 200:\n",
    "            response_body = response.read()\n",
    "            response_body_dict = json.loads(response_body.decode('utf-8'))\n",
    "        #items의 개수만큼씩 진행\n",
    "            for j in range(0, len(response_body_dict['items'])):\n",
    "                blog_post_url = response_body_dict['items'][j]['link'].replace(\"amp;\", \"\")\n",
    "                urls.append(blog_post_url)\n",
    "                #블로그 url안에 들어가기(아직 크롤링불가)\n",
    "                get_blog_post_content_code = requests.get(blog_post_url)\n",
    "                get_blog_post_content_text = get_blog_post_content_code.text\n",
    "                get_blog_post_content_soup = BeautifulSoup(get_blog_post_content_text, 'lxml')\n",
    "                #크롤링가능한 url에 접속\n",
    "                real_blog_post_url = \"http://blog.naver.com\" + get_blog_post_content_soup.select('#mainFrame')[0].get('src')\n",
    "                get_real_blog_post_content_code = requests.get(real_blog_post_url)\n",
    "                get_real_blog_post_content_text = get_real_blog_post_content_code.text\n",
    "                get_real_blog_post_content_soup = BeautifulSoup(get_real_blog_post_content_text, 'lxml')\n",
    "                #본문부분 추출 \n",
    "                blog_post_content = get_real_blog_post_content_soup.select('div#postViewArea')\n",
    "                if len(blog_post_content) == 0:\n",
    "                    blog_post_content = get_real_blog_post_content_soup.select('div.se-main-container')\n",
    "\n",
    "                #전체 텍스트 \n",
    "                string = \"\"\n",
    "                for sentence in blog_post_content[0].stripped_strings:\n",
    "                    string += \" \"+sentence.replace('\\xa0',\" \")\n",
    "                #비언어 텍스트제거 \n",
    "                string = del_outword(string)\n",
    "                strings.append([string]) \n",
    "\n",
    "                #포스트날짜\n",
    "                postdate = datetime.datetime.strptime(response_body_dict['items'][j]['postdate'],\"%Y%m%d\").strftime(\"%y.%m.%d\")\n",
    "                postdates.append(postdate)\n",
    "                \n",
    "                #제목\n",
    "                remove_html_tag = re.compile('<.*?>')\n",
    "                title = re.sub(remove_html_tag, '', response_body_dict['items'][j]['title'])\n",
    "                titles.append(title)\n",
    "                \n",
    "                #블로거이름\n",
    "                blogger_name = response_body_dict['items'][j]['bloggername']\n",
    "                blogger_names.append(blogger_name)\n",
    "                \n",
    "    # utf-8형식으로 저장하면 엑셀에서 열때 에러나지만, load는 가능\n",
    "    if save == True:\n",
    "        crawling_df = pd.DataFrame({\"post_dates\":postdates, \"title\":titles, \"blogger_name\":blogger_names, \"full_text\":strings, \"url\":urls})\n",
    "        crawling_df.to_csv(keyword+\"_\"+str(display_count* page_count)+\".csv\",encoding='utf-8',index= False)\n",
    "    return crawling_df"
   ]
  },
  {
   "cell_type": "code",
   "execution_count": 5,
   "metadata": {
    "ExecuteTime": {
     "end_time": "2020-04-01T02:44:55.115268Z",
     "start_time": "2020-04-01T02:44:53.307559Z"
    }
   },
   "outputs": [
    {
     "name": "stderr",
     "output_type": "stream",
     "text": [
      "C:\\Users\\User\\Anaconda3\\lib\\site-packages\\ipykernel_launcher.py:17: TqdmDeprecationWarning: This function will be removed in tqdm==5.0.0\n",
      "Please use `tqdm.notebook.tqdm` instead of `tqdm.tqdm_notebook`\n"
     ]
    },
    {
     "data": {
      "application/vnd.jupyter.widget-view+json": {
       "model_id": "5fc00bae99204fb69e1a86ed06d39e2f",
       "version_major": 2,
       "version_minor": 0
      },
      "text/plain": [
       "HBox(children=(FloatProgress(value=0.0, description='page work', max=3.0, style=ProgressStyle(description_widt…"
      ]
     },
     "metadata": {},
     "output_type": "display_data"
    },
    {
     "name": "stdout",
     "output_type": "stream",
     "text": [
      "\n"
     ]
    }
   ],
   "source": [
    "crawling_df = get_blog_post(keyword, display_count, page_count, sort_type)"
   ]
  },
  {
   "cell_type": "markdown",
   "metadata": {},
   "source": [
    "### 2020-04-01 09:25:17  같은거 중복으로 들어오는 오류발생\n",
    "* 확인 display_count는 표시되는 개수에 불과하며 page_count가 1개씩 넘어갈때마다 나머지 diplay_count가 중복됨  \n",
    "이하 확인자료 페이지가 넘어가면서 1번째있는 블로그외 다른 블로그들은 유지됨 "
   ]
  },
  {
   "cell_type": "code",
   "execution_count": 21,
   "metadata": {
    "ExecuteTime": {
     "end_time": "2020-04-01T00:57:26.584878Z",
     "start_time": "2020-04-01T00:57:26.581878Z"
    }
   },
   "outputs": [
    {
     "data": {
      "text/plain": [
       "200"
      ]
     },
     "execution_count": 21,
     "metadata": {},
     "output_type": "execute_result"
    }
   ],
   "source": [
    "response_code"
   ]
  },
  {
   "cell_type": "code",
   "execution_count": 10,
   "metadata": {
    "ExecuteTime": {
     "end_time": "2020-04-01T00:36:27.122977Z",
     "start_time": "2020-04-01T00:36:27.119977Z"
    },
    "collapsed": true
   },
   "outputs": [
    {
     "data": {
      "text/plain": [
       "{'lastBuildDate': 'Wed, 01 Apr 2020 09:36:15 +0900',\n",
       " 'total': 755029,\n",
       " 'start': 1,\n",
       " 'display': 5,\n",
       " 'items': [{'title': '<b>양양</b>서핑 우와 뜨겁네!',\n",
       "   'link': 'https://blog.naver.com/shakyamuni?Redirect=Log&logNo=221878085927',\n",
       "   'description': '오늘은 <b>양양</b> 서핑 으로 동해에서 가장 핫한 서핑샵 플리즈웨잇서프를 소개해 드리려고 해요! <b>양양</b>은 강원도 내에서도 많이 유명한 지역이죠! 서퍼들이 많이 모이면서 동네 자체가 아주 힙하고 독특한... ',\n",
       "   'bloggername': '피위의 행복한 어드벤쳐',\n",
       "   'bloggerlink': 'https://blog.naver.com/shakyamuni',\n",
       "   'postdate': '20200328'},\n",
       "  {'title': '<b>양양</b> 설해원 마운틴스테이',\n",
       "   'link': 'https://blog.naver.com/rockncat?Redirect=Log&logNo=221872610847',\n",
       "   'description': '강원도 <b>양양</b>에 위치한 설해원이예요 <b>양양</b> 공항에서 2~3분 거리입니다 여기가 공항인지 설해원인지 할 정도로 그냥 바로 옆이라고 생각하시면 됩니다 체크인하러 먼저 들러야 하는 클럽 하우스 옆에 있는... ',\n",
       "   'bloggername': '반짝반짝 냥이, 손!',\n",
       "   'bloggerlink': 'https://blog.naver.com/rockncat',\n",
       "   'postdate': '20200325'},\n",
       "  {'title': '푸짐했던 <b>양양</b> 맛집',\n",
       "   'link': 'https://blog.naver.com/collier13?Redirect=Log&logNo=221841451893',\n",
       "   'description': '얼마전에 가족들과 <b>양양</b>에 놀러갔다가 아주 괜찮은 <b>양양</b> 맛집을 찿아갔어요~ 대게 전문점이었는데 신선함은 물론이고 푸짐하고 든든한 한끼를 제대로 먹고 올 수있어서 만족했던 곳이에요 제가 찿은 곳은... ',\n",
       "   'bloggername': '브로컬리의세상',\n",
       "   'bloggerlink': 'https://blog.naver.com/collier13',\n",
       "   'postdate': '20200307'},\n",
       "  {'title': '<b>양양</b> 쏠비치 리조트 2박3일 맛집투어',\n",
       "   'link': 'https://blog.naver.com/ashacs1?Redirect=Log&logNo=221856482406',\n",
       "   'description': '오랜만에 <b>양양</b> 쏠비치 다녀왔어요- 날씨가 아직도 춥기에 완전 무장을 하고 다녀왔어요- 가자마자... 덕분에 <b>양양</b> 시내 나갔다가 옷집이 없어서, 강릉까지 가서 운동화, 바지를 사고왔네요 ㅠㅠ 그래도... ',\n",
       "   'bloggername': '[코리아에듀]▶️기업교육&컨설팅',\n",
       "   'bloggerlink': 'https://blog.naver.com/ashacs1',\n",
       "   'postdate': '20200316'},\n",
       "  {'title': '<b>양양</b> 낙산비치호텔, 마운틴뷰 덕에 상쾌했던 숙소-♬',\n",
       "   'link': 'https://blog.naver.com/eruriee?Redirect=Log&logNo=221874324050',\n",
       "   'description': '지난 속초 여행에서 가고 싶었지만 시간이 부족해서 가지 못했던 설악산을 가기 위해 <b>양양</b>... 기다렸고요 <b>양양</b>호텔 낙산비치호텔은 체크인이 13:00고 체크아웃이 11:00인데 주차는 12:00시까지 된다고 해서 일찍... ',\n",
       "   'bloggername': '이루리와 말티즈 밥풀이의 밥풀로그-♪',\n",
       "   'bloggerlink': 'https://blog.naver.com/eruriee',\n",
       "   'postdate': '20200326'}]}"
      ]
     },
     "execution_count": 10,
     "metadata": {},
     "output_type": "execute_result"
    }
   ],
   "source": [
    "response_bodys[0]"
   ]
  },
  {
   "cell_type": "code",
   "execution_count": 13,
   "metadata": {
    "ExecuteTime": {
     "end_time": "2020-04-01T00:38:42.361396Z",
     "start_time": "2020-04-01T00:38:42.358395Z"
    },
    "collapsed": true
   },
   "outputs": [
    {
     "data": {
      "text/plain": [
       "{'lastBuildDate': 'Wed, 01 Apr 2020 09:36:15 +0900',\n",
       " 'total': 755029,\n",
       " 'start': 2,\n",
       " 'display': 5,\n",
       " 'items': [{'title': '<b>양양</b> 설해원 마운틴스테이',\n",
       "   'link': 'https://blog.naver.com/rockncat?Redirect=Log&logNo=221872610847',\n",
       "   'description': '강원도 <b>양양</b>에 위치한 설해원이예요 <b>양양</b> 공항에서 2~3분 거리입니다 여기가 공항인지 설해원인지 할 정도로 그냥 바로 옆이라고 생각하시면 됩니다 체크인하러 먼저 들러야 하는 클럽 하우스 옆에 있는... ',\n",
       "   'bloggername': '반짝반짝 냥이, 손!',\n",
       "   'bloggerlink': 'https://blog.naver.com/rockncat',\n",
       "   'postdate': '20200325'},\n",
       "  {'title': '푸짐했던 <b>양양</b> 맛집',\n",
       "   'link': 'https://blog.naver.com/collier13?Redirect=Log&logNo=221841451893',\n",
       "   'description': '얼마전에 가족들과 <b>양양</b>에 놀러갔다가 아주 괜찮은 <b>양양</b> 맛집을 찿아갔어요~ 대게 전문점이었는데 신선함은 물론이고 푸짐하고 든든한 한끼를 제대로 먹고 올 수있어서 만족했던 곳이에요 제가 찿은 곳은... ',\n",
       "   'bloggername': '브로컬리의세상',\n",
       "   'bloggerlink': 'https://blog.naver.com/collier13',\n",
       "   'postdate': '20200307'},\n",
       "  {'title': '<b>양양</b> 쏠비치 리조트 2박3일 맛집투어',\n",
       "   'link': 'https://blog.naver.com/ashacs1?Redirect=Log&logNo=221856482406',\n",
       "   'description': '오랜만에 <b>양양</b> 쏠비치 다녀왔어요- 날씨가 아직도 춥기에 완전 무장을 하고 다녀왔어요- 가자마자... 덕분에 <b>양양</b> 시내 나갔다가 옷집이 없어서, 강릉까지 가서 운동화, 바지를 사고왔네요 ㅠㅠ 그래도... ',\n",
       "   'bloggername': '[코리아에듀]▶️기업교육&컨설팅',\n",
       "   'bloggerlink': 'https://blog.naver.com/ashacs1',\n",
       "   'postdate': '20200316'},\n",
       "  {'title': '<b>양양</b> 낙산비치호텔, 마운틴뷰 덕에 상쾌했던 숙소-♬',\n",
       "   'link': 'https://blog.naver.com/eruriee?Redirect=Log&logNo=221874324050',\n",
       "   'description': '지난 속초 여행에서 가고 싶었지만 시간이 부족해서 가지 못했던 설악산을 가기 위해 <b>양양</b>... 기다렸고요 <b>양양</b>호텔 낙산비치호텔은 체크인이 13:00고 체크아웃이 11:00인데 주차는 12:00시까지 된다고 해서 일찍... ',\n",
       "   'bloggername': '이루리와 말티즈 밥풀이의 밥풀로그-♪',\n",
       "   'bloggerlink': 'https://blog.naver.com/eruriee',\n",
       "   'postdate': '20200326'},\n",
       "  {'title': '<b>양양</b>카페 플리즈웨잇, 낮에도 밤에도 정말 예뻐요!',\n",
       "   'link': 'https://blog.naver.com/ihas2?Redirect=Log&logNo=221883498091',\n",
       "   'description': '길거리에 꽃들도 피고 날도 푸근-한게 피크닉도 가고 막 뛰어놀고 싶네요~ 바다를 보러가고 싶은데 친구들도 바쁘고 해서 지지난 주말 바람쐴 겸 드라이브 겸 혼자 <b>양양</b>에 다녀왔는데요! <b>양양</b>에... ',\n",
       "   'bloggername': '보령이글스의 맛집 기행',\n",
       "   'bloggerlink': 'https://blog.naver.com/ihas2',\n",
       "   'postdate': '20200331'}]}"
      ]
     },
     "execution_count": 13,
     "metadata": {},
     "output_type": "execute_result"
    }
   ],
   "source": [
    "response_bodys[1]"
   ]
  },
  {
   "cell_type": "code",
   "execution_count": 14,
   "metadata": {
    "ExecuteTime": {
     "end_time": "2020-04-01T00:39:08.394680Z",
     "start_time": "2020-04-01T00:39:08.390681Z"
    },
    "collapsed": true
   },
   "outputs": [
    {
     "data": {
      "text/plain": [
       "{'lastBuildDate': 'Wed, 01 Apr 2020 09:36:16 +0900',\n",
       " 'total': 755029,\n",
       " 'start': 3,\n",
       " 'display': 5,\n",
       " 'items': [{'title': '푸짐했던 <b>양양</b> 맛집',\n",
       "   'link': 'https://blog.naver.com/collier13?Redirect=Log&logNo=221841451893',\n",
       "   'description': '얼마전에 가족들과 <b>양양</b>에 놀러갔다가 아주 괜찮은 <b>양양</b> 맛집을 찿아갔어요~ 대게 전문점이었는데 신선함은 물론이고 푸짐하고 든든한 한끼를 제대로 먹고 올 수있어서 만족했던 곳이에요 제가 찿은 곳은... ',\n",
       "   'bloggername': '브로컬리의세상',\n",
       "   'bloggerlink': 'https://blog.naver.com/collier13',\n",
       "   'postdate': '20200307'},\n",
       "  {'title': '<b>양양</b> 쏠비치 리조트 2박3일 맛집투어',\n",
       "   'link': 'https://blog.naver.com/ashacs1?Redirect=Log&logNo=221856482406',\n",
       "   'description': '오랜만에 <b>양양</b> 쏠비치 다녀왔어요- 날씨가 아직도 춥기에 완전 무장을 하고 다녀왔어요- 가자마자... 덕분에 <b>양양</b> 시내 나갔다가 옷집이 없어서, 강릉까지 가서 운동화, 바지를 사고왔네요 ㅠㅠ 그래도... ',\n",
       "   'bloggername': '[코리아에듀]▶️기업교육&컨설팅',\n",
       "   'bloggerlink': 'https://blog.naver.com/ashacs1',\n",
       "   'postdate': '20200316'},\n",
       "  {'title': '<b>양양</b> 낙산비치호텔, 마운틴뷰 덕에 상쾌했던 숙소-♬',\n",
       "   'link': 'https://blog.naver.com/eruriee?Redirect=Log&logNo=221874324050',\n",
       "   'description': '지난 속초 여행에서 가고 싶었지만 시간이 부족해서 가지 못했던 설악산을 가기 위해 <b>양양</b>... 기다렸고요 <b>양양</b>호텔 낙산비치호텔은 체크인이 13:00고 체크아웃이 11:00인데 주차는 12:00시까지 된다고 해서 일찍... ',\n",
       "   'bloggername': '이루리와 말티즈 밥풀이의 밥풀로그-♪',\n",
       "   'bloggerlink': 'https://blog.naver.com/eruriee',\n",
       "   'postdate': '20200326'},\n",
       "  {'title': '<b>양양</b>카페 플리즈웨잇, 낮에도 밤에도 정말 예뻐요!',\n",
       "   'link': 'https://blog.naver.com/ihas2?Redirect=Log&logNo=221883498091',\n",
       "   'description': '길거리에 꽃들도 피고 날도 푸근-한게 피크닉도 가고 막 뛰어놀고 싶네요~ 바다를 보러가고 싶은데 친구들도 바쁘고 해서 지지난 주말 바람쐴 겸 드라이브 겸 혼자 <b>양양</b>에 다녀왔는데요! <b>양양</b>에... ',\n",
       "   'bloggername': '보령이글스의 맛집 기행',\n",
       "   'bloggerlink': 'https://blog.naver.com/ihas2',\n",
       "   'postdate': '20200331'},\n",
       "  {'title': '살살녹는 <b>양양</b> 솔비치 맛집',\n",
       "   'link': 'https://blog.naver.com/jcd5557?Redirect=Log&logNo=221791261200',\n",
       "   'description': '개인적으로 해산물은 동해쪽이 제일 맛있는 것 같아요 최근에 <b>양양</b> 솔비치 맛집에 다녀온 이후로 그... 보니 <b>양양</b> 솔비치 맛집은 다른 식당보다 밑반찬 먹을 거리가 많이 나오더라고요 가짓수만 채운 게 아니라... ',\n",
       "   'bloggername': '13주년 하늘안과',\n",
       "   'bloggerlink': 'https://blog.naver.com/jcd5557',\n",
       "   'postdate': '20200131'}]}"
      ]
     },
     "execution_count": 14,
     "metadata": {},
     "output_type": "execute_result"
    }
   ],
   "source": [
    "response_bodys[2]"
   ]
  },
  {
   "cell_type": "code",
   "execution_count": 25,
   "metadata": {
    "ExecuteTime": {
     "end_time": "2020-04-01T06:20:38.450225Z",
     "start_time": "2020-04-01T06:20:19.341838Z"
    }
   },
   "outputs": [
    {
     "name": "stderr",
     "output_type": "stream",
     "text": [
      "C:\\Users\\User\\Anaconda3\\lib\\site-packages\\ipykernel_launcher.py:3: TqdmDeprecationWarning: This function will be removed in tqdm==5.0.0\n",
      "Please use `tqdm.notebook.tqdm` instead of `tqdm.tqdm_notebook`\n",
      "  This is separate from the ipykernel package so we can avoid doing imports until\n"
     ]
    },
    {
     "data": {
      "application/vnd.jupyter.widget-view+json": {
       "model_id": "48058604ee49494fb5a4d129aba9e2c5",
       "version_major": 2,
       "version_minor": 0
      },
      "text/plain": [
       "HBox(children=(FloatProgress(value=0.0, description='page work', style=ProgressStyle(description_width='initia…"
      ]
     },
     "metadata": {},
     "output_type": "display_data"
    },
    {
     "name": "stdout",
     "output_type": "stream",
     "text": [
      "\n"
     ]
    }
   ],
   "source": [
    "    encode_keyword = urllib.parse.quote(keyword)\n",
    "    # get_blog_search_result_pagination_count로 처리할 수있는 페이지수를 1부터 페이지수까지 까지 각각 하나씩 긁어옴 \n",
    "    for i in tqdm_notebook(range(1, 100 + 1),desc = \"page work\"):\n",
    "        url = \"https://openapi.naver.com/v1/search/blog?query=\" + encode_keyword + \"&display=\" + str(\n",
    "            display_count) + \"&start=\" + str(i) + \"&sort=\" + sort_type\n",
    "\n",
    "        request = urllib.request.Request(url)\n",
    "\n",
    "        request.add_header(\"X-Naver-Client-Id\", naver_client_id)\n",
    "        request.add_header(\"X-Naver-Client-Secret\", naver_client_secret)\n",
    "\n",
    "        #접속오류났을때 종료후 저장\n",
    "        try:\n",
    "            response = urllib.request.urlopen(request)\n",
    "            response_code = response.getcode()\n",
    "\n",
    "            # respon결과가 200일때 결과읽어옴 \n",
    "            if response_code is 200:\n",
    "                response_body = response.read()\n",
    "                response_body_dict = json.loads(response_body.decode('utf-8'))\n",
    "                responses.append(response_body_dict)\n",
    "        except :\n",
    "            pass"
   ]
  },
  {
   "cell_type": "code",
   "execution_count": 31,
   "metadata": {
    "ExecuteTime": {
     "end_time": "2020-04-01T06:21:17.897005Z",
     "start_time": "2020-04-01T06:21:17.893012Z"
    }
   },
   "outputs": [
    {
     "data": {
      "text/plain": [
       "{'lastBuildDate': 'Wed, 01 Apr 2020 15:20:38 +0900',\n",
       " 'total': 755097,\n",
       " 'start': 100,\n",
       " 'display': 1,\n",
       " 'items': [{'title': '강원도 <b>양양</b> 바다보이는 숙소 소소한이야기 302호',\n",
       "   'link': 'https://blog.naver.com/eun_churing?Redirect=Log&logNo=221879305813',\n",
       "   'description': '#<b>양양</b>숙소 #강원도숙소 #바다보이는펜션 #소소한이야기 #강원도여행 &quot;강원도 <b>양양</b> 소소한이야기 펜션 &quot; 인스타 구경하다가 우연히 발견한 <b>양양</b>펜션 소소한이야기 바다 풍경이기도 하고 숙소 자체가 너무 이뻐서... ',\n",
       "   'bloggername': 'churing',\n",
       "   'bloggerlink': 'https://blog.naver.com/eun_churing',\n",
       "   'postdate': '20200329'}]}"
      ]
     },
     "execution_count": 31,
     "metadata": {},
     "output_type": "execute_result"
    }
   ],
   "source": [
    "response_body_dict"
   ]
  },
  {
   "cell_type": "markdown",
   "metadata": {},
   "source": [
    "### 2020-04-01 13:41:21  http 5000오류\n",
    "* 640번대정도에서 오류가 발생하는데 오류발생후 대처방안\n",
    "-> 오류발생해도 진행하게끔 만듬"
   ]
  },
  {
   "cell_type": "code",
   "execution_count": 12,
   "metadata": {
    "ExecuteTime": {
     "end_time": "2020-04-01T04:45:44.950666Z",
     "start_time": "2020-04-01T04:45:44.941664Z"
    },
    "code_folding": [],
    "scrolled": true
   },
   "outputs": [],
   "source": [
    "def get_blog_post(keyword, display_count, page_count, sort_type,save = True):\n",
    "    '''\n",
    "    keyword : 검색하고 싶은 키워드\n",
    "    display_count : 한 페이지당 표출할 개수 min = 10, max = 100\n",
    "    page_count : 총 진행할 페이지의 수 min = 1, max = 1000\n",
    "    sort_type : 정렬옵션 \"sim\" (유사도순), \"date\" (날짜순)\n",
    "    \n",
    "    display_count는 표시되는 개수에 불과하며 page_count가 1개씩 넘어갈때마다 나머지 diplay_count가 중복됨\n",
    "    ''' \n",
    "    #날짜와 본문내용 저장\n",
    "    postdates = []\n",
    "    strings = []\n",
    "    urls = []\n",
    "    titles = []\n",
    "    blogger_names = []\n",
    "    responses = []\n",
    "\n",
    "    encode_keyword = urllib.parse.quote(keyword)\n",
    "    # get_blog_search_result_pagination_count로 처리할 수있는 페이지수를 1부터 페이지수까지 까지 각각 하나씩 긁어옴 \n",
    "    for i in tqdm_notebook(range(1, 100 + 1),desc = \"page work\"):\n",
    "        url = \"https://openapi.naver.com/v1/search/blog?query=\" + encode_keyword + \"&display=\" + str(\n",
    "            display_count) + \"&start=\" + str(i) + \"&sort=\" + sort_type\n",
    "\n",
    "        request = urllib.request.Request(url)\n",
    "\n",
    "        request.add_header(\"X-Naver-Client-Id\", naver_client_id)\n",
    "        request.add_header(\"X-Naver-Client-Secret\", naver_client_secret)\n",
    "\n",
    "        #접속오류났을때 종료후 저장\n",
    "        try:\n",
    "            response = urllib.request.urlopen(request)\n",
    "            response_code = response.getcode()\n",
    "\n",
    "            # respon결과가 200일때 결과읽어옴 \n",
    "            if response_code is 200:\n",
    "                response_body = response.read()\n",
    "                response_body_dict = json.loads(response_body.decode('utf-8'))\n",
    "                responses.append(response_body_dict)\n",
    "                try:\n",
    "                #items의 개수만큼씩 진행\n",
    "                    for j in range(0, len(response_body_dict['items'])):\n",
    "                        blog_post_url = response_body_dict['items'][j]['link'].replace(\"amp;\", \"\")\n",
    "\n",
    "                        #블로그 url안에 들어가기(아직 크롤링불가)\n",
    "                        get_blog_post_content_code = requests.get(blog_post_url)\n",
    "                        get_blog_post_content_text = get_blog_post_content_code.text\n",
    "                        get_blog_post_content_soup = BeautifulSoup(get_blog_post_content_text, 'lxml')\n",
    "                        #크롤링가능한 url에 접속\n",
    "                        real_blog_post_url = \"http://blog.naver.com\" + get_blog_post_content_soup.select('#mainFrame')[0].get('src')\n",
    "                        get_real_blog_post_content_code = requests.get(real_blog_post_url)\n",
    "                        get_real_blog_post_content_text = get_real_blog_post_content_code.text\n",
    "                        get_real_blog_post_content_soup = BeautifulSoup(get_real_blog_post_content_text, 'lxml')\n",
    "                        #본문부분 추출 postviewarea 패턴과 se-main-container 2가지 유형이 있어 분리함 \n",
    "                        blog_post_content = get_real_blog_post_content_soup.select('div#postViewArea')\n",
    "                        if len(blog_post_content) == 0:\n",
    "                            blog_post_content = get_real_blog_post_content_soup.select('div.se-main-container')\n",
    "\n",
    "                        #포스트날짜\n",
    "                        postdate = datetime.datetime.strptime(response_body_dict['items'][j]['postdate'],\"%Y%m%d\").strftime(\"%y.%m.%d\")\n",
    "                        postdates.append(postdate)\n",
    "\n",
    "                        #제목\n",
    "                        remove_html_tag = re.compile('<.*?>')\n",
    "                        title = re.sub(remove_html_tag, '', response_body_dict['items'][j]['title'])\n",
    "                        titles.append(title)\n",
    "\n",
    "                        #블로거이름\n",
    "                        blogger_name = response_body_dict['items'][j]['bloggername']\n",
    "                        blogger_names.append(blogger_name)\n",
    "\n",
    "                        #전체 텍스트 \n",
    "                        string = \"\"\n",
    "                        for sentence in blog_post_content[0].stripped_strings:\n",
    "                            string += \" \"+sentence.replace('\\xa0',\" \")\n",
    "                        #비언어 텍스트제거 \n",
    "                        string = del_outword(string)\n",
    "                        strings.append([string]) \n",
    "\n",
    "                        #url\n",
    "                        urls.append(real_blog_post_url)\n",
    "\n",
    "                except Exception as ex:\n",
    "                    print('추출에러 {num}번째'.format(num = i),ex)\n",
    "                    pass\n",
    "            else :\n",
    "                pass\n",
    "\n",
    "        except Exception as ex:\n",
    "            print('open에러 {num}번째'.format(num = i),ex)\n",
    "            pass\n",
    "                \n",
    "    # utf-8형식으로 저장하면 엑셀에서 열때 에러나지만, load는 가능\n",
    "    if save == True:\n",
    "        crawling_df = pd.DataFrame({\"post_dates\":postdates, \"title\":titles, \"blogger_name\":blogger_names, \"full_text\":strings, \"url\":urls})\n",
    "        crawling_df.to_csv(keyword+\"_\"+str(display_count* page_count)+\".csv\",encoding='utf-8',index= False)\n",
    "    return crawling_df"
   ]
  },
  {
   "cell_type": "code",
   "execution_count": 13,
   "metadata": {
    "ExecuteTime": {
     "end_time": "2020-04-01T05:05:41.904050Z",
     "start_time": "2020-04-01T04:45:46.412091Z"
    }
   },
   "outputs": [
    {
     "name": "stderr",
     "output_type": "stream",
     "text": [
      "C:\\Users\\User\\Anaconda3\\lib\\site-packages\\ipykernel_launcher.py:20: TqdmDeprecationWarning: This function will be removed in tqdm==5.0.0\n",
      "Please use `tqdm.notebook.tqdm` instead of `tqdm.tqdm_notebook`\n"
     ]
    },
    {
     "data": {
      "application/vnd.jupyter.widget-view+json": {
       "model_id": "a061d423e1b84d7fbe006e57fe419866",
       "version_major": 2,
       "version_minor": 0
      },
      "text/plain": [
       "HBox(children=(FloatProgress(value=0.0, description='page work', max=1000.0, style=ProgressStyle(description_w…"
      ]
     },
     "metadata": {},
     "output_type": "display_data"
    },
    {
     "name": "stdout",
     "output_type": "stream",
     "text": [
      "추출에러 145번째 list index out of range\n",
      "추출에러 153번째 list index out of range\n",
      "추출에러 183번째 list index out of range\n",
      "추출에러 191번째 list index out of range\n",
      "추출에러 197번째 list index out of range\n",
      "추출에러 200번째 list index out of range\n",
      "추출에러 213번째 list index out of range\n",
      "추출에러 281번째 list index out of range\n",
      "추출에러 322번째 list index out of range\n",
      "추출에러 334번째 list index out of range\n",
      "추출에러 367번째 list index out of range\n",
      "추출에러 402번째 list index out of range\n",
      "추출에러 408번째 list index out of range\n",
      "추출에러 490번째 list index out of range\n",
      "추출에러 494번째 list index out of range\n",
      "추출에러 498번째 list index out of range\n",
      "추출에러 560번째 list index out of range\n",
      "추출에러 586번째 list index out of range\n",
      "추출에러 590번째 list index out of range\n",
      "추출에러 603번째 list index out of range\n",
      "추출에러 606번째 list index out of range\n",
      "추출에러 634번째 list index out of range\n",
      "추출에러 641번째 list index out of range\n",
      "추출에러 643번째 list index out of range\n",
      "open에러 647번째 HTTP Error 500: Internal Server Error\n",
      "open에러 650번째 HTTP Error 500: Internal Server Error\n",
      "open에러 653번째 HTTP Error 500: Internal Server Error\n",
      "open에러 655번째 HTTP Error 500: Internal Server Error\n",
      "open에러 657번째 HTTP Error 500: Internal Server Error\n",
      "open에러 658번째 HTTP Error 500: Internal Server Error\n",
      "open에러 659번째 HTTP Error 500: Internal Server Error\n",
      "open에러 660번째 HTTP Error 500: Internal Server Error\n",
      "open에러 661번째 HTTP Error 500: Internal Server Error\n",
      "open에러 662번째 HTTP Error 500: Internal Server Error\n",
      "open에러 663번째 HTTP Error 500: Internal Server Error\n",
      "open에러 664번째 HTTP Error 500: Internal Server Error\n",
      "open에러 665번째 HTTP Error 500: Internal Server Error\n",
      "open에러 666번째 HTTP Error 500: Internal Server Error\n",
      "open에러 667번째 HTTP Error 500: Internal Server Error\n",
      "open에러 668번째 HTTP Error 500: Internal Server Error\n",
      "open에러 669번째 HTTP Error 500: Internal Server Error\n",
      "open에러 670번째 HTTP Error 500: Internal Server Error\n",
      "open에러 671번째 HTTP Error 500: Internal Server Error\n",
      "open에러 672번째 HTTP Error 500: Internal Server Error\n",
      "open에러 673번째 HTTP Error 500: Internal Server Error\n",
      "open에러 674번째 HTTP Error 500: Internal Server Error\n",
      "open에러 675번째 HTTP Error 500: Internal Server Error\n",
      "open에러 676번째 HTTP Error 500: Internal Server Error\n",
      "open에러 677번째 HTTP Error 500: Internal Server Error\n",
      "open에러 678번째 HTTP Error 500: Internal Server Error\n",
      "open에러 679번째 HTTP Error 500: Internal Server Error\n",
      "open에러 680번째 HTTP Error 500: Internal Server Error\n",
      "open에러 681번째 HTTP Error 500: Internal Server Error\n",
      "open에러 682번째 HTTP Error 500: Internal Server Error\n",
      "open에러 683번째 HTTP Error 500: Internal Server Error\n",
      "open에러 684번째 HTTP Error 500: Internal Server Error\n",
      "open에러 685번째 HTTP Error 500: Internal Server Error\n",
      "open에러 686번째 HTTP Error 500: Internal Server Error\n",
      "open에러 687번째 HTTP Error 500: Internal Server Error\n",
      "open에러 688번째 HTTP Error 500: Internal Server Error\n",
      "open에러 689번째 HTTP Error 500: Internal Server Error\n",
      "open에러 690번째 HTTP Error 500: Internal Server Error\n",
      "open에러 691번째 HTTP Error 500: Internal Server Error\n",
      "open에러 692번째 HTTP Error 500: Internal Server Error\n",
      "open에러 693번째 HTTP Error 500: Internal Server Error\n",
      "open에러 694번째 HTTP Error 500: Internal Server Error\n",
      "open에러 695번째 HTTP Error 500: Internal Server Error\n",
      "open에러 696번째 HTTP Error 500: Internal Server Error\n",
      "open에러 697번째 HTTP Error 500: Internal Server Error\n",
      "open에러 698번째 HTTP Error 500: Internal Server Error\n",
      "open에러 699번째 HTTP Error 500: Internal Server Error\n",
      "open에러 700번째 HTTP Error 500: Internal Server Error\n",
      "open에러 701번째 HTTP Error 500: Internal Server Error\n",
      "open에러 702번째 HTTP Error 500: Internal Server Error\n",
      "open에러 703번째 HTTP Error 500: Internal Server Error\n",
      "open에러 704번째 HTTP Error 500: Internal Server Error\n",
      "open에러 705번째 HTTP Error 500: Internal Server Error\n",
      "open에러 706번째 HTTP Error 500: Internal Server Error\n",
      "open에러 707번째 HTTP Error 500: Internal Server Error\n",
      "open에러 708번째 HTTP Error 500: Internal Server Error\n",
      "open에러 709번째 HTTP Error 500: Internal Server Error\n",
      "open에러 710번째 HTTP Error 500: Internal Server Error\n",
      "open에러 711번째 HTTP Error 500: Internal Server Error\n",
      "open에러 712번째 HTTP Error 500: Internal Server Error\n",
      "open에러 713번째 HTTP Error 500: Internal Server Error\n",
      "open에러 714번째 HTTP Error 500: Internal Server Error\n",
      "open에러 715번째 HTTP Error 500: Internal Server Error\n",
      "open에러 716번째 HTTP Error 500: Internal Server Error\n",
      "open에러 717번째 HTTP Error 500: Internal Server Error\n",
      "open에러 718번째 HTTP Error 500: Internal Server Error\n",
      "open에러 719번째 HTTP Error 500: Internal Server Error\n",
      "open에러 720번째 HTTP Error 500: Internal Server Error\n",
      "open에러 721번째 HTTP Error 500: Internal Server Error\n",
      "open에러 722번째 HTTP Error 500: Internal Server Error\n",
      "open에러 723번째 HTTP Error 500: Internal Server Error\n",
      "open에러 724번째 HTTP Error 500: Internal Server Error\n",
      "open에러 725번째 HTTP Error 500: Internal Server Error\n",
      "open에러 726번째 HTTP Error 500: Internal Server Error\n",
      "open에러 727번째 HTTP Error 500: Internal Server Error\n",
      "open에러 728번째 HTTP Error 500: Internal Server Error\n",
      "open에러 729번째 HTTP Error 500: Internal Server Error\n",
      "open에러 730번째 HTTP Error 500: Internal Server Error\n",
      "open에러 731번째 HTTP Error 500: Internal Server Error\n",
      "open에러 732번째 HTTP Error 500: Internal Server Error\n",
      "open에러 733번째 HTTP Error 500: Internal Server Error\n",
      "open에러 734번째 HTTP Error 500: Internal Server Error\n",
      "open에러 735번째 HTTP Error 500: Internal Server Error\n",
      "open에러 736번째 HTTP Error 500: Internal Server Error\n",
      "open에러 737번째 HTTP Error 500: Internal Server Error\n",
      "open에러 738번째 HTTP Error 500: Internal Server Error\n",
      "open에러 739번째 HTTP Error 500: Internal Server Error\n",
      "open에러 740번째 HTTP Error 500: Internal Server Error\n",
      "open에러 741번째 HTTP Error 500: Internal Server Error\n",
      "open에러 742번째 HTTP Error 500: Internal Server Error\n",
      "open에러 743번째 HTTP Error 500: Internal Server Error\n",
      "open에러 744번째 HTTP Error 500: Internal Server Error\n",
      "open에러 745번째 HTTP Error 500: Internal Server Error\n",
      "open에러 746번째 HTTP Error 500: Internal Server Error\n",
      "open에러 747번째 HTTP Error 500: Internal Server Error\n",
      "open에러 748번째 HTTP Error 500: Internal Server Error\n",
      "open에러 749번째 HTTP Error 500: Internal Server Error\n",
      "open에러 750번째 HTTP Error 500: Internal Server Error\n",
      "open에러 751번째 HTTP Error 500: Internal Server Error\n",
      "open에러 752번째 HTTP Error 500: Internal Server Error\n",
      "open에러 753번째 HTTP Error 500: Internal Server Error\n",
      "open에러 754번째 HTTP Error 500: Internal Server Error\n",
      "open에러 755번째 HTTP Error 500: Internal Server Error\n",
      "open에러 756번째 HTTP Error 500: Internal Server Error\n",
      "open에러 757번째 HTTP Error 500: Internal Server Error\n",
      "open에러 758번째 HTTP Error 500: Internal Server Error\n",
      "open에러 759번째 HTTP Error 500: Internal Server Error\n",
      "open에러 760번째 HTTP Error 500: Internal Server Error\n",
      "open에러 761번째 HTTP Error 500: Internal Server Error\n",
      "open에러 762번째 HTTP Error 500: Internal Server Error\n",
      "open에러 763번째 HTTP Error 500: Internal Server Error\n",
      "open에러 764번째 HTTP Error 500: Internal Server Error\n",
      "open에러 765번째 HTTP Error 500: Internal Server Error\n",
      "open에러 766번째 HTTP Error 500: Internal Server Error\n",
      "open에러 767번째 HTTP Error 500: Internal Server Error\n",
      "open에러 768번째 HTTP Error 500: Internal Server Error\n",
      "open에러 769번째 HTTP Error 500: Internal Server Error\n",
      "open에러 770번째 HTTP Error 500: Internal Server Error\n",
      "open에러 771번째 HTTP Error 500: Internal Server Error\n",
      "open에러 772번째 HTTP Error 500: Internal Server Error\n",
      "open에러 773번째 HTTP Error 500: Internal Server Error\n",
      "open에러 774번째 HTTP Error 500: Internal Server Error\n",
      "open에러 775번째 HTTP Error 500: Internal Server Error\n",
      "open에러 776번째 HTTP Error 500: Internal Server Error\n",
      "open에러 777번째 HTTP Error 500: Internal Server Error\n",
      "open에러 778번째 HTTP Error 500: Internal Server Error\n",
      "open에러 779번째 HTTP Error 500: Internal Server Error\n",
      "open에러 780번째 HTTP Error 500: Internal Server Error\n",
      "open에러 781번째 HTTP Error 500: Internal Server Error\n",
      "open에러 782번째 HTTP Error 500: Internal Server Error\n",
      "open에러 783번째 HTTP Error 500: Internal Server Error\n",
      "open에러 784번째 HTTP Error 500: Internal Server Error\n",
      "open에러 785번째 HTTP Error 500: Internal Server Error\n",
      "open에러 786번째 HTTP Error 500: Internal Server Error\n",
      "open에러 787번째 HTTP Error 500: Internal Server Error\n",
      "open에러 788번째 HTTP Error 500: Internal Server Error\n",
      "open에러 789번째 HTTP Error 500: Internal Server Error\n",
      "open에러 790번째 HTTP Error 500: Internal Server Error\n",
      "open에러 791번째 HTTP Error 500: Internal Server Error\n",
      "open에러 792번째 HTTP Error 500: Internal Server Error\n",
      "open에러 793번째 HTTP Error 500: Internal Server Error\n",
      "open에러 794번째 HTTP Error 500: Internal Server Error\n",
      "open에러 795번째 HTTP Error 500: Internal Server Error\n",
      "open에러 796번째 HTTP Error 500: Internal Server Error\n",
      "open에러 797번째 HTTP Error 500: Internal Server Error\n"
     ]
    },
    {
     "name": "stdout",
     "output_type": "stream",
     "text": [
      "open에러 798번째 HTTP Error 500: Internal Server Error\n",
      "open에러 799번째 HTTP Error 500: Internal Server Error\n",
      "open에러 800번째 HTTP Error 500: Internal Server Error\n",
      "open에러 801번째 HTTP Error 500: Internal Server Error\n",
      "open에러 802번째 HTTP Error 500: Internal Server Error\n",
      "open에러 803번째 HTTP Error 500: Internal Server Error\n",
      "open에러 804번째 HTTP Error 500: Internal Server Error\n",
      "open에러 805번째 HTTP Error 500: Internal Server Error\n",
      "open에러 806번째 HTTP Error 500: Internal Server Error\n",
      "open에러 807번째 HTTP Error 500: Internal Server Error\n",
      "open에러 808번째 HTTP Error 500: Internal Server Error\n",
      "open에러 809번째 HTTP Error 500: Internal Server Error\n",
      "open에러 810번째 HTTP Error 500: Internal Server Error\n",
      "open에러 811번째 HTTP Error 500: Internal Server Error\n",
      "open에러 812번째 HTTP Error 500: Internal Server Error\n",
      "open에러 813번째 HTTP Error 500: Internal Server Error\n",
      "open에러 814번째 HTTP Error 500: Internal Server Error\n",
      "open에러 815번째 HTTP Error 500: Internal Server Error\n",
      "open에러 816번째 HTTP Error 500: Internal Server Error\n",
      "open에러 817번째 HTTP Error 500: Internal Server Error\n",
      "open에러 818번째 HTTP Error 500: Internal Server Error\n",
      "open에러 819번째 HTTP Error 500: Internal Server Error\n",
      "open에러 820번째 HTTP Error 500: Internal Server Error\n",
      "open에러 821번째 HTTP Error 500: Internal Server Error\n",
      "open에러 822번째 HTTP Error 500: Internal Server Error\n",
      "open에러 823번째 HTTP Error 500: Internal Server Error\n",
      "open에러 824번째 HTTP Error 500: Internal Server Error\n",
      "open에러 825번째 HTTP Error 500: Internal Server Error\n",
      "open에러 826번째 HTTP Error 500: Internal Server Error\n",
      "open에러 827번째 HTTP Error 500: Internal Server Error\n",
      "open에러 828번째 HTTP Error 500: Internal Server Error\n",
      "open에러 829번째 HTTP Error 500: Internal Server Error\n",
      "open에러 830번째 HTTP Error 500: Internal Server Error\n",
      "open에러 831번째 HTTP Error 500: Internal Server Error\n",
      "open에러 832번째 HTTP Error 500: Internal Server Error\n",
      "open에러 833번째 HTTP Error 500: Internal Server Error\n",
      "open에러 834번째 HTTP Error 500: Internal Server Error\n",
      "open에러 835번째 HTTP Error 500: Internal Server Error\n",
      "open에러 836번째 HTTP Error 500: Internal Server Error\n",
      "open에러 837번째 HTTP Error 500: Internal Server Error\n",
      "open에러 838번째 HTTP Error 500: Internal Server Error\n",
      "open에러 839번째 HTTP Error 500: Internal Server Error\n",
      "open에러 840번째 HTTP Error 500: Internal Server Error\n",
      "open에러 841번째 HTTP Error 500: Internal Server Error\n",
      "open에러 842번째 HTTP Error 500: Internal Server Error\n",
      "open에러 843번째 HTTP Error 500: Internal Server Error\n",
      "open에러 844번째 HTTP Error 500: Internal Server Error\n",
      "open에러 845번째 HTTP Error 500: Internal Server Error\n",
      "open에러 846번째 HTTP Error 500: Internal Server Error\n",
      "open에러 847번째 HTTP Error 500: Internal Server Error\n",
      "open에러 848번째 HTTP Error 500: Internal Server Error\n",
      "open에러 849번째 HTTP Error 500: Internal Server Error\n",
      "open에러 850번째 HTTP Error 500: Internal Server Error\n",
      "open에러 851번째 HTTP Error 500: Internal Server Error\n",
      "open에러 852번째 HTTP Error 500: Internal Server Error\n",
      "open에러 853번째 HTTP Error 500: Internal Server Error\n",
      "open에러 854번째 HTTP Error 500: Internal Server Error\n",
      "open에러 855번째 HTTP Error 500: Internal Server Error\n",
      "open에러 856번째 HTTP Error 500: Internal Server Error\n",
      "open에러 857번째 HTTP Error 500: Internal Server Error\n",
      "open에러 858번째 HTTP Error 500: Internal Server Error\n",
      "open에러 859번째 HTTP Error 500: Internal Server Error\n",
      "open에러 860번째 HTTP Error 500: Internal Server Error\n",
      "open에러 861번째 HTTP Error 500: Internal Server Error\n",
      "open에러 862번째 HTTP Error 500: Internal Server Error\n",
      "open에러 863번째 HTTP Error 500: Internal Server Error\n",
      "open에러 864번째 HTTP Error 500: Internal Server Error\n",
      "open에러 865번째 HTTP Error 500: Internal Server Error\n",
      "open에러 866번째 HTTP Error 500: Internal Server Error\n",
      "open에러 867번째 HTTP Error 500: Internal Server Error\n",
      "open에러 868번째 HTTP Error 500: Internal Server Error\n",
      "open에러 869번째 HTTP Error 500: Internal Server Error\n",
      "open에러 870번째 HTTP Error 500: Internal Server Error\n",
      "open에러 871번째 HTTP Error 500: Internal Server Error\n",
      "open에러 872번째 HTTP Error 500: Internal Server Error\n",
      "open에러 873번째 HTTP Error 500: Internal Server Error\n",
      "open에러 874번째 HTTP Error 500: Internal Server Error\n",
      "open에러 875번째 HTTP Error 500: Internal Server Error\n",
      "open에러 876번째 HTTP Error 500: Internal Server Error\n",
      "open에러 877번째 HTTP Error 500: Internal Server Error\n",
      "open에러 878번째 HTTP Error 500: Internal Server Error\n",
      "open에러 879번째 HTTP Error 500: Internal Server Error\n",
      "open에러 880번째 HTTP Error 500: Internal Server Error\n",
      "open에러 881번째 HTTP Error 500: Internal Server Error\n",
      "open에러 882번째 HTTP Error 500: Internal Server Error\n",
      "open에러 883번째 HTTP Error 500: Internal Server Error\n",
      "open에러 884번째 HTTP Error 500: Internal Server Error\n",
      "open에러 885번째 HTTP Error 500: Internal Server Error\n",
      "open에러 886번째 HTTP Error 500: Internal Server Error\n",
      "open에러 887번째 HTTP Error 500: Internal Server Error\n",
      "open에러 888번째 HTTP Error 500: Internal Server Error\n",
      "open에러 889번째 HTTP Error 500: Internal Server Error\n",
      "open에러 890번째 HTTP Error 500: Internal Server Error\n",
      "open에러 891번째 HTTP Error 500: Internal Server Error\n",
      "open에러 892번째 HTTP Error 500: Internal Server Error\n",
      "open에러 893번째 HTTP Error 500: Internal Server Error\n",
      "open에러 894번째 HTTP Error 500: Internal Server Error\n",
      "open에러 895번째 HTTP Error 500: Internal Server Error\n",
      "open에러 896번째 HTTP Error 500: Internal Server Error\n",
      "open에러 897번째 HTTP Error 500: Internal Server Error\n",
      "open에러 898번째 HTTP Error 500: Internal Server Error\n",
      "open에러 899번째 HTTP Error 500: Internal Server Error\n",
      "open에러 900번째 HTTP Error 500: Internal Server Error\n",
      "open에러 901번째 HTTP Error 500: Internal Server Error\n",
      "open에러 902번째 HTTP Error 500: Internal Server Error\n",
      "open에러 903번째 HTTP Error 500: Internal Server Error\n",
      "open에러 904번째 HTTP Error 500: Internal Server Error\n",
      "open에러 905번째 HTTP Error 500: Internal Server Error\n",
      "open에러 906번째 HTTP Error 500: Internal Server Error\n",
      "open에러 907번째 HTTP Error 500: Internal Server Error\n",
      "open에러 908번째 HTTP Error 500: Internal Server Error\n",
      "open에러 909번째 HTTP Error 500: Internal Server Error\n",
      "open에러 910번째 HTTP Error 500: Internal Server Error\n",
      "open에러 911번째 HTTP Error 500: Internal Server Error\n",
      "open에러 912번째 HTTP Error 500: Internal Server Error\n",
      "open에러 913번째 HTTP Error 500: Internal Server Error\n",
      "open에러 914번째 HTTP Error 500: Internal Server Error\n",
      "open에러 915번째 HTTP Error 500: Internal Server Error\n",
      "open에러 916번째 HTTP Error 500: Internal Server Error\n",
      "open에러 917번째 HTTP Error 500: Internal Server Error\n",
      "open에러 918번째 HTTP Error 500: Internal Server Error\n",
      "open에러 919번째 HTTP Error 500: Internal Server Error\n",
      "open에러 920번째 HTTP Error 500: Internal Server Error\n",
      "open에러 921번째 HTTP Error 500: Internal Server Error\n",
      "open에러 922번째 HTTP Error 500: Internal Server Error\n",
      "open에러 923번째 HTTP Error 500: Internal Server Error\n",
      "open에러 924번째 HTTP Error 500: Internal Server Error\n",
      "open에러 925번째 HTTP Error 500: Internal Server Error\n",
      "open에러 926번째 HTTP Error 500: Internal Server Error\n",
      "open에러 927번째 HTTP Error 500: Internal Server Error\n",
      "open에러 928번째 HTTP Error 500: Internal Server Error\n",
      "open에러 929번째 HTTP Error 500: Internal Server Error\n",
      "open에러 930번째 HTTP Error 500: Internal Server Error\n",
      "open에러 931번째 HTTP Error 500: Internal Server Error\n",
      "open에러 932번째 HTTP Error 500: Internal Server Error\n",
      "open에러 933번째 HTTP Error 500: Internal Server Error\n",
      "open에러 934번째 HTTP Error 500: Internal Server Error\n",
      "open에러 935번째 HTTP Error 500: Internal Server Error\n",
      "open에러 936번째 HTTP Error 500: Internal Server Error\n",
      "open에러 937번째 HTTP Error 500: Internal Server Error\n",
      "open에러 938번째 HTTP Error 500: Internal Server Error\n",
      "open에러 939번째 HTTP Error 500: Internal Server Error\n",
      "open에러 940번째 HTTP Error 500: Internal Server Error\n",
      "open에러 941번째 HTTP Error 500: Internal Server Error\n",
      "open에러 942번째 HTTP Error 500: Internal Server Error\n",
      "open에러 943번째 HTTP Error 500: Internal Server Error\n",
      "open에러 944번째 HTTP Error 500: Internal Server Error\n",
      "open에러 945번째 HTTP Error 500: Internal Server Error\n",
      "open에러 946번째 HTTP Error 500: Internal Server Error\n",
      "open에러 947번째 HTTP Error 500: Internal Server Error\n",
      "open에러 948번째 HTTP Error 500: Internal Server Error\n",
      "open에러 949번째 HTTP Error 500: Internal Server Error\n",
      "open에러 950번째 HTTP Error 500: Internal Server Error\n",
      "open에러 951번째 HTTP Error 500: Internal Server Error\n",
      "open에러 952번째 HTTP Error 500: Internal Server Error\n",
      "open에러 953번째 HTTP Error 500: Internal Server Error\n",
      "open에러 954번째 HTTP Error 500: Internal Server Error\n",
      "open에러 955번째 HTTP Error 500: Internal Server Error\n",
      "open에러 956번째 HTTP Error 500: Internal Server Error\n",
      "open에러 957번째 HTTP Error 500: Internal Server Error\n",
      "open에러 958번째 HTTP Error 500: Internal Server Error\n"
     ]
    },
    {
     "name": "stdout",
     "output_type": "stream",
     "text": [
      "open에러 959번째 HTTP Error 500: Internal Server Error\n",
      "open에러 960번째 HTTP Error 500: Internal Server Error\n",
      "open에러 961번째 HTTP Error 500: Internal Server Error\n",
      "open에러 962번째 HTTP Error 500: Internal Server Error\n",
      "open에러 963번째 HTTP Error 500: Internal Server Error\n",
      "open에러 964번째 HTTP Error 500: Internal Server Error\n",
      "open에러 965번째 HTTP Error 500: Internal Server Error\n",
      "open에러 966번째 HTTP Error 500: Internal Server Error\n",
      "open에러 967번째 HTTP Error 500: Internal Server Error\n",
      "open에러 968번째 HTTP Error 500: Internal Server Error\n",
      "open에러 969번째 HTTP Error 500: Internal Server Error\n",
      "open에러 970번째 HTTP Error 500: Internal Server Error\n",
      "open에러 971번째 HTTP Error 500: Internal Server Error\n",
      "open에러 972번째 HTTP Error 500: Internal Server Error\n",
      "open에러 973번째 HTTP Error 500: Internal Server Error\n",
      "open에러 974번째 HTTP Error 500: Internal Server Error\n",
      "open에러 975번째 HTTP Error 500: Internal Server Error\n",
      "open에러 976번째 HTTP Error 500: Internal Server Error\n",
      "open에러 977번째 HTTP Error 500: Internal Server Error\n",
      "open에러 978번째 HTTP Error 500: Internal Server Error\n",
      "open에러 979번째 HTTP Error 500: Internal Server Error\n",
      "open에러 980번째 HTTP Error 500: Internal Server Error\n",
      "open에러 981번째 HTTP Error 500: Internal Server Error\n",
      "open에러 982번째 HTTP Error 500: Internal Server Error\n",
      "open에러 983번째 HTTP Error 500: Internal Server Error\n",
      "open에러 984번째 HTTP Error 500: Internal Server Error\n",
      "open에러 985번째 HTTP Error 500: Internal Server Error\n",
      "open에러 986번째 HTTP Error 500: Internal Server Error\n",
      "open에러 987번째 HTTP Error 500: Internal Server Error\n",
      "open에러 988번째 HTTP Error 500: Internal Server Error\n",
      "open에러 989번째 HTTP Error 500: Internal Server Error\n",
      "open에러 990번째 HTTP Error 500: Internal Server Error\n",
      "open에러 991번째 HTTP Error 500: Internal Server Error\n",
      "open에러 992번째 HTTP Error 500: Internal Server Error\n",
      "open에러 993번째 HTTP Error 500: Internal Server Error\n",
      "open에러 994번째 HTTP Error 500: Internal Server Error\n",
      "open에러 995번째 HTTP Error 500: Internal Server Error\n",
      "open에러 996번째 HTTP Error 500: Internal Server Error\n",
      "open에러 997번째 HTTP Error 500: Internal Server Error\n",
      "open에러 998번째 HTTP Error 500: Internal Server Error\n",
      "open에러 999번째 HTTP Error 500: Internal Server Error\n",
      "open에러 1000번째 HTTP Error 500: Internal Server Error\n",
      "\n"
     ]
    },
    {
     "ename": "ValueError",
     "evalue": "arrays must all be same length",
     "output_type": "error",
     "traceback": [
      "\u001b[1;31m---------------------------------------------------------------------------\u001b[0m",
      "\u001b[1;31mValueError\u001b[0m                                Traceback (most recent call last)",
      "\u001b[1;32m<ipython-input-13-9f53351215b8>\u001b[0m in \u001b[0;36m<module>\u001b[1;34m()\u001b[0m\n\u001b[1;32m----> 1\u001b[1;33m \u001b[0mcrawling_df\u001b[0m \u001b[1;33m=\u001b[0m \u001b[0mget_blog_post\u001b[0m\u001b[1;33m(\u001b[0m\u001b[0mkeyword\u001b[0m\u001b[1;33m,\u001b[0m \u001b[0mdisplay_count\u001b[0m\u001b[1;33m,\u001b[0m \u001b[0mpage_count\u001b[0m\u001b[1;33m,\u001b[0m \u001b[0msort_type\u001b[0m\u001b[1;33m)\u001b[0m\u001b[1;33m\u001b[0m\u001b[0m\n\u001b[0m",
      "\u001b[1;32m<ipython-input-12-f6a4549ff4a9>\u001b[0m in \u001b[0;36mget_blog_post\u001b[1;34m(keyword, display_count, page_count, sort_type, save)\u001b[0m\n\u001b[0;32m     92\u001b[0m     \u001b[1;31m# utf-8형식으로 저장하면 엑셀에서 열때 에러나지만, load는 가능\u001b[0m\u001b[1;33m\u001b[0m\u001b[1;33m\u001b[0m\u001b[0m\n\u001b[0;32m     93\u001b[0m     \u001b[1;32mif\u001b[0m \u001b[0msave\u001b[0m \u001b[1;33m==\u001b[0m \u001b[1;32mTrue\u001b[0m\u001b[1;33m:\u001b[0m\u001b[1;33m\u001b[0m\u001b[0m\n\u001b[1;32m---> 94\u001b[1;33m         \u001b[0mcrawling_df\u001b[0m \u001b[1;33m=\u001b[0m \u001b[0mpd\u001b[0m\u001b[1;33m.\u001b[0m\u001b[0mDataFrame\u001b[0m\u001b[1;33m(\u001b[0m\u001b[1;33m{\u001b[0m\u001b[1;34m\"post_dates\"\u001b[0m\u001b[1;33m:\u001b[0m\u001b[0mpostdates\u001b[0m\u001b[1;33m,\u001b[0m \u001b[1;34m\"title\"\u001b[0m\u001b[1;33m:\u001b[0m\u001b[0mtitles\u001b[0m\u001b[1;33m,\u001b[0m \u001b[1;34m\"blogger_name\"\u001b[0m\u001b[1;33m:\u001b[0m\u001b[0mblogger_names\u001b[0m\u001b[1;33m,\u001b[0m \u001b[1;34m\"full_text\"\u001b[0m\u001b[1;33m:\u001b[0m\u001b[0mstrings\u001b[0m\u001b[1;33m,\u001b[0m \u001b[1;34m\"url\"\u001b[0m\u001b[1;33m:\u001b[0m\u001b[0murls\u001b[0m\u001b[1;33m}\u001b[0m\u001b[1;33m)\u001b[0m\u001b[1;33m\u001b[0m\u001b[0m\n\u001b[0m\u001b[0;32m     95\u001b[0m         \u001b[0mcrawling_df\u001b[0m\u001b[1;33m.\u001b[0m\u001b[0mto_csv\u001b[0m\u001b[1;33m(\u001b[0m\u001b[0mkeyword\u001b[0m\u001b[1;33m+\u001b[0m\u001b[1;34m\"_\"\u001b[0m\u001b[1;33m+\u001b[0m\u001b[0mstr\u001b[0m\u001b[1;33m(\u001b[0m\u001b[0mdisplay_count\u001b[0m\u001b[1;33m*\u001b[0m \u001b[0mpage_count\u001b[0m\u001b[1;33m)\u001b[0m\u001b[1;33m+\u001b[0m\u001b[1;34m\".csv\"\u001b[0m\u001b[1;33m,\u001b[0m\u001b[0mencoding\u001b[0m\u001b[1;33m=\u001b[0m\u001b[1;34m'utf-8'\u001b[0m\u001b[1;33m,\u001b[0m\u001b[0mindex\u001b[0m\u001b[1;33m=\u001b[0m \u001b[1;32mFalse\u001b[0m\u001b[1;33m)\u001b[0m\u001b[1;33m\u001b[0m\u001b[0m\n\u001b[0;32m     96\u001b[0m     \u001b[1;32mreturn\u001b[0m \u001b[0mcrawling_df\u001b[0m\u001b[1;33m\u001b[0m\u001b[0m\n",
      "\u001b[1;32m~\\AppData\\Roaming\\Python\\Python36\\site-packages\\pandas\\core\\frame.py\u001b[0m in \u001b[0;36m__init__\u001b[1;34m(self, data, index, columns, dtype, copy)\u001b[0m\n\u001b[0;32m    409\u001b[0m             )\n\u001b[0;32m    410\u001b[0m         \u001b[1;32melif\u001b[0m \u001b[0misinstance\u001b[0m\u001b[1;33m(\u001b[0m\u001b[0mdata\u001b[0m\u001b[1;33m,\u001b[0m \u001b[0mdict\u001b[0m\u001b[1;33m)\u001b[0m\u001b[1;33m:\u001b[0m\u001b[1;33m\u001b[0m\u001b[0m\n\u001b[1;32m--> 411\u001b[1;33m             \u001b[0mmgr\u001b[0m \u001b[1;33m=\u001b[0m \u001b[0minit_dict\u001b[0m\u001b[1;33m(\u001b[0m\u001b[0mdata\u001b[0m\u001b[1;33m,\u001b[0m \u001b[0mindex\u001b[0m\u001b[1;33m,\u001b[0m \u001b[0mcolumns\u001b[0m\u001b[1;33m,\u001b[0m \u001b[0mdtype\u001b[0m\u001b[1;33m=\u001b[0m\u001b[0mdtype\u001b[0m\u001b[1;33m)\u001b[0m\u001b[1;33m\u001b[0m\u001b[0m\n\u001b[0m\u001b[0;32m    412\u001b[0m         \u001b[1;32melif\u001b[0m \u001b[0misinstance\u001b[0m\u001b[1;33m(\u001b[0m\u001b[0mdata\u001b[0m\u001b[1;33m,\u001b[0m \u001b[0mma\u001b[0m\u001b[1;33m.\u001b[0m\u001b[0mMaskedArray\u001b[0m\u001b[1;33m)\u001b[0m\u001b[1;33m:\u001b[0m\u001b[1;33m\u001b[0m\u001b[0m\n\u001b[0;32m    413\u001b[0m             \u001b[1;32mimport\u001b[0m \u001b[0mnumpy\u001b[0m\u001b[1;33m.\u001b[0m\u001b[0mma\u001b[0m\u001b[1;33m.\u001b[0m\u001b[0mmrecords\u001b[0m \u001b[1;32mas\u001b[0m \u001b[0mmrecords\u001b[0m\u001b[1;33m\u001b[0m\u001b[0m\n",
      "\u001b[1;32m~\\AppData\\Roaming\\Python\\Python36\\site-packages\\pandas\\core\\internals\\construction.py\u001b[0m in \u001b[0;36minit_dict\u001b[1;34m(data, index, columns, dtype)\u001b[0m\n\u001b[0;32m    255\u001b[0m             \u001b[0marr\u001b[0m \u001b[1;32mif\u001b[0m \u001b[1;32mnot\u001b[0m \u001b[0mis_datetime64tz_dtype\u001b[0m\u001b[1;33m(\u001b[0m\u001b[0marr\u001b[0m\u001b[1;33m)\u001b[0m \u001b[1;32melse\u001b[0m \u001b[0marr\u001b[0m\u001b[1;33m.\u001b[0m\u001b[0mcopy\u001b[0m\u001b[1;33m(\u001b[0m\u001b[1;33m)\u001b[0m \u001b[1;32mfor\u001b[0m \u001b[0marr\u001b[0m \u001b[1;32min\u001b[0m \u001b[0marrays\u001b[0m\u001b[1;33m\u001b[0m\u001b[0m\n\u001b[0;32m    256\u001b[0m         ]\n\u001b[1;32m--> 257\u001b[1;33m     \u001b[1;32mreturn\u001b[0m \u001b[0marrays_to_mgr\u001b[0m\u001b[1;33m(\u001b[0m\u001b[0marrays\u001b[0m\u001b[1;33m,\u001b[0m \u001b[0mdata_names\u001b[0m\u001b[1;33m,\u001b[0m \u001b[0mindex\u001b[0m\u001b[1;33m,\u001b[0m \u001b[0mcolumns\u001b[0m\u001b[1;33m,\u001b[0m \u001b[0mdtype\u001b[0m\u001b[1;33m=\u001b[0m\u001b[0mdtype\u001b[0m\u001b[1;33m)\u001b[0m\u001b[1;33m\u001b[0m\u001b[0m\n\u001b[0m\u001b[0;32m    258\u001b[0m \u001b[1;33m\u001b[0m\u001b[0m\n\u001b[0;32m    259\u001b[0m \u001b[1;33m\u001b[0m\u001b[0m\n",
      "\u001b[1;32m~\\AppData\\Roaming\\Python\\Python36\\site-packages\\pandas\\core\\internals\\construction.py\u001b[0m in \u001b[0;36marrays_to_mgr\u001b[1;34m(arrays, arr_names, index, columns, dtype)\u001b[0m\n\u001b[0;32m     75\u001b[0m     \u001b[1;31m# figure out the index, if necessary\u001b[0m\u001b[1;33m\u001b[0m\u001b[1;33m\u001b[0m\u001b[0m\n\u001b[0;32m     76\u001b[0m     \u001b[1;32mif\u001b[0m \u001b[0mindex\u001b[0m \u001b[1;32mis\u001b[0m \u001b[1;32mNone\u001b[0m\u001b[1;33m:\u001b[0m\u001b[1;33m\u001b[0m\u001b[0m\n\u001b[1;32m---> 77\u001b[1;33m         \u001b[0mindex\u001b[0m \u001b[1;33m=\u001b[0m \u001b[0mextract_index\u001b[0m\u001b[1;33m(\u001b[0m\u001b[0marrays\u001b[0m\u001b[1;33m)\u001b[0m\u001b[1;33m\u001b[0m\u001b[0m\n\u001b[0m\u001b[0;32m     78\u001b[0m     \u001b[1;32melse\u001b[0m\u001b[1;33m:\u001b[0m\u001b[1;33m\u001b[0m\u001b[0m\n\u001b[0;32m     79\u001b[0m         \u001b[0mindex\u001b[0m \u001b[1;33m=\u001b[0m \u001b[0mensure_index\u001b[0m\u001b[1;33m(\u001b[0m\u001b[0mindex\u001b[0m\u001b[1;33m)\u001b[0m\u001b[1;33m\u001b[0m\u001b[0m\n",
      "\u001b[1;32m~\\AppData\\Roaming\\Python\\Python36\\site-packages\\pandas\\core\\internals\\construction.py\u001b[0m in \u001b[0;36mextract_index\u001b[1;34m(data)\u001b[0m\n\u001b[0;32m    366\u001b[0m             \u001b[0mlengths\u001b[0m \u001b[1;33m=\u001b[0m \u001b[0mlist\u001b[0m\u001b[1;33m(\u001b[0m\u001b[0mset\u001b[0m\u001b[1;33m(\u001b[0m\u001b[0mraw_lengths\u001b[0m\u001b[1;33m)\u001b[0m\u001b[1;33m)\u001b[0m\u001b[1;33m\u001b[0m\u001b[0m\n\u001b[0;32m    367\u001b[0m             \u001b[1;32mif\u001b[0m \u001b[0mlen\u001b[0m\u001b[1;33m(\u001b[0m\u001b[0mlengths\u001b[0m\u001b[1;33m)\u001b[0m \u001b[1;33m>\u001b[0m \u001b[1;36m1\u001b[0m\u001b[1;33m:\u001b[0m\u001b[1;33m\u001b[0m\u001b[0m\n\u001b[1;32m--> 368\u001b[1;33m                 \u001b[1;32mraise\u001b[0m \u001b[0mValueError\u001b[0m\u001b[1;33m(\u001b[0m\u001b[1;34m\"arrays must all be same length\"\u001b[0m\u001b[1;33m)\u001b[0m\u001b[1;33m\u001b[0m\u001b[0m\n\u001b[0m\u001b[0;32m    369\u001b[0m \u001b[1;33m\u001b[0m\u001b[0m\n\u001b[0;32m    370\u001b[0m             \u001b[1;32mif\u001b[0m \u001b[0mhave_dicts\u001b[0m\u001b[1;33m:\u001b[0m\u001b[1;33m\u001b[0m\u001b[0m\n",
      "\u001b[1;31mValueError\u001b[0m: arrays must all be same length"
     ]
    }
   ],
   "source": [
    "crawling_df = get_blog_post(keyword, display_count, page_count, sort_type)"
   ]
  },
  {
   "cell_type": "code",
   "execution_count": 14,
   "metadata": {
    "ExecuteTime": {
     "end_time": "2020-04-01T05:08:19.055372Z",
     "start_time": "2020-04-01T05:08:19.049370Z"
    }
   },
   "outputs": [
    {
     "ename": "NameError",
     "evalue": "name 'crawling_df' is not defined",
     "output_type": "error",
     "traceback": [
      "\u001b[1;31m---------------------------------------------------------------------------\u001b[0m",
      "\u001b[1;31mNameError\u001b[0m                                 Traceback (most recent call last)",
      "\u001b[1;32m<ipython-input-14-971db172f4b2>\u001b[0m in \u001b[0;36m<module>\u001b[1;34m()\u001b[0m\n\u001b[1;32m----> 1\u001b[1;33m \u001b[0mcrawling_df\u001b[0m\u001b[1;33m.\u001b[0m\u001b[0mshape\u001b[0m\u001b[1;33m\u001b[0m\u001b[0m\n\u001b[0m",
      "\u001b[1;31mNameError\u001b[0m: name 'crawling_df' is not defined"
     ]
    }
   ],
   "source": [
    "crawling_df.shape"
   ]
  },
  {
   "cell_type": "markdown",
   "metadata": {},
   "source": [
    "### 연관분석"
   ]
  },
  {
   "cell_type": "code",
   "execution_count": 13,
   "metadata": {
    "ExecuteTime": {
     "end_time": "2020-04-01T00:21:31.585934Z",
     "start_time": "2020-04-01T00:21:31.560515Z"
    }
   },
   "outputs": [],
   "source": [
    "# crawling_df_s = pd.read_csv('양양_1000.csv',encoding='utf-8')"
   ]
  },
  {
   "cell_type": "code",
   "execution_count": 21,
   "metadata": {
    "ExecuteTime": {
     "end_time": "2020-04-01T00:23:00.670453Z",
     "start_time": "2020-04-01T00:23:00.664444Z"
    }
   },
   "outputs": [
    {
     "data": {
      "text/html": [
       "<div>\n",
       "<style scoped>\n",
       "    .dataframe tbody tr th:only-of-type {\n",
       "        vertical-align: middle;\n",
       "    }\n",
       "\n",
       "    .dataframe tbody tr th {\n",
       "        vertical-align: top;\n",
       "    }\n",
       "\n",
       "    .dataframe thead th {\n",
       "        text-align: right;\n",
       "    }\n",
       "</style>\n",
       "<table border=\"1\" class=\"dataframe\">\n",
       "  <thead>\n",
       "    <tr style=\"text-align: right;\">\n",
       "      <th></th>\n",
       "      <th>post_dates</th>\n",
       "      <th>title</th>\n",
       "      <th>full_text</th>\n",
       "      <th>url</th>\n",
       "    </tr>\n",
       "  </thead>\n",
       "  <tbody>\n",
       "    <tr>\n",
       "      <td>1</td>\n",
       "      <td>20.03.07</td>\n",
       "      <td>푸짐했던 양양 맛집</td>\n",
       "      <td>[' 얼마전에 가족들과 양양에 놀러갔다가 아주 괜찮은 양양 맛집을 찿아갔어요~ 대게...</td>\n",
       "      <td>https://blog.naver.com/collier13?Redirect=Log&amp;...</td>\n",
       "    </tr>\n",
       "    <tr>\n",
       "      <td>10</td>\n",
       "      <td>20.03.07</td>\n",
       "      <td>푸짐했던 양양 맛집</td>\n",
       "      <td>[' 얼마전에 가족들과 양양에 놀러갔다가 아주 괜찮은 양양 맛집을 찿아갔어요~ 대게...</td>\n",
       "      <td>https://blog.naver.com/collier13?Redirect=Log&amp;...</td>\n",
       "    </tr>\n",
       "  </tbody>\n",
       "</table>\n",
       "</div>"
      ],
      "text/plain": [
       "   post_dates       title                                          full_text  \\\n",
       "1    20.03.07  푸짐했던 양양 맛집  [' 얼마전에 가족들과 양양에 놀러갔다가 아주 괜찮은 양양 맛집을 찿아갔어요~ 대게...   \n",
       "10   20.03.07  푸짐했던 양양 맛집  [' 얼마전에 가족들과 양양에 놀러갔다가 아주 괜찮은 양양 맛집을 찿아갔어요~ 대게...   \n",
       "\n",
       "                                                  url  \n",
       "1   https://blog.naver.com/collier13?Redirect=Log&...  \n",
       "10  https://blog.naver.com/collier13?Redirect=Log&...  "
      ]
     },
     "execution_count": 21,
     "metadata": {},
     "output_type": "execute_result"
    }
   ],
   "source": [
    "crawling_df_s[crawling_df_s['url'] == 'https://blog.naver.com/collier13?Redirect=Log&logNo=221841451893']"
   ]
  },
  {
   "cell_type": "code",
   "execution_count": 20,
   "metadata": {
    "ExecuteTime": {
     "end_time": "2020-04-01T00:22:51.747376Z",
     "start_time": "2020-04-01T00:22:51.744377Z"
    }
   },
   "outputs": [
    {
     "data": {
      "text/plain": [
       "'https://blog.naver.com/collier13?Redirect=Log&logNo=221841451893'"
      ]
     },
     "execution_count": 20,
     "metadata": {},
     "output_type": "execute_result"
    }
   ],
   "source": [
    "crawling_df_s['url'][1]"
   ]
  },
  {
   "cell_type": "code",
   "execution_count": 211,
   "metadata": {
    "ExecuteTime": {
     "end_time": "2020-03-31T15:53:40.691666Z",
     "start_time": "2020-03-31T15:53:39.850478Z"
    }
   },
   "outputs": [],
   "source": [
    "komoran = Komoran(userdic='user_dictionary.txt')"
   ]
  },
  {
   "cell_type": "markdown",
   "metadata": {},
   "source": [
    "#이모티콘 제거 [출처](https://stackoverflow.com/questions/33404752/removing-emojis-from-a-string-in-python)"
   ]
  },
  {
   "cell_type": "code",
   "execution_count": null,
   "metadata": {},
   "outputs": [],
   "source": [
    "                string = string.replace('\\u200b',\" \")\n",
    "                string = string.replace('\\n',\" \")\n",
    "                string = string.replace('😑','')\n",
    "                strings.append([string]) "
   ]
  },
  {
   "cell_type": "code",
   "execution_count": 220,
   "metadata": {
    "ExecuteTime": {
     "end_time": "2020-03-31T15:55:03.868109Z",
     "start_time": "2020-03-31T15:54:41.704802Z"
    }
   },
   "outputs": [
    {
     "name": "stderr",
     "output_type": "stream",
     "text": [
      "C:\\Users\\try00\\Anaconda3\\lib\\site-packages\\ipykernel_launcher.py:5: TqdmDeprecationWarning: This function will be removed in tqdm==5.0.0\n",
      "Please use `tqdm.notebook.tqdm` instead of `tqdm.tqdm_notebook`\n",
      "  \"\"\"\n"
     ]
    },
    {
     "data": {
      "application/vnd.jupyter.widget-view+json": {
       "model_id": "d81fcf6745174cfc8e9537ed46e7c1ae",
       "version_major": 2,
       "version_minor": 0
      },
      "text/plain": [
       "HBox(children=(FloatProgress(value=0.0, max=1000.0), HTML(value='')))"
      ]
     },
     "metadata": {},
     "output_type": "display_data"
    },
    {
     "name": "stdout",
     "output_type": "stream",
     "text": [
      "\n"
     ]
    }
   ],
   "source": [
    "sw = ['오늘','시간','최근','지난','관련','이번','이날','현재','10','올해','지난해','있다','이상','기준','때문',\n",
    "     \"메뉴\",\"주문\",\"양양\",\"강원도\",'정도','도착','생각','양양군','사진','위치','바다','해변']\n",
    "all_nouns =[]\n",
    "\n",
    "for i in tqdm_notebook(range(0,len(crawling_df))):\n",
    "    try:\n",
    "        nouns = komoran.nouns(crawling_df['full_text'][i])\n",
    "    except :\n",
    "        nouns = emoji_pattern.sub(r'',crawling_df['full_text'][399])\n",
    "        nouns = han.sub(r'',TEXT_refine)\n",
    "    clean_nouns = list(filter(lambda word : (len(word)>1)&(word not in sw),nouns))\n",
    "    all_nouns.append(clean_nouns)"
   ]
  },
  {
   "cell_type": "code",
   "execution_count": 221,
   "metadata": {
    "ExecuteTime": {
     "end_time": "2020-03-31T15:55:03.875110Z",
     "start_time": "2020-03-31T15:55:03.869109Z"
    }
   },
   "outputs": [],
   "source": [
    "noun_df = pd.DataFrame({'nouns':all_nouns})"
   ]
  },
  {
   "cell_type": "code",
   "execution_count": 222,
   "metadata": {
    "ExecuteTime": {
     "end_time": "2020-03-31T15:55:03.904117Z",
     "start_time": "2020-03-31T15:55:03.876142Z"
    }
   },
   "outputs": [],
   "source": [
    "rules = apriori(all_nouns, min_support=0.2, min_condience =0.3)"
   ]
  },
  {
   "cell_type": "code",
   "execution_count": 223,
   "metadata": {
    "ExecuteTime": {
     "end_time": "2020-03-31T15:55:04.026144Z",
     "start_time": "2020-03-31T15:55:03.905117Z"
    }
   },
   "outputs": [],
   "source": [
    "results  = list(rules)"
   ]
  },
  {
   "cell_type": "code",
   "execution_count": 224,
   "metadata": {
    "ExecuteTime": {
     "end_time": "2020-03-31T15:55:04.089158Z",
     "start_time": "2020-03-31T15:55:04.027144Z"
    }
   },
   "outputs": [],
   "source": [
    "results_df = pd.DataFrame(columns =[\"lhs\",'rhs','support','confidence','lift'])\n",
    "index =0\n",
    "for row in results:   \n",
    "    support = row[1]\n",
    "    ordered_stat = row[2]\n",
    "    for ordered_item in ordered_stat:\n",
    "        lhs = \" \".join(x for x in ordered_item[0])\n",
    "        rhs = \" \".join(x for x in ordered_item[1])\n",
    "        confidence = ordered_item[2]\n",
    "        lift = ordered_item[3]\n",
    "        results_df.loc[index] = [lhs,rhs,support,confidence,lift]\n",
    "        index = index +1"
   ]
  },
  {
   "cell_type": "code",
   "execution_count": 228,
   "metadata": {
    "ExecuteTime": {
     "end_time": "2020-03-31T15:56:06.682480Z",
     "start_time": "2020-03-31T15:56:06.680479Z"
    }
   },
   "outputs": [],
   "source": [
    "results_df = results_df.sort_values(by=\"confidence\",ascending=False)"
   ]
  },
  {
   "cell_type": "code",
   "execution_count": 229,
   "metadata": {
    "ExecuteTime": {
     "end_time": "2020-03-31T15:56:07.051466Z",
     "start_time": "2020-03-31T15:56:07.041464Z"
    },
    "scrolled": true
   },
   "outputs": [
    {
     "data": {
      "text/html": [
       "<div>\n",
       "<style scoped>\n",
       "    .dataframe tbody tr th:only-of-type {\n",
       "        vertical-align: middle;\n",
       "    }\n",
       "\n",
       "    .dataframe tbody tr th {\n",
       "        vertical-align: top;\n",
       "    }\n",
       "\n",
       "    .dataframe thead th {\n",
       "        text-align: right;\n",
       "    }\n",
       "</style>\n",
       "<table border=\"1\" class=\"dataframe\">\n",
       "  <thead>\n",
       "    <tr style=\"text-align: right;\">\n",
       "      <th></th>\n",
       "      <th>lhs</th>\n",
       "      <th>rhs</th>\n",
       "      <th>support</th>\n",
       "      <th>confidence</th>\n",
       "      <th>lift</th>\n",
       "    </tr>\n",
       "  </thead>\n",
       "  <tbody>\n",
       "    <tr>\n",
       "      <td>26</td>\n",
       "      <td></td>\n",
       "      <td>여행</td>\n",
       "      <td>0.423</td>\n",
       "      <td>0.423</td>\n",
       "      <td>1.0</td>\n",
       "    </tr>\n",
       "    <tr>\n",
       "      <td>20</td>\n",
       "      <td></td>\n",
       "      <td>사람</td>\n",
       "      <td>0.410</td>\n",
       "      <td>0.410</td>\n",
       "      <td>1.0</td>\n",
       "    </tr>\n",
       "    <tr>\n",
       "      <td>35</td>\n",
       "      <td></td>\n",
       "      <td>코로나</td>\n",
       "      <td>0.379</td>\n",
       "      <td>0.379</td>\n",
       "      <td>1.0</td>\n",
       "    </tr>\n",
       "    <tr>\n",
       "      <td>25</td>\n",
       "      <td></td>\n",
       "      <td>아침</td>\n",
       "      <td>0.311</td>\n",
       "      <td>0.311</td>\n",
       "      <td>1.0</td>\n",
       "    </tr>\n",
       "    <tr>\n",
       "      <td>15</td>\n",
       "      <td></td>\n",
       "      <td>마음</td>\n",
       "      <td>0.308</td>\n",
       "      <td>0.308</td>\n",
       "      <td>1.0</td>\n",
       "    </tr>\n",
       "    <tr>\n",
       "      <td>13</td>\n",
       "      <td></td>\n",
       "      <td>느낌</td>\n",
       "      <td>0.292</td>\n",
       "      <td>0.292</td>\n",
       "      <td>1.0</td>\n",
       "    </tr>\n",
       "    <tr>\n",
       "      <td>16</td>\n",
       "      <td></td>\n",
       "      <td>맛집</td>\n",
       "      <td>0.290</td>\n",
       "      <td>0.290</td>\n",
       "      <td>1.0</td>\n",
       "    </tr>\n",
       "    <tr>\n",
       "      <td>36</td>\n",
       "      <td></td>\n",
       "      <td>풍경</td>\n",
       "      <td>0.288</td>\n",
       "      <td>0.288</td>\n",
       "      <td>1.0</td>\n",
       "    </tr>\n",
       "    <tr>\n",
       "      <td>10</td>\n",
       "      <td></td>\n",
       "      <td>기분</td>\n",
       "      <td>0.279</td>\n",
       "      <td>0.279</td>\n",
       "      <td>1.0</td>\n",
       "    </tr>\n",
       "    <tr>\n",
       "      <td>19</td>\n",
       "      <td></td>\n",
       "      <td>보니</td>\n",
       "      <td>0.275</td>\n",
       "      <td>0.275</td>\n",
       "      <td>1.0</td>\n",
       "    </tr>\n",
       "    <tr>\n",
       "      <td>34</td>\n",
       "      <td></td>\n",
       "      <td>커피</td>\n",
       "      <td>0.271</td>\n",
       "      <td>0.271</td>\n",
       "      <td>1.0</td>\n",
       "    </tr>\n",
       "    <tr>\n",
       "      <td>11</td>\n",
       "      <td></td>\n",
       "      <td>날씨</td>\n",
       "      <td>0.267</td>\n",
       "      <td>0.267</td>\n",
       "      <td>1.0</td>\n",
       "    </tr>\n",
       "    <tr>\n",
       "      <td>28</td>\n",
       "      <td></td>\n",
       "      <td>요즘</td>\n",
       "      <td>0.264</td>\n",
       "      <td>0.264</td>\n",
       "      <td>1.0</td>\n",
       "    </tr>\n",
       "    <tr>\n",
       "      <td>37</td>\n",
       "      <td></td>\n",
       "      <td>하루</td>\n",
       "      <td>0.257</td>\n",
       "      <td>0.257</td>\n",
       "      <td>1.0</td>\n",
       "    </tr>\n",
       "    <tr>\n",
       "      <td>0</td>\n",
       "      <td></td>\n",
       "      <td>!!</td>\n",
       "      <td>0.256</td>\n",
       "      <td>0.256</td>\n",
       "      <td>1.0</td>\n",
       "    </tr>\n",
       "    <tr>\n",
       "      <td>33</td>\n",
       "      <td></td>\n",
       "      <td>카페</td>\n",
       "      <td>0.252</td>\n",
       "      <td>0.252</td>\n",
       "      <td>1.0</td>\n",
       "    </tr>\n",
       "    <tr>\n",
       "      <td>24</td>\n",
       "      <td></td>\n",
       "      <td>식당</td>\n",
       "      <td>0.246</td>\n",
       "      <td>0.246</td>\n",
       "      <td>1.0</td>\n",
       "    </tr>\n",
       "    <tr>\n",
       "      <td>30</td>\n",
       "      <td></td>\n",
       "      <td>자리</td>\n",
       "      <td>0.244</td>\n",
       "      <td>0.244</td>\n",
       "      <td>1.0</td>\n",
       "    </tr>\n",
       "    <tr>\n",
       "      <td>17</td>\n",
       "      <td></td>\n",
       "      <td>모습</td>\n",
       "      <td>0.240</td>\n",
       "      <td>0.240</td>\n",
       "      <td>1.0</td>\n",
       "    </tr>\n",
       "    <tr>\n",
       "      <td>21</td>\n",
       "      <td></td>\n",
       "      <td>속초</td>\n",
       "      <td>0.239</td>\n",
       "      <td>0.239</td>\n",
       "      <td>1.0</td>\n",
       "    </tr>\n",
       "    <tr>\n",
       "      <td>32</td>\n",
       "      <td></td>\n",
       "      <td>추천</td>\n",
       "      <td>0.236</td>\n",
       "      <td>0.236</td>\n",
       "      <td>1.0</td>\n",
       "    </tr>\n",
       "    <tr>\n",
       "      <td>12</td>\n",
       "      <td></td>\n",
       "      <td>내부</td>\n",
       "      <td>0.236</td>\n",
       "      <td>0.236</td>\n",
       "      <td>1.0</td>\n",
       "    </tr>\n",
       "    <tr>\n",
       "      <td>14</td>\n",
       "      <td></td>\n",
       "      <td>다음</td>\n",
       "      <td>0.233</td>\n",
       "      <td>0.233</td>\n",
       "      <td>1.0</td>\n",
       "    </tr>\n",
       "    <tr>\n",
       "      <td>5</td>\n",
       "      <td></td>\n",
       "      <td>거리</td>\n",
       "      <td>0.231</td>\n",
       "      <td>0.231</td>\n",
       "      <td>1.0</td>\n",
       "    </tr>\n",
       "    <tr>\n",
       "      <td>27</td>\n",
       "      <td></td>\n",
       "      <td>예약</td>\n",
       "      <td>0.230</td>\n",
       "      <td>0.230</td>\n",
       "      <td>1.0</td>\n",
       "    </tr>\n",
       "    <tr>\n",
       "      <td>22</td>\n",
       "      <td></td>\n",
       "      <td>숙소</td>\n",
       "      <td>0.230</td>\n",
       "      <td>0.230</td>\n",
       "      <td>1.0</td>\n",
       "    </tr>\n",
       "    <tr>\n",
       "      <td>2</td>\n",
       "      <td></td>\n",
       "      <td>가격</td>\n",
       "      <td>0.230</td>\n",
       "      <td>0.230</td>\n",
       "      <td>1.0</td>\n",
       "    </tr>\n",
       "    <tr>\n",
       "      <td>6</td>\n",
       "      <td></td>\n",
       "      <td>검색</td>\n",
       "      <td>0.228</td>\n",
       "      <td>0.228</td>\n",
       "      <td>1.0</td>\n",
       "    </tr>\n",
       "    <tr>\n",
       "      <td>3</td>\n",
       "      <td></td>\n",
       "      <td>가지</td>\n",
       "      <td>0.215</td>\n",
       "      <td>0.215</td>\n",
       "      <td>1.0</td>\n",
       "    </tr>\n",
       "    <tr>\n",
       "      <td>1</td>\n",
       "      <td></td>\n",
       "      <td>.com</td>\n",
       "      <td>0.211</td>\n",
       "      <td>0.211</td>\n",
       "      <td>1.0</td>\n",
       "    </tr>\n",
       "    <tr>\n",
       "      <td>31</td>\n",
       "      <td></td>\n",
       "      <td>처음</td>\n",
       "      <td>0.210</td>\n",
       "      <td>0.210</td>\n",
       "      <td>1.0</td>\n",
       "    </tr>\n",
       "    <tr>\n",
       "      <td>9</td>\n",
       "      <td></td>\n",
       "      <td>근처</td>\n",
       "      <td>0.210</td>\n",
       "      <td>0.210</td>\n",
       "      <td>1.0</td>\n",
       "    </tr>\n",
       "    <tr>\n",
       "      <td>29</td>\n",
       "      <td></td>\n",
       "      <td>운영</td>\n",
       "      <td>0.210</td>\n",
       "      <td>0.210</td>\n",
       "      <td>1.0</td>\n",
       "    </tr>\n",
       "    <tr>\n",
       "      <td>23</td>\n",
       "      <td></td>\n",
       "      <td>스팅</td>\n",
       "      <td>0.208</td>\n",
       "      <td>0.208</td>\n",
       "      <td>1.0</td>\n",
       "    </tr>\n",
       "    <tr>\n",
       "      <td>7</td>\n",
       "      <td></td>\n",
       "      <td>공간</td>\n",
       "      <td>0.206</td>\n",
       "      <td>0.206</td>\n",
       "      <td>1.0</td>\n",
       "    </tr>\n",
       "    <tr>\n",
       "      <td>4</td>\n",
       "      <td></td>\n",
       "      <td>개인</td>\n",
       "      <td>0.205</td>\n",
       "      <td>0.205</td>\n",
       "      <td>1.0</td>\n",
       "    </tr>\n",
       "    <tr>\n",
       "      <td>18</td>\n",
       "      <td></td>\n",
       "      <td>바람</td>\n",
       "      <td>0.203</td>\n",
       "      <td>0.203</td>\n",
       "      <td>1.0</td>\n",
       "    </tr>\n",
       "    <tr>\n",
       "      <td>8</td>\n",
       "      <td></td>\n",
       "      <td>구경</td>\n",
       "      <td>0.202</td>\n",
       "      <td>0.202</td>\n",
       "      <td>1.0</td>\n",
       "    </tr>\n",
       "  </tbody>\n",
       "</table>\n",
       "</div>"
      ],
      "text/plain": [
       "   lhs   rhs  support  confidence  lift\n",
       "26        여행    0.423       0.423   1.0\n",
       "20        사람    0.410       0.410   1.0\n",
       "35       코로나    0.379       0.379   1.0\n",
       "25        아침    0.311       0.311   1.0\n",
       "15        마음    0.308       0.308   1.0\n",
       "13        느낌    0.292       0.292   1.0\n",
       "16        맛집    0.290       0.290   1.0\n",
       "36        풍경    0.288       0.288   1.0\n",
       "10        기분    0.279       0.279   1.0\n",
       "19        보니    0.275       0.275   1.0\n",
       "34        커피    0.271       0.271   1.0\n",
       "11        날씨    0.267       0.267   1.0\n",
       "28        요즘    0.264       0.264   1.0\n",
       "37        하루    0.257       0.257   1.0\n",
       "0         !!    0.256       0.256   1.0\n",
       "33        카페    0.252       0.252   1.0\n",
       "24        식당    0.246       0.246   1.0\n",
       "30        자리    0.244       0.244   1.0\n",
       "17        모습    0.240       0.240   1.0\n",
       "21        속초    0.239       0.239   1.0\n",
       "32        추천    0.236       0.236   1.0\n",
       "12        내부    0.236       0.236   1.0\n",
       "14        다음    0.233       0.233   1.0\n",
       "5         거리    0.231       0.231   1.0\n",
       "27        예약    0.230       0.230   1.0\n",
       "22        숙소    0.230       0.230   1.0\n",
       "2         가격    0.230       0.230   1.0\n",
       "6         검색    0.228       0.228   1.0\n",
       "3         가지    0.215       0.215   1.0\n",
       "1       .com    0.211       0.211   1.0\n",
       "31        처음    0.210       0.210   1.0\n",
       "9         근처    0.210       0.210   1.0\n",
       "29        운영    0.210       0.210   1.0\n",
       "23        스팅    0.208       0.208   1.0\n",
       "7         공간    0.206       0.206   1.0\n",
       "4         개인    0.205       0.205   1.0\n",
       "18        바람    0.203       0.203   1.0\n",
       "8         구경    0.202       0.202   1.0"
      ]
     },
     "execution_count": 229,
     "metadata": {},
     "output_type": "execute_result"
    }
   ],
   "source": [
    "results_df"
   ]
  },
  {
   "cell_type": "code",
   "execution_count": null,
   "metadata": {},
   "outputs": [],
   "source": []
  }
 ],
 "metadata": {
  "kernelspec": {
   "display_name": "Python 3",
   "language": "python",
   "name": "python3"
  },
  "language_info": {
   "codemirror_mode": {
    "name": "ipython",
    "version": 3
   },
   "file_extension": ".py",
   "mimetype": "text/x-python",
   "name": "python",
   "nbconvert_exporter": "python",
   "pygments_lexer": "ipython3",
   "version": "3.6.5"
  },
  "varInspector": {
   "cols": {
    "lenName": 16,
    "lenType": 16,
    "lenVar": 40
   },
   "kernels_config": {
    "python": {
     "delete_cmd_postfix": "",
     "delete_cmd_prefix": "del ",
     "library": "var_list.py",
     "varRefreshCmd": "print(var_dic_list())"
    },
    "r": {
     "delete_cmd_postfix": ") ",
     "delete_cmd_prefix": "rm(",
     "library": "var_list.r",
     "varRefreshCmd": "cat(var_dic_list()) "
    }
   },
   "types_to_exclude": [
    "module",
    "function",
    "builtin_function_or_method",
    "instance",
    "_Feature"
   ],
   "window_display": false
  }
 },
 "nbformat": 4,
 "nbformat_minor": 2
}

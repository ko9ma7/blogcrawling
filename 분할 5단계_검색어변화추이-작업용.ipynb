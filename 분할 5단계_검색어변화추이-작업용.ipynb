{
 "cells": [
  {
   "cell_type": "code",
   "execution_count": 32,
   "metadata": {
    "ExecuteTime": {
     "end_time": "2020-06-08T07:26:09.555821Z",
     "start_time": "2020-06-08T07:26:09.552821Z"
    }
   },
   "outputs": [],
   "source": [
    "import pandas as pd\n",
    "import numpy as np\n",
    "import os\n",
    "from tqdm import tqdm, tqdm_notebook,tqdm_pandas\n",
    "import itertools\n",
    "import re\n",
    "import json"
   ]
  },
  {
   "cell_type": "markdown",
   "metadata": {},
   "source": [
    "### sample 강릉"
   ]
  },
  {
   "cell_type": "code",
   "execution_count": 67,
   "metadata": {
    "ExecuteTime": {
     "end_time": "2020-06-08T08:50:30.523944Z",
     "start_time": "2020-06-08T08:50:30.515943Z"
    },
    "code_folding": []
   },
   "outputs": [],
   "source": [
    "def count_word(df, tag, keyword, custom_sw, save_name=\"\", start_year=2010, end_year=2020, gap=1, month=False, months=\"\", save=True):\n",
    "    '''단어가 등장한 횟수를 카운팅하고, 각 연도별 순위변동을 표시\n",
    "    month변수를 사용하여 특정 월별로 데이터 한정 가능\n",
    "\n",
    "    Parameters\n",
    "    ----------\n",
    "        df (dataFrame): DataFrame\n",
    "        tag (string) : 품사지정\n",
    "        costom_sw (dict) : 카운팅에서 제외할 불용어사전\n",
    "        save_name : 저장파일이름\n",
    "        \n",
    "        start_year (int) : 순위변동 확인시 시작할 연도위치\n",
    "        end_year (int) : 순위변동 확인시 마지막 연도위치 \n",
    "        gap (int): 연도별 기간차이 지정\n",
    "        month (bool) : 특정월 추출여부\n",
    "        months (list) : 추출할 월list\n",
    "        save : 파일저장여부\n",
    "       \n",
    "    Returns\n",
    "    -------\n",
    "    vertical_df : DataFrame\n",
    "\n",
    "    '''\n",
    "    \n",
    "    df = df.fillna(\"\")\n",
    "    df['Noun'] = df['Noun'].apply(lambda x : re.sub(\"[\\[\\]' ]\",\"\",x).split(','))\n",
    "    df['Adjective'] = df['Adjective'].apply(lambda x : re.sub(\"[\\[\\]' ]\",\"\",x).split(','))\n",
    "    \n",
    "    #stopword \n",
    "    try :\n",
    "        sw = custom_sw[keyword]\n",
    "    except :\n",
    "        sw = []\n",
    "    \n",
    "    main_df = pd.DataFrame()\n",
    "\n",
    "    if month == True:\n",
    "        df = df[df.month.isin(months)]\n",
    "    for s_year in range(2010, 2020):\n",
    "        word_year_df = df[df['year'] == s_year]\n",
    "\n",
    "        target_df = list(itertools.chain(*word_year_df[tag]))\n",
    "        counted = pd.DataFrame(\n",
    "            pd.Series(target_df).value_counts()).reset_index()\n",
    "        counted.columns = ['name', 'value']\n",
    "\n",
    "        drop_row = counted[counted['name'].isin(sw)].index\n",
    "        counted.drop(drop_row, inplace=True)\n",
    "        counted = counted.head(15)\n",
    "\n",
    "        counted['year'] = s_year\n",
    "        counted['rank'] = counted.value.rank(ascending=False)\n",
    "        main_df = pd.concat([main_df, counted])\n",
    "\n",
    "    # gap\n",
    "    main_df['gap'] = 0\n",
    "    years = []\n",
    "    for one_year in range(start_year, end_year, gap):\n",
    "        years.append(one_year)\n",
    "        names = main_df.loc[(main_df['year'] == one_year), \"name\"].values\n",
    "        for name in names:\n",
    "            try:\n",
    "                new_rank = main_df.loc[(main_df['year'] == one_year) & (\n",
    "                    main_df['name'] == name), 'rank'].values[0]\n",
    "                old_rank = main_df.loc[(\n",
    "                    main_df['year'] == one_year-gap) & (main_df['name'] == name), 'rank'].values[0]\n",
    "                main_df.loc[(main_df['year'] == one_year) & (\n",
    "                    main_df['name'] == name), 'gap'] = old_rank-new_rank\n",
    "            except:\n",
    "                main_df.loc[(main_df['year'] == one_year) & (\n",
    "                    main_df['name'] == name), 'gap'] = \"NEW\"\n",
    "    main_df = main_df[main_df['year'].isin(years)]\n",
    "    main_df.drop('rank', axis=1, inplace=True)\n",
    "    main_df.reset_index(drop = True, inplace = True)\n",
    "    #vertical\n",
    "    vertical_df = pd.DataFrame()\n",
    "    for year in main_df.year.unique():\n",
    "        sperated = main_df[main_df.year == year].reset_index(drop = True)\n",
    "        vertical_df = pd.concat([vertical_df,sperated],axis = 1)\n",
    "\n",
    "    if save == True:\n",
    "        vertical_df.to_csv('./output/연도별카운트/{save_name}.csv'.format(\n",
    "            save_name=save_name), encoding='cp949', index='False')\n",
    "\n",
    "    return vertical_df"
   ]
  },
  {
   "cell_type": "code",
   "execution_count": 58,
   "metadata": {
    "ExecuteTime": {
     "end_time": "2020-06-08T08:48:48.774348Z",
     "start_time": "2020-06-08T08:48:48.771347Z"
    }
   },
   "outputs": [],
   "source": [
    "path = './output/token/이전에해둔거/'\n",
    "file_list = os.listdir(path)"
   ]
  },
  {
   "cell_type": "code",
   "execution_count": 71,
   "metadata": {
    "ExecuteTime": {
     "end_time": "2020-06-08T08:51:08.134141Z",
     "start_time": "2020-06-08T08:51:08.131140Z"
    }
   },
   "outputs": [],
   "source": [
    "#custom_stopword\n",
    "with open('custom_sw.json') as load_file:\n",
    "    custom_sw = json.load(load_file)"
   ]
  },
  {
   "cell_type": "code",
   "execution_count": 72,
   "metadata": {
    "ExecuteTime": {
     "end_time": "2020-06-08T08:51:08.990334Z",
     "start_time": "2020-06-08T08:51:08.988333Z"
    }
   },
   "outputs": [],
   "source": [
    "csv_ls = []\n",
    "for file in file_list:\n",
    "    if os.path.splitext(file)[1] == '.csv':\n",
    "        csv_ls.append(file)"
   ]
  },
  {
   "cell_type": "code",
   "execution_count": 73,
   "metadata": {
    "ExecuteTime": {
     "end_time": "2020-06-08T08:51:09.974556Z",
     "start_time": "2020-06-08T08:51:09.339413Z"
    }
   },
   "outputs": [],
   "source": [
    "#for 돌리면 제외단어가 고정되는 불상사 발생, 딕셔너리 형태로 파일에 따른 스탑워드 지정이 필요할지도 \n",
    "path = './output/token/이전에해둔거/'\n",
    "file = csv_ls[0] # sample\n",
    "all_df = pd.read_csv(path+file)\n",
    "keyword = file.split('_')[0].split('+')[0].replace(' ','')"
   ]
  },
  {
   "cell_type": "code",
   "execution_count": 76,
   "metadata": {
    "ExecuteTime": {
     "end_time": "2020-06-08T08:51:31.059511Z",
     "start_time": "2020-06-08T08:51:29.154194Z"
    }
   },
   "outputs": [
    {
     "data": {
      "text/html": [
       "<div>\n",
       "<style scoped>\n",
       "    .dataframe tbody tr th:only-of-type {\n",
       "        vertical-align: middle;\n",
       "    }\n",
       "\n",
       "    .dataframe tbody tr th {\n",
       "        vertical-align: top;\n",
       "    }\n",
       "\n",
       "    .dataframe thead th {\n",
       "        text-align: right;\n",
       "    }\n",
       "</style>\n",
       "<table border=\"1\" class=\"dataframe\">\n",
       "  <thead>\n",
       "    <tr style=\"text-align: right;\">\n",
       "      <th></th>\n",
       "      <th>name</th>\n",
       "      <th>value</th>\n",
       "      <th>year</th>\n",
       "      <th>gap</th>\n",
       "      <th>name</th>\n",
       "      <th>value</th>\n",
       "      <th>year</th>\n",
       "      <th>gap</th>\n",
       "    </tr>\n",
       "  </thead>\n",
       "  <tbody>\n",
       "    <tr>\n",
       "      <td>0</td>\n",
       "      <td>펜션</td>\n",
       "      <td>3790</td>\n",
       "      <td>2010</td>\n",
       "      <td>NEW</td>\n",
       "      <td>펜션</td>\n",
       "      <td>3180</td>\n",
       "      <td>2012</td>\n",
       "      <td>0</td>\n",
       "    </tr>\n",
       "    <tr>\n",
       "      <td>1</td>\n",
       "      <td>마을</td>\n",
       "      <td>2699</td>\n",
       "      <td>2010</td>\n",
       "      <td>NEW</td>\n",
       "      <td>계곡</td>\n",
       "      <td>2298</td>\n",
       "      <td>2012</td>\n",
       "      <td>2</td>\n",
       "    </tr>\n",
       "    <tr>\n",
       "      <td>2</td>\n",
       "      <td>아이</td>\n",
       "      <td>2259</td>\n",
       "      <td>2010</td>\n",
       "      <td>NEW</td>\n",
       "      <td>아이</td>\n",
       "      <td>2190</td>\n",
       "      <td>2012</td>\n",
       "      <td>0</td>\n",
       "    </tr>\n",
       "    <tr>\n",
       "      <td>3</td>\n",
       "      <td>계곡</td>\n",
       "      <td>2242</td>\n",
       "      <td>2010</td>\n",
       "      <td>NEW</td>\n",
       "      <td>마을</td>\n",
       "      <td>1940</td>\n",
       "      <td>2012</td>\n",
       "      <td>-2</td>\n",
       "    </tr>\n",
       "    <tr>\n",
       "      <td>4</td>\n",
       "      <td>가족</td>\n",
       "      <td>2106</td>\n",
       "      <td>2010</td>\n",
       "      <td>NEW</td>\n",
       "      <td>가족</td>\n",
       "      <td>1739</td>\n",
       "      <td>2012</td>\n",
       "      <td>0</td>\n",
       "    </tr>\n",
       "    <tr>\n",
       "      <td>5</td>\n",
       "      <td>겨울</td>\n",
       "      <td>1714</td>\n",
       "      <td>2010</td>\n",
       "      <td>NEW</td>\n",
       "      <td>축제</td>\n",
       "      <td>1620</td>\n",
       "      <td>2012</td>\n",
       "      <td>NEW</td>\n",
       "    </tr>\n",
       "    <tr>\n",
       "      <td>6</td>\n",
       "      <td>속초</td>\n",
       "      <td>1710</td>\n",
       "      <td>2010</td>\n",
       "      <td>NEW</td>\n",
       "      <td>속초</td>\n",
       "      <td>1601</td>\n",
       "      <td>2012</td>\n",
       "      <td>0</td>\n",
       "    </tr>\n",
       "    <tr>\n",
       "      <td>7</td>\n",
       "      <td>정선</td>\n",
       "      <td>1683</td>\n",
       "      <td>2010</td>\n",
       "      <td>NEW</td>\n",
       "      <td>홍천</td>\n",
       "      <td>1559</td>\n",
       "      <td>2012</td>\n",
       "      <td>NEW</td>\n",
       "    </tr>\n",
       "    <tr>\n",
       "      <td>8</td>\n",
       "      <td>여름</td>\n",
       "      <td>1566</td>\n",
       "      <td>2010</td>\n",
       "      <td>NEW</td>\n",
       "      <td>맛집</td>\n",
       "      <td>1528</td>\n",
       "      <td>2012</td>\n",
       "      <td>NEW</td>\n",
       "    </tr>\n",
       "    <tr>\n",
       "      <td>9</td>\n",
       "      <td>서울</td>\n",
       "      <td>1559</td>\n",
       "      <td>2010</td>\n",
       "      <td>NEW</td>\n",
       "      <td>목장</td>\n",
       "      <td>1485</td>\n",
       "      <td>2012</td>\n",
       "      <td>NEW</td>\n",
       "    </tr>\n",
       "    <tr>\n",
       "      <td>10</td>\n",
       "      <td>춘천</td>\n",
       "      <td>1449</td>\n",
       "      <td>2010</td>\n",
       "      <td>NEW</td>\n",
       "      <td>여름</td>\n",
       "      <td>1477</td>\n",
       "      <td>2012</td>\n",
       "      <td>-2</td>\n",
       "    </tr>\n",
       "    <tr>\n",
       "      <td>11</td>\n",
       "      <td>체험</td>\n",
       "      <td>1429</td>\n",
       "      <td>2010</td>\n",
       "      <td>NEW</td>\n",
       "      <td>영월</td>\n",
       "      <td>1380</td>\n",
       "      <td>2012</td>\n",
       "      <td>NEW</td>\n",
       "    </tr>\n",
       "    <tr>\n",
       "      <td>12</td>\n",
       "      <td>바람</td>\n",
       "      <td>1404</td>\n",
       "      <td>2010</td>\n",
       "      <td>NEW</td>\n",
       "      <td>겨울</td>\n",
       "      <td>1357</td>\n",
       "      <td>2012</td>\n",
       "      <td>-7</td>\n",
       "    </tr>\n",
       "    <tr>\n",
       "      <td>13</td>\n",
       "      <td>코스</td>\n",
       "      <td>1389</td>\n",
       "      <td>2010</td>\n",
       "      <td>NEW</td>\n",
       "      <td>풍경</td>\n",
       "      <td>1342</td>\n",
       "      <td>2012</td>\n",
       "      <td>NEW</td>\n",
       "    </tr>\n",
       "    <tr>\n",
       "      <td>14</td>\n",
       "      <td>자연</td>\n",
       "      <td>1384</td>\n",
       "      <td>2010</td>\n",
       "      <td>NEW</td>\n",
       "      <td>막국수</td>\n",
       "      <td>1321</td>\n",
       "      <td>2012</td>\n",
       "      <td>NEW</td>\n",
       "    </tr>\n",
       "  </tbody>\n",
       "</table>\n",
       "</div>"
      ],
      "text/plain": [
       "   name  value  year  gap name  value  year  gap\n",
       "0    펜션   3790  2010  NEW   펜션   3180  2012    0\n",
       "1    마을   2699  2010  NEW   계곡   2298  2012    2\n",
       "2    아이   2259  2010  NEW   아이   2190  2012    0\n",
       "3    계곡   2242  2010  NEW   마을   1940  2012   -2\n",
       "4    가족   2106  2010  NEW   가족   1739  2012    0\n",
       "5    겨울   1714  2010  NEW   축제   1620  2012  NEW\n",
       "6    속초   1710  2010  NEW   속초   1601  2012    0\n",
       "7    정선   1683  2010  NEW   홍천   1559  2012  NEW\n",
       "8    여름   1566  2010  NEW   맛집   1528  2012  NEW\n",
       "9    서울   1559  2010  NEW   목장   1485  2012  NEW\n",
       "10   춘천   1449  2010  NEW   여름   1477  2012   -2\n",
       "11   체험   1429  2010  NEW   영월   1380  2012  NEW\n",
       "12   바람   1404  2010  NEW   겨울   1357  2012   -7\n",
       "13   코스   1389  2010  NEW   풍경   1342  2012  NEW\n",
       "14   자연   1384  2010  NEW  막국수   1321  2012  NEW"
      ]
     },
     "execution_count": 76,
     "metadata": {},
     "output_type": "execute_result"
    }
   ],
   "source": [
    "count_word(all_df, 'Noun', keyword, custom_sw, gap = 2, save_name = '강원도 2년 gap명사')"
   ]
  },
  {
   "cell_type": "markdown",
   "metadata": {},
   "source": [
    "### 이하작업용"
   ]
  },
  {
   "cell_type": "code",
   "execution_count": 3,
   "metadata": {
    "ExecuteTime": {
     "end_time": "2020-06-02T02:32:04.198644Z",
     "start_time": "2020-06-02T02:31:52.463576Z"
    },
    "scrolled": true
   },
   "outputs": [],
   "source": [
    "all_df = all_df.fillna(\"\")\n",
    "all_df['Noun'] = all_df['Noun'].apply(lambda x : re.sub(\"[\\[\\]' ]\",\"\",x).split(','))\n",
    "all_df['Adjective'] = all_df['Adjective'].apply(lambda x : re.sub(\"[\\[\\]' ]\",\"\",x).split(','))"
   ]
  },
  {
   "cell_type": "code",
   "execution_count": 67,
   "metadata": {
    "ExecuteTime": {
     "end_time": "2020-06-02T05:07:54.852024Z",
     "start_time": "2020-06-02T05:07:45.931788Z"
    }
   },
   "outputs": [],
   "source": [
    "noun_df = count_word(all_df, 'Noun', ['강릉','강릉시','강원'],gap = 2, save_name = '2년 gap명사')\n",
    "adj_df = count_word(all_df, 'Adjective', ['이다'],save_name = '1년 gap형용사')"
   ]
  },
  {
   "cell_type": "code",
   "execution_count": 65,
   "metadata": {
    "ExecuteTime": {
     "end_time": "2020-06-02T03:43:27.081887Z",
     "start_time": "2020-06-02T03:43:25.774738Z"
    }
   },
   "outputs": [],
   "source": [
    "#월[6,7,8] 여름기준\n",
    "vertical_df = count_word(all_df, 'Noun', ['강릉','강릉시','강원','여름','거리'],gap = 1, save_name = '여름 1년gap명사',month = True, months = [6,7,8])"
   ]
  },
  {
   "cell_type": "code",
   "execution_count": 99,
   "metadata": {
    "ExecuteTime": {
     "end_time": "2020-06-02T02:29:26.755589Z",
     "start_time": "2020-06-02T02:29:26.743586Z"
    }
   },
   "outputs": [
    {
     "data": {
      "text/plain": [
       "805     [알바, 뭔가, 강릉, 청주, 강릉, 길이, 요새, 렌즈, 버릇, 중간, 중간, 카...\n",
       "806     [강릉, 한참, 고민, 오야, 지인, 족발, 탕수육, 상호, 연락처, 옴니아, 인터...\n",
       "807     [강릉단오제, 기간, 행사, 강원, 강릉시, 단오, 사당, 정보, 행사, 정보, 방...\n",
       "808     [강릉, 경포대, 정동진, 초당, 순두부, 메뉴판, 동동주, 낚였다, 경포대, 압박...\n",
       "809     [강릉오죽헌, 지정, 번호, 보물, 정일, 강릉시, 죽헌, 조선, 중기, 목조, 건...\n",
       "                              ...                        \n",
       "8192    [겨울, 개인, 사정, 어디, 변변찮, 우연, 여름, 휴가, 인천, 처형, 가족, ...\n",
       "8193    [정동진, 버스, 강릉, 강릉, 버스, 터미널, 택시, 목장, 바람, 분다, 한숨,...\n",
       "8194    [평창, 오대산, 펜션, 오대산, 전나무, 숲길, 월정사, 방아, 다리, 약수터, ...\n",
       "8195    [지역별, 채용정보, 목요일, 모집, 내용, 회사, 나이, 마감, 이노, 검사, 조...\n",
       "8196    [서울, 광화문, 세종, 문화, 회관, 지하철, 호선, 광화문역, 출구, 잠실, 롯...\n",
       "Name: Noun, Length: 1442, dtype: object"
      ]
     },
     "execution_count": 99,
     "metadata": {},
     "output_type": "execute_result"
    }
   ],
   "source": [
    "a = all_df[all_df.month.isin([6,7,8])]\n",
    "a = a[a.year == 2010]\n",
    "a['Noun']"
   ]
  },
  {
   "cell_type": "code",
   "execution_count": 100,
   "metadata": {
    "ExecuteTime": {
     "end_time": "2020-06-02T02:29:28.429966Z",
     "start_time": "2020-06-02T02:29:28.287934Z"
    }
   },
   "outputs": [],
   "source": [
    "target_df = list(itertools.chain(*a['Noun']))\n",
    "counted = pd.DataFrame(\n",
    "    pd.Series(target_df).value_counts()).reset_index()\n",
    "counted.columns = ['name', 'value']"
   ]
  },
  {
   "cell_type": "code",
   "execution_count": 101,
   "metadata": {
    "ExecuteTime": {
     "end_time": "2020-06-02T02:29:30.098342Z",
     "start_time": "2020-06-02T02:29:30.091340Z"
    }
   },
   "outputs": [
    {
     "data": {
      "text/html": [
       "<div>\n",
       "<style scoped>\n",
       "    .dataframe tbody tr th:only-of-type {\n",
       "        vertical-align: middle;\n",
       "    }\n",
       "\n",
       "    .dataframe tbody tr th {\n",
       "        vertical-align: top;\n",
       "    }\n",
       "\n",
       "    .dataframe thead th {\n",
       "        text-align: right;\n",
       "    }\n",
       "</style>\n",
       "<table border=\"1\" class=\"dataframe\">\n",
       "  <thead>\n",
       "    <tr style=\"text-align: right;\">\n",
       "      <th></th>\n",
       "      <th>name</th>\n",
       "      <th>value</th>\n",
       "    </tr>\n",
       "  </thead>\n",
       "  <tbody>\n",
       "    <tr>\n",
       "      <td>0</td>\n",
       "      <td>강릉</td>\n",
       "      <td>2931</td>\n",
       "    </tr>\n",
       "    <tr>\n",
       "      <td>1</td>\n",
       "      <td>서울</td>\n",
       "      <td>1612</td>\n",
       "    </tr>\n",
       "    <tr>\n",
       "      <td>2</td>\n",
       "      <td>마을</td>\n",
       "      <td>1574</td>\n",
       "    </tr>\n",
       "    <tr>\n",
       "      <td>3</td>\n",
       "      <td>강원</td>\n",
       "      <td>1437</td>\n",
       "    </tr>\n",
       "    <tr>\n",
       "      <td>4</td>\n",
       "      <td>계곡</td>\n",
       "      <td>1345</td>\n",
       "    </tr>\n",
       "    <tr>\n",
       "      <td>5</td>\n",
       "      <td>한국</td>\n",
       "      <td>1025</td>\n",
       "    </tr>\n",
       "    <tr>\n",
       "      <td>6</td>\n",
       "      <td>해수욕장</td>\n",
       "      <td>948</td>\n",
       "    </tr>\n",
       "    <tr>\n",
       "      <td>7</td>\n",
       "      <td>동해</td>\n",
       "      <td>907</td>\n",
       "    </tr>\n",
       "    <tr>\n",
       "      <td>8</td>\n",
       "      <td>체험</td>\n",
       "      <td>858</td>\n",
       "    </tr>\n",
       "    <tr>\n",
       "      <td>9</td>\n",
       "      <td>문화</td>\n",
       "      <td>793</td>\n",
       "    </tr>\n",
       "  </tbody>\n",
       "</table>\n",
       "</div>"
      ],
      "text/plain": [
       "   name  value\n",
       "0    강릉   2931\n",
       "1    서울   1612\n",
       "2    마을   1574\n",
       "3    강원   1437\n",
       "4    계곡   1345\n",
       "5    한국   1025\n",
       "6  해수욕장    948\n",
       "7    동해    907\n",
       "8    체험    858\n",
       "9    문화    793"
      ]
     },
     "execution_count": 101,
     "metadata": {},
     "output_type": "execute_result"
    }
   ],
   "source": [
    "counted.head(10)"
   ]
  },
  {
   "cell_type": "code",
   "execution_count": 84,
   "metadata": {
    "ExecuteTime": {
     "end_time": "2020-06-02T02:27:16.426389Z",
     "start_time": "2020-06-02T02:27:16.424388Z"
    }
   },
   "outputs": [],
   "source": [
    "stopword = ['강릉','강릉시','강원']"
   ]
  },
  {
   "cell_type": "code",
   "execution_count": 90,
   "metadata": {
    "ExecuteTime": {
     "end_time": "2020-06-02T02:27:53.196675Z",
     "start_time": "2020-06-02T02:27:53.176671Z"
    }
   },
   "outputs": [
    {
     "name": "stderr",
     "output_type": "stream",
     "text": [
      "C:\\Users\\User\\Anaconda3\\lib\\site-packages\\ipykernel_launcher.py:5: SettingWithCopyWarning: \n",
      "A value is trying to be set on a copy of a slice from a DataFrame.\n",
      "Try using .loc[row_indexer,col_indexer] = value instead\n",
      "\n",
      "See the caveats in the documentation: http://pandas.pydata.org/pandas-docs/stable/user_guide/indexing.html#returning-a-view-versus-a-copy\n",
      "  \"\"\"\n",
      "C:\\Users\\User\\Anaconda3\\lib\\site-packages\\ipykernel_launcher.py:6: SettingWithCopyWarning: \n",
      "A value is trying to be set on a copy of a slice from a DataFrame.\n",
      "Try using .loc[row_indexer,col_indexer] = value instead\n",
      "\n",
      "See the caveats in the documentation: http://pandas.pydata.org/pandas-docs/stable/user_guide/indexing.html#returning-a-view-versus-a-copy\n",
      "  \n"
     ]
    },
    {
     "ename": "NameError",
     "evalue": "name 'main_df' is not defined",
     "output_type": "error",
     "traceback": [
      "\u001b[1;31m---------------------------------------------------------------------------\u001b[0m",
      "\u001b[1;31mNameError\u001b[0m                                 Traceback (most recent call last)",
      "\u001b[1;32m<ipython-input-90-0e5e3aa4130c>\u001b[0m in \u001b[0;36m<module>\u001b[1;34m()\u001b[0m\n\u001b[0;32m      5\u001b[0m \u001b[0mcounted\u001b[0m\u001b[1;33m[\u001b[0m\u001b[1;34m'year'\u001b[0m\u001b[1;33m]\u001b[0m \u001b[1;33m=\u001b[0m \u001b[0ms_year\u001b[0m\u001b[1;33m\u001b[0m\u001b[0m\n\u001b[0;32m      6\u001b[0m \u001b[0mcounted\u001b[0m\u001b[1;33m[\u001b[0m\u001b[1;34m'rank'\u001b[0m\u001b[1;33m]\u001b[0m \u001b[1;33m=\u001b[0m \u001b[0mcounted\u001b[0m\u001b[1;33m.\u001b[0m\u001b[0mvalue\u001b[0m\u001b[1;33m.\u001b[0m\u001b[0mrank\u001b[0m\u001b[1;33m(\u001b[0m\u001b[0mascending\u001b[0m\u001b[1;33m=\u001b[0m\u001b[1;32mFalse\u001b[0m\u001b[1;33m)\u001b[0m\u001b[1;33m\u001b[0m\u001b[0m\n\u001b[1;32m----> 7\u001b[1;33m \u001b[0mmain_df\u001b[0m \u001b[1;33m=\u001b[0m \u001b[0mpd\u001b[0m\u001b[1;33m.\u001b[0m\u001b[0mconcat\u001b[0m\u001b[1;33m(\u001b[0m\u001b[1;33m[\u001b[0m\u001b[0mmain_df\u001b[0m\u001b[1;33m,\u001b[0m \u001b[0mcounted\u001b[0m\u001b[1;33m]\u001b[0m\u001b[1;33m)\u001b[0m\u001b[1;33m\u001b[0m\u001b[0m\n\u001b[0m",
      "\u001b[1;31mNameError\u001b[0m: name 'main_df' is not defined"
     ]
    }
   ],
   "source": [
    "drop_row = counted[counted['name'].isin(stopword)].index\n",
    "counted.drop(drop_row, inplace=True)\n",
    "counted = counted.head(15)\n",
    "\n",
    "counted['year'] = s_year\n",
    "counted['rank'] = counted.value.rank(ascending=False)\n",
    "# main_df = pd.concat([main_df, counted])"
   ]
  },
  {
   "cell_type": "code",
   "execution_count": 91,
   "metadata": {
    "ExecuteTime": {
     "end_time": "2020-06-02T02:28:00.890591Z",
     "start_time": "2020-06-02T02:28:00.871587Z"
    }
   },
   "outputs": [
    {
     "data": {
      "text/html": [
       "<div>\n",
       "<style scoped>\n",
       "    .dataframe tbody tr th:only-of-type {\n",
       "        vertical-align: middle;\n",
       "    }\n",
       "\n",
       "    .dataframe tbody tr th {\n",
       "        vertical-align: top;\n",
       "    }\n",
       "\n",
       "    .dataframe thead th {\n",
       "        text-align: right;\n",
       "    }\n",
       "</style>\n",
       "<table border=\"1\" class=\"dataframe\">\n",
       "  <thead>\n",
       "    <tr style=\"text-align: right;\">\n",
       "      <th></th>\n",
       "      <th>name</th>\n",
       "      <th>value</th>\n",
       "      <th>year</th>\n",
       "      <th>rank</th>\n",
       "    </tr>\n",
       "  </thead>\n",
       "  <tbody>\n",
       "    <tr>\n",
       "      <td>1</td>\n",
       "      <td>마을</td>\n",
       "      <td>1402</td>\n",
       "      <td>2010</td>\n",
       "      <td>1.0</td>\n",
       "    </tr>\n",
       "    <tr>\n",
       "      <td>2</td>\n",
       "      <td>커피</td>\n",
       "      <td>1249</td>\n",
       "      <td>2010</td>\n",
       "      <td>2.0</td>\n",
       "    </tr>\n",
       "    <tr>\n",
       "      <td>3</td>\n",
       "      <td>평창</td>\n",
       "      <td>1198</td>\n",
       "      <td>2010</td>\n",
       "      <td>3.0</td>\n",
       "    </tr>\n",
       "    <tr>\n",
       "      <td>4</td>\n",
       "      <td>서울</td>\n",
       "      <td>1056</td>\n",
       "      <td>2010</td>\n",
       "      <td>4.0</td>\n",
       "    </tr>\n",
       "    <tr>\n",
       "      <td>5</td>\n",
       "      <td>코스</td>\n",
       "      <td>1010</td>\n",
       "      <td>2010</td>\n",
       "      <td>5.0</td>\n",
       "    </tr>\n",
       "    <tr>\n",
       "      <td>7</td>\n",
       "      <td>이야기</td>\n",
       "      <td>998</td>\n",
       "      <td>2010</td>\n",
       "      <td>6.0</td>\n",
       "    </tr>\n",
       "    <tr>\n",
       "      <td>8</td>\n",
       "      <td>펜션</td>\n",
       "      <td>978</td>\n",
       "      <td>2010</td>\n",
       "      <td>7.0</td>\n",
       "    </tr>\n",
       "    <tr>\n",
       "      <td>9</td>\n",
       "      <td>한국</td>\n",
       "      <td>894</td>\n",
       "      <td>2010</td>\n",
       "      <td>8.0</td>\n",
       "    </tr>\n",
       "    <tr>\n",
       "      <td>10</td>\n",
       "      <td>해수욕장</td>\n",
       "      <td>880</td>\n",
       "      <td>2010</td>\n",
       "      <td>9.0</td>\n",
       "    </tr>\n",
       "    <tr>\n",
       "      <td>11</td>\n",
       "      <td>동해</td>\n",
       "      <td>863</td>\n",
       "      <td>2010</td>\n",
       "      <td>10.0</td>\n",
       "    </tr>\n",
       "    <tr>\n",
       "      <td>12</td>\n",
       "      <td>계곡</td>\n",
       "      <td>843</td>\n",
       "      <td>2010</td>\n",
       "      <td>11.0</td>\n",
       "    </tr>\n",
       "    <tr>\n",
       "      <td>13</td>\n",
       "      <td>여름</td>\n",
       "      <td>799</td>\n",
       "      <td>2010</td>\n",
       "      <td>12.0</td>\n",
       "    </tr>\n",
       "    <tr>\n",
       "      <td>14</td>\n",
       "      <td>거리</td>\n",
       "      <td>765</td>\n",
       "      <td>2010</td>\n",
       "      <td>13.0</td>\n",
       "    </tr>\n",
       "    <tr>\n",
       "      <td>15</td>\n",
       "      <td>문화</td>\n",
       "      <td>759</td>\n",
       "      <td>2010</td>\n",
       "      <td>14.0</td>\n",
       "    </tr>\n",
       "    <tr>\n",
       "      <td>16</td>\n",
       "      <td>정선</td>\n",
       "      <td>720</td>\n",
       "      <td>2010</td>\n",
       "      <td>15.0</td>\n",
       "    </tr>\n",
       "  </tbody>\n",
       "</table>\n",
       "</div>"
      ],
      "text/plain": [
       "    name  value  year  rank\n",
       "1     마을   1402  2010   1.0\n",
       "2     커피   1249  2010   2.0\n",
       "3     평창   1198  2010   3.0\n",
       "4     서울   1056  2010   4.0\n",
       "5     코스   1010  2010   5.0\n",
       "7    이야기    998  2010   6.0\n",
       "8     펜션    978  2010   7.0\n",
       "9     한국    894  2010   8.0\n",
       "10  해수욕장    880  2010   9.0\n",
       "11    동해    863  2010  10.0\n",
       "12    계곡    843  2010  11.0\n",
       "13    여름    799  2010  12.0\n",
       "14    거리    765  2010  13.0\n",
       "15    문화    759  2010  14.0\n",
       "16    정선    720  2010  15.0"
      ]
     },
     "execution_count": 91,
     "metadata": {},
     "output_type": "execute_result"
    }
   ],
   "source": [
    "counted"
   ]
  },
  {
   "cell_type": "code",
   "execution_count": null,
   "metadata": {},
   "outputs": [],
   "source": []
  }
 ],
 "metadata": {
  "kernelspec": {
   "display_name": "Python 3",
   "language": "python",
   "name": "python3"
  },
  "language_info": {
   "codemirror_mode": {
    "name": "ipython",
    "version": 3
   },
   "file_extension": ".py",
   "mimetype": "text/x-python",
   "name": "python",
   "nbconvert_exporter": "python",
   "pygments_lexer": "ipython3",
   "version": "3.6.5"
  }
 },
 "nbformat": 4,
 "nbformat_minor": 2
}

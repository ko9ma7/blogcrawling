{
 "cells": [
  {
   "cell_type": "markdown",
   "metadata": {},
   "source": [
    "# 목적\n",
    "* 블로그 내용을 긁어와서 연관분석 진행\n",
    "1. keyword관련 블로그 크롤링 \n",
    "    정확도 기준으로 긁어오되 날짜도 같이 가져와서 나중 어떤 날짜에 집중되어 있는지 확인\n",
    "    한 블로그당 단어빈도수 분석(필요할까)\n",
    "2. 블로그 내 단어 토크나이즈하고 \n",
    "3. 연관분석실시\n"
   ]
  },
  {
   "cell_type": "code",
   "execution_count": 3,
   "metadata": {
    "ExecuteTime": {
     "end_time": "2020-03-31T13:07:06.903494Z",
     "start_time": "2020-03-31T13:07:02.287226Z"
    }
   },
   "outputs": [
    {
     "name": "stdout",
     "output_type": "stream",
     "text": [
      "Collecting apyori\n",
      "  Downloading apyori-1.1.2.tar.gz (8.6 kB)\n",
      "Building wheels for collected packages: apyori\n",
      "  Building wheel for apyori (setup.py): started\n",
      "  Building wheel for apyori (setup.py): finished with status 'done'\n",
      "  Created wheel for apyori: filename=apyori-1.1.2-py3-none-any.whl size=5984 sha256=5235bb621f4450c8a0ed214694dd194b7f3b0f6a4cf1cb568b9531188bd48e80\n",
      "  Stored in directory: c:\\users\\try00\\appdata\\local\\pip\\cache\\wheels\\47\\6f\\0f\\21a86f3679f7ed6bbe4dc6694f86818c5d85c2044bfab0f1e8\n",
      "Successfully built apyori\n",
      "Installing collected packages: apyori\n",
      "Successfully installed apyori-1.1.2\n"
     ]
    }
   ],
   "source": [
    "# # 선행설치\n",
    "# !pip install beautifulsoup4\n",
    "# !pip install requests\n",
    "# !pip install lxm\n",
    "# # 연관분석\n",
    "# !pip install apyori\n",
    "# # 자연어처리\n",
    "# !pip install konlpy (JDK 설치가 되어있어야함 )"
   ]
  },
  {
   "cell_type": "code",
   "execution_count": 16,
   "metadata": {
    "ExecuteTime": {
     "end_time": "2020-03-31T14:16:47.479994Z",
     "start_time": "2020-03-31T14:16:46.633805Z"
    }
   },
   "outputs": [],
   "source": [
    "import re\n",
    "import json\n",
    "import math\n",
    "import datetime\n",
    "import pandas as pd\n",
    "\n",
    "import requests\n",
    "import urllib.request\n",
    "import urllib.error\n",
    "import urllib.parse\n",
    "from bs4 import BeautifulSoup #크롤링\n",
    "\n",
    "import konlpy\n",
    "from konlpy.tag import Komoran #자연어처리\n",
    "komoran = Komoran(userdic='./user_dictionary.txt')\n",
    "\n",
    "from apyori import apriori #연관분석\n",
    "from tqdm import tqdm_notebook #진행과정 시각화 "
   ]
  },
  {
   "cell_type": "code",
   "execution_count": 5,
   "metadata": {
    "ExecuteTime": {
     "end_time": "2020-03-31T13:07:16.473831Z",
     "start_time": "2020-03-31T13:07:16.471830Z"
    }
   },
   "outputs": [],
   "source": [
    "#페이지 카운트 수로 api호출된다\n",
    "#1,000개일때 3분 \n",
    "#100*100개 만개의 경우 \"비정상적인 트래픽을 감지\"해서 오류걸림 \n",
    "naver_client_id = \"uG5V8KhGUcRmRCtBzj7d\"\n",
    "naver_client_secret = \"6MkFrc1bUG\"\n",
    "keyword = '양양'\n",
    "display_count = 10\n",
    "page_count = 200\n",
    "sort_type = 'sim'"
   ]
  },
  {
   "cell_type": "code",
   "execution_count": 212,
   "metadata": {
    "ExecuteTime": {
     "end_time": "2020-03-31T08:52:54.832380Z",
     "start_time": "2020-03-31T08:52:54.823378Z"
    },
    "code_folding": []
   },
   "outputs": [],
   "source": [
    "def get_blog_post(keyword, display_count, page_count, sort_type,save = True):\n",
    "    '''\n",
    "    keyword : 검색하고 싶은 키워드\n",
    "    display_count : 한 페이지당 표출할 개수 min = 10, max = 100\n",
    "    page_count : 총 진행할 페이지의 수 min = 1, max = 1000\n",
    "    sort_type : 정렬옵션 \"sim\" (유사도순), \"date\" (날짜순)\n",
    "    ''' \n",
    "    #날짜와 본문내용 저장\n",
    "    postdates = []\n",
    "    strings = []\n",
    "    urls = []\n",
    "    titles = []\n",
    "    blogger_names = []\n",
    "    \n",
    "    encode_keyword = urllib.parse.quote(keyword)\n",
    "    # get_blog_search_result_pagination_count로 처리할 수있는 페이지수를 1부터 페이지수까지 까지 각각 하나씩 긁어옴 \n",
    "    for i in tqdm_notebook(range(1, page_count + 1),desc = \"page work\"):\n",
    "        url = \"https://openapi.naver.com/v1/search/blog?query=\" + encode_keyword + \"&display=\" + str(\n",
    "            display_count) + \"&start=\" + str(i) + \"&sort=\" + sort_type\n",
    "\n",
    "        request = urllib.request.Request(url)\n",
    "\n",
    "        request.add_header(\"X-Naver-Client-Id\", naver_client_id)\n",
    "        request.add_header(\"X-Naver-Client-Secret\", naver_client_secret)\n",
    "\n",
    "        response = urllib.request.urlopen(request)\n",
    "        response_code = response.getcode()\n",
    "         \n",
    "        if response_code is 200:\n",
    "            response_body = response.read()\n",
    "            response_body_dict = json.loads(response_body.decode('utf-8'))\n",
    "        #items의 개수만큼씩 진행\n",
    "            for j in range(0, len(response_body_dict['items'])):\n",
    "                blog_post_url = response_body_dict['items'][j]['link'].replace(\"amp;\", \"\")\n",
    "                urls.append(blog_post_url)\n",
    "                #블로그 url안에 들어가기(아직 크롤링불가)\n",
    "                get_blog_post_content_code = requests.get(blog_post_url)\n",
    "                get_blog_post_content_text = get_blog_post_content_code.text\n",
    "                get_blog_post_content_soup = BeautifulSoup(get_blog_post_content_text, 'lxml')\n",
    "                #크롤링가능한 url에 접속\n",
    "                real_blog_post_url = \"http://blog.naver.com\" + get_blog_post_content_soup.select('#mainFrame')[0].get('src')\n",
    "                get_real_blog_post_content_code = requests.get(real_blog_post_url)\n",
    "                get_real_blog_post_content_text = get_real_blog_post_content_code.text\n",
    "                get_real_blog_post_content_soup = BeautifulSoup(get_real_blog_post_content_text, 'lxml')\n",
    "                #본문부분 추출 \n",
    "                blog_post_content = get_real_blog_post_content_soup.select('div#postViewArea')\n",
    "                if len(blog_post_content) == 0:\n",
    "                    blog_post_content = get_real_blog_post_content_soup.select('div.se-main-container')\n",
    "\n",
    "                #전체 텍스트 \n",
    "                string = \"\"\n",
    "                for sentence in blog_post_content[0].stripped_strings:\n",
    "                    string += \" \"+sentence.replace('\\xa0',\" \")\n",
    "                #공백제거 \n",
    "                string = string.replace('\\u200b',\" \")\n",
    "                string = string.replace('\\n',\" \")\n",
    "                string = string.replace('😑','')\n",
    "                strings.append([string]) \n",
    "\n",
    "                #포스트날짜\n",
    "                postdate = datetime.datetime.strptime(response_body_dict['items'][j]['postdate'],\"%Y%m%d\").strftime(\"%y.%m.%d\")\n",
    "                postdates.append(postdate)\n",
    "                \n",
    "                #제목\n",
    "                remove_html_tag = re.compile('<.*?>')\n",
    "                title = re.sub(remove_html_tag, '', response_body_dict['items'][j]['title'])\n",
    "                titles.append(title)\n",
    "                \n",
    "                #블로거이름\n",
    "                blogger_name = response_body_dict['items'][j]['bloggername']\n",
    "                blogger_names.append(blogger_name)\n",
    "                \n",
    "    # utf-8형식으로 저장하면 엑셀에서 열때 에러나지만, load는 가능\n",
    "    if save == True:\n",
    "        crawling_df = pd.DataFrame({\"post_dates\":postdates, \"title\":titles, \"blogger_name\":blogger_names, \"full_text\":strings, \"url\":urls})\n",
    "        crawling_df.to_csv(keyword+\"_\"+str(display_count* page_count)+\".csv\",encoding='utf-8',index= False)\n",
    "    return crawling_df"
   ]
  },
  {
   "cell_type": "code",
   "execution_count": 213,
   "metadata": {
    "ExecuteTime": {
     "end_time": "2020-03-31T09:06:40.211322Z",
     "start_time": "2020-03-31T08:52:56.246143Z"
    }
   },
   "outputs": [
    {
     "name": "stderr",
     "output_type": "stream",
     "text": [
      "C:\\Users\\User\\Anaconda3\\lib\\site-packages\\ipykernel_launcher.py:16: TqdmDeprecationWarning: This function will be removed in tqdm==5.0.0\n",
      "Please use `tqdm.notebook.tqdm` instead of `tqdm.tqdm_notebook`\n",
      "  app.launch_new_instance()\n"
     ]
    },
    {
     "data": {
      "application/vnd.jupyter.widget-view+json": {
       "model_id": "be6c7f5f55134221819f759d58c51eac",
       "version_major": 2,
       "version_minor": 0
      },
      "text/plain": [
       "HBox(children=(FloatProgress(value=0.0, description='page work', style=ProgressStyle(description_width='initia…"
      ]
     },
     "metadata": {},
     "output_type": "display_data"
    },
    {
     "ename": "IndexError",
     "evalue": "list index out of range",
     "output_type": "error",
     "traceback": [
      "\u001b[1;31m---------------------------------------------------------------------------\u001b[0m",
      "\u001b[1;31mIndexError\u001b[0m                                Traceback (most recent call last)",
      "\u001b[1;32m<ipython-input-213-9f53351215b8>\u001b[0m in \u001b[0;36m<module>\u001b[1;34m()\u001b[0m\n\u001b[1;32m----> 1\u001b[1;33m \u001b[0mcrawling_df\u001b[0m \u001b[1;33m=\u001b[0m \u001b[0mget_blog_post\u001b[0m\u001b[1;33m(\u001b[0m\u001b[0mkeyword\u001b[0m\u001b[1;33m,\u001b[0m \u001b[0mdisplay_count\u001b[0m\u001b[1;33m,\u001b[0m \u001b[0mpage_count\u001b[0m\u001b[1;33m,\u001b[0m \u001b[0msort_type\u001b[0m\u001b[1;33m)\u001b[0m\u001b[1;33m\u001b[0m\u001b[0m\n\u001b[0m",
      "\u001b[1;32m<ipython-input-212-e8e497e3e70f>\u001b[0m in \u001b[0;36mget_blog_post\u001b[1;34m(keyword, display_count, page_count, sort_type, save)\u001b[0m\n\u001b[0;32m     38\u001b[0m                 \u001b[0mget_blog_post_content_soup\u001b[0m \u001b[1;33m=\u001b[0m \u001b[0mBeautifulSoup\u001b[0m\u001b[1;33m(\u001b[0m\u001b[0mget_blog_post_content_text\u001b[0m\u001b[1;33m,\u001b[0m \u001b[1;34m'lxml'\u001b[0m\u001b[1;33m)\u001b[0m\u001b[1;33m\u001b[0m\u001b[0m\n\u001b[0;32m     39\u001b[0m                 \u001b[1;31m#크롤링가능한 url에 접속\u001b[0m\u001b[1;33m\u001b[0m\u001b[1;33m\u001b[0m\u001b[0m\n\u001b[1;32m---> 40\u001b[1;33m                 \u001b[0mreal_blog_post_url\u001b[0m \u001b[1;33m=\u001b[0m \u001b[1;34m\"http://blog.naver.com\"\u001b[0m \u001b[1;33m+\u001b[0m \u001b[0mget_blog_post_content_soup\u001b[0m\u001b[1;33m.\u001b[0m\u001b[0mselect\u001b[0m\u001b[1;33m(\u001b[0m\u001b[1;34m'#mainFrame'\u001b[0m\u001b[1;33m)\u001b[0m\u001b[1;33m[\u001b[0m\u001b[1;36m0\u001b[0m\u001b[1;33m]\u001b[0m\u001b[1;33m.\u001b[0m\u001b[0mget\u001b[0m\u001b[1;33m(\u001b[0m\u001b[1;34m'src'\u001b[0m\u001b[1;33m)\u001b[0m\u001b[1;33m\u001b[0m\u001b[0m\n\u001b[0m\u001b[0;32m     41\u001b[0m                 \u001b[0mget_real_blog_post_content_code\u001b[0m \u001b[1;33m=\u001b[0m \u001b[0mrequests\u001b[0m\u001b[1;33m.\u001b[0m\u001b[0mget\u001b[0m\u001b[1;33m(\u001b[0m\u001b[0mreal_blog_post_url\u001b[0m\u001b[1;33m)\u001b[0m\u001b[1;33m\u001b[0m\u001b[0m\n\u001b[0;32m     42\u001b[0m                 \u001b[0mget_real_blog_post_content_text\u001b[0m \u001b[1;33m=\u001b[0m \u001b[0mget_real_blog_post_content_code\u001b[0m\u001b[1;33m.\u001b[0m\u001b[0mtext\u001b[0m\u001b[1;33m\u001b[0m\u001b[0m\n",
      "\u001b[1;31mIndexError\u001b[0m: list index out of range"
     ]
    }
   ],
   "source": [
    "crawling_df = get_blog_post(keyword, display_count, page_count, sort_type)"
   ]
  },
  {
   "cell_type": "code",
   "execution_count": 174,
   "metadata": {
    "ExecuteTime": {
     "end_time": "2020-03-31T15:24:27.046091Z",
     "start_time": "2020-03-31T15:24:27.043083Z"
    }
   },
   "outputs": [
    {
     "data": {
      "text/plain": [
       "'[\" 오늘은 양양 서핑 으로 동해에서 가장 핫한 서핑샵 플리즈웨잇서프를 소개해 드리려고 해요! 양양은 강원도 내에서도 많이 유명한 지역이죠! 서퍼들이 많이 모이면서 동네 자체가 아주 힙하고 독특한 분위기에요. 제가 다녀온 곳은 양양 인구해변에 있는 플리즈웨잇 서프 입니다!   패키지 숙박이용 - 양양 솔게하 입실 PM 04:00 / 퇴실 AM 11:00 플리즈웨잇서프에 자주 방문을 하는 분들은 양양 서핑 과 강습 파티까지 패키지로 한꺼번에 즐기기 위해 오는 분들이 많다고 해요. 저 또한 패키지로 예약하고 연계 되어있는 솔게하 도미토리를 이용했어요. 양양 솔게하 도미토리 솔게하의 자랑거리는 전객실이 오션뷰였어요. 인구해변 바로 앞에 있는 건물에 위치해있어 객실에 들어가자마 멋진 바다를 함께 할 수 있었어요. 작은 고추가 맵다는 말이 있잖아요! 도미토리인데도 정말 좋았어요. 드라이기,고데기,화장대 다 있습니다! 굳이 챙겨안와도 되요. 흰 타일바닥으로 되어있어 청결한 느낌을 받을 수 있었어요. 내부 안에서 찍은 뷰인데 너무 아름답지 않나요? 사장님께서도 작은방도 신경을 쓴것을 느낄 수 있었어요. 입실을 하게 되면 1인당 수건과 칫솔 귀마개 주세요. 파티 참석을 할 경우 1차 바베큐파티 팔찌 2차 펍파티용 나눠서 주시는데 잃어버리지 않도록 주의하셔야해요! 혹시 몰라 저는 받자마자 손에 끼어놨어요. 도미토리는 콘센트가 부족할경우 불편하잖아요. 이곳은 침대마다 배치가 되어있어 걱정없이 사용을 할 수 있었어요. 객실에도 있고 화장실 등등 많아 모르는분과 함께 쓰게 되도 얼굴 붉힐일이 없을 것 같아 개인적으로 좋았어요. 건물이 7층까지 되어있어 엘레베이터도 있었어요. 캐리어를 들고 갔었는데 짐을 들고 올라가기 편했어요 ※주의사항&꿀팁※ 솔게하 도미토리 입실 시간은 오후 4시에요~! 입실 당일 양양 서핑 을 하러 바로 바다에 가시는 분들이 많으신데 공용샤워장에서 씻고 오셔야 체크인 가능! 짐은 로비에 맡길 수 있다고 해요 \\'플리즈웨잇서프 서핑강습\\' 서핑강습은 로비에 시간 맞춰 가면 받을 수 있어요. 사진속 로비에서 출석체크를 한 후 강습이 시작이 되는데 한분이 늦에 오셨는데 11시 정각을 되니 시간 약속을 맞춰 오신분들을 위해 바로 시작을 하셨어요. 후기를 보니 바로 진행을 한다고 하던데 미리 가있길 잘했다 싶었어요.   양양 서핑 로비에서 간단한 영상을 보면서 양양 서핑 이론강습을 받았어요. 후에 강사님 인솔하에 슈트를 착용을 하고 서핑을 즐길 수 있는 바다로 나가게 되었어요. 모래사장에서 패들링 동작과 테이크오프를 배운 후에 연습시간을 갖었어요. 받은 강습과 연습들이 물 속에서 실력발휘에 중요한 역할을 하더라고요. 버벅거리지 않을 수 있게 도움을 줬었던 것 같아요. 들어가면 강사님이 순서대로 파도에 맞춰 밀어주세요. 업! 하는 소리에 맞춰 연습을 했던 테이크오프를 하면 되는데 처음엔 균형을 맞추기 어렵더라고요. 그래도 강사님이 잘 가르쳐주신덕에 2번만에 파도를 타고 올라갈 수 있었어요. 바다에서 보드를 타는것이 정말 짜릿하더라고요.   양양 서핑이 끝난 후에 자유시간을 갖을 수 있었어요. 저는 2시간정도 타니 체력방전으로 포기! 물에 나와 바로 씻고 체크인을 했어요. 그리고 방에서 쉬고 주변을 돌아다녔어요. 양리단길 주변엔 카페,맛집들이 많아 휴양목적으로 오길 잘했다 싶었어요. 커피 사서 좋은공기 마시면서 산책을 하고 수다를 떠니 스트레스가 확 풀리더라고요.   바베큐 파티는 7시30분에 시작을 해요. 성수기엔 줄이 길 수도 있으니 미리 내려와서 기다리는것이 좋다고 하더라고요. 팔찌를 확인을 한 후 입장을 할 수 있는데 영상에서 보는것과 같이 다양한 음식과 고기를 즐길 수 있어 좋았어요. 음식들은 무제한으로 이용을 할 수 있었어요. 미니게임부터 레크레이션까지 완벽하게 준비가 되어있었어요. 모르는 분들과 함께 하는 자리에서도 금방 친해질 수 있었고 바베큐 음식들을 계속 리필을 해서 먹으면서 자연스럽게 이야기를 나누면서 함께하니 재미있더라고요.   일부는 로비에서 그리고 뒷마당 동시에 진행을 했었어요. 화장실을 가려다가 보게 되었는데 앞 뒤로 엄청 많이 신났더라고요.   양양 서핑 바베큐파티는 10시까지 이후엔 패키지 불포함이에요. 추가 신청을 하면 펍파티까지 열린다고 하더라고요. 저는 오늘 신나게 즐길기 위해 미리 신청을 해놨어요! 주말이라 펍크롤파티가 열렸더라고요. 펍파티 펍크롤파티 차이가 궁금했었어요. 제가 이해한 대로 한번 설명을 드려볼게요. 두개 다 바베큐 이후에 진행이 되고 진토닉,스크류드라이버,생맥주 무제한 제공은 똑같아요. 근데 펍파티는 플리즈웨잇에서 진행을 하고 크롤파티는 양리단길 전체펍에서 한다고 하더라고요. 다양한 공연도 보고 분위기 다른 펍을 돌아다니면서 즐길 수 있었어요. 바다에서 양양 서핑 과 자유로운 분위기 외국 여행지에 온 느낌을 받을 수 있었어요. 서울에서 2시간 반이면 오는 강원도에서 스트레스를 확 풀 수 있으니 즐겁더라고요.   보컬분께서 음색이 좋은 목소리로 노래를 불러주시는데 귀가 호강을 한듯한 느낌을 받을 수 있었어요. 양양 서핑 처음으로 이렇게 즐겁고 자유로운 느낌을 받을 수 있었어요. 취향대로 골라서 파티를 갈 수 있었고 서핑을 같이 한 분들과 술을 마시니 재미있더라고요.   양양 솔게하 퇴실시간은 11시. 조식을 먹기 위해 9시에 기상을 했거든요. 걸어서 3분 정도 위치한 설렁탕집인데 해장을 하기 딱 좋았어요! 다음날 아침메뉴가 센스있더라고요.   인구해변의 경치가 끝내주지 않나요? 하루 밖에 묵지는 않았는데 제일 즐거웠었어요. 좋은 기억과 추억을 만든 낭만의 해변이라는 생각이 들었네요. 서핑 입문과 좋은 인연을 만들어준 플리즈웨잇서프 재방문의사 100% 이웃님들 우리 이곳에서 같이 즐겁게 즐겨봐요!   플리즈웨잇서프 강원도 양양군 현남면 인구리 635-5 네이버 예약 :: 플리즈웨잇서프 네이버예약 이용 불가시 www.yyroad.co.kr 에서 예약가능합니다.  양양 서핑해변 양리단길의 서핑샵, 플리즈웨잇서프  양양 서핑의 중심인 인구해수욕장 바로 앞에 위치한 바다가 보이는 서핑샵,한번도 서핑해보지 않은 입문자들을 위한 쌩초보 입문강습을 전문으로 진행해요! 수심이 얕고 초보서퍼들이 즐기기위한 최적의 해변, 인구해변에서 안전하고 즐겁게 서핑에 입문해봅시다^^!   플리즈웨잇서프의 서핑,숙박,파티,셔틀버스의 모든 예약은 네이버예약 혹은 공식예약 사이트에서 예약 가능합니다.  서핑강습 진행안내 -오전 9시/ 11시 오후... booking.naver.com    \"]'"
      ]
     },
     "execution_count": 174,
     "metadata": {},
     "output_type": "execute_result"
    }
   ],
   "source": [
    "crawling_df['full_text'][0]"
   ]
  },
  {
   "cell_type": "markdown",
   "metadata": {},
   "source": [
    "### 연관분석"
   ]
  },
  {
   "cell_type": "code",
   "execution_count": 2,
   "metadata": {
    "ExecuteTime": {
     "end_time": "2020-03-31T13:58:38.878755Z",
     "start_time": "2020-03-31T13:58:38.839747Z"
    }
   },
   "outputs": [],
   "source": [
    "crawling_df = pd.read_csv('양양_1000.csv',encoding='utf-8')"
   ]
  },
  {
   "cell_type": "code",
   "execution_count": 211,
   "metadata": {
    "ExecuteTime": {
     "end_time": "2020-03-31T15:53:40.691666Z",
     "start_time": "2020-03-31T15:53:39.850478Z"
    }
   },
   "outputs": [],
   "source": [
    "komoran = Komoran(userdic='user_dictionary.txt')"
   ]
  },
  {
   "cell_type": "markdown",
   "metadata": {},
   "source": [
    "#이모티콘 제거 [출처](https://stackoverflow.com/questions/33404752/removing-emojis-from-a-string-in-python)"
   ]
  },
  {
   "cell_type": "code",
   "execution_count": 212,
   "metadata": {
    "ExecuteTime": {
     "end_time": "2020-03-31T15:53:40.696668Z",
     "start_time": "2020-03-31T15:53:40.692667Z"
    }
   },
   "outputs": [],
   "source": [
    "emoji_pattern = re.compile(\"[\"\n",
    "                u\"\\U0001F600-\\U0001F64F\"  # emoticons\n",
    "                u\"\\U0001F300-\\U0001F5FF\"  # symbols & pictographs\n",
    "                u\"\\U0001F680-\\U0001F6FF\"  # transport & map symbols\n",
    "                u\"\\U0001F1E0-\\U0001F1FF\"  # flags (iOS)\n",
    "                u\"\\U00002702-\\U000027B0\"\n",
    "                u\"\\U0001f926-\\U0001f937\"\n",
    "                u'\\U00010000-\\U0010ffff'\n",
    "                u\"\\u200d\"\n",
    "                u\"\\u2640-\\u2642\"\n",
    "                u\"\\u2600-\\u2B55\"\n",
    "                u\"\\u23cf\"\n",
    "                u\"\\u23e9\"\n",
    "                u\"\\u231a\"\n",
    "                u\"\\u3030\"\n",
    "                u\"\\ufe0f\"\n",
    "    \"]+\", flags=re.UNICODE)\n",
    "\n",
    "#분석에 어긋나는 불용어구 제외 (특수문자, 의성어)\n",
    "han = re.compile(r'[ㄱ-ㅎㅏ-ㅣ!?~,\".\\n\\r#\\ufeff\\u200d]')"
   ]
  },
  {
   "cell_type": "code",
   "execution_count": 220,
   "metadata": {
    "ExecuteTime": {
     "end_time": "2020-03-31T15:55:03.868109Z",
     "start_time": "2020-03-31T15:54:41.704802Z"
    }
   },
   "outputs": [
    {
     "name": "stderr",
     "output_type": "stream",
     "text": [
      "C:\\Users\\try00\\Anaconda3\\lib\\site-packages\\ipykernel_launcher.py:5: TqdmDeprecationWarning: This function will be removed in tqdm==5.0.0\n",
      "Please use `tqdm.notebook.tqdm` instead of `tqdm.tqdm_notebook`\n",
      "  \"\"\"\n"
     ]
    },
    {
     "data": {
      "application/vnd.jupyter.widget-view+json": {
       "model_id": "d81fcf6745174cfc8e9537ed46e7c1ae",
       "version_major": 2,
       "version_minor": 0
      },
      "text/plain": [
       "HBox(children=(FloatProgress(value=0.0, max=1000.0), HTML(value='')))"
      ]
     },
     "metadata": {},
     "output_type": "display_data"
    },
    {
     "name": "stdout",
     "output_type": "stream",
     "text": [
      "\n"
     ]
    }
   ],
   "source": [
    "sw = ['오늘','시간','최근','지난','관련','이번','이날','현재','10','올해','지난해','있다','이상','기준','때문',\n",
    "     \"메뉴\",\"주문\",\"양양\",\"강원도\",'정도','도착','생각','양양군','사진','위치','바다','해변']\n",
    "all_nouns =[]\n",
    "\n",
    "for i in tqdm_notebook(range(0,len(crawling_df))):\n",
    "    try:\n",
    "        nouns = komoran.nouns(crawling_df['full_text'][i])\n",
    "    except :\n",
    "        nouns = emoji_pattern.sub(r'',crawling_df['full_text'][399])\n",
    "        nouns = han.sub(r'',TEXT_refine)\n",
    "    clean_nouns = list(filter(lambda word : (len(word)>1)&(word not in sw),nouns))\n",
    "    all_nouns.append(clean_nouns)"
   ]
  },
  {
   "cell_type": "code",
   "execution_count": 221,
   "metadata": {
    "ExecuteTime": {
     "end_time": "2020-03-31T15:55:03.875110Z",
     "start_time": "2020-03-31T15:55:03.869109Z"
    }
   },
   "outputs": [],
   "source": [
    "noun_df = pd.DataFrame({'nouns':all_nouns})"
   ]
  },
  {
   "cell_type": "code",
   "execution_count": 222,
   "metadata": {
    "ExecuteTime": {
     "end_time": "2020-03-31T15:55:03.904117Z",
     "start_time": "2020-03-31T15:55:03.876142Z"
    }
   },
   "outputs": [],
   "source": [
    "rules = apriori(all_nouns, min_support=0.2, min_condience =0.3)"
   ]
  },
  {
   "cell_type": "code",
   "execution_count": 223,
   "metadata": {
    "ExecuteTime": {
     "end_time": "2020-03-31T15:55:04.026144Z",
     "start_time": "2020-03-31T15:55:03.905117Z"
    }
   },
   "outputs": [],
   "source": [
    "results  = list(rules)"
   ]
  },
  {
   "cell_type": "code",
   "execution_count": 224,
   "metadata": {
    "ExecuteTime": {
     "end_time": "2020-03-31T15:55:04.089158Z",
     "start_time": "2020-03-31T15:55:04.027144Z"
    }
   },
   "outputs": [],
   "source": [
    "results_df = pd.DataFrame(columns =[\"lhs\",'rhs','support','confidence','lift'])\n",
    "index =0\n",
    "for row in results:   \n",
    "    support = row[1]\n",
    "    ordered_stat = row[2]\n",
    "    for ordered_item in ordered_stat:\n",
    "        lhs = \" \".join(x for x in ordered_item[0])\n",
    "        rhs = \" \".join(x for x in ordered_item[1])\n",
    "        confidence = ordered_item[2]\n",
    "        lift = ordered_item[3]\n",
    "        results_df.loc[index] = [lhs,rhs,support,confidence,lift]\n",
    "        index = index +1"
   ]
  },
  {
   "cell_type": "code",
   "execution_count": 228,
   "metadata": {
    "ExecuteTime": {
     "end_time": "2020-03-31T15:56:06.682480Z",
     "start_time": "2020-03-31T15:56:06.680479Z"
    }
   },
   "outputs": [],
   "source": [
    "results_df = results_df.sort_values(by=\"confidence\",ascending=False)"
   ]
  },
  {
   "cell_type": "code",
   "execution_count": 229,
   "metadata": {
    "ExecuteTime": {
     "end_time": "2020-03-31T15:56:07.051466Z",
     "start_time": "2020-03-31T15:56:07.041464Z"
    },
    "scrolled": true
   },
   "outputs": [
    {
     "data": {
      "text/html": [
       "<div>\n",
       "<style scoped>\n",
       "    .dataframe tbody tr th:only-of-type {\n",
       "        vertical-align: middle;\n",
       "    }\n",
       "\n",
       "    .dataframe tbody tr th {\n",
       "        vertical-align: top;\n",
       "    }\n",
       "\n",
       "    .dataframe thead th {\n",
       "        text-align: right;\n",
       "    }\n",
       "</style>\n",
       "<table border=\"1\" class=\"dataframe\">\n",
       "  <thead>\n",
       "    <tr style=\"text-align: right;\">\n",
       "      <th></th>\n",
       "      <th>lhs</th>\n",
       "      <th>rhs</th>\n",
       "      <th>support</th>\n",
       "      <th>confidence</th>\n",
       "      <th>lift</th>\n",
       "    </tr>\n",
       "  </thead>\n",
       "  <tbody>\n",
       "    <tr>\n",
       "      <td>26</td>\n",
       "      <td></td>\n",
       "      <td>여행</td>\n",
       "      <td>0.423</td>\n",
       "      <td>0.423</td>\n",
       "      <td>1.0</td>\n",
       "    </tr>\n",
       "    <tr>\n",
       "      <td>20</td>\n",
       "      <td></td>\n",
       "      <td>사람</td>\n",
       "      <td>0.410</td>\n",
       "      <td>0.410</td>\n",
       "      <td>1.0</td>\n",
       "    </tr>\n",
       "    <tr>\n",
       "      <td>35</td>\n",
       "      <td></td>\n",
       "      <td>코로나</td>\n",
       "      <td>0.379</td>\n",
       "      <td>0.379</td>\n",
       "      <td>1.0</td>\n",
       "    </tr>\n",
       "    <tr>\n",
       "      <td>25</td>\n",
       "      <td></td>\n",
       "      <td>아침</td>\n",
       "      <td>0.311</td>\n",
       "      <td>0.311</td>\n",
       "      <td>1.0</td>\n",
       "    </tr>\n",
       "    <tr>\n",
       "      <td>15</td>\n",
       "      <td></td>\n",
       "      <td>마음</td>\n",
       "      <td>0.308</td>\n",
       "      <td>0.308</td>\n",
       "      <td>1.0</td>\n",
       "    </tr>\n",
       "    <tr>\n",
       "      <td>13</td>\n",
       "      <td></td>\n",
       "      <td>느낌</td>\n",
       "      <td>0.292</td>\n",
       "      <td>0.292</td>\n",
       "      <td>1.0</td>\n",
       "    </tr>\n",
       "    <tr>\n",
       "      <td>16</td>\n",
       "      <td></td>\n",
       "      <td>맛집</td>\n",
       "      <td>0.290</td>\n",
       "      <td>0.290</td>\n",
       "      <td>1.0</td>\n",
       "    </tr>\n",
       "    <tr>\n",
       "      <td>36</td>\n",
       "      <td></td>\n",
       "      <td>풍경</td>\n",
       "      <td>0.288</td>\n",
       "      <td>0.288</td>\n",
       "      <td>1.0</td>\n",
       "    </tr>\n",
       "    <tr>\n",
       "      <td>10</td>\n",
       "      <td></td>\n",
       "      <td>기분</td>\n",
       "      <td>0.279</td>\n",
       "      <td>0.279</td>\n",
       "      <td>1.0</td>\n",
       "    </tr>\n",
       "    <tr>\n",
       "      <td>19</td>\n",
       "      <td></td>\n",
       "      <td>보니</td>\n",
       "      <td>0.275</td>\n",
       "      <td>0.275</td>\n",
       "      <td>1.0</td>\n",
       "    </tr>\n",
       "    <tr>\n",
       "      <td>34</td>\n",
       "      <td></td>\n",
       "      <td>커피</td>\n",
       "      <td>0.271</td>\n",
       "      <td>0.271</td>\n",
       "      <td>1.0</td>\n",
       "    </tr>\n",
       "    <tr>\n",
       "      <td>11</td>\n",
       "      <td></td>\n",
       "      <td>날씨</td>\n",
       "      <td>0.267</td>\n",
       "      <td>0.267</td>\n",
       "      <td>1.0</td>\n",
       "    </tr>\n",
       "    <tr>\n",
       "      <td>28</td>\n",
       "      <td></td>\n",
       "      <td>요즘</td>\n",
       "      <td>0.264</td>\n",
       "      <td>0.264</td>\n",
       "      <td>1.0</td>\n",
       "    </tr>\n",
       "    <tr>\n",
       "      <td>37</td>\n",
       "      <td></td>\n",
       "      <td>하루</td>\n",
       "      <td>0.257</td>\n",
       "      <td>0.257</td>\n",
       "      <td>1.0</td>\n",
       "    </tr>\n",
       "    <tr>\n",
       "      <td>0</td>\n",
       "      <td></td>\n",
       "      <td>!!</td>\n",
       "      <td>0.256</td>\n",
       "      <td>0.256</td>\n",
       "      <td>1.0</td>\n",
       "    </tr>\n",
       "    <tr>\n",
       "      <td>33</td>\n",
       "      <td></td>\n",
       "      <td>카페</td>\n",
       "      <td>0.252</td>\n",
       "      <td>0.252</td>\n",
       "      <td>1.0</td>\n",
       "    </tr>\n",
       "    <tr>\n",
       "      <td>24</td>\n",
       "      <td></td>\n",
       "      <td>식당</td>\n",
       "      <td>0.246</td>\n",
       "      <td>0.246</td>\n",
       "      <td>1.0</td>\n",
       "    </tr>\n",
       "    <tr>\n",
       "      <td>30</td>\n",
       "      <td></td>\n",
       "      <td>자리</td>\n",
       "      <td>0.244</td>\n",
       "      <td>0.244</td>\n",
       "      <td>1.0</td>\n",
       "    </tr>\n",
       "    <tr>\n",
       "      <td>17</td>\n",
       "      <td></td>\n",
       "      <td>모습</td>\n",
       "      <td>0.240</td>\n",
       "      <td>0.240</td>\n",
       "      <td>1.0</td>\n",
       "    </tr>\n",
       "    <tr>\n",
       "      <td>21</td>\n",
       "      <td></td>\n",
       "      <td>속초</td>\n",
       "      <td>0.239</td>\n",
       "      <td>0.239</td>\n",
       "      <td>1.0</td>\n",
       "    </tr>\n",
       "    <tr>\n",
       "      <td>32</td>\n",
       "      <td></td>\n",
       "      <td>추천</td>\n",
       "      <td>0.236</td>\n",
       "      <td>0.236</td>\n",
       "      <td>1.0</td>\n",
       "    </tr>\n",
       "    <tr>\n",
       "      <td>12</td>\n",
       "      <td></td>\n",
       "      <td>내부</td>\n",
       "      <td>0.236</td>\n",
       "      <td>0.236</td>\n",
       "      <td>1.0</td>\n",
       "    </tr>\n",
       "    <tr>\n",
       "      <td>14</td>\n",
       "      <td></td>\n",
       "      <td>다음</td>\n",
       "      <td>0.233</td>\n",
       "      <td>0.233</td>\n",
       "      <td>1.0</td>\n",
       "    </tr>\n",
       "    <tr>\n",
       "      <td>5</td>\n",
       "      <td></td>\n",
       "      <td>거리</td>\n",
       "      <td>0.231</td>\n",
       "      <td>0.231</td>\n",
       "      <td>1.0</td>\n",
       "    </tr>\n",
       "    <tr>\n",
       "      <td>27</td>\n",
       "      <td></td>\n",
       "      <td>예약</td>\n",
       "      <td>0.230</td>\n",
       "      <td>0.230</td>\n",
       "      <td>1.0</td>\n",
       "    </tr>\n",
       "    <tr>\n",
       "      <td>22</td>\n",
       "      <td></td>\n",
       "      <td>숙소</td>\n",
       "      <td>0.230</td>\n",
       "      <td>0.230</td>\n",
       "      <td>1.0</td>\n",
       "    </tr>\n",
       "    <tr>\n",
       "      <td>2</td>\n",
       "      <td></td>\n",
       "      <td>가격</td>\n",
       "      <td>0.230</td>\n",
       "      <td>0.230</td>\n",
       "      <td>1.0</td>\n",
       "    </tr>\n",
       "    <tr>\n",
       "      <td>6</td>\n",
       "      <td></td>\n",
       "      <td>검색</td>\n",
       "      <td>0.228</td>\n",
       "      <td>0.228</td>\n",
       "      <td>1.0</td>\n",
       "    </tr>\n",
       "    <tr>\n",
       "      <td>3</td>\n",
       "      <td></td>\n",
       "      <td>가지</td>\n",
       "      <td>0.215</td>\n",
       "      <td>0.215</td>\n",
       "      <td>1.0</td>\n",
       "    </tr>\n",
       "    <tr>\n",
       "      <td>1</td>\n",
       "      <td></td>\n",
       "      <td>.com</td>\n",
       "      <td>0.211</td>\n",
       "      <td>0.211</td>\n",
       "      <td>1.0</td>\n",
       "    </tr>\n",
       "    <tr>\n",
       "      <td>31</td>\n",
       "      <td></td>\n",
       "      <td>처음</td>\n",
       "      <td>0.210</td>\n",
       "      <td>0.210</td>\n",
       "      <td>1.0</td>\n",
       "    </tr>\n",
       "    <tr>\n",
       "      <td>9</td>\n",
       "      <td></td>\n",
       "      <td>근처</td>\n",
       "      <td>0.210</td>\n",
       "      <td>0.210</td>\n",
       "      <td>1.0</td>\n",
       "    </tr>\n",
       "    <tr>\n",
       "      <td>29</td>\n",
       "      <td></td>\n",
       "      <td>운영</td>\n",
       "      <td>0.210</td>\n",
       "      <td>0.210</td>\n",
       "      <td>1.0</td>\n",
       "    </tr>\n",
       "    <tr>\n",
       "      <td>23</td>\n",
       "      <td></td>\n",
       "      <td>스팅</td>\n",
       "      <td>0.208</td>\n",
       "      <td>0.208</td>\n",
       "      <td>1.0</td>\n",
       "    </tr>\n",
       "    <tr>\n",
       "      <td>7</td>\n",
       "      <td></td>\n",
       "      <td>공간</td>\n",
       "      <td>0.206</td>\n",
       "      <td>0.206</td>\n",
       "      <td>1.0</td>\n",
       "    </tr>\n",
       "    <tr>\n",
       "      <td>4</td>\n",
       "      <td></td>\n",
       "      <td>개인</td>\n",
       "      <td>0.205</td>\n",
       "      <td>0.205</td>\n",
       "      <td>1.0</td>\n",
       "    </tr>\n",
       "    <tr>\n",
       "      <td>18</td>\n",
       "      <td></td>\n",
       "      <td>바람</td>\n",
       "      <td>0.203</td>\n",
       "      <td>0.203</td>\n",
       "      <td>1.0</td>\n",
       "    </tr>\n",
       "    <tr>\n",
       "      <td>8</td>\n",
       "      <td></td>\n",
       "      <td>구경</td>\n",
       "      <td>0.202</td>\n",
       "      <td>0.202</td>\n",
       "      <td>1.0</td>\n",
       "    </tr>\n",
       "  </tbody>\n",
       "</table>\n",
       "</div>"
      ],
      "text/plain": [
       "   lhs   rhs  support  confidence  lift\n",
       "26        여행    0.423       0.423   1.0\n",
       "20        사람    0.410       0.410   1.0\n",
       "35       코로나    0.379       0.379   1.0\n",
       "25        아침    0.311       0.311   1.0\n",
       "15        마음    0.308       0.308   1.0\n",
       "13        느낌    0.292       0.292   1.0\n",
       "16        맛집    0.290       0.290   1.0\n",
       "36        풍경    0.288       0.288   1.0\n",
       "10        기분    0.279       0.279   1.0\n",
       "19        보니    0.275       0.275   1.0\n",
       "34        커피    0.271       0.271   1.0\n",
       "11        날씨    0.267       0.267   1.0\n",
       "28        요즘    0.264       0.264   1.0\n",
       "37        하루    0.257       0.257   1.0\n",
       "0         !!    0.256       0.256   1.0\n",
       "33        카페    0.252       0.252   1.0\n",
       "24        식당    0.246       0.246   1.0\n",
       "30        자리    0.244       0.244   1.0\n",
       "17        모습    0.240       0.240   1.0\n",
       "21        속초    0.239       0.239   1.0\n",
       "32        추천    0.236       0.236   1.0\n",
       "12        내부    0.236       0.236   1.0\n",
       "14        다음    0.233       0.233   1.0\n",
       "5         거리    0.231       0.231   1.0\n",
       "27        예약    0.230       0.230   1.0\n",
       "22        숙소    0.230       0.230   1.0\n",
       "2         가격    0.230       0.230   1.0\n",
       "6         검색    0.228       0.228   1.0\n",
       "3         가지    0.215       0.215   1.0\n",
       "1       .com    0.211       0.211   1.0\n",
       "31        처음    0.210       0.210   1.0\n",
       "9         근처    0.210       0.210   1.0\n",
       "29        운영    0.210       0.210   1.0\n",
       "23        스팅    0.208       0.208   1.0\n",
       "7         공간    0.206       0.206   1.0\n",
       "4         개인    0.205       0.205   1.0\n",
       "18        바람    0.203       0.203   1.0\n",
       "8         구경    0.202       0.202   1.0"
      ]
     },
     "execution_count": 229,
     "metadata": {},
     "output_type": "execute_result"
    }
   ],
   "source": [
    "results_df"
   ]
  },
  {
   "cell_type": "code",
   "execution_count": null,
   "metadata": {},
   "outputs": [],
   "source": []
  }
 ],
 "metadata": {
  "kernelspec": {
   "display_name": "Python 3",
   "language": "python",
   "name": "python3"
  },
  "language_info": {
   "codemirror_mode": {
    "name": "ipython",
    "version": 3
   },
   "file_extension": ".py",
   "mimetype": "text/x-python",
   "name": "python",
   "nbconvert_exporter": "python",
   "pygments_lexer": "ipython3",
   "version": "3.6.5"
  },
  "varInspector": {
   "cols": {
    "lenName": 16,
    "lenType": 16,
    "lenVar": 40
   },
   "kernels_config": {
    "python": {
     "delete_cmd_postfix": "",
     "delete_cmd_prefix": "del ",
     "library": "var_list.py",
     "varRefreshCmd": "print(var_dic_list())"
    },
    "r": {
     "delete_cmd_postfix": ") ",
     "delete_cmd_prefix": "rm(",
     "library": "var_list.r",
     "varRefreshCmd": "cat(var_dic_list()) "
    }
   },
   "types_to_exclude": [
    "module",
    "function",
    "builtin_function_or_method",
    "instance",
    "_Feature"
   ],
   "window_display": false
  }
 },
 "nbformat": 4,
 "nbformat_minor": 2
}

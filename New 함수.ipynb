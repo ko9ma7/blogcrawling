{
 "cells": [
  {
   "cell_type": "markdown",
   "metadata": {},
   "source": [
    "# 목적\n",
    "* 블로그 내용을 긁어와서 연관분석 진행\n",
    "1. keyword관련 블로그 크롤링 \n",
    "    정확도 기준으로 긁어오되 날짜도 같이 가져와서 나중 어떤 날짜에 집중되어 있는지 확인\n",
    "    한 블로그당 단어빈도수 분석(필요할까)\n",
    "2. 블로그 내 단어 토크나이즈하고 \n",
    "3. 연관분석실시\n"
   ]
  },
  {
   "cell_type": "code",
   "execution_count": 3,
   "metadata": {
    "ExecuteTime": {
     "end_time": "2020-03-31T13:07:06.903494Z",
     "start_time": "2020-03-31T13:07:02.287226Z"
    }
   },
   "outputs": [
    {
     "name": "stdout",
     "output_type": "stream",
     "text": [
      "Collecting apyori\n",
      "  Downloading apyori-1.1.2.tar.gz (8.6 kB)\n",
      "Building wheels for collected packages: apyori\n",
      "  Building wheel for apyori (setup.py): started\n",
      "  Building wheel for apyori (setup.py): finished with status 'done'\n",
      "  Created wheel for apyori: filename=apyori-1.1.2-py3-none-any.whl size=5984 sha256=5235bb621f4450c8a0ed214694dd194b7f3b0f6a4cf1cb568b9531188bd48e80\n",
      "  Stored in directory: c:\\users\\try00\\appdata\\local\\pip\\cache\\wheels\\47\\6f\\0f\\21a86f3679f7ed6bbe4dc6694f86818c5d85c2044bfab0f1e8\n",
      "Successfully built apyori\n",
      "Installing collected packages: apyori\n",
      "Successfully installed apyori-1.1.2\n"
     ]
    }
   ],
   "source": [
    "# # 선행설치\n",
    "# !pip install beautifulsoup4\n",
    "# !pip install requests\n",
    "# !pip install lxm\n",
    "# # 연관분석\n",
    "# !pip install apyori\n",
    "# # 자연어처리\n",
    "# !pip install konlpy (JDK 설치가 되어있어야함 )"
   ]
  },
  {
   "cell_type": "code",
   "execution_count": 1,
   "metadata": {
    "ExecuteTime": {
     "end_time": "2020-04-01T09:04:45.688705Z",
     "start_time": "2020-04-01T09:04:43.790807Z"
    }
   },
   "outputs": [],
   "source": [
    "import re\n",
    "import json\n",
    "import math\n",
    "import datetime\n",
    "import pandas as pd\n",
    "\n",
    "import requests\n",
    "import urllib.request\n",
    "import urllib.error\n",
    "import urllib.parse\n",
    "from bs4 import BeautifulSoup #크롤링\n",
    "\n",
    "import konlpy\n",
    "from konlpy.tag import Komoran #자연어처리\n",
    "komoran = Komoran(userdic='./user_dictionary.txt')\n",
    "\n",
    "from apyori import apriori #연관분석\n",
    "from tqdm import tqdm_notebook #진행과정 시각화 "
   ]
  },
  {
   "cell_type": "code",
   "execution_count": 2,
   "metadata": {
    "ExecuteTime": {
     "end_time": "2020-04-01T09:04:45.704709Z",
     "start_time": "2020-04-01T09:04:45.702708Z"
    }
   },
   "outputs": [],
   "source": [
    "#페이지 카운트 수로 api호출된다\n",
    "#1,000개일때 3분 \n",
    "#100*100개 만개의 경우 \"비정상적인 트래픽을 감지\"해서 오류걸림 \n",
    "naver_client_id = \"cGDVdveeg4egAgRCvXtA\"\n",
    "naver_client_secret = \"pFnYuTsat0\"\n",
    "keyword = '양양'\n",
    "display_count = 1\n",
    "page_count = 1000\n",
    "sort_type = 'sim'"
   ]
  },
  {
   "cell_type": "code",
   "execution_count": null,
   "metadata": {},
   "outputs": [],
   "source": [
    "string.replace('\\u200b',\" \")"
   ]
  },
  {
   "cell_type": "code",
   "execution_count": 51,
   "metadata": {
    "ExecuteTime": {
     "end_time": "2020-04-01T09:23:21.842519Z",
     "start_time": "2020-04-01T09:23:21.838518Z"
    },
    "code_folding": []
   },
   "outputs": [],
   "source": [
    "def del_outword(string):\n",
    "    #이모지제거\n",
    "    emoji_pattern = re.compile(\"[\"\n",
    "                u\"\\U0001F600-\\U0001F64F\"  # emoticons\n",
    "                u\"\\U0001F300-\\U0001F5FF\"  # symbols & pictographs\n",
    "                u\"\\U0001F680-\\U0001F6FF\"  # transport & map symbols\n",
    "                u\"\\U0001F1E0-\\U0001F1FF\"  # flags (iOS)\n",
    "                u\"\\U00002702-\\U000027B0\"\n",
    "                u\"\\U0001f926-\\U0001f937\"\n",
    "                u'\\U00010000-\\U0010ffff'\n",
    "                u\"\\u200d\"\n",
    "                u\"\\u2640-\\u2642\"\n",
    "                u\"\\u2600-\\u2B55\"\n",
    "                u\"\\u23cf\"\n",
    "                u\"\\u23e9\"\n",
    "                u\"\\u231a\"\n",
    "                u\"\\u3030\"\n",
    "                u\"\\ufe0f\"\n",
    "    \"]+\", flags=re.UNICODE)\n",
    "\n",
    "    #분석에 어긋나는 불용어구 제외 (특수문자, 의성어)\n",
    "    han = re.compile(r'[ㄱ-ㅎㅏ-ㅣ!?~,\".\\n\\r#\\ufeff\\u200d\\u200b]')\n",
    "    \n",
    "    string = emoji_pattern.sub(r'',string)\n",
    "    string = han.sub(r'',string)\n",
    "    \n",
    "    return string"
   ]
  },
  {
   "cell_type": "code",
   "execution_count": 29,
   "metadata": {
    "ExecuteTime": {
     "end_time": "2020-04-01T00:55:26.783964Z",
     "start_time": "2020-04-01T00:55:26.780971Z"
    }
   },
   "outputs": [],
   "source": [
    "# #네이버에서 검색했을때 url구조\n",
    "# https://search.naver.com/search.naver\n",
    "#     ?date_from=&\n",
    "#     date_option=0&\n",
    "#     date_to=&\n",
    "#     dup_remove=1&\n",
    "#     nso=&\n",
    "#     post_blogurl=\n",
    "#     &post_blogurl_without=\n",
    "#     &query=%EC%96%91%EC%96%91\n",
    "#     &sm=tab_pge\n",
    "#     &srchby=all\n",
    "#     &st=sim\n",
    "#     &where=post\n",
    "#     &start=11"
   ]
  },
  {
   "cell_type": "code",
   "execution_count": null,
   "metadata": {},
   "outputs": [],
   "source": [
    "#sample 상세옵션없음\n",
    "https://search.naver.com/search.naver?date_from=&date_option=0&date_to=&dup_remove=1&nso=&post_blogurl=&post_blogurl_without=&query=%EC%96%91%EC%96%91&sm=tab_pge&srchby=all&st=sim&where=post&start=1\n",
    "https://search.naver.com/search.naver?\n",
    "    date_from=&\n",
    "    date_option=0&\n",
    "    date_to=&\n",
    "    dup_remove=1&\n",
    "    nso=&\n",
    "    post_blogurl=&\n",
    "    post_blogurl_without=&\n",
    "    query=%EC%96%91%EC%96%91&\n",
    "    sm=tab_pge&\n",
    "    srchby=all&\n",
    "    st=sim&\n",
    "    where=post&\n",
    "    start=1"
   ]
  },
  {
   "cell_type": "markdown",
   "metadata": {},
   "source": [
    "date_from - YYYYMMDD : 시작날짜 date_option 8일때   \n",
    "date_option - int : 0 : 전체, 2 : 1일, 3 : 1주, 4 : 1개월, 6 : 6개월, 7 : 1년, 8 : 기간지정  \n",
    "date_to - YYYYMMDD : 마지막날짜 date_option 8일때  \n",
    "dup_remove - int : 유사문서제거옵션 1 : 제거, 0 : 유지  \n",
    "nso - str : _상세검색으로 추정_   \n",
    "post_blogurl - ?  \n",
    "post_blogurl_without - ?   \n",
    "query - str : 검색어     \n",
    "sm=tab_pge -?    \n",
    "st - str : 정렬순서 sim : 유사도 date : 날짜    "
   ]
  },
  {
   "cell_type": "code",
   "execution_count": 21,
   "metadata": {
    "ExecuteTime": {
     "end_time": "2020-04-01T09:10:04.282001Z",
     "start_time": "2020-04-01T09:10:04.279009Z"
    }
   },
   "outputs": [],
   "source": [
    "keyword = \"양양\"\n",
    "start_num = 1\n",
    "end_num = 1001"
   ]
  },
  {
   "cell_type": "code",
   "execution_count": 462,
   "metadata": {
    "ExecuteTime": {
     "end_time": "2020-04-01T08:39:49.323600Z",
     "start_time": "2020-04-01T08:39:49.314599Z"
    },
    "code_folding": [
     0
    ]
   },
   "outputs": [],
   "source": [
    "#날짜수정가능하게 하는거 에러남\n",
    "def naver_blog_crawling(keyword, start_num=1, end_num=101,date_option=0,date_from='',date_to=''):\n",
    "    '''\n",
    "    네이버 블로그 크롤링 함수\n",
    "    네이버 블로그 검색결과를 크롤링하며, 1페이지당 10개씩을 검색한다\n",
    "    \n",
    "    keyword : string\n",
    "     검색하고 싶은 키워드를 넣는다\n",
    "    start_num : int (default = 1) \n",
    "     시작할 위치 1로 끝나는 단위 추천\n",
    "    end_num : int (default = 101)\n",
    "     끝나는 위치 1로 끝나는 단위 추천\n",
    "    date_option : int (default = 0)\n",
    "     주어지는 숫자에 의해 검색방법이 변경됨\n",
    "     0 : 전체, 2 : 1일, 3 : 1주, 4 : 1개월, 6 : 6개월, 7 : 1년, 8 : 기간지정\n",
    "    date_from : YYYYMMDD (default = \"\")\n",
    "     date_option이 8일때 사용 검색 시작일자를 지정\n",
    "    date_to : YYYMMDD (default = \"\")\n",
    "     date_option이 8일때 사용 검색 마지막일자를 지정\n",
    "    '''\n",
    "    #url 찾는 패턴\n",
    "    pattern =re.compile('href=\"'+'[A-z0-9\\:\\/\\&\\;\\.\\?\\=]+')\n",
    "\n",
    "    #저장위치\n",
    "    postdates = []\n",
    "    strings = []\n",
    "    urls = []\n",
    "    titles = []\n",
    "    output_error = []\n",
    "    connection_error = []\n",
    "    count = 1\n",
    "\n",
    "    #keyword와 시작넘버만 바꾸면서 진행하게끔\n",
    "    base_url = 'https://search.naver.com/search.naver?date_from={date_from}&date_option={date_option}&date_to={date_to}&dup_remove=1&nso=&post_blogurl=&post_blogurl_without=&query={keyword}&sm=tab_pge&srchby=all&st=sim&where=post&start={start}'\n",
    "\n",
    "    #for문 돌려야하는 부분(각 검색결과의 시작은 1이고, 10개씩 보여짐,)\n",
    "    for i in tqdm_notebook(range(start_num,end_num+1,10),desc = \"page work\"):\n",
    "        search_list = base_url.format(keyword = keyword,start = i,\n",
    "                                      date_option = date_option, date_from = date_from, date_to=date_to)\n",
    "        response = requests.get(search_list)\n",
    "\n",
    "        if response.status_code is 200:\n",
    "            #1번 검색시 10개의 결과가 출력 따라서 section은 총 10개\n",
    "            soup = BeautifulSoup(response.content,'lxml')\n",
    "            sections = soup.findAll('li', attrs={'class':'sh_blog_top'})\n",
    "\n",
    "            for section in sections:\n",
    "                try:\n",
    "                    #href부분만 가져오기 어려워서 정규표현식으로 검색\n",
    "                    url = re.findall(pattern, str(section))[0].replace('?Redirect=Log&amp;logNo=','/').replace('href=\"','')\n",
    "                    title = section.select_one('a.txt84').text\n",
    "                    date = section.select_one('dd.txt_inline').text.strip()\n",
    "\n",
    "                    #블로그 url안에 들어가기(아직 크롤링불가)\n",
    "                    get_blog_post_content_code = requests.get(url)\n",
    "                    get_blog_post_content_text = get_blog_post_content_code.text\n",
    "                    get_blog_post_content_soup = BeautifulSoup(get_blog_post_content_text, 'lxml')\n",
    "\n",
    "                    #크롤링가능한 url에 접속\n",
    "                    real_blog_post_url = \"http://blog.naver.com\" + get_blog_post_content_soup.select('#mainFrame')[0].get('src')\n",
    "                    get_real_blog_post_content_code = requests.get(real_blog_post_url)\n",
    "                    get_real_blog_post_content_text = get_real_blog_post_content_code.text\n",
    "                    get_real_blog_post_content_soup = BeautifulSoup(get_real_blog_post_content_text, 'lxml')\n",
    "\n",
    "                    # url (에러나면 위에서부터 에러남)\n",
    "                    urls.append(real_blog_post_url)\n",
    "                    #블로그명\n",
    "                    titles.append(title)\n",
    "                    #날짜\n",
    "                    postdates.append(date)\n",
    "\n",
    "                    #본문  (postviewarea 패턴과 se-main-container 2가지 유형이 있어 분리함) \n",
    "                    try:\n",
    "                        blog_post_content = get_real_blog_post_content_soup.select('div#postViewArea')\n",
    "                        if len(blog_post_content) == 0:\n",
    "                            blog_post_content = get_real_blog_post_content_soup.select('div.se-main-container')\n",
    "\n",
    "                        string = \"\"\n",
    "                        for sentence in blog_post_content[0].stripped_strings:\n",
    "                            string += \" \"+sentence.replace('\\xa0',\" \")\n",
    "                        strings.append([string])\n",
    "                        count += 1\n",
    "                    except:\n",
    "                        strings.append([np.NaN])\n",
    "                        count += 1\n",
    "\n",
    "                except Exception as ex: \n",
    "                    print('가져오기에러 {num}번째'.format(num = count),ex)\n",
    "                    output_error.append(count)\n",
    "                    count += 1\n",
    "                    pass\n",
    "            else:\n",
    "                print('연결오류 {num}번째'.format(num = count),response.status_code)\n",
    "                connection_error.append(count)\n",
    "                count += 1\n",
    "                \n",
    "    crawling_df = pd.DataFrame({\"post_dates\":postdates, \"title\":titles, \"full_text\":strings, \"url\":urls})\n",
    "    return crawling_df,output_error,connection_error\n",
    "        "
   ]
  },
  {
   "cell_type": "code",
   "execution_count": 26,
   "metadata": {
    "ExecuteTime": {
     "end_time": "2020-04-01T09:11:31.390823Z",
     "start_time": "2020-04-01T09:11:31.382821Z"
    },
    "code_folding": [
     0
    ]
   },
   "outputs": [],
   "source": [
    "def naver_blog_crawling(keyword, start_num=1, end_num=101):\n",
    "    '''\n",
    "    네이버 블로그 크롤링 함수\n",
    "    네이버 블로그 검색결과를 크롤링하며, 1페이지당 10개씩을 검색한다\n",
    "    \n",
    "    keyword : string\n",
    "     검색하고 싶은 키워드를 넣는다\n",
    "    start_num : int (default = 1) \n",
    "     시작할 위치 1로 끝나는 단위 추천\n",
    "    end_num : int (default = 101)\n",
    "     끝나는 위치 1로 끝나는 단위 추천\n",
    "    date_option : int (default = 0)\n",
    "     주어지는 숫자에 의해 검색방법이 변경됨\n",
    "     0 : 전체, 2 : 1일, 3 : 1주, 4 : 1개월, 6 : 6개월, 7 : 1년, 8 : 기간지정\n",
    "    date_from : YYYYMMDD (default = \"\")\n",
    "     date_option이 8일때 사용 검색 시작일자를 지정\n",
    "    date_to : YYYMMDD (default = \"\")\n",
    "     date_option이 8일때 사용 검색 마지막일자를 지정\n",
    "    '''\n",
    "    #url 찾는 패턴\n",
    "    pattern =re.compile('href=\"'+'[A-z0-9\\:\\/\\&\\;\\.\\?\\=]+')\n",
    "\n",
    "    #저장위치\n",
    "    postdates = []\n",
    "    strings = []\n",
    "    urls = []\n",
    "    titles = []\n",
    "    output_error = []\n",
    "    connection_error = []\n",
    "    count = 1\n",
    "\n",
    "    #keyword와 시작넘버만 바꾸면서 진행하게끔\n",
    "    base_url = 'https://search.naver.com/search.naver?date_from=&date_option=&date_to=&dup_remove=1&nso=&post_blogurl=&post_blogurl_without=&query={keyword}&sm=tab_pge&srchby=all&st=sim&where=post&start={start}'\n",
    "\n",
    "    #for문 돌려야하는 부분(각 검색결과의 시작은 1이고, 10개씩 보여짐,)\n",
    "    for i in tqdm_notebook(range(start_num,end_num+1,10),desc = \"page work\"):\n",
    "        search_list = base_url.format(keyword = keyword,start = i)\n",
    "        response = requests.get(search_list)\n",
    "\n",
    "        if response.status_code is 200:\n",
    "            #1번 검색시 10개의 결과가 출력 따라서 section은 총 10개\n",
    "            soup = BeautifulSoup(response.content,'lxml')\n",
    "            sections = soup.findAll('li', attrs={'class':'sh_blog_top'})\n",
    "\n",
    "            for section in sections:\n",
    "                try:\n",
    "                    #href부분만 가져오기 어려워서 정규표현식으로 검색\n",
    "                    url = re.findall(pattern, str(section))[0].replace('?Redirect=Log&amp;logNo=','/').replace('href=\"','')\n",
    "                    title = section.select_one('a.txt84').text\n",
    "                    date = section.select_one('dd.txt_inline').text.strip()\n",
    "\n",
    "                    #블로그 url안에 들어가기(아직 크롤링불가)\n",
    "                    get_blog_post_content_code = requests.get(url)\n",
    "                    get_blog_post_content_text = get_blog_post_content_code.text\n",
    "                    get_blog_post_content_soup = BeautifulSoup(get_blog_post_content_text, 'lxml')\n",
    "\n",
    "                    #크롤링가능한 url에 접속\n",
    "                    real_blog_post_url = \"http://blog.naver.com\" + get_blog_post_content_soup.select('#mainFrame')[0].get('src')\n",
    "                    get_real_blog_post_content_code = requests.get(real_blog_post_url)\n",
    "                    get_real_blog_post_content_text = get_real_blog_post_content_code.text\n",
    "                    get_real_blog_post_content_soup = BeautifulSoup(get_real_blog_post_content_text, 'lxml')\n",
    "\n",
    "                    # url (에러나면 위에서부터 에러남)\n",
    "                    urls.append(real_blog_post_url)\n",
    "                    #블로그명\n",
    "                    titles.append(title)\n",
    "                    #날짜\n",
    "                    postdates.append(date)\n",
    "\n",
    "                    #본문  (postviewarea 패턴과 se-main-container 2가지 유형이 있어 분리함) \n",
    "                    try:\n",
    "                        blog_post_content = get_real_blog_post_content_soup.select('div#postViewArea')\n",
    "                        if len(blog_post_content) == 0:\n",
    "                            blog_post_content = get_real_blog_post_content_soup.select('div.se-main-container')\n",
    "\n",
    "                        string = \"\"\n",
    "                        for sentence in blog_post_content[0].stripped_strings:\n",
    "                            string += \" \"+sentence.replace('\\xa0',\" \")\n",
    "                        #비언어 텍스트제거 \n",
    "                        string = del_outword(string)\n",
    "                        strings.append([string]) \n",
    "                        count += 1\n",
    "                    except:\n",
    "                        strings.append([np.NaN])\n",
    "                        count += 1\n",
    "\n",
    "                except Exception as ex: \n",
    "                    print('가져오기에러 {num}번째'.format(num = count),ex)\n",
    "                    output_error.append(count)\n",
    "                    count += 1\n",
    "                    pass\n",
    "            else:\n",
    "                print('연결오류 {num}번째'.format(num = count),response.status_code)\n",
    "                connection_error.append(count)\n",
    "                count += 1\n",
    "                \n",
    "    crawling_df = pd.DataFrame({\"post_dates\":postdates, \"title\":titles, \"full_text\":strings, \"url\":urls})\n",
    "    return crawling_df, output_error\n",
    "        "
   ]
  },
  {
   "cell_type": "code",
   "execution_count": 27,
   "metadata": {
    "ExecuteTime": {
     "end_time": "2020-04-01T09:14:33.689468Z",
     "start_time": "2020-04-01T09:11:33.618069Z"
    },
    "scrolled": true
   },
   "outputs": [
    {
     "name": "stderr",
     "output_type": "stream",
     "text": [
      "C:\\Users\\User\\Anaconda3\\lib\\site-packages\\ipykernel_launcher.py:36: TqdmDeprecationWarning: This function will be removed in tqdm==5.0.0\n",
      "Please use `tqdm.notebook.tqdm` instead of `tqdm.tqdm_notebook`\n"
     ]
    },
    {
     "data": {
      "application/vnd.jupyter.widget-view+json": {
       "model_id": "335b5b89907c400db066367973d53434",
       "version_major": 2,
       "version_minor": 0
      },
      "text/plain": [
       "HBox(children=(FloatProgress(value=0.0, description='page work', max=101.0, style=ProgressStyle(description_wi…"
      ]
     },
     "metadata": {},
     "output_type": "display_data"
    },
    {
     "name": "stdout",
     "output_type": "stream",
     "text": [
      "가져오기에러 1번째 list index out of range\n",
      "가져오기에러 2번째 list index out of range\n",
      "가져오기에러 5번째 list index out of range\n",
      "가져오기에러 7번째 list index out of range\n",
      "가져오기에러 8번째 list index out of range\n",
      "연결오류 11번째 200\n",
      "가져오기에러 14번째 list index out of range\n",
      "가져오기에러 19번째 list index out of range\n",
      "연결오류 22번째 200\n",
      "가져오기에러 31번째 list index out of range\n",
      "연결오류 33번째 200\n",
      "가져오기에러 41번째 list index out of range\n",
      "연결오류 44번째 200\n",
      "가져오기에러 47번째 list index out of range\n",
      "연결오류 55번째 200\n",
      "연결오류 66번째 200\n",
      "가져오기에러 71번째 list index out of range\n",
      "가져오기에러 72번째 list index out of range\n",
      "가져오기에러 76번째 list index out of range\n",
      "연결오류 77번째 200\n",
      "가져오기에러 82번째 list index out of range\n",
      "가져오기에러 85번째 list index out of range\n",
      "가져오기에러 87번째 list index out of range\n",
      "연결오류 88번째 200\n",
      "가져오기에러 94번째 list index out of range\n",
      "가져오기에러 98번째 list index out of range\n",
      "연결오류 99번째 200\n",
      "가져오기에러 101번째 list index out of range\n",
      "연결오류 110번째 200\n",
      "연결오류 121번째 200\n",
      "가져오기에러 130번째 list index out of range\n",
      "연결오류 132번째 200\n",
      "가져오기에러 137번째 list index out of range\n",
      "가져오기에러 138번째 list index out of range\n",
      "가져오기에러 139번째 list index out of range\n",
      "연결오류 143번째 200\n",
      "가져오기에러 147번째 list index out of range\n",
      "가져오기에러 149번째 list index out of range\n",
      "연결오류 154번째 200\n",
      "가져오기에러 155번째 list index out of range\n",
      "가져오기에러 160번째 list index out of range\n",
      "가져오기에러 163번째 list index out of range\n",
      "연결오류 165번째 200\n",
      "가져오기에러 170번째 list index out of range\n",
      "연결오류 176번째 200\n",
      "가져오기에러 178번째 list index out of range\n",
      "가져오기에러 181번째 list index out of range\n",
      "가져오기에러 186번째 list index out of range\n",
      "연결오류 187번째 200\n",
      "가져오기에러 188번째 list index out of range\n",
      "가져오기에러 192번째 list index out of range\n",
      "연결오류 198번째 200\n",
      "가져오기에러 201번째 list index out of range\n",
      "가져오기에러 202번째 list index out of range\n",
      "연결오류 209번째 200\n",
      "가져오기에러 211번째 list index out of range\n",
      "가져오기에러 212번째 list index out of range\n",
      "가져오기에러 216번째 list index out of range\n",
      "가져오기에러 217번째 list index out of range\n",
      "가져오기에러 219번째 list index out of range\n",
      "연결오류 220번째 200\n",
      "가져오기에러 222번째 list index out of range\n",
      "가져오기에러 228번째 list index out of range\n",
      "가져오기에러 229번째 list index out of range\n",
      "연결오류 231번째 200\n",
      "가져오기에러 234번째 list index out of range\n",
      "가져오기에러 236번째 list index out of range\n",
      "가져오기에러 240번째 list index out of range\n",
      "연결오류 242번째 200\n",
      "가져오기에러 244번째 list index out of range\n",
      "가져오기에러 245번째 list index out of range\n",
      "연결오류 253번째 200\n",
      "가져오기에러 255번째 list index out of range\n",
      "연결오류 264번째 200\n",
      "연결오류 275번째 200\n",
      "가져오기에러 285번째 list index out of range\n",
      "연결오류 286번째 200\n",
      "연결오류 297번째 200\n",
      "가져오기에러 300번째 list index out of range\n",
      "가져오기에러 306번째 list index out of range\n",
      "연결오류 308번째 200\n",
      "가져오기에러 310번째 list index out of range\n",
      "가져오기에러 311번째 list index out of range\n",
      "연결오류 319번째 200\n",
      "연결오류 330번째 200\n",
      "가져오기에러 335번째 list index out of range\n",
      "연결오류 341번째 200\n",
      "가져오기에러 342번째 list index out of range\n",
      "연결오류 352번째 200\n",
      "가져오기에러 356번째 list index out of range\n",
      "가져오기에러 358번째 list index out of range\n",
      "가져오기에러 361번째 list index out of range\n",
      "연결오류 363번째 200\n",
      "가져오기에러 365번째 list index out of range\n",
      "가져오기에러 367번째 list index out of range\n",
      "가져오기에러 369번째 list index out of range\n",
      "연결오류 374번째 200\n",
      "가져오기에러 376번째 list index out of range\n",
      "가져오기에러 378번째 list index out of range\n",
      "연결오류 385번째 200\n",
      "가져오기에러 390번째 list index out of range\n",
      "가져오기에러 393번째 list index out of range\n",
      "연결오류 396번째 200\n",
      "가져오기에러 401번째 list index out of range\n",
      "가져오기에러 403번째 list index out of range\n",
      "가져오기에러 405번째 list index out of range\n",
      "가져오기에러 406번째 list index out of range\n",
      "연결오류 407번째 200\n",
      "가져오기에러 411번째 list index out of range\n",
      "연결오류 418번째 200\n",
      "연결오류 429번째 200\n",
      "가져오기에러 432번째 list index out of range\n",
      "가져오기에러 435번째 list index out of range\n",
      "가져오기에러 437번째 list index out of range\n",
      "연결오류 440번째 200\n",
      "가져오기에러 441번째 list index out of range\n",
      "가져오기에러 442번째 list index out of range\n",
      "가져오기에러 450번째 list index out of range\n",
      "연결오류 451번째 200\n",
      "가져오기에러 459번째 list index out of range\n",
      "연결오류 462번째 200\n",
      "가져오기에러 472번째 list index out of range\n",
      "연결오류 473번째 200\n",
      "가져오기에러 476번째 list index out of range\n",
      "연결오류 484번째 200\n",
      "가져오기에러 489번째 list index out of range\n",
      "가져오기에러 491번째 list index out of range\n",
      "연결오류 495번째 200\n",
      "가져오기에러 498번째 list index out of range\n",
      "가져오기에러 502번째 list index out of range\n",
      "연결오류 506번째 200\n",
      "가져오기에러 508번째 list index out of range\n",
      "연결오류 517번째 200\n",
      "가져오기에러 524번째 list index out of range\n",
      "연결오류 528번째 200\n",
      "가져오기에러 530번째 list index out of range\n",
      "연결오류 539번째 200\n",
      "가져오기에러 541번째 list index out of range\n",
      "가져오기에러 542번째 list index out of range\n",
      "가져오기에러 543번째 list index out of range\n",
      "가져오기에러 549번째 list index out of range\n",
      "연결오류 550번째 200\n",
      "가져오기에러 560번째 list index out of range\n",
      "연결오류 561번째 200\n",
      "가져오기에러 570번째 list index out of range\n",
      "연결오류 572번째 200\n",
      "연결오류 583번째 200\n",
      "가져오기에러 588번째 list index out of range\n",
      "연결오류 594번째 200\n",
      "가져오기에러 599번째 list index out of range\n",
      "연결오류 605번째 200\n",
      "가져오기에러 610번째 list index out of range\n",
      "가져오기에러 615번째 list index out of range\n",
      "연결오류 616번째 200\n",
      "가져오기에러 618번째 list index out of range\n",
      "연결오류 627번째 200\n",
      "가져오기에러 631번째 list index out of range\n",
      "가져오기에러 633번째 list index out of range\n",
      "가져오기에러 634번째 list index out of range\n",
      "연결오류 638번째 200\n",
      "가져오기에러 645번째 list index out of range\n",
      "연결오류 649번째 200\n",
      "가져오기에러 651번째 list index out of range\n",
      "가져오기에러 653번째 list index out of range\n",
      "가져오기에러 655번째 list index out of range\n",
      "가져오기에러 659번째 list index out of range\n",
      "연결오류 660번째 200\n",
      "가져오기에러 662번째 list index out of range\n",
      "가져오기에러 664번째 list index out of range\n",
      "가져오기에러 665번째 list index out of range\n",
      "가져오기에러 666번째 list index out of range\n",
      "가져오기에러 668번째 list index out of range\n",
      "가져오기에러 669번째 list index out of range\n",
      "연결오류 671번째 200\n",
      "가져오기에러 672번째 list index out of range\n",
      "연결오류 682번째 200\n",
      "가져오기에러 692번째 list index out of range\n",
      "연결오류 693번째 200\n",
      "가져오기에러 698번째 list index out of range\n",
      "연결오류 704번째 200\n",
      "가져오기에러 706번째 list index out of range\n",
      "가져오기에러 707번째 list index out of range\n",
      "가져오기에러 708번째 list index out of range\n",
      "가져오기에러 710번째 list index out of range\n",
      "연결오류 715번째 200\n",
      "가져오기에러 722번째 list index out of range\n",
      "가져오기에러 723번째 list index out of range\n",
      "연결오류 726번째 200\n",
      "가져오기에러 731번째 list index out of range\n",
      "가져오기에러 736번째 list index out of range\n",
      "연결오류 737번째 200\n",
      "가져오기에러 738번째 list index out of range\n",
      "가져오기에러 743번째 list index out of range\n",
      "연결오류 748번째 200\n",
      "가져오기에러 758번째 list index out of range\n",
      "연결오류 759번째 200\n",
      "가져오기에러 764번째 list index out of range\n",
      "가져오기에러 768번째 list index out of range\n",
      "연결오류 770번째 200\n",
      "가져오기에러 778번째 list index out of range\n",
      "연결오류 781번째 200\n",
      "가져오기에러 782번째 list index out of range\n",
      "연결오류 792번째 200\n",
      "가져오기에러 794번째 list index out of range\n",
      "가져오기에러 795번째 list index out of range\n",
      "가져오기에러 796번째 list index out of range\n",
      "가져오기에러 801번째 list index out of range\n",
      "연결오류 803번째 200\n",
      "가져오기에러 804번째 list index out of range\n",
      "가져오기에러 811번째 list index out of range\n",
      "가져오기에러 813번째 list index out of range\n",
      "연결오류 814번째 200\n",
      "연결오류 825번째 200\n",
      "연결오류 836번째 200\n",
      "가져오기에러 837번째 list index out of range\n",
      "가져오기에러 839번째 list index out of range\n",
      "연결오류 847번째 200\n",
      "가져오기에러 857번째 list index out of range\n",
      "연결오류 858번째 200\n",
      "가져오기에러 861번째 list index out of range\n",
      "가져오기에러 862번째 list index out of range\n",
      "연결오류 869번째 200\n",
      "가져오기에러 870번째 list index out of range\n",
      "가져오기에러 873번째 list index out of range\n",
      "가져오기에러 877번째 list index out of range\n",
      "연결오류 880번째 200\n",
      "가져오기에러 882번째 list index out of range\n",
      "가져오기에러 886번째 list index out of range\n",
      "연결오류 891번째 200\n",
      "가져오기에러 894번째 list index out of range\n",
      "가져오기에러 897번째 list index out of range\n",
      "가져오기에러 900번째 list index out of range\n",
      "가져오기에러 901번째 list index out of range\n",
      "연결오류 902번째 200\n",
      "가져오기에러 903번째 list index out of range\n",
      "가져오기에러 906번째 list index out of range\n",
      "가져오기에러 907번째 list index out of range\n",
      "가져오기에러 909번째 list index out of range\n",
      "가져오기에러 912번째 list index out of range\n",
      "연결오류 913번째 200\n",
      "가져오기에러 919번째 list index out of range\n",
      "가져오기에러 922번째 list index out of range\n",
      "연결오류 924번째 200\n",
      "가져오기에러 927번째 list index out of range\n",
      "연결오류 935번째 200\n",
      "연결오류 946번째 200\n",
      "가져오기에러 948번째 list index out of range\n",
      "가져오기에러 954번째 list index out of range\n",
      "연결오류 957번째 200\n",
      "가져오기에러 959번째 list index out of range\n",
      "가져오기에러 960번째 list index out of range\n",
      "가져오기에러 962번째 list index out of range\n",
      "가져오기에러 963번째 list index out of range\n",
      "가져오기에러 965번째 list index out of range\n",
      "연결오류 968번째 200\n",
      "가져오기에러 972번째 list index out of range\n",
      "가져오기에러 976번째 list index out of range\n",
      "연결오류 979번째 200\n",
      "가져오기에러 988번째 list index out of range\n",
      "연결오류 990번째 200\n",
      "가져오기에러 996번째 list index out of range\n",
      "가져오기에러 999번째 list index out of range\n",
      "가져오기에러 1000번째 list index out of range\n",
      "연결오류 1001번째 200\n",
      "가져오기에러 1002번째 list index out of range\n",
      "연결오류 1012번째 200\n",
      "가져오기에러 1021번째 list index out of range\n",
      "연결오류 1023번째 200\n",
      "가져오기에러 1025번째 list index out of range\n",
      "연결오류 1034번째 200\n",
      "가져오기에러 1035번째 list index out of range\n",
      "가져오기에러 1039번째 list index out of range\n",
      "연결오류 1045번째 200\n",
      "가져오기에러 1048번째 list index out of range\n",
      "연결오류 1056번째 200\n",
      "가져오기에러 1060번째 list index out of range\n",
      "연결오류 1067번째 200\n",
      "가져오기에러 1076번째 list index out of range\n",
      "연결오류 1078번째 200\n",
      "가져오기에러 1082번째 list index out of range\n",
      "가져오기에러 1084번째 list index out of range\n",
      "가져오기에러 1086번째 list index out of range\n"
     ]
    },
    {
     "name": "stdout",
     "output_type": "stream",
     "text": [
      "연결오류 1089번째 200\n",
      "가져오기에러 1093번째 list index out of range\n",
      "연결오류 1100번째 200\n",
      "가져오기에러 1104번째 list index out of range\n",
      "연결오류 1111번째 200\n",
      "\n"
     ]
    }
   ],
   "source": [
    "crawling_df, output_error = naver_blog_crawling(\"양양\",1,1001)"
   ]
  },
  {
   "cell_type": "code",
   "execution_count": 29,
   "metadata": {
    "ExecuteTime": {
     "end_time": "2020-04-01T09:15:26.194468Z",
     "start_time": "2020-04-01T09:15:26.190459Z"
    }
   },
   "outputs": [
    {
     "data": {
      "text/plain": [
       "(824, 4)"
      ]
     },
     "execution_count": 29,
     "metadata": {},
     "output_type": "execute_result"
    }
   ],
   "source": [
    "crawling_df.shape"
   ]
  },
  {
   "cell_type": "code",
   "execution_count": 28,
   "metadata": {
    "ExecuteTime": {
     "end_time": "2020-04-01T09:14:33.776487Z",
     "start_time": "2020-04-01T09:14:33.724476Z"
    }
   },
   "outputs": [],
   "source": [
    "crawling_df.to_csv(keyword+\"_\"+str(end_num)+'.csv',encoding = 'utf-8')"
   ]
  },
  {
   "cell_type": "markdown",
   "metadata": {},
   "source": [
    "### 검수용코드"
   ]
  },
  {
   "cell_type": "code",
   "execution_count": 517,
   "metadata": {
    "ExecuteTime": {
     "end_time": "2020-04-01T09:02:36.876512Z",
     "start_time": "2020-04-01T09:02:36.432408Z"
    }
   },
   "outputs": [],
   "source": [
    "#저장위치\n",
    "postdates = []\n",
    "strings = []\n",
    "urls = []\n",
    "titles = []\n",
    "output_error = []\n",
    "connection_error = []\n",
    "count = 1\n",
    "\n",
    "#keyword와 시작넘버만 바꾸면서 진행하게끔\n",
    "base_url = 'https://search.naver.com/search.naver?date_from=&date_option=0&date_to=&dup_remove=1&nso=&post_blogurl=&post_blogurl_without=&query={keyword}&sm=tab_pge&srchby=all&st=sim&where=post&start={start_num}'\n",
    "\n",
    "#for문 돌려야하는 부분(각 검색결과의 시작은 1이고, 10개씩 보여짐,)\n",
    "search_list = base_url.format(keyword = \"양양\",start_num = 33)\n",
    "response = requests.get(search_list)\n",
    "\n",
    "if response.status_code is 200:\n",
    "    #1번 검색시 10개의 결과가 출력 따라서 section은 총 10개\n",
    "    soup = BeautifulSoup(response.content,'lxml')\n",
    "    sections = soup.findAll('li', attrs={'class':'sh_blog_top'})\n",
    "    section = sections[0]\n",
    "    \n",
    "    #href부분만 가져오기 어려워서 정규표현식으로 검색\n",
    "    url = re.findall(pattern, str(section))[0].replace('?Redirect=Log&amp;logNo=','/').replace('href=\"','')\n",
    "    title = section.select_one('a.txt84').text\n",
    "    date = section.select_one('dd.txt_inline').text.strip()\n",
    "\n",
    "    #블로그 url안에 들어가기(아직 크롤링불가)\n",
    "    get_blog_post_content_code = requests.get(url)\n",
    "    get_blog_post_content_text = get_blog_post_content_code.text\n",
    "    get_blog_post_content_soup = BeautifulSoup(get_blog_post_content_text, 'lxml')\n",
    "\n",
    "    #크롤링가능한 url에 접속\n",
    "    real_blog_post_url = \"http://blog.naver.com\" + get_blog_post_content_soup.select('#mainFrame')[0].get('src')\n",
    "    get_real_blog_post_content_code = requests.get(real_blog_post_url)\n",
    "    get_real_blog_post_content_text = get_real_blog_post_content_code.text\n",
    "    get_real_blog_post_content_soup = BeautifulSoup(get_real_blog_post_content_text, 'lxml')\n",
    "\n",
    "    # url (에러나면 위에서부터 에러남)\n",
    "    urls.append(real_blog_post_url)\n",
    "    #블로그명\n",
    "    titles.append(title)\n",
    "    #날짜\n",
    "    postdates.append(date)\n",
    "\n",
    "    #본문  (postviewarea 패턴과 se-main-container 2가지 유형이 있어 분리함) \n",
    "    try:\n",
    "        blog_post_content = get_real_blog_post_content_soup.select('div#postViewArea')\n",
    "        if len(blog_post_content) == 0:\n",
    "            blog_post_content = get_real_blog_post_content_soup.select('div.se-main-container')\n",
    "\n",
    "        string = \"\"\n",
    "        for sentence in blog_post_content[0].stripped_strings:\n",
    "            string += \" \"+sentence.replace('\\xa0',\" \")\n",
    "            \n",
    "        strings.append([string])\n",
    "        count += 1\n",
    "    except:\n",
    "        strings.append([np.NaN])\n",
    "        count += 1\n",
    "\n",
    "\n",
    "# crawling_df = pd.DataFrame({\"post_dates\":postdates, \"title\":titles, \"full_text\":strings, \"url\":urls})\n"
   ]
  },
  {
   "cell_type": "markdown",
   "metadata": {},
   "source": [
    "### 함수화이전 "
   ]
  },
  {
   "cell_type": "code",
   "execution_count": 456,
   "metadata": {
    "ExecuteTime": {
     "end_time": "2020-04-01T08:32:40.373285Z",
     "start_time": "2020-04-01T08:32:23.477476Z"
    },
    "code_folding": [],
    "scrolled": true
   },
   "outputs": [
    {
     "name": "stdout",
     "output_type": "stream",
     "text": [
      "가져오기에러 list index out of range\n",
      "가져오기에러 list index out of range\n",
      "가져오기에러 list index out of range\n",
      "가져오기에러 list index out of range\n",
      "가져오기에러 list index out of range\n",
      "가져오기에러 list index out of range\n",
      "가져오기에러 list index out of range\n",
      "가져오기에러 list index out of range\n",
      "가져오기에러 list index out of range\n",
      "가져오기에러 list index out of range\n",
      "가져오기에러 list index out of range\n",
      "가져오기에러 list index out of range\n",
      "가져오기에러 list index out of range\n",
      "가져오기에러 list index out of range\n",
      "가져오기에러 list index out of range\n",
      "가져오기에러 list index out of range\n",
      "가져오기에러 list index out of range\n",
      "가져오기에러 list index out of range\n",
      "가져오기에러 list index out of range\n"
     ]
    }
   ],
   "source": [
    "#url 찾는 패턴\n",
    "pattern =re.compile('href=\"'+'[A-z0-9\\:\\/\\&\\;\\.\\?\\=]+')\n",
    "\n",
    "#저장위치\n",
    "postdates = []\n",
    "strings = []\n",
    "urls = []\n",
    "titles = []\n",
    "error_num = []\n",
    "count = 1\n",
    "\n",
    "#keyword와 시작넘버만 바꾸면서 진행하게끔\n",
    "base_url = 'https://search.naver.com/search.naver?date_from=&date_option=0&date_to=&dup_remove=1&nso=&post_blogurl=&post_blogurl_without=&query={keyword}&sm=tab_pge&srchby=all&st=sim&where=post&start={start_num}'\n",
    "\n",
    "#for문 돌려야하는 부분(각 검색결과의 시작은 1이고, 10개씩 보여짐,)\n",
    "for i in range(1,102,10):\n",
    "    search_list = base_url.format(keyword = \"양양\",start_num = i)\n",
    "    response = requests.get(search_list)\n",
    "\n",
    "    if response.status_code is 200:\n",
    "        #1번 검색시 10개의 결과가 출력 따라서 section은 총 10개\n",
    "        soup = BeautifulSoup(response.content,'lxml')\n",
    "        sections = soup.findAll('li', attrs={'class':'sh_blog_top'})\n",
    "\n",
    "        for section in sections:\n",
    "            try:\n",
    "                #href부분만 가져오기 어려워서 정규표현식으로 검색\n",
    "                url = re.findall(pattern, str(section))[0].replace('?Redirect=Log&amp;logNo=','/').replace('href=\"','')\n",
    "                title = section.select_one('a.txt84').text\n",
    "                date = section.select_one('dd.txt_inline').text.strip()\n",
    "\n",
    "                #블로그 url안에 들어가기(아직 크롤링불가)\n",
    "                get_blog_post_content_code = requests.get(url)\n",
    "                get_blog_post_content_text = get_blog_post_content_code.text\n",
    "                get_blog_post_content_soup = BeautifulSoup(get_blog_post_content_text, 'lxml')\n",
    "\n",
    "                #크롤링가능한 url에 접속\n",
    "                real_blog_post_url = \"http://blog.naver.com\" + get_blog_post_content_soup.select('#mainFrame')[0].get('src')\n",
    "                get_real_blog_post_content_code = requests.get(real_blog_post_url)\n",
    "                get_real_blog_post_content_text = get_real_blog_post_content_code.text\n",
    "                get_real_blog_post_content_soup = BeautifulSoup(get_real_blog_post_content_text, 'lxml')\n",
    "\n",
    "                # url (에러나면 위에서부터 에러남)\n",
    "                urls.append(real_blog_post_url)\n",
    "                #블로그명\n",
    "                titles.append(title)\n",
    "                #날짜\n",
    "                postdates.append(date)\n",
    "\n",
    "                #본문  (postviewarea 패턴과 se-main-container 2가지 유형이 있어 분리함) \n",
    "                try:\n",
    "                    blog_post_content = get_real_blog_post_content_soup.select('div#postViewArea')\n",
    "                    if len(blog_post_content) == 0:\n",
    "                        blog_post_content = get_real_blog_post_content_soup.select('div.se-main-container')\n",
    "\n",
    "                    string = \"\"\n",
    "                    for sentence in blog_post_content[0].stripped_strings:\n",
    "                        string += \" \"+sentence.replace('\\xa0',\" \")\n",
    "                    strings.append([string])\n",
    "                    count += 1\n",
    "                except:\n",
    "                    strings.append([np.NaN])\n",
    "                    count += 1\n",
    "\n",
    "            except Exception as ex: \n",
    "                print('가져오기에러',ex)\n",
    "                error_num.append(count)\n",
    "                count += 1\n",
    "                pass"
   ]
  },
  {
   "cell_type": "markdown",
   "metadata": {},
   "source": [
    "### 2020-04-01 17:04:35 길이가 다른것에 해결책\n",
    "* 에러나면 NAN추가해버리기"
   ]
  },
  {
   "cell_type": "code",
   "execution_count": 440,
   "metadata": {
    "ExecuteTime": {
     "end_time": "2020-04-01T08:03:58.500701Z",
     "start_time": "2020-04-01T08:03:58.492700Z"
    }
   },
   "outputs": [
    {
     "data": {
      "text/html": [
       "<div>\n",
       "<style scoped>\n",
       "    .dataframe tbody tr th:only-of-type {\n",
       "        vertical-align: middle;\n",
       "    }\n",
       "\n",
       "    .dataframe tbody tr th {\n",
       "        vertical-align: top;\n",
       "    }\n",
       "\n",
       "    .dataframe thead th {\n",
       "        text-align: right;\n",
       "    }\n",
       "</style>\n",
       "<table border=\"1\" class=\"dataframe\">\n",
       "  <thead>\n",
       "    <tr style=\"text-align: right;\">\n",
       "      <th></th>\n",
       "      <th>post_dates</th>\n",
       "      <th>title</th>\n",
       "      <th>full_text</th>\n",
       "      <th>url</th>\n",
       "    </tr>\n",
       "  </thead>\n",
       "  <tbody>\n",
       "    <tr>\n",
       "      <td>0</td>\n",
       "      <td>2020.02.21.</td>\n",
       "      <td>끼임주히블로그</td>\n",
       "      <td>[ 요즘에 회가 너무 먹고 싶더라고요 근데 그냥 집 근처에서 먹긴 싫어서 시간되는 ...</td>\n",
       "      <td>http://blog.naver.com/PostView.nhn?blogId=rlaw...</td>\n",
       "    </tr>\n",
       "    <tr>\n",
       "      <td>1</td>\n",
       "      <td>2020.02.11.</td>\n",
       "      <td>아토맘, 사회를 즐기다!</td>\n",
       "      <td>[ ​ 오랜만에 가족들과 함께 즐거운 시간을 보내기 위해서 다 같이 시간을 내서 양...</td>\n",
       "      <td>http://blog.naver.com/PostView.nhn?blogId=kdk2...</td>\n",
       "    </tr>\n",
       "    <tr>\n",
       "      <td>2</td>\n",
       "      <td>2020.03.16.</td>\n",
       "      <td>매력BUBU♥</td>\n",
       "      <td>[ ​ #양양여행 #강원도여행 # 글램핑 #속초해변 #양양글램핑 #속초글램핑 #후진...</td>\n",
       "      <td>http://blog.naver.com/PostView.nhn?blogId=aosj...</td>\n",
       "    </tr>\n",
       "    <tr>\n",
       "      <td>3</td>\n",
       "      <td>6일 전</td>\n",
       "      <td>우주까지 가고픈 초보여행자...</td>\n",
       "      <td>[ 아직 한국은 물론 전세계가 이렇게까지 코로나19사태가 심각하지 않을 시즌... ...</td>\n",
       "      <td>http://blog.naver.com/PostView.nhn?blogId=naru...</td>\n",
       "    </tr>\n",
       "    <tr>\n",
       "      <td>4</td>\n",
       "      <td>8시간 전</td>\n",
       "      <td>#찐ㅋ의 바람아 불어라</td>\n",
       "      <td>[ 양양 수제버거 파머스키친2호점 후기 ! 몇 ​ 년전부터 서핑으로 유명해진 바다가...</td>\n",
       "      <td>http://blog.naver.com/PostView.nhn?blogId=khji...</td>\n",
       "    </tr>\n",
       "    <tr>\n",
       "      <td>5</td>\n",
       "      <td>3일 전</td>\n",
       "      <td>♥썬파워님의블로그♥</td>\n",
       "      <td>[ 안녕하세요 조금 있으면 둘째가 나와서 앞으로 못 돌아다닐꺼 같아서 양양 여행을 ...</td>\n",
       "      <td>http://blog.naver.com/PostView.nhn?blogId=taya...</td>\n",
       "    </tr>\n",
       "    <tr>\n",
       "      <td>6</td>\n",
       "      <td>2020.03.17.</td>\n",
       "      <td>영인아! 영후야! 뭐...</td>\n",
       "      <td>[ 얼마 전 , 신랑과 퇴근 후 집에서 도란도란 대화를 나누는 와중에 신랑이 갑자기...</td>\n",
       "      <td>http://blog.naver.com/PostView.nhn?blogId=poin...</td>\n",
       "    </tr>\n",
       "    <tr>\n",
       "      <td>7</td>\n",
       "      <td>2020.03.19.</td>\n",
       "      <td>라라몬의 재밌는 놀이</td>\n",
       "      <td>[ 안녕하세요 라라몬입니다 :) 코로나 19 가 지금처럼 전국적으로 퍼지기 직전.....</td>\n",
       "      <td>http://blog.naver.com/PostView.nhn?blogId=cjdt...</td>\n",
       "    </tr>\n",
       "  </tbody>\n",
       "</table>\n",
       "</div>"
      ],
      "text/plain": [
       "    post_dates              title  \\\n",
       "0  2020.02.21.            끼임주히블로그   \n",
       "1  2020.02.11.      아토맘, 사회를 즐기다!   \n",
       "2  2020.03.16.            매력BUBU♥   \n",
       "3         6일 전  우주까지 가고픈 초보여행자...   \n",
       "4        8시간 전       #찐ㅋ의 바람아 불어라   \n",
       "5         3일 전         ♥썬파워님의블로그♥   \n",
       "6  2020.03.17.     영인아! 영후야! 뭐...   \n",
       "7  2020.03.19.        라라몬의 재밌는 놀이   \n",
       "\n",
       "                                           full_text  \\\n",
       "0  [ 요즘에 회가 너무 먹고 싶더라고요 근데 그냥 집 근처에서 먹긴 싫어서 시간되는 ...   \n",
       "1  [ ​ 오랜만에 가족들과 함께 즐거운 시간을 보내기 위해서 다 같이 시간을 내서 양...   \n",
       "2  [ ​ #양양여행 #강원도여행 # 글램핑 #속초해변 #양양글램핑 #속초글램핑 #후진...   \n",
       "3  [ 아직 한국은 물론 전세계가 이렇게까지 코로나19사태가 심각하지 않을 시즌... ...   \n",
       "4  [ 양양 수제버거 파머스키친2호점 후기 ! 몇 ​ 년전부터 서핑으로 유명해진 바다가...   \n",
       "5  [ 안녕하세요 조금 있으면 둘째가 나와서 앞으로 못 돌아다닐꺼 같아서 양양 여행을 ...   \n",
       "6  [ 얼마 전 , 신랑과 퇴근 후 집에서 도란도란 대화를 나누는 와중에 신랑이 갑자기...   \n",
       "7  [ 안녕하세요 라라몬입니다 :) 코로나 19 가 지금처럼 전국적으로 퍼지기 직전.....   \n",
       "\n",
       "                                                 url  \n",
       "0  http://blog.naver.com/PostView.nhn?blogId=rlaw...  \n",
       "1  http://blog.naver.com/PostView.nhn?blogId=kdk2...  \n",
       "2  http://blog.naver.com/PostView.nhn?blogId=aosj...  \n",
       "3  http://blog.naver.com/PostView.nhn?blogId=naru...  \n",
       "4  http://blog.naver.com/PostView.nhn?blogId=khji...  \n",
       "5  http://blog.naver.com/PostView.nhn?blogId=taya...  \n",
       "6  http://blog.naver.com/PostView.nhn?blogId=poin...  \n",
       "7  http://blog.naver.com/PostView.nhn?blogId=cjdt...  "
      ]
     },
     "execution_count": 440,
     "metadata": {},
     "output_type": "execute_result"
    }
   ],
   "source": [
    "crawling_df"
   ]
  },
  {
   "cell_type": "code",
   "execution_count": 186,
   "metadata": {
    "ExecuteTime": {
     "end_time": "2020-04-01T04:54:15.504297Z",
     "start_time": "2020-04-01T04:54:15.501296Z"
    }
   },
   "outputs": [
    {
     "data": {
      "text/plain": [
       "[]"
      ]
     },
     "execution_count": 186,
     "metadata": {},
     "output_type": "execute_result"
    }
   ],
   "source": [
    "aaa[0].findAll(pattern)"
   ]
  },
  {
   "cell_type": "code",
   "execution_count": 192,
   "metadata": {
    "ExecuteTime": {
     "end_time": "2020-04-01T04:56:00.080069Z",
     "start_time": "2020-04-01T04:56:00.077076Z"
    }
   },
   "outputs": [
    {
     "data": {
      "text/plain": [
       "'<a class=\"sp_thmb thmb80\" href=\"https://blog.naver.com/lyu1388?Redirect=Log&amp;logNo=221827133546\" onclick=\"return goOtherCR(this, \\'a=blg*i.img&amp;r=31&amp;i=90000003_0000000000000033A5ED706A&amp;u=\\'+urlencode(this.href))\" target=\"_blank\"><img alt=\"양양 가볼만한곳 하조\" class=\"sh_blog_thumbnail\" onerror=\"this.parentNode.parentNode.style.display=\\'none\\';\" onload=\"onThumbnailLoad(this,\\'https://search.pstatic.net/common/?src=http%3A%2F%2Fblogfiles.naver.net%2FMjAyMDAyMjdfMTk1%2FMDAxNTgyNzY2Mzg0NzQw.7j65LlZj10A4sXaP3q-Cuu4QkQhvrm7WzErbfX5AYdwg.6_UQ4U8dtlLxP5rHrBQDMaq-KuOv_Qoi1epIQ9fmgF0g.JPEG.lyu1388%2F27.JPG%232684x1790&amp;type=m80_80\\');\" src=\"https://search.pstatic.net/common/?src=http%3A%2F%2Fblogfiles.naver.net%2FMjAyMDAyMjdfMTk1%2FMDAxNTgyNzY2Mzg0NzQw.7j65LlZj10A4sXaP3q-Cuu4QkQhvrm7WzErbfX5AYdwg.6_UQ4U8dtlLxP5rHrBQDMaq-KuOv_Qoi1epIQ9fmgF0g.JPEG.lyu1388%2F27.JPG%232684x1790&amp;type=m80_80\"/><span class=\"thmb_v\"></span><span class=\"mask\"></span> </a>'"
      ]
     },
     "execution_count": 192,
     "metadata": {},
     "output_type": "execute_result"
    }
   ],
   "source": [
    "str(aaa[0])"
   ]
  },
  {
   "cell_type": "code",
   "execution_count": 190,
   "metadata": {
    "ExecuteTime": {
     "end_time": "2020-04-01T04:55:48.551007Z",
     "start_time": "2020-04-01T04:55:48.548015Z"
    }
   },
   "outputs": [],
   "source": [
    "pattern =re.compile('href=\"'+'[A-z0-9\\:\\/\\&\\;\\.\\?\\=]+')"
   ]
  },
  {
   "cell_type": "code",
   "execution_count": 188,
   "metadata": {
    "ExecuteTime": {
     "end_time": "2020-04-01T04:55:38.599390Z",
     "start_time": "2020-04-01T04:55:38.596398Z"
    }
   },
   "outputs": [],
   "source": [
    "test= 'href=\"https://blog.naver.com/lyu1388?Redirect=Log&amp;logNo=221827133546\"'"
   ]
  },
  {
   "cell_type": "code",
   "execution_count": 195,
   "metadata": {
    "ExecuteTime": {
     "end_time": "2020-04-01T04:56:48.015912Z",
     "start_time": "2020-04-01T04:56:48.011919Z"
    }
   },
   "outputs": [],
   "source": [
    "test2 = '<a class=\"sp_thmb thmb80\" href=\"https://blog.naver.com/lyu1388?Redirect=Log&amp;logNo=221827133546\" onclick=\"return goOtherCR(this, \\'a=blg*i.img&amp;r=31&amp;i=90000003_0000000000000033A5ED706A&amp;u=\\'+urlencode(this.href))\" target=\"_blank\"><img alt=\"양양 가볼만한곳 하조\" class=\"sh_blog_thumbnail\" onerror=\"this.parentNode.parentNode.style.display=\\'none\\';\" onload=\"onThumbnailLoad(this,\\'https://search.pstatic.net/common/?src=http%3A%2F%2Fblogfiles.naver.net%2FMjAyMDAyMjdfMTk1%2FMDAxNTgyNzY2Mzg0NzQw.7j65LlZj10A4sXaP3q-Cuu4QkQhvrm7WzErbfX5AYdwg.6_UQ4U8dtlLxP5rHrBQDMaq-KuOv_Qoi1epIQ9fmgF0g.JPEG.lyu1388%2F27.JPG%232684x1790&amp;type=m80_80\\');\" src=\"https://search.pstatic.net/common/?src=http%3A%2F%2Fblogfiles.naver.net%2FMjAyMDAyMjdfMTk1%2FMDAxNTgyNzY2Mzg0NzQw.7j65LlZj10A4sXaP3q-Cuu4QkQhvrm7WzErbfX5AYdwg.6_UQ4U8dtlLxP5rHrBQDMaq-KuOv_Qoi1epIQ9fmgF0g.JPEG.lyu1388%2F27.JPG%232684x1790&amp;type=m80_80\"/><span class=\"thmb_v\"></span><span class=\"mask\"></span> </a>'"
   ]
  },
  {
   "cell_type": "code",
   "execution_count": 208,
   "metadata": {
    "ExecuteTime": {
     "end_time": "2020-04-01T05:02:14.407598Z",
     "start_time": "2020-04-01T05:02:14.404597Z"
    }
   },
   "outputs": [],
   "source": [
    "url = re.findall(pattern, str(aaa[0]))[0].replace('?Redirect=Log&amp;logNo=','/').replace('href=\"','')"
   ]
  },
  {
   "cell_type": "code",
   "execution_count": 209,
   "metadata": {
    "ExecuteTime": {
     "end_time": "2020-04-01T05:02:15.014790Z",
     "start_time": "2020-04-01T05:02:15.011795Z"
    }
   },
   "outputs": [
    {
     "data": {
      "text/plain": [
       "'https://blog.naver.com/lyu1388/221827133546'"
      ]
     },
     "execution_count": 209,
     "metadata": {},
     "output_type": "execute_result"
    }
   ],
   "source": [
    "url"
   ]
  },
  {
   "cell_type": "code",
   "execution_count": 124,
   "metadata": {
    "ExecuteTime": {
     "end_time": "2020-04-01T04:28:52.160353Z",
     "start_time": "2020-04-01T04:28:52.126347Z"
    }
   },
   "outputs": [
    {
     "data": {
      "text/plain": [
       "<ul class=\"type01\" id=\"elThumbnailResultArea\"> <li class=\"sh_blog_top\" id=\"sp_blog_1\"> <div class=\"thumb thumb-rollover\"> <a class=\"sp_thmb thmb80\" href=\"https://blog.naver.com/lyu1388?Redirect=Log&amp;logNo=221827133546\" onclick=\"return goOtherCR(this, 'a=blg*i.img&amp;r=31&amp;i=90000003_0000000000000033A5ED706A&amp;u='+urlencode(this.href))\" target=\"_blank\"><img alt=\"양양 가볼만한곳 하조\" class=\"sh_blog_thumbnail\" onerror=\"this.parentNode.parentNode.style.display='none';\" onload=\"onThumbnailLoad(this,'https://search.pstatic.net/common/?src=http%3A%2F%2Fblogfiles.naver.net%2FMjAyMDAyMjdfMTk1%2FMDAxNTgyNzY2Mzg0NzQw.7j65LlZj10A4sXaP3q-Cuu4QkQhvrm7WzErbfX5AYdwg.6_UQ4U8dtlLxP5rHrBQDMaq-KuOv_Qoi1epIQ9fmgF0g.JPEG.lyu1388%2F27.JPG%232684x1790&amp;type=m80_80');\" src=\"https://search.pstatic.net/common/?src=http%3A%2F%2Fblogfiles.naver.net%2FMjAyMDAyMjdfMTk1%2FMDAxNTgyNzY2Mzg0NzQw.7j65LlZj10A4sXaP3q-Cuu4QkQhvrm7WzErbfX5AYdwg.6_UQ4U8dtlLxP5rHrBQDMaq-KuOv_Qoi1epIQ9fmgF0g.JPEG.lyu1388%2F27.JPG%232684x1790&amp;type=m80_80\"/><span class=\"thmb_v\"></span><span class=\"mask\"></span> </a> <a class=\"thumb_num num-rollover\" href=\"#\"><span>23<span class=\"blind\">장의 이미지 더보기</span></span></a> <div class=\"thumb_slide_wrap\" style=\"width:0px; overflow:hidden; display:none;\"></div> </div> <dl> <dt><a class=\"sh_blog_title _sp_each_url _sp_each_title\" href=\"https://blog.naver.com/lyu1388?Redirect=Log&amp;logNo=221827133546\" onclick=\"return goOtherCR(this, 'a=blg*i.tit&amp;r=31&amp;i=90000003_0000000000000033A5ED706A&amp;u='+urlencode(this.href))\" target=\"_blank\" title=\"양양 가볼만한곳 하조대와 전망대\"><strong class=\"hl\">양양</strong> 가볼만한곳 하조대와 전망대</a></dt> <dd class=\"txt_inline\">2020.02.28. </dd> <dd class=\"sh_blog_passage\">7번 국도를 달리며 즐기는 여정 중에서 이번에는 강원도 <strong class=\"hl\">양양</strong> 땅을 밟으며 여행을... 세 곳 모두가 벼랑 끝에 나빌레고 있어 <strong class=\"hl\">양양</strong> 가볼만한곳으로 정평이 나 있다. ◆<strong class=\"hl\">양양</strong>...</dd> <dd class=\"txt_block\"> <span class=\"inline\"> <a class=\"txt84\" href=\"https://blog.naver.com/lyu1388\" onclick=\"return goOtherCR(this, 'u='+urlencode(urlexpand(this.href))+'&amp;a=blg*i.blogname&amp;r=31&amp;i=90000003_0000000000000033A5ED706A');\" target=\"_blank\">재학이여정</a> <a class=\"url\" href=\"https://blog.naver.com/lyu1388?Redirect=Log&amp;logNo=221827133546\" onclick=\"return goOtherCR(this, 'a=blg*i.url&amp;r=31&amp;i=90000003_0000000000000033A5ED706A&amp;u='+urlencode(this.href))\" target=\"_blank\">blog.naver.com/lyu13...</a> <span class=\"bar\"></span><a class=\"txt84\" href=\"?date_from=&amp;date_option=0&amp;date_to=&amp;dup_remove=1&amp;nso=&amp;qdt=0&amp;query=%EC%96%91%EC%96%91&amp;qvt=0&amp;sm=tab_brs&amp;srchby=all&amp;st=sim&amp;where=post&amp;post_blogurl=blog.naver.com%2Flyu1388\" onclick=\"return goOtherCR(this, 'a=blg*i.similar&amp;r=31&amp;i=90000003_0000000000000033A5ED706A&amp;u='+urlencode(this.href))\">블로그 내 검색</a> <span class=\"bar\"></span><a class=\"map_opn _bck_open_map _mapid-bl01115593339 _postId-90000003_0000000000000033A5ED706A _cr-a=blg*i.area&amp;r=0&amp;i=90000003_0000000000000033A5ED706A\" href=\"#\" onclick=\"return false;\">약도</a> </span> </dd> </dl> </li> <li class=\"sh_blog_top\" id=\"sp_blog_2\"> <div class=\"thumb thumb-rollover\"> <a class=\"sp_thmb thmb80\" href=\"https://blog.naver.com/likeyyang?Redirect=Log&amp;logNo=221883507602\" onclick=\"return goOtherCR(this, 'a=blg*i.img&amp;r=32&amp;i=90000003_0000000000000033A949A392&amp;u='+urlencode(this.href))\" target=\"_blank\"><img alt=\"서퍼들이 사랑하는 양\" class=\"sh_blog_thumbnail\" onerror=\"this.parentNode.parentNode.style.display='none';\" onload=\"onThumbnailLoad(this,'https://search.pstatic.net/common/?src=http%3A%2F%2Fblogfiles.naver.net%2FMjAyMDAzMzFfNTYg%2FMDAxNTg1NjQ2NDQwMDY0.pg82syxJmoyDussdEMi82VjR9SDap85g6lyxtRFh3Fgg._HypAjCLUxPgSkK0gehq6oG2nJIkAICryKP0VMdxaHsg.PNG.likeyyang%2F%25BC%25B6%25B3%25DA_0331%25282%2529.png%23300x300&amp;type=m80_80');\" src=\"https://search.pstatic.net/common/?src=http%3A%2F%2Fblogfiles.naver.net%2FMjAyMDAzMzFfNTYg%2FMDAxNTg1NjQ2NDQwMDY0.pg82syxJmoyDussdEMi82VjR9SDap85g6lyxtRFh3Fgg._HypAjCLUxPgSkK0gehq6oG2nJIkAICryKP0VMdxaHsg.PNG.likeyyang%2F%25BC%25B6%25B3%25DA_0331%25282%2529.png%23300x300&amp;type=m80_80\"/><span class=\"thmb_v\"></span><span class=\"mask\"></span> </a> <a class=\"thumb_num num-rollover\" href=\"#\"><span>1<span class=\"blind\">장의 이미지 더보기</span></span></a> <div class=\"thumb_slide_wrap\" style=\"width:0px; overflow:hidden; display:none;\"></div> </div> <dl> <dt><a class=\"sh_blog_title _sp_each_url _sp_each_title\" href=\"https://blog.naver.com/likeyyang?Redirect=Log&amp;logNo=221883507602\" onclick=\"return goOtherCR(this, 'a=blg*i.tit&amp;r=32&amp;i=90000003_0000000000000033A949A392&amp;u='+urlencode(this.href))\" target=\"_blank\" title=\"서핑하고 가실래요? 서퍼들이 사랑하는 양양 힙플레이스 #죽도해수욕장\">서퍼들이 사랑하는 <strong class=\"hl\">양양</strong> 힙플레이스 #죽도해수욕장</a></dt> <dd class=\"txt_inline\">17시간 전 </dd> <dd class=\"sh_blog_passage\">깃든 <strong class=\"hl\">양양</strong>의 NO.1 바다입니다! 길가에 가득한 서핑보드와 특유의 힙한 감성이... <strong class=\"hl\">양양</strong> 여행을 하다 보면 바닷가 길을 따라 정말 많은 해수욕장들을 만날 수 있습니다....</dd> <dd class=\"txt_block\"> <span class=\"inline\"> <a class=\"txt84\" href=\"https://blog.naver.com/likeyyang\" onclick=\"return goOtherCR(this, 'u='+urlencode(urlexpand(this.href))+'&amp;a=blg*i.blogname&amp;r=32&amp;i=90000003_0000000000000033A949A392');\" target=\"_blank\">양양군청 공식블로그</a> <span class=\"spcm ico_total ico_official\">공식</span> <a class=\"url\" href=\"https://blog.naver.com/likeyyang?Redirect=Log&amp;logNo=221883507602\" onclick=\"return goOtherCR(this, 'a=blg*i.url&amp;r=32&amp;i=90000003_0000000000000033A949A392&amp;u='+urlencode(this.href))\" target=\"_blank\">blog.naver.com/likey...</a> <span class=\"bar\"></span><a class=\"txt84\" href=\"?date_from=&amp;date_option=0&amp;date_to=&amp;dup_remove=1&amp;nso=&amp;qdt=0&amp;query=%EC%96%91%EC%96%91&amp;qvt=0&amp;sm=tab_brs&amp;srchby=all&amp;st=sim&amp;where=post&amp;post_blogurl=blog.naver.com%2Flikeyyang\" onclick=\"return goOtherCR(this, 'a=blg*i.similar&amp;r=32&amp;i=90000003_0000000000000033A949A392&amp;u='+urlencode(this.href))\">블로그 내 검색</a> <span class=\"bar\"></span><a class=\"map_opn _bck_open_map _mapid-bl01119869603 _postId-90000003_0000000000000033A949A392 _cr-a=blg*i.area&amp;r=2&amp;i=90000003_0000000000000033A949A392\" href=\"#\" onclick=\"return false;\">약도</a> </span> </dd> </dl> </li> <li class=\"sh_blog_top\" id=\"sp_blog_3\"> <div class=\"thumb thumb-rollover\"> <a class=\"sp_thmb thmb80\" href=\"https://blog.naver.com/tlvkfwngml?Redirect=Log&amp;logNo=221882763959\" onclick=\"return goOtherCR(this, 'a=blg*i.img&amp;r=33&amp;i=90000003_0000000000000033A93E4AB7&amp;u='+urlencode(this.href))\" target=\"_blank\"><img alt=\"강원도 양양서핑 서프\" class=\"sh_blog_thumbnail\" onerror=\"this.parentNode.parentNode.style.display='none';\" onload=\"onThumbnailLoad(this,'https://search.pstatic.net/common/?src=http%3A%2F%2Fblogfiles.naver.net%2FMjAyMDAzMzFfMTgg%2FMDAxNTg1NjE5NjU5MDQx.PTYmX7hQ68_iNULMaPL-EV1QF6MzDMw5AG--g83J474g.m-ai7ZZvf3xmbHbQ2iz_dIdD_hxd8tSxelaRjUh6jaIg.JPEG.tlvkfwngml%2F23%25BD%25E6%25B3%25D7%25C0%25CF.JPG%233024x4032&amp;type=m80_80');\" src=\"https://search.pstatic.net/common/?src=http%3A%2F%2Fblogfiles.naver.net%2FMjAyMDAzMzFfMTgg%2FMDAxNTg1NjE5NjU5MDQx.PTYmX7hQ68_iNULMaPL-EV1QF6MzDMw5AG--g83J474g.m-ai7ZZvf3xmbHbQ2iz_dIdD_hxd8tSxelaRjUh6jaIg.JPEG.tlvkfwngml%2F23%25BD%25E6%25B3%25D7%25C0%25CF.JPG%233024x4032&amp;type=m80_80\"/><span class=\"thmb_v\"></span><span class=\"mask\"></span> </a> <a class=\"thumb_num num-rollover\" href=\"#\"><span>25<span class=\"blind\">장의 이미지 더보기</span></span></a> <div class=\"thumb_slide_wrap\" style=\"width:0px; overflow:hidden; display:none;\"></div> </div> <dl> <dt><a class=\"sh_blog_title _sp_each_url _sp_each_title\" href=\"https://blog.naver.com/tlvkfwngml?Redirect=Log&amp;logNo=221882763959\" onclick=\"return goOtherCR(this, 'a=blg*i.tit&amp;r=33&amp;i=90000003_0000000000000033A93E4AB7&amp;u='+urlencode(this.href))\" target=\"_blank\" title=\"강원도 양양서핑 서프팩토리에서 서핑배우기 꿀잼~\">강원도 <strong class=\"hl\">양양</strong>서핑 서프팩토리에서 서핑배우기 꿀잼~</a></dt> <dd class=\"txt_inline\">어제 </dd> <dd class=\"sh_blog_passage\">특히 강원도서핑을 하러 자주가는데 오늘은 그 때마다 서핑배우기 하고 있는 '서프팩토리'를 잇님들께 소개시켜드리려고 해요:) <strong class=\"hl\">양양</strong>서핑 스쿨로 동해와 <strong class=\"hl\">양양</strong>...</dd> <dd class=\"txt_block\"> <span class=\"inline\"> <a class=\"txt84\" href=\"https://blog.naver.com/tlvkfwngml\" onclick=\"return goOtherCR(this, 'u='+urlencode(urlexpand(this.href))+'&amp;a=blg*i.blogname&amp;r=33&amp;i=90000003_0000000000000033A93E4AB7');\" target=\"_blank\">첫번째선물♡</a> <a class=\"url\" href=\"https://blog.naver.com/tlvkfwngml?Redirect=Log&amp;logNo=221882763959\" onclick=\"return goOtherCR(this, 'a=blg*i.url&amp;r=33&amp;i=90000003_0000000000000033A93E4AB7&amp;u='+urlencode(this.href))\" target=\"_blank\">blog.naver.com/tlvkf...</a> <span class=\"bar\"></span><a class=\"txt84\" href=\"?date_from=&amp;date_option=0&amp;date_to=&amp;dup_remove=1&amp;nso=&amp;qdt=0&amp;query=%EC%96%91%EC%96%91&amp;qvt=0&amp;sm=tab_brs&amp;srchby=all&amp;st=sim&amp;where=post&amp;post_blogurl=blog.naver.com%2Ftlvkfwngml\" onclick=\"return goOtherCR(this, 'a=blg*i.similar&amp;r=33&amp;i=90000003_0000000000000033A93E4AB7&amp;u='+urlencode(this.href))\">블로그 내 검색</a> <span class=\"bar\"></span><a class=\"map_opn _bck_open_map _mapid-bl01119807218 _postId-90000003_0000000000000033A93E4AB7 _cr-a=blg*i.area&amp;r=4&amp;i=90000003_0000000000000033A93E4AB7\" href=\"#\" onclick=\"return false;\">약도</a> </span> </dd> </dl> </li> <li class=\"sh_blog_top\" id=\"sp_blog_4\"> <div class=\"thumb thumb-rollover\"> <a class=\"sp_thmb thmb80\" href=\"https://blog.naver.com/h00000n?Redirect=Log&amp;logNo=221869373687\" onclick=\"return goOtherCR(this, 'a=blg*i.img&amp;r=34&amp;i=90000003_0000000000000033A871F8F7&amp;u='+urlencode(this.href))\" target=\"_blank\"><img alt=\"강원도여행/양양숙소 \" class=\"sh_blog_thumbnail\" onerror=\"this.parentNode.parentNode.style.display='none';\" onload=\"onThumbnailLoad(this,'https://search.pstatic.net/common/?src=http%3A%2F%2Fblogfiles.naver.net%2FMjAyMDAyMjJfMTAg%2FMDAxNTgyMzY2Njk3OTc1.5M38aKGm8SdLnL_nj8c9UeKkBuh8eAUct58ifuw2gZIg.Mmy9ELhmq6c8PdRNce6dhxzESbv4inUXibZxE9FbLrYg.JPEG.h00000n%2FIMG_7381.jpg%23900x675&amp;type=m80_80');\" src=\"https://search.pstatic.net/common/?src=http%3A%2F%2Fblogfiles.naver.net%2FMjAyMDAyMjJfMTAg%2FMDAxNTgyMzY2Njk3OTc1.5M38aKGm8SdLnL_nj8c9UeKkBuh8eAUct58ifuw2gZIg.Mmy9ELhmq6c8PdRNce6dhxzESbv4inUXibZxE9FbLrYg.JPEG.h00000n%2FIMG_7381.jpg%23900x675&amp;type=m80_80\"/><span class=\"thmb_v\"></span><span class=\"mask\"></span> </a> <a class=\"thumb_num num-rollover\" href=\"#\"><span>40<span class=\"blind\">장의 이미지 더보기</span></span></a> <div class=\"thumb_slide_wrap\" style=\"width:0px; overflow:hidden; display:none;\"></div> </div> <dl> <dt><a class=\"sh_blog_title _sp_each_url _sp_each_title\" href=\"https://blog.naver.com/h00000n?Redirect=Log&amp;logNo=221869373687\" onclick=\"return goOtherCR(this, 'a=blg*i.tit&amp;r=34&amp;i=90000003_0000000000000033A871F8F7&amp;u='+urlencode(this.href))\" target=\"_blank\" title=\"강원도여행/양양숙소 낙산비치호텔(마운틴뷰)\">강원도여행/<strong class=\"hl\">양양</strong>숙소 낙산비치호텔(마운틴뷰)</a></dt> <dd class=\"txt_inline\">2020.03.23. </dd> <dd class=\"sh_blog_passage\">잠깐이라도 시간이 있다면 여수, 포항, 경주, 부산, <strong class=\"hl\">양양</strong>, 속초, 파주, 양평 등... 체크인 15:00체크아웃 11:00 #<strong class=\"hl\">양양</strong>숙소 #<strong class=\"hl\">양양</strong>합리적인숙소 #<strong class=\"hl\">양양</strong>저렴한숙소 #낙산사...</dd> <dd class=\"txt_block\"> <span class=\"inline\"> <a class=\"txt84\" href=\"https://blog.naver.com/h00000n\" onclick=\"return goOtherCR(this, 'u='+urlencode(urlexpand(this.href))+'&amp;a=blg*i.blogname&amp;r=34&amp;i=90000003_0000000000000033A871F8F7');\" target=\"_blank\">지극히 사적인 훈2블...</a> <a class=\"url\" href=\"https://blog.naver.com/h00000n?Redirect=Log&amp;logNo=221869373687\" onclick=\"return goOtherCR(this, 'a=blg*i.url&amp;r=34&amp;i=90000003_0000000000000033A871F8F7&amp;u='+urlencode(this.href))\" target=\"_blank\">blog.naver.com/h00000n/221869373687</a> <span class=\"bar\"></span><a class=\"txt84\" href=\"?date_from=&amp;date_option=0&amp;date_to=&amp;dup_remove=1&amp;nso=&amp;qdt=0&amp;query=%EC%96%91%EC%96%91&amp;qvt=0&amp;sm=tab_brs&amp;srchby=all&amp;st=sim&amp;where=post&amp;post_blogurl=blog.naver.com%2Fh00000n\" onclick=\"return goOtherCR(this, 'a=blg*i.similar&amp;r=34&amp;i=90000003_0000000000000033A871F8F7&amp;u='+urlencode(this.href))\">블로그 내 검색</a> </span> </dd> </dl> </li> <li class=\"sh_blog_top\" id=\"sp_blog_5\"> <div class=\"thumb thumb-rollover\"> <a class=\"sp_thmb thmb80\" href=\"https://blog.naver.com/ddongssanbaj?Redirect=Log&amp;logNo=221860850608\" onclick=\"return goOtherCR(this, 'a=blg*i.img&amp;r=35&amp;i=90000003_0000000000000033A7EFEBB0&amp;u='+urlencode(this.href))\" target=\"_blank\"><img alt=\"2020년 3월 양양 제주\" class=\"sh_blog_thumbnail\" onerror=\"this.parentNode.parentNode.style.display='none';\" onload=\"onThumbnailLoad(this,'https://search.pstatic.net/common/?src=http%3A%2F%2Fblogfiles.naver.net%2FMjAyMDAzMThfNDEg%2FMDAxNTg0NTM4MTIzMDcy.cOSorGoTn4aK_zx1WnbFxPDCekgP4jmJ6Lmp2ORnoVcg.G21dbEfKFVjo_iGMSB925vDjp3I6JH_5L8ufHzcrkyYg.JPEG.ddongssanbaj%2F20200304_085202.jpg%232080x1170&amp;type=m80_80');\" src=\"https://search.pstatic.net/common/?src=http%3A%2F%2Fblogfiles.naver.net%2FMjAyMDAzMThfNDEg%2FMDAxNTg0NTM4MTIzMDcy.cOSorGoTn4aK_zx1WnbFxPDCekgP4jmJ6Lmp2ORnoVcg.G21dbEfKFVjo_iGMSB925vDjp3I6JH_5L8ufHzcrkyYg.JPEG.ddongssanbaj%2F20200304_085202.jpg%232080x1170&amp;type=m80_80\"/><span class=\"thmb_v\"></span><span class=\"mask\"></span> </a> <a class=\"thumb_num num-rollover\" href=\"#\"><span>16<span class=\"blind\">장의 이미지 더보기</span></span></a> <div class=\"thumb_slide_wrap\" style=\"width:0px; overflow:hidden; display:none;\"></div> </div> <dl> <dt><a class=\"sh_blog_title _sp_each_url _sp_each_title\" href=\"https://blog.naver.com/ddongssanbaj?Redirect=Log&amp;logNo=221860850608\" onclick=\"return goOtherCR(this, 'a=blg*i.tit&amp;r=35&amp;i=90000003_0000000000000033A7EFEBB0&amp;u='+urlencode(this.href))\" target=\"_blank\" title=\"2020년 3월 양양 제주 플라이강원 탑승기\">2020년 3월 <strong class=\"hl\">양양</strong> 제주 플라이강원 탑승기</a></dt> <dd class=\"txt_inline\">2020.03.19. </dd> <dd class=\"sh_blog_passage\">2020년 3월 <strong class=\"hl\">양양</strong> 제주 플라이강원 탑승기 <strong class=\"hl\">양양</strong>공항을 모기지로 작년 LCC 면허를 받고 <strong class=\"hl\">양양</strong>-제주간 운항을 시작한 플라이강원을 시승해 봤다. 1호기에 이어 2,3호기를 인도...</dd> <dd class=\"txt_block\"> <span class=\"inline\"> <a class=\"txt84\" href=\"https://blog.naver.com/ddongssanbaj\" onclick=\"return goOtherCR(this, 'u='+urlencode(urlexpand(this.href))+'&amp;a=blg*i.blogname&amp;r=35&amp;i=90000003_0000000000000033A7EFEBB0');\" target=\"_blank\">강원도 블루베리삼촌</a> <a class=\"url\" href=\"https://blog.naver.com/ddongssanbaj?Redirect=Log&amp;logNo=221860850608\" onclick=\"return goOtherCR(this, 'a=blg*i.url&amp;r=35&amp;i=90000003_0000000000000033A7EFEBB0&amp;u='+urlencode(this.href))\" target=\"_blank\">blog.naver.com/ddongssanbaj/221860850608</a> <span class=\"bar\"></span><a class=\"txt84\" href=\"?date_from=&amp;date_option=0&amp;date_to=&amp;dup_remove=1&amp;nso=&amp;qdt=0&amp;query=%EC%96%91%EC%96%91&amp;qvt=0&amp;sm=tab_brs&amp;srchby=all&amp;st=sim&amp;where=post&amp;post_blogurl=blog.naver.com%2Fddongssanbaj\" onclick=\"return goOtherCR(this, 'a=blg*i.similar&amp;r=35&amp;i=90000003_0000000000000033A7EFEBB0&amp;u='+urlencode(this.href))\">블로그 내 검색</a> </span> </dd> </dl> </li> <li class=\"sh_blog_top\" id=\"sp_blog_6\"> <div class=\"thumb thumb-rollover\"> <a class=\"sp_thmb thmb80\" href=\"https://blog.naver.com/grnllee?Redirect=Log&amp;logNo=221875051127\" onclick=\"return goOtherCR(this, 'a=blg*i.img&amp;r=36&amp;i=90000003_0000000000000033A8C89A77&amp;u='+urlencode(this.href))\" target=\"_blank\"><img alt=\"양양 가볼만한 곳, 베\" class=\"sh_blog_thumbnail\" onerror=\"this.parentNode.parentNode.style.display='none';\" onload=\"onThumbnailLoad(this,'https://search.pstatic.net/common/?src=http%3A%2F%2Fblogfiles.naver.net%2FMjAyMDAzMjZfMTM4%2FMDAxNTg1MjMwOTc2ODA5.ATBNtW7Qf5a9c-e6sqQL01pVE4Ak3AaTTr88B87t7XIg.CuQkkdEfCQTwD4DHzIr_uZhp-AIm9SkmMEt9sgxDQuYg.JPEG.grnllee%2Ffarm19.jpg%234032x2268&amp;type=m80_80');\" src=\"https://search.pstatic.net/common/?src=http%3A%2F%2Fblogfiles.naver.net%2FMjAyMDAzMjZfMTM4%2FMDAxNTg1MjMwOTc2ODA5.ATBNtW7Qf5a9c-e6sqQL01pVE4Ak3AaTTr88B87t7XIg.CuQkkdEfCQTwD4DHzIr_uZhp-AIm9SkmMEt9sgxDQuYg.JPEG.grnllee%2Ffarm19.jpg%234032x2268&amp;type=m80_80\"/><span class=\"thmb_v\"></span><span class=\"mask\"></span> </a> <a class=\"thumb_num num-rollover\" href=\"#\"><span>21<span class=\"blind\">장의 이미지 더보기</span></span></a> <div class=\"thumb_slide_wrap\" style=\"width:0px; overflow:hidden; display:none;\"></div> </div> <dl> <dt><a class=\"sh_blog_title _sp_each_url _sp_each_title\" href=\"https://blog.naver.com/grnllee?Redirect=Log&amp;logNo=221875051127\" onclick=\"return goOtherCR(this, 'a=blg*i.tit&amp;r=36&amp;i=90000003_0000000000000033A8C89A77&amp;u='+urlencode(this.href))\" target=\"_blank\" title=\"양양 가볼만한 곳, 베이커리 카페 팜11(FARM 11)\"><strong class=\"hl\">양양</strong> 가볼만한 곳, 베이커리 카페 팜11(FARM 11)</a></dt> <dd class=\"txt_inline\">6일 전 </dd> <dd class=\"sh_blog_passage\">어느 날 모든 것을 내려놓고 <strong class=\"hl\">양양</strong> 땅에 터전을 잡겠다고 했을 때 전혀 어울릴 것... 어느덧 '<strong class=\"hl\">양양</strong> 가볼 만한 곳 ' 10위에 들었다. 오랜 벗은 그렇게 그곳에 뿌리를...</dd> <dd class=\"txt_block\"> <span class=\"inline\"> <a class=\"txt84\" href=\"https://blog.naver.com/grnllee\" onclick=\"return goOtherCR(this, 'u='+urlencode(urlexpand(this.href))+'&amp;a=blg*i.blogname&amp;r=36&amp;i=90000003_0000000000000033A8C89A77');\" target=\"_blank\">춘재씨의 참살이</a> <a class=\"url\" href=\"https://blog.naver.com/grnllee?Redirect=Log&amp;logNo=221875051127\" onclick=\"return goOtherCR(this, 'a=blg*i.url&amp;r=36&amp;i=90000003_0000000000000033A8C89A77&amp;u='+urlencode(this.href))\" target=\"_blank\">blog.naver.com/grnllee/221875051127</a> <span class=\"bar\"></span><a class=\"txt84\" href=\"?date_from=&amp;date_option=0&amp;date_to=&amp;dup_remove=1&amp;nso=&amp;qdt=0&amp;query=%EC%96%91%EC%96%91&amp;qvt=0&amp;sm=tab_brs&amp;srchby=all&amp;st=sim&amp;where=post&amp;post_blogurl=blog.naver.com%2Fgrnllee\" onclick=\"return goOtherCR(this, 'a=blg*i.similar&amp;r=36&amp;i=90000003_0000000000000033A8C89A77&amp;u='+urlencode(this.href))\">블로그 내 검색</a> </span> </dd> </dl> </li> <li class=\"sh_blog_top\" id=\"sp_blog_7\"> <div class=\"thumb thumb-rollover\"> <a class=\"sp_thmb thmb80\" href=\"https://blog.naver.com/yem0324?Redirect=Log&amp;logNo=221880298036\" onclick=\"return goOtherCR(this, 'a=blg*i.img&amp;r=37&amp;i=90000003_0000000000000033A918AA34&amp;u='+urlencode(this.href))\" target=\"_blank\"><img alt=\"양양대게맛집 낙산바다\" class=\"sh_blog_thumbnail\" onerror=\"this.parentNode.parentNode.style.display='none';\" onload=\"onThumbnailLoad(this,'https://search.pstatic.net/common/?src=http%3A%2F%2Fblogfiles.naver.net%2FMjAyMDAzMjZfMTY1%2FMDAxNTg1MjI4OTQ5NTA2.V43vOKD1ZDaIDBOdUEayd9Z_PeR9MZk6_6vqnRP5qHcg.0T9REkf22HD64juslrZoAa00T48ca7EHblj7WPSdBfYg.JPEG.yem0324%2Foutput_1266555736.jpg%23900x524&amp;type=m80_80');\" src=\"https://search.pstatic.net/common/?src=http%3A%2F%2Fblogfiles.naver.net%2FMjAyMDAzMjZfMTY1%2FMDAxNTg1MjI4OTQ5NTA2.V43vOKD1ZDaIDBOdUEayd9Z_PeR9MZk6_6vqnRP5qHcg.0T9REkf22HD64juslrZoAa00T48ca7EHblj7WPSdBfYg.JPEG.yem0324%2Foutput_1266555736.jpg%23900x524&amp;type=m80_80\"/><span class=\"thmb_v\"></span><span class=\"mask\"></span> </a> <a class=\"thumb_num num-rollover\" href=\"#\"><span>63<span class=\"blind\">장의 이미지 더보기</span></span></a> <div class=\"thumb_slide_wrap\" style=\"width:0px; overflow:hidden; display:none;\"></div> </div> <dl> <dt><a class=\"sh_blog_title _sp_each_url _sp_each_title\" href=\"https://blog.naver.com/yem0324?Redirect=Log&amp;logNo=221880298036\" onclick=\"return goOtherCR(this, 'a=blg*i.tit&amp;r=37&amp;i=90000003_0000000000000033A918AA34&amp;u='+urlencode(this.href))\" target=\"_blank\" title=\"양양대게맛집 낙산바다회마을에서 대게먹방하고 왔어요\"><strong class=\"hl\">양양</strong>대게맛집 낙산바다회마을에서 대게먹방하고 왔어요</a></dt> <dd class=\"txt_inline\">2일 전 </dd> <dd class=\"sh_blog_passage\">#<strong class=\"hl\">양양</strong>대게맛집 바다를 보며 대게를 먹을수 있는 낙산바다회마을을 소개합니다. 낙산바다회마을 위치 : 강원 <strong class=\"hl\">양양</strong>군 강현면 해맞이길 4 ☎ : ***-****-**** 영업시간 : 8시...</dd> <dd class=\"txt_block\"> <span class=\"inline\"> <a class=\"txt84\" href=\"https://blog.naver.com/yem0324\" onclick=\"return goOtherCR(this, 'u='+urlencode(urlexpand(this.href))+'&amp;a=blg*i.blogname&amp;r=37&amp;i=90000003_0000000000000033A918AA34');\" target=\"_blank\">Little Big Happiness ∗❛...</a> <a class=\"url\" href=\"https://blog.naver.com/yem0324?Redirect=Log&amp;logNo=221880298036\" onclick=\"return goOtherCR(this, 'a=blg*i.url&amp;r=37&amp;i=90000003_0000000000000033A918AA34&amp;u='+urlencode(this.href))\" target=\"_blank\">blog.naver.com/yem03...</a> <span class=\"bar\"></span><a class=\"txt84\" href=\"?date_from=&amp;date_option=0&amp;date_to=&amp;dup_remove=1&amp;nso=&amp;qdt=0&amp;query=%EC%96%91%EC%96%91&amp;qvt=0&amp;sm=tab_brs&amp;srchby=all&amp;st=sim&amp;where=post&amp;post_blogurl=blog.naver.com%2Fyem0324\" onclick=\"return goOtherCR(this, 'a=blg*i.similar&amp;r=37&amp;i=90000003_0000000000000033A918AA34&amp;u='+urlencode(this.href))\">블로그 내 검색</a> <span class=\"bar\"></span><a class=\"map_opn _bck_open_map _mapid-bl01119639903 _postId-90000003_0000000000000033A918AA34 _cr-a=blg*i.area&amp;r=12&amp;i=90000003_0000000000000033A918AA34\" href=\"#\" onclick=\"return false;\">약도</a> </span> </dd> </dl> </li> <li class=\"sh_blog_top\" id=\"sp_blog_8\"> <div class=\"thumb thumb-rollover\"> <a class=\"sp_thmb thmb80\" href=\"https://yjoshjh.blog.me/221859805456\" onclick=\"return goOtherCR(this, 'a=blg*i.img&amp;r=38&amp;i=90000003_0000000000000033A7DFF910&amp;u='+urlencode(this.href))\" target=\"_blank\"><img alt=\"양양 하조대 해변(하조\" class=\"sh_blog_thumbnail\" onerror=\"this.parentNode.parentNode.style.display='none';\" onload=\"onThumbnailLoad(this,'https://search.pstatic.net/common/?src=http%3A%2F%2Fblogfiles.naver.net%2FMjAyMDAzMTdfMTY1%2FMDAxNTg0NDIxNDk0MTg3.bQysUWcc1wQNpGfxXDos7wGY6naFbaI0QJBH-sRf11Yg.4XwJLkfhzi8PynrbGce8_18GB_CKmQK9LUeXbkgt7bkg.JPEG.yjoshjh%2FIMG_1366.JPG%23900x600&amp;type=m80_80');\" src=\"https://search.pstatic.net/common/?src=http%3A%2F%2Fblogfiles.naver.net%2FMjAyMDAzMTdfMTY1%2FMDAxNTg0NDIxNDk0MTg3.bQysUWcc1wQNpGfxXDos7wGY6naFbaI0QJBH-sRf11Yg.4XwJLkfhzi8PynrbGce8_18GB_CKmQK9LUeXbkgt7bkg.JPEG.yjoshjh%2FIMG_1366.JPG%23900x600&amp;type=m80_80\"/><span class=\"thmb_v\"></span><span class=\"mask\"></span> </a> <a class=\"thumb_num num-rollover\" href=\"#\"><span>17<span class=\"blind\">장의 이미지 더보기</span></span></a> <div class=\"thumb_slide_wrap\" style=\"width:0px; overflow:hidden; display:none;\"></div> </div> <dl> <dt><a class=\"sh_blog_title _sp_each_url _sp_each_title\" href=\"https://yjoshjh.blog.me/221859805456\" onclick=\"return goOtherCR(this, 'a=blg*i.tit&amp;r=38&amp;i=90000003_0000000000000033A7DFF910&amp;u='+urlencode(this.href))\" target=\"_blank\" title=\"양양 하조대 해변(하조대 해수욕장) 산책 - 강원도 가볼만한 곳\"><strong class=\"hl\">양양</strong> 하조대 해변(하조대 해수욕장) 산책 - 강원도 가볼만한 곳</a></dt> <dd class=\"txt_inline\">2020.03.18. </dd> <dd class=\"sh_blog_passage\">새벽에 출발해서 <strong class=\"hl\">양양</strong> 오산해변에서 일출을 보고, 속초 사돈집으로 이동해서... 왔으니 <strong class=\"hl\">양양</strong> 하조대로 이동 여러번 왔지만 참 예쁜 바다입니다 이곳...</dd> <dd class=\"txt_block\"> <span class=\"inline\"> <a class=\"txt84\" href=\"https://yjoshjh.blog.me\" onclick=\"return goOtherCR(this, 'u='+urlencode(urlexpand(this.href))+'&amp;a=blg*i.blogname&amp;r=38&amp;i=90000003_0000000000000033A7DFF910');\" target=\"_blank\">참이술의 Eat &amp; Drink</a> <a class=\"url\" href=\"https://yjoshjh.blog.me/221859805456\" onclick=\"return goOtherCR(this, 'a=blg*i.url&amp;r=38&amp;i=90000003_0000000000000033A7DFF910&amp;u='+urlencode(this.href))\" target=\"_blank\">yjoshjh.blog.me/2218...</a> <span class=\"bar\"></span><a class=\"txt84\" href=\"?date_from=&amp;date_option=0&amp;date_to=&amp;dup_remove=1&amp;nso=&amp;qdt=0&amp;query=%EC%96%91%EC%96%91&amp;qvt=0&amp;sm=tab_brs&amp;srchby=all&amp;st=sim&amp;where=post&amp;post_blogurl=yjoshjh.blog.me\" onclick=\"return goOtherCR(this, 'a=blg*i.similar&amp;r=38&amp;i=90000003_0000000000000033A7DFF910&amp;u='+urlencode(this.href))\">블로그 내 검색</a> <span class=\"bar\"></span><a class=\"map_opn _bck_open_map _mapid-bl01118091198 _postId-90000003_0000000000000033A7DFF910 _cr-a=blg*i.area&amp;r=14&amp;i=90000003_0000000000000033A7DFF910\" href=\"#\" onclick=\"return false;\">약도</a> </span> </dd> </dl> </li> <li class=\"sh_blog_top\" id=\"sp_blog_9\"> <div class=\"thumb\"> <a class=\"sp_thmb thmb80\" href=\"https://blog.naver.com/windscape?Redirect=Log&amp;logNo=221882721397\" onclick=\"return goOtherCR(this, 'a=blg*i.img&amp;r=39&amp;i=90000003_0000000000000033A93DA475&amp;u='+urlencode(this.href))\" target=\"_blank\"><img alt=\"리빙센스 4월호 양양 \" class=\"sh_blog_thumbnail\" onerror=\"this.parentNode.parentNode.style.display='none';\" onload=\"onThumbnailLoad(this,'https://search.pstatic.net/common/?src=http%3A%2F%2Fblogfiles.naver.net%2FMjAyMDAzMzFfNzYg%2FMDAxNTg1NjE5MDAxNjgz.HhigS4fhsudTmBGCpCNJbYrahopO1OJfrvzbXEY_JO0g.W2_h1Cr9Ni5vknCc2gZTFaGprMSk88DCHe_pNyiUspkg.JPEG.windscape%2F%25B8%25AE%25BA%25F9%25BC%25BE%25BD%25BA_%25C4%25AB%25B7%25E7%25B3%25AA.jpg%234252x2901&amp;type=m80_80');\" src=\"https://search.pstatic.net/common/?src=http%3A%2F%2Fblogfiles.naver.net%2FMjAyMDAzMzFfNzYg%2FMDAxNTg1NjE5MDAxNjgz.HhigS4fhsudTmBGCpCNJbYrahopO1OJfrvzbXEY_JO0g.W2_h1Cr9Ni5vknCc2gZTFaGprMSk88DCHe_pNyiUspkg.JPEG.windscape%2F%25B8%25AE%25BA%25F9%25BC%25BE%25BD%25BA_%25C4%25AB%25B7%25E7%25B3%25AA.jpg%234252x2901&amp;type=m80_80\"/><span class=\"thmb_v\"></span><span class=\"mask\"></span> </a> </div> <dl> <dt><a class=\"sh_blog_title _sp_each_url _sp_each_title\" href=\"https://blog.naver.com/windscape?Redirect=Log&amp;logNo=221882721397\" onclick=\"return goOtherCR(this, 'a=blg*i.tit&amp;r=39&amp;i=90000003_0000000000000033A93DA475&amp;u='+urlencode(this.href))\" target=\"_blank\" title=\"리빙센스 4월호 양양 카루나\">리빙센스 4월호 <strong class=\"hl\">양양</strong> 카루나</a></dt> <dd class=\"txt_inline\">어제 </dd> <dd class=\"sh_blog_passage\">리빙센스 4월호에 <strong class=\"hl\">양양</strong> 카루나가 실렸다. 아내분 사진에 실리는 거 싫어하실텐데, 용기를 내서 파이팅 하셨나보다 ^^. 한 달 뒤면 운영한지 1년이 지나니 건축주...</dd> <dd class=\"txt_block\"> <span class=\"inline\"> <a class=\"txt84\" href=\"https://blog.naver.com/windscape\" onclick=\"return goOtherCR(this, 'u='+urlencode(urlexpand(this.href))+'&amp;a=blg*i.blogname&amp;r=39&amp;i=90000003_0000000000000033A93DA475');\" target=\"_blank\">상상가속도</a> <a class=\"url\" href=\"https://blog.naver.com/windscape?Redirect=Log&amp;logNo=221882721397\" onclick=\"return goOtherCR(this, 'a=blg*i.url&amp;r=39&amp;i=90000003_0000000000000033A93DA475&amp;u='+urlencode(this.href))\" target=\"_blank\">blog.naver.com/windscape/221882721397</a> <span class=\"bar\"></span><a class=\"txt84\" href=\"?date_from=&amp;date_option=0&amp;date_to=&amp;dup_remove=1&amp;nso=&amp;qdt=0&amp;query=%EC%96%91%EC%96%91&amp;qvt=0&amp;sm=tab_brs&amp;srchby=all&amp;st=sim&amp;where=post&amp;post_blogurl=blog.naver.com%2Fwindscape\" onclick=\"return goOtherCR(this, 'a=blg*i.similar&amp;r=39&amp;i=90000003_0000000000000033A93DA475&amp;u='+urlencode(this.href))\">블로그 내 검색</a> </span> </dd> </dl> </li> <li class=\"sh_blog_top\" id=\"sp_blog_10\"> <div class=\"thumb thumb-rollover\"> <a class=\"sp_thmb thmb80\" href=\"https://blog.naver.com/scoqlss?Redirect=Log&amp;logNo=221868346240\" onclick=\"return goOtherCR(this, 'a=blg*i.img&amp;r=40&amp;i=90000003_0000000000000033A8624B80&amp;u='+urlencode(this.href))\" target=\"_blank\"><img alt=\"코로나 피해서 간 양양\" class=\"sh_blog_thumbnail\" onerror=\"this.parentNode.parentNode.style.display='none';\" onload=\"onThumbnailLoad(this,'https://search.pstatic.net/common/?src=http%3A%2F%2Fblogfiles.naver.net%2FMjAyMDAzMjNfODQg%2FMDAxNTg0OTM0NzgyOTQ2.0Yxgrna1yjtIiup00HBbsHcB0S2K2YFAsW85gC96-aUg.iOpjCAXett4XFU0sHhsxWUAz_kkzAtb-wYW3BPPWsjMg.JPEG.scoqlss%2FIMG_7266.JPG%23900x1204&amp;type=m80_80');\" src=\"https://search.pstatic.net/common/?src=http%3A%2F%2Fblogfiles.naver.net%2FMjAyMDAzMjNfODQg%2FMDAxNTg0OTM0NzgyOTQ2.0Yxgrna1yjtIiup00HBbsHcB0S2K2YFAsW85gC96-aUg.iOpjCAXett4XFU0sHhsxWUAz_kkzAtb-wYW3BPPWsjMg.JPEG.scoqlss%2FIMG_7266.JPG%23900x1204&amp;type=m80_80\"/><span class=\"thmb_v\"></span><span class=\"mask\"></span> </a> <a class=\"thumb_num num-rollover\" href=\"#\"><span>33<span class=\"blind\">장의 이미지 더보기</span></span></a> <div class=\"thumb_slide_wrap\" style=\"width:0px; overflow:hidden; display:none;\"></div> </div> <dl> <dt><a class=\"sh_blog_title _sp_each_url _sp_each_title\" href=\"https://blog.naver.com/scoqlss?Redirect=Log&amp;logNo=221868346240\" onclick=\"return goOtherCR(this, 'a=blg*i.tit&amp;r=40&amp;i=90000003_0000000000000033A8624B80&amp;u='+urlencode(this.href))\" target=\"_blank\" title=\"코로나 피해서 간 양양 속초 강릉 당일치기 여행기록\">코로나 피해서 간 <strong class=\"hl\">양양</strong> 속초 강릉 당일치기 여행기록</a></dt> <dd class=\"txt_inline\">2020.03.23. </dd> <dd class=\"sh_blog_passage\">조심스럽게 <strong class=\"hl\">양양</strong> 속초 여행 계획을 잡았다. 중간중간 휴게소 들려서 배도 채워넣고... <strong class=\"hl\">양양</strong>에 먼저 들리기로했다 !! 오자마자 말들이 달리고 있더라는 살짝 불쌍하기도...</dd> <dd class=\"txt_block\"> <span class=\"inline\"> <a class=\"txt84\" href=\"https://blog.naver.com/scoqlss\" onclick=\"return goOtherCR(this, 'u='+urlencode(urlexpand(this.href))+'&amp;a=blg*i.blogname&amp;r=40&amp;i=90000003_0000000000000033A8624B80');\" target=\"_blank\">jiiiii.k</a> <a class=\"url\" href=\"https://blog.naver.com/scoqlss?Redirect=Log&amp;logNo=221868346240\" onclick=\"return goOtherCR(this, 'a=blg*i.url&amp;r=40&amp;i=90000003_0000000000000033A8624B80&amp;u='+urlencode(this.href))\" target=\"_blank\">blog.naver.com/scoqlss/221868346240</a> <span class=\"bar\"></span><a class=\"txt84\" href=\"?date_from=&amp;date_option=0&amp;date_to=&amp;dup_remove=1&amp;nso=&amp;qdt=0&amp;query=%EC%96%91%EC%96%91&amp;qvt=0&amp;sm=tab_brs&amp;srchby=all&amp;st=sim&amp;where=post&amp;post_blogurl=blog.naver.com%2Fscoqlss\" onclick=\"return goOtherCR(this, 'a=blg*i.similar&amp;r=40&amp;i=90000003_0000000000000033A8624B80&amp;u='+urlencode(this.href))\">블로그 내 검색</a> </span> </dd> </dl> </li> </ul>"
      ]
     },
     "execution_count": 124,
     "metadata": {},
     "output_type": "execute_result"
    }
   ],
   "source": [
    "soup_selected[0].select('ul#elThumbnailResultArea')[0]"
   ]
  },
  {
   "cell_type": "code",
   "execution_count": 125,
   "metadata": {
    "ExecuteTime": {
     "end_time": "2020-04-01T04:29:02.255143Z",
     "start_time": "2020-04-01T04:29:02.247141Z"
    },
    "scrolled": true
   },
   "outputs": [
    {
     "data": {
      "text/plain": [
       "<li class=\"sh_blog_top\" id=\"sp_blog_2\"> <div class=\"thumb thumb-rollover\"> <a class=\"sp_thmb thmb80\" href=\"https://blog.naver.com/likeyyang?Redirect=Log&amp;logNo=221883507602\" onclick=\"return goOtherCR(this, 'a=blg*i.img&amp;r=32&amp;i=90000003_0000000000000033A949A392&amp;u='+urlencode(this.href))\" target=\"_blank\"><img alt=\"서퍼들이 사랑하는 양\" class=\"sh_blog_thumbnail\" onerror=\"this.parentNode.parentNode.style.display='none';\" onload=\"onThumbnailLoad(this,'https://search.pstatic.net/common/?src=http%3A%2F%2Fblogfiles.naver.net%2FMjAyMDAzMzFfNTYg%2FMDAxNTg1NjQ2NDQwMDY0.pg82syxJmoyDussdEMi82VjR9SDap85g6lyxtRFh3Fgg._HypAjCLUxPgSkK0gehq6oG2nJIkAICryKP0VMdxaHsg.PNG.likeyyang%2F%25BC%25B6%25B3%25DA_0331%25282%2529.png%23300x300&amp;type=m80_80');\" src=\"https://search.pstatic.net/common/?src=http%3A%2F%2Fblogfiles.naver.net%2FMjAyMDAzMzFfNTYg%2FMDAxNTg1NjQ2NDQwMDY0.pg82syxJmoyDussdEMi82VjR9SDap85g6lyxtRFh3Fgg._HypAjCLUxPgSkK0gehq6oG2nJIkAICryKP0VMdxaHsg.PNG.likeyyang%2F%25BC%25B6%25B3%25DA_0331%25282%2529.png%23300x300&amp;type=m80_80\"/><span class=\"thmb_v\"></span><span class=\"mask\"></span> </a> <a class=\"thumb_num num-rollover\" href=\"#\"><span>1<span class=\"blind\">장의 이미지 더보기</span></span></a> <div class=\"thumb_slide_wrap\" style=\"width:0px; overflow:hidden; display:none;\"></div> </div> <dl> <dt><a class=\"sh_blog_title _sp_each_url _sp_each_title\" href=\"https://blog.naver.com/likeyyang?Redirect=Log&amp;logNo=221883507602\" onclick=\"return goOtherCR(this, 'a=blg*i.tit&amp;r=32&amp;i=90000003_0000000000000033A949A392&amp;u='+urlencode(this.href))\" target=\"_blank\" title=\"서핑하고 가실래요? 서퍼들이 사랑하는 양양 힙플레이스 #죽도해수욕장\">서퍼들이 사랑하는 <strong class=\"hl\">양양</strong> 힙플레이스 #죽도해수욕장</a></dt> <dd class=\"txt_inline\">17시간 전 </dd> <dd class=\"sh_blog_passage\">깃든 <strong class=\"hl\">양양</strong>의 NO.1 바다입니다! 길가에 가득한 서핑보드와 특유의 힙한 감성이... <strong class=\"hl\">양양</strong> 여행을 하다 보면 바닷가 길을 따라 정말 많은 해수욕장들을 만날 수 있습니다....</dd> <dd class=\"txt_block\"> <span class=\"inline\"> <a class=\"txt84\" href=\"https://blog.naver.com/likeyyang\" onclick=\"return goOtherCR(this, 'u='+urlencode(urlexpand(this.href))+'&amp;a=blg*i.blogname&amp;r=32&amp;i=90000003_0000000000000033A949A392');\" target=\"_blank\">양양군청 공식블로그</a> <span class=\"spcm ico_total ico_official\">공식</span> <a class=\"url\" href=\"https://blog.naver.com/likeyyang?Redirect=Log&amp;logNo=221883507602\" onclick=\"return goOtherCR(this, 'a=blg*i.url&amp;r=32&amp;i=90000003_0000000000000033A949A392&amp;u='+urlencode(this.href))\" target=\"_blank\">blog.naver.com/likey...</a> <span class=\"bar\"></span><a class=\"txt84\" href=\"?date_from=&amp;date_option=0&amp;date_to=&amp;dup_remove=1&amp;nso=&amp;qdt=0&amp;query=%EC%96%91%EC%96%91&amp;qvt=0&amp;sm=tab_brs&amp;srchby=all&amp;st=sim&amp;where=post&amp;post_blogurl=blog.naver.com%2Flikeyyang\" onclick=\"return goOtherCR(this, 'a=blg*i.similar&amp;r=32&amp;i=90000003_0000000000000033A949A392&amp;u='+urlencode(this.href))\">블로그 내 검색</a> <span class=\"bar\"></span><a class=\"map_opn _bck_open_map _mapid-bl01119869603 _postId-90000003_0000000000000033A949A392 _cr-a=blg*i.area&amp;r=2&amp;i=90000003_0000000000000033A949A392\" href=\"#\" onclick=\"return false;\">약도</a> </span> </dd> </dl> </li>"
      ]
     },
     "execution_count": 125,
     "metadata": {},
     "output_type": "execute_result"
    }
   ],
   "source": [
    "soup_selected[0].select('ul#elThumbnailResultArea')[0].select('li.sh_blog_top')[1]"
   ]
  },
  {
   "cell_type": "code",
   "execution_count": null,
   "metadata": {},
   "outputs": [],
   "source": []
  },
  {
   "cell_type": "code",
   "execution_count": 120,
   "metadata": {
    "ExecuteTime": {
     "end_time": "2020-04-01T04:27:42.875339Z",
     "start_time": "2020-04-01T04:27:42.871346Z"
    }
   },
   "outputs": [
    {
     "data": {
      "text/plain": [
       "[]"
      ]
     },
     "execution_count": 120,
     "metadata": {},
     "output_type": "execute_result"
    }
   ],
   "source": [
    "soup_selected[0].select('ul#elThumbnailResultArea')[0].select('li.sh_blog_top')[0].select('div > a')[0].select('dt a[href^=\"http\"]')"
   ]
  },
  {
   "cell_type": "code",
   "execution_count": 84,
   "metadata": {
    "ExecuteTime": {
     "end_time": "2020-04-01T04:09:13.638991Z",
     "start_time": "2020-04-01T04:09:13.632990Z"
    }
   },
   "outputs": [
    {
     "ename": "NameError",
     "evalue": "name 'post_idx' is not defined",
     "output_type": "error",
     "traceback": [
      "\u001b[1;31m---------------------------------------------------------------------------\u001b[0m",
      "\u001b[1;31mNameError\u001b[0m                                 Traceback (most recent call last)",
      "\u001b[1;32m<ipython-input-84-d697b8782040>\u001b[0m in \u001b[0;36m<module>\u001b[1;34m()\u001b[0m\n\u001b[1;32m----> 1\u001b[1;33m \u001b[0msoup_selected\u001b[0m\u001b[1;33m[\u001b[0m\u001b[1;36m0\u001b[0m\u001b[1;33m]\u001b[0m\u001b[1;33m.\u001b[0m\u001b[0mfind\u001b[0m\u001b[1;33m(\u001b[0m\u001b[0mid\u001b[0m\u001b[1;33m=\u001b[0m\u001b[1;34m'title_'\u001b[0m \u001b[1;33m+\u001b[0m \u001b[0mpost_idx\u001b[0m\u001b[1;33m)\u001b[0m\u001b[1;33m\u001b[0m\u001b[0m\n\u001b[0m",
      "\u001b[1;31mNameError\u001b[0m: name 'post_idx' is not defined"
     ]
    }
   ],
   "source": [
    "soup_selected[0].find(])"
   ]
  },
  {
   "cell_type": "code",
   "execution_count": null,
   "metadata": {},
   "outputs": [],
   "source": []
  },
  {
   "cell_type": "code",
   "execution_count": 67,
   "metadata": {
    "ExecuteTime": {
     "end_time": "2020-04-01T04:03:10.998799Z",
     "start_time": "2020-04-01T04:03:10.991797Z"
    }
   },
   "outputs": [
    {
     "ename": "AttributeError",
     "evalue": "'list' object has no attribute 'select'",
     "output_type": "error",
     "traceback": [
      "\u001b[1;31m---------------------------------------------------------------------------\u001b[0m",
      "\u001b[1;31mAttributeError\u001b[0m                            Traceback (most recent call last)",
      "\u001b[1;32m<ipython-input-67-0103fa1ad9d9>\u001b[0m in \u001b[0;36m<module>\u001b[1;34m()\u001b[0m\n\u001b[1;32m----> 1\u001b[1;33m \u001b[0msoup_selected\u001b[0m\u001b[1;33m.\u001b[0m\u001b[0mselect\u001b[0m\u001b[1;33m(\u001b[0m\u001b[1;34m'dt a[href^=\"http\"]'\u001b[0m\u001b[1;33m)\u001b[0m\u001b[1;33m\u001b[0m\u001b[0m\n\u001b[0m",
      "\u001b[1;31mAttributeError\u001b[0m: 'list' object has no attribute 'select'"
     ]
    }
   ],
   "source": [
    "soup_selected.select('dt a[href^=\"http\"]')"
   ]
  },
  {
   "cell_type": "code",
   "execution_count": null,
   "metadata": {},
   "outputs": [],
   "source": [
    "#main_pack > div.blog.section._blogBase._prs_blg"
   ]
  },
  {
   "cell_type": "code",
   "execution_count": null,
   "metadata": {},
   "outputs": [],
   "source": [
    "#sp_blog_1 > div > a.sp_thmb.thmb80"
   ]
  },
  {
   "cell_type": "code",
   "execution_count": null,
   "metadata": {},
   "outputs": [],
   "source": []
  },
  {
   "cell_type": "code",
   "execution_count": null,
   "metadata": {},
   "outputs": [],
   "source": []
  },
  {
   "cell_type": "code",
   "execution_count": 40,
   "metadata": {
    "ExecuteTime": {
     "end_time": "2020-04-01T01:28:42.176578Z",
     "start_time": "2020-04-01T01:28:42.167585Z"
    },
    "code_folding": []
   },
   "outputs": [],
   "source": [
    "def get_blog_post(keyword, display_count, page_count, sort_type,save = True):\n",
    "    '''\n",
    "    keyword : 검색하고 싶은 키워드\n",
    "    display_count : 한 페이지당 표출할 개수 min = 10, max = 100\n",
    "    page_count : 총 진행할 페이지의 수 min = 1, max = 1000\n",
    "    sort_type : 정렬옵션 \"sim\" (유사도순), \"date\" (날짜순)\n",
    "    \n",
    "    display_count는 표시되는 개수에 불과하며 page_count가 1개씩 넘어갈때마다 나머지 diplay_count가 중복됨\n",
    "    ''' \n",
    "    #날짜와 본문내용 저장\n",
    "    postdates = []\n",
    "    strings = []\n",
    "    urls = []\n",
    "    titles = []\n",
    "    blogger_names = []\n",
    "    responses = []\n",
    "\n",
    "    encode_keyword = urllib.parse.quote(keyword)\n",
    "    # get_blog_search_result_pagination_count로 처리할 수있는 페이지수를 1부터 페이지수까지 까지 각각 하나씩 긁어옴 \n",
    "    for i in tqdm_notebook(range(1, page_count + 1),desc = \"page work\"):\n",
    "        url = \"https://openapi.naver.com/v1/search/blog?query=\" + encode_keyword + \"&display=\" + str(\n",
    "            display_count) + \"&start=\" + str(i) + \"&sort=\" + sort_type\n",
    "\n",
    "        request = urllib.request.Request(url)\n",
    "\n",
    "        request.add_header(\"X-Naver-Client-Id\", naver_client_id)\n",
    "        request.add_header(\"X-Naver-Client-Secret\", naver_client_secret)\n",
    "\n",
    "        #접속오류났을때 종료후 저장\n",
    "        try:\n",
    "            response = urllib.request.urlopen(request)\n",
    "            response_code = response.getcode()\n",
    "\n",
    "            # respon결과가 200일때 결과읽어옴 \n",
    "            if response_code is 200:\n",
    "                response_body = response.read()\n",
    "                response_body_dict = json.loads(response_body.decode('utf-8'))\n",
    "                responses.append(response_body_dict)\n",
    "                try:\n",
    "                #items의 개수만큼씩 진행\n",
    "                    for j in range(0, len(response_body_dict['items'])):\n",
    "                        blog_post_url = response_body_dict['items'][j]['link'].replace(\"amp;\", \"\")\n",
    "\n",
    "                        #블로그 url안에 들어가기(아직 크롤링불가)\n",
    "                        get_blog_post_content_code = requests.get(blog_post_url)\n",
    "                        get_blog_post_content_text = get_blog_post_content_code.text\n",
    "                        get_blog_post_content_soup = BeautifulSoup(get_blog_post_content_text, 'lxml')\n",
    "                        #크롤링가능한 url에 접속\n",
    "                        real_blog_post_url = \"http://blog.naver.com\" + get_blog_post_content_soup.select('#mainFrame')[0].get('src')\n",
    "                        get_real_blog_post_content_code = requests.get(real_blog_post_url)\n",
    "                        get_real_blog_post_content_text = get_real_blog_post_content_code.text\n",
    "                        get_real_blog_post_content_soup = BeautifulSoup(get_real_blog_post_content_text, 'lxml')\n",
    "                        #본문부분 추출 \n",
    "                        blog_post_content = get_real_blog_post_content_soup.select('div#postViewArea')\n",
    "                        if len(blog_post_content) == 0:\n",
    "                            blog_post_content = get_real_blog_post_content_soup.select('div.se-main-container')\n",
    "\n",
    "                        #포스트날짜\n",
    "                        postdate = datetime.datetime.strptime(response_body_dict['items'][j]['postdate'],\"%Y%m%d\").strftime(\"%y.%m.%d\")\n",
    "                        postdates.append(postdate)\n",
    "\n",
    "                        #제목\n",
    "                        remove_html_tag = re.compile('<.*?>')\n",
    "                        title = re.sub(remove_html_tag, '', response_body_dict['items'][j]['title'])\n",
    "                        titles.append(title)\n",
    "\n",
    "                        #블로거이름\n",
    "                        blogger_name = response_body_dict['items'][j]['bloggername']\n",
    "                        blogger_names.append(blogger_name)\n",
    "\n",
    "                        #전체 텍스트 \n",
    "                        string = \"\"\n",
    "                        for sentence in blog_post_content[0].stripped_strings:\n",
    "                            string += \" \"+sentence.replace('\\xa0',\" \")\n",
    "                        #비언어 텍스트제거 \n",
    "                        string = del_outword(string)\n",
    "                        strings.append([string]) \n",
    "\n",
    "                        #url\n",
    "                        urls.append(real_blog_post_url)\n",
    "\n",
    "                except Exception as ex:\n",
    "                    print('추출에러 {i}번째'.format(i),ex)\n",
    "                    pass\n",
    "            else :\n",
    "                pass\n",
    "\n",
    "        except Exception as ex:\n",
    "            print('open에러 {i}번째'.format(i),ex)\n",
    "            pass\n",
    "                \n",
    "    # utf-8형식으로 저장하면 엑셀에서 열때 에러나지만, load는 가능\n",
    "    if save == True:\n",
    "        crawling_df = pd.DataFrame({\"post_dates\":postdates, \"title\":titles, \"blogger_name\":blogger_names, \"full_text\":strings, \"url\":urls})\n",
    "        crawling_df.to_csv(keyword+\"_\"+str(display_count* page_count)+\".csv\",encoding='utf-8',index= False)\n",
    "    return crawling_df"
   ]
  },
  {
   "cell_type": "code",
   "execution_count": 41,
   "metadata": {
    "ExecuteTime": {
     "end_time": "2020-04-01T01:36:33.222309Z",
     "start_time": "2020-04-01T01:28:42.853827Z"
    },
    "scrolled": true
   },
   "outputs": [
    {
     "name": "stderr",
     "output_type": "stream",
     "text": [
      "C:\\Users\\User\\Anaconda3\\lib\\site-packages\\ipykernel_launcher.py:20: TqdmDeprecationWarning: This function will be removed in tqdm==5.0.0\n",
      "Please use `tqdm.notebook.tqdm` instead of `tqdm.tqdm_notebook`\n"
     ]
    },
    {
     "data": {
      "application/vnd.jupyter.widget-view+json": {
       "model_id": "c4e21cc6074f450dbd0aff67c17f41bc",
       "version_major": 2,
       "version_minor": 0
      },
      "text/plain": [
       "HBox(children=(FloatProgress(value=0.0, description='page work', max=1000.0, style=ProgressStyle(description_w…"
      ]
     },
     "metadata": {},
     "output_type": "display_data"
    },
    {
     "ename": "ValueError",
     "evalue": "arrays must all be same length",
     "output_type": "error",
     "traceback": [
      "\u001b[1;31m---------------------------------------------------------------------------\u001b[0m",
      "\u001b[1;31mValueError\u001b[0m                                Traceback (most recent call last)",
      "\u001b[1;32m<ipython-input-41-9f53351215b8>\u001b[0m in \u001b[0;36m<module>\u001b[1;34m()\u001b[0m\n\u001b[1;32m----> 1\u001b[1;33m \u001b[0mcrawling_df\u001b[0m \u001b[1;33m=\u001b[0m \u001b[0mget_blog_post\u001b[0m\u001b[1;33m(\u001b[0m\u001b[0mkeyword\u001b[0m\u001b[1;33m,\u001b[0m \u001b[0mdisplay_count\u001b[0m\u001b[1;33m,\u001b[0m \u001b[0mpage_count\u001b[0m\u001b[1;33m,\u001b[0m \u001b[0msort_type\u001b[0m\u001b[1;33m)\u001b[0m\u001b[1;33m\u001b[0m\u001b[0m\n\u001b[0m",
      "\u001b[1;32m<ipython-input-40-7f3a76e12a66>\u001b[0m in \u001b[0;36mget_blog_post\u001b[1;34m(keyword, display_count, page_count, sort_type, save)\u001b[0m\n\u001b[0;32m     86\u001b[0m     \u001b[1;31m# utf-8형식으로 저장하면 엑셀에서 열때 에러나지만, load는 가능\u001b[0m\u001b[1;33m\u001b[0m\u001b[1;33m\u001b[0m\u001b[0m\n\u001b[0;32m     87\u001b[0m     \u001b[1;32mif\u001b[0m \u001b[0msave\u001b[0m \u001b[1;33m==\u001b[0m \u001b[1;32mTrue\u001b[0m\u001b[1;33m:\u001b[0m\u001b[1;33m\u001b[0m\u001b[0m\n\u001b[1;32m---> 88\u001b[1;33m         \u001b[0mcrawling_df\u001b[0m \u001b[1;33m=\u001b[0m \u001b[0mpd\u001b[0m\u001b[1;33m.\u001b[0m\u001b[0mDataFrame\u001b[0m\u001b[1;33m(\u001b[0m\u001b[1;33m{\u001b[0m\u001b[1;34m\"post_dates\"\u001b[0m\u001b[1;33m:\u001b[0m\u001b[0mpostdates\u001b[0m\u001b[1;33m,\u001b[0m \u001b[1;34m\"title\"\u001b[0m\u001b[1;33m:\u001b[0m\u001b[0mtitles\u001b[0m\u001b[1;33m,\u001b[0m \u001b[1;34m\"blogger_name\"\u001b[0m\u001b[1;33m:\u001b[0m\u001b[0mblogger_names\u001b[0m\u001b[1;33m,\u001b[0m \u001b[1;34m\"full_text\"\u001b[0m\u001b[1;33m:\u001b[0m\u001b[0mstrings\u001b[0m\u001b[1;33m,\u001b[0m \u001b[1;34m\"url\"\u001b[0m\u001b[1;33m:\u001b[0m\u001b[0murls\u001b[0m\u001b[1;33m}\u001b[0m\u001b[1;33m)\u001b[0m\u001b[1;33m\u001b[0m\u001b[0m\n\u001b[0m\u001b[0;32m     89\u001b[0m         \u001b[0mcrawling_df\u001b[0m\u001b[1;33m.\u001b[0m\u001b[0mto_csv\u001b[0m\u001b[1;33m(\u001b[0m\u001b[0mkeyword\u001b[0m\u001b[1;33m+\u001b[0m\u001b[1;34m\"_\"\u001b[0m\u001b[1;33m+\u001b[0m\u001b[0mstr\u001b[0m\u001b[1;33m(\u001b[0m\u001b[0mdisplay_count\u001b[0m\u001b[1;33m*\u001b[0m \u001b[0mpage_count\u001b[0m\u001b[1;33m)\u001b[0m\u001b[1;33m+\u001b[0m\u001b[1;34m\".csv\"\u001b[0m\u001b[1;33m,\u001b[0m\u001b[0mencoding\u001b[0m\u001b[1;33m=\u001b[0m\u001b[1;34m'utf-8'\u001b[0m\u001b[1;33m,\u001b[0m\u001b[0mindex\u001b[0m\u001b[1;33m=\u001b[0m \u001b[1;32mFalse\u001b[0m\u001b[1;33m)\u001b[0m\u001b[1;33m\u001b[0m\u001b[0m\n\u001b[0;32m     90\u001b[0m     \u001b[1;32mreturn\u001b[0m \u001b[0mcrawling_df\u001b[0m\u001b[1;33m\u001b[0m\u001b[0m\n",
      "\u001b[1;32m~\\AppData\\Roaming\\Python\\Python36\\site-packages\\pandas\\core\\frame.py\u001b[0m in \u001b[0;36m__init__\u001b[1;34m(self, data, index, columns, dtype, copy)\u001b[0m\n\u001b[0;32m    409\u001b[0m             )\n\u001b[0;32m    410\u001b[0m         \u001b[1;32melif\u001b[0m \u001b[0misinstance\u001b[0m\u001b[1;33m(\u001b[0m\u001b[0mdata\u001b[0m\u001b[1;33m,\u001b[0m \u001b[0mdict\u001b[0m\u001b[1;33m)\u001b[0m\u001b[1;33m:\u001b[0m\u001b[1;33m\u001b[0m\u001b[0m\n\u001b[1;32m--> 411\u001b[1;33m             \u001b[0mmgr\u001b[0m \u001b[1;33m=\u001b[0m \u001b[0minit_dict\u001b[0m\u001b[1;33m(\u001b[0m\u001b[0mdata\u001b[0m\u001b[1;33m,\u001b[0m \u001b[0mindex\u001b[0m\u001b[1;33m,\u001b[0m \u001b[0mcolumns\u001b[0m\u001b[1;33m,\u001b[0m \u001b[0mdtype\u001b[0m\u001b[1;33m=\u001b[0m\u001b[0mdtype\u001b[0m\u001b[1;33m)\u001b[0m\u001b[1;33m\u001b[0m\u001b[0m\n\u001b[0m\u001b[0;32m    412\u001b[0m         \u001b[1;32melif\u001b[0m \u001b[0misinstance\u001b[0m\u001b[1;33m(\u001b[0m\u001b[0mdata\u001b[0m\u001b[1;33m,\u001b[0m \u001b[0mma\u001b[0m\u001b[1;33m.\u001b[0m\u001b[0mMaskedArray\u001b[0m\u001b[1;33m)\u001b[0m\u001b[1;33m:\u001b[0m\u001b[1;33m\u001b[0m\u001b[0m\n\u001b[0;32m    413\u001b[0m             \u001b[1;32mimport\u001b[0m \u001b[0mnumpy\u001b[0m\u001b[1;33m.\u001b[0m\u001b[0mma\u001b[0m\u001b[1;33m.\u001b[0m\u001b[0mmrecords\u001b[0m \u001b[1;32mas\u001b[0m \u001b[0mmrecords\u001b[0m\u001b[1;33m\u001b[0m\u001b[0m\n",
      "\u001b[1;32m~\\AppData\\Roaming\\Python\\Python36\\site-packages\\pandas\\core\\internals\\construction.py\u001b[0m in \u001b[0;36minit_dict\u001b[1;34m(data, index, columns, dtype)\u001b[0m\n\u001b[0;32m    255\u001b[0m             \u001b[0marr\u001b[0m \u001b[1;32mif\u001b[0m \u001b[1;32mnot\u001b[0m \u001b[0mis_datetime64tz_dtype\u001b[0m\u001b[1;33m(\u001b[0m\u001b[0marr\u001b[0m\u001b[1;33m)\u001b[0m \u001b[1;32melse\u001b[0m \u001b[0marr\u001b[0m\u001b[1;33m.\u001b[0m\u001b[0mcopy\u001b[0m\u001b[1;33m(\u001b[0m\u001b[1;33m)\u001b[0m \u001b[1;32mfor\u001b[0m \u001b[0marr\u001b[0m \u001b[1;32min\u001b[0m \u001b[0marrays\u001b[0m\u001b[1;33m\u001b[0m\u001b[0m\n\u001b[0;32m    256\u001b[0m         ]\n\u001b[1;32m--> 257\u001b[1;33m     \u001b[1;32mreturn\u001b[0m \u001b[0marrays_to_mgr\u001b[0m\u001b[1;33m(\u001b[0m\u001b[0marrays\u001b[0m\u001b[1;33m,\u001b[0m \u001b[0mdata_names\u001b[0m\u001b[1;33m,\u001b[0m \u001b[0mindex\u001b[0m\u001b[1;33m,\u001b[0m \u001b[0mcolumns\u001b[0m\u001b[1;33m,\u001b[0m \u001b[0mdtype\u001b[0m\u001b[1;33m=\u001b[0m\u001b[0mdtype\u001b[0m\u001b[1;33m)\u001b[0m\u001b[1;33m\u001b[0m\u001b[0m\n\u001b[0m\u001b[0;32m    258\u001b[0m \u001b[1;33m\u001b[0m\u001b[0m\n\u001b[0;32m    259\u001b[0m \u001b[1;33m\u001b[0m\u001b[0m\n",
      "\u001b[1;32m~\\AppData\\Roaming\\Python\\Python36\\site-packages\\pandas\\core\\internals\\construction.py\u001b[0m in \u001b[0;36marrays_to_mgr\u001b[1;34m(arrays, arr_names, index, columns, dtype)\u001b[0m\n\u001b[0;32m     75\u001b[0m     \u001b[1;31m# figure out the index, if necessary\u001b[0m\u001b[1;33m\u001b[0m\u001b[1;33m\u001b[0m\u001b[0m\n\u001b[0;32m     76\u001b[0m     \u001b[1;32mif\u001b[0m \u001b[0mindex\u001b[0m \u001b[1;32mis\u001b[0m \u001b[1;32mNone\u001b[0m\u001b[1;33m:\u001b[0m\u001b[1;33m\u001b[0m\u001b[0m\n\u001b[1;32m---> 77\u001b[1;33m         \u001b[0mindex\u001b[0m \u001b[1;33m=\u001b[0m \u001b[0mextract_index\u001b[0m\u001b[1;33m(\u001b[0m\u001b[0marrays\u001b[0m\u001b[1;33m)\u001b[0m\u001b[1;33m\u001b[0m\u001b[0m\n\u001b[0m\u001b[0;32m     78\u001b[0m     \u001b[1;32melse\u001b[0m\u001b[1;33m:\u001b[0m\u001b[1;33m\u001b[0m\u001b[0m\n\u001b[0;32m     79\u001b[0m         \u001b[0mindex\u001b[0m \u001b[1;33m=\u001b[0m \u001b[0mensure_index\u001b[0m\u001b[1;33m(\u001b[0m\u001b[0mindex\u001b[0m\u001b[1;33m)\u001b[0m\u001b[1;33m\u001b[0m\u001b[0m\n",
      "\u001b[1;32m~\\AppData\\Roaming\\Python\\Python36\\site-packages\\pandas\\core\\internals\\construction.py\u001b[0m in \u001b[0;36mextract_index\u001b[1;34m(data)\u001b[0m\n\u001b[0;32m    366\u001b[0m             \u001b[0mlengths\u001b[0m \u001b[1;33m=\u001b[0m \u001b[0mlist\u001b[0m\u001b[1;33m(\u001b[0m\u001b[0mset\u001b[0m\u001b[1;33m(\u001b[0m\u001b[0mraw_lengths\u001b[0m\u001b[1;33m)\u001b[0m\u001b[1;33m)\u001b[0m\u001b[1;33m\u001b[0m\u001b[0m\n\u001b[0;32m    367\u001b[0m             \u001b[1;32mif\u001b[0m \u001b[0mlen\u001b[0m\u001b[1;33m(\u001b[0m\u001b[0mlengths\u001b[0m\u001b[1;33m)\u001b[0m \u001b[1;33m>\u001b[0m \u001b[1;36m1\u001b[0m\u001b[1;33m:\u001b[0m\u001b[1;33m\u001b[0m\u001b[0m\n\u001b[1;32m--> 368\u001b[1;33m                 \u001b[1;32mraise\u001b[0m \u001b[0mValueError\u001b[0m\u001b[1;33m(\u001b[0m\u001b[1;34m\"arrays must all be same length\"\u001b[0m\u001b[1;33m)\u001b[0m\u001b[1;33m\u001b[0m\u001b[0m\n\u001b[0m\u001b[0;32m    369\u001b[0m \u001b[1;33m\u001b[0m\u001b[0m\n\u001b[0;32m    370\u001b[0m             \u001b[1;32mif\u001b[0m \u001b[0mhave_dicts\u001b[0m\u001b[1;33m:\u001b[0m\u001b[1;33m\u001b[0m\u001b[0m\n",
      "\u001b[1;31mValueError\u001b[0m: arrays must all be same length"
     ]
    }
   ],
   "source": [
    "crawling_df = get_blog_post(keyword, display_count, page_count, sort_type)"
   ]
  },
  {
   "cell_type": "markdown",
   "metadata": {},
   "source": [
    "### 연관분석"
   ]
  },
  {
   "cell_type": "code",
   "execution_count": 13,
   "metadata": {
    "ExecuteTime": {
     "end_time": "2020-04-01T00:21:31.585934Z",
     "start_time": "2020-04-01T00:21:31.560515Z"
    }
   },
   "outputs": [],
   "source": [
    "# crawling_df_s = pd.read_csv('양양_1000.csv',encoding='utf-8')\n",
    "crawling_df_s['title'].nunique()"
   ]
  },
  {
   "cell_type": "code",
   "execution_count": 30,
   "metadata": {
    "ExecuteTime": {
     "end_time": "2020-04-01T09:15:50.898752Z",
     "start_time": "2020-04-01T09:15:49.854519Z"
    }
   },
   "outputs": [],
   "source": [
    "komoran = Komoran(userdic='user_dictionary.txt')"
   ]
  },
  {
   "cell_type": "markdown",
   "metadata": {},
   "source": [
    "#이모티콘 제거 [출처](https://stackoverflow.com/questions/33404752/removing-emojis-from-a-string-in-python)"
   ]
  },
  {
   "cell_type": "code",
   "execution_count": 40,
   "metadata": {
    "ExecuteTime": {
     "end_time": "2020-04-01T09:18:51.562111Z",
     "start_time": "2020-04-01T09:18:51.558105Z"
    }
   },
   "outputs": [],
   "source": [
    "emoji_pattern = re.compile(\"[\"\n",
    "                u\"\\U0001F600-\\U0001F64F\"  # emoticons\n",
    "                u\"\\U0001F300-\\U0001F5FF\"  # symbols & pictographs\n",
    "                u\"\\U0001F680-\\U0001F6FF\"  # transport & map symbols\n",
    "                u\"\\U0001F1E0-\\U0001F1FF\"  # flags (iOS)\n",
    "                u\"\\U00002702-\\U000027B0\"\n",
    "                u\"\\U0001f926-\\U0001f937\"\n",
    "                u'\\U00010000-\\U0010ffff'\n",
    "                u\"\\u200d\"\n",
    "                u\"\\u2640-\\u2642\"\n",
    "                u\"\\u2600-\\u2B55\"\n",
    "                u\"\\u23cf\"\n",
    "                u\"\\u23e9\"\n",
    "                u\"\\u231a\"\n",
    "                u\"\\u3030\"\n",
    "                u\"\\ufe0f\"\n",
    "    \"]+\", flags=re.UNICODE)\n",
    "\n",
    "#분석에 어긋나는 불용어구 제외 (특수문자, 의성어)\n",
    "han = re.compile(r'[ㄱ-ㅎㅏ-ㅣ!?~,\".\\n\\r#\\ufeff\\u200d]')"
   ]
  },
  {
   "cell_type": "code",
   "execution_count": null,
   "metadata": {},
   "outputs": [],
   "source": [
    "                string = string.replace('\\u200b',\" \")\n",
    "                string = string.replace('\\n',\" \")\n",
    "                string = string.replace('😑','')\n",
    "                strings.append([string]) "
   ]
  },
  {
   "cell_type": "code",
   "execution_count": 38,
   "metadata": {
    "ExecuteTime": {
     "end_time": "2020-04-01T09:18:00.752937Z",
     "start_time": "2020-04-01T09:18:00.749937Z"
    },
    "scrolled": true
   },
   "outputs": [
    {
     "data": {
      "text/plain": [
       "[' 퍼스트 플로어 (FIRST FLOOR ROOFTOP LOUNGE) 강원 양양군 강현면 동해대로 3277-3 033-673-7670 안녕하세요 냠냠이입니다 오늘은 양양 가볼만한곳 루프탑 카페를 소개하려고해요 호텔 건물 옥상층에 위치하고 있어서 멋진 오션뷰를 즐기며 맛있는 음식과 술한잔 할수있는 곳입니다 \\u200b 퍼스트플로어 강원도 양양군 강현면 동해대로 3277-3 건물 앞쪽과 뒤편이 모두 주차장이 있고 입구 또한 양쪽으로 있어서 찾기 어렵지 않아요 그리고 1층에 양양 가볼만한곳 루프탑 라운지의 안내도 되어있어요 \\u200b 멋스럽고 널찍한 공간과 깔끔하게 정리된 카운터가 손님들을 맞이해 주고 있어요 \\u200b 저녁시간이어서 식사나 식사후 차를 마시는 손님들이 많이 있었고 옷차림을 보니 건물내 투숙객들도 있는것 같았어요 테이블 간격도 넓고 창가로 오션뷰가 펼쳐지는 곳이에요 \\u200b 양양 가볼만한곳의 메뉴판을 볼 수 있었고 식사는 물론 가볍게 차한잔 마시기에도 좋아요 메인 비비큐 세트 (23인용)과 샐러드 피자 파스타 그리고 커피 맥주 음료 등이 있어요 \\u200b 식사하며 맥주와 와인을 무제한으로 즐길수 있는 장점이 있기도 해요 한편에 커다란 오크통이 자리잡고 있는데 인테리어를 돋보이게 하는 효과도 있어서 멋져 보였어요 \\u200b 저희는 잠시 기다리다가 창가쪽 오션뷰 자리에 앉았고 특이한 조명이 실내를 은은하게 밝히고 있어요 실내 자리 이외에도 야외 테라스도 있으니 날씨가 좋은날에는 이용하면 좋을것 같아요 \\u200b 아름다운뷰를 갖고 있어요 양양 정암해변이 한눈에 보이며 밤이어서 더 낭만적으로 느껴졌어요 바람이 강하게 불어서 거센 파도의 물결이 더 아름답게 느껴지네요 분위기에 걸맞는 청결함도 마음에 들었는데요 식기류와 물도 깨끗이 정리되어 있으니 편하게 이용하면 돼요 \\u200b 기본 안주이지만 한번 먹으면 중독되는 짭조름한 과자와 할라피뇨 피클도 있어요  \\u200b 주문한 메뉴가 오기전 시작은 가볍게 맥주로 시작 일반 생맥주와 레드맥주의 두종류가 있고요 저의 선택은 강렬한 레드락이에요 \\u200b 맥주를 한잔 마시니 이곳의 분위기에 더 취하는것 같아요 해변을 걷고 있는 사람들을 보고 있으니 식사 후 나도 걸어보고 싶다는 생각도 들고 잠시 발을 담그고 싶다는 생각도 들었어요 그래서 잠시 걷기도 해봤지요  \\u200b 테라스에 나와 바람을 잠시 쐬며 해변을 걷는 사람들의 모습과 거친파도를 보고 있으면 시간이 가는줄 모르겠네요 \\u200b 멀리 보이는 빛은 오징어배가 조업중이라고 해요 처음보는 모습이었는데 불빛의 밝기가 엄청나서 신기했어요 이렇게 예쁜 해변의 모습은 정말 처음보는것 같아요 양양 가볼만한곳을 소개하는 이유이기도 하고요 지나가는 길에 꼭 이웃님들도 한번 봐보시고 걸어보셨으면 해요 ^^ 식사를 하지 않고 차를 마시기에도 좋은 공간이기 때문이죠  \\u200b 이런 분위기에는 와인도 한잔 마셔주어야겠죠 레드와인과 화이트와인을 선택해서 즐길 수 있고요 도수가 강하지 않고 향이 좋아서 평소 소주만 마시던 제가 마시기에도 나쁘지 않았어요 \\u200b 기다리던 비비큐 세트의 등장 시선을 뗄수 없을 만큼 오븐에 구운 닭과 등갈비 윙 소시지 샐러드가 준비되는데 고소한 향이 장난이 아니었어요 \\u200b 한가족이 함께 먹어도 될 만큼 넉넉함이 마음에 들었고 음식 하나 하나가 손이 많이 갈 것 같고 정성이 담겨있어 보여요 \\u200b 특히 이 훈제닭은 기름이 완전히 빠져서 담백하면서 부드러웠어요 맛도 맛이지만 비주얼이 상당했는데요 오븐에서 금방 꺼내었는지 기름이 끓고있는게 보이더라고요 그래서 더 맛이 좋았던 것 같아요  \\u200b 3가지 소스와 함께 다채롭게 식사를 즐기면 되고요 샐러드 드레싱도 아주 가벼우면서 상큼해서 개인적으로 샐러드만으로도 만족스러웠어요 \\u200b 등갈비와 함께 야채들도 함께 구워서 나왔는데요 손이 굉장히 많이가는 메뉴인듯해요 구운 야채들은 비비큐의 기름과 향을 가득 담고 있어서 별미 중 별미에요 \\u200b 손질을 해야하기때문에 비닐장갑과 목장갑이 나와요 장갑을 끼고 있지만 뜨거워서 조금 고생 했고요 다시 손질한다면 더 잘할 수 있을것 같은 자신감도 생겼어요  \\u200b 뭐하나 부족한것없이 낭만적인 분위기와 멋진 야경 그리고 맛있는 요리가 큰 만족감을 주는듯해요 비주얼도 100점을 주고싶어요 물론 맛도 충분히 좋았어요 : ) \\u200b 한잔또 한잔 와인잔이 부딪히는 소리가 이렇게 좋은지 처음엔 몰랐어요 은은한 도수와 함께 레드와인의 향긋한 향이 은근 매력적이어서 서너잔 마시니 취기가 오르는듯했어요 양양 가볼만한곳 루프탑 레스토랑 퍼스트 플로어에서 즐거운 시간을 보냈네요 \\u200b 양양 여행을 계획중이라면 잠시 쉬어가면 좋은 경유지로 추천해봅니다 멋진 야경과 해변의 파도가 만들고 지우는 흔적을 보며 와인 한잔 아니면 커피 한잔 어떠세요 좋은 추억 만들고 갑니다 또 가고 싶은 곳이네요 ^^']"
      ]
     },
     "execution_count": 38,
     "metadata": {},
     "output_type": "execute_result"
    }
   ],
   "source": [
    "crawling_df['full_text'][157]"
   ]
  },
  {
   "cell_type": "code",
   "execution_count": null,
   "metadata": {},
   "outputs": [],
   "source": [
    "string.replace('\\u200b',\" \")"
   ]
  },
  {
   "cell_type": "code",
   "execution_count": 50,
   "metadata": {
    "ExecuteTime": {
     "end_time": "2020-04-01T09:22:34.744962Z",
     "start_time": "2020-04-01T09:22:34.741968Z"
    }
   },
   "outputs": [
    {
     "data": {
      "text/plain": [
       "[\" 고속도로  서울양양고속도로  동서고속도로  서울춘천고속도로  춘천동홍천  동홍천양양고속도로 안녕하십니까 요즘 환절기라 낮에는 덥고 밤에는 추운 날이 지속되고 있습니다 제 블로그에 오시는 분들 모두 몸 건강관리에 유의하시기 바라며 포스트를 시작하겠습니다 이번 포스트는 바로 고속도로 시리즈 9편으로 '서울양양고속도로'이며 노선 번호는 60번입니다 서울 동부지역(강동)에서 강원도 양양을 잇는 고속도로로 서울에서 춘천까지는 2009년 7월에 이후 춘천에서 동홍천까지는 2009년 10월에 나머지 구간은 8년 정도가 흐른 2017년 6월에 개통하여 이 고속도로도 2018 평창 동계 올림픽에 약간이나마 도움을 주었던 것으로 알고 있습니다 서울에서 강릉 쪽으로 갈 때 몇몇 버스들이 영동선을 타지 않고 이 고속도로로 양양까지 간 다음 양양에서 강릉으로 내려가는 경우가 꽤 있다고 하니 많은 이용 바랍니다 제가 이 고속도로를 처음 이용한 시기는 2015년 고속버스 프리패스 목적으로 이용했었고 이후 2016년도에는 동서울홍천 구간에서 금강고속의 BH116()을 타고 이동했던 적도 있었습니다 따라서 이 고속도로를 가장 많이 타는 버스 업체는 강원도 지역에서 양양 속초로 가는 '금강고속'으로 예상되며 동부고속 중앙고속 등의 업체가 뒤를 잇는 것으로 알고 있습니다 그럼 바로 관련 이미지를 통해 해당 고속도로의 특징을 알아 보도록 하겠습니다(이미지 하단 멘트) 이 고속도로의 경우 서울시 하남시쪽의 약 2km 구간은 이름만 고속도로고 실제로는 고속도로가 아니라는 것이 정설입니다(고속도로 종점 표지판이 미사대교 부근에 있음) 이 고속도로가 지나는 지자체는 서울-하남-남양주- 가평-춘천-홍천-인제-양양의 8곳인데 지적편집도를 보시거나 지자체의 경계를 검색해 보시면 특이한()점이 발견되는데 가평에서 춘천으로 넘어가기 전 약 25km정도 홍천 땅이 먼저 나오고 춘천이 나온다는 것입니다 즉 '홍천-춘천-홍천'의 순으로 통과한다는 뜻입니다 이와 유사한 케이스가 의성 안동에도 있는데 11편 쯤에서 언급해 드리겠습니다 또한 이 고속도로의 경우 구간의 상당수가 산악지대이기 때문에 터널과 교량이 상당히 많음을 알려 드리고 우리나라 최장 도로 터널인 '인제양양터널'도 이 고속도로상에 있음을 알립니다 해당 터널의 시점부/종점부 높이 차이는 무려 200m라고 하며 중간중간 특이한 형태의 조명 구간을 배치하였습니다 이 고속도로가 동홍천까지만 개통했을 적에는 동홍천인제속초 구간을 44번 국도-46번 국도-56번 지방도 순으로 이용했으며 당시 미시령터널의 급경사 구간에서 위험성에 관한 많은 이슈가 있었고 국도상에 있는 많은 휴게소들이 흥했다고 합니다(그 중 12번째 휴게소에서 많은 시외버스들이 쉬어 갔음) 이 고속도로 구간 중 서울과 가까운 왕복 11km정도 구간만 왕복 6차로 이상이고 나머지는 왕복 4차로라 주말과 행락철 명절에는 차가 상당히 막히는 상황이라고 합니다 명목상 기점()인 강일IC에서 서울외곽순환고속도로와 중간에 있는 춘천JC에서 중앙고속도로가 만나며 향후 남양주에 화도JC가 생기면 '수도권제2순환선'과도 만날 예정입니다 차가 막히지 않는다면 기점에서 종점까지 휴게소에 들어가지 않고 1시간 30분 안쪽이라고 합니다 제가 이 고속도로에서 본 특이한 형태의 두 교차로입니다 하나는 '내린천 휴게소(상공형 휴게소)'와 함께 있는 인제IC인데 이 곳에서 인제군 소재지까지 가려면 30km 이상 달려야 하지만 내린천의 풍경을 보면서 달릴 수 있다는 것은 인상깊습니다 또한 종점부인 양양분기점의 경우 양양ic와 같이 있는데 서울양양선에서 양양으로 나가는 구간 및 반대로 서울양양선 진입부는 편도 1차로에 급커브 구간이라 감속 및 주의운전이 필요한 구간임을 알립니다 이 구간을 지나서 속초로 가는 버스의 경우 동해고속도로를 타고 속초ic까지 올라가거나 북양양ic에서 빠지는 차가 꽤 있음을 알립니다 *위 지도에서 일부러 '양양터미널'을 보이게 했는데 해당 터미널의 경우 외곽으로 이전 및 시설 개선 계획이 있음을 알려 드리고 넘어가겠습니다 서울양양고속도로 많은 이용 바랍니다 이어서 통행료에 대한 부분인데 서울춘천 구간은 민자이긴 하지만 사업 재구조화 등을 통하여 요금을 인하할 계획이 있다고 합니다(이런 식으로 요금을 인하한 구간이 다음 편에 소개할 '논산천안고속도로'가 있습니다) (사실 몇 년 전에도 한 번 인하한 이력이 있긴 합니다) 보시면 남양주(서울양양선)톨게이트 기준으로 각 ic까지의 통행료를 입력해 놓았으며 출처는 한국도로공사 홈-페이지입니다 남양주남춘천 구간은 5300원 민자 구간의 거의 끝부분에서 빠질 수 있는 동산ic까지는 5700원이네요 남양주양양 구간 풀코스 이용 시 10600원으로 km당 요금의 경우 생각보다 비싸지 않음을 알려 드립니다 남양주 톨게이트 기준 춘천 홍천 동홍천까지는 각각 100원씩의 차이를 보이네요 통행료의 경우 승용차부터 버스까지는 별 차이가 없으나 경차나 전기차는 크게 할인되고(민자구간도 해당) 3축 이상 화물차의 경우 크게 비싸지는 점 참고 바랍니다 아 이 고속도로를 이용하는 시내버스(직행좌석)도 있는데 가평군의 700x(x=0 1 2)번이라고 합니다 서울 잠실역으로 운행되는 버스입니다 아 남양주톨게이트 전에 있는 '덕소삼패IC'(와부읍 인근 나들목 번호 1번) 의 경우 양양 방향 진입 시 남양주톨게이트까지 가서 통행권을 뽑거나 하이패스를 이용하게 됩니다 서울 방향인 미사ic까지는 기본료인 1000원을 양방향 지불하게 됩니다 아 남양주 톨게이트의 경우 하이패스 제한속도가 80km/h라고 하네요 Previous image Next image 이 고속도로는 길이가 약 150km임에도 휴게소가 3곳으로 적은 편이라고 합니다 3개 휴게소마다 각각의 특징이 있는데 경기도에 있는 '가평 휴게소'의 경우 방송 프로그램에 여러 차례 나온 곳이고 가장 규모가 큰() 휴게소라고 합니다 중간에 있는 홍천 휴게소의 경우 자세히 보시면 중간에 인삼이 그려져 있어서 '홍천인삼휴게소' 라고 하며 이 고속도로를 이용하는 시외버스 고속버스들이 대부분 잠시 쉬다 가는 휴게소라고 합니다 양양 방향 홍천휴게소에서는 주변의 아름다운 풍경을 관람 가능합니다 내린천 휴게소의 경우 진입 경로가 다른 두 휴게소에 비해 약간 복잡하긴 하며 개통 당시나 명절에는 상당히 많은 이용객들로 포화상태가 된다고 합니다 이 외에도 졸음쉼터가 몇 곳 있으나 다른 고속도로에 비해 규모가 큰 편이 아니라고 합니다 다음 내용 이어 드리겠습니다 서울  춘천 구간은 위와 같이 별도의 홈-페이지가 있습니다 ( \\u200b http://wwwschighwaycokr/homepage/maindo ) 서울춘천고속도로 소통상황 원활 지체 정체 20200330 13:03:49 서울양양선 조양(616K)-춘천분기점(618K) 부근  양양방향 (2차로)노면 보수 작업중 20200330 14:12:51 서울양양선 이천터널(26K)-이천터널(263K) 부근  양양방향 (1차로) 터널균열보수 작업중 20200330 16:38:15 서울양양선 창의터널(345K)-미사터널(42K) 부근  양양방향 (1차로)이동 소방시설 작업중 홍천 힐리언스 선마을 홍천 힐리언스 선마을 네이버 블로그 페이> 개통 10주년 개통 기념 이벤트 당첨자 발표 201 wwwschighwaycokr 해당 사이트에서 교통정보 통행료 가평휴게소 정보 등을 확인하실 수 있습니다 (해당 기업은 HDC라고 하는 현대산업개발(현산)이 대주주로 있는 곳이라고 합니다) 네이버 지도의 경우 고속도로 길이가 특이하게도 왕복 합계로 나오네요(경부선도 800km가 넘게 나옵니다) 이 고속도로 상에 있는 인제양양터널의 주행 모습입니다 고속버스 내에서 2017년도에 찍었습니다 저는 답사한 지 오래 된 내용을 올리는 것을 별로 좋아하지 않습니다만 지금 시국이 시국인지라 어쩔 수 없이 올리게 되었음을 알려 드립니다 해당 터널은 건설 당시에는 '인제터널'로 불렸다가 '백두대간인제터널'이라는 표지판도 설치한 적이 있었으며 이후 인제와 양양의 두 지자체를 모두 지난다는 이유로 '인제양양터널'이 되었습니다 길이는 약 1096km 정도로 양 방향 3m의 차이를 보이며 통과 시간은 약 6분 20여초가 걸렸음을 알립니다 해당 터널 내에서는 차로 변경이 가능함을 알려 드립니다 이 고속도로의 개통으로 수도권에서 강원 북동부 지역으로의 이동이 상당히 편리해졌음을 알려 드리면서 포스트를 마칩니다 감사합니다\"]"
      ]
     },
     "execution_count": 50,
     "metadata": {},
     "output_type": "execute_result"
    }
   ],
   "source": [
    "crawling_df['full_text'][154]"
   ]
  },
  {
   "cell_type": "code",
   "execution_count": 42,
   "metadata": {
    "ExecuteTime": {
     "end_time": "2020-04-01T09:19:32.720114Z",
     "start_time": "2020-04-01T09:19:29.230032Z"
    }
   },
   "outputs": [
    {
     "name": "stderr",
     "output_type": "stream",
     "text": [
      "C:\\Users\\User\\Anaconda3\\lib\\site-packages\\ipykernel_launcher.py:5: TqdmDeprecationWarning: This function will be removed in tqdm==5.0.0\n",
      "Please use `tqdm.notebook.tqdm` instead of `tqdm.tqdm_notebook`\n",
      "  \"\"\"\n"
     ]
    },
    {
     "data": {
      "application/vnd.jupyter.widget-view+json": {
       "model_id": "5677d5b543494b5d9ef08ec4b47abfed",
       "version_major": 2,
       "version_minor": 0
      },
      "text/plain": [
       "HBox(children=(FloatProgress(value=0.0, max=824.0), HTML(value='')))"
      ]
     },
     "metadata": {},
     "output_type": "display_data"
    },
    {
     "ename": "AttributeError",
     "evalue": "'float' object has no attribute 'replace'",
     "output_type": "error",
     "traceback": [
      "\u001b[1;31m---------------------------------------------------------------------------\u001b[0m",
      "\u001b[1;31mAttributeError\u001b[0m                            Traceback (most recent call last)",
      "\u001b[1;32m<ipython-input-42-33ad1700e250>\u001b[0m in \u001b[0;36m<module>\u001b[1;34m()\u001b[0m\n\u001b[0;32m      6\u001b[0m     \u001b[1;32mtry\u001b[0m\u001b[1;33m:\u001b[0m\u001b[1;33m\u001b[0m\u001b[0m\n\u001b[1;32m----> 7\u001b[1;33m         \u001b[0mnouns\u001b[0m \u001b[1;33m=\u001b[0m \u001b[0mkomoran\u001b[0m\u001b[1;33m.\u001b[0m\u001b[0mnouns\u001b[0m\u001b[1;33m(\u001b[0m\u001b[0mcrawling_df\u001b[0m\u001b[1;33m[\u001b[0m\u001b[1;34m'full_text'\u001b[0m\u001b[1;33m]\u001b[0m\u001b[1;33m[\u001b[0m\u001b[0mi\u001b[0m\u001b[1;33m]\u001b[0m\u001b[1;33m[\u001b[0m\u001b[1;36m0\u001b[0m\u001b[1;33m]\u001b[0m\u001b[1;33m)\u001b[0m\u001b[1;33m\u001b[0m\u001b[0m\n\u001b[0m\u001b[0;32m      8\u001b[0m     \u001b[1;32mexcept\u001b[0m \u001b[1;33m:\u001b[0m\u001b[1;33m\u001b[0m\u001b[0m\n",
      "\u001b[1;32m~\\Anaconda3\\lib\\site-packages\\konlpy\\tag\\_komoran.py\u001b[0m in \u001b[0;36mnouns\u001b[1;34m(self, phrase)\u001b[0m\n\u001b[0;32m     82\u001b[0m \u001b[1;33m\u001b[0m\u001b[0m\n\u001b[1;32m---> 83\u001b[1;33m         \u001b[0mtagged\u001b[0m \u001b[1;33m=\u001b[0m \u001b[0mself\u001b[0m\u001b[1;33m.\u001b[0m\u001b[0mpos\u001b[0m\u001b[1;33m(\u001b[0m\u001b[0mphrase\u001b[0m\u001b[1;33m)\u001b[0m\u001b[1;33m\u001b[0m\u001b[0m\n\u001b[0m\u001b[0;32m     84\u001b[0m         \u001b[1;32mreturn\u001b[0m \u001b[1;33m[\u001b[0m\u001b[0ms\u001b[0m \u001b[1;32mfor\u001b[0m \u001b[0ms\u001b[0m\u001b[1;33m,\u001b[0m \u001b[0mt\u001b[0m \u001b[1;32min\u001b[0m \u001b[0mtagged\u001b[0m \u001b[1;32mif\u001b[0m \u001b[0mt\u001b[0m\u001b[1;33m.\u001b[0m\u001b[0mstartswith\u001b[0m\u001b[1;33m(\u001b[0m\u001b[1;34m'NN'\u001b[0m\u001b[1;33m)\u001b[0m\u001b[1;33m]\u001b[0m\u001b[1;33m\u001b[0m\u001b[0m\n",
      "\u001b[1;32m~\\Anaconda3\\lib\\site-packages\\konlpy\\tag\\_komoran.py\u001b[0m in \u001b[0;36mpos\u001b[1;34m(self, phrase, flatten, join)\u001b[0m\n\u001b[0;32m     59\u001b[0m \u001b[1;33m\u001b[0m\u001b[0m\n\u001b[1;32m---> 60\u001b[1;33m         \u001b[0msentences\u001b[0m \u001b[1;33m=\u001b[0m \u001b[0mphrase\u001b[0m\u001b[1;33m.\u001b[0m\u001b[0msplit\u001b[0m\u001b[1;33m(\u001b[0m\u001b[1;34m'\\n'\u001b[0m\u001b[1;33m)\u001b[0m\u001b[1;33m\u001b[0m\u001b[0m\n\u001b[0m\u001b[0;32m     61\u001b[0m         \u001b[0mmorphemes\u001b[0m \u001b[1;33m=\u001b[0m \u001b[1;33m[\u001b[0m\u001b[1;33m]\u001b[0m\u001b[1;33m\u001b[0m\u001b[0m\n",
      "\u001b[1;31mAttributeError\u001b[0m: 'float' object has no attribute 'split'",
      "\nDuring handling of the above exception, another exception occurred:\n",
      "\u001b[1;31mAttributeError\u001b[0m                            Traceback (most recent call last)",
      "\u001b[1;32m<ipython-input-42-33ad1700e250>\u001b[0m in \u001b[0;36m<module>\u001b[1;34m()\u001b[0m\n\u001b[0;32m      7\u001b[0m         \u001b[0mnouns\u001b[0m \u001b[1;33m=\u001b[0m \u001b[0mkomoran\u001b[0m\u001b[1;33m.\u001b[0m\u001b[0mnouns\u001b[0m\u001b[1;33m(\u001b[0m\u001b[0mcrawling_df\u001b[0m\u001b[1;33m[\u001b[0m\u001b[1;34m'full_text'\u001b[0m\u001b[1;33m]\u001b[0m\u001b[1;33m[\u001b[0m\u001b[0mi\u001b[0m\u001b[1;33m]\u001b[0m\u001b[1;33m[\u001b[0m\u001b[1;36m0\u001b[0m\u001b[1;33m]\u001b[0m\u001b[1;33m)\u001b[0m\u001b[1;33m\u001b[0m\u001b[0m\n\u001b[0;32m      8\u001b[0m     \u001b[1;32mexcept\u001b[0m \u001b[1;33m:\u001b[0m\u001b[1;33m\u001b[0m\u001b[0m\n\u001b[1;32m----> 9\u001b[1;33m         \u001b[0mnouns\u001b[0m \u001b[1;33m=\u001b[0m \u001b[0mcrawling_df\u001b[0m\u001b[1;33m[\u001b[0m\u001b[1;34m'full_text'\u001b[0m\u001b[1;33m]\u001b[0m\u001b[1;33m[\u001b[0m\u001b[0mi\u001b[0m\u001b[1;33m]\u001b[0m\u001b[1;33m[\u001b[0m\u001b[1;36m0\u001b[0m\u001b[1;33m]\u001b[0m\u001b[1;33m.\u001b[0m\u001b[0mreplace\u001b[0m\u001b[1;33m(\u001b[0m\u001b[1;34m'\\u200b'\u001b[0m\u001b[1;33m,\u001b[0m\u001b[1;34m\" \"\u001b[0m\u001b[1;33m)\u001b[0m\u001b[1;33m\u001b[0m\u001b[0m\n\u001b[0m\u001b[0;32m     10\u001b[0m         \u001b[0mnouns\u001b[0m \u001b[1;33m=\u001b[0m \u001b[0memoji_pattern\u001b[0m\u001b[1;33m.\u001b[0m\u001b[0msub\u001b[0m\u001b[1;33m(\u001b[0m\u001b[1;34mr''\u001b[0m\u001b[1;33m,\u001b[0m\u001b[0mcrawling_df\u001b[0m\u001b[1;33m[\u001b[0m\u001b[1;34m'full_text'\u001b[0m\u001b[1;33m]\u001b[0m\u001b[1;33m[\u001b[0m\u001b[0mi\u001b[0m\u001b[1;33m]\u001b[0m\u001b[1;33m[\u001b[0m\u001b[1;36m0\u001b[0m\u001b[1;33m]\u001b[0m\u001b[1;33m)\u001b[0m\u001b[1;33m\u001b[0m\u001b[0m\n\u001b[0;32m     11\u001b[0m         \u001b[0mnouns\u001b[0m \u001b[1;33m=\u001b[0m \u001b[0mhan\u001b[0m\u001b[1;33m.\u001b[0m\u001b[0msub\u001b[0m\u001b[1;33m(\u001b[0m\u001b[1;34mr''\u001b[0m\u001b[1;33m,\u001b[0m\u001b[0mTEXT_refine\u001b[0m\u001b[1;33m)\u001b[0m\u001b[1;33m\u001b[0m\u001b[0m\n",
      "\u001b[1;31mAttributeError\u001b[0m: 'float' object has no attribute 'replace'"
     ]
    }
   ],
   "source": [
    "sw = ['오늘','시간','최근','지난','관련','이번','이날','현재','10','올해','지난해','있다','이상','기준','때문',\n",
    "     \"메뉴\",\"주문\",\"양양\",\"강원도\",'정도','도착','생각','양양군','사진','위치','바다','해변']\n",
    "all_nouns =[]\n",
    "\n",
    "for i in tqdm_notebook(range(0,len(crawling_df))):\n",
    "    try:\n",
    "        nouns = komoran.nouns(crawling_df['full_text'][i][0])\n",
    "    except :\n",
    "        nouns = crawling_df['full_text'][i][0].replace('\\u200b',\" \")\n",
    "        nouns = emoji_pattern.sub(r'',nouns)\n",
    "        nouns = han.sub(r'',TEXT_refine)\n",
    "    clean_nouns = list(filter(lambda word : (len(word)>1)&(word not in sw),nouns))\n",
    "    all_nouns.append(clean_nouns)"
   ]
  },
  {
   "cell_type": "code",
   "execution_count": 221,
   "metadata": {
    "ExecuteTime": {
     "end_time": "2020-03-31T15:55:03.875110Z",
     "start_time": "2020-03-31T15:55:03.869109Z"
    }
   },
   "outputs": [],
   "source": [
    "noun_df = pd.DataFrame({'nouns':all_nouns})"
   ]
  },
  {
   "cell_type": "code",
   "execution_count": 222,
   "metadata": {
    "ExecuteTime": {
     "end_time": "2020-03-31T15:55:03.904117Z",
     "start_time": "2020-03-31T15:55:03.876142Z"
    }
   },
   "outputs": [],
   "source": [
    "rules = apriori(all_nouns, min_support=0.2, min_condience =0.3)"
   ]
  },
  {
   "cell_type": "code",
   "execution_count": 223,
   "metadata": {
    "ExecuteTime": {
     "end_time": "2020-03-31T15:55:04.026144Z",
     "start_time": "2020-03-31T15:55:03.905117Z"
    }
   },
   "outputs": [],
   "source": [
    "results  = list(rules)"
   ]
  },
  {
   "cell_type": "code",
   "execution_count": 224,
   "metadata": {
    "ExecuteTime": {
     "end_time": "2020-03-31T15:55:04.089158Z",
     "start_time": "2020-03-31T15:55:04.027144Z"
    }
   },
   "outputs": [],
   "source": [
    "results_df = pd.DataFrame(columns =[\"lhs\",'rhs','support','confidence','lift'])\n",
    "index =0\n",
    "for row in results:   \n",
    "    support = row[1]\n",
    "    ordered_stat = row[2]\n",
    "    for ordered_item in ordered_stat:\n",
    "        lhs = \" \".join(x for x in ordered_item[0])\n",
    "        rhs = \" \".join(x for x in ordered_item[1])\n",
    "        confidence = ordered_item[2]\n",
    "        lift = ordered_item[3]\n",
    "        results_df.loc[index] = [lhs,rhs,support,confidence,lift]\n",
    "        index = index +1"
   ]
  },
  {
   "cell_type": "code",
   "execution_count": 228,
   "metadata": {
    "ExecuteTime": {
     "end_time": "2020-03-31T15:56:06.682480Z",
     "start_time": "2020-03-31T15:56:06.680479Z"
    }
   },
   "outputs": [],
   "source": [
    "results_df = results_df.sort_values(by=\"confidence\",ascending=False)"
   ]
  },
  {
   "cell_type": "code",
   "execution_count": 229,
   "metadata": {
    "ExecuteTime": {
     "end_time": "2020-03-31T15:56:07.051466Z",
     "start_time": "2020-03-31T15:56:07.041464Z"
    },
    "scrolled": true
   },
   "outputs": [
    {
     "data": {
      "text/html": [
       "<div>\n",
       "<style scoped>\n",
       "    .dataframe tbody tr th:only-of-type {\n",
       "        vertical-align: middle;\n",
       "    }\n",
       "\n",
       "    .dataframe tbody tr th {\n",
       "        vertical-align: top;\n",
       "    }\n",
       "\n",
       "    .dataframe thead th {\n",
       "        text-align: right;\n",
       "    }\n",
       "</style>\n",
       "<table border=\"1\" class=\"dataframe\">\n",
       "  <thead>\n",
       "    <tr style=\"text-align: right;\">\n",
       "      <th></th>\n",
       "      <th>lhs</th>\n",
       "      <th>rhs</th>\n",
       "      <th>support</th>\n",
       "      <th>confidence</th>\n",
       "      <th>lift</th>\n",
       "    </tr>\n",
       "  </thead>\n",
       "  <tbody>\n",
       "    <tr>\n",
       "      <td>26</td>\n",
       "      <td></td>\n",
       "      <td>여행</td>\n",
       "      <td>0.423</td>\n",
       "      <td>0.423</td>\n",
       "      <td>1.0</td>\n",
       "    </tr>\n",
       "    <tr>\n",
       "      <td>20</td>\n",
       "      <td></td>\n",
       "      <td>사람</td>\n",
       "      <td>0.410</td>\n",
       "      <td>0.410</td>\n",
       "      <td>1.0</td>\n",
       "    </tr>\n",
       "    <tr>\n",
       "      <td>35</td>\n",
       "      <td></td>\n",
       "      <td>코로나</td>\n",
       "      <td>0.379</td>\n",
       "      <td>0.379</td>\n",
       "      <td>1.0</td>\n",
       "    </tr>\n",
       "    <tr>\n",
       "      <td>25</td>\n",
       "      <td></td>\n",
       "      <td>아침</td>\n",
       "      <td>0.311</td>\n",
       "      <td>0.311</td>\n",
       "      <td>1.0</td>\n",
       "    </tr>\n",
       "    <tr>\n",
       "      <td>15</td>\n",
       "      <td></td>\n",
       "      <td>마음</td>\n",
       "      <td>0.308</td>\n",
       "      <td>0.308</td>\n",
       "      <td>1.0</td>\n",
       "    </tr>\n",
       "    <tr>\n",
       "      <td>13</td>\n",
       "      <td></td>\n",
       "      <td>느낌</td>\n",
       "      <td>0.292</td>\n",
       "      <td>0.292</td>\n",
       "      <td>1.0</td>\n",
       "    </tr>\n",
       "    <tr>\n",
       "      <td>16</td>\n",
       "      <td></td>\n",
       "      <td>맛집</td>\n",
       "      <td>0.290</td>\n",
       "      <td>0.290</td>\n",
       "      <td>1.0</td>\n",
       "    </tr>\n",
       "    <tr>\n",
       "      <td>36</td>\n",
       "      <td></td>\n",
       "      <td>풍경</td>\n",
       "      <td>0.288</td>\n",
       "      <td>0.288</td>\n",
       "      <td>1.0</td>\n",
       "    </tr>\n",
       "    <tr>\n",
       "      <td>10</td>\n",
       "      <td></td>\n",
       "      <td>기분</td>\n",
       "      <td>0.279</td>\n",
       "      <td>0.279</td>\n",
       "      <td>1.0</td>\n",
       "    </tr>\n",
       "    <tr>\n",
       "      <td>19</td>\n",
       "      <td></td>\n",
       "      <td>보니</td>\n",
       "      <td>0.275</td>\n",
       "      <td>0.275</td>\n",
       "      <td>1.0</td>\n",
       "    </tr>\n",
       "    <tr>\n",
       "      <td>34</td>\n",
       "      <td></td>\n",
       "      <td>커피</td>\n",
       "      <td>0.271</td>\n",
       "      <td>0.271</td>\n",
       "      <td>1.0</td>\n",
       "    </tr>\n",
       "    <tr>\n",
       "      <td>11</td>\n",
       "      <td></td>\n",
       "      <td>날씨</td>\n",
       "      <td>0.267</td>\n",
       "      <td>0.267</td>\n",
       "      <td>1.0</td>\n",
       "    </tr>\n",
       "    <tr>\n",
       "      <td>28</td>\n",
       "      <td></td>\n",
       "      <td>요즘</td>\n",
       "      <td>0.264</td>\n",
       "      <td>0.264</td>\n",
       "      <td>1.0</td>\n",
       "    </tr>\n",
       "    <tr>\n",
       "      <td>37</td>\n",
       "      <td></td>\n",
       "      <td>하루</td>\n",
       "      <td>0.257</td>\n",
       "      <td>0.257</td>\n",
       "      <td>1.0</td>\n",
       "    </tr>\n",
       "    <tr>\n",
       "      <td>0</td>\n",
       "      <td></td>\n",
       "      <td>!!</td>\n",
       "      <td>0.256</td>\n",
       "      <td>0.256</td>\n",
       "      <td>1.0</td>\n",
       "    </tr>\n",
       "    <tr>\n",
       "      <td>33</td>\n",
       "      <td></td>\n",
       "      <td>카페</td>\n",
       "      <td>0.252</td>\n",
       "      <td>0.252</td>\n",
       "      <td>1.0</td>\n",
       "    </tr>\n",
       "    <tr>\n",
       "      <td>24</td>\n",
       "      <td></td>\n",
       "      <td>식당</td>\n",
       "      <td>0.246</td>\n",
       "      <td>0.246</td>\n",
       "      <td>1.0</td>\n",
       "    </tr>\n",
       "    <tr>\n",
       "      <td>30</td>\n",
       "      <td></td>\n",
       "      <td>자리</td>\n",
       "      <td>0.244</td>\n",
       "      <td>0.244</td>\n",
       "      <td>1.0</td>\n",
       "    </tr>\n",
       "    <tr>\n",
       "      <td>17</td>\n",
       "      <td></td>\n",
       "      <td>모습</td>\n",
       "      <td>0.240</td>\n",
       "      <td>0.240</td>\n",
       "      <td>1.0</td>\n",
       "    </tr>\n",
       "    <tr>\n",
       "      <td>21</td>\n",
       "      <td></td>\n",
       "      <td>속초</td>\n",
       "      <td>0.239</td>\n",
       "      <td>0.239</td>\n",
       "      <td>1.0</td>\n",
       "    </tr>\n",
       "    <tr>\n",
       "      <td>32</td>\n",
       "      <td></td>\n",
       "      <td>추천</td>\n",
       "      <td>0.236</td>\n",
       "      <td>0.236</td>\n",
       "      <td>1.0</td>\n",
       "    </tr>\n",
       "    <tr>\n",
       "      <td>12</td>\n",
       "      <td></td>\n",
       "      <td>내부</td>\n",
       "      <td>0.236</td>\n",
       "      <td>0.236</td>\n",
       "      <td>1.0</td>\n",
       "    </tr>\n",
       "    <tr>\n",
       "      <td>14</td>\n",
       "      <td></td>\n",
       "      <td>다음</td>\n",
       "      <td>0.233</td>\n",
       "      <td>0.233</td>\n",
       "      <td>1.0</td>\n",
       "    </tr>\n",
       "    <tr>\n",
       "      <td>5</td>\n",
       "      <td></td>\n",
       "      <td>거리</td>\n",
       "      <td>0.231</td>\n",
       "      <td>0.231</td>\n",
       "      <td>1.0</td>\n",
       "    </tr>\n",
       "    <tr>\n",
       "      <td>27</td>\n",
       "      <td></td>\n",
       "      <td>예약</td>\n",
       "      <td>0.230</td>\n",
       "      <td>0.230</td>\n",
       "      <td>1.0</td>\n",
       "    </tr>\n",
       "    <tr>\n",
       "      <td>22</td>\n",
       "      <td></td>\n",
       "      <td>숙소</td>\n",
       "      <td>0.230</td>\n",
       "      <td>0.230</td>\n",
       "      <td>1.0</td>\n",
       "    </tr>\n",
       "    <tr>\n",
       "      <td>2</td>\n",
       "      <td></td>\n",
       "      <td>가격</td>\n",
       "      <td>0.230</td>\n",
       "      <td>0.230</td>\n",
       "      <td>1.0</td>\n",
       "    </tr>\n",
       "    <tr>\n",
       "      <td>6</td>\n",
       "      <td></td>\n",
       "      <td>검색</td>\n",
       "      <td>0.228</td>\n",
       "      <td>0.228</td>\n",
       "      <td>1.0</td>\n",
       "    </tr>\n",
       "    <tr>\n",
       "      <td>3</td>\n",
       "      <td></td>\n",
       "      <td>가지</td>\n",
       "      <td>0.215</td>\n",
       "      <td>0.215</td>\n",
       "      <td>1.0</td>\n",
       "    </tr>\n",
       "    <tr>\n",
       "      <td>1</td>\n",
       "      <td></td>\n",
       "      <td>.com</td>\n",
       "      <td>0.211</td>\n",
       "      <td>0.211</td>\n",
       "      <td>1.0</td>\n",
       "    </tr>\n",
       "    <tr>\n",
       "      <td>31</td>\n",
       "      <td></td>\n",
       "      <td>처음</td>\n",
       "      <td>0.210</td>\n",
       "      <td>0.210</td>\n",
       "      <td>1.0</td>\n",
       "    </tr>\n",
       "    <tr>\n",
       "      <td>9</td>\n",
       "      <td></td>\n",
       "      <td>근처</td>\n",
       "      <td>0.210</td>\n",
       "      <td>0.210</td>\n",
       "      <td>1.0</td>\n",
       "    </tr>\n",
       "    <tr>\n",
       "      <td>29</td>\n",
       "      <td></td>\n",
       "      <td>운영</td>\n",
       "      <td>0.210</td>\n",
       "      <td>0.210</td>\n",
       "      <td>1.0</td>\n",
       "    </tr>\n",
       "    <tr>\n",
       "      <td>23</td>\n",
       "      <td></td>\n",
       "      <td>스팅</td>\n",
       "      <td>0.208</td>\n",
       "      <td>0.208</td>\n",
       "      <td>1.0</td>\n",
       "    </tr>\n",
       "    <tr>\n",
       "      <td>7</td>\n",
       "      <td></td>\n",
       "      <td>공간</td>\n",
       "      <td>0.206</td>\n",
       "      <td>0.206</td>\n",
       "      <td>1.0</td>\n",
       "    </tr>\n",
       "    <tr>\n",
       "      <td>4</td>\n",
       "      <td></td>\n",
       "      <td>개인</td>\n",
       "      <td>0.205</td>\n",
       "      <td>0.205</td>\n",
       "      <td>1.0</td>\n",
       "    </tr>\n",
       "    <tr>\n",
       "      <td>18</td>\n",
       "      <td></td>\n",
       "      <td>바람</td>\n",
       "      <td>0.203</td>\n",
       "      <td>0.203</td>\n",
       "      <td>1.0</td>\n",
       "    </tr>\n",
       "    <tr>\n",
       "      <td>8</td>\n",
       "      <td></td>\n",
       "      <td>구경</td>\n",
       "      <td>0.202</td>\n",
       "      <td>0.202</td>\n",
       "      <td>1.0</td>\n",
       "    </tr>\n",
       "  </tbody>\n",
       "</table>\n",
       "</div>"
      ],
      "text/plain": [
       "   lhs   rhs  support  confidence  lift\n",
       "26        여행    0.423       0.423   1.0\n",
       "20        사람    0.410       0.410   1.0\n",
       "35       코로나    0.379       0.379   1.0\n",
       "25        아침    0.311       0.311   1.0\n",
       "15        마음    0.308       0.308   1.0\n",
       "13        느낌    0.292       0.292   1.0\n",
       "16        맛집    0.290       0.290   1.0\n",
       "36        풍경    0.288       0.288   1.0\n",
       "10        기분    0.279       0.279   1.0\n",
       "19        보니    0.275       0.275   1.0\n",
       "34        커피    0.271       0.271   1.0\n",
       "11        날씨    0.267       0.267   1.0\n",
       "28        요즘    0.264       0.264   1.0\n",
       "37        하루    0.257       0.257   1.0\n",
       "0         !!    0.256       0.256   1.0\n",
       "33        카페    0.252       0.252   1.0\n",
       "24        식당    0.246       0.246   1.0\n",
       "30        자리    0.244       0.244   1.0\n",
       "17        모습    0.240       0.240   1.0\n",
       "21        속초    0.239       0.239   1.0\n",
       "32        추천    0.236       0.236   1.0\n",
       "12        내부    0.236       0.236   1.0\n",
       "14        다음    0.233       0.233   1.0\n",
       "5         거리    0.231       0.231   1.0\n",
       "27        예약    0.230       0.230   1.0\n",
       "22        숙소    0.230       0.230   1.0\n",
       "2         가격    0.230       0.230   1.0\n",
       "6         검색    0.228       0.228   1.0\n",
       "3         가지    0.215       0.215   1.0\n",
       "1       .com    0.211       0.211   1.0\n",
       "31        처음    0.210       0.210   1.0\n",
       "9         근처    0.210       0.210   1.0\n",
       "29        운영    0.210       0.210   1.0\n",
       "23        스팅    0.208       0.208   1.0\n",
       "7         공간    0.206       0.206   1.0\n",
       "4         개인    0.205       0.205   1.0\n",
       "18        바람    0.203       0.203   1.0\n",
       "8         구경    0.202       0.202   1.0"
      ]
     },
     "execution_count": 229,
     "metadata": {},
     "output_type": "execute_result"
    }
   ],
   "source": [
    "results_df"
   ]
  },
  {
   "cell_type": "code",
   "execution_count": null,
   "metadata": {},
   "outputs": [],
   "source": []
  }
 ],
 "metadata": {
  "kernelspec": {
   "display_name": "Python 3",
   "language": "python",
   "name": "python3"
  },
  "language_info": {
   "codemirror_mode": {
    "name": "ipython",
    "version": 3
   },
   "file_extension": ".py",
   "mimetype": "text/x-python",
   "name": "python",
   "nbconvert_exporter": "python",
   "pygments_lexer": "ipython3",
   "version": "3.6.5"
  },
  "varInspector": {
   "cols": {
    "lenName": 16,
    "lenType": 16,
    "lenVar": 40
   },
   "kernels_config": {
    "python": {
     "delete_cmd_postfix": "",
     "delete_cmd_prefix": "del ",
     "library": "var_list.py",
     "varRefreshCmd": "print(var_dic_list())"
    },
    "r": {
     "delete_cmd_postfix": ") ",
     "delete_cmd_prefix": "rm(",
     "library": "var_list.r",
     "varRefreshCmd": "cat(var_dic_list()) "
    }
   },
   "types_to_exclude": [
    "module",
    "function",
    "builtin_function_or_method",
    "instance",
    "_Feature"
   ],
   "window_display": false
  }
 },
 "nbformat": 4,
 "nbformat_minor": 2
}

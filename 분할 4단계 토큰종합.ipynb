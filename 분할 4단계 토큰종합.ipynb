{
 "cells": [
  {
   "cell_type": "code",
   "execution_count": 1,
   "metadata": {
    "ExecuteTime": {
     "end_time": "2020-06-12T06:34:01.904837Z",
     "start_time": "2020-06-12T06:34:01.276001Z"
    }
   },
   "outputs": [],
   "source": [
    "import pandas as pd\n",
    "import numpy as np\n",
    "import os\n",
    "from tqdm import tqdm, tqdm_notebook,tqdm_pandas\n",
    "import itertools\n",
    "import re\n",
    "import warnings\n",
    "warnings.filterwarnings(action='ignore')"
   ]
  },
  {
   "cell_type": "code",
   "execution_count": 2,
   "metadata": {
    "ExecuteTime": {
     "end_time": "2020-06-12T06:34:01.929843Z",
     "start_time": "2020-06-12T06:34:01.905837Z"
    }
   },
   "outputs": [],
   "source": [
    "filter_word = pd.read_excel('filter_word.xlsx')\n",
    "filter_word = filter_word['filter_word'].values"
   ]
  },
  {
   "cell_type": "markdown",
   "metadata": {},
   "source": [
    "### 분할이 된 파일들만 \n",
    "분할이 된 파일들만 통합하고 각 폴더밖으로 꺼내준다 "
   ]
  },
  {
   "cell_type": "code",
   "execution_count": 3,
   "metadata": {
    "ExecuteTime": {
     "end_time": "2020-06-12T06:34:27.902308Z",
     "start_time": "2020-06-12T06:34:01.930843Z"
    }
   },
   "outputs": [
    {
     "data": {
      "application/vnd.jupyter.widget-view+json": {
       "model_id": "bfd1fa5381294a8f8ce65d92c3974d90",
       "version_major": 2,
       "version_minor": 0
      },
      "text/plain": [
       "HBox(children=(FloatProgress(value=0.0, max=8.0), HTML(value='')))"
      ]
     },
     "metadata": {},
     "output_type": "display_data"
    },
    {
     "name": "stdout",
     "output_type": "stream",
     "text": [
      "\n"
     ]
    }
   ],
   "source": [
    "# path = './output/token/'\n",
    "path = './output/token/'\n",
    "file_list = os.listdir(path)\n",
    "folder_list = []\n",
    "for file in file_list:\n",
    "    if os.path.splitext(file)[1] != '.csv':\n",
    "        folder_list.append(file)\n",
    "\n",
    "for folder in tqdm_notebook(folder_list):\n",
    "    file_list = os.listdir(f'{path}/{folder}/')\n",
    "    all_df = pd.DataFrame()\n",
    "    for file in file_list:\n",
    "        read_file = pd.read_csv(f'{path}/{folder}/{file}')\n",
    "        all_df = pd.concat([all_df,read_file])\n",
    "        size = all_df.shape[0]\n",
    "    all_df.to_csv(f'./output/token/{folder}_0~{size}.csv',index=False)\n"
   ]
  },
  {
   "cell_type": "markdown",
   "metadata": {},
   "source": [
    "### 파일결합\n",
    "* 검색어를 다수로 사용했기에 각 파일을 마을별로 묶어준다"
   ]
  },
  {
   "cell_type": "code",
   "execution_count": 4,
   "metadata": {
    "ExecuteTime": {
     "end_time": "2020-06-12T06:34:27.905308Z",
     "start_time": "2020-06-12T06:34:27.903308Z"
    }
   },
   "outputs": [],
   "source": [
    "path = './output/token/'\n",
    "file_list = os.listdir(path)\n",
    "csv_list = []\n",
    "for file in file_list:\n",
    "    if os.path.splitext(file)[1] == '.csv':\n",
    "        csv_list.append(file)"
   ]
  },
  {
   "cell_type": "code",
   "execution_count": 5,
   "metadata": {
    "ExecuteTime": {
     "end_time": "2020-06-12T06:34:27.910308Z",
     "start_time": "2020-06-12T06:34:27.906308Z"
    }
   },
   "outputs": [],
   "source": [
    "merge_file = dict()\n",
    "\n",
    "merge_file['광진'] = ['광진리','광진','광진해변','휴휴암'] #광진 +강원도 삭제\n",
    "merge_file['기사문'] = ['기사문리','기사문','기사문항','기사문해변']\n",
    "merge_file['낙산'] = ['낙산','낙산항','낙산해수욕장']\n",
    "merge_file['남애'] = ['남애리','남애','남애항'] #남애 +강원도 삭제\n",
    "merge_file['동호'] = ['동호','동호리','동호해변','동호해수욕장']\n",
    "merge_file['동산'] = ['동산','동산리','동산항','동산해수욕장'] #동산 _강원도 삭제\n",
    "merge_file['물치'] = ['물치리','물치','물치항']\n",
    "merge_file['수산'] = ['수산리','수산항'] #'수산' 제외\n",
    "merge_file['오산'] = ['오산','오산해수욕장','오산리'] #오산 +강원도 삭제\n",
    "merge_file['인구'] = ['인구리','죽도'] # '인구' 제외\n",
    "merge_file['전진'] = ['전진리','설악해수욕장','후진항']\n",
    "merge_file['하광정'] = ['하광정리','하조대','하조대해수욕장']\n",
    "merge_file['강원도'] = ['강원도']\n",
    "merge_file['속초'] = ['속초']\n",
    "merge_file['강릉'] = ['강릉']\n",
    "merge_file['양양'] = ['양양']"
   ]
  },
  {
   "cell_type": "code",
   "execution_count": 6,
   "metadata": {
    "ExecuteTime": {
     "end_time": "2020-06-12T06:36:02.871225Z",
     "start_time": "2020-06-12T06:34:27.911309Z"
    }
   },
   "outputs": [
    {
     "data": {
      "application/vnd.jupyter.widget-view+json": {
       "model_id": "eace3ef4633942b189498608f94beb5e",
       "version_major": 2,
       "version_minor": 0
      },
      "text/plain": [
       "HBox(children=(FloatProgress(value=0.0, max=16.0), HTML(value='')))"
      ]
     },
     "metadata": {},
     "output_type": "display_data"
    },
    {
     "name": "stdout",
     "output_type": "stream",
     "text": [
      "\n"
     ]
    }
   ],
   "source": [
    "#결합해야하는 파일 솎아내기\n",
    "files = dict()\n",
    "for file in csv_list:\n",
    "    keyword = file.split('_')[0].split(\"+\")[0].replace(' ', '')\n",
    "    for key in merge_file.keys():\n",
    "        if keyword in merge_file[key]:\n",
    "            if files.get(key) == None:\n",
    "                files[key] = [file]\n",
    "            else:\n",
    "                files[key].append(file)\n",
    "    \n",
    "#파일결합\n",
    "for key in tqdm_notebook(files.keys()):\n",
    "    merged_df = pd.DataFrame()\n",
    "    for file in files[key]:\n",
    "        file_df = pd.read_csv(path + file)\n",
    "        merged_df = pd.concat([merged_df,file_df])\n",
    "    merged_df = merged_df.drop_duplicates('full_text')\n",
    "    \n",
    "    #필터링\n",
    "    merged_df = merged_df.fillna('')\n",
    "    filtered = merged_df.full_text.apply(lambda x : any(ele in x for ele in filter_word)) #전체글\n",
    "    clean_file = merged_df[~filtered]\n",
    "    filtered = clean_file.title.apply(lambda x : any(ele in x for ele in filter_word)) #타이틀\n",
    "    clean_file = clean_file[~filtered]\n",
    "    \n",
    "    total_len = clean_file.shape[0]\n",
    "    clean_file.to_csv(f'./output/token_통합/{key}_{total_len}.csv',index = False)"
   ]
  },
  {
   "cell_type": "markdown",
   "metadata": {},
   "source": [
    "### 파일 종합 결과"
   ]
  },
  {
   "cell_type": "code",
   "execution_count": 7,
   "metadata": {
    "ExecuteTime": {
     "end_time": "2020-06-12T06:36:15.824800Z",
     "start_time": "2020-06-12T06:36:02.872225Z"
    }
   },
   "outputs": [],
   "source": [
    "path = './output/token_통합/'\n",
    "file_list = os.listdir(path)\n",
    "\n",
    "total_df = pd.DataFrame()\n",
    "for file in file_list:\n",
    "    sumup = dict()\n",
    "    keyword = file.split('_')[0]\n",
    "    df = pd.read_csv(path +file)\n",
    "    sumup['total_size'] = df.shape[0]\n",
    "    for year in range(2010,2020):\n",
    "        try :\n",
    "            sumup[year] = df[df.year == year].shape[0]\n",
    "        except :\n",
    "            sumup[year] = np.nan\n",
    "    one_df = pd.DataFrame(sumup,index =[keyword])\n",
    "    total_df = pd.concat([total_df,one_df])"
   ]
  },
  {
   "cell_type": "code",
   "execution_count": 8,
   "metadata": {
    "ExecuteTime": {
     "end_time": "2020-06-12T06:36:15.841803Z",
     "start_time": "2020-06-12T06:36:15.825799Z"
    }
   },
   "outputs": [
    {
     "data": {
      "text/html": [
       "<div>\n",
       "<style scoped>\n",
       "    .dataframe tbody tr th:only-of-type {\n",
       "        vertical-align: middle;\n",
       "    }\n",
       "\n",
       "    .dataframe tbody tr th {\n",
       "        vertical-align: top;\n",
       "    }\n",
       "\n",
       "    .dataframe thead th {\n",
       "        text-align: right;\n",
       "    }\n",
       "</style>\n",
       "<table border=\"1\" class=\"dataframe\">\n",
       "  <thead>\n",
       "    <tr style=\"text-align: right;\">\n",
       "      <th></th>\n",
       "      <th>total_size</th>\n",
       "      <th>2010</th>\n",
       "      <th>2011</th>\n",
       "      <th>2012</th>\n",
       "      <th>2013</th>\n",
       "      <th>2014</th>\n",
       "      <th>2015</th>\n",
       "      <th>2016</th>\n",
       "      <th>2017</th>\n",
       "      <th>2018</th>\n",
       "      <th>2019</th>\n",
       "    </tr>\n",
       "  </thead>\n",
       "  <tbody>\n",
       "    <tr>\n",
       "      <td>강릉</td>\n",
       "      <td>51365</td>\n",
       "      <td>2650</td>\n",
       "      <td>3405</td>\n",
       "      <td>4230</td>\n",
       "      <td>4738</td>\n",
       "      <td>5607</td>\n",
       "      <td>6146</td>\n",
       "      <td>6102</td>\n",
       "      <td>6062</td>\n",
       "      <td>6157</td>\n",
       "      <td>6268</td>\n",
       "    </tr>\n",
       "    <tr>\n",
       "      <td>강원도</td>\n",
       "      <td>59239</td>\n",
       "      <td>5139</td>\n",
       "      <td>5468</td>\n",
       "      <td>5654</td>\n",
       "      <td>5824</td>\n",
       "      <td>6236</td>\n",
       "      <td>6700</td>\n",
       "      <td>6427</td>\n",
       "      <td>6443</td>\n",
       "      <td>5868</td>\n",
       "      <td>5480</td>\n",
       "    </tr>\n",
       "    <tr>\n",
       "      <td>광진</td>\n",
       "      <td>5841</td>\n",
       "      <td>116</td>\n",
       "      <td>161</td>\n",
       "      <td>234</td>\n",
       "      <td>380</td>\n",
       "      <td>530</td>\n",
       "      <td>709</td>\n",
       "      <td>886</td>\n",
       "      <td>1043</td>\n",
       "      <td>843</td>\n",
       "      <td>939</td>\n",
       "    </tr>\n",
       "    <tr>\n",
       "      <td>기사문</td>\n",
       "      <td>2516</td>\n",
       "      <td>29</td>\n",
       "      <td>59</td>\n",
       "      <td>79</td>\n",
       "      <td>132</td>\n",
       "      <td>251</td>\n",
       "      <td>356</td>\n",
       "      <td>355</td>\n",
       "      <td>374</td>\n",
       "      <td>389</td>\n",
       "      <td>492</td>\n",
       "    </tr>\n",
       "    <tr>\n",
       "      <td>낙산</td>\n",
       "      <td>19600</td>\n",
       "      <td>627</td>\n",
       "      <td>840</td>\n",
       "      <td>865</td>\n",
       "      <td>1048</td>\n",
       "      <td>1488</td>\n",
       "      <td>2055</td>\n",
       "      <td>2348</td>\n",
       "      <td>2760</td>\n",
       "      <td>2951</td>\n",
       "      <td>4618</td>\n",
       "    </tr>\n",
       "    <tr>\n",
       "      <td>남애</td>\n",
       "      <td>4348</td>\n",
       "      <td>108</td>\n",
       "      <td>118</td>\n",
       "      <td>171</td>\n",
       "      <td>227</td>\n",
       "      <td>379</td>\n",
       "      <td>534</td>\n",
       "      <td>604</td>\n",
       "      <td>801</td>\n",
       "      <td>741</td>\n",
       "      <td>665</td>\n",
       "    </tr>\n",
       "    <tr>\n",
       "      <td>동산</td>\n",
       "      <td>1970</td>\n",
       "      <td>48</td>\n",
       "      <td>69</td>\n",
       "      <td>77</td>\n",
       "      <td>92</td>\n",
       "      <td>134</td>\n",
       "      <td>199</td>\n",
       "      <td>190</td>\n",
       "      <td>255</td>\n",
       "      <td>446</td>\n",
       "      <td>460</td>\n",
       "    </tr>\n",
       "    <tr>\n",
       "      <td>동호</td>\n",
       "      <td>3357</td>\n",
       "      <td>89</td>\n",
       "      <td>110</td>\n",
       "      <td>119</td>\n",
       "      <td>159</td>\n",
       "      <td>235</td>\n",
       "      <td>420</td>\n",
       "      <td>419</td>\n",
       "      <td>577</td>\n",
       "      <td>608</td>\n",
       "      <td>621</td>\n",
       "    </tr>\n",
       "    <tr>\n",
       "      <td>물치</td>\n",
       "      <td>4313</td>\n",
       "      <td>144</td>\n",
       "      <td>143</td>\n",
       "      <td>207</td>\n",
       "      <td>234</td>\n",
       "      <td>305</td>\n",
       "      <td>412</td>\n",
       "      <td>492</td>\n",
       "      <td>682</td>\n",
       "      <td>870</td>\n",
       "      <td>824</td>\n",
       "    </tr>\n",
       "    <tr>\n",
       "      <td>속초</td>\n",
       "      <td>55652</td>\n",
       "      <td>2475</td>\n",
       "      <td>3498</td>\n",
       "      <td>4361</td>\n",
       "      <td>5088</td>\n",
       "      <td>6345</td>\n",
       "      <td>6944</td>\n",
       "      <td>6858</td>\n",
       "      <td>6832</td>\n",
       "      <td>6615</td>\n",
       "      <td>6636</td>\n",
       "    </tr>\n",
       "    <tr>\n",
       "      <td>수산</td>\n",
       "      <td>2529</td>\n",
       "      <td>75</td>\n",
       "      <td>104</td>\n",
       "      <td>88</td>\n",
       "      <td>125</td>\n",
       "      <td>226</td>\n",
       "      <td>331</td>\n",
       "      <td>376</td>\n",
       "      <td>384</td>\n",
       "      <td>427</td>\n",
       "      <td>393</td>\n",
       "    </tr>\n",
       "    <tr>\n",
       "      <td>양양</td>\n",
       "      <td>46106</td>\n",
       "      <td>2047</td>\n",
       "      <td>2400</td>\n",
       "      <td>2869</td>\n",
       "      <td>3751</td>\n",
       "      <td>4736</td>\n",
       "      <td>5751</td>\n",
       "      <td>6131</td>\n",
       "      <td>6056</td>\n",
       "      <td>6124</td>\n",
       "      <td>6241</td>\n",
       "    </tr>\n",
       "    <tr>\n",
       "      <td>오산</td>\n",
       "      <td>3248</td>\n",
       "      <td>160</td>\n",
       "      <td>191</td>\n",
       "      <td>256</td>\n",
       "      <td>270</td>\n",
       "      <td>284</td>\n",
       "      <td>337</td>\n",
       "      <td>396</td>\n",
       "      <td>455</td>\n",
       "      <td>474</td>\n",
       "      <td>425</td>\n",
       "    </tr>\n",
       "    <tr>\n",
       "      <td>인구</td>\n",
       "      <td>8401</td>\n",
       "      <td>56</td>\n",
       "      <td>79</td>\n",
       "      <td>115</td>\n",
       "      <td>264</td>\n",
       "      <td>580</td>\n",
       "      <td>772</td>\n",
       "      <td>981</td>\n",
       "      <td>1420</td>\n",
       "      <td>1848</td>\n",
       "      <td>2286</td>\n",
       "    </tr>\n",
       "    <tr>\n",
       "      <td>전진</td>\n",
       "      <td>2447</td>\n",
       "      <td>46</td>\n",
       "      <td>78</td>\n",
       "      <td>103</td>\n",
       "      <td>100</td>\n",
       "      <td>150</td>\n",
       "      <td>235</td>\n",
       "      <td>285</td>\n",
       "      <td>298</td>\n",
       "      <td>473</td>\n",
       "      <td>679</td>\n",
       "    </tr>\n",
       "    <tr>\n",
       "      <td>하광정</td>\n",
       "      <td>16616</td>\n",
       "      <td>528</td>\n",
       "      <td>717</td>\n",
       "      <td>810</td>\n",
       "      <td>1041</td>\n",
       "      <td>1600</td>\n",
       "      <td>1969</td>\n",
       "      <td>2267</td>\n",
       "      <td>2519</td>\n",
       "      <td>2279</td>\n",
       "      <td>2886</td>\n",
       "    </tr>\n",
       "  </tbody>\n",
       "</table>\n",
       "</div>"
      ],
      "text/plain": [
       "     total_size  2010  2011  2012  2013  2014  2015  2016  2017  2018  2019\n",
       "강릉        51365  2650  3405  4230  4738  5607  6146  6102  6062  6157  6268\n",
       "강원도       59239  5139  5468  5654  5824  6236  6700  6427  6443  5868  5480\n",
       "광진         5841   116   161   234   380   530   709   886  1043   843   939\n",
       "기사문        2516    29    59    79   132   251   356   355   374   389   492\n",
       "낙산        19600   627   840   865  1048  1488  2055  2348  2760  2951  4618\n",
       "남애         4348   108   118   171   227   379   534   604   801   741   665\n",
       "동산         1970    48    69    77    92   134   199   190   255   446   460\n",
       "동호         3357    89   110   119   159   235   420   419   577   608   621\n",
       "물치         4313   144   143   207   234   305   412   492   682   870   824\n",
       "속초        55652  2475  3498  4361  5088  6345  6944  6858  6832  6615  6636\n",
       "수산         2529    75   104    88   125   226   331   376   384   427   393\n",
       "양양        46106  2047  2400  2869  3751  4736  5751  6131  6056  6124  6241\n",
       "오산         3248   160   191   256   270   284   337   396   455   474   425\n",
       "인구         8401    56    79   115   264   580   772   981  1420  1848  2286\n",
       "전진         2447    46    78   103   100   150   235   285   298   473   679\n",
       "하광정       16616   528   717   810  1041  1600  1969  2267  2519  2279  2886"
      ]
     },
     "execution_count": 8,
     "metadata": {},
     "output_type": "execute_result"
    }
   ],
   "source": [
    "total_df"
   ]
  },
  {
   "cell_type": "markdown",
   "metadata": {},
   "source": [
    "### 각각탐색"
   ]
  },
  {
   "cell_type": "code",
   "execution_count": 9,
   "metadata": {
    "ExecuteTime": {
     "end_time": "2020-06-12T06:36:15.845804Z",
     "start_time": "2020-06-12T06:36:15.842804Z"
    }
   },
   "outputs": [],
   "source": [
    "path = './output/token_통합/'\n",
    "file_list = os.listdir(path)"
   ]
  },
  {
   "cell_type": "code",
   "execution_count": 10,
   "metadata": {
    "ExecuteTime": {
     "end_time": "2020-06-12T06:36:15.850805Z",
     "start_time": "2020-06-12T06:36:15.846804Z"
    }
   },
   "outputs": [
    {
     "data": {
      "text/plain": [
       "['강릉_51365.csv',\n",
       " '강원도_59239.csv',\n",
       " '광진_5841.csv',\n",
       " '기사문_2516.csv',\n",
       " '낙산_19600.csv',\n",
       " '남애_4348.csv',\n",
       " '동산_1970.csv',\n",
       " '동호_3357.csv',\n",
       " '물치_4313.csv',\n",
       " '속초_55652.csv',\n",
       " '수산_2529.csv',\n",
       " '양양_46106.csv',\n",
       " '오산_3248.csv',\n",
       " '인구_8401.csv',\n",
       " '전진_2447.csv',\n",
       " '하광정_16616.csv']"
      ]
     },
     "execution_count": 10,
     "metadata": {},
     "output_type": "execute_result"
    }
   ],
   "source": [
    "file_list"
   ]
  },
  {
   "cell_type": "code",
   "execution_count": 11,
   "metadata": {
    "ExecuteTime": {
     "end_time": "2020-06-12T06:36:15.925822Z",
     "start_time": "2020-06-12T06:36:15.851805Z"
    }
   },
   "outputs": [
    {
     "ename": "FileNotFoundError",
     "evalue": "[Errno 2] File b'./output/token_\\xed\\x86\\xb5\\xed\\x95\\xa9/\\xeb\\x8f\\x99\\xec\\x82\\xb0_8917.csv' does not exist: b'./output/token_\\xed\\x86\\xb5\\xed\\x95\\xa9/\\xeb\\x8f\\x99\\xec\\x82\\xb0_8917.csv'",
     "output_type": "error",
     "traceback": [
      "\u001b[1;31m---------------------------------------------------------------------------\u001b[0m",
      "\u001b[1;31mFileNotFoundError\u001b[0m                         Traceback (most recent call last)",
      "\u001b[1;32m<ipython-input-11-cecaa14b6238>\u001b[0m in \u001b[0;36m<module>\u001b[1;34m()\u001b[0m\n\u001b[1;32m----> 1\u001b[1;33m \u001b[0msample\u001b[0m \u001b[1;33m=\u001b[0m \u001b[0mpd\u001b[0m\u001b[1;33m.\u001b[0m\u001b[0mread_csv\u001b[0m\u001b[1;33m(\u001b[0m\u001b[0mpath\u001b[0m \u001b[1;33m+\u001b[0m\u001b[1;34m'동산_8917.csv'\u001b[0m\u001b[1;33m)\u001b[0m\u001b[1;33m\u001b[0m\u001b[0m\n\u001b[0m",
      "\u001b[1;32m~\\AppData\\Roaming\\Python\\Python36\\site-packages\\pandas\\io\\parsers.py\u001b[0m in \u001b[0;36mparser_f\u001b[1;34m(filepath_or_buffer, sep, delimiter, header, names, index_col, usecols, squeeze, prefix, mangle_dupe_cols, dtype, engine, converters, true_values, false_values, skipinitialspace, skiprows, skipfooter, nrows, na_values, keep_default_na, na_filter, verbose, skip_blank_lines, parse_dates, infer_datetime_format, keep_date_col, date_parser, dayfirst, cache_dates, iterator, chunksize, compression, thousands, decimal, lineterminator, quotechar, quoting, doublequote, escapechar, comment, encoding, dialect, error_bad_lines, warn_bad_lines, delim_whitespace, low_memory, memory_map, float_precision)\u001b[0m\n\u001b[0;32m    683\u001b[0m         )\n\u001b[0;32m    684\u001b[0m \u001b[1;33m\u001b[0m\u001b[0m\n\u001b[1;32m--> 685\u001b[1;33m         \u001b[1;32mreturn\u001b[0m \u001b[0m_read\u001b[0m\u001b[1;33m(\u001b[0m\u001b[0mfilepath_or_buffer\u001b[0m\u001b[1;33m,\u001b[0m \u001b[0mkwds\u001b[0m\u001b[1;33m)\u001b[0m\u001b[1;33m\u001b[0m\u001b[0m\n\u001b[0m\u001b[0;32m    686\u001b[0m \u001b[1;33m\u001b[0m\u001b[0m\n\u001b[0;32m    687\u001b[0m     \u001b[0mparser_f\u001b[0m\u001b[1;33m.\u001b[0m\u001b[0m__name__\u001b[0m \u001b[1;33m=\u001b[0m \u001b[0mname\u001b[0m\u001b[1;33m\u001b[0m\u001b[0m\n",
      "\u001b[1;32m~\\AppData\\Roaming\\Python\\Python36\\site-packages\\pandas\\io\\parsers.py\u001b[0m in \u001b[0;36m_read\u001b[1;34m(filepath_or_buffer, kwds)\u001b[0m\n\u001b[0;32m    455\u001b[0m \u001b[1;33m\u001b[0m\u001b[0m\n\u001b[0;32m    456\u001b[0m     \u001b[1;31m# Create the parser.\u001b[0m\u001b[1;33m\u001b[0m\u001b[1;33m\u001b[0m\u001b[0m\n\u001b[1;32m--> 457\u001b[1;33m     \u001b[0mparser\u001b[0m \u001b[1;33m=\u001b[0m \u001b[0mTextFileReader\u001b[0m\u001b[1;33m(\u001b[0m\u001b[0mfp_or_buf\u001b[0m\u001b[1;33m,\u001b[0m \u001b[1;33m**\u001b[0m\u001b[0mkwds\u001b[0m\u001b[1;33m)\u001b[0m\u001b[1;33m\u001b[0m\u001b[0m\n\u001b[0m\u001b[0;32m    458\u001b[0m \u001b[1;33m\u001b[0m\u001b[0m\n\u001b[0;32m    459\u001b[0m     \u001b[1;32mif\u001b[0m \u001b[0mchunksize\u001b[0m \u001b[1;32mor\u001b[0m \u001b[0miterator\u001b[0m\u001b[1;33m:\u001b[0m\u001b[1;33m\u001b[0m\u001b[0m\n",
      "\u001b[1;32m~\\AppData\\Roaming\\Python\\Python36\\site-packages\\pandas\\io\\parsers.py\u001b[0m in \u001b[0;36m__init__\u001b[1;34m(self, f, engine, **kwds)\u001b[0m\n\u001b[0;32m    893\u001b[0m             \u001b[0mself\u001b[0m\u001b[1;33m.\u001b[0m\u001b[0moptions\u001b[0m\u001b[1;33m[\u001b[0m\u001b[1;34m\"has_index_names\"\u001b[0m\u001b[1;33m]\u001b[0m \u001b[1;33m=\u001b[0m \u001b[0mkwds\u001b[0m\u001b[1;33m[\u001b[0m\u001b[1;34m\"has_index_names\"\u001b[0m\u001b[1;33m]\u001b[0m\u001b[1;33m\u001b[0m\u001b[0m\n\u001b[0;32m    894\u001b[0m \u001b[1;33m\u001b[0m\u001b[0m\n\u001b[1;32m--> 895\u001b[1;33m         \u001b[0mself\u001b[0m\u001b[1;33m.\u001b[0m\u001b[0m_make_engine\u001b[0m\u001b[1;33m(\u001b[0m\u001b[0mself\u001b[0m\u001b[1;33m.\u001b[0m\u001b[0mengine\u001b[0m\u001b[1;33m)\u001b[0m\u001b[1;33m\u001b[0m\u001b[0m\n\u001b[0m\u001b[0;32m    896\u001b[0m \u001b[1;33m\u001b[0m\u001b[0m\n\u001b[0;32m    897\u001b[0m     \u001b[1;32mdef\u001b[0m \u001b[0mclose\u001b[0m\u001b[1;33m(\u001b[0m\u001b[0mself\u001b[0m\u001b[1;33m)\u001b[0m\u001b[1;33m:\u001b[0m\u001b[1;33m\u001b[0m\u001b[0m\n",
      "\u001b[1;32m~\\AppData\\Roaming\\Python\\Python36\\site-packages\\pandas\\io\\parsers.py\u001b[0m in \u001b[0;36m_make_engine\u001b[1;34m(self, engine)\u001b[0m\n\u001b[0;32m   1133\u001b[0m     \u001b[1;32mdef\u001b[0m \u001b[0m_make_engine\u001b[0m\u001b[1;33m(\u001b[0m\u001b[0mself\u001b[0m\u001b[1;33m,\u001b[0m \u001b[0mengine\u001b[0m\u001b[1;33m=\u001b[0m\u001b[1;34m\"c\"\u001b[0m\u001b[1;33m)\u001b[0m\u001b[1;33m:\u001b[0m\u001b[1;33m\u001b[0m\u001b[0m\n\u001b[0;32m   1134\u001b[0m         \u001b[1;32mif\u001b[0m \u001b[0mengine\u001b[0m \u001b[1;33m==\u001b[0m \u001b[1;34m\"c\"\u001b[0m\u001b[1;33m:\u001b[0m\u001b[1;33m\u001b[0m\u001b[0m\n\u001b[1;32m-> 1135\u001b[1;33m             \u001b[0mself\u001b[0m\u001b[1;33m.\u001b[0m\u001b[0m_engine\u001b[0m \u001b[1;33m=\u001b[0m \u001b[0mCParserWrapper\u001b[0m\u001b[1;33m(\u001b[0m\u001b[0mself\u001b[0m\u001b[1;33m.\u001b[0m\u001b[0mf\u001b[0m\u001b[1;33m,\u001b[0m \u001b[1;33m**\u001b[0m\u001b[0mself\u001b[0m\u001b[1;33m.\u001b[0m\u001b[0moptions\u001b[0m\u001b[1;33m)\u001b[0m\u001b[1;33m\u001b[0m\u001b[0m\n\u001b[0m\u001b[0;32m   1136\u001b[0m         \u001b[1;32melse\u001b[0m\u001b[1;33m:\u001b[0m\u001b[1;33m\u001b[0m\u001b[0m\n\u001b[0;32m   1137\u001b[0m             \u001b[1;32mif\u001b[0m \u001b[0mengine\u001b[0m \u001b[1;33m==\u001b[0m \u001b[1;34m\"python\"\u001b[0m\u001b[1;33m:\u001b[0m\u001b[1;33m\u001b[0m\u001b[0m\n",
      "\u001b[1;32m~\\AppData\\Roaming\\Python\\Python36\\site-packages\\pandas\\io\\parsers.py\u001b[0m in \u001b[0;36m__init__\u001b[1;34m(self, src, **kwds)\u001b[0m\n\u001b[0;32m   1915\u001b[0m         \u001b[0mkwds\u001b[0m\u001b[1;33m[\u001b[0m\u001b[1;34m\"usecols\"\u001b[0m\u001b[1;33m]\u001b[0m \u001b[1;33m=\u001b[0m \u001b[0mself\u001b[0m\u001b[1;33m.\u001b[0m\u001b[0musecols\u001b[0m\u001b[1;33m\u001b[0m\u001b[0m\n\u001b[0;32m   1916\u001b[0m \u001b[1;33m\u001b[0m\u001b[0m\n\u001b[1;32m-> 1917\u001b[1;33m         \u001b[0mself\u001b[0m\u001b[1;33m.\u001b[0m\u001b[0m_reader\u001b[0m \u001b[1;33m=\u001b[0m \u001b[0mparsers\u001b[0m\u001b[1;33m.\u001b[0m\u001b[0mTextReader\u001b[0m\u001b[1;33m(\u001b[0m\u001b[0msrc\u001b[0m\u001b[1;33m,\u001b[0m \u001b[1;33m**\u001b[0m\u001b[0mkwds\u001b[0m\u001b[1;33m)\u001b[0m\u001b[1;33m\u001b[0m\u001b[0m\n\u001b[0m\u001b[0;32m   1918\u001b[0m         \u001b[0mself\u001b[0m\u001b[1;33m.\u001b[0m\u001b[0munnamed_cols\u001b[0m \u001b[1;33m=\u001b[0m \u001b[0mself\u001b[0m\u001b[1;33m.\u001b[0m\u001b[0m_reader\u001b[0m\u001b[1;33m.\u001b[0m\u001b[0munnamed_cols\u001b[0m\u001b[1;33m\u001b[0m\u001b[0m\n\u001b[0;32m   1919\u001b[0m \u001b[1;33m\u001b[0m\u001b[0m\n",
      "\u001b[1;32mpandas\\_libs\\parsers.pyx\u001b[0m in \u001b[0;36mpandas._libs.parsers.TextReader.__cinit__\u001b[1;34m()\u001b[0m\n",
      "\u001b[1;32mpandas\\_libs\\parsers.pyx\u001b[0m in \u001b[0;36mpandas._libs.parsers.TextReader._setup_parser_source\u001b[1;34m()\u001b[0m\n",
      "\u001b[1;31mFileNotFoundError\u001b[0m: [Errno 2] File b'./output/token_\\xed\\x86\\xb5\\xed\\x95\\xa9/\\xeb\\x8f\\x99\\xec\\x82\\xb0_8917.csv' does not exist: b'./output/token_\\xed\\x86\\xb5\\xed\\x95\\xa9/\\xeb\\x8f\\x99\\xec\\x82\\xb0_8917.csv'"
     ]
    }
   ],
   "source": [
    "sample = pd.read_csv(path +'동산_8917.csv')"
   ]
  },
  {
   "cell_type": "code",
   "execution_count": null,
   "metadata": {
    "ExecuteTime": {
     "end_time": "2020-06-12T06:36:15.925822Z",
     "start_time": "2020-06-12T06:34:01.285Z"
    }
   },
   "outputs": [],
   "source": [
    "sample.title.value_counts().head(20)"
   ]
  },
  {
   "cell_type": "code",
   "execution_count": null,
   "metadata": {
    "ExecuteTime": {
     "end_time": "2020-06-12T06:36:15.926822Z",
     "start_time": "2020-06-12T06:34:01.286Z"
    }
   },
   "outputs": [],
   "source": [
    "sample.fillna(\"\",inplace = True)\n",
    "sample[sample.Noun.apply(lambda x : \"초경\" in x)].year.value_counts()"
   ]
  },
  {
   "cell_type": "code",
   "execution_count": null,
   "metadata": {},
   "outputs": [],
   "source": []
  }
 ],
 "metadata": {
  "kernelspec": {
   "display_name": "Python 3",
   "language": "python",
   "name": "python3"
  },
  "language_info": {
   "codemirror_mode": {
    "name": "ipython",
    "version": 3
   },
   "file_extension": ".py",
   "mimetype": "text/x-python",
   "name": "python",
   "nbconvert_exporter": "python",
   "pygments_lexer": "ipython3",
   "version": "3.6.5"
  },
  "varInspector": {
   "cols": {
    "lenName": 16,
    "lenType": 16,
    "lenVar": 40
   },
   "kernels_config": {
    "python": {
     "delete_cmd_postfix": "",
     "delete_cmd_prefix": "del ",
     "library": "var_list.py",
     "varRefreshCmd": "print(var_dic_list())"
    },
    "r": {
     "delete_cmd_postfix": ") ",
     "delete_cmd_prefix": "rm(",
     "library": "var_list.r",
     "varRefreshCmd": "cat(var_dic_list()) "
    }
   },
   "types_to_exclude": [
    "module",
    "function",
    "builtin_function_or_method",
    "instance",
    "_Feature"
   ],
   "window_display": false
  }
 },
 "nbformat": 4,
 "nbformat_minor": 2
}

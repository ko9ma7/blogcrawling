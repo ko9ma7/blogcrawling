{
 "cells": [
  {
   "cell_type": "code",
   "execution_count": 1,
   "metadata": {
    "ExecuteTime": {
     "end_time": "2020-06-15T07:14:17.348105Z",
     "start_time": "2020-06-15T07:14:16.681955Z"
    }
   },
   "outputs": [],
   "source": [
    "import pandas as pd\n",
    "import numpy as np\n",
    "import os\n",
    "from tqdm import tqdm, tqdm_notebook,tqdm_pandas\n",
    "import itertools\n",
    "import re\n",
    "import warnings\n",
    "warnings.filterwarnings(action='ignore')"
   ]
  },
  {
   "cell_type": "code",
   "execution_count": 2,
   "metadata": {
    "ExecuteTime": {
     "end_time": "2020-06-15T07:14:17.378113Z",
     "start_time": "2020-06-15T07:14:17.349106Z"
    }
   },
   "outputs": [],
   "source": [
    "filter_word = pd.read_excel('filter_word.xlsx')['filter_word'].values\n",
    "path = './output/token/'"
   ]
  },
  {
   "cell_type": "code",
   "execution_count": 3,
   "metadata": {
    "ExecuteTime": {
     "end_time": "2020-06-15T07:14:17.382113Z",
     "start_time": "2020-06-15T07:14:17.379112Z"
    }
   },
   "outputs": [],
   "source": [
    "merge_file = dict()\n",
    "\n",
    "merge_file['광진'] = ['광진리','광진','광진해변','휴휴암'] #광진 +강원도 삭제\n",
    "merge_file['기사문'] = ['기사문리','기사문','기사문항','기사문해변']\n",
    "merge_file['낙산'] = ['낙산','낙산항','낙산해수욕장']\n",
    "merge_file['남애'] = ['남애리','남애','남애항'] #남애 +강원도 삭제\n",
    "merge_file['동호'] = ['동호','동호리','동호해변','동호해수욕장']\n",
    "merge_file['동산'] = ['동산','동산리','동산항','동산해수욕장'] #동산 _강원도 삭제\n",
    "merge_file['물치'] = ['물치리','물치','물치항']\n",
    "merge_file['수산'] = ['수산리','수산항'] #'수산' 제외\n",
    "merge_file['오산'] = ['오산','오산해수욕장','오산리'] #오산 +강원도 삭제\n",
    "merge_file['인구'] = ['인구리','죽도'] # '인구' 제외\n",
    "merge_file['전진'] = ['전진리','설악해수욕장','후진항']\n",
    "merge_file['하광정'] = ['하광정리','하조대','하조대해수욕장']"
   ]
  },
  {
   "cell_type": "code",
   "execution_count": 4,
   "metadata": {
    "ExecuteTime": {
     "end_time": "2020-06-15T07:14:17.388114Z",
     "start_time": "2020-06-15T07:14:17.383113Z"
    },
    "code_folding": [
     0
    ]
   },
   "outputs": [],
   "source": [
    "def separate_merge(path):\n",
    "    '''파일분할되어 있는 결과를 종합해줌\n",
    "    경로를 입력하면 파일들이 분할되어 있는 폴더를 선택하고\n",
    "    폴더 내에 있는 파일들을 concat하여 폴더밖으로 배출\n",
    "    '''\n",
    "    file_list = os.listdir(path)\n",
    "    folder_list = []\n",
    "    #분할된 파일 탐색\n",
    "    for file in file_list:\n",
    "        if os.path.splitext(file)[1] != '.csv':\n",
    "            folder_list.append(file)\n",
    "    #분할된 파일 통합\n",
    "    for folder in tqdm_notebook(folder_list):\n",
    "        file_list = os.listdir(f'{path}/{folder}/')\n",
    "        all_df = pd.DataFrame()\n",
    "        for file in file_list:\n",
    "            read_file = pd.read_csv(f'{path}/{folder}/{file}')\n",
    "            all_df = pd.concat([all_df,read_file])\n",
    "            size = all_df.shape[0]\n",
    "        all_df.to_csv(f'./output/token/{folder}_0~{size}.csv',index=False)"
   ]
  },
  {
   "cell_type": "code",
   "execution_count": 5,
   "metadata": {
    "ExecuteTime": {
     "end_time": "2020-06-15T07:14:17.398117Z",
     "start_time": "2020-06-15T07:14:17.389115Z"
    },
    "code_folding": [
     0
    ]
   },
   "outputs": [],
   "source": [
    "def setting_file(path, merge_file):\n",
    "    '''결합해야하는 파일들을 결합 이후 필터링 진행\n",
    "    다양한 키워드를 하나의 keyword로 결합\n",
    "    이후 다시한번 필터링 진행\n",
    "    \n",
    "    Parameter\n",
    "    ---------\n",
    "    path(string) : 파일이 있는 경로\n",
    "    merge_file(dictionary) : 결합해야하는 keyword \n",
    "    \n",
    "    Return \n",
    "    ------\n",
    "    f'./output/token_통합/{key}_{total_len}.csv'의 형태로 파일저장\n",
    "    '''\n",
    "    \n",
    "    #대상 csv목록 생성\n",
    "    file_list = os.listdir(path)\n",
    "    csv_list = []\n",
    "    for file in file_list:\n",
    "        if os.path.splitext(file)[1] == '.csv':\n",
    "            csv_list.append(file)\n",
    "\n",
    "    merge_file_values = list(itertools.chain(*merge_file.values()))\n",
    "\n",
    "    #결합대상의 파일명을 가져오거나, 대상이 아닌 파일을 필터링\n",
    "    files = dict()\n",
    "    for file in csv_list:\n",
    "        keyword = file.split('_')[0].split(\"+\")[0].replace(' ', '')\n",
    "        if keyword in merge_file_values:\n",
    "            for key in merge_file.keys():\n",
    "                if keyword in merge_file[key]:\n",
    "                    if files.get(key) == None:\n",
    "                        files[key] = [file]\n",
    "                    else:\n",
    "                        files[key].append(file)\n",
    "        else :\n",
    "            #필터링\n",
    "            file_df = pd.read_csv(path + file)\n",
    "            file_df = file_df.fillna('')\n",
    "            filtered = file_df.full_text.apply(lambda x : any(ele in x for ele in filter_word)) #전체글\n",
    "            clean_file = file_df[~filtered]\n",
    "            filtered = clean_file.title.apply(lambda x : any(ele in x for ele in filter_word)) #타이틀\n",
    "            clean_file = clean_file[~filtered]\n",
    "\n",
    "    #파일결합\n",
    "    for key in tqdm_notebook(files.keys()):\n",
    "        merged_df = pd.DataFrame()\n",
    "        for file in files[key]:\n",
    "            file_df = pd.read_csv(path + file)\n",
    "            merged_df = pd.concat([merged_df,file_df])\n",
    "        merged_df = merged_df.drop_duplicates('full_text')\n",
    "\n",
    "        #필터링\n",
    "        merged_df = merged_df.fillna('')\n",
    "        filtered = merged_df.full_text.apply(lambda x : any(ele in x for ele in filter_word)) #전체글\n",
    "        clean_file = merged_df[~filtered]\n",
    "        filtered = clean_file.title.apply(lambda x : any(ele in x for ele in filter_word)) #타이틀\n",
    "        clean_file = clean_file[~filtered]\n",
    "\n",
    "        total_len = clean_file.shape[0]\n",
    "        clean_file.to_csv(f'./output/token_통합/{key}_{total_len}.csv',index = False)"
   ]
  },
  {
   "cell_type": "code",
   "execution_count": 6,
   "metadata": {
    "ExecuteTime": {
     "end_time": "2020-06-15T07:16:04.660007Z",
     "start_time": "2020-06-15T07:14:17.400117Z"
    }
   },
   "outputs": [
    {
     "data": {
      "application/vnd.jupyter.widget-view+json": {
       "model_id": "8529572aef7344cda6ebfb8ecb9812f8",
       "version_major": 2,
       "version_minor": 0
      },
      "text/plain": [
       "HBox(children=(FloatProgress(value=0.0, max=8.0), HTML(value='')))"
      ]
     },
     "metadata": {},
     "output_type": "display_data"
    },
    {
     "name": "stdout",
     "output_type": "stream",
     "text": [
      "\n"
     ]
    },
    {
     "data": {
      "application/vnd.jupyter.widget-view+json": {
       "model_id": "51d3f29036ad4a3d8825c1379b3a372b",
       "version_major": 2,
       "version_minor": 0
      },
      "text/plain": [
       "HBox(children=(FloatProgress(value=0.0, max=12.0), HTML(value='')))"
      ]
     },
     "metadata": {},
     "output_type": "display_data"
    },
    {
     "name": "stdout",
     "output_type": "stream",
     "text": [
      "\n"
     ]
    }
   ],
   "source": [
    "separate_merge(path)\n",
    "setting_file(path, merge_file)"
   ]
  },
  {
   "cell_type": "markdown",
   "metadata": {},
   "source": [
    "### 파일 종합 결과"
   ]
  },
  {
   "cell_type": "code",
   "execution_count": 7,
   "metadata": {
    "ExecuteTime": {
     "end_time": "2020-06-15T07:16:04.666006Z",
     "start_time": "2020-06-15T07:16:04.661005Z"
    }
   },
   "outputs": [],
   "source": [
    "path = './output/token_통합/'\n",
    "def result_df(path):\n",
    "    file_list = os.listdir(path)\n",
    "\n",
    "    total_df = pd.DataFrame()\n",
    "    for file in file_list:\n",
    "        sumup = dict()\n",
    "        keyword = file.split('_')[0]\n",
    "        df = pd.read_csv(path +file)\n",
    "        sumup['total_size'] = df.shape[0]\n",
    "        for year in range(2010,2020):\n",
    "            try :\n",
    "                sumup[year] = df[df.year == year].shape[0]\n",
    "            except :\n",
    "                sumup[year] = np.nan\n",
    "        one_df = pd.DataFrame(sumup,index =[keyword])\n",
    "        total_df = pd.concat([total_df,one_df])\n",
    "    return total_df"
   ]
  },
  {
   "cell_type": "code",
   "execution_count": 8,
   "metadata": {
    "ExecuteTime": {
     "end_time": "2020-06-15T07:16:08.365703Z",
     "start_time": "2020-06-15T07:16:04.667006Z"
    }
   },
   "outputs": [
    {
     "data": {
      "text/html": [
       "<div>\n",
       "<style scoped>\n",
       "    .dataframe tbody tr th:only-of-type {\n",
       "        vertical-align: middle;\n",
       "    }\n",
       "\n",
       "    .dataframe tbody tr th {\n",
       "        vertical-align: top;\n",
       "    }\n",
       "\n",
       "    .dataframe thead th {\n",
       "        text-align: right;\n",
       "    }\n",
       "</style>\n",
       "<table border=\"1\" class=\"dataframe\">\n",
       "  <thead>\n",
       "    <tr style=\"text-align: right;\">\n",
       "      <th></th>\n",
       "      <th>total_size</th>\n",
       "      <th>2010</th>\n",
       "      <th>2011</th>\n",
       "      <th>2012</th>\n",
       "      <th>2013</th>\n",
       "      <th>2014</th>\n",
       "      <th>2015</th>\n",
       "      <th>2016</th>\n",
       "      <th>2017</th>\n",
       "      <th>2018</th>\n",
       "      <th>2019</th>\n",
       "    </tr>\n",
       "  </thead>\n",
       "  <tbody>\n",
       "    <tr>\n",
       "      <td>광진</td>\n",
       "      <td>5841</td>\n",
       "      <td>116</td>\n",
       "      <td>161</td>\n",
       "      <td>234</td>\n",
       "      <td>380</td>\n",
       "      <td>530</td>\n",
       "      <td>709</td>\n",
       "      <td>886</td>\n",
       "      <td>1043</td>\n",
       "      <td>843</td>\n",
       "      <td>939</td>\n",
       "    </tr>\n",
       "    <tr>\n",
       "      <td>기사문</td>\n",
       "      <td>2516</td>\n",
       "      <td>29</td>\n",
       "      <td>59</td>\n",
       "      <td>79</td>\n",
       "      <td>132</td>\n",
       "      <td>251</td>\n",
       "      <td>356</td>\n",
       "      <td>355</td>\n",
       "      <td>374</td>\n",
       "      <td>389</td>\n",
       "      <td>492</td>\n",
       "    </tr>\n",
       "    <tr>\n",
       "      <td>낙산</td>\n",
       "      <td>19600</td>\n",
       "      <td>627</td>\n",
       "      <td>840</td>\n",
       "      <td>865</td>\n",
       "      <td>1048</td>\n",
       "      <td>1488</td>\n",
       "      <td>2055</td>\n",
       "      <td>2348</td>\n",
       "      <td>2760</td>\n",
       "      <td>2951</td>\n",
       "      <td>4618</td>\n",
       "    </tr>\n",
       "    <tr>\n",
       "      <td>남애</td>\n",
       "      <td>4348</td>\n",
       "      <td>108</td>\n",
       "      <td>118</td>\n",
       "      <td>171</td>\n",
       "      <td>227</td>\n",
       "      <td>379</td>\n",
       "      <td>534</td>\n",
       "      <td>604</td>\n",
       "      <td>801</td>\n",
       "      <td>741</td>\n",
       "      <td>665</td>\n",
       "    </tr>\n",
       "    <tr>\n",
       "      <td>동산</td>\n",
       "      <td>1970</td>\n",
       "      <td>48</td>\n",
       "      <td>69</td>\n",
       "      <td>77</td>\n",
       "      <td>92</td>\n",
       "      <td>134</td>\n",
       "      <td>199</td>\n",
       "      <td>190</td>\n",
       "      <td>255</td>\n",
       "      <td>446</td>\n",
       "      <td>460</td>\n",
       "    </tr>\n",
       "    <tr>\n",
       "      <td>동호</td>\n",
       "      <td>3357</td>\n",
       "      <td>89</td>\n",
       "      <td>110</td>\n",
       "      <td>119</td>\n",
       "      <td>159</td>\n",
       "      <td>235</td>\n",
       "      <td>420</td>\n",
       "      <td>419</td>\n",
       "      <td>577</td>\n",
       "      <td>608</td>\n",
       "      <td>621</td>\n",
       "    </tr>\n",
       "    <tr>\n",
       "      <td>물치</td>\n",
       "      <td>4313</td>\n",
       "      <td>144</td>\n",
       "      <td>143</td>\n",
       "      <td>207</td>\n",
       "      <td>234</td>\n",
       "      <td>305</td>\n",
       "      <td>412</td>\n",
       "      <td>492</td>\n",
       "      <td>682</td>\n",
       "      <td>870</td>\n",
       "      <td>824</td>\n",
       "    </tr>\n",
       "    <tr>\n",
       "      <td>수산</td>\n",
       "      <td>2529</td>\n",
       "      <td>75</td>\n",
       "      <td>104</td>\n",
       "      <td>88</td>\n",
       "      <td>125</td>\n",
       "      <td>226</td>\n",
       "      <td>331</td>\n",
       "      <td>376</td>\n",
       "      <td>384</td>\n",
       "      <td>427</td>\n",
       "      <td>393</td>\n",
       "    </tr>\n",
       "    <tr>\n",
       "      <td>오산</td>\n",
       "      <td>3248</td>\n",
       "      <td>160</td>\n",
       "      <td>191</td>\n",
       "      <td>256</td>\n",
       "      <td>270</td>\n",
       "      <td>284</td>\n",
       "      <td>337</td>\n",
       "      <td>396</td>\n",
       "      <td>455</td>\n",
       "      <td>474</td>\n",
       "      <td>425</td>\n",
       "    </tr>\n",
       "    <tr>\n",
       "      <td>인구</td>\n",
       "      <td>8401</td>\n",
       "      <td>56</td>\n",
       "      <td>79</td>\n",
       "      <td>115</td>\n",
       "      <td>264</td>\n",
       "      <td>580</td>\n",
       "      <td>772</td>\n",
       "      <td>981</td>\n",
       "      <td>1420</td>\n",
       "      <td>1848</td>\n",
       "      <td>2286</td>\n",
       "    </tr>\n",
       "    <tr>\n",
       "      <td>전진</td>\n",
       "      <td>2447</td>\n",
       "      <td>46</td>\n",
       "      <td>78</td>\n",
       "      <td>103</td>\n",
       "      <td>100</td>\n",
       "      <td>150</td>\n",
       "      <td>235</td>\n",
       "      <td>285</td>\n",
       "      <td>298</td>\n",
       "      <td>473</td>\n",
       "      <td>679</td>\n",
       "    </tr>\n",
       "    <tr>\n",
       "      <td>하광정</td>\n",
       "      <td>16616</td>\n",
       "      <td>528</td>\n",
       "      <td>717</td>\n",
       "      <td>810</td>\n",
       "      <td>1041</td>\n",
       "      <td>1600</td>\n",
       "      <td>1969</td>\n",
       "      <td>2267</td>\n",
       "      <td>2519</td>\n",
       "      <td>2279</td>\n",
       "      <td>2886</td>\n",
       "    </tr>\n",
       "  </tbody>\n",
       "</table>\n",
       "</div>"
      ],
      "text/plain": [
       "     total_size  2010  2011  2012  2013  2014  2015  2016  2017  2018  2019\n",
       "광진         5841   116   161   234   380   530   709   886  1043   843   939\n",
       "기사문        2516    29    59    79   132   251   356   355   374   389   492\n",
       "낙산        19600   627   840   865  1048  1488  2055  2348  2760  2951  4618\n",
       "남애         4348   108   118   171   227   379   534   604   801   741   665\n",
       "동산         1970    48    69    77    92   134   199   190   255   446   460\n",
       "동호         3357    89   110   119   159   235   420   419   577   608   621\n",
       "물치         4313   144   143   207   234   305   412   492   682   870   824\n",
       "수산         2529    75   104    88   125   226   331   376   384   427   393\n",
       "오산         3248   160   191   256   270   284   337   396   455   474   425\n",
       "인구         8401    56    79   115   264   580   772   981  1420  1848  2286\n",
       "전진         2447    46    78   103   100   150   235   285   298   473   679\n",
       "하광정       16616   528   717   810  1041  1600  1969  2267  2519  2279  2886"
      ]
     },
     "execution_count": 8,
     "metadata": {},
     "output_type": "execute_result"
    }
   ],
   "source": [
    "result_df(path)"
   ]
  },
  {
   "cell_type": "code",
   "execution_count": null,
   "metadata": {},
   "outputs": [],
   "source": []
  }
 ],
 "metadata": {
  "kernelspec": {
   "display_name": "Python 3",
   "language": "python",
   "name": "python3"
  },
  "language_info": {
   "codemirror_mode": {
    "name": "ipython",
    "version": 3
   },
   "file_extension": ".py",
   "mimetype": "text/x-python",
   "name": "python",
   "nbconvert_exporter": "python",
   "pygments_lexer": "ipython3",
   "version": "3.6.5"
  },
  "varInspector": {
   "cols": {
    "lenName": 16,
    "lenType": 16,
    "lenVar": 40
   },
   "kernels_config": {
    "python": {
     "delete_cmd_postfix": "",
     "delete_cmd_prefix": "del ",
     "library": "var_list.py",
     "varRefreshCmd": "print(var_dic_list())"
    },
    "r": {
     "delete_cmd_postfix": ") ",
     "delete_cmd_prefix": "rm(",
     "library": "var_list.r",
     "varRefreshCmd": "cat(var_dic_list()) "
    }
   },
   "types_to_exclude": [
    "module",
    "function",
    "builtin_function_or_method",
    "instance",
    "_Feature"
   ],
   "window_display": false
  }
 },
 "nbformat": 4,
 "nbformat_minor": 2
}

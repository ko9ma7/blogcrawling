{
 "cells": [
  {
   "cell_type": "code",
   "execution_count": 1,
   "metadata": {
    "ExecuteTime": {
     "end_time": "2020-06-05T05:05:29.562946Z",
     "start_time": "2020-06-05T05:05:28.253650Z"
    }
   },
   "outputs": [],
   "source": [
    "import pandas as pd\n",
    "import numpy as np\n",
    "import os\n",
    "from tqdm import tqdm, tqdm_notebook,tqdm_pandas\n",
    "import itertools\n",
    "import re"
   ]
  },
  {
   "cell_type": "code",
   "execution_count": 2,
   "metadata": {
    "ExecuteTime": {
     "end_time": "2020-06-05T05:05:29.566947Z",
     "start_time": "2020-06-05T05:05:29.563946Z"
    }
   },
   "outputs": [],
   "source": [
    "path = './output/token'\n",
    "file_list = os.listdir(path)"
   ]
  },
  {
   "cell_type": "code",
   "execution_count": 3,
   "metadata": {
    "ExecuteTime": {
     "end_time": "2020-06-05T05:05:31.107294Z",
     "start_time": "2020-06-05T05:05:31.100292Z"
    }
   },
   "outputs": [
    {
     "data": {
      "text/plain": [
       "['강릉 +강원도_통합_81699', '강원도_통합_85670', '이전에해둔거']"
      ]
     },
     "execution_count": 3,
     "metadata": {},
     "output_type": "execute_result"
    }
   ],
   "source": [
    "file_list"
   ]
  },
  {
   "cell_type": "code",
   "execution_count": 7,
   "metadata": {
    "ExecuteTime": {
     "end_time": "2020-06-04T08:35:49.478263Z",
     "start_time": "2020-06-04T08:35:49.471262Z"
    }
   },
   "outputs": [],
   "source": [
    "folder_list = []\n",
    "for file in file_list:\n",
    "    if os.path.splitext(file)[1] != '.csv':\n",
    "        folder_list.append(file)"
   ]
  },
  {
   "cell_type": "code",
   "execution_count": null,
   "metadata": {},
   "outputs": [],
   "source": [
    "for folder in folder_list:\n",
    "    file_list = os.listdir(f'{path}/{folder}/')\n",
    "    all_df = pd.DataFrame()\n",
    "    for file in tqdm_notebook(file_list):\n",
    "        read_file = pd.read_csv(path + file)\n",
    "        all_df = pd.concat([all_df,read_file])\n",
    "    all_df.to_csv(f'./output/token_통합/{folder}_토큰.csv')"
   ]
  }
 ],
 "metadata": {
  "kernelspec": {
   "display_name": "Python 3",
   "language": "python",
   "name": "python3"
  },
  "language_info": {
   "codemirror_mode": {
    "name": "ipython",
    "version": 3
   },
   "file_extension": ".py",
   "mimetype": "text/x-python",
   "name": "python",
   "nbconvert_exporter": "python",
   "pygments_lexer": "ipython3",
   "version": "3.6.5"
  },
  "varInspector": {
   "cols": {
    "lenName": 16,
    "lenType": 16,
    "lenVar": 40
   },
   "kernels_config": {
    "python": {
     "delete_cmd_postfix": "",
     "delete_cmd_prefix": "del ",
     "library": "var_list.py",
     "varRefreshCmd": "print(var_dic_list())"
    },
    "r": {
     "delete_cmd_postfix": ") ",
     "delete_cmd_prefix": "rm(",
     "library": "var_list.r",
     "varRefreshCmd": "cat(var_dic_list()) "
    }
   },
   "types_to_exclude": [
    "module",
    "function",
    "builtin_function_or_method",
    "instance",
    "_Feature"
   ],
   "window_display": false
  }
 },
 "nbformat": 4,
 "nbformat_minor": 2
}

{
 "cells": [
  {
   "cell_type": "code",
   "execution_count": 2,
   "metadata": {
    "ExecuteTime": {
     "end_time": "2020-06-09T00:55:30.218767Z",
     "start_time": "2020-06-09T00:55:28.825452Z"
    }
   },
   "outputs": [],
   "source": [
    "import pandas as pd\n",
    "import numpy as np\n",
    "import os\n",
    "from tqdm import tqdm, tqdm_notebook,tqdm_pandas\n",
    "import itertools\n",
    "import re\n",
    "import warnings\n",
    "warnings.filterwarnings(action='ignore')"
   ]
  },
  {
   "cell_type": "markdown",
   "metadata": {},
   "source": [
    "### 분할이 된 파일들만 \n",
    "분할이 된 파일들만 통합하고 각 폴더밖으로 꺼내준다 "
   ]
  },
  {
   "cell_type": "code",
   "execution_count": 4,
   "metadata": {
    "ExecuteTime": {
     "end_time": "2020-06-09T00:57:21.880136Z",
     "start_time": "2020-06-09T00:56:54.153691Z"
    }
   },
   "outputs": [
    {
     "data": {
      "application/vnd.jupyter.widget-view+json": {
       "model_id": "d488658769af41e4b5ca49e8c9dd0f8d",
       "version_major": 2,
       "version_minor": 0
      },
      "text/plain": [
       "HBox(children=(FloatProgress(value=0.0, max=7.0), HTML(value='')))"
      ]
     },
     "metadata": {},
     "output_type": "display_data"
    },
    {
     "name": "stdout",
     "output_type": "stream",
     "text": [
      "\n"
     ]
    }
   ],
   "source": [
    "# path = './output/token/'\n",
    "path = './output/token/'\n",
    "file_list = os.listdir(path)\n",
    "folder_list = []\n",
    "for file in file_list:\n",
    "    if os.path.splitext(file)[1] != '.csv':\n",
    "        folder_list.append(file)\n",
    "\n",
    "for folder in tqdm_notebook(folder_list):\n",
    "    file_list = os.listdir(f'{path}/{folder}/')\n",
    "    all_df = pd.DataFrame()\n",
    "    for file in file_list:\n",
    "        read_file = pd.read_csv(f'{path}/{folder}/{file}')\n",
    "        all_df = pd.concat([all_df,read_file])\n",
    "        size = all_df.shape[0]\n",
    "    all_df.to_csv(f'./output/token/{folder}_0~{size}.csv',index=False)\n"
   ]
  },
  {
   "cell_type": "markdown",
   "metadata": {},
   "source": [
    "### 파일결합\n",
    "* 검색어를 다수로 사용했기에 각 파일을 마을별로 묶어준다"
   ]
  },
  {
   "cell_type": "code",
   "execution_count": 29,
   "metadata": {
    "ExecuteTime": {
     "end_time": "2020-06-09T06:44:51.332706Z",
     "start_time": "2020-06-09T06:44:51.329706Z"
    }
   },
   "outputs": [],
   "source": [
    "path = './output/token/'\n",
    "file_list = os.listdir(path)\n",
    "csv_list = []\n",
    "for file in file_list:\n",
    "    if os.path.splitext(file)[1] == '.csv':\n",
    "        csv_list.append(file)"
   ]
  },
  {
   "cell_type": "code",
   "execution_count": 30,
   "metadata": {
    "ExecuteTime": {
     "end_time": "2020-06-09T06:44:52.313931Z",
     "start_time": "2020-06-09T06:44:52.309929Z"
    }
   },
   "outputs": [],
   "source": [
    "merge_file = dict()\n",
    "merge_file['물치'] = ['물치리','물치','물치항']\n",
    "merge_file['전진2리'] = ['전진리','설악해수욕장','후진항']\n",
    "merge_file['낙산'] = ['낙산','낙산항','낙산해수욕장']\n",
    "merge_file['오산'] = ['오산','오산해수욕장','오산리']\n",
    "merge_file['수산'] = ['수산리','수산항'] #'수산'때문에 망한듯\n",
    "merge_file['동호'] = ['동호','동호리','동호해변','동호해수욕장']\n",
    "merge_file['하광정'] = ['하광정리','하조대','하조대해수욕장']\n",
    "merge_file['기사문'] = ['기사문리','기사문','기사문항','기사문해변']\n",
    "merge_file['동산'] = ['동산','동산리','동산항','동산해수욕장']\n",
    "merge_file['인구1리'] = ['인구리','죽도'] # 검색어 미쳐날뜀 '인구'때문인듯\n",
    "merge_file['광진'] = ['광진리','광진','광진해변','휴휴암']\n",
    "merge_file['남애리'] = ['남애리','남애','남애항']"
   ]
  },
  {
   "cell_type": "code",
   "execution_count": 31,
   "metadata": {
    "ExecuteTime": {
     "end_time": "2020-06-09T06:45:10.523575Z",
     "start_time": "2020-06-09T06:44:52.883678Z"
    }
   },
   "outputs": [],
   "source": [
    "#결합해야하는 파일 솎아내기\n",
    "files = dict()\n",
    "for file in csv_list:\n",
    "    try:\n",
    "        keyword = file.split('+')[0].replace(' ', '')\n",
    "        for key in merge_file.keys():\n",
    "            if keyword in merge_file[key]:\n",
    "                if files.get(key) == None:\n",
    "                    files[key] = [file]\n",
    "                else:\n",
    "                    files[key].append(file)\n",
    "    except:\n",
    "        pass\n",
    "    \n",
    "#파일결합\n",
    "for key in files.keys():\n",
    "    merged_df = pd.DataFrame()\n",
    "    for file in files[key]:\n",
    "        file_df = pd.read_csv(path + file)\n",
    "        merged_df = pd.concat([merged_df,file_df])\n",
    "    merged_df = merged_df.drop_duplicates('full_text')\n",
    "    \n",
    "    #필터링\n",
    "    merged_df = merged_df.fillna('')\n",
    "    filtered = merged_df.full_text.apply(lambda x : any(ele in x for ele in filter_word))\n",
    "    clean_file = merged_df[~filtered]\n",
    "    filtered = clean_file.title.apply(lambda x : any(ele in x for ele in filter_word))\n",
    "    clean_file = clean_file[~filtered]\n",
    "    \n",
    "    total_len = merged_df.shape[0]\n",
    "    clean_file.to_csv(f'./output/token_통합/{key}_{total_len}.csv',index = False)"
   ]
  },
  {
   "cell_type": "markdown",
   "metadata": {},
   "source": [
    "### 파일 종합 결과"
   ]
  },
  {
   "cell_type": "code",
   "execution_count": 27,
   "metadata": {
    "ExecuteTime": {
     "end_time": "2020-06-09T06:44:02.064312Z",
     "start_time": "2020-06-09T06:43:39.427910Z"
    }
   },
   "outputs": [],
   "source": [
    "path = './output/token_통합/'\n",
    "file_list = os.listdir(path)\n",
    "\n",
    "total_df = pd.DataFrame()\n",
    "for file in file_list:\n",
    "    sumup = dict()\n",
    "    keyword = file.split('_')[0]\n",
    "    df = pd.read_csv(path +file)\n",
    "    sumup['total_size'] = df.shape[0]\n",
    "    for year in range(2010,2020):\n",
    "        try :\n",
    "            sumup[year] = df[df.year == year].shape[0]\n",
    "        except :\n",
    "            sumup[year] = np.nan\n",
    "    one_df = pd.DataFrame(sumup,index =[keyword])\n",
    "    total_df = pd.concat([total_df,one_df])"
   ]
  },
  {
   "cell_type": "code",
   "execution_count": 28,
   "metadata": {
    "ExecuteTime": {
     "end_time": "2020-06-09T06:44:02.099320Z",
     "start_time": "2020-06-09T06:44:02.066312Z"
    }
   },
   "outputs": [
    {
     "data": {
      "text/html": [
       "<div>\n",
       "<style scoped>\n",
       "    .dataframe tbody tr th:only-of-type {\n",
       "        vertical-align: middle;\n",
       "    }\n",
       "\n",
       "    .dataframe tbody tr th {\n",
       "        vertical-align: top;\n",
       "    }\n",
       "\n",
       "    .dataframe thead th {\n",
       "        text-align: right;\n",
       "    }\n",
       "</style>\n",
       "<table border=\"1\" class=\"dataframe\">\n",
       "  <thead>\n",
       "    <tr style=\"text-align: right;\">\n",
       "      <th></th>\n",
       "      <th>total_size</th>\n",
       "      <th>2010</th>\n",
       "      <th>2011</th>\n",
       "      <th>2012</th>\n",
       "      <th>2013</th>\n",
       "      <th>2014</th>\n",
       "      <th>2015</th>\n",
       "      <th>2016</th>\n",
       "      <th>2017</th>\n",
       "      <th>2018</th>\n",
       "      <th>2019</th>\n",
       "    </tr>\n",
       "  </thead>\n",
       "  <tbody>\n",
       "    <tr>\n",
       "      <td>강릉</td>\n",
       "      <td>53832</td>\n",
       "      <td>2938</td>\n",
       "      <td>3791</td>\n",
       "      <td>4520</td>\n",
       "      <td>4979</td>\n",
       "      <td>5810</td>\n",
       "      <td>6441</td>\n",
       "      <td>6270</td>\n",
       "      <td>6270</td>\n",
       "      <td>6361</td>\n",
       "      <td>6452</td>\n",
       "    </tr>\n",
       "    <tr>\n",
       "      <td>강원도</td>\n",
       "      <td>61330</td>\n",
       "      <td>5321</td>\n",
       "      <td>5705</td>\n",
       "      <td>5847</td>\n",
       "      <td>5999</td>\n",
       "      <td>6413</td>\n",
       "      <td>6925</td>\n",
       "      <td>6645</td>\n",
       "      <td>6682</td>\n",
       "      <td>6102</td>\n",
       "      <td>5691</td>\n",
       "    </tr>\n",
       "    <tr>\n",
       "      <td>광진</td>\n",
       "      <td>1282</td>\n",
       "      <td>42</td>\n",
       "      <td>81</td>\n",
       "      <td>73</td>\n",
       "      <td>97</td>\n",
       "      <td>124</td>\n",
       "      <td>142</td>\n",
       "      <td>176</td>\n",
       "      <td>159</td>\n",
       "      <td>161</td>\n",
       "      <td>227</td>\n",
       "    </tr>\n",
       "    <tr>\n",
       "      <td>기사문</td>\n",
       "      <td>2595</td>\n",
       "      <td>33</td>\n",
       "      <td>66</td>\n",
       "      <td>82</td>\n",
       "      <td>136</td>\n",
       "      <td>257</td>\n",
       "      <td>364</td>\n",
       "      <td>362</td>\n",
       "      <td>386</td>\n",
       "      <td>404</td>\n",
       "      <td>505</td>\n",
       "    </tr>\n",
       "    <tr>\n",
       "      <td>낙산</td>\n",
       "      <td>20460</td>\n",
       "      <td>670</td>\n",
       "      <td>883</td>\n",
       "      <td>922</td>\n",
       "      <td>1100</td>\n",
       "      <td>1573</td>\n",
       "      <td>2164</td>\n",
       "      <td>2446</td>\n",
       "      <td>2902</td>\n",
       "      <td>3082</td>\n",
       "      <td>4718</td>\n",
       "    </tr>\n",
       "    <tr>\n",
       "      <td>남애리</td>\n",
       "      <td>5377</td>\n",
       "      <td>165</td>\n",
       "      <td>173</td>\n",
       "      <td>230</td>\n",
       "      <td>280</td>\n",
       "      <td>467</td>\n",
       "      <td>669</td>\n",
       "      <td>734</td>\n",
       "      <td>976</td>\n",
       "      <td>859</td>\n",
       "      <td>824</td>\n",
       "    </tr>\n",
       "    <tr>\n",
       "      <td>동산</td>\n",
       "      <td>8952</td>\n",
       "      <td>314</td>\n",
       "      <td>394</td>\n",
       "      <td>495</td>\n",
       "      <td>691</td>\n",
       "      <td>887</td>\n",
       "      <td>1082</td>\n",
       "      <td>974</td>\n",
       "      <td>1104</td>\n",
       "      <td>1371</td>\n",
       "      <td>1640</td>\n",
       "    </tr>\n",
       "    <tr>\n",
       "      <td>동호</td>\n",
       "      <td>1911</td>\n",
       "      <td>15</td>\n",
       "      <td>19</td>\n",
       "      <td>21</td>\n",
       "      <td>42</td>\n",
       "      <td>87</td>\n",
       "      <td>219</td>\n",
       "      <td>234</td>\n",
       "      <td>375</td>\n",
       "      <td>440</td>\n",
       "      <td>459</td>\n",
       "    </tr>\n",
       "    <tr>\n",
       "      <td>물치</td>\n",
       "      <td>4564</td>\n",
       "      <td>160</td>\n",
       "      <td>153</td>\n",
       "      <td>221</td>\n",
       "      <td>247</td>\n",
       "      <td>321</td>\n",
       "      <td>438</td>\n",
       "      <td>519</td>\n",
       "      <td>747</td>\n",
       "      <td>907</td>\n",
       "      <td>851</td>\n",
       "    </tr>\n",
       "    <tr>\n",
       "      <td>속초</td>\n",
       "      <td>57240</td>\n",
       "      <td>2653</td>\n",
       "      <td>3709</td>\n",
       "      <td>4536</td>\n",
       "      <td>5250</td>\n",
       "      <td>6490</td>\n",
       "      <td>7076</td>\n",
       "      <td>7005</td>\n",
       "      <td>6996</td>\n",
       "      <td>6757</td>\n",
       "      <td>6768</td>\n",
       "    </tr>\n",
       "    <tr>\n",
       "      <td>수산</td>\n",
       "      <td>26247</td>\n",
       "      <td>621</td>\n",
       "      <td>728</td>\n",
       "      <td>922</td>\n",
       "      <td>1357</td>\n",
       "      <td>2234</td>\n",
       "      <td>3052</td>\n",
       "      <td>3366</td>\n",
       "      <td>3489</td>\n",
       "      <td>5148</td>\n",
       "      <td>5330</td>\n",
       "    </tr>\n",
       "    <tr>\n",
       "      <td>양양</td>\n",
       "      <td>47915</td>\n",
       "      <td>2195</td>\n",
       "      <td>2590</td>\n",
       "      <td>3043</td>\n",
       "      <td>3917</td>\n",
       "      <td>4887</td>\n",
       "      <td>5940</td>\n",
       "      <td>6323</td>\n",
       "      <td>6252</td>\n",
       "      <td>6327</td>\n",
       "      <td>6441</td>\n",
       "    </tr>\n",
       "    <tr>\n",
       "      <td>인구1리</td>\n",
       "      <td>22240</td>\n",
       "      <td>744</td>\n",
       "      <td>755</td>\n",
       "      <td>903</td>\n",
       "      <td>1134</td>\n",
       "      <td>1662</td>\n",
       "      <td>2230</td>\n",
       "      <td>2602</td>\n",
       "      <td>3207</td>\n",
       "      <td>3944</td>\n",
       "      <td>5059</td>\n",
       "    </tr>\n",
       "    <tr>\n",
       "      <td>전진2리</td>\n",
       "      <td>2566</td>\n",
       "      <td>55</td>\n",
       "      <td>84</td>\n",
       "      <td>122</td>\n",
       "      <td>105</td>\n",
       "      <td>162</td>\n",
       "      <td>248</td>\n",
       "      <td>296</td>\n",
       "      <td>316</td>\n",
       "      <td>484</td>\n",
       "      <td>694</td>\n",
       "    </tr>\n",
       "    <tr>\n",
       "      <td>하광정</td>\n",
       "      <td>17375</td>\n",
       "      <td>580</td>\n",
       "      <td>758</td>\n",
       "      <td>846</td>\n",
       "      <td>1084</td>\n",
       "      <td>1656</td>\n",
       "      <td>2049</td>\n",
       "      <td>2341</td>\n",
       "      <td>2627</td>\n",
       "      <td>2412</td>\n",
       "      <td>3022</td>\n",
       "    </tr>\n",
       "  </tbody>\n",
       "</table>\n",
       "</div>"
      ],
      "text/plain": [
       "      total_size  2010  2011  2012  2013  2014  2015  2016  2017  2018  2019\n",
       "강릉         53832  2938  3791  4520  4979  5810  6441  6270  6270  6361  6452\n",
       "강원도        61330  5321  5705  5847  5999  6413  6925  6645  6682  6102  5691\n",
       "광진          1282    42    81    73    97   124   142   176   159   161   227\n",
       "기사문         2595    33    66    82   136   257   364   362   386   404   505\n",
       "낙산         20460   670   883   922  1100  1573  2164  2446  2902  3082  4718\n",
       "남애리         5377   165   173   230   280   467   669   734   976   859   824\n",
       "동산          8952   314   394   495   691   887  1082   974  1104  1371  1640\n",
       "동호          1911    15    19    21    42    87   219   234   375   440   459\n",
       "물치          4564   160   153   221   247   321   438   519   747   907   851\n",
       "속초         57240  2653  3709  4536  5250  6490  7076  7005  6996  6757  6768\n",
       "수산         26247   621   728   922  1357  2234  3052  3366  3489  5148  5330\n",
       "양양         47915  2195  2590  3043  3917  4887  5940  6323  6252  6327  6441\n",
       "인구1리       22240   744   755   903  1134  1662  2230  2602  3207  3944  5059\n",
       "전진2리        2566    55    84   122   105   162   248   296   316   484   694\n",
       "하광정        17375   580   758   846  1084  1656  2049  2341  2627  2412  3022"
      ]
     },
     "execution_count": 28,
     "metadata": {},
     "output_type": "execute_result"
    }
   ],
   "source": [
    "total_df"
   ]
  },
  {
   "cell_type": "markdown",
   "metadata": {},
   "source": [
    "### 각각탐색"
   ]
  },
  {
   "cell_type": "code",
   "execution_count": 33,
   "metadata": {
    "ExecuteTime": {
     "end_time": "2020-06-09T07:09:46.466212Z",
     "start_time": "2020-06-09T07:09:46.462211Z"
    }
   },
   "outputs": [],
   "source": [
    "path = './output/token_통합/'\n",
    "file_list = os.listdir(path)"
   ]
  },
  {
   "cell_type": "code",
   "execution_count": 34,
   "metadata": {
    "ExecuteTime": {
     "end_time": "2020-06-09T07:09:49.425311Z",
     "start_time": "2020-06-09T07:09:49.421309Z"
    }
   },
   "outputs": [
    {
     "data": {
      "text/plain": [
       "['강릉_53832.csv',\n",
       " '강원도_61330.csv',\n",
       " '광진_1282.csv',\n",
       " '기사문_2595.csv',\n",
       " '낙산_20460.csv',\n",
       " '남애리_5377.csv',\n",
       " '동산_8952.csv',\n",
       " '동호_1911.csv',\n",
       " '동호_3826.csv',\n",
       " '물치_4564.csv',\n",
       " '속초_57240.csv',\n",
       " '수산_2638.csv',\n",
       " '양양_47915.csv',\n",
       " '오산_6409.csv',\n",
       " '인구1리_8698.csv',\n",
       " '전진2리_2566.csv',\n",
       " '하광정_17375.csv']"
      ]
     },
     "execution_count": 34,
     "metadata": {},
     "output_type": "execute_result"
    }
   ],
   "source": [
    "file_list"
   ]
  },
  {
   "cell_type": "code",
   "execution_count": 53,
   "metadata": {
    "ExecuteTime": {
     "end_time": "2020-06-09T08:06:47.565175Z",
     "start_time": "2020-06-09T08:06:47.426144Z"
    }
   },
   "outputs": [],
   "source": [
    "sample = pd.read_csv(path +'수산_2638.csv')"
   ]
  },
  {
   "cell_type": "code",
   "execution_count": 54,
   "metadata": {
    "ExecuteTime": {
     "end_time": "2020-06-09T08:06:48.486383Z",
     "start_time": "2020-06-09T08:06:48.479383Z"
    }
   },
   "outputs": [
    {
     "data": {
      "text/plain": [
       "강원도 양양 수산항...         58\n",
       "쏠비치 양양                49\n",
       "양양 수산어촌체험마...         39\n",
       "강원도 양양 수산항 엑스포...     36\n",
       "1004bd님의블로그           32\n",
       "아침나라/안영국              28\n",
       "누룽지게스트하우스...          26\n",
       "양양 수산어촌체험마을           23\n",
       "양양군청 공식블로그            21\n",
       "동해안 바다 속초 양양 낙산...    19\n",
       ".                     16\n",
       "양양 배낚시&펜션             14\n",
       "임진강나룻터                13\n",
       "강원타임즈 블로그             13\n",
       "피싱곰과 함께하는 ...         13\n",
       "지마와 신휴의 낚시...         13\n",
       "쏠비치맛집(낙산 바...         12\n",
       "Claire & Sky          11\n",
       "피사체에 담은 muse...       10\n",
       "양양 속초 낙산 동호...         9\n",
       "Name: title, dtype: int64"
      ]
     },
     "execution_count": 54,
     "metadata": {},
     "output_type": "execute_result"
    }
   ],
   "source": [
    "sample.title.value_counts().head(20)"
   ]
  },
  {
   "cell_type": "code",
   "execution_count": null,
   "metadata": {},
   "outputs": [],
   "source": []
  }
 ],
 "metadata": {
  "kernelspec": {
   "display_name": "Python 3",
   "language": "python",
   "name": "python3"
  },
  "language_info": {
   "codemirror_mode": {
    "name": "ipython",
    "version": 3
   },
   "file_extension": ".py",
   "mimetype": "text/x-python",
   "name": "python",
   "nbconvert_exporter": "python",
   "pygments_lexer": "ipython3",
   "version": "3.6.5"
  },
  "varInspector": {
   "cols": {
    "lenName": 16,
    "lenType": 16,
    "lenVar": 40
   },
   "kernels_config": {
    "python": {
     "delete_cmd_postfix": "",
     "delete_cmd_prefix": "del ",
     "library": "var_list.py",
     "varRefreshCmd": "print(var_dic_list())"
    },
    "r": {
     "delete_cmd_postfix": ") ",
     "delete_cmd_prefix": "rm(",
     "library": "var_list.r",
     "varRefreshCmd": "cat(var_dic_list()) "
    }
   },
   "types_to_exclude": [
    "module",
    "function",
    "builtin_function_or_method",
    "instance",
    "_Feature"
   ],
   "window_display": false
  }
 },
 "nbformat": 4,
 "nbformat_minor": 2
}

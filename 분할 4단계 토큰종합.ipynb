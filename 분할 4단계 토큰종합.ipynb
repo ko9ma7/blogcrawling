{
 "cells": [
  {
   "cell_type": "code",
   "execution_count": 1,
   "metadata": {
    "ExecuteTime": {
     "end_time": "2020-06-17T05:59:00.521534Z",
     "start_time": "2020-06-17T05:58:59.921026Z"
    }
   },
   "outputs": [],
   "source": [
    "import pandas as pd\n",
    "import numpy as np\n",
    "import os\n",
    "from tqdm import tqdm, tqdm_notebook,tqdm_pandas\n",
    "import itertools\n",
    "import re\n",
    "import warnings\n",
    "warnings.filterwarnings(action='ignore')"
   ]
  },
  {
   "cell_type": "code",
   "execution_count": 2,
   "metadata": {
    "ExecuteTime": {
     "end_time": "2020-06-17T05:59:00.547751Z",
     "start_time": "2020-06-17T05:59:00.522534Z"
    }
   },
   "outputs": [],
   "source": [
    "filter_word = pd.read_excel('filter_word.xlsx')['filter_word'].values\n",
    "path = './output/token/'"
   ]
  },
  {
   "cell_type": "code",
   "execution_count": 3,
   "metadata": {
    "ExecuteTime": {
     "end_time": "2020-06-17T05:59:00.551752Z",
     "start_time": "2020-06-17T05:59:00.548751Z"
    }
   },
   "outputs": [],
   "source": [
    "merge_file = dict()\n",
    "\n",
    "merge_file['광진'] = ['광진리','광진','광진해변','휴휴암'] #광진 +강원도 삭제\n",
    "merge_file['기사문'] = ['기사문리','기사문','기사문항','기사문해변']\n",
    "merge_file['낙산'] = ['낙산','낙산항','낙산해수욕장']\n",
    "merge_file['남애'] = ['남애리','남애','남애항'] #남애 +강원도 삭제\n",
    "merge_file['동호'] = ['동호','동호리','동호해변','동호해수욕장'] #동호 +강원도 삭제 \n",
    "merge_file['동산'] = ['동산','동산리','동산항','동산해수욕장'] #동산 +강원도 삭제\n",
    "merge_file['물치'] = ['물치리','물치','물치항']\n",
    "merge_file['수산'] = ['수산리','수산항'] #'수산' 제외\n",
    "merge_file['오산'] = ['오산','오산해수욕장','오산리'] #오산 +강원도 삭제\n",
    "merge_file['인구'] = ['인구리','죽도'] # '인구' 제외\n",
    "merge_file['전진'] = ['전진리','설악해수욕장','후진항']\n",
    "merge_file['하광정'] = ['하광정리','하조대','하조대해수욕장']"
   ]
  },
  {
   "cell_type": "code",
   "execution_count": 4,
   "metadata": {
    "ExecuteTime": {
     "end_time": "2020-06-17T05:59:00.556753Z",
     "start_time": "2020-06-17T05:59:00.552753Z"
    },
    "code_folding": [
     0
    ]
   },
   "outputs": [],
   "source": [
    "def separate_merge(path):\n",
    "    '''파일분할되어 있는 결과를 종합해줌\n",
    "    경로를 입력하면 파일들이 분할되어 있는 폴더를 선택하고\n",
    "    폴더 내에 있는 파일들을 concat하여 폴더밖으로 배출\n",
    "    '''\n",
    "    file_list = os.listdir(path)\n",
    "    folder_list = []\n",
    "    #분할된 파일 탐색\n",
    "    for file in file_list:\n",
    "        if os.path.splitext(file)[1] != '.csv':\n",
    "            folder_list.append(file)\n",
    "    #분할된 파일 통합\n",
    "    for folder in tqdm_notebook(folder_list):\n",
    "        file_list = os.listdir(f'{path}/{folder}/')\n",
    "        all_df = pd.DataFrame()\n",
    "        for file in file_list:\n",
    "            read_file = pd.read_csv(f'{path}/{folder}/{file}')\n",
    "            all_df = pd.concat([all_df,read_file])\n",
    "            size = all_df.shape[0]\n",
    "        all_df.to_csv(f'./output/token/{folder}_0~{size}.csv',index=False)"
   ]
  },
  {
   "cell_type": "code",
   "execution_count": 5,
   "metadata": {
    "ExecuteTime": {
     "end_time": "2020-06-17T05:59:00.563755Z",
     "start_time": "2020-06-17T05:59:00.557753Z"
    },
    "code_folding": []
   },
   "outputs": [],
   "source": [
    "def setting_file(path, merge_file):\n",
    "    '''결합해야하는 파일들을 결합 이후 필터링 진행\n",
    "    다양한 키워드를 하나의 keyword로 결합\n",
    "    이후 다시한번 필터링 진행\n",
    "    \n",
    "    Parameter\n",
    "    ---------\n",
    "    path(string) : 파일이 있는 경로\n",
    "    merge_file(dictionary) : 결합해야하는 keyword \n",
    "    \n",
    "    Return \n",
    "    ------\n",
    "    f'./output/token_통합/{key}_{total_len}.csv'의 형태로 파일저장\n",
    "    '''\n",
    "    \n",
    "    #대상 csv목록 생성\n",
    "    file_list = os.listdir(path)\n",
    "    csv_list = []\n",
    "    for file in file_list:\n",
    "        if os.path.splitext(file)[1] == '.csv':\n",
    "            csv_list.append(file)\n",
    "\n",
    "    merge_file_values = list(itertools.chain(*merge_file.values()))\n",
    "\n",
    "    #결합대상의 파일명을 가져오거나, 대상이 아닌 파일을 필터링\n",
    "    files = dict()\n",
    "    for file in csv_list:\n",
    "        keyword = file.split('_')[0].split(\"+\")[0].replace(' ', '')\n",
    "        if keyword in merge_file_values:\n",
    "            for key in merge_file.keys():\n",
    "                if keyword in merge_file[key]:\n",
    "                    if files.get(key) == None:\n",
    "                        files[key] = [file]\n",
    "                    else:\n",
    "                        files[key].append(file)\n",
    "        else :\n",
    "            #필터링\n",
    "            file_df = pd.read_csv(path + file)\n",
    "            file_df = file_df.fillna('')\n",
    "            filtered = file_df.full_text.apply(lambda x : any(ele in x for ele in filter_word)) #전체글\n",
    "            clean_file = file_df[~filtered]\n",
    "            filtered = clean_file.title.apply(lambda x : any(ele in x for ele in filter_word)) #타이틀\n",
    "            clean_file = clean_file[~filtered]\n",
    "\n",
    "    #파일결합\n",
    "    for key in tqdm_notebook(files.keys()):\n",
    "        merged_df = pd.DataFrame()\n",
    "        for file in files[key]:\n",
    "            file_df = pd.read_csv(path + file)\n",
    "            merged_df = pd.concat([merged_df,file_df])\n",
    "        merged_df = merged_df.drop_duplicates('full_text')\n",
    "\n",
    "        #필터링\n",
    "        merged_df = merged_df.fillna('')\n",
    "        filtered = merged_df.full_text.apply(lambda x : any(ele in x for ele in filter_word)) #전체글\n",
    "        clean_file = merged_df[~filtered]\n",
    "        filtered = clean_file.title.apply(lambda x : any(ele in x for ele in filter_word)) #타이틀\n",
    "        clean_file = clean_file[~filtered]\n",
    "\n",
    "        total_len = clean_file.shape[0]\n",
    "        clean_file.to_csv(f'./output/token_통합/{key}_{total_len}.csv',index = False)"
   ]
  },
  {
   "cell_type": "code",
   "execution_count": 6,
   "metadata": {
    "ExecuteTime": {
     "end_time": "2020-06-17T06:00:56.253806Z",
     "start_time": "2020-06-17T05:59:00.564755Z"
    }
   },
   "outputs": [
    {
     "data": {
      "application/vnd.jupyter.widget-view+json": {
       "model_id": "db03bc79b4904238b0b75ec389ee1830",
       "version_major": 2,
       "version_minor": 0
      },
      "text/plain": [
       "HBox(children=(FloatProgress(value=0.0, max=8.0), HTML(value='')))"
      ]
     },
     "metadata": {},
     "output_type": "display_data"
    },
    {
     "name": "stdout",
     "output_type": "stream",
     "text": [
      "\n"
     ]
    },
    {
     "data": {
      "application/vnd.jupyter.widget-view+json": {
       "model_id": "01223f9633a24fcd94ee4191e5d222ca",
       "version_major": 2,
       "version_minor": 0
      },
      "text/plain": [
       "HBox(children=(FloatProgress(value=0.0, max=12.0), HTML(value='')))"
      ]
     },
     "metadata": {},
     "output_type": "display_data"
    },
    {
     "name": "stdout",
     "output_type": "stream",
     "text": [
      "\n"
     ]
    }
   ],
   "source": [
    "separate_merge(path)\n",
    "setting_file(path, merge_file)"
   ]
  },
  {
   "cell_type": "markdown",
   "metadata": {},
   "source": [
    "### 파일 종합 결과"
   ]
  },
  {
   "cell_type": "code",
   "execution_count": 7,
   "metadata": {
    "ExecuteTime": {
     "end_time": "2020-06-17T06:00:56.258807Z",
     "start_time": "2020-06-17T06:00:56.254806Z"
    }
   },
   "outputs": [],
   "source": [
    "path = './output/token_통합/'\n",
    "def result_df(path):\n",
    "    file_list = os.listdir(path)\n",
    "\n",
    "    total_df = pd.DataFrame()\n",
    "    for file in file_list:\n",
    "        sumup = dict()\n",
    "        keyword = file.split('_')[0]\n",
    "        df = pd.read_csv(path +file)\n",
    "        sumup['total_size'] = df.shape[0]\n",
    "        for year in range(2010,2020):\n",
    "            try :\n",
    "                sumup[year] = df[df.year == year].shape[0]\n",
    "            except :\n",
    "                sumup[year] = np.nan\n",
    "        one_df = pd.DataFrame(sumup,index =[keyword])\n",
    "        total_df = pd.concat([total_df,one_df])\n",
    "    return total_df"
   ]
  },
  {
   "cell_type": "code",
   "execution_count": 8,
   "metadata": {
    "ExecuteTime": {
     "end_time": "2020-06-17T06:00:59.686838Z",
     "start_time": "2020-06-17T06:00:56.259807Z"
    },
    "scrolled": false
   },
   "outputs": [
    {
     "data": {
      "text/html": [
       "<div>\n",
       "<style scoped>\n",
       "    .dataframe tbody tr th:only-of-type {\n",
       "        vertical-align: middle;\n",
       "    }\n",
       "\n",
       "    .dataframe tbody tr th {\n",
       "        vertical-align: top;\n",
       "    }\n",
       "\n",
       "    .dataframe thead th {\n",
       "        text-align: right;\n",
       "    }\n",
       "</style>\n",
       "<table border=\"1\" class=\"dataframe\">\n",
       "  <thead>\n",
       "    <tr style=\"text-align: right;\">\n",
       "      <th></th>\n",
       "      <th>total_size</th>\n",
       "      <th>2010</th>\n",
       "      <th>2011</th>\n",
       "      <th>2012</th>\n",
       "      <th>2013</th>\n",
       "      <th>2014</th>\n",
       "      <th>2015</th>\n",
       "      <th>2016</th>\n",
       "      <th>2017</th>\n",
       "      <th>2018</th>\n",
       "      <th>2019</th>\n",
       "    </tr>\n",
       "  </thead>\n",
       "  <tbody>\n",
       "    <tr>\n",
       "      <td>광진</td>\n",
       "      <td>5781</td>\n",
       "      <td>116</td>\n",
       "      <td>161</td>\n",
       "      <td>234</td>\n",
       "      <td>373</td>\n",
       "      <td>525</td>\n",
       "      <td>703</td>\n",
       "      <td>872</td>\n",
       "      <td>1029</td>\n",
       "      <td>838</td>\n",
       "      <td>930</td>\n",
       "    </tr>\n",
       "    <tr>\n",
       "      <td>기사문</td>\n",
       "      <td>2498</td>\n",
       "      <td>29</td>\n",
       "      <td>59</td>\n",
       "      <td>79</td>\n",
       "      <td>129</td>\n",
       "      <td>249</td>\n",
       "      <td>355</td>\n",
       "      <td>350</td>\n",
       "      <td>371</td>\n",
       "      <td>388</td>\n",
       "      <td>489</td>\n",
       "    </tr>\n",
       "    <tr>\n",
       "      <td>낙산</td>\n",
       "      <td>19494</td>\n",
       "      <td>626</td>\n",
       "      <td>839</td>\n",
       "      <td>861</td>\n",
       "      <td>1040</td>\n",
       "      <td>1482</td>\n",
       "      <td>2037</td>\n",
       "      <td>2337</td>\n",
       "      <td>2738</td>\n",
       "      <td>2937</td>\n",
       "      <td>4597</td>\n",
       "    </tr>\n",
       "    <tr>\n",
       "      <td>남애</td>\n",
       "      <td>4307</td>\n",
       "      <td>108</td>\n",
       "      <td>118</td>\n",
       "      <td>171</td>\n",
       "      <td>223</td>\n",
       "      <td>376</td>\n",
       "      <td>527</td>\n",
       "      <td>593</td>\n",
       "      <td>792</td>\n",
       "      <td>739</td>\n",
       "      <td>660</td>\n",
       "    </tr>\n",
       "    <tr>\n",
       "      <td>동산</td>\n",
       "      <td>1916</td>\n",
       "      <td>48</td>\n",
       "      <td>64</td>\n",
       "      <td>76</td>\n",
       "      <td>82</td>\n",
       "      <td>127</td>\n",
       "      <td>195</td>\n",
       "      <td>184</td>\n",
       "      <td>250</td>\n",
       "      <td>441</td>\n",
       "      <td>449</td>\n",
       "    </tr>\n",
       "    <tr>\n",
       "      <td>동호</td>\n",
       "      <td>2229</td>\n",
       "      <td>39</td>\n",
       "      <td>45</td>\n",
       "      <td>48</td>\n",
       "      <td>70</td>\n",
       "      <td>123</td>\n",
       "      <td>272</td>\n",
       "      <td>292</td>\n",
       "      <td>410</td>\n",
       "      <td>455</td>\n",
       "      <td>475</td>\n",
       "    </tr>\n",
       "    <tr>\n",
       "      <td>물치</td>\n",
       "      <td>4273</td>\n",
       "      <td>144</td>\n",
       "      <td>143</td>\n",
       "      <td>207</td>\n",
       "      <td>230</td>\n",
       "      <td>302</td>\n",
       "      <td>411</td>\n",
       "      <td>487</td>\n",
       "      <td>671</td>\n",
       "      <td>867</td>\n",
       "      <td>811</td>\n",
       "    </tr>\n",
       "    <tr>\n",
       "      <td>수산</td>\n",
       "      <td>2520</td>\n",
       "      <td>75</td>\n",
       "      <td>104</td>\n",
       "      <td>88</td>\n",
       "      <td>123</td>\n",
       "      <td>225</td>\n",
       "      <td>329</td>\n",
       "      <td>376</td>\n",
       "      <td>382</td>\n",
       "      <td>426</td>\n",
       "      <td>392</td>\n",
       "    </tr>\n",
       "    <tr>\n",
       "      <td>오산</td>\n",
       "      <td>3113</td>\n",
       "      <td>158</td>\n",
       "      <td>191</td>\n",
       "      <td>254</td>\n",
       "      <td>264</td>\n",
       "      <td>276</td>\n",
       "      <td>324</td>\n",
       "      <td>376</td>\n",
       "      <td>421</td>\n",
       "      <td>442</td>\n",
       "      <td>407</td>\n",
       "    </tr>\n",
       "    <tr>\n",
       "      <td>인구</td>\n",
       "      <td>8337</td>\n",
       "      <td>56</td>\n",
       "      <td>79</td>\n",
       "      <td>115</td>\n",
       "      <td>260</td>\n",
       "      <td>574</td>\n",
       "      <td>769</td>\n",
       "      <td>970</td>\n",
       "      <td>1401</td>\n",
       "      <td>1837</td>\n",
       "      <td>2276</td>\n",
       "    </tr>\n",
       "    <tr>\n",
       "      <td>전진</td>\n",
       "      <td>2431</td>\n",
       "      <td>45</td>\n",
       "      <td>78</td>\n",
       "      <td>103</td>\n",
       "      <td>100</td>\n",
       "      <td>150</td>\n",
       "      <td>233</td>\n",
       "      <td>284</td>\n",
       "      <td>298</td>\n",
       "      <td>469</td>\n",
       "      <td>671</td>\n",
       "    </tr>\n",
       "    <tr>\n",
       "      <td>하광정</td>\n",
       "      <td>16514</td>\n",
       "      <td>528</td>\n",
       "      <td>717</td>\n",
       "      <td>808</td>\n",
       "      <td>1028</td>\n",
       "      <td>1586</td>\n",
       "      <td>1961</td>\n",
       "      <td>2253</td>\n",
       "      <td>2503</td>\n",
       "      <td>2264</td>\n",
       "      <td>2866</td>\n",
       "    </tr>\n",
       "  </tbody>\n",
       "</table>\n",
       "</div>"
      ],
      "text/plain": [
       "     total_size  2010  2011  2012  2013  2014  2015  2016  2017  2018  2019\n",
       "광진         5781   116   161   234   373   525   703   872  1029   838   930\n",
       "기사문        2498    29    59    79   129   249   355   350   371   388   489\n",
       "낙산        19494   626   839   861  1040  1482  2037  2337  2738  2937  4597\n",
       "남애         4307   108   118   171   223   376   527   593   792   739   660\n",
       "동산         1916    48    64    76    82   127   195   184   250   441   449\n",
       "동호         2229    39    45    48    70   123   272   292   410   455   475\n",
       "물치         4273   144   143   207   230   302   411   487   671   867   811\n",
       "수산         2520    75   104    88   123   225   329   376   382   426   392\n",
       "오산         3113   158   191   254   264   276   324   376   421   442   407\n",
       "인구         8337    56    79   115   260   574   769   970  1401  1837  2276\n",
       "전진         2431    45    78   103   100   150   233   284   298   469   671\n",
       "하광정       16514   528   717   808  1028  1586  1961  2253  2503  2264  2866"
      ]
     },
     "execution_count": 8,
     "metadata": {},
     "output_type": "execute_result"
    }
   ],
   "source": [
    "result_df(path)"
   ]
  },
  {
   "cell_type": "code",
   "execution_count": null,
   "metadata": {},
   "outputs": [],
   "source": []
  }
 ],
 "metadata": {
  "kernelspec": {
   "display_name": "Python 3",
   "language": "python",
   "name": "python3"
  },
  "language_info": {
   "codemirror_mode": {
    "name": "ipython",
    "version": 3
   },
   "file_extension": ".py",
   "mimetype": "text/x-python",
   "name": "python",
   "nbconvert_exporter": "python",
   "pygments_lexer": "ipython3",
   "version": "3.6.5"
  },
  "varInspector": {
   "cols": {
    "lenName": 16,
    "lenType": 16,
    "lenVar": 40
   },
   "kernels_config": {
    "python": {
     "delete_cmd_postfix": "",
     "delete_cmd_prefix": "del ",
     "library": "var_list.py",
     "varRefreshCmd": "print(var_dic_list())"
    },
    "r": {
     "delete_cmd_postfix": ") ",
     "delete_cmd_prefix": "rm(",
     "library": "var_list.r",
     "varRefreshCmd": "cat(var_dic_list()) "
    }
   },
   "types_to_exclude": [
    "module",
    "function",
    "builtin_function_or_method",
    "instance",
    "_Feature"
   ],
   "window_display": false
  }
 },
 "nbformat": 4,
 "nbformat_minor": 2
}

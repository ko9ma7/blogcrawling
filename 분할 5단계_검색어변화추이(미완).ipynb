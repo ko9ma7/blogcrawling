{
 "cells": [
  {
   "cell_type": "code",
   "execution_count": 2,
   "metadata": {
    "ExecuteTime": {
     "end_time": "2020-06-08T06:53:50.351096Z",
     "start_time": "2020-06-08T06:53:49.681064Z"
    }
   },
   "outputs": [],
   "source": [
    "import pandas as pd\n",
    "import numpy as np\n",
    "import os\n",
    "from tqdm import tqdm, tqdm_notebook,tqdm_pandas\n",
    "import itertools\n",
    "import re"
   ]
  },
  {
   "cell_type": "markdown",
   "metadata": {},
   "source": [
    "### sample 강릉"
   ]
  },
  {
   "cell_type": "code",
   "execution_count": 3,
   "metadata": {
    "ExecuteTime": {
     "end_time": "2020-06-08T06:53:57.029295Z",
     "start_time": "2020-06-08T06:53:57.018859Z"
    }
   },
   "outputs": [],
   "source": [
    "path = './output/token/'\n",
    "file_list = os.listdir(path)"
   ]
  },
  {
   "cell_type": "code",
   "execution_count": 10,
   "metadata": {
    "ExecuteTime": {
     "end_time": "2020-06-08T06:56:18.955476Z",
     "start_time": "2020-06-08T06:56:18.946478Z"
    }
   },
   "outputs": [],
   "source": [
    "csv_ls = []\n",
    "for file in file_list:\n",
    "    if os.path.splitext(file)[1] == '.csv':\n",
    "        csv_ls.append(file)"
   ]
  },
  {
   "cell_type": "markdown",
   "metadata": {},
   "source": [
    "### 연도별 gap 확인"
   ]
  },
  {
   "cell_type": "code",
   "execution_count": 3,
   "metadata": {
    "ExecuteTime": {
     "end_time": "2020-06-02T02:32:04.198644Z",
     "start_time": "2020-06-02T02:31:52.463576Z"
    },
    "scrolled": true
   },
   "outputs": [],
   "source": [
    "all_df = all_df.fillna(\"\")\n",
    "all_df['Noun'] = all_df['Noun'].apply(lambda x : re.sub(\"[\\[\\]' ]\",\"\",x).split(','))\n",
    "all_df['Adjective'] = all_df['Adjective'].apply(lambda x : re.sub(\"[\\[\\]' ]\",\"\",x).split(','))"
   ]
  },
  {
   "cell_type": "code",
   "execution_count": 59,
   "metadata": {
    "ExecuteTime": {
     "end_time": "2020-06-02T03:39:28.207455Z",
     "start_time": "2020-06-02T03:39:28.199454Z"
    },
    "code_folding": [
     0
    ]
   },
   "outputs": [],
   "source": [
    "def count_word(df, tag, stopword, save_name, start_year=2010, end_year=2020, gap=1, month=False, months=[], save=True):\n",
    "    '''단어가 등장한 횟수를 카운팅하고, 각 연도별 순위변동을 표시\n",
    "\n",
    "    Parameters\n",
    "    ----------\n",
    "        df (dataFrame): DataFrame\n",
    "        tag (string) : 품사지정\n",
    "        stopword (list) : 카운팅에서 제외할 불용어 추가(유사검색어)\n",
    "        save_name : 저장파일이름\n",
    "        \n",
    "        start_year (int) : 순위변동 확인시 시작할 연도위치\n",
    "        end_year (int) : 순위변동 확인시 마지막 연도위치 \n",
    "        gap (int): 연도별 기간차이 지정\n",
    "        month (bool) : 특정월 추출여부\n",
    "        months (list) : 추출할 월list\n",
    "        save : 파일저장여부\n",
    "       \n",
    "    Returns\n",
    "    -------\n",
    "    vertical_df : DataFrame\n",
    "\n",
    "    '''\n",
    "    main_df = pd.DataFrame()\n",
    "\n",
    "    if month == True:\n",
    "        df = df[df.month.isin(months)]\n",
    "    for s_year in range(2010, 2020):\n",
    "        word_year_df = df[df['year'] == s_year]\n",
    "\n",
    "        target_df = list(itertools.chain(*word_year_df[tag]))\n",
    "        counted = pd.DataFrame(\n",
    "            pd.Series(target_df).value_counts()).reset_index()\n",
    "        counted.columns = ['name', 'value']\n",
    "\n",
    "        drop_row = counted[counted['name'].isin(stopword)].index\n",
    "        counted.drop(drop_row, inplace=True)\n",
    "        counted = counted.head(15)\n",
    "\n",
    "        counted['year'] = s_year\n",
    "        counted['rank'] = counted.value.rank(ascending=False)\n",
    "        main_df = pd.concat([main_df, counted])\n",
    "\n",
    "    # gap\n",
    "    main_df['gap'] = 0\n",
    "    years = []\n",
    "    for one_year in range(start_year, end_year, gap):\n",
    "        years.append(one_year)\n",
    "        names = main_df.loc[(main_df['year'] == one_year), \"name\"].values\n",
    "        for name in names:\n",
    "            try:\n",
    "                new_rank = main_df.loc[(main_df['year'] == one_year) & (\n",
    "                    main_df['name'] == name), 'rank'].values[0]\n",
    "                old_rank = main_df.loc[(\n",
    "                    main_df['year'] == one_year-gap) & (main_df['name'] == name), 'rank'].values[0]\n",
    "                main_df.loc[(main_df['year'] == one_year) & (\n",
    "                    main_df['name'] == name), 'gap'] = old_rank-new_rank\n",
    "            except:\n",
    "                main_df.loc[(main_df['year'] == one_year) & (\n",
    "                    main_df['name'] == name), 'gap'] = \"NEW\"\n",
    "    main_df = main_df[main_df['year'].isin(years)]\n",
    "    main_df.drop('rank', axis=1, inplace=True)\n",
    "    main_df.reset_index(drop = True, inplace = True)\n",
    "    #vertical\n",
    "    vertical_df = pd.DataFrame()\n",
    "    for year in main_df.year.unique():\n",
    "        sperated = main_df[main_df.year == year].reset_index(drop = True)\n",
    "        vertical_df = pd.concat([vertical_df,sperated],axis = 1)\n",
    "\n",
    "    if save == True:\n",
    "        vertical_df.to_csv('./output/연도별카운트/{save_name}.csv'.format(\n",
    "            save_name=save_name), encoding='cp949', index='False')\n",
    "\n",
    "    return vertical_df"
   ]
  },
  {
   "cell_type": "code",
   "execution_count": 67,
   "metadata": {
    "ExecuteTime": {
     "end_time": "2020-06-02T05:07:54.852024Z",
     "start_time": "2020-06-02T05:07:45.931788Z"
    }
   },
   "outputs": [],
   "source": [
    "noun_df = count_word(all_df, 'Noun', ['강릉','강릉시','강원'],gap = 2, save_name = '2년 gap명사')\n",
    "adj_df = count_word(all_df, 'Adjective', ['이다'],save_name = '1년 gap형용사')"
   ]
  },
  {
   "cell_type": "code",
   "execution_count": 65,
   "metadata": {
    "ExecuteTime": {
     "end_time": "2020-06-02T03:43:27.081887Z",
     "start_time": "2020-06-02T03:43:25.774738Z"
    }
   },
   "outputs": [],
   "source": [
    "#월[6,7,8] 여름기준\n",
    "vertical_df = count_word(all_df, 'Noun', ['강릉','강릉시','강원','여름','거리'],gap = 1, save_name = '여름 1년gap명사',month = True, months = [6,7,8])"
   ]
  }
 ],
 "metadata": {
  "kernelspec": {
   "display_name": "Python 3",
   "language": "python",
   "name": "python3"
  },
  "language_info": {
   "codemirror_mode": {
    "name": "ipython",
    "version": 3
   },
   "file_extension": ".py",
   "mimetype": "text/x-python",
   "name": "python",
   "nbconvert_exporter": "python",
   "pygments_lexer": "ipython3",
   "version": "3.6.5"
  }
 },
 "nbformat": 4,
 "nbformat_minor": 2
}

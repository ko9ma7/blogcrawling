{
 "cells": [
  {
   "cell_type": "markdown",
   "metadata": {},
   "source": [
    "# 목적\n",
    "* 블로그 내용을 긁어와서 연관분석 진행\n",
    "1. keyword관련 블로그 크롤링 \n",
    "    정확도 기준으로 긁어오되 날짜도 같이 가져와서 나중 어떤 날짜에 집중되어 있는지 확인  \n",
    "    한 블로그당 단어빈도수 분석(필요할까)\n",
    "2. 블로그 내 단어 토크나이즈하고 \n",
    "3. 연관분석실시\n"
   ]
  },
  {
   "cell_type": "markdown",
   "metadata": {},
   "source": [
    "# 선행설치"
   ]
  },
  {
   "cell_type": "code",
   "execution_count": 1,
   "metadata": {
    "ExecuteTime": {
     "end_time": "2020-04-20T05:55:31.987651Z",
     "start_time": "2020-04-20T05:55:31.985651Z"
    },
    "code_folding": [
     0
    ]
   },
   "outputs": [],
   "source": [
    "# 선행설치\n",
    "# # 크롤링\n",
    "# !pip install beautifulsoup4\n",
    "# !pip install requests\n",
    "# !pip install lxm\n",
    "# # 연관분석\n",
    "# !pip install apyori\n",
    "# # 자연어처리\n",
    "# !pip install konlpy (JDK 설치가 되어있어야함 )\n",
    "# # 워드클라우드\n",
    "# !pip install wordcloud"
   ]
  },
  {
   "cell_type": "code",
   "execution_count": 2,
   "metadata": {
    "ExecuteTime": {
     "end_time": "2020-04-20T05:55:35.040178Z",
     "start_time": "2020-04-20T05:55:31.989651Z"
    },
    "code_folding": []
   },
   "outputs": [
    {
     "name": "stderr",
     "output_type": "stream",
     "text": [
      "C:\\Users\\User\\Anaconda3\\lib\\site-packages\\jpype\\_core.py:217: UserWarning: \n",
      "-------------------------------------------------------------------------------\n",
      "Deprecated: convertStrings was not specified when starting the JVM. The default\n",
      "behavior in JPype will be False starting in JPype 0.8. The recommended setting\n",
      "for new code is convertStrings=False.  The legacy value of True was assumed for\n",
      "this session. If you are a user of an application that reported this warning,\n",
      "please file a ticket with the developer.\n",
      "-------------------------------------------------------------------------------\n",
      "\n",
      "  \"\"\")\n"
     ]
    },
    {
     "data": {
      "text/html": [
       "<style>.container {width:100% !important; }</style>"
      ],
      "text/plain": [
       "<IPython.core.display.HTML object>"
      ]
     },
     "metadata": {},
     "output_type": "display_data"
    }
   ],
   "source": [
    "# import\n",
    "import seaborn as sns\n",
    "import matplotlib.pyplot as plt\n",
    "\n",
    "from tqdm import tqdm_notebook  # 진행과정 시각화\n",
    "from datetime import timedelta  # 시간날짜\n",
    "from apyori import apriori  # 연관분석\n",
    "\n",
    "import re\n",
    "import json\n",
    "import math\n",
    "import datetime\n",
    "from datetime import timedelta\n",
    "import pandas as pd\n",
    "import numpy as np\n",
    "\n",
    "import requests\n",
    "import urllib.request\n",
    "import urllib.error\n",
    "import urllib.parse\n",
    "from bs4 import BeautifulSoup  # 크롤링\n",
    "\n",
    "from PIL import Image\n",
    "import numpy as np\n",
    "import wordcloud\n",
    "import random\n",
    "\n",
    "import konlpy\n",
    "from konlpy.tag import Komoran,Kkma,Okt,Twitter  # 자연어처리\n",
    "# from eunjeon import Mecab #은전한닢 mecab을 설치하면 먹통이됨 2020-04-10 10:10:10 작동안됨\n",
    "# import MeCab # meacb 별도설치 2020-04-10 10:10:10 작동안됨\n",
    "import kss\n",
    "\n",
    "# mecab = Mecab()\n",
    "okt = Okt()\n",
    "komoran = Komoran(userdic='./user_dictionary.txt')\n",
    "\n",
    "#한글깨짐방지\n",
    "plt.rc('font',family='Malgun Gothic')\n",
    "plt.rcParams['axes.unicode_minus'] = False\n",
    "\n",
    "from IPython.core.display import display, HTML\n",
    "display(HTML('<style>.container {width:100% !important; }</style>'))"
   ]
  },
  {
   "cell_type": "markdown",
   "metadata": {},
   "source": [
    "# 네이버 검색 URl구조"
   ]
  },
  {
   "cell_type": "markdown",
   "metadata": {},
   "source": [
    "date_from - YYYYMMDD : 시작날짜 date_option 8일때   \n",
    "date_option - int : 0 : 전체, 2 : 1일, 3 : 1주, 4 : 1개월, 6 : 6개월, 7 : 1년, 8 : 기간지정  \n",
    "date_to - YYYYMMDD : 마지막날짜 date_option 8일때  \n",
    "dup_remove - int : 유사문서제거옵션 1 : 제거, 0 : 유지  \n",
    "nso - str : _상세검색으로 추정_   \n",
    "post_blogurl - ?  \n",
    "post_blogurl_without - ?   \n",
    "query - str : 검색어     \n",
    "sm=tab_pge -?    \n",
    "st - str : 정렬순서 sim : 유사도 date : 날짜    "
   ]
  },
  {
   "cell_type": "code",
   "execution_count": 3,
   "metadata": {
    "ExecuteTime": {
     "end_time": "2020-04-20T05:55:35.044180Z",
     "start_time": "2020-04-20T05:55:35.041179Z"
    },
    "code_folding": [
     0
    ]
   },
   "outputs": [],
   "source": [
    "# #네이버에서 검색했을때 url구조\n",
    "# https://search.naver.com/search.naver\n",
    "#     ?date_from=&\n",
    "#     date_option=0&\n",
    "#     date_to=&\n",
    "#     dup_remove=1&\n",
    "#     nso=&\n",
    "#     post_blogurl=\n",
    "#     &post_blogurl_without=\n",
    "#     &query=%EC%96%91%EC%96%91\n",
    "#     &sm=tab_pge\n",
    "#     &srchby=all\n",
    "#     &st=sim\n",
    "#     &where=post\n",
    "#     &start=11"
   ]
  },
  {
   "cell_type": "code",
   "execution_count": 4,
   "metadata": {
    "ExecuteTime": {
     "end_time": "2020-04-20T05:55:35.049180Z",
     "start_time": "2020-04-20T05:55:35.045179Z"
    },
    "code_folding": [
     0
    ]
   },
   "outputs": [],
   "source": [
    "def del_outword(string):\n",
    "    '''\n",
    "    이모티콘, \\u200b과 같은 문자가 아닌 것 제거\n",
    "    #이모티콘 제거 [출처](https://stackoverflow.com/questions/33404752/removing-emojis-from-a-string-in-python)\n",
    "    '''\n",
    "    #이모지제거\n",
    "    emoji_pattern = re.compile(\"[\"\n",
    "                u\"\\U0001F600-\\U0001F64F\"  # emoticons\n",
    "                u\"\\U0001F300-\\U0001F5FF\"  # symbols & pictographs\n",
    "                u\"\\U0001F680-\\U0001F6FF\"  # transport & map symbols\n",
    "                u\"\\U0001F1E0-\\U0001F1FF\"  # flags (iOS)\n",
    "                u\"\\U00002702-\\U000027B0\"\n",
    "                u\"\\U0001f926-\\U0001f937\"\n",
    "                u'\\U00010000-\\U0010ffff'\n",
    "                u\"\\u200d\"\n",
    "                u\"\\u2640-\\u2642\"\n",
    "                u\"\\u2600-\\u2B55\"\n",
    "                u\"\\u23cf\"\n",
    "                u\"\\u23e9\"\n",
    "                u\"\\u231a\"\n",
    "                u\"\\u3030\"\n",
    "                u\"\\ufe0f\"\n",
    "    \"]+\", flags=re.UNICODE)\n",
    "\n",
    "    #분석에 어긋나는 불용어구 제외 (특수문자, 의성어)\n",
    "    han = re.compile(r'[ㄱ-ㅎㅏ-ㅣ!?~\"^_\\n\\r#\\ufeff\\u200d\\u200b\\u7643\\ufffd\\u682e\\u62c4]+')\n",
    "    \n",
    "    string = emoji_pattern.sub(r'',string)\n",
    "    string = han.sub(r'',string)\n",
    "    \n",
    "    return string"
   ]
  },
  {
   "cell_type": "code",
   "execution_count": 5,
   "metadata": {
    "ExecuteTime": {
     "end_time": "2020-04-20T05:55:35.055181Z",
     "start_time": "2020-04-20T05:55:35.050180Z"
    },
    "code_folding": [
     0
    ]
   },
   "outputs": [],
   "source": [
    "def time_change(x):\n",
    "    '''\n",
    "    검색결과에 있는 문자를 날짜로 변경\n",
    "    '''\n",
    "    min_pattern = re.compile('[0-9]+'+\"분 전\")\n",
    "    hour_pattern = re.compile('[0-9]+'+\"시간 전\")\n",
    "    day_pattern = re.compile('[0-9]+'+\"일 전\")\n",
    "\n",
    "    today = datetime.datetime.today().date()\n",
    "    # 일자\n",
    "    try:\n",
    "        d = re.findall(day_pattern, x)[0][0]\n",
    "        x = today - timedelta(days=int(d))\n",
    "    except:\n",
    "        pass\n",
    "    # 시간\n",
    "    try:\n",
    "        d = re.findall(hour_pattern, x)[0]\n",
    "        x = today\n",
    "    except:\n",
    "        pass\n",
    "    # 분\n",
    "    try:\n",
    "        h = re.findall(min_pattern, x)[0]\n",
    "        x = today\n",
    "    except:\n",
    "        pass\n",
    "\n",
    "    if x == '어제':\n",
    "        x = today - timedelta(days=1)\n",
    "\n",
    "    elif type(x) == str:\n",
    "        x = datetime.datetime.strptime(x.replace('.', '-')[:-1], '%Y-%m-%d')\n",
    "    #모든일자를 1일로 통일\n",
    "    x = datetime.datetime.strptime(x.strftime('%Y-%m')+\"-01\",\"%Y-%m-%d\")\n",
    "    return x"
   ]
  },
  {
   "cell_type": "code",
   "execution_count": 6,
   "metadata": {
    "ExecuteTime": {
     "end_time": "2020-04-20T05:55:35.067184Z",
     "start_time": "2020-04-20T05:55:35.056181Z"
    },
    "code_folding": [
     0
    ]
   },
   "outputs": [],
   "source": [
    "def naver_blog_crawling(keyword, start_num=1, end_num=101, date_option=0, date_from='', date_to='', save=True):\n",
    "    '''\n",
    "    네이버 블로그 크롤링 함수\n",
    "    네이버 블로그 검색결과를 크롤링하며, 1페이지당 10개씩을 검색한다\n",
    "\n",
    "    keyword : string\n",
    "     검색하고 싶은 키워드를 넣는다\n",
    "     \"keyword +필수어\" 형태로 필수단어 추가 가능\n",
    "    start_num : int (default = 1) \n",
    "     시작할 위치 1로 끝나는 단위 추천\n",
    "    end_num : int (default = 101)\n",
    "     끝나는 위치 1로 끝나는 단위 추천\n",
    "    date_option : int (default = 0)\n",
    "     주어지는 숫자에 의해 검색방법이 변경됨\n",
    "     0 : 전체, 2 : 1일, 3 : 1주, 4 : 1개월, 6 : 6개월, 7 : 1년, 8 : 기간지정\n",
    "    date_from : YYYYMMDD (default = \"\")\n",
    "     date_option이 8일때 사용 검색 시작일자를 지정\n",
    "    date_to : YYYMMDD (default = \"\")\n",
    "     date_option이 8일때 사용 검색 마지막일자를 지정\n",
    "    save : bool (default = True)\n",
    "     csv로 저장 여부 결정\n",
    "    '''\n",
    "    # url 찾는 패턴\n",
    "    pattern = re.compile('href=\"'+'[A-z0-9\\:\\/\\&\\;\\.\\?\\=]+')\n",
    "\n",
    "    # 저장위치\n",
    "    postdates = []\n",
    "    strings = []\n",
    "    urls = []\n",
    "    titles = []\n",
    "    output_error = []\n",
    "    connection_error = []\n",
    "    count = 1\n",
    "    base_url_ls = []\n",
    "\n",
    "    # keyword와 시작넘버만 바꾸면서 진행하게끔\n",
    "    base_url = 'https://search.naver.com/search.naver?date_from={date_from}&date_option={date_option}&date_to={date_to}&dup_remove=1&nso=&post_blogurl=&post_blogurl_without=&query={keyword}&sm=tab_pge&srchby=all&st=sim&where=post&start={start}'\n",
    "\n",
    "    # for문 돌려야하는 부분(각 검색결과의 시작은 1이고, 10개씩 보여짐,)\n",
    "    for i in tqdm_notebook(range(start_num, end_num+1, 10), desc=\"page work\"):\n",
    "        search_list = base_url.format(keyword=keyword, start=i,\n",
    "                                      date_option=date_option, date_from=date_from, date_to=date_to)\n",
    "        response = requests.get(search_list)\n",
    "        base_url_ls.append(search_list)\n",
    "        if response.status_code is 200:\n",
    "            # 1번 검색시 10개의 결과가 출력 따라서 section은 총 10개\n",
    "            soup = BeautifulSoup(response.content, 'lxml')\n",
    "            sections = soup.findAll('li', attrs={'class': 'sh_blog_top'})\n",
    "\n",
    "            for section in sections:\n",
    "                try:\n",
    "                    # href부분만 가져오기 어려워서 정규표현식으로 검색\n",
    "                    url = re.findall(pattern, str(section))[0].replace(\n",
    "                        '?Redirect=Log&amp;logNo=', '/').replace('href=\"', '')\n",
    "                    title = section.select_one('a.txt84').text\n",
    "                    date = section.select_one('dd.txt_inline').text.strip()\n",
    "\n",
    "                    # 블로그 url안에 들어가기(아직 크롤링불가)\n",
    "                    get_blog_post_content_code = requests.get(url)\n",
    "                    get_blog_post_content_text = get_blog_post_content_code.text\n",
    "                    get_blog_post_content_soup = BeautifulSoup(\n",
    "                        get_blog_post_content_text, 'lxml')\n",
    "\n",
    "                    # 크롤링가능한 url에 접속\n",
    "                    real_blog_post_url = \"http://blog.naver.com\" + \\\n",
    "                        get_blog_post_content_soup.select('#mainFrame')[\n",
    "                            0].get('src')\n",
    "                    get_real_blog_post_content_code = requests.get(\n",
    "                        real_blog_post_url)\n",
    "                    get_real_blog_post_content_text = get_real_blog_post_content_code.text\n",
    "                    get_real_blog_post_content_soup = BeautifulSoup(\n",
    "                        get_real_blog_post_content_text, 'lxml')\n",
    "\n",
    "                    # url (에러나면 위에서부터 에러남)\n",
    "                    urls.append(real_blog_post_url)\n",
    "                    # 블로그명\n",
    "                    titles.append(title)\n",
    "                    # 날짜\n",
    "                    postdates.append(date)\n",
    "\n",
    "                    # 본문  (postviewarea 패턴과 se-main-container 2가지 유형이 있어 분리함)\n",
    "                    try:\n",
    "                        blog_post_content = get_real_blog_post_content_soup.select(\n",
    "                            'div#postViewArea')\n",
    "                        if len(blog_post_content) == 0:\n",
    "                            blog_post_content = get_real_blog_post_content_soup.select(\n",
    "                                'div.se-main-container')\n",
    "                            if len(blog_post_content) == 0:\n",
    "                                blog_post_content = get_real_blog_post_content_soup.select(\n",
    "                                    'div.se_component_wrap.sect_dsc.__se_component_area')\n",
    "\n",
    "                        string = \"\"\n",
    "                        for sentence in blog_post_content[0].stripped_strings:\n",
    "                            string += \" \"+sentence.replace('\\xa0', \" \")\n",
    "                            # 비언어 텍스트제거\n",
    "                            string = del_outword(string)\n",
    "                        #공백에러대처\n",
    "                        blank_check = string.replace(\" \",\"\")\n",
    "                        if len(blank_check) == 0:\n",
    "                            strings.append([\"X\"])\n",
    "                        else : \n",
    "                            strings.append([string])\n",
    "                        count += 1\n",
    "                    except:\n",
    "                        strings.append([\"X\"])\n",
    "                        count += 1\n",
    "\n",
    "                except Exception as ex:\n",
    "                    # print('가져오기에러 {num}번째'.format(num = count),ex)\n",
    "                    output_error.append(count)\n",
    "                    count += 1\n",
    "                    pass\n",
    "        else:\n",
    "            # print('연결오류 {num}번째'.format(num = count),response.status_code)\n",
    "            connection_error.append(count)\n",
    "            count += 1\n",
    "\n",
    "    out_length = len(output_error+connection_error)\n",
    "    real_length = end_num-start_num+10-out_length\n",
    "    crawling_df = pd.DataFrame(\n",
    "        {\"post_dates\": postdates, \"title\": titles, \"full_text\": strings, \"url\": urls})\n",
    "    crawling_df['post_dates'] = crawling_df['post_dates'].apply(\n",
    "        lambda x: time_change(x))\n",
    "\n",
    "    # 중복제거\n",
    "    crawling_df.drop_duplicates(\"url\", inplace=True)\n",
    "    crawling_df.reset_index(drop=True, inplace=True)\n",
    "    real_length = crawling_df.shape[0]\n",
    "\n",
    "    # 결과출력\n",
    "    print(\"검색한 길이:\", end_num-start_num+10)\n",
    "    print(\"제외된 길이:\", out_length)\n",
    "    print(\"검색된 길이:\", real_length)\n",
    "    if save == True:\n",
    "        today = datetime.datetime.today().date()\n",
    "        str(today)\n",
    "        crawling_df.to_csv(str(today)+\"_\"+keyword+\"_\" +\n",
    "                           str(real_length)+'.csv', encoding='utf-8', index=False)\n",
    "#     return strings, urls, postdates\n",
    "    return crawling_df, output_error, real_length"
   ]
  },
  {
   "cell_type": "code",
   "execution_count": 143,
   "metadata": {
    "ExecuteTime": {
     "end_time": "2020-04-20T07:16:55.441687Z",
     "start_time": "2020-04-20T07:16:55.439686Z"
    }
   },
   "outputs": [],
   "source": [
    "# keyword검색시 \"검색어 +필수어\" 형태로 필수단어 삽입가능\n",
    "today = datetime.datetime.today().date()\n",
    "keyword = \"양양 +강원도\"\n",
    "start_num = 1\n",
    "end_num = 701\n",
    "date_option = 8\n",
    "date_from = \"20150101\"\n",
    "date_to = \"20151231\""
   ]
  },
  {
   "cell_type": "code",
   "execution_count": 144,
   "metadata": {
    "ExecuteTime": {
     "end_time": "2020-04-20T07:16:56.130326Z",
     "start_time": "2020-04-20T07:16:56.125617Z"
    }
   },
   "outputs": [],
   "source": [
    "#불용어\n",
    "sw = list(set(['오늘', '시간', '최근', '지난', '관련', '이번', '이날', '현재', '10', '올해', '지난해', '있다', '이상', '기준', '때문',\n",
    "               '메뉴', '강원도', '정도', '도착', '생각', '사진', '위치', '라고','아침', '저녁', '다음', '우리', '시작', '여기', '이곳', '사람',\n",
    "               '여행','바다','해변','다시','역시','하루','이용','하나','준비','정말','바로','저희','한번','모습','마음','보고','아주','그냥','처음',\n",
    "               '지도','보기','상세','전화','저장', '폴더', '가기','장소','팝업','레이스',\"진짜\",\"조금\",\"위해\",\n",
    "              '이다', '많다','좋다','같다','없다','그렇다','이렇다','아니다','안녕하다','가능하다']))"
   ]
  },
  {
   "cell_type": "code",
   "execution_count": 145,
   "metadata": {
    "ExecuteTime": {
     "end_time": "2020-04-20T07:18:42.768714Z",
     "start_time": "2020-04-20T07:16:56.777231Z"
    },
    "scrolled": true
   },
   "outputs": [
    {
     "name": "stderr",
     "output_type": "stream",
     "text": [
      "C:\\Users\\User\\Anaconda3\\lib\\site-packages\\ipykernel_launcher.py:40: TqdmDeprecationWarning: This function will be removed in tqdm==5.0.0\n",
      "Please use `tqdm.notebook.tqdm` instead of `tqdm.tqdm_notebook`\n"
     ]
    },
    {
     "data": {
      "application/vnd.jupyter.widget-view+json": {
       "model_id": "8bc9ecb1dc0c49c880c049b452eac093",
       "version_major": 2,
       "version_minor": 0
      },
      "text/plain": [
       "HBox(children=(FloatProgress(value=0.0, description='page work', max=71.0, style=ProgressStyle(description_wid…"
      ]
     },
     "metadata": {},
     "output_type": "display_data"
    },
    {
     "name": "stdout",
     "output_type": "stream",
     "text": [
      "\n",
      "검색한 길이: 710\n",
      "제외된 길이: 122\n",
      "검색된 길이: 588\n"
     ]
    }
   ],
   "source": [
    "crawling_df, output_error, real_length = naver_blog_crawling(keyword, start_num, end_num, date_option, date_from, date_to, save=False)"
   ]
  },
  {
   "cell_type": "markdown",
   "metadata": {},
   "source": [
    "### 추출된 데이터 일자별 집중도 확인"
   ]
  },
  {
   "cell_type": "code",
   "execution_count": 146,
   "metadata": {
    "ExecuteTime": {
     "end_time": "2020-04-20T07:18:43.519648Z",
     "start_time": "2020-04-20T07:18:43.410860Z"
    },
    "scrolled": true
   },
   "outputs": [
    {
     "data": {
      "image/png": "[encoded data removed]",
      "text/plain": [
       "<Figure size 504x360 with 1 Axes>"
      ]
     },
     "metadata": {},
     "output_type": "display_data"
    }
   ],
   "source": [
    "plt.figure(figsize=(7,5))\n",
    "plt.plot(crawling_df['post_dates'].value_counts().sort_index())\n",
    "plt.xticks(rotation = 45)\n",
    "# plt.savefig(\"./output/\"+str(today)+\"_\"+keyword+\"_\"+str(real_length)+'_날짜빈도'+'.png')\n",
    "plt.show()"
   ]
  },
  {
   "cell_type": "code",
   "execution_count": 147,
   "metadata": {
    "ExecuteTime": {
     "end_time": "2020-04-20T07:18:44.171828Z",
     "start_time": "2020-04-20T07:18:44.169827Z"
    }
   },
   "outputs": [],
   "source": [
    "target = crawling_df['full_text']\n",
    "tagger = okt\n",
    "unique = False\n",
    "save = True"
   ]
  },
  {
   "cell_type": "code",
   "execution_count": 213,
   "metadata": {
    "ExecuteTime": {
     "end_time": "2020-04-20T07:40:29.373072Z",
     "start_time": "2020-04-20T07:39:57.729680Z"
    },
    "scrolled": false
   },
   "outputs": [
    {
     "name": "stderr",
     "output_type": "stream",
     "text": [
      "C:\\Users\\User\\Anaconda3\\lib\\site-packages\\ipykernel_launcher.py:3: TqdmDeprecationWarning: This function will be removed in tqdm==5.0.0\n",
      "Please use `tqdm.notebook.tqdm` instead of `tqdm.tqdm_notebook`\n",
      "  This is separate from the ipykernel package so we can avoid doing imports until\n"
     ]
    },
    {
     "data": {
      "application/vnd.jupyter.widget-view+json": {
       "model_id": "c76fc329360245ad9f3b98444bf747da",
       "version_major": 2,
       "version_minor": 0
      },
      "text/plain": [
       "HBox(children=(FloatProgress(value=0.0, max=588.0), HTML(value='')))"
      ]
     },
     "metadata": {},
     "output_type": "display_data"
    },
    {
     "name": "stdout",
     "output_type": "stream",
     "text": [
      "\n"
     ]
    },
    {
     "data": {
      "text/plain": [
       "(array([ 0,  1,  2,  3,  4,  5,  6,  7,  8,  9, 10, 11, 12, 13, 14, 15, 16,\n",
       "        17, 18, 19]), <a list of 20 Text xticklabel objects>)"
      ]
     },
     "execution_count": 213,
     "metadata": {},
     "output_type": "execute_result"
    },
    {
     "data": {
      "image/png": "[encoded data removed]",
      "text/plain": [
       "<Figure size 504x360 with 1 Axes>"
      ]
     },
     "metadata": {},
     "output_type": "display_data"
    }
   ],
   "source": [
    "all_words =[]\n",
    "\n",
    "for blog_num in tqdm_notebook(range(0,len(crawling_df))):\n",
    "    #블로그 품사태깅\n",
    "    pos_text = okt.pos(target[blog_num][0], norm=True, stem=True)\n",
    "    \n",
    "    pos_text_df = pd.DataFrame(pos_text)\n",
    "    words = pos_text_df[pos_text_df[1].apply(lambda x : (x in \"Noun\") | (x in \"Adjective\"))][0].values\n",
    "    clean_words = list(filter(lambda word : (len(word)>1)&(word not in sw),words))\n",
    "    \n",
    "    if unique == True:\n",
    "        clean_words = list(set(clean_words))\n",
    "    all_words.append(clean_words)\n",
    "\n",
    "#2중리스트 flatten\n",
    "all_word_flatten = [y for x in all_words for y in x]\n",
    "\n",
    "count_df = pd.Series(all_word_flatten).value_counts().reset_index()\n",
    "\n",
    "count_df.columns = ['word','counted']\n",
    "#그래프\n",
    "plt.figure(figsize=(7,5))\n",
    "sns.barplot(x= 'word', y = 'counted', data = count_df.head(20))\n",
    "plt.xticks(rotation = 45)"
   ]
  },
  {
   "cell_type": "code",
   "execution_count": 215,
   "metadata": {
    "ExecuteTime": {
     "end_time": "2020-04-20T07:40:41.407631Z",
     "start_time": "2020-04-20T07:40:41.401629Z"
    }
   },
   "outputs": [
    {
     "data": {
      "text/plain": [
       "[248, 261]"
      ]
     },
     "execution_count": 215,
     "metadata": {},
     "output_type": "execute_result"
    }
   ],
   "source": [
    "#단어위치 확인\n",
    "wordin_ls =[]\n",
    "for i in range(0,len(all_words)):\n",
    "    if '철재' in all_words[i]:\n",
    "        wordin_ls.append(i)\n",
    "wordin_ls"
   ]
  },
  {
   "cell_type": "markdown",
   "metadata": {},
   "source": [
    "### 예제"
   ]
  },
  {
   "cell_type": "code",
   "execution_count": 217,
   "metadata": {
    "ExecuteTime": {
     "end_time": "2020-04-20T07:41:38.422759Z",
     "start_time": "2020-04-20T07:41:38.416758Z"
    }
   },
   "outputs": [],
   "source": [
    "#DTM\n",
    "from sklearn.feature_extraction.text import CountVectorizer\n",
    "corpus = [\n",
    "    'you know I want your love',\n",
    "    'I like you',\n",
    "    'what should I do ',    \n",
    "]\n",
    "vector = CountVectorizer()\n",
    "values = vector.fit_transform(corpus).toarray() # 코퍼스로부터 각 단어의 빈도 수를 기록한다.\n",
    "cols = vector.vocabulary_.keys() # 각 단어의 인덱스가 어떻게 부여되었는지를 보여준다.\n",
    "DTM_df = pd.DataFrame(values,columns= cols)"
   ]
  },
  {
   "cell_type": "code",
   "execution_count": 150,
   "metadata": {
    "ExecuteTime": {
     "end_time": "2020-04-20T07:19:17.000684Z",
     "start_time": "2020-04-20T07:19:16.990681Z"
    }
   },
   "outputs": [],
   "source": [
    "#TF_IDF\n",
    "from sklearn.feature_extraction.text import TfidfVectorizer\n",
    "corpus = [\n",
    "    'you know I want your love',\n",
    "    'I like you',\n",
    "    'what should I do ',    \n",
    "]\n",
    "tfidfv = TfidfVectorizer().fit(corpus)\n",
    "values = tfidfv.transform(corpus).toarray()\n",
    "cols = tfidfv.vocabulary_.keys()\n",
    "\n",
    "TF_IDF_df = pd.DataFrame(values,columns= cols)"
   ]
  },
  {
   "cell_type": "code",
   "execution_count": 235,
   "metadata": {
    "ExecuteTime": {
     "end_time": "2020-04-20T07:46:06.869351Z",
     "start_time": "2020-04-20T07:46:06.865350Z"
    }
   },
   "outputs": [],
   "source": [
    "docs = [\n",
    "  '먹고 싶은 사과',\n",
    "  '먹고 싶은 바나나',\n",
    "  '길고 노란 바나나 바나나',\n",
    "  '저는 과일이 좋아요'\n",
    "] \n",
    "vocab = list(set(w for doc in docs for w in doc.split()))\n",
    "vocab.sort()"
   ]
  },
  {
   "cell_type": "code",
   "execution_count": 238,
   "metadata": {
    "ExecuteTime": {
     "end_time": "2020-04-20T07:47:01.883563Z",
     "start_time": "2020-04-20T07:47:01.881563Z"
    }
   },
   "outputs": [
    {
     "data": {
      "text/plain": [
       "['과일이', '길고', '노란', '먹고', '바나나', '사과', '싶은', '저는', '좋아요']"
      ]
     },
     "execution_count": 238,
     "metadata": {},
     "output_type": "execute_result"
    }
   ],
   "source": [
    "vocab"
   ]
  },
  {
   "cell_type": "code",
   "execution_count": 236,
   "metadata": {
    "ExecuteTime": {
     "end_time": "2020-04-20T07:46:12.781315Z",
     "start_time": "2020-04-20T07:46:12.778323Z"
    }
   },
   "outputs": [],
   "source": [
    "N = len(docs) # 총 문서의 수\n",
    "\n",
    "def tf(t, d):\n",
    "    return d.count(t)\n",
    "\n",
    "def idf(t):\n",
    "    df = 0\n",
    "    for doc in docs:\n",
    "        df += t in doc\n",
    "    return log(N/(df + 1))\n",
    "\n",
    "def tfidf(t, d):\n",
    "    return tf(t,d)* idf(t)"
   ]
  },
  {
   "cell_type": "code",
   "execution_count": 237,
   "metadata": {
    "ExecuteTime": {
     "end_time": "2020-04-20T07:46:20.553911Z",
     "start_time": "2020-04-20T07:46:20.545908Z"
    }
   },
   "outputs": [
    {
     "data": {
      "text/html": [
       "<div>\n",
       "<style scoped>\n",
       "    .dataframe tbody tr th:only-of-type {\n",
       "        vertical-align: middle;\n",
       "    }\n",
       "\n",
       "    .dataframe tbody tr th {\n",
       "        vertical-align: top;\n",
       "    }\n",
       "\n",
       "    .dataframe thead th {\n",
       "        text-align: right;\n",
       "    }\n",
       "</style>\n",
       "<table border=\"1\" class=\"dataframe\">\n",
       "  <thead>\n",
       "    <tr style=\"text-align: right;\">\n",
       "      <th></th>\n",
       "      <th>과일이</th>\n",
       "      <th>길고</th>\n",
       "      <th>노란</th>\n",
       "      <th>먹고</th>\n",
       "      <th>바나나</th>\n",
       "      <th>사과</th>\n",
       "      <th>싶은</th>\n",
       "      <th>저는</th>\n",
       "      <th>좋아요</th>\n",
       "    </tr>\n",
       "  </thead>\n",
       "  <tbody>\n",
       "    <tr>\n",
       "      <td>0</td>\n",
       "      <td>0</td>\n",
       "      <td>0</td>\n",
       "      <td>0</td>\n",
       "      <td>1</td>\n",
       "      <td>0</td>\n",
       "      <td>1</td>\n",
       "      <td>1</td>\n",
       "      <td>0</td>\n",
       "      <td>0</td>\n",
       "    </tr>\n",
       "    <tr>\n",
       "      <td>1</td>\n",
       "      <td>0</td>\n",
       "      <td>0</td>\n",
       "      <td>0</td>\n",
       "      <td>1</td>\n",
       "      <td>1</td>\n",
       "      <td>0</td>\n",
       "      <td>1</td>\n",
       "      <td>0</td>\n",
       "      <td>0</td>\n",
       "    </tr>\n",
       "    <tr>\n",
       "      <td>2</td>\n",
       "      <td>0</td>\n",
       "      <td>1</td>\n",
       "      <td>1</td>\n",
       "      <td>0</td>\n",
       "      <td>2</td>\n",
       "      <td>0</td>\n",
       "      <td>0</td>\n",
       "      <td>0</td>\n",
       "      <td>0</td>\n",
       "    </tr>\n",
       "    <tr>\n",
       "      <td>3</td>\n",
       "      <td>1</td>\n",
       "      <td>0</td>\n",
       "      <td>0</td>\n",
       "      <td>0</td>\n",
       "      <td>0</td>\n",
       "      <td>0</td>\n",
       "      <td>0</td>\n",
       "      <td>1</td>\n",
       "      <td>1</td>\n",
       "    </tr>\n",
       "  </tbody>\n",
       "</table>\n",
       "</div>"
      ],
      "text/plain": [
       "   과일이  길고  노란  먹고  바나나  사과  싶은  저는  좋아요\n",
       "0    0   0   0   1    0   1   1   0    0\n",
       "1    0   0   0   1    1   0   1   0    0\n",
       "2    0   1   1   0    2   0   0   0    0\n",
       "3    1   0   0   0    0   0   0   1    1"
      ]
     },
     "execution_count": 237,
     "metadata": {},
     "output_type": "execute_result"
    }
   ],
   "source": [
    "result = []\n",
    "for i in range(N): # 각 문서에 대해서 아래 명령을 수행\n",
    "    result.append([])\n",
    "    d = docs[i]\n",
    "    for j in range(len(vocab)):\n",
    "        t = vocab[j]        \n",
    "        result[-1].append(tf(t, d))\n",
    "\n",
    "tf_ = pd.DataFrame(result, columns = vocab)\n",
    "tf_"
   ]
  },
  {
   "cell_type": "markdown",
   "metadata": {},
   "source": [
    "### my"
   ]
  },
  {
   "cell_type": "code",
   "execution_count": 278,
   "metadata": {
    "ExecuteTime": {
     "end_time": "2020-04-20T08:02:30.047140Z",
     "start_time": "2020-04-20T08:02:30.042138Z"
    }
   },
   "outputs": [],
   "source": [
    "corpus = list(map(lambda words : \" \".join(words),all_words))"
   ]
  },
  {
   "cell_type": "code",
   "execution_count": 279,
   "metadata": {
    "ExecuteTime": {
     "end_time": "2020-04-20T08:02:30.751877Z",
     "start_time": "2020-04-20T08:02:30.609845Z"
    }
   },
   "outputs": [],
   "source": [
    "vector = CountVectorizer()\n",
    "vector.fit(corpus) #코퍼스로부터 각 단어의 빈도 수를 기록한다.\n",
    "values = vector.transform(corpus).toarray()\n",
    "cols = vector.get_feature_names() # 각 단어의 인덱스가 어떻게 부여되었는지를 보여준다.\n",
    "DTM_df = pd.DataFrame(values,columns= cols)"
   ]
  },
  {
   "cell_type": "code",
   "execution_count": 282,
   "metadata": {
    "ExecuteTime": {
     "end_time": "2020-04-20T08:03:07.454148Z",
     "start_time": "2020-04-20T08:03:07.306114Z"
    }
   },
   "outputs": [],
   "source": [
    "tfidfv = TfidfVectorizer().fit(corpus)\n",
    "values = tfidfv.transform(corpus).toarray()\n",
    "cols = tfidfv.vocabulary_.keys()\n",
    "\n",
    "TF_IDF_df = pd.DataFrame(values,columns= cols)"
   ]
  },
  {
   "cell_type": "code",
   "execution_count": 283,
   "metadata": {
    "ExecuteTime": {
     "end_time": "2020-04-20T08:03:08.324529Z",
     "start_time": "2020-04-20T08:03:08.308526Z"
    }
   },
   "outputs": [],
   "source": [
    "del_cols = DTM_df.sum()[DTM_df.sum()<100].index.values\n",
    "DTM_df = DTM_df.drop(del_cols,axis=1)\n",
    "cols = DTM_df.columns.values\n",
    "word_length = len(cols)\n",
    "count_dict = {}"
   ]
  },
  {
   "cell_type": "markdown",
   "metadata": {},
   "source": [
    "### 단어쌍어떻게해야할지모르겠다 2020-04-20 18:52:33 "
   ]
  },
  {
   "cell_type": "code",
   "execution_count": 503,
   "metadata": {
    "ExecuteTime": {
     "end_time": "2020-04-20T09:45:04.456265Z",
     "start_time": "2020-04-20T09:44:57.343655Z"
    }
   },
   "outputs": [
    {
     "name": "stderr",
     "output_type": "stream",
     "text": [
      "C:\\Users\\User\\Anaconda3\\lib\\site-packages\\ipykernel_launcher.py:2: TqdmDeprecationWarning: This function will be removed in tqdm==5.0.0\n",
      "Please use `tqdm.notebook.tqdm` instead of `tqdm.tqdm_notebook`\n",
      "  \n"
     ]
    },
    {
     "data": {
      "application/vnd.jupyter.widget-view+json": {
       "model_id": "158fbbc29b234019bbe2037254d0a471",
       "version_major": 2,
       "version_minor": 0
      },
      "text/plain": [
       "HBox(children=(FloatProgress(value=0.0, description='단어쌍', max=588.0, style=ProgressStyle(description_width='i…"
      ]
     },
     "metadata": {},
     "output_type": "display_data"
    },
    {
     "name": "stdout",
     "output_type": "stream",
     "text": [
      "\n"
     ]
    }
   ],
   "source": [
    "count_dict = {}\n",
    "for doc_num in tqdm_notebook(range(0, len(DTM_df)),desc = '단어쌍'):\n",
    "    tmp = DTM_df.iloc[doc_num] #현재문서의 단어 출현 빈도\n",
    "    for i, word1 in enumerate(cols[:-1]):\n",
    "#         print(\"---iword\",word1)\n",
    "        for j,word2 in enumerate(cols[i+1:]):\n",
    "            j +=1\n",
    "            if (tmp.values[i]>0)&(tmp.values[j]>0):\n",
    "            #이전에 값이 있으면 받아오고 없으면 0을 리턴하여 계속 축적\n",
    "                count_dict[word1, word2] = count_dict.get((word1,word2), 0) + 1\n",
    "                "
   ]
  },
  {
   "cell_type": "code",
   "execution_count": 504,
   "metadata": {
    "ExecuteTime": {
     "end_time": "2020-04-20T09:45:04.738137Z",
     "start_time": "2020-04-20T09:45:04.725134Z"
    }
   },
   "outputs": [
    {
     "data": {
      "text/html": [
       "<div>\n",
       "<style scoped>\n",
       "    .dataframe tbody tr th:only-of-type {\n",
       "        vertical-align: middle;\n",
       "    }\n",
       "\n",
       "    .dataframe tbody tr th {\n",
       "        vertical-align: top;\n",
       "    }\n",
       "\n",
       "    .dataframe thead th {\n",
       "        text-align: right;\n",
       "    }\n",
       "</style>\n",
       "<table border=\"1\" class=\"dataframe\">\n",
       "  <thead>\n",
       "    <tr style=\"text-align: right;\">\n",
       "      <th></th>\n",
       "      <th>word1</th>\n",
       "      <th>word2</th>\n",
       "      <th>freq</th>\n",
       "    </tr>\n",
       "  </thead>\n",
       "  <tbody>\n",
       "    <tr>\n",
       "      <td>0</td>\n",
       "      <td>맛있다</td>\n",
       "      <td>양양</td>\n",
       "      <td>205</td>\n",
       "    </tr>\n",
       "    <tr>\n",
       "      <td>1</td>\n",
       "      <td>양양</td>\n",
       "      <td>축제</td>\n",
       "      <td>201</td>\n",
       "    </tr>\n",
       "    <tr>\n",
       "      <td>2</td>\n",
       "      <td>맛있다</td>\n",
       "      <td>축제</td>\n",
       "      <td>201</td>\n",
       "    </tr>\n",
       "    <tr>\n",
       "      <td>3</td>\n",
       "      <td>날씨</td>\n",
       "      <td>바람</td>\n",
       "      <td>157</td>\n",
       "    </tr>\n",
       "    <tr>\n",
       "      <td>4</td>\n",
       "      <td>양양</td>\n",
       "      <td>좋아하다</td>\n",
       "      <td>153</td>\n",
       "    </tr>\n",
       "  </tbody>\n",
       "</table>\n",
       "</div>"
      ],
      "text/plain": [
       "  word1 word2  freq\n",
       "0   맛있다    양양   205\n",
       "1    양양    축제   201\n",
       "2   맛있다    축제   201\n",
       "3    날씨    바람   157\n",
       "4    양양  좋아하다   153"
      ]
     },
     "execution_count": 504,
     "metadata": {},
     "output_type": "execute_result"
    }
   ],
   "source": [
    "count_list = []\n",
    "for words in count_dict:\n",
    "    count_list.append([words[0],words[1],count_dict[words]])\n",
    "df = pd.DataFrame(count_list, columns = ['word1','word2','freq'])\n",
    "df = df.sort_values(by='freq',ascending= False)\n",
    "df.reset_index(drop =True,inplace = True)\n",
    "\n",
    "df.head()"
   ]
  },
  {
   "cell_type": "code",
   "execution_count": 490,
   "metadata": {
    "ExecuteTime": {
     "end_time": "2020-04-20T09:40:47.383726Z",
     "start_time": "2020-04-20T09:40:42.353481Z"
    }
   },
   "outputs": [
    {
     "name": "stderr",
     "output_type": "stream",
     "text": [
      "C:\\Users\\User\\Anaconda3\\lib\\site-packages\\ipykernel_launcher.py:3: TqdmDeprecationWarning: This function will be removed in tqdm==5.0.0\n",
      "Please use `tqdm.notebook.tqdm` instead of `tqdm.tqdm_notebook`\n",
      "  This is separate from the ipykernel package so we can avoid doing imports until\n"
     ]
    },
    {
     "data": {
      "application/vnd.jupyter.widget-view+json": {
       "model_id": "1b6ca648cb134cbc8ce608453f9bbd03",
       "version_major": 2,
       "version_minor": 0
      },
      "text/plain": [
       "HBox(children=(FloatProgress(value=0.0, description='단어쌍', max=588.0, style=ProgressStyle(description_width='i…"
      ]
     },
     "metadata": {},
     "output_type": "display_data"
    },
    {
     "name": "stdout",
     "output_type": "stream",
     "text": [
      "\n"
     ]
    }
   ],
   "source": [
    "#참고사이트에서 가져온것_ 가격부터시작해야하는데 가격이없다 뭔가 이상함 또한 횟수사용하는듯?\n",
    "count_dict = {}\n",
    "for doc_num in tqdm_notebook(range(len(DTM_df)),desc = '단어쌍'):\n",
    "    tmp = DTM_df.loc[doc_num] #현재문서의 단어 출현 빈도\n",
    "    for i, word1 in enumerate(cols):\n",
    "        if tmp[word1]: #현재문서에 첫번째 단어가 존재할 경우\n",
    "            for j in range(i+1, word_length):\n",
    "                if tmp[cols[j]]:\n",
    "                    count_dict[cols[i], cols[j]] = count_dict.get((cols[i],cols[j]), 0) + max(tmp[word1],tmp[cols[j]])"
   ]
  },
  {
   "cell_type": "code",
   "execution_count": 502,
   "metadata": {
    "ExecuteTime": {
     "end_time": "2020-04-20T09:44:50.973272Z",
     "start_time": "2020-04-20T09:44:50.961277Z"
    }
   },
   "outputs": [
    {
     "data": {
      "text/html": [
       "<div>\n",
       "<style scoped>\n",
       "    .dataframe tbody tr th:only-of-type {\n",
       "        vertical-align: middle;\n",
       "    }\n",
       "\n",
       "    .dataframe tbody tr th {\n",
       "        vertical-align: top;\n",
       "    }\n",
       "\n",
       "    .dataframe thead th {\n",
       "        text-align: right;\n",
       "    }\n",
       "</style>\n",
       "<table border=\"1\" class=\"dataframe\">\n",
       "  <thead>\n",
       "    <tr style=\"text-align: right;\">\n",
       "      <th></th>\n",
       "      <th>word1</th>\n",
       "      <th>word2</th>\n",
       "      <th>freq</th>\n",
       "    </tr>\n",
       "  </thead>\n",
       "  <tbody>\n",
       "    <tr>\n",
       "      <td>0</td>\n",
       "      <td>낙산사</td>\n",
       "      <td>양양</td>\n",
       "      <td>891</td>\n",
       "    </tr>\n",
       "    <tr>\n",
       "      <td>1</td>\n",
       "      <td>맛있다</td>\n",
       "      <td>양양</td>\n",
       "      <td>815</td>\n",
       "    </tr>\n",
       "    <tr>\n",
       "      <td>2</td>\n",
       "      <td>양양</td>\n",
       "      <td>펜션</td>\n",
       "      <td>781</td>\n",
       "    </tr>\n",
       "    <tr>\n",
       "      <td>3</td>\n",
       "      <td>동해</td>\n",
       "      <td>양양</td>\n",
       "      <td>656</td>\n",
       "    </tr>\n",
       "    <tr>\n",
       "      <td>4</td>\n",
       "      <td>낙산사</td>\n",
       "      <td>해수</td>\n",
       "      <td>562</td>\n",
       "    </tr>\n",
       "  </tbody>\n",
       "</table>\n",
       "</div>"
      ],
      "text/plain": [
       "  word1 word2  freq\n",
       "0   낙산사    양양   891\n",
       "1   맛있다    양양   815\n",
       "2    양양    펜션   781\n",
       "3    동해    양양   656\n",
       "4   낙산사    해수   562"
      ]
     },
     "execution_count": 502,
     "metadata": {},
     "output_type": "execute_result"
    }
   ],
   "source": [
    "count_list = []\n",
    "for words in count_dict:\n",
    "    count_list.append([words[0],words[1],count_dict[words]])\n",
    "df = pd.DataFrame(count_list, columns = ['word1','word2','freq'])\n",
    "df = df.sort_values(by='freq',ascending= False)\n",
    "df.reset_index(drop =True,inplace = True)\n",
    "\n",
    "df.head()"
   ]
  },
  {
   "cell_type": "markdown",
   "metadata": {},
   "source": [
    "### 네크워크그리기"
   ]
  },
  {
   "cell_type": "code",
   "execution_count": 509,
   "metadata": {
    "ExecuteTime": {
     "end_time": "2020-04-20T09:47:05.627373Z",
     "start_time": "2020-04-20T09:47:05.605368Z"
    }
   },
   "outputs": [],
   "source": [
    "import networkx as nx\n",
    "import operator\n",
    "G_centrality = nx.Graph()\n",
    "for ind in range((len(np.where(df['freq'] >=100)[0]))):\n",
    "    G_centrality.add_edge(df['word1'][ind],df['word2'][ind], weight = int(df['freq'][ind]))\n",
    "dgr = nx.degree_centrality(G_centrality) #연결중심성\n",
    "btw = nx.betweenness_centrality(G_centrality) #매개중심성\n",
    "cls = nx.closeness_centrality(G_centrality) # 근접중심성\n",
    "egv = nx.eigenvector_centrality(G_centrality) # 고유백터중심성\n",
    "pgr = nx.pagerank(G_centrality) # 페이지 랭크\n"
   ]
  },
  {
   "cell_type": "code",
   "execution_count": 510,
   "metadata": {
    "ExecuteTime": {
     "end_time": "2020-04-20T09:47:05.631367Z",
     "start_time": "2020-04-20T09:47:05.628373Z"
    }
   },
   "outputs": [],
   "source": [
    "sorted_dgr = sorted(dgr.items(),key=operator.itemgetter(1), reverse = True)\n",
    "sorted_btw = sorted(btw.items(),key=operator.itemgetter(1), reverse = True)\n",
    "sorted_cls = sorted(cls.items(),key=operator.itemgetter(1), reverse = True)\n",
    "sorted_egv = sorted(egv.items(),key=operator.itemgetter(1), reverse = True)\n",
    "sorted_pgr = sorted(pgr.items(),key=operator.itemgetter(1), reverse = True)"
   ]
  },
  {
   "cell_type": "code",
   "execution_count": 511,
   "metadata": {
    "ExecuteTime": {
     "end_time": "2020-04-20T09:47:05.633367Z",
     "start_time": "2020-04-20T09:47:05.632366Z"
    }
   },
   "outputs": [],
   "source": [
    "#네트워크 그릴 그래프 선언\n",
    "G = nx.Graph()"
   ]
  },
  {
   "cell_type": "code",
   "execution_count": 512,
   "metadata": {
    "ExecuteTime": {
     "end_time": "2020-04-20T09:47:05.638368Z",
     "start_time": "2020-04-20T09:47:05.634367Z"
    }
   },
   "outputs": [],
   "source": [
    "#페이지 랭크에 따라 두 노드사이 연관성 결정\n",
    "for i in range(len(sorted_pgr)):\n",
    "    G.add_node(sorted_pgr[i][0], nodesize = sorted_dgr[i][1])\n",
    "for ind in range((len(np.where(df['freq']>=100)[0]))):\n",
    "    G.add_weighted_edges_from([(df['word1'][ind],df['word2'][ind],int(df['freq'][ind]))])"
   ]
  },
  {
   "cell_type": "code",
   "execution_count": 513,
   "metadata": {
    "ExecuteTime": {
     "end_time": "2020-04-20T09:47:05.641369Z",
     "start_time": "2020-04-20T09:47:05.639367Z"
    }
   },
   "outputs": [],
   "source": [
    "#노드크기\n",
    "sizes = [G.nodes[node]['nodesize']*500 for node in G]"
   ]
  },
  {
   "cell_type": "code",
   "execution_count": 514,
   "metadata": {
    "ExecuteTime": {
     "end_time": "2020-04-20T09:47:05.644369Z",
     "start_time": "2020-04-20T09:47:05.641369Z"
    }
   },
   "outputs": [],
   "source": [
    "#컬러, 라벨다는 것 등 \n",
    "options = {\n",
    "    'edge_color' : '#FFDEA2',\n",
    "    'node_color' : 'lightpink',\n",
    "    'width':1,\n",
    "    'with_labels':True,\n",
    "    'font_weight':'regular'\n",
    "}"
   ]
  },
  {
   "cell_type": "code",
   "execution_count": 515,
   "metadata": {
    "ExecuteTime": {
     "end_time": "2020-04-20T09:47:06.187501Z",
     "start_time": "2020-04-20T09:47:05.644369Z"
    }
   },
   "outputs": [],
   "source": [
    "import matplotlib.font_manager as fm\n",
    "fm._rebuild()\n",
    "font_fname = \"c:/Windows/Fonts/malgun.ttf\"\n",
    "fontprop = fm.FontProperties(fname=font_fname, size = 18).get_name()"
   ]
  },
  {
   "cell_type": "code",
   "execution_count": 516,
   "metadata": {
    "ExecuteTime": {
     "end_time": "2020-04-20T09:47:06.384537Z",
     "start_time": "2020-04-20T09:47:06.188502Z"
    }
   },
   "outputs": [
    {
     "name": "stderr",
     "output_type": "stream",
     "text": [
      "C:\\Users\\User\\Anaconda3\\lib\\site-packages\\networkx\\drawing\\nx_pylab.py:563: MatplotlibDeprecationWarning: \n",
      "The iterable function was deprecated in Matplotlib 3.1 and will be removed in 3.3. Use np.iterable instead.\n",
      "  if not cb.iterable(width):\n",
      "C:\\Users\\User\\Anaconda3\\lib\\site-packages\\networkx\\drawing\\nx_pylab.py:611: MatplotlibDeprecationWarning: \n",
      "The is_numlike function was deprecated in Matplotlib 3.0 and will be removed in 3.2. Use isinstance(..., numbers.Number) instead.\n",
      "  if cb.is_numlike(alpha):\n"
     ]
    },
    {
     "data": {
      "image/png": "[encoded data removed]",
      "text/plain": [
       "<Figure size 1080x1080 with 1 Axes>"
      ]
     },
     "metadata": {},
     "output_type": "display_data"
    }
   ],
   "source": [
    "plt.figure(figsize= (15,15))\n",
    "nx.draw(G,node_size=sizes, pos = nx.spring_layout(G, k=3.5, iterations= 100), **options, font_family=fontprop)\n",
    "ax = plt.gca()\n",
    "ax.collections[0].set_edgecolor(\"#555555\")"
   ]
  },
  {
   "cell_type": "markdown",
   "metadata": {},
   "source": [
    "### 연관분석"
   ]
  },
  {
   "cell_type": "code",
   "execution_count": 38,
   "metadata": {
    "ExecuteTime": {
     "end_time": "2020-04-16T02:19:55.939509Z",
     "start_time": "2020-04-16T02:19:55.200973Z"
    }
   },
   "outputs": [],
   "source": [
    "rules = apriori(all_words, min_support=0.1, min_condience =0.1)\n",
    "results  = list(rules)\n",
    "\n",
    "results_df = pd.DataFrame(columns =[\"lhs\",'rhs','support','confidence','lift'])\n",
    "index =0\n",
    "for row in results:   \n",
    "    support = row[1]\n",
    "    ordered_stat = row[2]\n",
    "    for ordered_item in ordered_stat:\n",
    "        lhs = \" \".join(x for x in ordered_item[0])\n",
    "        rhs = \" \".join(x for x in ordered_item[1])\n",
    "        confidence = ordered_item[2]\n",
    "        lift = ordered_item[3]\n",
    "        results_df.loc[index] = [lhs,rhs,support,confidence,lift]\n",
    "        index = index +1\n",
    "\n",
    "results_df = results_df.sort_values(by=\"lift\",ascending=False)"
   ]
  },
  {
   "cell_type": "code",
   "execution_count": 39,
   "metadata": {
    "ExecuteTime": {
     "end_time": "2020-04-16T02:19:56.025337Z",
     "start_time": "2020-04-16T02:19:56.014334Z"
    },
    "scrolled": false
   },
   "outputs": [
    {
     "data": {
      "text/html": [
       "<div>\n",
       "<style scoped>\n",
       "    .dataframe tbody tr th:only-of-type {\n",
       "        vertical-align: middle;\n",
       "    }\n",
       "\n",
       "    .dataframe tbody tr th {\n",
       "        vertical-align: top;\n",
       "    }\n",
       "\n",
       "    .dataframe thead th {\n",
       "        text-align: right;\n",
       "    }\n",
       "</style>\n",
       "<table border=\"1\" class=\"dataframe\">\n",
       "  <thead>\n",
       "    <tr style=\"text-align: right;\">\n",
       "      <th></th>\n",
       "      <th>lhs</th>\n",
       "      <th>rhs</th>\n",
       "      <th>support</th>\n",
       "      <th>confidence</th>\n",
       "      <th>lift</th>\n",
       "    </tr>\n",
       "  </thead>\n",
       "  <tbody>\n",
       "    <tr>\n",
       "      <td>175</td>\n",
       "      <td>마켓</td>\n",
       "      <td>비치</td>\n",
       "      <td>0.136612</td>\n",
       "      <td>0.961538</td>\n",
       "      <td>5.278846</td>\n",
       "    </tr>\n",
       "    <tr>\n",
       "      <td>176</td>\n",
       "      <td>비치</td>\n",
       "      <td>마켓</td>\n",
       "      <td>0.136612</td>\n",
       "      <td>0.750000</td>\n",
       "      <td>5.278846</td>\n",
       "    </tr>\n",
       "    <tr>\n",
       "      <td>170</td>\n",
       "      <td>송이</td>\n",
       "      <td>등대</td>\n",
       "      <td>0.100182</td>\n",
       "      <td>0.785714</td>\n",
       "      <td>4.493304</td>\n",
       "    </tr>\n",
       "    <tr>\n",
       "      <td>169</td>\n",
       "      <td>등대</td>\n",
       "      <td>송이</td>\n",
       "      <td>0.100182</td>\n",
       "      <td>0.572917</td>\n",
       "      <td>4.493304</td>\n",
       "    </tr>\n",
       "    <tr>\n",
       "      <td>382</td>\n",
       "      <td>등대</td>\n",
       "      <td>물치항 바다</td>\n",
       "      <td>0.118397</td>\n",
       "      <td>0.677083</td>\n",
       "      <td>2.926919</td>\n",
       "    </tr>\n",
       "    <tr>\n",
       "      <td>387</td>\n",
       "      <td>물치항 바다</td>\n",
       "      <td>등대</td>\n",
       "      <td>0.118397</td>\n",
       "      <td>0.511811</td>\n",
       "      <td>2.926919</td>\n",
       "    </tr>\n",
       "    <tr>\n",
       "      <td>136</td>\n",
       "      <td>국물</td>\n",
       "      <td>맛있다</td>\n",
       "      <td>0.109290</td>\n",
       "      <td>0.810811</td>\n",
       "      <td>2.459310</td>\n",
       "    </tr>\n",
       "    <tr>\n",
       "      <td>137</td>\n",
       "      <td>맛있다</td>\n",
       "      <td>국물</td>\n",
       "      <td>0.109290</td>\n",
       "      <td>0.331492</td>\n",
       "      <td>2.459310</td>\n",
       "    </tr>\n",
       "    <tr>\n",
       "      <td>178</td>\n",
       "      <td>맛있다</td>\n",
       "      <td>맛집</td>\n",
       "      <td>0.138434</td>\n",
       "      <td>0.419890</td>\n",
       "      <td>2.305193</td>\n",
       "    </tr>\n",
       "    <tr>\n",
       "      <td>179</td>\n",
       "      <td>맛집</td>\n",
       "      <td>맛있다</td>\n",
       "      <td>0.138434</td>\n",
       "      <td>0.760000</td>\n",
       "      <td>2.305193</td>\n",
       "    </tr>\n",
       "    <tr>\n",
       "      <td>383</td>\n",
       "      <td>물치항</td>\n",
       "      <td>등대 바다</td>\n",
       "      <td>0.118397</td>\n",
       "      <td>0.311005</td>\n",
       "      <td>2.161286</td>\n",
       "    </tr>\n",
       "    <tr>\n",
       "      <td>386</td>\n",
       "      <td>등대 바다</td>\n",
       "      <td>물치항</td>\n",
       "      <td>0.118397</td>\n",
       "      <td>0.822785</td>\n",
       "      <td>2.161286</td>\n",
       "    </tr>\n",
       "    <tr>\n",
       "      <td>229</td>\n",
       "      <td>물치항</td>\n",
       "      <td>센터</td>\n",
       "      <td>0.131148</td>\n",
       "      <td>0.344498</td>\n",
       "      <td>2.149195</td>\n",
       "    </tr>\n",
       "    <tr>\n",
       "      <td>230</td>\n",
       "      <td>센터</td>\n",
       "      <td>물치항</td>\n",
       "      <td>0.131148</td>\n",
       "      <td>0.818182</td>\n",
       "      <td>2.149195</td>\n",
       "    </tr>\n",
       "    <tr>\n",
       "      <td>164</td>\n",
       "      <td>물치항</td>\n",
       "      <td>등대</td>\n",
       "      <td>0.140255</td>\n",
       "      <td>0.368421</td>\n",
       "      <td>2.106908</td>\n",
       "    </tr>\n",
       "    <tr>\n",
       "      <td>163</td>\n",
       "      <td>등대</td>\n",
       "      <td>물치항</td>\n",
       "      <td>0.140255</td>\n",
       "      <td>0.802083</td>\n",
       "      <td>2.106908</td>\n",
       "    </tr>\n",
       "    <tr>\n",
       "      <td>375</td>\n",
       "      <td>동해</td>\n",
       "      <td>물치항 바다</td>\n",
       "      <td>0.102004</td>\n",
       "      <td>0.482759</td>\n",
       "      <td>2.086886</td>\n",
       "    </tr>\n",
       "    <tr>\n",
       "      <td>380</td>\n",
       "      <td>물치항 바다</td>\n",
       "      <td>동해</td>\n",
       "      <td>0.102004</td>\n",
       "      <td>0.440945</td>\n",
       "      <td>2.086886</td>\n",
       "    </tr>\n",
       "    <tr>\n",
       "      <td>384</td>\n",
       "      <td>바다</td>\n",
       "      <td>등대 물치항</td>\n",
       "      <td>0.118397</td>\n",
       "      <td>0.290179</td>\n",
       "      <td>2.068936</td>\n",
       "    </tr>\n",
       "    <tr>\n",
       "      <td>385</td>\n",
       "      <td>등대 물치항</td>\n",
       "      <td>바다</td>\n",
       "      <td>0.118397</td>\n",
       "      <td>0.844156</td>\n",
       "      <td>2.068936</td>\n",
       "    </tr>\n",
       "    <tr>\n",
       "      <td>199</td>\n",
       "      <td>맛있다</td>\n",
       "      <td>좋아하다</td>\n",
       "      <td>0.118397</td>\n",
       "      <td>0.359116</td>\n",
       "      <td>2.032523</td>\n",
       "    </tr>\n",
       "    <tr>\n",
       "      <td>200</td>\n",
       "      <td>좋아하다</td>\n",
       "      <td>맛있다</td>\n",
       "      <td>0.118397</td>\n",
       "      <td>0.670103</td>\n",
       "      <td>2.032523</td>\n",
       "    </tr>\n",
       "    <tr>\n",
       "      <td>167</td>\n",
       "      <td>바다</td>\n",
       "      <td>등대</td>\n",
       "      <td>0.143898</td>\n",
       "      <td>0.352679</td>\n",
       "      <td>2.016881</td>\n",
       "    </tr>\n",
       "    <tr>\n",
       "      <td>166</td>\n",
       "      <td>등대</td>\n",
       "      <td>바다</td>\n",
       "      <td>0.143898</td>\n",
       "      <td>0.822917</td>\n",
       "      <td>2.016881</td>\n",
       "    </tr>\n",
       "    <tr>\n",
       "      <td>212</td>\n",
       "      <td>바다</td>\n",
       "      <td>멋지다</td>\n",
       "      <td>0.107468</td>\n",
       "      <td>0.263393</td>\n",
       "      <td>1.954090</td>\n",
       "    </tr>\n",
       "    <tr>\n",
       "      <td>211</td>\n",
       "      <td>멋지다</td>\n",
       "      <td>바다</td>\n",
       "      <td>0.107468</td>\n",
       "      <td>0.797297</td>\n",
       "      <td>1.954090</td>\n",
       "    </tr>\n",
       "    <tr>\n",
       "      <td>414</td>\n",
       "      <td>해변 물치항</td>\n",
       "      <td>바다</td>\n",
       "      <td>0.134791</td>\n",
       "      <td>0.787234</td>\n",
       "      <td>1.929426</td>\n",
       "    </tr>\n",
       "    <tr>\n",
       "      <td>411</td>\n",
       "      <td>바다</td>\n",
       "      <td>해변 물치항</td>\n",
       "      <td>0.134791</td>\n",
       "      <td>0.330357</td>\n",
       "      <td>1.929426</td>\n",
       "    </tr>\n",
       "    <tr>\n",
       "      <td>377</td>\n",
       "      <td>바다</td>\n",
       "      <td>물치항 동해</td>\n",
       "      <td>0.102004</td>\n",
       "      <td>0.250000</td>\n",
       "      <td>1.906250</td>\n",
       "    </tr>\n",
       "    <tr>\n",
       "      <td>378</td>\n",
       "      <td>물치항 동해</td>\n",
       "      <td>바다</td>\n",
       "      <td>0.102004</td>\n",
       "      <td>0.777778</td>\n",
       "      <td>1.906250</td>\n",
       "    </tr>\n",
       "    <tr>\n",
       "      <td>352</td>\n",
       "      <td>파도</td>\n",
       "      <td>해변</td>\n",
       "      <td>0.120219</td>\n",
       "      <td>0.702128</td>\n",
       "      <td>1.889549</td>\n",
       "    </tr>\n",
       "    <tr>\n",
       "      <td>353</td>\n",
       "      <td>해변</td>\n",
       "      <td>파도</td>\n",
       "      <td>0.120219</td>\n",
       "      <td>0.323529</td>\n",
       "      <td>1.889549</td>\n",
       "    </tr>\n",
       "    <tr>\n",
       "      <td>118</td>\n",
       "      <td>강현면</td>\n",
       "      <td>장소</td>\n",
       "      <td>0.102004</td>\n",
       "      <td>0.266667</td>\n",
       "      <td>1.853165</td>\n",
       "    </tr>\n",
       "    <tr>\n",
       "      <td>119</td>\n",
       "      <td>장소</td>\n",
       "      <td>강현면</td>\n",
       "      <td>0.102004</td>\n",
       "      <td>0.708861</td>\n",
       "      <td>1.853165</td>\n",
       "    </tr>\n",
       "    <tr>\n",
       "      <td>277</td>\n",
       "      <td>바다</td>\n",
       "      <td>파도</td>\n",
       "      <td>0.129326</td>\n",
       "      <td>0.316964</td>\n",
       "      <td>1.851206</td>\n",
       "    </tr>\n",
       "    <tr>\n",
       "      <td>278</td>\n",
       "      <td>파도</td>\n",
       "      <td>바다</td>\n",
       "      <td>0.129326</td>\n",
       "      <td>0.755319</td>\n",
       "      <td>1.851206</td>\n",
       "    </tr>\n",
       "    <tr>\n",
       "      <td>196</td>\n",
       "      <td>맛있다</td>\n",
       "      <td>정말</td>\n",
       "      <td>0.136612</td>\n",
       "      <td>0.414365</td>\n",
       "      <td>1.834566</td>\n",
       "    </tr>\n",
       "    <tr>\n",
       "      <td>197</td>\n",
       "      <td>정말</td>\n",
       "      <td>맛있다</td>\n",
       "      <td>0.136612</td>\n",
       "      <td>0.604839</td>\n",
       "      <td>1.834566</td>\n",
       "    </tr>\n",
       "    <tr>\n",
       "      <td>140</td>\n",
       "      <td>맛있다</td>\n",
       "      <td>그냥</td>\n",
       "      <td>0.109290</td>\n",
       "      <td>0.331492</td>\n",
       "      <td>1.819890</td>\n",
       "    </tr>\n",
       "    <tr>\n",
       "      <td>139</td>\n",
       "      <td>그냥</td>\n",
       "      <td>맛있다</td>\n",
       "      <td>0.109290</td>\n",
       "      <td>0.600000</td>\n",
       "      <td>1.819890</td>\n",
       "    </tr>\n",
       "    <tr>\n",
       "      <td>421</td>\n",
       "      <td>바다 속초</td>\n",
       "      <td>바로</td>\n",
       "      <td>0.118397</td>\n",
       "      <td>0.580357</td>\n",
       "      <td>1.800091</td>\n",
       "    </tr>\n",
       "    <tr>\n",
       "      <td>418</td>\n",
       "      <td>바로</td>\n",
       "      <td>바다 속초</td>\n",
       "      <td>0.118397</td>\n",
       "      <td>0.367232</td>\n",
       "      <td>1.800091</td>\n",
       "    </tr>\n",
       "    <tr>\n",
       "      <td>379</td>\n",
       "      <td>동해 바다</td>\n",
       "      <td>물치항</td>\n",
       "      <td>0.102004</td>\n",
       "      <td>0.674699</td>\n",
       "      <td>1.772295</td>\n",
       "    </tr>\n",
       "    <tr>\n",
       "      <td>376</td>\n",
       "      <td>물치항</td>\n",
       "      <td>동해 바다</td>\n",
       "      <td>0.102004</td>\n",
       "      <td>0.267943</td>\n",
       "      <td>1.772295</td>\n",
       "    </tr>\n",
       "    <tr>\n",
       "      <td>173</td>\n",
       "      <td>해변</td>\n",
       "      <td>등대</td>\n",
       "      <td>0.114754</td>\n",
       "      <td>0.308824</td>\n",
       "      <td>1.766085</td>\n",
       "    </tr>\n",
       "    <tr>\n",
       "      <td>172</td>\n",
       "      <td>등대</td>\n",
       "      <td>해변</td>\n",
       "      <td>0.114754</td>\n",
       "      <td>0.656250</td>\n",
       "      <td>1.766085</td>\n",
       "    </tr>\n",
       "    <tr>\n",
       "      <td>250</td>\n",
       "      <td>바다</td>\n",
       "      <td>보고</td>\n",
       "      <td>0.134791</td>\n",
       "      <td>0.330357</td>\n",
       "      <td>1.760836</td>\n",
       "    </tr>\n",
       "    <tr>\n",
       "      <td>251</td>\n",
       "      <td>보고</td>\n",
       "      <td>바다</td>\n",
       "      <td>0.134791</td>\n",
       "      <td>0.718447</td>\n",
       "      <td>1.760836</td>\n",
       "    </tr>\n",
       "    <tr>\n",
       "      <td>443</td>\n",
       "      <td>해변 속초</td>\n",
       "      <td>바로</td>\n",
       "      <td>0.102004</td>\n",
       "      <td>0.565657</td>\n",
       "      <td>1.754494</td>\n",
       "    </tr>\n",
       "    <tr>\n",
       "      <td>438</td>\n",
       "      <td>바로</td>\n",
       "      <td>해변 속초</td>\n",
       "      <td>0.102004</td>\n",
       "      <td>0.316384</td>\n",
       "      <td>1.754494</td>\n",
       "    </tr>\n",
       "  </tbody>\n",
       "</table>\n",
       "</div>"
      ],
      "text/plain": [
       "        lhs     rhs   support  confidence      lift\n",
       "175      마켓      비치  0.136612    0.961538  5.278846\n",
       "176      비치      마켓  0.136612    0.750000  5.278846\n",
       "170      송이      등대  0.100182    0.785714  4.493304\n",
       "169      등대      송이  0.100182    0.572917  4.493304\n",
       "382      등대  물치항 바다  0.118397    0.677083  2.926919\n",
       "387  물치항 바다      등대  0.118397    0.511811  2.926919\n",
       "136      국물     맛있다  0.109290    0.810811  2.459310\n",
       "137     맛있다      국물  0.109290    0.331492  2.459310\n",
       "178     맛있다      맛집  0.138434    0.419890  2.305193\n",
       "179      맛집     맛있다  0.138434    0.760000  2.305193\n",
       "383     물치항   등대 바다  0.118397    0.311005  2.161286\n",
       "386   등대 바다     물치항  0.118397    0.822785  2.161286\n",
       "229     물치항      센터  0.131148    0.344498  2.149195\n",
       "230      센터     물치항  0.131148    0.818182  2.149195\n",
       "164     물치항      등대  0.140255    0.368421  2.106908\n",
       "163      등대     물치항  0.140255    0.802083  2.106908\n",
       "375      동해  물치항 바다  0.102004    0.482759  2.086886\n",
       "380  물치항 바다      동해  0.102004    0.440945  2.086886\n",
       "384      바다  등대 물치항  0.118397    0.290179  2.068936\n",
       "385  등대 물치항      바다  0.118397    0.844156  2.068936\n",
       "199     맛있다    좋아하다  0.118397    0.359116  2.032523\n",
       "200    좋아하다     맛있다  0.118397    0.670103  2.032523\n",
       "167      바다      등대  0.143898    0.352679  2.016881\n",
       "166      등대      바다  0.143898    0.822917  2.016881\n",
       "212      바다     멋지다  0.107468    0.263393  1.954090\n",
       "211     멋지다      바다  0.107468    0.797297  1.954090\n",
       "414  해변 물치항      바다  0.134791    0.787234  1.929426\n",
       "411      바다  해변 물치항  0.134791    0.330357  1.929426\n",
       "377      바다  물치항 동해  0.102004    0.250000  1.906250\n",
       "378  물치항 동해      바다  0.102004    0.777778  1.906250\n",
       "352      파도      해변  0.120219    0.702128  1.889549\n",
       "353      해변      파도  0.120219    0.323529  1.889549\n",
       "118     강현면      장소  0.102004    0.266667  1.853165\n",
       "119      장소     강현면  0.102004    0.708861  1.853165\n",
       "277      바다      파도  0.129326    0.316964  1.851206\n",
       "278      파도      바다  0.129326    0.755319  1.851206\n",
       "196     맛있다      정말  0.136612    0.414365  1.834566\n",
       "197      정말     맛있다  0.136612    0.604839  1.834566\n",
       "140     맛있다      그냥  0.109290    0.331492  1.819890\n",
       "139      그냥     맛있다  0.109290    0.600000  1.819890\n",
       "421   바다 속초      바로  0.118397    0.580357  1.800091\n",
       "418      바로   바다 속초  0.118397    0.367232  1.800091\n",
       "379   동해 바다     물치항  0.102004    0.674699  1.772295\n",
       "376     물치항   동해 바다  0.102004    0.267943  1.772295\n",
       "173      해변      등대  0.114754    0.308824  1.766085\n",
       "172      등대      해변  0.114754    0.656250  1.766085\n",
       "250      바다      보고  0.134791    0.330357  1.760836\n",
       "251      보고      바다  0.134791    0.718447  1.760836\n",
       "443   해변 속초      바로  0.102004    0.565657  1.754494\n",
       "438      바로   해변 속초  0.102004    0.316384  1.754494"
      ]
     },
     "execution_count": 39,
     "metadata": {},
     "output_type": "execute_result"
    }
   ],
   "source": [
    "results_df.head(50)"
   ]
  },
  {
   "cell_type": "markdown",
   "metadata": {},
   "source": [
    "# 검수용코드"
   ]
  },
  {
   "cell_type": "code",
   "execution_count": 128,
   "metadata": {
    "ExecuteTime": {
     "end_time": "2020-04-07T01:13:48.758523Z",
     "start_time": "2020-04-07T01:13:48.755499Z"
    }
   },
   "outputs": [],
   "source": [
    "# real_blog_post_url = 'http://blog.naver.com/PostView.nhn?blogId=kjakfldh&logNo=221008785961&redirect=Dlog&widgetTypeCall=true&directAccess=false'\n",
    "# real_blog_post_url = 'http://blog.naver.com/PostView.nhn?blogId=ghskal&logNo=220806425747&redirect=Dlog&widgetTypeCall=true&directAccess=false'\n",
    "real_blog_post_url = 'http://blog.naver.com/PostView.nhn?blogId=skygirleunji&logNo=221620476332&redirect=Dlog&widgetTypeCall=true&directAccess=false'"
   ]
  },
  {
   "cell_type": "code",
   "execution_count": 129,
   "metadata": {
    "ExecuteTime": {
     "end_time": "2020-04-07T01:13:49.683273Z",
     "start_time": "2020-04-07T01:13:49.540245Z"
    }
   },
   "outputs": [],
   "source": [
    "get_real_blog_post_content_code = requests.get(real_blog_post_url)\n",
    "get_real_blog_post_content_text = get_real_blog_post_content_code.text\n",
    "get_real_blog_post_content_soup = BeautifulSoup(get_real_blog_post_content_text, 'lxml')"
   ]
  },
  {
   "cell_type": "code",
   "execution_count": 130,
   "metadata": {
    "ExecuteTime": {
     "end_time": "2020-04-07T01:13:50.334034Z",
     "start_time": "2020-04-07T01:13:50.331034Z"
    }
   },
   "outputs": [],
   "source": [
    "blog_post_content = get_real_blog_post_content_soup.select('div#postViewArea')\n",
    "if len(blog_post_content) == 0:\n",
    "    blog_post_content = get_real_blog_post_content_soup.select('div.se-main-container')\n",
    "    if len(blog_post_content) == 0:\n",
    "        blog_post_content = get_real_blog_post_content_soup.select('div.se_component_wrap.sect_dsc.__se_component_area')"
   ]
  },
  {
   "cell_type": "code",
   "execution_count": 137,
   "metadata": {
    "ExecuteTime": {
     "end_time": "2020-04-07T01:17:07.526559Z",
     "start_time": "2020-04-07T01:17:07.523559Z"
    }
   },
   "outputs": [],
   "source": [
    "string = crawling_df['full_text'][i][0]"
   ]
  },
  {
   "cell_type": "code",
   "execution_count": 132,
   "metadata": {
    "ExecuteTime": {
     "end_time": "2020-04-07T01:13:51.814092Z",
     "start_time": "2020-04-07T01:13:51.811008Z"
    }
   },
   "outputs": [],
   "source": [
    "strings = []\n",
    "string = \"\"\n",
    "for sentence in blog_post_content[0].stripped_strings:\n",
    "    string += \" \"+sentence.replace('\\xa0', \" \")\n",
    "    # 비언어 텍스트제거\n",
    "    string = del_outword(string)\n",
    "blank_check = string.replace(\" \",\"\")\n",
    "if len(blank_check) == 0:\n",
    "    strings.append([\"X\"])\n",
    "else : \n",
    "    strings.append([string])\n"
   ]
  },
  {
   "cell_type": "code",
   "execution_count": 133,
   "metadata": {
    "ExecuteTime": {
     "end_time": "2020-04-02T04:56:49.397372Z",
     "start_time": "2020-04-02T04:56:48.997715Z"
    },
    "code_folding": []
   },
   "outputs": [],
   "source": [
    "# 1개코드\n",
    "# 저장위치\n",
    "postdates = []\n",
    "strings = []\n",
    "urls = []\n",
    "titles = []\n",
    "output_error = []\n",
    "connection_error = []\n",
    "count = 1\n",
    "\n",
    "pattern = re.compile('href=\"'+'[A-z0-9\\:\\/\\&\\;\\.\\?\\=]+')\n",
    "# keyword와 시작넘버만 바꾸면서 진행하게끔\n",
    "base_url = 'https://search.naver.com/search.naver?date_from=&date_option=0&date_to=&dup_remove=1&nso=&post_blogurl=&post_blogurl_without=&query={keyword}&sm=tab_pge&srchby=all&st=sim&where=post&start={start_num}'\n",
    "\n",
    "# for문 돌려야하는 부분(각 검색결과의 시작은 1이고, 10개씩 보여짐,)\n",
    "search_list = base_url.format(keyword=\"전진리 +양양\", start_num=13)\n",
    "response = requests.get(search_list)\n",
    "\n",
    "if response.status_code is 200:\n",
    "    # 1번 검색시 10개의 결과가 출력 따라서 section은 총 10개\n",
    "    soup = BeautifulSoup(response.content, 'lxml')\n",
    "    sections = soup.findAll('li', attrs={'class': 'sh_blog_top'})\n",
    "    section = sections[0]\n",
    "\n",
    "    # href부분만 가져오기 어려워서 정규표현식으로 검색\n",
    "    url = re.findall(pattern, str(section))[0].replace(\n",
    "        '?Redirect=Log&amp;logNo=', '/').replace('href=\"', '')\n",
    "    title = section.select_one('a.txt84').text\n",
    "    date = section.select_one('dd.txt_inline').text.strip()\n",
    "\n",
    "    # 블로그 url안에 들어가기(아직 크롤링불가)\n",
    "    get_blog_post_content_code = requests.get(url)\n",
    "    get_blog_post_content_text = get_blog_post_content_code.text\n",
    "    get_blog_post_content_soup = BeautifulSoup(get_blog_post_content_text, 'lxml')\n",
    "\n",
    "    # 크롤링가능한 url에 접속\n",
    "    try:\n",
    "        real_blog_post_url = \"http://blog.naver.com\" + \\\n",
    "        get_blog_post_content_soup.select('#mainFrame')[0].get('src')\n",
    "        get_real_blog_post_content_code = requests.get(real_blog_post_url)\n",
    "        get_real_blog_post_content_text = get_real_blog_post_content_code.text\n",
    "        get_real_blog_post_content_soup = BeautifulSoup(\n",
    "        get_real_blog_post_content_text, 'lxml')\n",
    "    except:\n",
    "        real_blog_post_url = url\n",
    "        get_real_blog_post_content_code = requests.get(real_blog_post_url)\n",
    "        get_real_blog_post_content_text = get_real_blog_post_content_code.text\n",
    "        get_real_blog_post_content_soup = BeautifulSoup(\n",
    "        get_real_blog_post_content_text, 'lxml')\n",
    "        pass\n",
    "\n",
    "    # url (에러나면 위에서부터 에러남)\n",
    "    try:\n",
    "        urls.append(real_blog_post_url)\n",
    "    except:\n",
    "        urls.append(url)\n",
    "    # 블로그명\n",
    "    titles.append(title)\n",
    "    # 날짜\n",
    "    postdates.append(date)\n",
    "\n",
    "    # 본문  (postviewarea 패턴과 se-main-container 2가지 유형이 있어 분리함)\n",
    "    try:\n",
    "        blog_post_content = get_real_blog_post_content_soup.select('div#postViewArea')\n",
    "        if len(blog_post_content) == 0:\n",
    "            blog_post_content = get_real_blog_post_content_soup.select('div.se-main-container')\n",
    "            if len(blog_post_content) == 0:\n",
    "                blog_post_content = get_real_blog_post_content_soup.select('div.se_component_wrap.sect_dsc.__se_component_area')\n",
    "            \n",
    "        string = \"\"\n",
    "        for sentence in blog_post_content[0].stripped_strings:\n",
    "            string += \" \"+sentence.replace('\\xa0', \" \")\n",
    "            # 비언어 텍스트제거\n",
    "            string = del_outword(string)\n",
    "        #공백에러대처\n",
    "        blank_check = string.replace(\" \",\"\")\n",
    "        if len(blank_check) == 0:\n",
    "            strings.append([\"X\"])\n",
    "        else : \n",
    "            strings.append([string])\n",
    "        count += 1\n",
    "            \n",
    "    except:\n",
    "        strings.append([np.NaN])\n",
    "        count += 1\n",
    "\n",
    "\n",
    "crawling_df = pd.DataFrame(\n",
    "    {\"post_dates\": postdates, \"title\": titles, \"full_text\": strings, \"url\": urls})"
   ]
  },
  {
   "cell_type": "code",
   "execution_count": 138,
   "metadata": {
    "ExecuteTime": {
     "end_time": "2020-04-02T04:57:26.077397Z",
     "start_time": "2020-04-02T04:57:26.069395Z"
    }
   },
   "outputs": [
    {
     "ename": "IndexError",
     "evalue": "list index out of range",
     "output_type": "error",
     "traceback": [
      "\u001b[1;31m---------------------------------------------------------------------------\u001b[0m",
      "\u001b[1;31mIndexError\u001b[0m                                Traceback (most recent call last)",
      "\u001b[1;32m<ipython-input-138-965133f9a77b>\u001b[0m in \u001b[0;36m<module>\u001b[1;34m()\u001b[0m\n\u001b[0;32m      6\u001b[0m \u001b[1;33m\u001b[0m\u001b[0m\n\u001b[0;32m      7\u001b[0m \u001b[0mstring\u001b[0m \u001b[1;33m=\u001b[0m \u001b[1;34m\"\"\u001b[0m\u001b[1;33m\u001b[0m\u001b[0m\n\u001b[1;32m----> 8\u001b[1;33m \u001b[1;32mfor\u001b[0m \u001b[0msentence\u001b[0m \u001b[1;32min\u001b[0m \u001b[0mblog_post_content\u001b[0m\u001b[1;33m[\u001b[0m\u001b[1;36m0\u001b[0m\u001b[1;33m]\u001b[0m\u001b[1;33m.\u001b[0m\u001b[0mstripped_strings\u001b[0m\u001b[1;33m:\u001b[0m\u001b[1;33m\u001b[0m\u001b[0m\n\u001b[0m\u001b[0;32m      9\u001b[0m     \u001b[0mstring\u001b[0m \u001b[1;33m+=\u001b[0m \u001b[1;34m\" \"\u001b[0m\u001b[1;33m+\u001b[0m\u001b[0msentence\u001b[0m\u001b[1;33m.\u001b[0m\u001b[0mreplace\u001b[0m\u001b[1;33m(\u001b[0m\u001b[1;34m'\\xa0'\u001b[0m\u001b[1;33m,\u001b[0m\u001b[1;34m\" \"\u001b[0m\u001b[1;33m)\u001b[0m\u001b[1;33m\u001b[0m\u001b[0m\n\u001b[0;32m     10\u001b[0m \u001b[1;33m\u001b[0m\u001b[0m\n",
      "\u001b[1;31mIndexError\u001b[0m: list index out of range"
     ]
    }
   ],
   "source": [
    "blog_post_content = get_real_blog_post_content_soup.select('div#postViewArea')\n",
    "if len(blog_post_content) == 0:\n",
    "    blog_post_content = get_real_blog_post_content_soup.select('div.se-main-container')\n",
    "    if len(blog_post_content) == 0:\n",
    "        blog_post_content = get_real_blog_post_content_soup.select('div.se_component_wrap.sect_dsc.__se_component_area')\n",
    "\n",
    "string = \"\"\n",
    "for sentence in blog_post_content[0].stripped_strings:\n",
    "    string += \" \"+sentence.replace('\\xa0',\" \")\n",
    "\n",
    "strings.append([string])\n",
    "count += 1"
   ]
  },
  {
   "cell_type": "markdown",
   "metadata": {},
   "source": [
    "# 발생한 오류"
   ]
  },
  {
   "cell_type": "markdown",
   "metadata": {},
   "source": [
    "# 형용사 -개발단위\n",
    "* 각 형태소 분석기 비교\n",
    "1. komoran/mecab 어간/어미를 분해해서 다소 카운팅하기 어려움\n",
    "2. okt adjective로 되어있어 다소 편리하면서 더 많은 형용사를 끌어옴"
   ]
  },
  {
   "cell_type": "code",
   "execution_count": 178,
   "metadata": {
    "ExecuteTime": {
     "end_time": "2020-04-06T02:36:36.516377Z",
     "start_time": "2020-04-06T02:36:36.513384Z"
    }
   },
   "outputs": [],
   "source": [
    "pos_df = pd.DataFrame()\n",
    "va_df = pd.DataFrame()"
   ]
  },
  {
   "cell_type": "code",
   "execution_count": 179,
   "metadata": {
    "ExecuteTime": {
     "end_time": "2020-04-06T02:36:36.924413Z",
     "start_time": "2020-04-06T02:36:36.920405Z"
    }
   },
   "outputs": [],
   "source": [
    "okt = Okt()"
   ]
  },
  {
   "cell_type": "code",
   "execution_count": 187,
   "metadata": {
    "ExecuteTime": {
     "end_time": "2020-04-06T02:37:00.222787Z",
     "start_time": "2020-04-06T02:37:00.105762Z"
    }
   },
   "outputs": [],
   "source": [
    "#단하나 \n",
    "VA_ls = []\n",
    "pattern = re.compile(\"VA[+A-z]*\")\n",
    "\n",
    "pos_text = okt.pos(crawling_df['full_text'][1][0])\n",
    "for i in range(0,len(pos_text)):\n",
    "    try:\n",
    "        re.search(pattern,pos_text[i][1]).group()\n",
    "        text = pos_text[i][0]\n",
    "        VA_ls.append(text)\n",
    "    except: \n",
    "        pass"
   ]
  },
  {
   "cell_type": "code",
   "execution_count": 190,
   "metadata": {
    "ExecuteTime": {
     "end_time": "2020-04-06T02:38:18.820778Z",
     "start_time": "2020-04-06T02:38:18.817778Z"
    }
   },
   "outputs": [],
   "source": [
    "#okt 별도 \n",
    "VA_ls = []\n",
    "for i in range(0,len(pos_text)):\n",
    "    if pos_text[i][1] == 'Adjective':\n",
    "        text = pos_text[i][0]\n",
    "        VA_ls.append(text)"
   ]
  },
  {
   "cell_type": "code",
   "execution_count": 192,
   "metadata": {
    "ExecuteTime": {
     "end_time": "2020-04-06T02:38:31.324966Z",
     "start_time": "2020-04-06T02:38:31.320966Z"
    }
   },
   "outputs": [],
   "source": [
    "va_df = pd.concat([va_df,pd.Series(list(set(VA_ls)))],axis = 1)"
   ]
  },
  {
   "cell_type": "code",
   "execution_count": 194,
   "metadata": {
    "ExecuteTime": {
     "end_time": "2020-04-06T02:38:51.424791Z",
     "start_time": "2020-04-06T02:38:51.419790Z"
    }
   },
   "outputs": [],
   "source": [
    "va_df.to_csv('va_df.csv',encoding='cp949')"
   ]
  },
  {
   "cell_type": "code",
   "execution_count": 154,
   "metadata": {
    "ExecuteTime": {
     "end_time": "2020-04-06T02:32:17.318643Z",
     "start_time": "2020-04-06T02:32:17.313651Z"
    }
   },
   "outputs": [],
   "source": [
    "pos_df = pd.concat([pos_df,pd.DataFrame(pos_text)],axis =1)"
   ]
  },
  {
   "cell_type": "code",
   "execution_count": 155,
   "metadata": {
    "ExecuteTime": {
     "end_time": "2020-04-06T02:32:17.936110Z",
     "start_time": "2020-04-06T02:32:17.926108Z"
    }
   },
   "outputs": [
    {
     "data": {
      "text/html": [
       "<div>\n",
       "<style scoped>\n",
       "    .dataframe tbody tr th:only-of-type {\n",
       "        vertical-align: middle;\n",
       "    }\n",
       "\n",
       "    .dataframe tbody tr th {\n",
       "        vertical-align: top;\n",
       "    }\n",
       "\n",
       "    .dataframe thead th {\n",
       "        text-align: right;\n",
       "    }\n",
       "</style>\n",
       "<table border=\"1\" class=\"dataframe\">\n",
       "  <thead>\n",
       "    <tr style=\"text-align: right;\">\n",
       "      <th></th>\n",
       "      <th>0</th>\n",
       "      <th>1</th>\n",
       "      <th>0</th>\n",
       "      <th>1</th>\n",
       "      <th>0</th>\n",
       "      <th>1</th>\n",
       "    </tr>\n",
       "  </thead>\n",
       "  <tbody>\n",
       "    <tr>\n",
       "      <td>0</td>\n",
       "      <td>홍</td>\n",
       "      <td>NNP</td>\n",
       "      <td>홍천</td>\n",
       "      <td>NNG</td>\n",
       "      <td>홍천</td>\n",
       "      <td>Noun</td>\n",
       "    </tr>\n",
       "    <tr>\n",
       "      <td>1</td>\n",
       "      <td>천</td>\n",
       "      <td>NNP</td>\n",
       "      <td>에서</td>\n",
       "      <td>JKB</td>\n",
       "      <td>에서</td>\n",
       "      <td>Josa</td>\n",
       "    </tr>\n",
       "    <tr>\n",
       "      <td>2</td>\n",
       "      <td>에서</td>\n",
       "      <td>JKB</td>\n",
       "      <td>양양</td>\n",
       "      <td>NNP</td>\n",
       "      <td>양양</td>\n",
       "      <td>Noun</td>\n",
       "    </tr>\n",
       "    <tr>\n",
       "      <td>3</td>\n",
       "      <td>양양</td>\n",
       "      <td>NNP</td>\n",
       "      <td>으로</td>\n",
       "      <td>JKB</td>\n",
       "      <td>으로</td>\n",
       "      <td>Josa</td>\n",
       "    </tr>\n",
       "    <tr>\n",
       "      <td>4</td>\n",
       "      <td>으로</td>\n",
       "      <td>JKB</td>\n",
       "      <td>출발</td>\n",
       "      <td>NNG</td>\n",
       "      <td>출발</td>\n",
       "      <td>Noun</td>\n",
       "    </tr>\n",
       "    <tr>\n",
       "      <td>...</td>\n",
       "      <td>...</td>\n",
       "      <td>...</td>\n",
       "      <td>...</td>\n",
       "      <td>...</td>\n",
       "      <td>...</td>\n",
       "      <td>...</td>\n",
       "    </tr>\n",
       "    <tr>\n",
       "      <td>996</td>\n",
       "      <td>치</td>\n",
       "      <td>XSN</td>\n",
       "      <td>NaN</td>\n",
       "      <td>NaN</td>\n",
       "      <td>NaN</td>\n",
       "      <td>NaN</td>\n",
       "    </tr>\n",
       "    <tr>\n",
       "      <td>997</td>\n",
       "      <td>리</td>\n",
       "      <td>NNB</td>\n",
       "      <td>NaN</td>\n",
       "      <td>NaN</td>\n",
       "      <td>NaN</td>\n",
       "      <td>NaN</td>\n",
       "    </tr>\n",
       "    <tr>\n",
       "      <td>998</td>\n",
       "      <td>7</td>\n",
       "      <td>SN</td>\n",
       "      <td>NaN</td>\n",
       "      <td>NaN</td>\n",
       "      <td>NaN</td>\n",
       "      <td>NaN</td>\n",
       "    </tr>\n",
       "    <tr>\n",
       "      <td>999</td>\n",
       "      <td>-</td>\n",
       "      <td>SW</td>\n",
       "      <td>NaN</td>\n",
       "      <td>NaN</td>\n",
       "      <td>NaN</td>\n",
       "      <td>NaN</td>\n",
       "    </tr>\n",
       "    <tr>\n",
       "      <td>1000</td>\n",
       "      <td>6</td>\n",
       "      <td>SN</td>\n",
       "      <td>NaN</td>\n",
       "      <td>NaN</td>\n",
       "      <td>NaN</td>\n",
       "      <td>NaN</td>\n",
       "    </tr>\n",
       "  </tbody>\n",
       "</table>\n",
       "<p>1001 rows × 6 columns</p>\n",
       "</div>"
      ],
      "text/plain": [
       "       0    1    0    1    0     1\n",
       "0      홍  NNP   홍천  NNG   홍천  Noun\n",
       "1      천  NNP   에서  JKB   에서  Josa\n",
       "2     에서  JKB   양양  NNP   양양  Noun\n",
       "3     양양  NNP   으로  JKB   으로  Josa\n",
       "4     으로  JKB   출발  NNG   출발  Noun\n",
       "...   ..  ...  ...  ...  ...   ...\n",
       "996    치  XSN  NaN  NaN  NaN   NaN\n",
       "997    리  NNB  NaN  NaN  NaN   NaN\n",
       "998    7   SN  NaN  NaN  NaN   NaN\n",
       "999    -   SW  NaN  NaN  NaN   NaN\n",
       "1000   6   SN  NaN  NaN  NaN   NaN\n",
       "\n",
       "[1001 rows x 6 columns]"
      ]
     },
     "execution_count": 155,
     "metadata": {},
     "output_type": "execute_result"
    }
   ],
   "source": [
    "pos_df"
   ]
  },
  {
   "cell_type": "code",
   "execution_count": 156,
   "metadata": {
    "ExecuteTime": {
     "end_time": "2020-04-06T02:32:30.275484Z",
     "start_time": "2020-04-06T02:32:30.264392Z"
    }
   },
   "outputs": [],
   "source": [
    "pos_df.to_csv('pos_df.csv',encoding = 'cp949')"
   ]
  },
  {
   "cell_type": "code",
   "execution_count": 129,
   "metadata": {
    "ExecuteTime": {
     "end_time": "2020-04-06T02:21:27.630360Z",
     "start_time": "2020-04-06T02:21:27.618579Z"
    }
   },
   "outputs": [],
   "source": [
    "#단하나 mecab\n",
    "VA_ls = []\n",
    "pattern = re.compile(\"VA[+A-z]*\")\n",
    "\n",
    "pos_text = mecab.pos(crawling_df['full_text'][1][0])\n",
    "for i in range(0,len(pos_text)):\n",
    "    try:\n",
    "        re.search(pattern,pos_text[i][1]).group()\n",
    "        text = pos_text[i][0]\n",
    "        VA_ls.append(text)\n",
    "    except: \n",
    "        pass"
   ]
  },
  {
   "cell_type": "markdown",
   "metadata": {},
   "source": [
    "### 2020-04-06 09:23:51 크롤링중복오류 -> 1000개는 힘들다\n",
    "* 약 600번대 이상부터 중복이 발생하는 것으로 보임\n",
    "* 기사문 +양양 약 178개 중복\n",
    "* 광진 +양양 약 215개 중복  \n",
    "\n",
    "-> 원인은 네이버 검색의 특성상 관련검색어가 부족하면 중복되어서 나오는듯함\n",
    "211번대와 161번대의 검색된 값이 유사함 \n",
    "\n",
    "https://search.naver.com/search.naver?date_from=20190304&date_option=8&date_to=20200406&dup_remove=1&nso=p%3Afrom20190304to20200406&post_blogurl=&post_blogurl_without=&query=%EA%B4%91%EC%A7%84%20%2B%EC%96%91%EC%96%91&sm=tab_pge&srchby=all&st=sim&where=post&start=161\n",
    "\n",
    "https://search.naver.com/search.naver?date_from=20190304&date_option=8&date_to=20200406&dup_remove=1&nso=p%3Afrom20190304to20200406&post_blogurl=&post_blogurl_without=&query=%EA%B4%91%EC%A7%84%20%2B%EC%96%91%EC%96%91&sm=tab_pge&srchby=all&st=sim&where=post&start=211"
   ]
  },
  {
   "cell_type": "markdown",
   "metadata": {},
   "source": [
    "### 2020-04-07 09:31:08 komoran, java.lang.NullPointerException 오류\n",
    "* konlpy의 komoran 사용시 에러발생 현재 코모란방식으로 등록해둔 사용자정의 사전이 있어 확인필요 (Okt, mecab은 정상작동)\n",
    "-> 원인은 공백만 들어있는 문장이 있어서 발생 공백을 모두 제거한 길이가 0이면 X로 대체하도록 변경"
   ]
  }
 ],
 "metadata": {
  "kernelspec": {
   "display_name": "Python 3",
   "language": "python",
   "name": "python3"
  },
  "language_info": {
   "codemirror_mode": {
    "name": "ipython",
    "version": 3
   },
   "file_extension": ".py",
   "mimetype": "text/x-python",
   "name": "python",
   "nbconvert_exporter": "python",
   "pygments_lexer": "ipython3",
   "version": "3.6.5"
  },
  "varInspector": {
   "cols": {
    "lenName": 16,
    "lenType": 16,
    "lenVar": 40
   },
   "kernels_config": {
    "python": {
     "delete_cmd_postfix": "",
     "delete_cmd_prefix": "del ",
     "library": "var_list.py",
     "varRefreshCmd": "print(var_dic_list())"
    },
    "r": {
     "delete_cmd_postfix": ") ",
     "delete_cmd_prefix": "rm(",
     "library": "var_list.r",
     "varRefreshCmd": "cat(var_dic_list()) "
    }
   },
   "oldHeight": 466,
   "position": {
    "height": "40px",
    "left": "1187px",
    "right": "20px",
    "top": "111px",
    "width": "350px"
   },
   "types_to_exclude": [
    "module",
    "function",
    "builtin_function_or_method",
    "instance",
    "_Feature"
   ],
   "varInspector_section_display": "none",
   "window_display": true
  }
 },
 "nbformat": 4,
 "nbformat_minor": 2
}

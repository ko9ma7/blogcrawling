{
 "cells": [
  {
   "cell_type": "code",
   "execution_count": 50,
   "metadata": {
    "ExecuteTime": {
     "end_time": "2021-01-12T05:57:16.125384Z",
     "start_time": "2021-01-12T05:57:16.103388Z"
    }
   },
   "outputs": [
    {
     "data": {
      "text/html": [
       "<style>.container {width:100% !important; }</style>"
      ],
      "text/plain": [
       "<IPython.core.display.HTML object>"
      ]
     },
     "metadata": {},
     "output_type": "display_data"
    }
   ],
   "source": [
    "# import\n",
    "\n",
    "from tqdm.notebook import tqdm  # 진행과정 시각화\n",
    "from datetime import timedelta  # 시간날짜\n",
    "import time\n",
    "import re\n",
    "import os\n",
    "import datetime\n",
    "import pandas as pd\n",
    "import numpy as np\n",
    "import gc\n",
    "\n",
    "import requests\n",
    "import urllib.request\n",
    "import urllib.error\n",
    "import urllib.parse\n",
    "from bs4 import BeautifulSoup  # 크롤링\n",
    "\n",
    "from selenium import webdriver\n",
    "from selenium.webdriver.common.keys import Keys\n",
    "from selenium.webdriver.support.ui import WebDriverWait\n",
    "from selenium.webdriver.chrome.options import Options\n",
    "\n",
    "from IPython.core.display import display, HTML\n",
    "display(HTML('<style>.container {width:100% !important; }</style>'))"
   ]
  },
  {
   "cell_type": "code",
   "execution_count": 51,
   "metadata": {
    "ExecuteTime": {
     "end_time": "2021-01-12T05:57:16.677510Z",
     "start_time": "2021-01-12T05:57:16.660505Z"
    },
    "code_folding": [
     0,
     31,
     77
    ]
   },
   "outputs": [],
   "source": [
    "def del_outword(string):\n",
    "    '''크롤링 후 이모티콘, \\u200b과 같은 문자가 아닌 것 제거\n",
    "    [출처](https://stackoverflow.com/questions/33404752/removing-emojis-from-a-string-in-python)\n",
    "    '''\n",
    "    #이모지제거\n",
    "    emoji_pattern = re.compile(\"[\"\n",
    "                u\"\\U0001F600-\\U0001F64F\"  # emoticons\n",
    "                u\"\\U0001F300-\\U0001F5FF\"  # symbols & pictographs\n",
    "                u\"\\U0001F680-\\U0001F6FF\"  # transport & map symbols\n",
    "                u\"\\U0001F1E0-\\U0001F1FF\"  # flags (iOS)\n",
    "                u\"\\U00002702-\\U000027B0\"\n",
    "                u\"\\U0001f926-\\U0001f937\"\n",
    "                u'\\U00010000-\\U0010ffff'\n",
    "                u\"\\u200d\"\n",
    "                u\"\\u2640-\\u2642\"\n",
    "                u\"\\u2600-\\u2B55\"\n",
    "                u\"\\u23cf\"\n",
    "                u\"\\u23e9\"\n",
    "                u\"\\u231a\"\n",
    "                u\"\\u3030\"\n",
    "                u\"\\ufe0f\"\n",
    "    \"]+\", flags=re.UNICODE)\n",
    "\n",
    "    #분석에 어긋나는 불용어구 제외 (특수문자, 의성어)\n",
    "    han = re.compile(r'[ㄱ-ㅎㅏ-ㅣ!?~\"^_\\n\\r#\\ufeff\\u200d\\u200b\\u7643\\ufffd\\u682e\\u62c4]+')\n",
    "    \n",
    "    string = emoji_pattern.sub(r'',string)\n",
    "    string = han.sub(r'',string)\n",
    "    \n",
    "    return string\n",
    "\n",
    "def time_change(x):\n",
    "    '''검색결과에 있는 문자를 날짜로 변경\n",
    "    네이버 블로그 크롤링시 작성일자가 1분전/1시간전/1일전으로 나타는 경우가 가끔씩 존재\n",
    "    이러한 패턴을 일반적인 YY-MM-DD형태로 변환함\n",
    "    그리고 월별 계산이 중요하므로 모든 데이터는 1일로 통일\n",
    "    \n",
    "    Return\n",
    "    -------\n",
    "    x : datetime\n",
    "        날짜형형태로 전환\n",
    "        \n",
    "    Example\n",
    "    -------\n",
    "    >>> x = \"47분 전\"\n",
    "    >>> time_change(x)\n",
    "    datetime.datetime(2020, 6, 1, 0, 0)\n",
    "    \n",
    "    >>> x2 = \"2019.01.31\"\n",
    "    >>> time_change(x2)\n",
    "    datetime.datetime(2019, 1, 1, 0, 0)\n",
    "    '''\n",
    "    \n",
    "    min_pattern = re.compile('[0-9]+'+\"분 전\")\n",
    "    hour_pattern = re.compile('[0-9]+'+\"시간 전\")\n",
    "    day_pattern = re.compile('[0-9]+'+\"일 전\")\n",
    "\n",
    "    today = datetime.datetime.today().date()\n",
    "    # 일자\n",
    "    if \"일\" in x :\n",
    "        d = re.findall(day_pattern, x)[0][0]\n",
    "        x = today - timedelta(days=int(d))\n",
    "    elif \"시간\" in x:\n",
    "        d = re.findall(hour_pattern, x)[0]\n",
    "        x = today\n",
    "    elif \"분\" in x:\n",
    "        d = re.findall(min_pattern, x)[0]\n",
    "        x = today\n",
    "    elif x == \"어제\":\n",
    "        x = today - timedelta(days=1)\n",
    "    elif type(x) == str: # 'YY.NN.DD'형태\n",
    "        x = datetime.datetime.strptime(x.replace('.', '-')[:-1], '%Y-%m-%d')\n",
    "    \n",
    "    #모든일자를 1일로 통일\n",
    "    x = datetime.datetime.strptime(x.strftime('%Y-%m')+\"-01\",\"%Y-%m-%d\")\n",
    "    return x\n",
    "\n",
    "def make_date_list(start_year,end_year,month_gap = 1,year_gap = 1, types = 'month'):\n",
    "    '''검색에 사용할 날짜 list를 생성\n",
    "    시작년도, 마지막년도를 입력하고 월별간격, 연별 간격을 입력하면\n",
    "    검색에 사용할 \"YYMMDD\"형태의 날짜 list를 반환\n",
    "    \n",
    "    Parameters\n",
    "    ----------\n",
    "    start_year(int) : 검색을 시작할 연도\n",
    "    end_year(int) : 검색을 종료할 연도\n",
    "    month_gap(int) : 몇개월 단위로 검색할 것인지\n",
    "    year_gap(int) : 몇년 단위로 검색할 것인지\n",
    "    types(string) : 'year' or 'month'로 연간검색 혹은 월간검색지정\n",
    "    \n",
    "    Returns \n",
    "    -------\n",
    "    start_date, end_date : list\n",
    "        YYMMDD형태의 string형태의 날짜들은 반환한다\n",
    "    \n",
    "    Examples\n",
    "    --------\n",
    "    >>> make_date_list(start_year = 2010, end_year = 2011,month_gap = 1,year_gap = 1, types = 'month')\n",
    "    start_date = ['20100101', '20100701', '20110101', '20110701']\n",
    "    end_date = ['20100131', '20100731', '20110131', '20110731']\n",
    "    \n",
    "    >>> make_date_list(start_year = 2010, end_year = 2013,year_gap = 1, types = 'year')\n",
    "    start_date = ['20100101', '20110101', '20120101', '20130101']\n",
    "    end_date = ['20101231', '20111231', '20121231', '20131231']\n",
    "    '''\n",
    "    #일자\n",
    "    month_gap = month_gap*100\n",
    "    start_month = []\n",
    "    end_month = []\n",
    "    \n",
    "    #MMDD 형태 추출\n",
    "    for date in range(101,1202,month_gap):\n",
    "        start_month.append(date)\n",
    "    start_month = list(map(lambda x : '{:0>4}'.format(str(x)),start_month))\n",
    "\n",
    "    for date in range(131,1232,month_gap):\n",
    "        end_month.append(date)\n",
    "    end_month = list(map(lambda x : '{:0>4}'.format(str(x)),end_month))\n",
    "\n",
    "    start_date = []\n",
    "    end_date = []\n",
    "    \n",
    "    #YYMMDD 형태로 추출\n",
    "    if types.lower() == 'month':\n",
    "        for year in range(start_year,end_year+1,year_gap):\n",
    "            for date in start_month:\n",
    "                start_date.append(str(year)+date)\n",
    "            for date in end_month:\n",
    "                end_date.append(str(year)+date)\n",
    "    elif types.lower() == 'year':\n",
    "        for year in range(start_year,end_year+1,year_gap):\n",
    "            start_date.append(str(year)+'0101')\n",
    "            end_date.append(str(year)+'1231')\n",
    "            \n",
    "        \n",
    "    return start_date,end_date"
   ]
  },
  {
   "cell_type": "code",
   "execution_count": 52,
   "metadata": {
    "ExecuteTime": {
     "end_time": "2021-01-12T05:57:17.223634Z",
     "start_time": "2021-01-12T05:57:17.219633Z"
    }
   },
   "outputs": [],
   "source": [
    "keyword = '강릉'\n",
    "date_option=8\n",
    "date_from='20200101'\n",
    "date_to='20201231'\n",
    "base_url = f'https://search.naver.com/search.naver?date_from={date_from}&date_option={date_option}&date_to={date_to}&dup_remove=1&nso=&post_blogurl=&post_blogurl_without=&query={keyword}&sm=tab_pge&srchby=all&st=sim&where=post'\n",
    "path = 'new_output'\n",
    "#저장위치\n",
    "os.makedirs('./new_output',exist_ok=True)"
   ]
  },
  {
   "cell_type": "markdown",
   "metadata": {},
   "source": [
    "### 함수화\n",
    "* 추가스크롤 발생시 추가로 url복사됨 (현재해결방안 중복된것 drop) -> 추후 특정위치 이상 발전이 없으면 중지하는 방안 필요"
   ]
  },
  {
   "cell_type": "code",
   "execution_count": 57,
   "metadata": {
    "ExecuteTime": {
     "end_time": "2021-01-12T06:04:38.898969Z",
     "start_time": "2021-01-12T06:04:38.885966Z"
    },
    "code_folding": []
   },
   "outputs": [],
   "source": [
    "def new_crawling(keyword, path, date_from='', date_to='', save=True):\n",
    "    '''네이버 블로그 검색결과가 드래그 방식으로 바뀜(기존 페이지방식)\n",
    "    따라서 셀레니움으로 최대(1000건) 드래그후 작성일자, 제목, url을 가져온 후 \n",
    "    request로 각 블로그에 접속하여 본문추출\n",
    "    이 과정에서 네이버블로그가 아닌 블로그 제외됨(tistory, daum등)\n",
    "    \n",
    "    parameter\n",
    "    ---------\n",
    "    keyword(string) : 검색하고 싶은 키워드 \"keyword +필수어\" 형태로 필수단어 추가 가능\n",
    "    path(string) : 저장할 폴더 설정\n",
    "    date_from(YYYYMMDD) : (default = \"\") date_option이 8일때 사용 검색 시작일자를 지정\n",
    "    date_to(YYYYMMDD) : (default = \"\"), date_option이 8일때 사용 검색 마지막일자를 지정\n",
    "    save(bool) : (default = True)csv로 저장 여부 결정\n",
    "    \n",
    "    Returns\n",
    "    ---------\n",
    "    df : DataFrame\n",
    "      post_dates title  full_text         url\n",
    "    0 2010-01-01 title  [full_text]       http://blog.naver.com/PostView.nhn?blogId=wend...  \n",
    "    \n",
    "    '''\n",
    "    \n",
    "    base_url = f'https://search.naver.com/search.naver?date_from={date_from}&date_option=8&date_to={date_to}&dup_remove=1&nso=&post_blogurl=&post_blogurl_without=&query={keyword}&sm=tab_pge&srchby=all&st=sim&where=post'\n",
    "    \n",
    "    #임시저장\n",
    "    blog_urls = dict()\n",
    "    blog_urls['post_dates'] = []\n",
    "    blog_urls['title'] = []\n",
    "    blog_urls['url'] = []\n",
    "    options = Options()\n",
    "    \n",
    "    # 크롬드라이버 작동 \n",
    "    options.add_argument('--start-maximized') #전체화면\n",
    "    options.add_argument('--headless') #headless(화면안켜고)\n",
    "    driver = webdriver.Chrome(executable_path='./chromedriver', chrome_options=options)\n",
    "    driver.get(base_url)\n",
    "\n",
    "    #최대 아래로 스크롤\n",
    "    count = 1\n",
    "    b_blog_num = ''\n",
    "    try :\n",
    "        for i in range(0,40):\n",
    "            driver.execute_script(\"window.scrollTo(0, document.body.scrollHeight);\")\n",
    "            time.sleep(0.5)\n",
    "            count += 1\n",
    "#             print(count)\n",
    "            #스크롤 마지막 blog_num 비교\n",
    "            source = driver.page_source\n",
    "            soup = BeautifulSoup(source, 'html.parser')\n",
    "            l_blog_num = soup.select('li[id^=\"sp_blog\"]')[-1]['id']\n",
    "\n",
    "            if b_blog_num == l_blog_num: #마지막 번호와 동일하면 스크롤 중지\n",
    "                break\n",
    "            else :\n",
    "                b_blog_num = l_blog_num\n",
    "\n",
    "        source = driver.page_source\n",
    "        # print(count)\n",
    "        driver.close()\n",
    "\n",
    "        #각 정보 불러오기\n",
    "        soup = BeautifulSoup(source, 'html.parser')\n",
    "\n",
    "        #dates\n",
    "        dates_list = soup.select('div > div.total_sub > span > span > span.etc_dsc_area > span')\n",
    "        dates = pd.Series(dates_list).apply(lambda x : x.text)\n",
    "        blog_urls['post_dates'] = blog_urls['post_dates'] + list(dates)\n",
    "\n",
    "        #titles\n",
    "        title_list = soup.select('div > a.api_txt_lines.total_tit')\n",
    "        titles = pd.Series(title_list).apply(lambda x : x.text)\n",
    "        blog_urls['title'] = blog_urls['title'] + list(titles)\n",
    "\n",
    "        #link\n",
    "        link_list = soup.select('div.total_dsc_wrap a.total_dsc')\n",
    "        links = pd.Series(link_list).apply(lambda x : x.get('href'))\n",
    "        blog_urls['url'] = blog_urls['url'] + list(links)\n",
    "\n",
    "        #중복제거\n",
    "        df = pd.DataFrame(blog_urls)\n",
    "        df = df.drop_duplicates('url')\n",
    "        blog_urls['url'] = df['url']\n",
    "        ori_length = len(blog_urls['url'])\n",
    "\n",
    "        # 본문가져오기\n",
    "        output_error = []\n",
    "        texts = []\n",
    "        for i, url in tqdm(enumerate(blog_urls['url'])):\n",
    "            count = i\n",
    "            try:\n",
    "                # 블로그 url안에 들어가기(아직 크롤링불가)\n",
    "                get_blog_post_content_code = requests.get(url)\n",
    "                get_blog_post_content_text = get_blog_post_content_code.text\n",
    "                get_blog_post_content_soup = BeautifulSoup(\n",
    "                    get_blog_post_content_text, 'lxml')\n",
    "\n",
    "                # 크롤링가능한 url에 접속\n",
    "                real_blog_post_url = \"http://blog.naver.com\" + get_blog_post_content_soup.select('#mainFrame')[0].get('src')\n",
    "                get_real_blog_post_content_code = requests.get(real_blog_post_url)\n",
    "                get_real_blog_post_content_text = get_real_blog_post_content_code.text\n",
    "                get_real_blog_post_content_soup = BeautifulSoup(get_real_blog_post_content_text, 'lxml')\n",
    "\n",
    "                # 본문  (postviewarea 패턴과 se-main-container 2가지 유형이 있어 분리함)\n",
    "                try:\n",
    "                    blog_post_content = get_real_blog_post_content_soup.select('div.se-main-container')\n",
    "                    if len(blog_post_content) == 0:\n",
    "                        blog_post_content = get_real_blog_post_content_soup.select('div#postViewArea')\n",
    "                        if len(blog_post_content) == 0:\n",
    "                            blog_post_content = get_real_blog_post_content_soup.select('div.se_component_wrap.sect_dsc.__se_component_area')\n",
    "\n",
    "                    string = \"\"\n",
    "                    for sentence in blog_post_content[0].stripped_strings:\n",
    "                        try :\n",
    "                            string += \" \"+sentence.replace('\\xa0', \" \")\n",
    "                        except :\n",
    "                            pass\n",
    "                        # 비언어 텍스트제거\n",
    "                    string = del_outword(string)\n",
    "                    # 공백에러대처\n",
    "                    blank_check = string.replace(\" \", \"\")\n",
    "                    if len(blank_check) == 0:\n",
    "                        texts.append([\"X\"])\n",
    "                    else:\n",
    "                        texts.append([string])\n",
    "                    count += 1\n",
    "                except Exception as ex:\n",
    "                    print(ex)\n",
    "                    texts.append([\"X\"])\n",
    "                    output_error.append(count)\n",
    "                    count += 1\n",
    "\n",
    "            except Exception as ex:\n",
    "    #             print('가져오기에러 {num}번째'.format(num=count), ex)\n",
    "                output_error.append(count)\n",
    "                count += 1\n",
    "                pass\n",
    "\n",
    "        #후처리\n",
    "        df = df.drop(output_error) #에러제거\n",
    "        df['full_text'] = texts\n",
    "        df['post_dates'] = df['post_dates'].apply(lambda x : time_change(x)) #날짜 일반화\n",
    "        last_length = len(output_error)\n",
    "        print(f'검색된길이:{ori_length},제외된 길이:{last_length}')\n",
    "        fin_length = df.shape[0]\n",
    "        #저장\n",
    "        if save == True:\n",
    "            today = datetime.datetime.today().date()\n",
    "            str(today)\n",
    "            os.makedirs(f'./{path}/크롤링/{keyword}',exist_ok=True)\n",
    "            df.to_csv(f'./{path}/크롤링/{keyword}/{date_from}~{date_to}_{keyword}_{fin_length}_{today}.csv',index=False)\n",
    "    except Exception as ex:\n",
    "        print(ex)\n",
    "        pass\n",
    "    return df"
   ]
  },
  {
   "cell_type": "code",
   "execution_count": null,
   "metadata": {
    "ExecuteTime": {
     "start_time": "2021-01-12T06:04:39.347Z"
    },
    "scrolled": true
   },
   "outputs": [
    {
     "data": {
      "application/vnd.jupyter.widget-view+json": {
       "model_id": "e769594e30724fdeb5885834ec41cd8c",
       "version_major": 2,
       "version_minor": 0
      },
      "text/plain": [
       "HBox(children=(FloatProgress(value=0.0, max=120.0), HTML(value='')))"
      ]
     },
     "metadata": {},
     "output_type": "display_data"
    },
    {
     "name": "stderr",
     "output_type": "stream",
     "text": [
      "C:\\Users\\User\\Anaconda3\\lib\\site-packages\\ipykernel_launcher.py:35: DeprecationWarning: use options instead of chrome_options\n"
     ]
    },
    {
     "data": {
      "application/vnd.jupyter.widget-view+json": {
       "model_id": "c91018221b354ba18be2c6f040927199",
       "version_major": 2,
       "version_minor": 0
      },
      "text/plain": [
       "HBox(children=(FloatProgress(value=1.0, bar_style='info', max=1.0), HTML(value='')))"
      ]
     },
     "metadata": {},
     "output_type": "display_data"
    },
    {
     "name": "stdout",
     "output_type": "stream",
     "text": [
      "\n",
      "검색된길이:540,제외된 길이:108\n"
     ]
    },
    {
     "data": {
      "application/vnd.jupyter.widget-view+json": {
       "model_id": "fa52a05a715046ca9f00ddb837f11819",
       "version_major": 2,
       "version_minor": 0
      },
      "text/plain": [
       "HBox(children=(FloatProgress(value=1.0, bar_style='info', max=1.0), HTML(value='')))"
      ]
     },
     "metadata": {},
     "output_type": "display_data"
    },
    {
     "name": "stdout",
     "output_type": "stream",
     "text": [
      "\n",
      "검색된길이:999,제외된 길이:144\n"
     ]
    },
    {
     "data": {
      "application/vnd.jupyter.widget-view+json": {
       "model_id": "6f23fcef0e544e9ba7db3702a2812ccb",
       "version_major": 2,
       "version_minor": 0
      },
      "text/plain": [
       "HBox(children=(FloatProgress(value=1.0, bar_style='info', max=1.0), HTML(value='')))"
      ]
     },
     "metadata": {},
     "output_type": "display_data"
    },
    {
     "name": "stdout",
     "output_type": "stream",
     "text": [
      "\n",
      "검색된길이:480,제외된 길이:69\n"
     ]
    },
    {
     "data": {
      "application/vnd.jupyter.widget-view+json": {
       "model_id": "459cfb97f73c471a84f8e48eac11b6db",
       "version_major": 2,
       "version_minor": 0
      },
      "text/plain": [
       "HBox(children=(FloatProgress(value=1.0, bar_style='info', max=1.0), HTML(value='')))"
      ]
     },
     "metadata": {},
     "output_type": "display_data"
    },
    {
     "name": "stdout",
     "output_type": "stream",
     "text": [
      "\n",
      "검색된길이:1000,제외된 길이:147\n"
     ]
    },
    {
     "data": {
      "application/vnd.jupyter.widget-view+json": {
       "model_id": "c9eebda02bf64318a079725851492e18",
       "version_major": 2,
       "version_minor": 0
      },
      "text/plain": [
       "HBox(children=(FloatProgress(value=1.0, bar_style='info', max=1.0), HTML(value='')))"
      ]
     },
     "metadata": {},
     "output_type": "display_data"
    },
    {
     "name": "stdout",
     "output_type": "stream",
     "text": [
      "\n",
      "검색된길이:1000,제외된 길이:124\n"
     ]
    },
    {
     "data": {
      "application/vnd.jupyter.widget-view+json": {
       "model_id": "851d8442272944b9b6ee03e52f920fea",
       "version_major": 2,
       "version_minor": 0
      },
      "text/plain": [
       "HBox(children=(FloatProgress(value=1.0, bar_style='info', max=1.0), HTML(value='')))"
      ]
     },
     "metadata": {},
     "output_type": "display_data"
    },
    {
     "name": "stdout",
     "output_type": "stream",
     "text": [
      "\n",
      "검색된길이:720,제외된 길이:99\n"
     ]
    },
    {
     "data": {
      "application/vnd.jupyter.widget-view+json": {
       "model_id": "f365556e38564efb9028e03b95926466",
       "version_major": 2,
       "version_minor": 0
      },
      "text/plain": [
       "HBox(children=(FloatProgress(value=1.0, bar_style='info', max=1.0), HTML(value='')))"
      ]
     },
     "metadata": {},
     "output_type": "display_data"
    },
    {
     "name": "stdout",
     "output_type": "stream",
     "text": [
      "\n",
      "검색된길이:999,제외된 길이:148\n"
     ]
    },
    {
     "data": {
      "application/vnd.jupyter.widget-view+json": {
       "model_id": "9160022a6fda4186bad85bb2d15507ab",
       "version_major": 2,
       "version_minor": 0
      },
      "text/plain": [
       "HBox(children=(FloatProgress(value=1.0, bar_style='info', max=1.0), HTML(value='')))"
      ]
     },
     "metadata": {},
     "output_type": "display_data"
    },
    {
     "name": "stdout",
     "output_type": "stream",
     "text": [
      "\n",
      "검색된길이:1000,제외된 길이:144\n"
     ]
    },
    {
     "data": {
      "application/vnd.jupyter.widget-view+json": {
       "model_id": "a3e3aafc3641487e937e0b5f6e417c32",
       "version_major": 2,
       "version_minor": 0
      },
      "text/plain": [
       "HBox(children=(FloatProgress(value=1.0, bar_style='info', max=1.0), HTML(value='')))"
      ]
     },
     "metadata": {},
     "output_type": "display_data"
    },
    {
     "name": "stdout",
     "output_type": "stream",
     "text": [
      "\n",
      "검색된길이:1000,제외된 길이:105\n"
     ]
    },
    {
     "data": {
      "application/vnd.jupyter.widget-view+json": {
       "model_id": "ba9cd67c74b34a0d83bbf1033e15b9e4",
       "version_major": 2,
       "version_minor": 0
      },
      "text/plain": [
       "HBox(children=(FloatProgress(value=1.0, bar_style='info', max=1.0), HTML(value='')))"
      ]
     },
     "metadata": {},
     "output_type": "display_data"
    },
    {
     "name": "stdout",
     "output_type": "stream",
     "text": [
      "\n",
      "검색된길이:1000,제외된 길이:135\n"
     ]
    },
    {
     "data": {
      "application/vnd.jupyter.widget-view+json": {
       "model_id": "c652394a333444be8e206ed486275ac1",
       "version_major": 2,
       "version_minor": 0
      },
      "text/plain": [
       "HBox(children=(FloatProgress(value=1.0, bar_style='info', max=1.0), HTML(value='')))"
      ]
     },
     "metadata": {},
     "output_type": "display_data"
    },
    {
     "name": "stdout",
     "output_type": "stream",
     "text": [
      "\n",
      "검색된길이:960,제외된 길이:121\n"
     ]
    },
    {
     "data": {
      "application/vnd.jupyter.widget-view+json": {
       "model_id": "ad7ea0a9a8a84afab0dae1b6a034b87e",
       "version_major": 2,
       "version_minor": 0
      },
      "text/plain": [
       "HBox(children=(FloatProgress(value=1.0, bar_style='info', max=1.0), HTML(value='')))"
      ]
     },
     "metadata": {},
     "output_type": "display_data"
    },
    {
     "name": "stdout",
     "output_type": "stream",
     "text": [
      "\n",
      "검색된길이:1000,제외된 길이:143\n"
     ]
    },
    {
     "data": {
      "application/vnd.jupyter.widget-view+json": {
       "model_id": "c6f1b1de309648dd99cb4fa4a3f9cd4c",
       "version_major": 2,
       "version_minor": 0
      },
      "text/plain": [
       "HBox(children=(FloatProgress(value=1.0, bar_style='info', max=1.0), HTML(value='')))"
      ]
     },
     "metadata": {},
     "output_type": "display_data"
    },
    {
     "name": "stdout",
     "output_type": "stream",
     "text": [
      "\n",
      "검색된길이:1000,제외된 길이:87\n"
     ]
    },
    {
     "data": {
      "application/vnd.jupyter.widget-view+json": {
       "model_id": "013740ba0a5d4197987a120df16ba018",
       "version_major": 2,
       "version_minor": 0
      },
      "text/plain": [
       "HBox(children=(FloatProgress(value=1.0, bar_style='info', max=1.0), HTML(value='')))"
      ]
     },
     "metadata": {},
     "output_type": "display_data"
    },
    {
     "name": "stdout",
     "output_type": "stream",
     "text": [
      "\n",
      "검색된길이:1000,제외된 길이:114\n"
     ]
    },
    {
     "data": {
      "application/vnd.jupyter.widget-view+json": {
       "model_id": "c00ea3c0ddb941a5a82c75dcf304dff1",
       "version_major": 2,
       "version_minor": 0
      },
      "text/plain": [
       "HBox(children=(FloatProgress(value=1.0, bar_style='info', max=1.0), HTML(value='')))"
      ]
     },
     "metadata": {},
     "output_type": "display_data"
    },
    {
     "name": "stdout",
     "output_type": "stream",
     "text": [
      "\n",
      "검색된길이:960,제외된 길이:126\n"
     ]
    },
    {
     "data": {
      "application/vnd.jupyter.widget-view+json": {
       "model_id": "0b7257de968a4a02a89deeb382161ef5",
       "version_major": 2,
       "version_minor": 0
      },
      "text/plain": [
       "HBox(children=(FloatProgress(value=1.0, bar_style='info', max=1.0), HTML(value='')))"
      ]
     },
     "metadata": {},
     "output_type": "display_data"
    },
    {
     "name": "stdout",
     "output_type": "stream",
     "text": [
      "\n",
      "검색된길이:1000,제외된 길이:75\n"
     ]
    },
    {
     "data": {
      "application/vnd.jupyter.widget-view+json": {
       "model_id": "a1da68bba79c4fbeaf89ca5ffd37704e",
       "version_major": 2,
       "version_minor": 0
      },
      "text/plain": [
       "HBox(children=(FloatProgress(value=1.0, bar_style='info', max=1.0), HTML(value='')))"
      ]
     },
     "metadata": {},
     "output_type": "display_data"
    },
    {
     "name": "stdout",
     "output_type": "stream",
     "text": [
      "\n",
      "검색된길이:930,제외된 길이:103\n"
     ]
    },
    {
     "data": {
      "application/vnd.jupyter.widget-view+json": {
       "model_id": "643548f0ba694d9bb823138f720c45e7",
       "version_major": 2,
       "version_minor": 0
      },
      "text/plain": [
       "HBox(children=(FloatProgress(value=1.0, bar_style='info', max=1.0), HTML(value='')))"
      ]
     },
     "metadata": {},
     "output_type": "display_data"
    },
    {
     "name": "stdout",
     "output_type": "stream",
     "text": [
      "\n",
      "검색된길이:750,제외된 길이:81\n"
     ]
    },
    {
     "data": {
      "application/vnd.jupyter.widget-view+json": {
       "model_id": "fa3b30ebfb824d40bdd07783971dc5a5",
       "version_major": 2,
       "version_minor": 0
      },
      "text/plain": [
       "HBox(children=(FloatProgress(value=1.0, bar_style='info', max=1.0), HTML(value='')))"
      ]
     },
     "metadata": {},
     "output_type": "display_data"
    },
    {
     "name": "stdout",
     "output_type": "stream",
     "text": [
      "\n",
      "검색된길이:1000,제외된 길이:93\n"
     ]
    },
    {
     "data": {
      "application/vnd.jupyter.widget-view+json": {
       "model_id": "e147d3dc33574e869dc5f36985d44cbc",
       "version_major": 2,
       "version_minor": 0
      },
      "text/plain": [
       "HBox(children=(FloatProgress(value=1.0, bar_style='info', max=1.0), HTML(value='')))"
      ]
     },
     "metadata": {},
     "output_type": "display_data"
    },
    {
     "name": "stdout",
     "output_type": "stream",
     "text": [
      "\n",
      "검색된길이:60,제외된 길이:1\n"
     ]
    },
    {
     "data": {
      "application/vnd.jupyter.widget-view+json": {
       "model_id": "d7692bc3591b467eace3a0728e9950d3",
       "version_major": 2,
       "version_minor": 0
      },
      "text/plain": [
       "HBox(children=(FloatProgress(value=1.0, bar_style='info', max=1.0), HTML(value='')))"
      ]
     },
     "metadata": {},
     "output_type": "display_data"
    },
    {
     "name": "stdout",
     "output_type": "stream",
     "text": [
      "\n",
      "검색된길이:1000,제외된 길이:153\n"
     ]
    },
    {
     "data": {
      "application/vnd.jupyter.widget-view+json": {
       "model_id": "3bd302d2650f41bbb3a987857c8fa12e",
       "version_major": 2,
       "version_minor": 0
      },
      "text/plain": [
       "HBox(children=(FloatProgress(value=1.0, bar_style='info', max=1.0), HTML(value='')))"
      ]
     },
     "metadata": {},
     "output_type": "display_data"
    },
    {
     "name": "stdout",
     "output_type": "stream",
     "text": [
      "\n",
      "검색된길이:1000,제외된 길이:90\n"
     ]
    },
    {
     "data": {
      "application/vnd.jupyter.widget-view+json": {
       "model_id": "b8435629017443feaaf450c8550e2929",
       "version_major": 2,
       "version_minor": 0
      },
      "text/plain": [
       "HBox(children=(FloatProgress(value=1.0, bar_style='info', max=1.0), HTML(value='')))"
      ]
     },
     "metadata": {},
     "output_type": "display_data"
    },
    {
     "name": "stdout",
     "output_type": "stream",
     "text": [
      "\n",
      "검색된길이:1000,제외된 길이:85\n"
     ]
    },
    {
     "data": {
      "application/vnd.jupyter.widget-view+json": {
       "model_id": "e0394ac1ac054e9c969b1cf1450d0598",
       "version_major": 2,
       "version_minor": 0
      },
      "text/plain": [
       "HBox(children=(FloatProgress(value=1.0, bar_style='info', max=1.0), HTML(value='')))"
      ]
     },
     "metadata": {},
     "output_type": "display_data"
    },
    {
     "name": "stdout",
     "output_type": "stream",
     "text": [
      "\n",
      "검색된길이:1000,제외된 길이:103\n"
     ]
    },
    {
     "data": {
      "application/vnd.jupyter.widget-view+json": {
       "model_id": "72bad8fce32e4c4a86d2bfabaaa7d7e0",
       "version_major": 2,
       "version_minor": 0
      },
      "text/plain": [
       "HBox(children=(FloatProgress(value=1.0, bar_style='info', max=1.0), HTML(value='')))"
      ]
     },
     "metadata": {},
     "output_type": "display_data"
    },
    {
     "name": "stdout",
     "output_type": "stream",
     "text": [
      "\n",
      "검색된길이:1000,제외된 길이:96\n"
     ]
    },
    {
     "data": {
      "application/vnd.jupyter.widget-view+json": {
       "model_id": "8a340913250c469e997ae36dc89df587",
       "version_major": 2,
       "version_minor": 0
      },
      "text/plain": [
       "HBox(children=(FloatProgress(value=1.0, bar_style='info', max=1.0), HTML(value='')))"
      ]
     },
     "metadata": {},
     "output_type": "display_data"
    },
    {
     "name": "stdout",
     "output_type": "stream",
     "text": [
      "\n",
      "검색된길이:720,제외된 길이:59\n"
     ]
    },
    {
     "data": {
      "application/vnd.jupyter.widget-view+json": {
       "model_id": "a6a6a543f18346afb540fd4f633d2fb3",
       "version_major": 2,
       "version_minor": 0
      },
      "text/plain": [
       "HBox(children=(FloatProgress(value=1.0, bar_style='info', max=1.0), HTML(value='')))"
      ]
     },
     "metadata": {},
     "output_type": "display_data"
    },
    {
     "name": "stdout",
     "output_type": "stream",
     "text": [
      "\n",
      "검색된길이:1000,제외된 길이:78\n"
     ]
    },
    {
     "data": {
      "application/vnd.jupyter.widget-view+json": {
       "model_id": "169e65636aec498aa3e03873b0b29af9",
       "version_major": 2,
       "version_minor": 0
      },
      "text/plain": [
       "HBox(children=(FloatProgress(value=1.0, bar_style='info', max=1.0), HTML(value='')))"
      ]
     },
     "metadata": {},
     "output_type": "display_data"
    },
    {
     "name": "stdout",
     "output_type": "stream",
     "text": [
      "\n",
      "검색된길이:1000,제외된 길이:79\n"
     ]
    },
    {
     "data": {
      "application/vnd.jupyter.widget-view+json": {
       "model_id": "4170d94d8e544bbe81c8f4bcb9d3cbd6",
       "version_major": 2,
       "version_minor": 0
      },
      "text/plain": [
       "HBox(children=(FloatProgress(value=1.0, bar_style='info', max=1.0), HTML(value='')))"
      ]
     },
     "metadata": {},
     "output_type": "display_data"
    },
    {
     "name": "stdout",
     "output_type": "stream",
     "text": [
      "\n",
      "검색된길이:1000,제외된 길이:94\n"
     ]
    },
    {
     "data": {
      "application/vnd.jupyter.widget-view+json": {
       "model_id": "ad33d387749c4ee4b5e7c1d09a5fce26",
       "version_major": 2,
       "version_minor": 0
      },
      "text/plain": [
       "HBox(children=(FloatProgress(value=1.0, bar_style='info', max=1.0), HTML(value='')))"
      ]
     },
     "metadata": {},
     "output_type": "display_data"
    },
    {
     "name": "stdout",
     "output_type": "stream",
     "text": [
      "\n",
      "검색된길이:1000,제외된 길이:130\n"
     ]
    },
    {
     "data": {
      "application/vnd.jupyter.widget-view+json": {
       "model_id": "8cd63debb1ab4fdbb4add336c2b0dcb5",
       "version_major": 2,
       "version_minor": 0
      },
      "text/plain": [
       "HBox(children=(FloatProgress(value=1.0, bar_style='info', max=1.0), HTML(value='')))"
      ]
     },
     "metadata": {},
     "output_type": "display_data"
    },
    {
     "name": "stdout",
     "output_type": "stream",
     "text": [
      "\n",
      "검색된길이:300,제외된 길이:0\n"
     ]
    },
    {
     "data": {
      "application/vnd.jupyter.widget-view+json": {
       "model_id": "388442756af9498abdc0da147d5e2235",
       "version_major": 2,
       "version_minor": 0
      },
      "text/plain": [
       "HBox(children=(FloatProgress(value=1.0, bar_style='info', max=1.0), HTML(value='')))"
      ]
     },
     "metadata": {},
     "output_type": "display_data"
    },
    {
     "name": "stdout",
     "output_type": "stream",
     "text": [
      "\n",
      "검색된길이:810,제외된 길이:41\n"
     ]
    },
    {
     "data": {
      "application/vnd.jupyter.widget-view+json": {
       "model_id": "89d87150a5914b3aa0b85495387e8682",
       "version_major": 2,
       "version_minor": 0
      },
      "text/plain": [
       "HBox(children=(FloatProgress(value=1.0, bar_style='info', max=1.0), HTML(value='')))"
      ]
     },
     "metadata": {},
     "output_type": "display_data"
    },
    {
     "name": "stdout",
     "output_type": "stream",
     "text": [
      "\n",
      "검색된길이:660,제외된 길이:58\n"
     ]
    },
    {
     "data": {
      "application/vnd.jupyter.widget-view+json": {
       "model_id": "2373e4eda19243839b6f05c64ea29094",
       "version_major": 2,
       "version_minor": 0
      },
      "text/plain": [
       "HBox(children=(FloatProgress(value=1.0, bar_style='info', max=1.0), HTML(value='')))"
      ]
     },
     "metadata": {},
     "output_type": "display_data"
    },
    {
     "name": "stdout",
     "output_type": "stream",
     "text": [
      "\n",
      "검색된길이:810,제외된 길이:104\n"
     ]
    },
    {
     "data": {
      "application/vnd.jupyter.widget-view+json": {
       "model_id": "635c655241e540809cb7659a991e26b2",
       "version_major": 2,
       "version_minor": 0
      },
      "text/plain": [
       "HBox(children=(FloatProgress(value=1.0, bar_style='info', max=1.0), HTML(value='')))"
      ]
     },
     "metadata": {},
     "output_type": "display_data"
    },
    {
     "name": "stdout",
     "output_type": "stream",
     "text": [
      "\n",
      "검색된길이:870,제외된 길이:57\n"
     ]
    },
    {
     "data": {
      "application/vnd.jupyter.widget-view+json": {
       "model_id": "678670a25fe744b795aa6a07ed78a0a6",
       "version_major": 2,
       "version_minor": 0
      },
      "text/plain": [
       "HBox(children=(FloatProgress(value=1.0, bar_style='info', max=1.0), HTML(value='')))"
      ]
     },
     "metadata": {},
     "output_type": "display_data"
    },
    {
     "name": "stdout",
     "output_type": "stream",
     "text": [
      "\n",
      "검색된길이:1000,제외된 길이:67\n"
     ]
    },
    {
     "data": {
      "application/vnd.jupyter.widget-view+json": {
       "model_id": "068a32300e004875bf360a7a807dca13",
       "version_major": 2,
       "version_minor": 0
      },
      "text/plain": [
       "HBox(children=(FloatProgress(value=1.0, bar_style='info', max=1.0), HTML(value='')))"
      ]
     },
     "metadata": {},
     "output_type": "display_data"
    },
    {
     "name": "stdout",
     "output_type": "stream",
     "text": [
      "\n",
      "검색된길이:390,제외된 길이:3\n"
     ]
    },
    {
     "data": {
      "application/vnd.jupyter.widget-view+json": {
       "model_id": "6fe0882f8846456e8197810f5a1b5d83",
       "version_major": 2,
       "version_minor": 0
      },
      "text/plain": [
       "HBox(children=(FloatProgress(value=1.0, bar_style='info', max=1.0), HTML(value='')))"
      ]
     },
     "metadata": {},
     "output_type": "display_data"
    },
    {
     "name": "stdout",
     "output_type": "stream",
     "text": [
      "\n",
      "검색된길이:1000,제외된 길이:64\n"
     ]
    },
    {
     "data": {
      "application/vnd.jupyter.widget-view+json": {
       "model_id": "46e843dc7fd74bd59fe69625f74477d1",
       "version_major": 2,
       "version_minor": 0
      },
      "text/plain": [
       "HBox(children=(FloatProgress(value=1.0, bar_style='info', max=1.0), HTML(value='')))"
      ]
     },
     "metadata": {},
     "output_type": "display_data"
    },
    {
     "name": "stdout",
     "output_type": "stream",
     "text": [
      "\n",
      "검색된길이:1000,제외된 길이:49\n"
     ]
    },
    {
     "data": {
      "application/vnd.jupyter.widget-view+json": {
       "model_id": "bbb295f2fb904c8e9d75045592af49ee",
       "version_major": 2,
       "version_minor": 0
      },
      "text/plain": [
       "HBox(children=(FloatProgress(value=1.0, bar_style='info', max=1.0), HTML(value='')))"
      ]
     },
     "metadata": {},
     "output_type": "display_data"
    },
    {
     "name": "stdout",
     "output_type": "stream",
     "text": [
      "\n",
      "검색된길이:1000,제외된 길이:67\n"
     ]
    },
    {
     "data": {
      "application/vnd.jupyter.widget-view+json": {
       "model_id": "91810affeee54c8d808a1c659b4b41cc",
       "version_major": 2,
       "version_minor": 0
      },
      "text/plain": [
       "HBox(children=(FloatProgress(value=1.0, bar_style='info', max=1.0), HTML(value='')))"
      ]
     },
     "metadata": {},
     "output_type": "display_data"
    },
    {
     "name": "stdout",
     "output_type": "stream",
     "text": [
      "\n",
      "검색된길이:720,제외된 길이:6\n"
     ]
    },
    {
     "data": {
      "application/vnd.jupyter.widget-view+json": {
       "model_id": "877dfbc75d9a4790a770596960e0bfd5",
       "version_major": 2,
       "version_minor": 0
      },
      "text/plain": [
       "HBox(children=(FloatProgress(value=1.0, bar_style='info', max=1.0), HTML(value='')))"
      ]
     },
     "metadata": {},
     "output_type": "display_data"
    },
    {
     "name": "stdout",
     "output_type": "stream",
     "text": [
      "\n",
      "검색된길이:1000,제외된 길이:66\n"
     ]
    },
    {
     "data": {
      "application/vnd.jupyter.widget-view+json": {
       "model_id": "6826f83f37264c239ab1f7c32ff396a6",
       "version_major": 2,
       "version_minor": 0
      },
      "text/plain": [
       "HBox(children=(FloatProgress(value=1.0, bar_style='info', max=1.0), HTML(value='')))"
      ]
     },
     "metadata": {},
     "output_type": "display_data"
    },
    {
     "name": "stdout",
     "output_type": "stream",
     "text": [
      "\n",
      "검색된길이:1000,제외된 길이:42\n"
     ]
    },
    {
     "data": {
      "application/vnd.jupyter.widget-view+json": {
       "model_id": "a61a41d32a4545f88451df699e830718",
       "version_major": 2,
       "version_minor": 0
      },
      "text/plain": [
       "HBox(children=(FloatProgress(value=1.0, bar_style='info', max=1.0), HTML(value='')))"
      ]
     },
     "metadata": {},
     "output_type": "display_data"
    },
    {
     "name": "stdout",
     "output_type": "stream",
     "text": [
      "\n",
      "검색된길이:1000,제외된 길이:3\n"
     ]
    },
    {
     "data": {
      "application/vnd.jupyter.widget-view+json": {
       "model_id": "3dfa4fa1fc894073a6b744186dcd3263",
       "version_major": 2,
       "version_minor": 0
      },
      "text/plain": [
       "HBox(children=(FloatProgress(value=1.0, bar_style='info', max=1.0), HTML(value='')))"
      ]
     },
     "metadata": {},
     "output_type": "display_data"
    },
    {
     "name": "stdout",
     "output_type": "stream",
     "text": [
      "\n",
      "검색된길이:750,제외된 길이:0\n"
     ]
    },
    {
     "data": {
      "application/vnd.jupyter.widget-view+json": {
       "model_id": "fd0419e3b42c4d3fae37222f87c03973",
       "version_major": 2,
       "version_minor": 0
      },
      "text/plain": [
       "HBox(children=(FloatProgress(value=1.0, bar_style='info', max=1.0), HTML(value='')))"
      ]
     },
     "metadata": {},
     "output_type": "display_data"
    },
    {
     "name": "stdout",
     "output_type": "stream",
     "text": [
      "\n",
      "검색된길이:540,제외된 길이:0\n"
     ]
    },
    {
     "data": {
      "application/vnd.jupyter.widget-view+json": {
       "model_id": "b9c16242726449cd9195b1500d1e5c41",
       "version_major": 2,
       "version_minor": 0
      },
      "text/plain": [
       "HBox(children=(FloatProgress(value=1.0, bar_style='info', max=1.0), HTML(value='')))"
      ]
     },
     "metadata": {},
     "output_type": "display_data"
    },
    {
     "name": "stdout",
     "output_type": "stream",
     "text": [
      "\n",
      "검색된길이:1000,제외된 길이:34\n"
     ]
    },
    {
     "data": {
      "application/vnd.jupyter.widget-view+json": {
       "model_id": "a7d2710b00934aca878ec496e401eab9",
       "version_major": 2,
       "version_minor": 0
      },
      "text/plain": [
       "HBox(children=(FloatProgress(value=1.0, bar_style='info', max=1.0), HTML(value='')))"
      ]
     },
     "metadata": {},
     "output_type": "display_data"
    },
    {
     "name": "stdout",
     "output_type": "stream",
     "text": [
      "\n",
      "검색된길이:999,제외된 길이:31\n"
     ]
    },
    {
     "data": {
      "application/vnd.jupyter.widget-view+json": {
       "model_id": "ea3d1cc9ecd04446a8a7d1f89401237c",
       "version_major": 2,
       "version_minor": 0
      },
      "text/plain": [
       "HBox(children=(FloatProgress(value=1.0, bar_style='info', max=1.0), HTML(value='')))"
      ]
     },
     "metadata": {},
     "output_type": "display_data"
    },
    {
     "name": "stdout",
     "output_type": "stream",
     "text": [
      "\n",
      "검색된길이:999,제외된 길이:13\n"
     ]
    },
    {
     "data": {
      "application/vnd.jupyter.widget-view+json": {
       "model_id": "11fe5137f39d4f6489c74d472e03d1d8",
       "version_major": 2,
       "version_minor": 0
      },
      "text/plain": [
       "HBox(children=(FloatProgress(value=1.0, bar_style='info', max=1.0), HTML(value='')))"
      ]
     },
     "metadata": {},
     "output_type": "display_data"
    },
    {
     "name": "stdout",
     "output_type": "stream",
     "text": [
      "\n",
      "검색된길이:1000,제외된 길이:13\n"
     ]
    },
    {
     "data": {
      "application/vnd.jupyter.widget-view+json": {
       "model_id": "4f1252309bc44b96a038eb877fd8566d",
       "version_major": 2,
       "version_minor": 0
      },
      "text/plain": [
       "HBox(children=(FloatProgress(value=1.0, bar_style='info', max=1.0), HTML(value='')))"
      ]
     },
     "metadata": {},
     "output_type": "display_data"
    },
    {
     "name": "stdout",
     "output_type": "stream",
     "text": [
      "\n",
      "검색된길이:900,제외된 길이:6\n"
     ]
    },
    {
     "data": {
      "application/vnd.jupyter.widget-view+json": {
       "model_id": "1b5b4f414e3c42e0807aa14e8ef4ac2a",
       "version_major": 2,
       "version_minor": 0
      },
      "text/plain": [
       "HBox(children=(FloatProgress(value=1.0, bar_style='info', max=1.0), HTML(value='')))"
      ]
     },
     "metadata": {},
     "output_type": "display_data"
    },
    {
     "name": "stdout",
     "output_type": "stream",
     "text": [
      "\n",
      "검색된길이:1000,제외된 길이:6\n"
     ]
    },
    {
     "data": {
      "application/vnd.jupyter.widget-view+json": {
       "model_id": "48cec8209fb24dd89683cd9a56f41705",
       "version_major": 2,
       "version_minor": 0
      },
      "text/plain": [
       "HBox(children=(FloatProgress(value=1.0, bar_style='info', max=1.0), HTML(value='')))"
      ]
     },
     "metadata": {},
     "output_type": "display_data"
    },
    {
     "name": "stdout",
     "output_type": "stream",
     "text": [
      "\n",
      "검색된길이:1000,제외된 길이:6\n"
     ]
    },
    {
     "data": {
      "application/vnd.jupyter.widget-view+json": {
       "model_id": "a8008ae742ae43f4acecbf9f0bf49e01",
       "version_major": 2,
       "version_minor": 0
      },
      "text/plain": [
       "HBox(children=(FloatProgress(value=1.0, bar_style='info', max=1.0), HTML(value='')))"
      ]
     },
     "metadata": {},
     "output_type": "display_data"
    },
    {
     "name": "stdout",
     "output_type": "stream",
     "text": [
      "\n",
      "검색된길이:1000,제외된 길이:2\n"
     ]
    },
    {
     "data": {
      "application/vnd.jupyter.widget-view+json": {
       "model_id": "e62c66f455274f108d5dfb883907cac0",
       "version_major": 2,
       "version_minor": 0
      },
      "text/plain": [
       "HBox(children=(FloatProgress(value=1.0, bar_style='info', max=1.0), HTML(value='')))"
      ]
     },
     "metadata": {},
     "output_type": "display_data"
    },
    {
     "name": "stdout",
     "output_type": "stream",
     "text": [
      "\n",
      "검색된길이:1000,제외된 길이:1\n"
     ]
    },
    {
     "data": {
      "application/vnd.jupyter.widget-view+json": {
       "model_id": "170265c262254ce48a9651fdab1486e9",
       "version_major": 2,
       "version_minor": 0
      },
      "text/plain": [
       "HBox(children=(FloatProgress(value=1.0, bar_style='info', max=1.0), HTML(value='')))"
      ]
     },
     "metadata": {},
     "output_type": "display_data"
    },
    {
     "name": "stdout",
     "output_type": "stream",
     "text": [
      "\n",
      "검색된길이:1000,제외된 길이:0\n"
     ]
    },
    {
     "data": {
      "application/vnd.jupyter.widget-view+json": {
       "model_id": "7adf48e5e46d4d0da0c3a2f80957cad3",
       "version_major": 2,
       "version_minor": 0
      },
      "text/plain": [
       "HBox(children=(FloatProgress(value=1.0, bar_style='info', max=1.0), HTML(value='')))"
      ]
     },
     "metadata": {},
     "output_type": "display_data"
    },
    {
     "name": "stdout",
     "output_type": "stream",
     "text": [
      "\n",
      "검색된길이:330,제외된 길이:0\n"
     ]
    },
    {
     "data": {
      "application/vnd.jupyter.widget-view+json": {
       "model_id": "2f70fcd76be04e2fa855e94d62ab4e15",
       "version_major": 2,
       "version_minor": 0
      },
      "text/plain": [
       "HBox(children=(FloatProgress(value=1.0, bar_style='info', max=1.0), HTML(value='')))"
      ]
     },
     "metadata": {},
     "output_type": "display_data"
    }
   ],
   "source": [
    "start_dates, end_dates = make_date_list(2011,2020)\n",
    "\n",
    "for date_num in tqdm(range(0, len(start_dates))):\n",
    "    date_from = start_dates[date_num]\n",
    "    date_to = end_dates[date_num]\n",
    "    new_crawling(keyword, path, date_from, date_to,True)"
   ]
  },
  {
   "cell_type": "markdown",
   "metadata": {},
   "source": [
    "### 이하 작업본"
   ]
  },
  {
   "cell_type": "code",
   "execution_count": 48,
   "metadata": {
    "ExecuteTime": {
     "end_time": "2021-01-12T04:19:27.190924Z",
     "start_time": "2021-01-12T04:19:27.143065Z"
    }
   },
   "outputs": [],
   "source": [
    "temp = pd.read_csv('./new_output/크롤링/강릉/20100101~20100131_강릉_173_2021-01-12.csv')"
   ]
  },
  {
   "cell_type": "code",
   "execution_count": 49,
   "metadata": {
    "ExecuteTime": {
     "end_time": "2021-01-12T04:19:30.472006Z",
     "start_time": "2021-01-12T04:19:30.460004Z"
    }
   },
   "outputs": [
    {
     "data": {
      "text/html": [
       "<div>\n",
       "<style scoped>\n",
       "    .dataframe tbody tr th:only-of-type {\n",
       "        vertical-align: middle;\n",
       "    }\n",
       "\n",
       "    .dataframe tbody tr th {\n",
       "        vertical-align: top;\n",
       "    }\n",
       "\n",
       "    .dataframe thead th {\n",
       "        text-align: right;\n",
       "    }\n",
       "</style>\n",
       "<table border=\"1\" class=\"dataframe\">\n",
       "  <thead>\n",
       "    <tr style=\"text-align: right;\">\n",
       "      <th></th>\n",
       "      <th>dates</th>\n",
       "      <th>title</th>\n",
       "      <th>urls</th>\n",
       "      <th>text</th>\n",
       "    </tr>\n",
       "  </thead>\n",
       "  <tbody>\n",
       "    <tr>\n",
       "      <th>0</th>\n",
       "      <td>2010-01-01</td>\n",
       "      <td>향좋은 커피 공장 &lt;테라로사&gt; - 강릉 맛집</td>\n",
       "      <td>https://blog.naver.com/lcyyong5?Redirect=Log&amp;l...</td>\n",
       "      <td>[' 강릉으로 여행을 가면 짬뽕을 먹던 바닷가에서 회를 먹든 향 좋은 커피를 만드는...</td>\n",
       "    </tr>\n",
       "    <tr>\n",
       "      <th>1</th>\n",
       "      <td>2010-01-01</td>\n",
       "      <td>&lt;강원 강릉 카페&gt; 언덕위의 바다 히피커피</td>\n",
       "      <td>https://blog.naver.com/dalpange98?Redirect=Log...</td>\n",
       "      <td>[' 12월 31일, 해맞이 여행의 테마를 나름 커피여행으로 잡았다. 진즉부터 가보...</td>\n",
       "    </tr>\n",
       "    <tr>\n",
       "      <th>2</th>\n",
       "      <td>2010-01-01</td>\n",
       "      <td>[강릉 맛집/교동 맛집]교동반점의 짬뽕</td>\n",
       "      <td>https://blog.naver.com/baeh76?Redirect=Log&amp;log...</td>\n",
       "      <td>[\" 짬뽕을 좋아하는 1인으로서 강릉에 왔는데 어찌 그냥 갈수 있겠습니까... 대구...</td>\n",
       "    </tr>\n",
       "    <tr>\n",
       "      <th>3</th>\n",
       "      <td>2010-01-01</td>\n",
       "      <td>강릉 홍길동전 박물관</td>\n",
       "      <td>https://blog.naver.com/neduk98?Redirect=Log&amp;lo...</td>\n",
       "      <td>[\" 평소 박물관에서 시간 보내길 좋아하는 내가 강릉에서 연수받으면서 찾아간 '강릉...</td>\n",
       "    </tr>\n",
       "    <tr>\n",
       "      <th>4</th>\n",
       "      <td>2010-01-01</td>\n",
       "      <td>[강릉맛집-만춘루] 강릉 짬뽕의 양대산맥중 하나랍니다.</td>\n",
       "      <td>https://blog.naver.com/dupolic?Redirect=Log&amp;lo...</td>\n",
       "      <td>[\" 유치원 방학동안 강릉에 맡긴 아이를 다시 데리고 오기 위해 2009년 마지막날...</td>\n",
       "    </tr>\n",
       "    <tr>\n",
       "      <th>...</th>\n",
       "      <td>...</td>\n",
       "      <td>...</td>\n",
       "      <td>...</td>\n",
       "      <td>...</td>\n",
       "    </tr>\n",
       "    <tr>\n",
       "      <th>822</th>\n",
       "      <td>2010-01-01</td>\n",
       "      <td>제왕산 겨울풍경 주목</td>\n",
       "      <td>https://blog.naver.com/lis0013?Redirect=Log&amp;lo...</td>\n",
       "      <td>[' 백두대간 마루금 대관령 에서 동해를 바라보며 강원 강릉으로 내달린 한줄기 산맥...</td>\n",
       "    </tr>\n",
       "    <tr>\n",
       "      <th>823</th>\n",
       "      <td>2010-01-01</td>\n",
       "      <td>진화하는 부동산 투기 수법</td>\n",
       "      <td>https://blog.naver.com/juhodu?Redirect=Log&amp;log...</td>\n",
       "      <td>[' real estate/ 부동산 관련 소득탈루 백태 Wealth Manageme...</td>\n",
       "    </tr>\n",
       "    <tr>\n",
       "      <th>824</th>\n",
       "      <td>2010-01-01</td>\n",
       "      <td>손목절단환자...</td>\n",
       "      <td>https://blog.naver.com/morningsix?Redirect=Log...</td>\n",
       "      <td>[' 주간업무를 마치고 구급대로 와서 밥을 배불리먹고 편히 쉬고있던 어느날 저녁.....</td>\n",
       "    </tr>\n",
       "    <tr>\n",
       "      <th>825</th>\n",
       "      <td>2010-01-01</td>\n",
       "      <td>솔 향 강 릉</td>\n",
       "      <td>https://blog.naver.com/kimhr9140?Redirect=Log&amp;...</td>\n",
       "      <td>[\" 설화가 있어 더 정겨운 유적지 석천과 굴산사지 “처녀가 애를 낳아도 할 말이 ...</td>\n",
       "    </tr>\n",
       "    <tr>\n",
       "      <th>826</th>\n",
       "      <td>2010-01-01</td>\n",
       "      <td>울진의 의료서비스 문제점&lt;제2편 진료체계 문제&gt; [조회수 : 307]</td>\n",
       "      <td>https://blog.naver.com/gunwooknam?Redirect=Log...</td>\n",
       "      <td>[' 울진의 의료서비스 문제점&lt;제2편 진료체계 문제&gt; [조회수 : 307] ■ 남건...</td>\n",
       "    </tr>\n",
       "  </tbody>\n",
       "</table>\n",
       "<p>827 rows × 4 columns</p>\n",
       "</div>"
      ],
      "text/plain": [
       "          dates                                   title  \\\n",
       "0    2010-01-01                향좋은 커피 공장 <테라로사> - 강릉 맛집   \n",
       "1    2010-01-01                 <강원 강릉 카페> 언덕위의 바다 히피커피   \n",
       "2    2010-01-01                   [강릉 맛집/교동 맛집]교동반점의 짬뽕   \n",
       "3    2010-01-01                             강릉 홍길동전 박물관   \n",
       "4    2010-01-01          [강릉맛집-만춘루] 강릉 짬뽕의 양대산맥중 하나랍니다.   \n",
       "..          ...                                     ...   \n",
       "822  2010-01-01                             제왕산 겨울풍경 주목   \n",
       "823  2010-01-01                          진화하는 부동산 투기 수법   \n",
       "824  2010-01-01                               손목절단환자...   \n",
       "825  2010-01-01                                 솔 향 강 릉   \n",
       "826  2010-01-01  울진의 의료서비스 문제점<제2편 진료체계 문제> [조회수 : 307]   \n",
       "\n",
       "                                                  urls  \\\n",
       "0    https://blog.naver.com/lcyyong5?Redirect=Log&l...   \n",
       "1    https://blog.naver.com/dalpange98?Redirect=Log...   \n",
       "2    https://blog.naver.com/baeh76?Redirect=Log&log...   \n",
       "3    https://blog.naver.com/neduk98?Redirect=Log&lo...   \n",
       "4    https://blog.naver.com/dupolic?Redirect=Log&lo...   \n",
       "..                                                 ...   \n",
       "822  https://blog.naver.com/lis0013?Redirect=Log&lo...   \n",
       "823  https://blog.naver.com/juhodu?Redirect=Log&log...   \n",
       "824  https://blog.naver.com/morningsix?Redirect=Log...   \n",
       "825  https://blog.naver.com/kimhr9140?Redirect=Log&...   \n",
       "826  https://blog.naver.com/gunwooknam?Redirect=Log...   \n",
       "\n",
       "                                                  text  \n",
       "0    [' 강릉으로 여행을 가면 짬뽕을 먹던 바닷가에서 회를 먹든 향 좋은 커피를 만드는...  \n",
       "1    [' 12월 31일, 해맞이 여행의 테마를 나름 커피여행으로 잡았다. 진즉부터 가보...  \n",
       "2    [\" 짬뽕을 좋아하는 1인으로서 강릉에 왔는데 어찌 그냥 갈수 있겠습니까... 대구...  \n",
       "3    [\" 평소 박물관에서 시간 보내길 좋아하는 내가 강릉에서 연수받으면서 찾아간 '강릉...  \n",
       "4    [\" 유치원 방학동안 강릉에 맡긴 아이를 다시 데리고 오기 위해 2009년 마지막날...  \n",
       "..                                                 ...  \n",
       "822  [' 백두대간 마루금 대관령 에서 동해를 바라보며 강원 강릉으로 내달린 한줄기 산맥...  \n",
       "823  [' real estate/ 부동산 관련 소득탈루 백태 Wealth Manageme...  \n",
       "824  [' 주간업무를 마치고 구급대로 와서 밥을 배불리먹고 편히 쉬고있던 어느날 저녁.....  \n",
       "825  [\" 설화가 있어 더 정겨운 유적지 석천과 굴산사지 “처녀가 애를 낳아도 할 말이 ...  \n",
       "826  [' 울진의 의료서비스 문제점<제2편 진료체계 문제> [조회수 : 307] ■ 남건...  \n",
       "\n",
       "[827 rows x 4 columns]"
      ]
     },
     "execution_count": 49,
     "metadata": {},
     "output_type": "execute_result"
    }
   ],
   "source": [
    "temp"
   ]
  },
  {
   "cell_type": "code",
   "execution_count": 34,
   "metadata": {
    "ExecuteTime": {
     "end_time": "2021-01-12T02:09:25.752443Z",
     "start_time": "2021-01-12T02:09:20.946224Z"
    }
   },
   "outputs": [
    {
     "name": "stderr",
     "output_type": "stream",
     "text": [
      "C:\\Users\\User\\Anaconda3\\lib\\site-packages\\ipykernel_launcher.py:11: DeprecationWarning: use options instead of chrome_options\n",
      "  # This is added back by InteractiveShellApp.init_path()\n"
     ]
    },
    {
     "name": "stdout",
     "output_type": "stream",
     "text": [
      "2\n",
      "3\n"
     ]
    }
   ],
   "source": [
    "#임시저장\n",
    "blog_urls = dict()\n",
    "blog_urls['dates'] = []\n",
    "blog_urls['title'] = []\n",
    "blog_urls['urls'] = []\n",
    "options = Options()\n",
    "\n",
    "# 크롬드라이버 작동 \n",
    "options.add_argument('--start-maximized') #전체화면\n",
    "# options.add_argument('--headless') #headless(화면안켜고)\n",
    "driver = webdriver.Chrome(executable_path='./chromedriver', chrome_options=options)\n",
    "driver.get(base_url)\n",
    "\n",
    "#최대 아래로 스크롤\n",
    "count = 1\n",
    "b_blog_num = ''\n",
    "for i in range(0,40):\n",
    "    driver.execute_script(\"window.scrollTo(0, document.body.scrollHeight);\")\n",
    "    time.sleep(0.5)\n",
    "    count += 1\n",
    "    print(count)\n",
    "    #스크롤 마지막 blog_num 비교\n",
    "    source = driver.page_source\n",
    "    soup = BeautifulSoup(source, 'html.parser')\n",
    "    l_blog_num = soup.select('li[id^=\"sp_blog\"]')[-1]['id']\n",
    "    \n",
    "    if b_blog_num == l_blog_num: #마지막 번호와 동일하면 스크롤 중지\n",
    "        break\n",
    "    else :\n",
    "        b_blog_num = l_blog_num"
   ]
  },
  {
   "cell_type": "markdown",
   "metadata": {
    "heading_collapsed": true
   },
   "source": [
    "### 각 블로그 들어가서 url주소 따오는 방법(느림)"
   ]
  },
  {
   "cell_type": "code",
   "execution_count": 233,
   "metadata": {
    "ExecuteTime": {
     "end_time": "2021-01-06T22:26:22.973199Z",
     "start_time": "2021-01-06T16:46:04.957407Z"
    },
    "hidden": true,
    "scrolled": true
   },
   "outputs": [
    {
     "name": "stderr",
     "output_type": "stream",
     "text": [
      "C:\\Users\\User\\Anaconda3\\lib\\site-packages\\ipykernel_launcher.py:6: DeprecationWarning: use options instead of chrome_options\n",
      "  \n",
      "C:\\Users\\User\\Anaconda3\\lib\\site-packages\\ipykernel_launcher.py:17: TqdmDeprecationWarning: This function will be removed in tqdm==5.0.0\n",
      "Please use `tqdm.notebook.tqdm` instead of `tqdm.tqdm_notebook`\n"
     ]
    },
    {
     "data": {
      "application/vnd.jupyter.widget-view+json": {
       "model_id": "493a9f0b57504eae92461cc7131eb429",
       "version_major": 2,
       "version_minor": 0
      },
      "text/plain": [
       "HBox(children=(FloatProgress(value=0.0, max=59999.0), HTML(value='')))"
      ]
     },
     "metadata": {},
     "output_type": "display_data"
    },
    {
     "name": "stdout",
     "output_type": "stream",
     "text": [
      "\n"
     ]
    }
   ],
   "source": [
    "options = Options()\n",
    "# 크롬드라이버 작동 \n",
    "# os.chdir(',') #크롬드라이버위치\n",
    "options.add_argument('--start-maximized') #전체화면\n",
    "# options.add_argument('--headless') #headless(화면안켜고)\n",
    "driver = webdriver.Chrome(executable_path='./chromedriver', chrome_options=options)\n",
    "\n",
    "#저장위치\n",
    "blog_urls = dict()\n",
    "blog_urls['dates'] = []\n",
    "blog_urls['title'] = []\n",
    "blog_urls['urls'] = []\n",
    "\n",
    "#검색위치 \n",
    "driver.get(base_url)\n",
    "#최대 1천개\n",
    "try :\n",
    "    for i in tqdm_notebook(range(1,1001)):\n",
    "        blog_url = driver.find_element_by_xpath(f'//*[@id=\"sp_blog_{i}\"]/div/a[2]')\n",
    "        #title\n",
    "        title = blog_url.text\n",
    "        blog_urls['title'].append(title)\n",
    "        #date\n",
    "        date = driver.find_element_by_xpath(f'//*[@id=\"sp_blog_{i}\"]/div/div[1]/span/span/span[1]/span').text\n",
    "        blog_urls['dates'].append(date)\n",
    "        blog_url.click()\n",
    "        driver.switch_to.window(driver.window_handles[-1]) #탭전환\n",
    "        blog_urls['urls'].append(driver.current_url)\n",
    "        driver.close()\n",
    "        driver.switch_to.window(driver.window_handles[0]) #탭복구\n",
    "        driver.execute_script(\"window.scrollTo(0, document.body.scrollHeight);\")\n",
    "except:\n",
    "    pass"
   ]
  },
  {
   "cell_type": "markdown",
   "metadata": {},
   "source": [
    "### 셀레니움으로 최대치(1천건)까지 아래로 스크롤 후 긁어오기\n",
    "* 최대 1천이 아닐때 에러날것 -> 대안1 최대 1천건 스크롤(42번) 문제사항(문서가 짧으면 무의미한 스크롤) 대안필요"
   ]
  },
  {
   "cell_type": "code",
   "execution_count": 242,
   "metadata": {
    "ExecuteTime": {
     "end_time": "2021-01-08T07:04:04.970590Z",
     "start_time": "2021-01-08T07:04:01.014697Z"
    }
   },
   "outputs": [
    {
     "name": "stderr",
     "output_type": "stream",
     "text": [
      "C:\\Users\\User\\Anaconda3\\lib\\site-packages\\ipykernel_launcher.py:5: DeprecationWarning: use options instead of chrome_options\n",
      "  \"\"\"\n"
     ]
    }
   ],
   "source": [
    "options = Options()\n",
    "# 크롬드라이버 작동 \n",
    "options.add_argument('--start-maximized') #전체화면\n",
    "# options.add_argument('--headless') #headless(화면안켜고)\n",
    "driver = webdriver.Chrome(executable_path='./chromedriver', chrome_options=options)\n",
    "\n",
    "#저장위치\n",
    "blog_urls = dict()\n",
    "blog_urls['dates'] = []\n",
    "blog_urls['title'] = []\n",
    "blog_urls['urls'] = []\n",
    "\n",
    "#검색위치 \n",
    "driver.get(base_url)"
   ]
  },
  {
   "cell_type": "code",
   "execution_count": null,
   "metadata": {},
   "outputs": [],
   "source": [
    "#_view_review_body_html > div > more-contents > div > ul"
   ]
  },
  {
   "cell_type": "code",
   "execution_count": 179,
   "metadata": {
    "ExecuteTime": {
     "end_time": "2021-01-08T02:22:50.392909Z",
     "start_time": "2021-01-08T02:22:12.602942Z"
    }
   },
   "outputs": [
    {
     "name": "stderr",
     "output_type": "stream",
     "text": [
      "C:\\Users\\User\\Anaconda3\\lib\\site-packages\\ipykernel_launcher.py:5: DeprecationWarning: use options instead of chrome_options\n",
      "  \"\"\"\n"
     ]
    },
    {
     "name": "stdout",
     "output_type": "stream",
     "text": [
      "34\n"
     ]
    }
   ],
   "source": [
    "options = Options()\n",
    "# 크롬드라이버 작동 \n",
    "options.add_argument('--start-maximized') #전체화면\n",
    "# options.add_argument('--headless') #headless(화면안켜고)\n",
    "driver = webdriver.Chrome(executable_path='./chromedriver', chrome_options=options)\n",
    "\n",
    "#저장위치\n",
    "blog_urls = dict()\n",
    "blog_urls['dates'] = []\n",
    "blog_urls['title'] = []\n",
    "blog_urls['urls'] = []\n",
    "\n",
    "#검색위치 \n",
    "driver.get(base_url)\n",
    "\n",
    "#최대 아래로 스크롤\n",
    "count =1\n",
    "string = '1'\n",
    "some_tag = '1'\n",
    "while type(some_tag) == type(string): #sele\n",
    "    try : \n",
    "        some_tag = driver.find_element_by_id('sp_blog_1000')\n",
    "    except:\n",
    "        driver.execute_script(\"window.scrollTo(0, document.body.scrollHeight);\")\n",
    "        time.sleep(1)\n",
    "        count += 1\n",
    "print(count)"
   ]
  },
  {
   "cell_type": "code",
   "execution_count": 250,
   "metadata": {
    "ExecuteTime": {
     "end_time": "2021-01-08T07:09:45.855983Z",
     "start_time": "2021-01-08T07:09:36.780431Z"
    }
   },
   "outputs": [
    {
     "name": "stderr",
     "output_type": "stream",
     "text": [
      "C:\\Users\\User\\Anaconda3\\lib\\site-packages\\ipykernel_launcher.py:5: DeprecationWarning: use options instead of chrome_options\n",
      "  \"\"\"\n"
     ]
    }
   ],
   "source": [
    "options = Options()\n",
    "# 크롬드라이버 작동 \n",
    "options.add_argument('--start-maximized') #전체화면\n",
    "options.add_argument('--headless') #headless(화면안켜고)\n",
    "driver = webdriver.Chrome(executable_path='./chromedriver', chrome_options=options)\n",
    "\n",
    "#저장위치\n",
    "blog_urls = dict()\n",
    "blog_urls['dates'] = []\n",
    "blog_urls['title'] = []\n",
    "blog_urls['urls'] = []\n",
    "\n",
    "#검색위치 \n",
    "driver.get(base_url)\n",
    "\n",
    "#최대 아래로 스크롤\n",
    "count =1\n",
    "string = '1'\n",
    "some_tag = '1'\n",
    "for i in range(0,40):\n",
    "    driver.execute_script(\"window.scrollTo(0, document.body.scrollHeight);\")\n",
    "    time.sleep(0.1)\n",
    "    count += 1\n",
    "source = driver.page_source\n",
    "# print(count)\n",
    "driver.close()\n",
    "\n",
    "#각 정보 불러오기\n",
    "soup = BeautifulSoup(source, 'html.parser')\n",
    "\n",
    "#dates\n",
    "dates_list = soup.select('div > div.total_sub > span > span > span.etc_dsc_area > span')\n",
    "dates = pd.Series(dates_list).apply(lambda x : x.text)\n",
    "blog_urls['dates'] = blog_urls['dates'] + list(dates)\n",
    "\n",
    "#titles\n",
    "title_list = soup.select('div > a.api_txt_lines.total_tit')\n",
    "titles = pd.Series(title_list).apply(lambda x : x.text)\n",
    "blog_urls['title'] = blog_urls['title'] + list(titles)\n",
    "\n",
    "#link\n",
    "link_list = soup.select('div.total_dsc_wrap a.total_dsc')\n",
    "links = pd.Series(link_list).apply(lambda x : x.get('href'))\n",
    "blog_urls['urls'] = blog_urls['urls'] + list(links)\n"
   ]
  },
  {
   "cell_type": "code",
   "execution_count": 253,
   "metadata": {
    "ExecuteTime": {
     "end_time": "2021-01-08T07:10:14.466176Z",
     "start_time": "2021-01-08T07:10:14.462175Z"
    }
   },
   "outputs": [],
   "source": [
    "df = pd.DataFrame(blog_urls)\n",
    "\n",
    "df_dict =  df.to_dict()"
   ]
  },
  {
   "cell_type": "code",
   "execution_count": 258,
   "metadata": {
    "ExecuteTime": {
     "end_time": "2021-01-08T07:11:06.173014Z",
     "start_time": "2021-01-08T07:11:06.164012Z"
    }
   },
   "outputs": [
    {
     "data": {
      "text/html": [
       "<div>\n",
       "<style scoped>\n",
       "    .dataframe tbody tr th:only-of-type {\n",
       "        vertical-align: middle;\n",
       "    }\n",
       "\n",
       "    .dataframe tbody tr th {\n",
       "        vertical-align: top;\n",
       "    }\n",
       "\n",
       "    .dataframe thead th {\n",
       "        text-align: right;\n",
       "    }\n",
       "</style>\n",
       "<table border=\"1\" class=\"dataframe\">\n",
       "  <thead>\n",
       "    <tr style=\"text-align: right;\">\n",
       "      <th></th>\n",
       "      <th>dates</th>\n",
       "      <th>title</th>\n",
       "      <th>urls</th>\n",
       "    </tr>\n",
       "  </thead>\n",
       "  <tbody>\n",
       "    <tr>\n",
       "      <th>0</th>\n",
       "      <td>2020.12.17.</td>\n",
       "      <td>드라이브로 강릉 가볼만한곳 6</td>\n",
       "      <td>https://blog.naver.com/nailstan?Redirect=Log&amp;l...</td>\n",
       "    </tr>\n",
       "    <tr>\n",
       "      <th>1</th>\n",
       "      <td>2020.12.25.</td>\n",
       "      <td>강릉 가볼만한곳 정동진부터 당일 5곳</td>\n",
       "      <td>https://blog.naver.com/tcacyc?Redirect=Log&amp;log...</td>\n",
       "    </tr>\n",
       "    <tr>\n",
       "      <th>2</th>\n",
       "      <td>2020.12.29.</td>\n",
       "      <td>신선하게 즐겼던 강릉 횟집</td>\n",
       "      <td>https://dlfauddl.blog.me/222189422030</td>\n",
       "    </tr>\n",
       "    <tr>\n",
       "      <th>3</th>\n",
       "      <td>2020.12.31.</td>\n",
       "      <td>엄선해본 강원도 강릉 맛집 LIST</td>\n",
       "      <td>https://blog.naver.com/opop525?Redirect=Log&amp;lo...</td>\n",
       "    </tr>\n",
       "    <tr>\n",
       "      <th>4</th>\n",
       "      <td>2020.12.29.</td>\n",
       "      <td>다채로웠던 강릉 맛집 추천 리스트</td>\n",
       "      <td>https://blog.naver.com/hangilchi?Redirect=Log&amp;...</td>\n",
       "    </tr>\n",
       "    <tr>\n",
       "      <th>5</th>\n",
       "      <td>2020.12.26.</td>\n",
       "      <td>광고가 아닌 강릉 횟집 경포대 환호횟집</td>\n",
       "      <td>https://blog.naver.com/river0703?Redirect=Log&amp;...</td>\n",
       "    </tr>\n",
       "    <tr>\n",
       "      <th>6</th>\n",
       "      <td>2020.12.26.</td>\n",
       "      <td>단번에 빠졌던 강릉횟집</td>\n",
       "      <td>https://blog.naver.com/llzzinll?Redirect=Log&amp;l...</td>\n",
       "    </tr>\n",
       "    <tr>\n",
       "      <th>7</th>\n",
       "      <td>2020.12.26.</td>\n",
       "      <td>행복했던 강릉 횟집</td>\n",
       "      <td>https://blog.naver.com/amanda_som?Redirect=Log...</td>\n",
       "    </tr>\n",
       "    <tr>\n",
       "      <th>8</th>\n",
       "      <td>2020.11.28.</td>\n",
       "      <td>겨울에 강릉 가볼만한곳 모음</td>\n",
       "      <td>https://blog.naver.com/ultrabat?Redirect=Log&amp;l...</td>\n",
       "    </tr>\n",
       "    <tr>\n",
       "      <th>9</th>\n",
       "      <td>2020.12.25.</td>\n",
       "      <td>강릉 회센터 회 맛집이구만!</td>\n",
       "      <td>https://blog.naver.com/amore_bh?Redirect=Log&amp;l...</td>\n",
       "    </tr>\n",
       "    <tr>\n",
       "      <th>10</th>\n",
       "      <td>2020.12.21.</td>\n",
       "      <td>가치있는 강릉 횟집</td>\n",
       "      <td>https://hoi1004226.blog.me/222180665442</td>\n",
       "    </tr>\n",
       "    <tr>\n",
       "      <th>11</th>\n",
       "      <td>2020.12.25.</td>\n",
       "      <td>싱싱했던 강릉 포장 맛집 list5</td>\n",
       "      <td>https://blog.naver.com/meeae80?Redirect=Log&amp;lo...</td>\n",
       "    </tr>\n",
       "    <tr>\n",
       "      <th>12</th>\n",
       "      <td>2020.12.31.</td>\n",
       "      <td>마음갔던 강릉 맛집 리스트</td>\n",
       "      <td>https://arum0825.blog.me/222190877799</td>\n",
       "    </tr>\n",
       "    <tr>\n",
       "      <th>13</th>\n",
       "      <td>2020.12.30.</td>\n",
       "      <td>강렬했던 강릉 횟집</td>\n",
       "      <td>https://blog.naver.com/voyage_iny?Redirect=Log...</td>\n",
       "    </tr>\n",
       "    <tr>\n",
       "      <th>14</th>\n",
       "      <td>2020.12.22.</td>\n",
       "      <td>강릉 생선구이 맛집 / 등대수산 주문진항 근처!</td>\n",
       "      <td>https://blog.naver.com/jjubi77?Redirect=Log&amp;lo...</td>\n",
       "    </tr>\n",
       "    <tr>\n",
       "      <th>15</th>\n",
       "      <td>2020.12.17.</td>\n",
       "      <td>찐이었던 강릉안목해변맛집</td>\n",
       "      <td>https://blog.naver.com/hai33?Redirect=Log&amp;logN...</td>\n",
       "    </tr>\n",
       "    <tr>\n",
       "      <th>16</th>\n",
       "      <td>2020.12.18.</td>\n",
       "      <td>강릉 시내 맛집 흡족스러워</td>\n",
       "      <td>https://blog.naver.com/sosotaya2?Redirect=Log&amp;...</td>\n",
       "    </tr>\n",
       "    <tr>\n",
       "      <th>17</th>\n",
       "      <td>2020.12.15.</td>\n",
       "      <td>예술적인 강릉 대방어 회포장 총정리</td>\n",
       "      <td>https://blog.naver.com/hogengggy?Redirect=Log&amp;...</td>\n",
       "    </tr>\n",
       "    <tr>\n",
       "      <th>18</th>\n",
       "      <td>2020.12.31.</td>\n",
       "      <td>기쁨 주는 강릉 맛집 LIST</td>\n",
       "      <td>https://horong95.blog.me/222191202147</td>\n",
       "    </tr>\n",
       "    <tr>\n",
       "      <th>19</th>\n",
       "      <td>2020.12.26.</td>\n",
       "      <td>넘사벽이었던 강릉맛집 모음</td>\n",
       "      <td>https://blog.naver.com/asdffggg2?Redirect=Log&amp;...</td>\n",
       "    </tr>\n",
       "    <tr>\n",
       "      <th>20</th>\n",
       "      <td>2020.12.26.</td>\n",
       "      <td>맛과 정성의 강릉맛집 모음</td>\n",
       "      <td>https://blog.naver.com/candypowder?Redirect=Lo...</td>\n",
       "    </tr>\n",
       "    <tr>\n",
       "      <th>21</th>\n",
       "      <td>2020.12.26.</td>\n",
       "      <td>강릉 중앙시장 먹거리 주차장 월화거리 꼼꼼히 둘러보기</td>\n",
       "      <td>https://blog.naver.com/ultrabat?Redirect=Log&amp;l...</td>\n",
       "    </tr>\n",
       "    <tr>\n",
       "      <th>22</th>\n",
       "      <td>2020.12.18.</td>\n",
       "      <td>감탄했던 강릉 중앙시장 맛집 모음</td>\n",
       "      <td>https://blog.naver.com/zzanguna?Redirect=Log&amp;l...</td>\n",
       "    </tr>\n",
       "    <tr>\n",
       "      <th>23</th>\n",
       "      <td>2020.12.30.</td>\n",
       "      <td>호화스러운 강릉 강문해변 맛집</td>\n",
       "      <td>https://blog.naver.com/noola0728?Redirect=Log&amp;...</td>\n",
       "    </tr>\n",
       "    <tr>\n",
       "      <th>24</th>\n",
       "      <td>2020.12.29.</td>\n",
       "      <td>생생정보에 나온 강릉 조개구이 무한리필 어디?</td>\n",
       "      <td>https://blog.naver.com/friday77?Redirect=Log&amp;l...</td>\n",
       "    </tr>\n",
       "    <tr>\n",
       "      <th>25</th>\n",
       "      <td>2020.12.23.</td>\n",
       "      <td>자랑하고싶던 강릉 맛집 리스트</td>\n",
       "      <td>https://blog.naver.com/jisunny1215?Redirect=Lo...</td>\n",
       "    </tr>\n",
       "    <tr>\n",
       "      <th>26</th>\n",
       "      <td>2020.12.30.</td>\n",
       "      <td>마음에 들었던 강릉 주문진 맛집 모음</td>\n",
       "      <td>https://blog.naver.com/ozoz1128?Redirect=Log&amp;l...</td>\n",
       "    </tr>\n",
       "    <tr>\n",
       "      <th>27</th>\n",
       "      <td>2020.12.20.</td>\n",
       "      <td>최고였던 강릉 먹거리</td>\n",
       "      <td>https://blog.naver.com/corea_hyun?Redirect=Log...</td>\n",
       "    </tr>\n",
       "    <tr>\n",
       "      <th>28</th>\n",
       "      <td>2020.12.24.</td>\n",
       "      <td>계속 가고 싶은 강릉역 맛집 리스트</td>\n",
       "      <td>https://blog.naver.com/selee0000?Redirect=Log&amp;...</td>\n",
       "    </tr>\n",
       "    <tr>\n",
       "      <th>29</th>\n",
       "      <td>2020.12.30.</td>\n",
       "      <td>강릉 통일공원 함정전시관</td>\n",
       "      <td>https://blog.naver.com/han4869?Redirect=Log&amp;lo...</td>\n",
       "    </tr>\n",
       "  </tbody>\n",
       "</table>\n",
       "</div>"
      ],
      "text/plain": [
       "          dates                          title  \\\n",
       "0   2020.12.17.               드라이브로 강릉 가볼만한곳 6   \n",
       "1   2020.12.25.           강릉 가볼만한곳 정동진부터 당일 5곳   \n",
       "2   2020.12.29.                 신선하게 즐겼던 강릉 횟집   \n",
       "3   2020.12.31.            엄선해본 강원도 강릉 맛집 LIST   \n",
       "4   2020.12.29.             다채로웠던 강릉 맛집 추천 리스트   \n",
       "5   2020.12.26.          광고가 아닌 강릉 횟집 경포대 환호횟집   \n",
       "6   2020.12.26.                   단번에 빠졌던 강릉횟집   \n",
       "7   2020.12.26.                     행복했던 강릉 횟집   \n",
       "8   2020.11.28.                겨울에 강릉 가볼만한곳 모음   \n",
       "9   2020.12.25.                강릉 회센터 회 맛집이구만!   \n",
       "10  2020.12.21.                     가치있는 강릉 횟집   \n",
       "11  2020.12.25.            싱싱했던 강릉 포장 맛집 list5   \n",
       "12  2020.12.31.                 마음갔던 강릉 맛집 리스트   \n",
       "13  2020.12.30.                     강렬했던 강릉 횟집   \n",
       "14  2020.12.22.     강릉 생선구이 맛집 / 등대수산 주문진항 근처!   \n",
       "15  2020.12.17.                  찐이었던 강릉안목해변맛집   \n",
       "16  2020.12.18.                 강릉 시내 맛집 흡족스러워   \n",
       "17  2020.12.15.            예술적인 강릉 대방어 회포장 총정리   \n",
       "18  2020.12.31.               기쁨 주는 강릉 맛집 LIST   \n",
       "19  2020.12.26.                 넘사벽이었던 강릉맛집 모음   \n",
       "20  2020.12.26.                 맛과 정성의 강릉맛집 모음   \n",
       "21  2020.12.26.  강릉 중앙시장 먹거리 주차장 월화거리 꼼꼼히 둘러보기   \n",
       "22  2020.12.18.             감탄했던 강릉 중앙시장 맛집 모음   \n",
       "23  2020.12.30.               호화스러운 강릉 강문해변 맛집   \n",
       "24  2020.12.29.      생생정보에 나온 강릉 조개구이 무한리필 어디?   \n",
       "25  2020.12.23.               자랑하고싶던 강릉 맛집 리스트   \n",
       "26  2020.12.30.           마음에 들었던 강릉 주문진 맛집 모음   \n",
       "27  2020.12.20.                    최고였던 강릉 먹거리   \n",
       "28  2020.12.24.            계속 가고 싶은 강릉역 맛집 리스트   \n",
       "29  2020.12.30.                  강릉 통일공원 함정전시관   \n",
       "\n",
       "                                                 urls  \n",
       "0   https://blog.naver.com/nailstan?Redirect=Log&l...  \n",
       "1   https://blog.naver.com/tcacyc?Redirect=Log&log...  \n",
       "2               https://dlfauddl.blog.me/222189422030  \n",
       "3   https://blog.naver.com/opop525?Redirect=Log&lo...  \n",
       "4   https://blog.naver.com/hangilchi?Redirect=Log&...  \n",
       "5   https://blog.naver.com/river0703?Redirect=Log&...  \n",
       "6   https://blog.naver.com/llzzinll?Redirect=Log&l...  \n",
       "7   https://blog.naver.com/amanda_som?Redirect=Log...  \n",
       "8   https://blog.naver.com/ultrabat?Redirect=Log&l...  \n",
       "9   https://blog.naver.com/amore_bh?Redirect=Log&l...  \n",
       "10            https://hoi1004226.blog.me/222180665442  \n",
       "11  https://blog.naver.com/meeae80?Redirect=Log&lo...  \n",
       "12              https://arum0825.blog.me/222190877799  \n",
       "13  https://blog.naver.com/voyage_iny?Redirect=Log...  \n",
       "14  https://blog.naver.com/jjubi77?Redirect=Log&lo...  \n",
       "15  https://blog.naver.com/hai33?Redirect=Log&logN...  \n",
       "16  https://blog.naver.com/sosotaya2?Redirect=Log&...  \n",
       "17  https://blog.naver.com/hogengggy?Redirect=Log&...  \n",
       "18              https://horong95.blog.me/222191202147  \n",
       "19  https://blog.naver.com/asdffggg2?Redirect=Log&...  \n",
       "20  https://blog.naver.com/candypowder?Redirect=Lo...  \n",
       "21  https://blog.naver.com/ultrabat?Redirect=Log&l...  \n",
       "22  https://blog.naver.com/zzanguna?Redirect=Log&l...  \n",
       "23  https://blog.naver.com/noola0728?Redirect=Log&...  \n",
       "24  https://blog.naver.com/friday77?Redirect=Log&l...  \n",
       "25  https://blog.naver.com/jisunny1215?Redirect=Lo...  \n",
       "26  https://blog.naver.com/ozoz1128?Redirect=Log&l...  \n",
       "27  https://blog.naver.com/corea_hyun?Redirect=Log...  \n",
       "28  https://blog.naver.com/selee0000?Redirect=Log&...  \n",
       "29  https://blog.naver.com/han4869?Redirect=Log&lo...  "
      ]
     },
     "execution_count": 258,
     "metadata": {},
     "output_type": "execute_result"
    }
   ],
   "source": [
    "pd.DataFrame(df_dict)"
   ]
  },
  {
   "cell_type": "markdown",
   "metadata": {},
   "source": [
    "### 저장"
   ]
  },
  {
   "cell_type": "code",
   "execution_count": 232,
   "metadata": {
    "ExecuteTime": {
     "end_time": "2021-01-08T06:08:19.822234Z",
     "start_time": "2021-01-08T06:05:58.167458Z"
    }
   },
   "outputs": [
    {
     "name": "stderr",
     "output_type": "stream",
     "text": [
      "C:\\Users\\User\\Anaconda3\\lib\\site-packages\\ipykernel_launcher.py:4: TqdmDeprecationWarning: This function will be removed in tqdm==5.0.0\n",
      "Please use `tqdm.notebook.tqdm` instead of `tqdm.tqdm_notebook`\n",
      "  after removing the cwd from sys.path.\n"
     ]
    },
    {
     "data": {
      "application/vnd.jupyter.widget-view+json": {
       "model_id": "88a2375cd63c4992b7e88f725bc48ac4",
       "version_major": 2,
       "version_minor": 0
      },
      "text/plain": [
       "HBox(children=(FloatProgress(value=1.0, bar_style='info', max=1.0), HTML(value='')))"
      ]
     },
     "metadata": {},
     "output_type": "display_data"
    },
    {
     "name": "stdout",
     "output_type": "stream",
     "text": [
      "가져오기에러 73번째 list index out of range\n",
      "가져오기에러 93번째 list index out of range\n",
      "가져오기에러 98번째 list index out of range\n",
      "가져오기에러 99번째 list index out of range\n",
      "가져오기에러 221번째 list index out of range\n",
      "가져오기에러 235번째 list index out of range\n",
      "가져오기에러 245번째 list index out of range\n",
      "가져오기에러 259번째 list index out of range\n",
      "가져오기에러 284번째 list index out of range\n",
      "가져오기에러 314번째 list index out of range\n",
      "가져오기에러 325번째 list index out of range\n",
      "가져오기에러 336번째 list index out of range\n",
      "가져오기에러 337번째 list index out of range\n",
      "가져오기에러 358번째 list index out of range\n",
      "가져오기에러 359번째 list index out of range\n",
      "가져오기에러 419번째 list index out of range\n",
      "가져오기에러 471번째 list index out of range\n",
      "가져오기에러 480번째 list index out of range\n",
      "가져오기에러 493번째 list index out of range\n",
      "가져오기에러 518번째 list index out of range\n",
      "가져오기에러 602번째 list index out of range\n",
      "가져오기에러 628번째 list index out of range\n",
      "\n"
     ]
    }
   ],
   "source": [
    "# 본문가져오기\n",
    "output_error = []\n",
    "texts = []\n",
    "for i, url in tqdm_notebook(enumerate(blog_urls['urls'])):\n",
    "    count = i\n",
    "    try:\n",
    "        # 블로그 url안에 들어가기(아직 크롤링불가)\n",
    "        get_blog_post_content_code = requests.get(url)\n",
    "        get_blog_post_content_text = get_blog_post_content_code.text\n",
    "        get_blog_post_content_soup = BeautifulSoup(\n",
    "            get_blog_post_content_text, 'lxml')\n",
    "\n",
    "        # 크롤링가능한 url에 접속\n",
    "        real_blog_post_url = \"http://blog.naver.com\" + get_blog_post_content_soup.select('#mainFrame')[0].get('src')\n",
    "        get_real_blog_post_content_code = requests.get(real_blog_post_url)\n",
    "        get_real_blog_post_content_text = get_real_blog_post_content_code.text\n",
    "        get_real_blog_post_content_soup = BeautifulSoup(get_real_blog_post_content_text, 'lxml')\n",
    "\n",
    "        # 본문  (postviewarea 패턴과 se-main-container 2가지 유형이 있어 분리함)\n",
    "        try:\n",
    "            blog_post_content = get_real_blog_post_content_soup.select('div.se-main-container')\n",
    "            if len(blog_post_content) == 0:\n",
    "                blog_post_content = get_real_blog_post_content_soup.select('div#postViewArea')\n",
    "                if len(blog_post_content) == 0:\n",
    "                    blog_post_content = get_real_blog_post_content_soup.select('div.se_component_wrap.sect_dsc.__se_component_area')\n",
    "\n",
    "            string = \"\"\n",
    "            for sentence in blog_post_content[0].stripped_strings:\n",
    "                try :\n",
    "                    string += \" \"+sentence.replace('\\xa0', \" \")\n",
    "                except :\n",
    "                    pass\n",
    "                # 비언어 텍스트제거\n",
    "            string = del_outword(string)\n",
    "            # 공백에러대처\n",
    "            blank_check = string.replace(\" \", \"\")\n",
    "            if len(blank_check) == 0:\n",
    "                texts.append([\"X\"])\n",
    "            else:\n",
    "                texts.append([string])\n",
    "            count += 1\n",
    "        except Exception as ex:\n",
    "            print('url_load_error')\n",
    "            texts.append([\"X\"])\n",
    "            output_error.append(count)\n",
    "            count += 1\n",
    "\n",
    "    except Exception as ex:\n",
    "        print('가져오기에러 {num}번째'.format(num=count), ex)\n",
    "        output_error.append(count)\n",
    "        count += 1\n",
    "        pass"
   ]
  },
  {
   "cell_type": "code",
   "execution_count": 233,
   "metadata": {
    "ExecuteTime": {
     "end_time": "2021-01-08T06:08:21.962719Z",
     "start_time": "2021-01-08T06:08:21.958718Z"
    }
   },
   "outputs": [
    {
     "data": {
      "text/plain": [
       "630"
      ]
     },
     "execution_count": 233,
     "metadata": {},
     "output_type": "execute_result"
    }
   ],
   "source": [
    "len(blog_urls['dates'])"
   ]
  },
  {
   "cell_type": "code",
   "execution_count": 235,
   "metadata": {
    "ExecuteTime": {
     "end_time": "2021-01-08T06:08:34.551728Z",
     "start_time": "2021-01-08T06:08:34.548727Z"
    }
   },
   "outputs": [
    {
     "data": {
      "text/plain": [
       "22"
      ]
     },
     "execution_count": 235,
     "metadata": {},
     "output_type": "execute_result"
    }
   ],
   "source": [
    "len(output_error)"
   ]
  },
  {
   "cell_type": "code",
   "execution_count": 236,
   "metadata": {
    "ExecuteTime": {
     "end_time": "2021-01-08T06:08:53.249260Z",
     "start_time": "2021-01-08T06:08:53.245259Z"
    }
   },
   "outputs": [
    {
     "data": {
      "text/plain": [
       "608"
      ]
     },
     "execution_count": 236,
     "metadata": {},
     "output_type": "execute_result"
    }
   ],
   "source": [
    "len(texts)"
   ]
  },
  {
   "cell_type": "code",
   "execution_count": 158,
   "metadata": {
    "ExecuteTime": {
     "end_time": "2021-01-08T01:55:37.703709Z",
     "start_time": "2021-01-08T01:55:37.698708Z"
    }
   },
   "outputs": [],
   "source": [
    "#후처리 및 dataframe 생성\n",
    "df = pd.DataFrame(blog_urls)\n",
    "df = df.drop(output_error)\n",
    "df['text'] = texts\n",
    "lenght = df.shape[0]\n",
    "\n",
    "#저장\n",
    "if save == True:\n",
    "    today = datetime.datetime.today().date()\n",
    "    str(today)\n",
    "    os.makedirs(f'./new_output/{keyword}',exist_ok=True)\n",
    "    df.to_csv(f'./new_output/{keyword}/{date_from}~{date_to}_{keyword}_{lenght}_{today}.csv',index=False)"
   ]
  }
 ],
 "metadata": {
  "kernelspec": {
   "display_name": "Python 3",
   "language": "python",
   "name": "python3"
  },
  "language_info": {
   "codemirror_mode": {
    "name": "ipython",
    "version": 3
   },
   "file_extension": ".py",
   "mimetype": "text/x-python",
   "name": "python",
   "nbconvert_exporter": "python",
   "pygments_lexer": "ipython3",
   "version": "3.6.5"
  },
  "toc": {
   "base_numbering": 1,
   "nav_menu": {},
   "number_sections": true,
   "sideBar": true,
   "skip_h1_title": false,
   "title_cell": "Table of Contents",
   "title_sidebar": "Contents",
   "toc_cell": false,
   "toc_position": {},
   "toc_section_display": true,
   "toc_window_display": false
  },
  "varInspector": {
   "cols": {
    "lenName": 16,
    "lenType": 16,
    "lenVar": 40
   },
   "kernels_config": {
    "python": {
     "delete_cmd_postfix": "",
     "delete_cmd_prefix": "del ",
     "library": "var_list.py",
     "varRefreshCmd": "print(var_dic_list())"
    },
    "r": {
     "delete_cmd_postfix": ") ",
     "delete_cmd_prefix": "rm(",
     "library": "var_list.r",
     "varRefreshCmd": "cat(var_dic_list()) "
    }
   },
   "types_to_exclude": [
    "module",
    "function",
    "builtin_function_or_method",
    "instance",
    "_Feature"
   ],
   "window_display": false
  }
 },
 "nbformat": 4,
 "nbformat_minor": 2
}

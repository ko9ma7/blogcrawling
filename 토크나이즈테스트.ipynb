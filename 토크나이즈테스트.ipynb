{
 "cells": [
  {
   "cell_type": "code",
   "execution_count": 1,
   "metadata": {
    "ExecuteTime": {
     "end_time": "2020-04-23T05:56:25.211885Z",
     "start_time": "2020-04-23T05:56:24.770786Z"
    }
   },
   "outputs": [
    {
     "name": "stderr",
     "output_type": "stream",
     "text": [
      "C:\\Users\\User\\Anaconda3\\lib\\site-packages\\jpype\\_core.py:217: UserWarning: \n",
      "-------------------------------------------------------------------------------\n",
      "Deprecated: convertStrings was not specified when starting the JVM. The default\n",
      "behavior in JPype will be False starting in JPype 0.8. The recommended setting\n",
      "for new code is convertStrings=False.  The legacy value of True was assumed for\n",
      "this session. If you are a user of an application that reported this warning,\n",
      "please file a ticket with the developer.\n",
      "-------------------------------------------------------------------------------\n",
      "\n",
      "  \"\"\")\n"
     ]
    }
   ],
   "source": [
    "from konlpy.tag import Komoran,Kkma,Okt,Twitter  # 자연어처리\n",
    "okt = Okt()"
   ]
  },
  {
   "cell_type": "code",
   "execution_count": 4,
   "metadata": {
    "ExecuteTime": {
     "end_time": "2020-04-23T05:56:54.665416Z",
     "start_time": "2020-04-23T05:56:54.651413Z"
    }
   },
   "outputs": [
    {
     "data": {
      "text/plain": [
       "[('솔솔', 'Noun'),\n",
       " ('솔향', 'Noun'),\n",
       " ('이나', 'Noun'),\n",
       " ('는', 'Josa'),\n",
       " ('소리', 'Noun'),\n",
       " (',', 'Punctuation'),\n",
       " ('솔', 'Noun'),\n",
       " ('비치', 'Noun'),\n",
       " (',', 'Punctuation'),\n",
       " ('쏠', 'Noun'),\n",
       " ('비치', 'Noun')]"
      ]
     },
     "execution_count": 4,
     "metadata": {},
     "output_type": "execute_result"
    }
   ],
   "source": [
    "okt.pos(\"솔솔 솔향이나는 소리, 솔비치,쏠비치\")"
   ]
  },
  {
   "cell_type": "markdown",
   "metadata": {
    "ExecuteTime": {
     "end_time": "2020-04-21T06:37:07.238908Z",
     "start_time": "2020-04-21T06:37:07.236917Z"
    }
   },
   "source": [
    "* 가면이면 무조건 명사\n",
    "* 주문진과 주문은 구분하는듯 "
   ]
  },
  {
   "cell_type": "code",
   "execution_count": 2,
   "metadata": {
    "ExecuteTime": {
     "end_time": "2020-04-21T06:35:22.345814Z",
     "start_time": "2020-04-21T06:35:20.657723Z"
    }
   },
   "outputs": [
    {
     "data": {
      "text/plain": [
       "[('강릉', 'Noun'),\n",
       " ('에', 'Josa'),\n",
       " ('가면', 'Noun'),\n",
       " ('떡볶이', 'Noun'),\n",
       " ('를', 'Josa'),\n",
       " ('먹어야해', 'Verb')]"
      ]
     },
     "execution_count": 2,
     "metadata": {},
     "output_type": "execute_result"
    }
   ],
   "source": [
    "okt.pos(\"강릉에 가면 떡볶이를 먹어야해\")"
   ]
  },
  {
   "cell_type": "code",
   "execution_count": 3,
   "metadata": {
    "ExecuteTime": {
     "end_time": "2020-04-21T06:35:34.737669Z",
     "start_time": "2020-04-21T06:35:34.722665Z"
    }
   },
   "outputs": [
    {
     "data": {
      "text/plain": [
       "[('강릉', 'Noun'),\n",
       " ('가면', 'Noun'),\n",
       " ('떡볶이', 'Noun'),\n",
       " ('를', 'Josa'),\n",
       " ('먹어야해', 'Verb')]"
      ]
     },
     "execution_count": 3,
     "metadata": {},
     "output_type": "execute_result"
    }
   ],
   "source": [
    "okt.pos(\"강릉가면 떡볶이를 먹어야해\")"
   ]
  },
  {
   "cell_type": "code",
   "execution_count": 4,
   "metadata": {
    "ExecuteTime": {
     "end_time": "2020-04-21T06:36:46.057577Z",
     "start_time": "2020-04-21T06:36:46.034571Z"
    }
   },
   "outputs": [
    {
     "data": {
      "text/plain": [
       "[('가면', 'Noun'),\n",
       " ('을', 'Josa'),\n",
       " ('쓰고', 'Verb'),\n",
       " ('떡볶이', 'Noun'),\n",
       " ('를', 'Josa'),\n",
       " ('먹으러', 'Verb'),\n",
       " ('가면', 'Noun'),\n",
       " (',', 'Punctuation'),\n",
       " ('가면', 'Noun'),\n",
       " ('을', 'Josa'),\n",
       " ('벗고', 'Verb'),\n",
       " ('가는게', 'Verb'),\n",
       " ('나을까', 'Verb'),\n",
       " ('?', 'Punctuation'),\n",
       " ('가면', 'Noun'),\n",
       " ('을', 'Josa'),\n",
       " ('쓰고가면', 'Verb'),\n",
       " ('가면', 'Noun'),\n",
       " ('을', 'Josa'),\n",
       " ('둘데가', 'Verb'),\n",
       " ('없겠지', 'Adjective')]"
      ]
     },
     "execution_count": 4,
     "metadata": {},
     "output_type": "execute_result"
    }
   ],
   "source": [
    "okt.pos(\"가면을쓰고 떡볶이를 먹으러가면, 가면을 벗고 가는게 나을까? 가면을 쓰고가면 가면을 둘데가 없겠지\")"
   ]
  },
  {
   "cell_type": "code",
   "execution_count": 8,
   "metadata": {
    "ExecuteTime": {
     "end_time": "2020-04-21T06:38:30.794446Z",
     "start_time": "2020-04-21T06:38:30.780451Z"
    }
   },
   "outputs": [
    {
     "data": {
      "text/plain": [
       "[('주문진', 'Noun'),\n",
       " ('에가', 'Josa'),\n",
       " ('는', 'Verb'),\n",
       " ('주문', 'Noun'),\n",
       " ('을', 'Josa'),\n",
       " ('걸어줄께', 'Verb'),\n",
       " ('주문', 'Noun'),\n",
       " ('받아라', 'Verb'),\n",
       " ('!', 'Punctuation'),\n",
       " ('주문진', 'Noun'),\n",
       " ('에가', 'Josa'),\n",
       " ('서', 'Verb'),\n",
       " ('해', 'Noun'),\n",
       " ('뜨는거', 'Verb'),\n",
       " ('보고와서', 'Verb'),\n",
       " ('주문진', 'Noun'),\n",
       " ('또', 'Noun'),\n",
       " ('가고싶을꺼야', 'Verb')]"
      ]
     },
     "execution_count": 8,
     "metadata": {},
     "output_type": "execute_result"
    }
   ],
   "source": [
    "okt.pos(\"주문진에가는 주문을 걸어줄께 주문받아라! 주문진에가서 해뜨는거 보고와서 주문진 또가고싶을꺼야\")"
   ]
  },
  {
   "cell_type": "code",
   "execution_count": 9,
   "metadata": {
    "ExecuteTime": {
     "end_time": "2020-04-21T06:42:14.319899Z",
     "start_time": "2020-04-21T06:42:14.314899Z"
    }
   },
   "outputs": [
    {
     "data": {
      "text/plain": [
       "[('호캉스', 'Noun')]"
      ]
     },
     "execution_count": 9,
     "metadata": {},
     "output_type": "execute_result"
    }
   ],
   "source": [
    "okt.pos(\"호캉스\")"
   ]
  },
  {
   "cell_type": "code",
   "execution_count": 11,
   "metadata": {
    "ExecuteTime": {
     "end_time": "2020-04-21T08:06:08.934145Z",
     "start_time": "2020-04-21T08:06:08.922143Z"
    }
   },
   "outputs": [
    {
     "data": {
      "text/plain": [
       "[('하', 'Exclamation'),\n",
       " ('조대', 'Noun'),\n",
       " (',', 'Punctuation'),\n",
       " ('상조', 'Noun'),\n",
       " ('대', 'Suffix'),\n",
       " (',', 'Punctuation'),\n",
       " ('중조', 'Noun'),\n",
       " ('대', 'Suffix'),\n",
       " (',', 'Punctuation'),\n",
       " ('그걸', 'Adverb'),\n",
       " ('다', 'Adverb'),\n",
       " ('나누겠지', 'Verb'),\n",
       " (',', 'Punctuation'),\n",
       " ('하', 'Exclamation'),\n",
       " ('광', 'Noun'),\n",
       " ('정리', 'Noun'),\n",
       " (',', 'Punctuation'),\n",
       " ('상광', 'Noun'),\n",
       " ('정리', 'Noun'),\n",
       " (',', 'Punctuation'),\n",
       " ('중광', 'Noun'),\n",
       " ('정리', 'Noun'),\n",
       " ('도', 'Josa'),\n",
       " ('마찬가지', 'Noun'),\n",
       " ('지', 'Josa')]"
      ]
     },
     "execution_count": 11,
     "metadata": {},
     "output_type": "execute_result"
    }
   ],
   "source": [
    "okt.pos(\"하조대, 상조대, 중조대, 그걸 다 나누겠지,하광정리, 상광정리, 중광정리도 마찬가지지\")"
   ]
  },
  {
   "cell_type": "code",
   "execution_count": null,
   "metadata": {},
   "outputs": [],
   "source": []
  }
 ],
 "metadata": {
  "kernelspec": {
   "display_name": "Python 3",
   "language": "python",
   "name": "python3"
  },
  "language_info": {
   "codemirror_mode": {
    "name": "ipython",
    "version": 3
   },
   "file_extension": ".py",
   "mimetype": "text/x-python",
   "name": "python",
   "nbconvert_exporter": "python",
   "pygments_lexer": "ipython3",
   "version": "3.6.5"
  },
  "varInspector": {
   "cols": {
    "lenName": 16,
    "lenType": 16,
    "lenVar": 40
   },
   "kernels_config": {
    "python": {
     "delete_cmd_postfix": "",
     "delete_cmd_prefix": "del ",
     "library": "var_list.py",
     "varRefreshCmd": "print(var_dic_list())"
    },
    "r": {
     "delete_cmd_postfix": ") ",
     "delete_cmd_prefix": "rm(",
     "library": "var_list.r",
     "varRefreshCmd": "cat(var_dic_list()) "
    }
   },
   "types_to_exclude": [
    "module",
    "function",
    "builtin_function_or_method",
    "instance",
    "_Feature"
   ],
   "window_display": false
  }
 },
 "nbformat": 4,
 "nbformat_minor": 2
}

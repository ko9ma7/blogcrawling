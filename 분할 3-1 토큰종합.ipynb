{
 "cells": [
  {
   "cell_type": "code",
   "execution_count": 12,
   "metadata": {
    "ExecuteTime": {
     "end_time": "2020-06-01T05:59:33.539556Z",
     "start_time": "2020-06-01T05:59:33.536555Z"
    }
   },
   "outputs": [],
   "source": [
    "import pandas as pd\n",
    "import numpy as np\n",
    "import os\n",
    "from tqdm import tqdm, tqdm_notebook,tqdm_pandas\n",
    "import itertools\n",
    "import re"
   ]
  },
  {
   "cell_type": "code",
   "execution_count": 2,
   "metadata": {
    "ExecuteTime": {
     "end_time": "2020-06-01T05:59:01.529200Z",
     "start_time": "2020-06-01T05:59:01.527198Z"
    }
   },
   "outputs": [],
   "source": [
    "path = 'D:/Python/블로그크롤링/output/token/'\n",
    "file_list = os.listdir(path)"
   ]
  },
  {
   "cell_type": "code",
   "execution_count": 3,
   "metadata": {
    "ExecuteTime": {
     "end_time": "2020-06-01T05:59:04.000755Z",
     "start_time": "2020-06-01T05:59:01.530199Z"
    }
   },
   "outputs": [
    {
     "name": "stderr",
     "output_type": "stream",
     "text": [
      "C:\\Users\\User\\Anaconda3\\lib\\site-packages\\ipykernel_launcher.py:2: TqdmDeprecationWarning: This function will be removed in tqdm==5.0.0\n",
      "Please use `tqdm.notebook.tqdm` instead of `tqdm.tqdm_notebook`\n",
      "  \n"
     ]
    },
    {
     "data": {
      "application/vnd.jupyter.widget-view+json": {
       "model_id": "71fdb38a0c184a1fa919be23b5516916",
       "version_major": 2,
       "version_minor": 0
      },
      "text/plain": [
       "HBox(children=(FloatProgress(value=0.0, max=8.0), HTML(value='')))"
      ]
     },
     "metadata": {},
     "output_type": "display_data"
    },
    {
     "name": "stdout",
     "output_type": "stream",
     "text": [
      "\n"
     ]
    }
   ],
   "source": [
    "all_df = pd.DataFrame()\n",
    "for file in tqdm_notebook(file_list):\n",
    "    read_file = pd.read_csv(path + file)\n",
    "    all_df = pd.concat([all_df,read_file])"
   ]
  },
  {
   "cell_type": "markdown",
   "metadata": {},
   "source": [
    "### 강릉꺼 1개 샘플진행"
   ]
  },
  {
   "cell_type": "code",
   "execution_count": 4,
   "metadata": {
    "ExecuteTime": {
     "end_time": "2020-06-01T05:59:04.029762Z",
     "start_time": "2020-06-01T05:59:04.002756Z"
    }
   },
   "outputs": [],
   "source": [
    "all_df = all_df.reset_index(drop=True)\n",
    "all_df = all_df.iloc[:,2:]"
   ]
  },
  {
   "cell_type": "code",
   "execution_count": 5,
   "metadata": {
    "ExecuteTime": {
     "end_time": "2020-06-01T05:59:04.035764Z",
     "start_time": "2020-06-01T05:59:04.031762Z"
    }
   },
   "outputs": [],
   "source": [
    "all_df = all_df.iloc[:81699]"
   ]
  },
  {
   "cell_type": "code",
   "execution_count": 6,
   "metadata": {
    "ExecuteTime": {
     "end_time": "2020-06-01T05:59:08.091678Z",
     "start_time": "2020-06-01T05:59:04.036764Z"
    }
   },
   "outputs": [],
   "source": [
    "origin_df = pd.read_csv('D:/Python/블로그크롤링/output/크롤링/통합/강릉_통합_81699.csv')"
   ]
  },
  {
   "cell_type": "code",
   "execution_count": 7,
   "metadata": {
    "ExecuteTime": {
     "end_time": "2020-06-01T05:59:08.121684Z",
     "start_time": "2020-06-01T05:59:08.092678Z"
    }
   },
   "outputs": [],
   "source": [
    "all_df = pd.concat([origin_df,all_df],axis=1)"
   ]
  },
  {
   "cell_type": "code",
   "execution_count": 8,
   "metadata": {
    "ExecuteTime": {
     "end_time": "2020-06-01T05:59:13.598919Z",
     "start_time": "2020-06-01T05:59:08.123685Z"
    }
   },
   "outputs": [],
   "source": [
    "# all_df.to_csv('강릉_토큰_81699.csv',index= False)"
   ]
  },
  {
   "cell_type": "code",
   "execution_count": 86,
   "metadata": {
    "ExecuteTime": {
     "end_time": "2020-06-01T07:13:48.476673Z",
     "start_time": "2020-06-01T07:13:46.121141Z"
    }
   },
   "outputs": [],
   "source": [
    "all_df = pd.read_csv('D:/Python/블로그크롤링/output/token_통합/강릉_토큰_81699.csv')"
   ]
  },
  {
   "cell_type": "markdown",
   "metadata": {},
   "source": [
    "### 연도별 gap 확인"
   ]
  },
  {
   "cell_type": "code",
   "execution_count": 87,
   "metadata": {
    "ExecuteTime": {
     "end_time": "2020-06-01T07:13:59.420199Z",
     "start_time": "2020-06-01T07:13:49.626000Z"
    },
    "scrolled": true
   },
   "outputs": [],
   "source": [
    "all_df = all_df.fillna(\"\")\n",
    "all_df['Noun'] = all_df['Noun'].apply(lambda x : re.sub(\"[\\[\\]' ]\",\"\",x).split(','))\n",
    "all_df['Adjective'] = all_df['Adjective'].apply(lambda x : re.sub(\"[\\[\\]' ]\",\"\",x).split(','))"
   ]
  },
  {
   "cell_type": "code",
   "execution_count": 165,
   "metadata": {
    "ExecuteTime": {
     "end_time": "2020-06-01T07:38:12.023990Z",
     "start_time": "2020-06-01T07:38:07.985079Z"
    }
   },
   "outputs": [],
   "source": [
    "#중복단어를 제거하지 않고 카운트\n",
    "noun_df = pd.DataFrame()\n",
    "adj_df = pd.DataFrame()\n",
    "\n",
    "for s_year in range(2010,2020):\n",
    "    word_year_df = all_df[all_df['year'] == s_year]\n",
    "\n",
    "    #명사\n",
    "    target_df = list(itertools.chain(*word_year_df['Noun']))\n",
    "    counted = pd.DataFrame(pd.Series(target_df).value_counts()).reset_index()\n",
    "    counted.columns = ['name','value']\n",
    "    \n",
    "    #제거단어 현재단어 강릉\n",
    "    drop_row = counted[counted['name'].isin(['강릉','강릉시','강원'])].index\n",
    "    counted.drop(drop_row,inplace = True)\n",
    "    counted = counted.head(15)\n",
    "    \n",
    "    counted['year'] = s_year\n",
    "    counted['rank'] = counted.value.rank(ascending = False)\n",
    "    noun_df = pd.concat([noun_df,counted])\n",
    "    \n",
    "    #형용사\n",
    "    target_df = list(itertools.chain(*word_year_df['Adjective']))\n",
    "    counted = pd.DataFrame(pd.Series(target_df).value_counts()).reset_index()\n",
    "    counted.columns = ['name','value']\n",
    "    \n",
    "    #제거단어 \n",
    "    drop_row = counted[counted['name'].isin(['이다'])].index\n",
    "    counted.drop(drop_row,inplace = True)\n",
    "    counted = counted.head(15)\n",
    "    \n",
    "    counted['year'] = s_year\n",
    "    counted['rank'] = counted.value.rank(ascending = False)\n",
    "    adj_df = pd.concat([adj_df,counted])"
   ]
  },
  {
   "cell_type": "markdown",
   "metadata": {},
   "source": [
    "### gap"
   ]
  },
  {
   "cell_type": "code",
   "execution_count": null,
   "metadata": {
    "ExecuteTime": {
     "end_time": "2020-06-01T07:38:16.131916Z",
     "start_time": "2020-06-01T07:38:15.736834Z"
    }
   },
   "outputs": [],
   "source": [
    "#명사\n",
    "noun_df['gap'] = 0\n",
    "for one_year in range(2011,2020):\n",
    "    names = noun_df.loc[(noun_df['year'] == one_year),\"name\"].values\n",
    "    for name in names:\n",
    "        try:\n",
    "            new_rank = noun_df.loc[(noun_df['year'] == one_year)&(noun_df['name']==name),'rank'].values[0]\n",
    "            old_rank = noun_df.loc[(noun_df['year'] == one_year-1)&(noun_df['name']==name),'rank'].values[0]\n",
    "            noun_df.loc[(noun_df['year'] == one_year)&(noun_df['name']==name),'gap'] = old_rank-new_rank\n",
    "        except :\n",
    "            noun_df.loc[(noun_df['year'] == one_year)&(noun_df['name']==name),'gap'] = \"NEW\"\n",
    "#형용사\n",
    "adj_df['gap'] = 0\n",
    "for one_year in range(2011,2020):\n",
    "    names = adj_df.loc[(adj_df['year'] == one_year),\"name\"].values\n",
    "    for name in names:\n",
    "        try:\n",
    "            new_rank = adj_df.loc[(adj_df['year'] == one_year)&(adj_df['name']==name),'rank'].values[0]\n",
    "            old_rank = adj_df.loc[(adj_df['year'] == one_year-1)&(adj_df['name']==name),'rank'].values[0]\n",
    "            adj_df.loc[(adj_df['year'] == one_year)&(adj_df['name']==name),'gap'] = old_rank-new_rank\n",
    "        except :\n",
    "            adj_df.loc[(adj_df['year'] == one_year)&(adj_df['name']==name),'gap'] = \"NEW\"\n",
    "\n",
    "noun_df.drop('rank',axis=1,inplace = True)\n",
    "adj_df.drop('rank',axis=1,inplace = True)\n",
    "\n",
    "noun_df.to_csv('연도별 명사카운트.csv',encoding = 'cp949',index = 'False')\n",
    "adj_df.to_csv('연도별 형용사카운트.csv',encoding = 'cp949',index = 'False')"
   ]
  },
  {
   "cell_type": "markdown",
   "metadata": {},
   "source": [
    "### 중복단어를 제거한다면\n",
    "* 중요단어들이 오히려 더 잘안나오므로 이보다는 중복단어가 있는편이 나은것으로 추정"
   ]
  },
  {
   "cell_type": "code",
   "execution_count": 72,
   "metadata": {
    "ExecuteTime": {
     "end_time": "2020-06-01T06:45:49.114039Z",
     "start_time": "2020-06-01T06:45:46.739504Z"
    }
   },
   "outputs": [],
   "source": [
    "# all_df['Noun'] = all_df['Noun'].apply(lambda x : list(set(x)))\n",
    "# all_df['Adjective'] = all_df['Adjective'].apply(lambda x : list(set(x)))\n",
    "\n",
    "# for s_year in range(2010,2020):\n",
    "#     word_year_df = all_df[all_df['year'] == s_year]\n",
    "\n",
    "#     #명사\n",
    "#     target_df = list(itertools.chain(*word_year_df['Noun']))\n",
    "#     counted = pd.DataFrame(pd.Series(target_df).value_counts().head(15)).reset_index()\n",
    "#     counted.columns = ['name','value']\n",
    "#     counted['year'] = s_year\n",
    "#     noun_df = pd.concat([noun_df,counted],axis= 1)\n",
    "#     #형용사\n",
    "#     target_df = list(itertools.chain(*word_year_df['Adjective']))\n",
    "#     counted = pd.DataFrame(pd.Series(target_df).value_counts().head(15)).reset_index()\n",
    "#     counted.columns = ['name','value']\n",
    "#     counted['year'] = s_year\n",
    "#     adj_df = pd.concat([adj_df,counted],axis= 1)"
   ]
  },
  {
   "cell_type": "markdown",
   "metadata": {},
   "source": [
    "### 확인용"
   ]
  },
  {
   "cell_type": "code",
   "execution_count": 42,
   "metadata": {
    "ExecuteTime": {
     "end_time": "2020-06-01T06:14:08.929198Z",
     "start_time": "2020-06-01T06:14:08.891190Z"
    }
   },
   "outputs": [
    {
     "data": {
      "text/plain": [
       "'[\" 가끔씩 이런 분들을 만나면 그래도 세상은 살만하구나, 생각하게 된다. 말하자면 양심이 살아있다는 말이 되기도 한다. 하도 험한 뉴스를 많이 보다보니 세상이 다 어떻게 되어 가는것이 아닌가 걱정할 때가 많은데 앞으로는 다 함께 행복해 지도록 좋은 뉴스를 더 많이 찾아내서 살기 좋은 세상임을 알리는 게 좋을 것 같다. \\'세상이 이런데 나 하나 쯤\\' 하는 막가는 생각을 갖지 않도록.... 내가 나를 용서할 수 있는 삶이 되어야 하지 않을까 양심이 무엇인지를 말해 주는 글이 있어 올려본다. 50년 전 운동화 훔친 60대 노인 속죄하고 싶다 500만원 기부 50년 전 여고에서 운동화 한  켤레를 훔쳤다가 평생 마음속 짐으로 안고 살던 60대 노인이 이 학교를 찾아가 500만원을 기부했다. 지난 1일 오전 10시 강원도 강릉시 강릉여자고등학교 교장실. 남루한 등산복 차림에 모자를 쓴 60대 후반 남성이 교장실로 들어섰다. 노인은 자리에 앉자마자 이 학교 시동진 교장에게 부끄러운 과거를 털어 놓으려고 왔다며 참회하는 표정으로 두툼한 흰색 편지 봉투 하나를 탁자에 꺼내 놓았다. 봉투속에는 은행에서 바로 찾은 듯한 5만원권 지폐 100장이 들어 있었다. 놀란 사 교장이 왜 이러시느냐고 묻자 노인은 1960년대 어려운 집안 형편으로 신문 배달을 하다 강릉여고 복도에 예쁜 운동화가 있어서 한 켤레를 훔쳤다고 말했다. 노인은 그 때 일이 50년 동안 평생 짐이 됐고 죄의식 속에 가슴이 무거워 속죄하는 마음으로 왔다며 욕심 때문에 운동화를 들고 집으로 왔지만 이제는 마음이 가벼워 지는 것 같다고 고백했다. 사 교장이 지금은 형편이 어떠시냐고 묻자 노인은 세끼 밥은 해결하고 산다고 말했다고 한다. 이어 가난해서 배우지 못했다며 이 돈이 어려운 학생들에게 전달됐으면 좋겠다고 말하고 10여분 만에 학교를 떠났다. 사 교장은 노인이 마지막으로  \\'이제는 마음이 후련하다\\'고 말하더라며 전교생을 대상으로 추천을 받아 11월 중에 어려운 학생에게 장학금을 전달할 계획이라고 말했다. 자신의 신분을 극구 밝히지 않은 노인은 강릉에 사는 최가(崔家)라는 말을 남겼다. 강릉    홍서표 기자\"]'"
      ]
     },
     "execution_count": 42,
     "metadata": {},
     "output_type": "execute_result"
    }
   ],
   "source": [
    "noun_2010[noun_2010['Noun'].apply(lambda x : '배달' in x)].iloc[5]['full_text']"
   ]
  }
 ],
 "metadata": {
  "kernelspec": {
   "display_name": "Python 3",
   "language": "python",
   "name": "python3"
  },
  "language_info": {
   "codemirror_mode": {
    "name": "ipython",
    "version": 3
   },
   "file_extension": ".py",
   "mimetype": "text/x-python",
   "name": "python",
   "nbconvert_exporter": "python",
   "pygments_lexer": "ipython3",
   "version": "3.6.5"
  },
  "varInspector": {
   "cols": {
    "lenName": 16,
    "lenType": 16,
    "lenVar": 40
   },
   "kernels_config": {
    "python": {
     "delete_cmd_postfix": "",
     "delete_cmd_prefix": "del ",
     "library": "var_list.py",
     "varRefreshCmd": "print(var_dic_list())"
    },
    "r": {
     "delete_cmd_postfix": ") ",
     "delete_cmd_prefix": "rm(",
     "library": "var_list.r",
     "varRefreshCmd": "cat(var_dic_list()) "
    }
   },
   "types_to_exclude": [
    "module",
    "function",
    "builtin_function_or_method",
    "instance",
    "_Feature"
   ],
   "window_display": false
  }
 },
 "nbformat": 4,
 "nbformat_minor": 2
}

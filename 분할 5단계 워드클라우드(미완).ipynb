{
 "cells": [
  {
   "cell_type": "code",
   "execution_count": 1,
   "metadata": {
    "ExecuteTime": {
     "end_time": "2020-06-05T06:05:12.859155Z",
     "start_time": "2020-06-05T06:05:04.654969Z"
    }
   },
   "outputs": [
    {
     "data": {
      "text/html": [
       "<style>.container {width:100% !important; }</style>"
      ],
      "text/plain": [
       "<IPython.core.display.HTML object>"
      ]
     },
     "metadata": {},
     "output_type": "display_data"
    }
   ],
   "source": [
    "# import\n",
    "import seaborn as sns\n",
    "import matplotlib.pyplot as plt\n",
    "\n",
    "from tqdm import tqdm_notebook  # 진행과정 시각화\n",
    "from datetime import timedelta  # 시간날짜\n",
    "import pandas as pd\n",
    "import numpy as np\n",
    "import gc\n",
    "import re\n",
    "\n",
    "import wordcloud\n",
    "from PIL import Image\n",
    "import random\n",
    "import os\n",
    "\n",
    "import imageio\n",
    "\n",
    "#한글깨짐방지\n",
    "plt.rc('font',family='Malgun Gothic')\n",
    "plt.rcParams['axes.unicode_minus'] = False\n",
    "\n",
    "from IPython.core.display import display, HTML\n",
    "display(HTML('<style>.container {width:100% !important; }</style>'))"
   ]
  },
  {
   "cell_type": "markdown",
   "metadata": {},
   "source": [
    "### load"
   ]
  },
  {
   "cell_type": "code",
   "execution_count": 83,
   "metadata": {
    "ExecuteTime": {
     "end_time": "2020-06-05T04:46:12.542070Z",
     "start_time": "2020-06-05T04:46:12.480055Z"
    }
   },
   "outputs": [],
   "source": [
    "sw = list(pd.read_excel(\"stopword(cp949).xlsx\",encoding = 'cp949')['불용어']) #불용어 불러오기\n",
    "path = './output/token_통합/'\n",
    "file_list = os.listdir(path)"
   ]
  },
  {
   "cell_type": "markdown",
   "metadata": {},
   "source": [
    "### sample"
   ]
  },
  {
   "cell_type": "code",
   "execution_count": 81,
   "metadata": {
    "ExecuteTime": {
     "end_time": "2020-06-05T04:45:37.400179Z",
     "start_time": "2020-06-05T04:45:33.828374Z"
    }
   },
   "outputs": [],
   "source": [
    "file = file_list[0]\n",
    "file_df = pd.read_csv(path+file)\n",
    "\n",
    "keyword = file.split('_')[0]"
   ]
  },
  {
   "cell_type": "code",
   "execution_count": 85,
   "metadata": {
    "ExecuteTime": {
     "end_time": "2020-06-05T04:47:24.085326Z",
     "start_time": "2020-06-05T04:47:24.082325Z"
    }
   },
   "outputs": [],
   "source": [
    "# 특정 키워드 전용 stopword 필요\n",
    "custom_sw = dict()\n",
    "custom_sw['강릉'] = ['강릉','강릉시']\n",
    "custom_sw['양양'] = ['양양','양양군']\n",
    "custom_sw['속초'] = ['속초','속초시']"
   ]
  },
  {
   "cell_type": "code",
   "execution_count": 147,
   "metadata": {
    "ExecuteTime": {
     "end_time": "2020-06-05T06:00:26.570451Z",
     "start_time": "2020-06-05T06:00:26.547447Z"
    }
   },
   "outputs": [],
   "source": [
    "def draw_wordcloud(df, stopword,custom_sw, keyword, options = \"all\"):\n",
    "    \n",
    "    #stopword\n",
    "    stopword.append(keyword)\n",
    "    stopword = stopword +custom_sw[keyword]\n",
    "    stopword = list(set(stopword))\n",
    "    \n",
    "    #flattern \n",
    "    df = df.fillna(\"\")\n",
    "    df['Noun'] = df['Noun'].apply(lambda x : re.sub(\"[\\[\\]' ]\",\"\",x).split(','))\n",
    "    df['Adjective'] = df['Adjective'].apply(lambda x : re.sub(\"[\\[\\]' ]\",\"\",x).split(','))\n",
    "    \n",
    "    all_noun_flatten = [y for x in df[\"Noun\"] for y in x]\n",
    "    all_adj_flatten = [y for x in df[\"Adjective\"] for y in x]\n",
    "    all_word_flatten = all_noun_flatten + all_adj_flatten\n",
    "    \n",
    "    if options == 'all':\n",
    "        all_word_flatten = all_noun_flatten + all_adj_flatten\n",
    "    elif options == 'noun':\n",
    "        all_word_flatten = [y for x in df[\"Noun\"] for y in x]\n",
    "    elif options == 'adjective':\n",
    "        all_adj_flatten = [y for x in df[\"Adjective\"] for y in x]\n",
    "    \n",
    "    years = df.year.unique()\n",
    "    if len(years) != 1:\n",
    "        last_year = years.max()\n",
    "        start_year = years.min()\n",
    "        time = '{s}~{l}'.format(s = start_year, l = last_year)\n",
    "    else :\n",
    "        time = years[0]\n",
    "    \n",
    "    # 워드클라우드\n",
    "    # 마스킹\n",
    "    img_path = \"vector-cloud-png.png\"\n",
    "    img = Image.open(img_path).convert('RGBA')\n",
    "    mask = Image.new(\"RGB\", img.size, (255, 255, 255))\n",
    "    mask.paste(img, img)\n",
    "    mask = np.array(mask)\n",
    "\n",
    "    text = ' '.join(all_word_flatten)\n",
    "\n",
    "    wordc = wordcloud.WordCloud(background_color='White', max_words=200,\n",
    "                                font_path='C:/Windows/Fonts/malgun.ttf',\n",
    "                                relative_scaling=0.5,\n",
    "                                stopwords=stopword,\n",
    "                                collocations=False,\n",
    "                                mask=mask)\n",
    "    wordc.generate(text)\n",
    "\n",
    "    def grey_color(word, font_size, position, orientation, random_state=None, **kwargs):\n",
    "        return 'hsl(%d,100%%,50%%)' % random.randint(200, 300)  # 색상 채도 밝기\n",
    "    wordc.recolor(color_func=grey_color, random_state=3)\n",
    "\n",
    "    # 그리기\n",
    "    plt.figure(figsize=(10, 10))\n",
    "    plt.axis('off')\n",
    "    plt.title(f'{keyword}_{time}_{options}',fontsize = 15)\n",
    "    plt.imshow(wordc, interpolation='bilinear')\n",
    "    \n",
    "    #저장\n",
    "    os.makedirs(f'./output/워드클라우드/{keyword}_{options}/',exist_ok=True)\n",
    "    plt.savefig(f'./output/워드클라우드/{keyword}_{options}/{keyword}_{time}_{options}.png')\n",
    "    plt.close()"
   ]
  },
  {
   "cell_type": "code",
   "execution_count": 148,
   "metadata": {
    "ExecuteTime": {
     "end_time": "2020-06-05T06:01:57.656674Z",
     "start_time": "2020-06-05T06:00:27.187590Z"
    },
    "scrolled": true
   },
   "outputs": [
    {
     "name": "stderr",
     "output_type": "stream",
     "text": [
      "C:\\Users\\User\\Anaconda3\\lib\\site-packages\\ipykernel_launcher.py:3: TqdmDeprecationWarning: This function will be removed in tqdm==5.0.0\n",
      "Please use `tqdm.notebook.tqdm` instead of `tqdm.tqdm_notebook`\n",
      "  This is separate from the ipykernel package so we can avoid doing imports until\n"
     ]
    },
    {
     "data": {
      "application/vnd.jupyter.widget-view+json": {
       "model_id": "0a7d281e5c7c4ac09f42d2bfed123f38",
       "version_major": 2,
       "version_minor": 0
      },
      "text/plain": [
       "HBox(children=(FloatProgress(value=0.0, description='year', max=10.0, style=ProgressStyle(description_width='i…"
      ]
     },
     "metadata": {},
     "output_type": "display_data"
    },
    {
     "name": "stdout",
     "output_type": "stream",
     "text": [
      "\n"
     ]
    }
   ],
   "source": [
    "#연차별 적용\n",
    "years = file_df.year.unique()\n",
    "for year in tqdm_notebook(years,desc = \"year\"):\n",
    "    sample = file_df[file_df['year'] == year]\n",
    "    draw_wordcloud(sample,sw,custom_sw,keyword)"
   ]
  },
  {
   "cell_type": "markdown",
   "metadata": {},
   "source": [
    "### gif 만들기\n",
    "* 2010년부터 2019까지 추이변화를 볼수 있는 특징이 있다"
   ]
  },
  {
   "cell_type": "code",
   "execution_count": 12,
   "metadata": {
    "ExecuteTime": {
     "end_time": "2020-06-05T07:43:26.857287Z",
     "start_time": "2020-06-05T07:43:26.853286Z"
    }
   },
   "outputs": [],
   "source": [
    "def make_gif(path):\n",
    "    '''\n",
    "    이미지 여러장이 들어있는 폴더를 input하면 gif를 만들어냄\n",
    "    jpg, png파일만 허용\n",
    "    '''\n",
    "    from PIL import Image\n",
    "    import os\n",
    "    import imageio\n",
    "    \n",
    "    file_list = os.listdir(path)\n",
    "    \n",
    "    #select png, jpg\n",
    "    png_ls =[]\n",
    "    for file in file_list:\n",
    "        if os.path.splitext(file)[1] in (['.png','.jpg']):\n",
    "            png_ls.append(file)\n",
    "    \n",
    "    #naming\n",
    "    main = png_ls[0].split('_')[0]\n",
    "    tail = png_ls[0].split('_')[2]\n",
    "    start = png_ls[0].split('_')[1]\n",
    "    end = png_ls[-1].split('_')[1]\n",
    "                                      \n",
    "    images = [np.array(Image.open(path+file)) for file in png_ls]\n",
    "    imageio.mimsave(f'./output/워드클라우드/{main}_{start}~{end}_tail.gif', images, fps=0.5)"
   ]
  },
  {
   "cell_type": "code",
   "execution_count": 13,
   "metadata": {
    "ExecuteTime": {
     "end_time": "2020-06-05T07:43:28.798725Z",
     "start_time": "2020-06-05T07:43:27.500432Z"
    }
   },
   "outputs": [],
   "source": [
    "path = \"./output/워드클라우드/강릉_all/\"\n",
    "make_gif(path)"
   ]
  },
  {
   "cell_type": "code",
   "execution_count": null,
   "metadata": {},
   "outputs": [],
   "source": []
  }
 ],
 "metadata": {
  "kernelspec": {
   "display_name": "Python 3",
   "language": "python",
   "name": "python3"
  },
  "language_info": {
   "codemirror_mode": {
    "name": "ipython",
    "version": 3
   },
   "file_extension": ".py",
   "mimetype": "text/x-python",
   "name": "python",
   "nbconvert_exporter": "python",
   "pygments_lexer": "ipython3",
   "version": "3.6.5"
  }
 },
 "nbformat": 4,
 "nbformat_minor": 2
}
